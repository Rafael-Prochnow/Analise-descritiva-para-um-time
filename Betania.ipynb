{
 "cells": [
  {
   "cell_type": "code",
   "execution_count": 1,
   "metadata": {},
   "outputs": [],
   "source": [
    "# Teste Bem legal de se fazer"
   ]
  },
  {
   "cell_type": "code",
   "execution_count": 2,
   "metadata": {},
   "outputs": [],
   "source": [
    "#import numpy as np\n",
    "import os\n",
    "import pandas as pd\n",
    "from datetime import datetime\n",
    "import datetime as dt\n",
    "import re\n",
    "#import seaborn as sns\n",
    "#import matplotlib.pyplot as plt"
   ]
  },
  {
   "cell_type": "code",
   "execution_count": 3,
   "metadata": {},
   "outputs": [
    {
     "ename": "NameError",
     "evalue": "name 'aaa' is not defined",
     "output_type": "error",
     "traceback": [
      "\u001b[1;31m---------------------------------------------------------------------------\u001b[0m",
      "\u001b[1;31mNameError\u001b[0m                                 Traceback (most recent call last)",
      "\u001b[1;32m<ipython-input-3-972a1a11f199>\u001b[0m in \u001b[0;36m<module>\u001b[1;34m\u001b[0m\n\u001b[1;32m----> 1\u001b[1;33m \u001b[0maaa\u001b[0m\u001b[1;33m\u001b[0m\u001b[1;33m\u001b[0m\u001b[0m\n\u001b[0m",
      "\u001b[1;31mNameError\u001b[0m: name 'aaa' is not defined"
     ]
    }
   ],
   "source": [
    "aaa"
   ]
  },
  {
   "cell_type": "markdown",
   "metadata": {
    "heading_collapsed": true
   },
   "source": [
    "# Parte 3"
   ]
  },
  {
   "cell_type": "code",
   "execution_count": null,
   "metadata": {
    "hidden": true
   },
   "outputs": [],
   "source": [
    "inf = [['Basquete Unifacisa', 'UFC', 'Unifacisa'], ['Bauru', 'BAU', 'Bauru'],\n",
    "       ['Cerrado Basquete', 'CEA', 'Cerrado'], ['Club Athletico Paulistano', 'PAU', 'Paulistano'],\n",
    "       ['Clube de Regatas do Flamengo', 'FLA', 'Flamengo'], ['EC Pinheiros', 'PIN', 'Pinheiros'],\n",
    "       ['Fortaleza B.C', 'FOT', 'Fortaleza'], ['Franca Basquete', 'FRA', 'Franca'],\n",
    "       ['Minas Tenis Clube', 'MIN', 'Minas'], ['Mogi das Cruzes', 'MOG', 'Mogi'],\n",
    "       ['Pato Basquete', 'PAT', 'Pato'], ['Sao Paulo Basquete', 'SPF', 'Paulo'],\n",
    "       ['SC Corinthians Paulista', 'SCC', 'Corinthians'], ['VipTech Campo Mourao Basquete', 'CMB', 'Mourao']]"
   ]
  },
  {
   "cell_type": "code",
   "execution_count": null,
   "metadata": {
    "hidden": true
   },
   "outputs": [],
   "source": []
  },
  {
   "cell_type": "code",
   "execution_count": null,
   "metadata": {
    "hidden": true
   },
   "outputs": [],
   "source": [
    "team_dict = []\n",
    "nomenclatura = ['full_name', 'abbreviation', 'nickname']\n",
    "for t in inf:\n",
    "    x = {}\n",
    "    for c, j in zip(nomenclatura , t):\n",
    "        x.update({c : j})\n",
    "    team_dict.append(x)"
   ]
  },
  {
   "cell_type": "code",
   "execution_count": null,
   "metadata": {
    "hidden": true
   },
   "outputs": [],
   "source": [
    "team_dict[0]"
   ]
  },
  {
   "cell_type": "code",
   "execution_count": null,
   "metadata": {
    "hidden": true
   },
   "outputs": [],
   "source": [
    "BKN = [team for team in team_dict if team['full_name'] == 'Basquete Unifacisa'][0]\n",
    "BKN['full_name']"
   ]
  },
  {
   "cell_type": "code",
   "execution_count": null,
   "metadata": {
    "hidden": true
   },
   "outputs": [],
   "source": [
    "pad = pd.DataFrame({'lista':[3, 5, 10, 1, 20, 12, 4]})\n",
    "pad"
   ]
  },
  {
   "cell_type": "code",
   "execution_count": null,
   "metadata": {
    "hidden": true
   },
   "outputs": [],
   "source": [
    "pad.sort_values('lista')"
   ]
  },
  {
   "cell_type": "code",
   "execution_count": null,
   "metadata": {
    "hidden": true
   },
   "outputs": [],
   "source": []
  },
  {
   "cell_type": "markdown",
   "metadata": {
    "heading_collapsed": true
   },
   "source": [
    "# Parte 2"
   ]
  },
  {
   "cell_type": "code",
   "execution_count": null,
   "metadata": {
    "hidden": true
   },
   "outputs": [],
   "source": [
    "primeiro_jogo = pd.read_excel('C:\\\\Users\\\\Elen- PC\\\\Desktop\\\\betania\\\\OKKKKKKKKKKKKK\\\\Bauru\\\\s23.xls')\n",
    "primeiro_jogo"
   ]
  },
  {
   "cell_type": "code",
   "execution_count": null,
   "metadata": {
    "hidden": true
   },
   "outputs": [],
   "source": [
    "for i, x in enumerate(primeiro_jogo['Minutos']):\n",
    "    try:\n",
    "        if re.findall(r'..:..:.........', x):\n",
    "            pass\n",
    "        else:\n",
    "            primeiro_jogo.loc[i, 'Minutos'] = x[0:8] + '.000000'\n",
    "        primeiro_jogo.loc[i, 'Minutos'] = datetime.strptime(primeiro_jogo['Minutos'][i], '%H:%M:%S.%f')\n",
    "        print('Tryyyyyy')\n",
    "        primeiro_jogo.loc[i, 'Minutos'] = (primeiro_jogo['Minutos'][i].hour * 60 +\n",
    "                                           primeiro_jogo['Minutos'][i].minute) * 60 + primeiro_jogo['Minutos'][\n",
    "                                              i].second\n",
    "    except TypeError:\n",
    "        primeiro_jogo.loc[i, 'Minutos'] = primeiro_jogo['Minutos'][i].hour * 60 + (primeiro_jogo['Minutos'][\n",
    "            i].minute * 60) + primeiro_jogo['Minutos'][i].second"
   ]
  },
  {
   "cell_type": "code",
   "execution_count": null,
   "metadata": {
    "hidden": true
   },
   "outputs": [],
   "source": [
    "primeiro_jogo['Minutos']"
   ]
  },
  {
   "cell_type": "code",
   "execution_count": null,
   "metadata": {
    "hidden": true
   },
   "outputs": [],
   "source": []
  },
  {
   "cell_type": "code",
   "execution_count": null,
   "metadata": {
    "hidden": true
   },
   "outputs": [],
   "source": []
  },
  {
   "cell_type": "code",
   "execution_count": null,
   "metadata": {
    "hidden": true
   },
   "outputs": [],
   "source": []
  },
  {
   "cell_type": "code",
   "execution_count": null,
   "metadata": {
    "hidden": true
   },
   "outputs": [],
   "source": [
    "aaaaaaaaaa"
   ]
  },
  {
   "cell_type": "code",
   "execution_count": null,
   "metadata": {
    "hidden": true
   },
   "outputs": [],
   "source": [
    "path = r'C:\\Users\\Elen- PC\\Desktop\\betania\\OKKKKKKKKKKKKK'\n",
    "files = os.listdir(path)\n",
    "files"
   ]
  },
  {
   "cell_type": "code",
   "execution_count": null,
   "metadata": {
    "hidden": true
   },
   "outputs": [],
   "source": [
    "dois_times = True\n",
    "\n",
    "\n",
    "if dois_times:\n",
    "    "
   ]
  },
  {
   "cell_type": "code",
   "execution_count": null,
   "metadata": {
    "hidden": true
   },
   "outputs": [],
   "source": []
  },
  {
   "cell_type": "code",
   "execution_count": null,
   "metadata": {
    "hidden": true
   },
   "outputs": [],
   "source": []
  },
  {
   "cell_type": "code",
   "execution_count": null,
   "metadata": {
    "hidden": true
   },
   "outputs": [],
   "source": []
  },
  {
   "cell_type": "code",
   "execution_count": null,
   "metadata": {
    "hidden": true
   },
   "outputs": [],
   "source": []
  },
  {
   "cell_type": "code",
   "execution_count": null,
   "metadata": {
    "hidden": true,
    "scrolled": true
   },
   "outputs": [],
   "source": [
    "contage = 1\n",
    "for k in files:\n",
    "    print(k)\n",
    "    nome = path + '\\\\' + k\n",
    "    files_cadatime = os.listdir(nome)\n",
    "    files_xlsx = [path + '\\\\' + k + '\\\\'+ f for f in files_cadatime if f[-4:] == ('.xls')]\n",
    "    files_xlsx = sorted(files_xlsx, key=len)\n",
    "    for i in files_xlsx:\n",
    "        if k == f'{k}':\n",
    "            if k == 'Club Athletico Paulistano':\n",
    "                df1 = pd.read_excel(i, sheet_name=f'{k}. BOXS')\n",
    "            elif k == 'Clube de Regatas do Flamengo':\n",
    "                df1 = pd.read_excel(i, sheet_name=f'{k}. B')\n",
    "            elif k == 'VipTech Campo Mourao Basquete':\n",
    "                df1 = pd.read_excel(i, sheet_name=f'{k}. ')\n",
    "            elif k == 'Fortaleza B.C':\n",
    "                df1 = pd.read_excel(i, sheet_name=f'{k}.. BOXSCORE')\n",
    "            elif k == 'SC Corinthians Paulista':\n",
    "                df1 = pd.read_excel(i, sheet_name=f'{k}. BOXSCO')\n",
    "            else:\n",
    "                df1 = pd.read_excel(i, sheet_name=f'{k}. BOXSCORE')"
   ]
  },
  {
   "cell_type": "code",
   "execution_count": null,
   "metadata": {
    "hidden": true
   },
   "outputs": [],
   "source": [
    "nome = path + '\\\\' + 'Bauru_ok'\n",
    "files_cadatime = os.listdir(nome)\n",
    "files_xlsx = [path + '\\\\' + f for f in files_cadatime if f[-4:] == ('.xls')]\n",
    "print(files_xlsx[0])"
   ]
  },
  {
   "cell_type": "code",
   "execution_count": null,
   "metadata": {
    "hidden": true
   },
   "outputs": [],
   "source": [
    "files_xlsx = [path + '\\\\' + f for f in files if f[-4:] == ('.xls')]\n",
    "files_xlsx = sorted(files_xlsx, key=len)"
   ]
  },
  {
   "cell_type": "code",
   "execution_count": null,
   "metadata": {
    "hidden": true
   },
   "outputs": [],
   "source": []
  },
  {
   "cell_type": "code",
   "execution_count": null,
   "metadata": {
    "hidden": true
   },
   "outputs": [],
   "source": [
    "path = r'C:\\Users\\Elen- PC\\Desktop\\betania\\OKKKKKKKKKKKKK\\Bauru_ok'\n",
    "files = os.listdir(path)\n",
    "files_xlsx = [path + '\\\\' + f for f in files if f[-4:] == ('.xls')]\n",
    "files_xlsx = sorted(files_xlsx, key=len)\n",
    "files_xlsx"
   ]
  },
  {
   "cell_type": "code",
   "execution_count": null,
   "metadata": {
    "hidden": true
   },
   "outputs": [],
   "source": [
    "df1 = pd.read_excel(files_xlsx[0])\n",
    "df1.to_excel(fr'C:\\Users\\Elen- PC\\Jupyter\\cerrado\\conferir.xlsx')"
   ]
  },
  {
   "cell_type": "code",
   "execution_count": null,
   "metadata": {
    "hidden": true
   },
   "outputs": [],
   "source": []
  },
  {
   "cell_type": "code",
   "execution_count": null,
   "metadata": {
    "hidden": true
   },
   "outputs": [],
   "source": [
    "if 'Bauru_ok':\n",
    "    'Bauru. BOXSCORE'"
   ]
  },
  {
   "cell_type": "code",
   "execution_count": null,
   "metadata": {
    "hidden": true
   },
   "outputs": [],
   "source": [
    "for a, i in enumerate(lista):\n",
    "    df1 = pd.read_excel(files_xlsx[a])\n",
    "    df1.to_excel(fr'C:\\Users\\Elen- PC\\Jupyter\\Cerrado\\tabela_{i}.xlsx')"
   ]
  },
  {
   "cell_type": "code",
   "execution_count": null,
   "metadata": {
    "hidden": true
   },
   "outputs": [],
   "source": []
  },
  {
   "cell_type": "code",
   "execution_count": null,
   "metadata": {
    "hidden": true
   },
   "outputs": [],
   "source": []
  },
  {
   "cell_type": "code",
   "execution_count": null,
   "metadata": {
    "hidden": true
   },
   "outputs": [],
   "source": [
    "aaaaaaaaaaaa"
   ]
  },
  {
   "cell_type": "code",
   "execution_count": null,
   "metadata": {
    "hidden": true
   },
   "outputs": [],
   "source": [
    "resultado = pd.read_excel('resultado.xlsx')\n",
    "resultado.sort_values(by='ranking_final_media', ascending=False, inplace=True)"
   ]
  },
  {
   "cell_type": "code",
   "execution_count": null,
   "metadata": {
    "hidden": true
   },
   "outputs": [],
   "source": [
    "quinteto = np.arange(len(resultado))"
   ]
  },
  {
   "cell_type": "code",
   "execution_count": null,
   "metadata": {
    "hidden": true
   },
   "outputs": [],
   "source": [
    "sns.lineplot(data=resultado, x=quinteto, y=\"ranking_final_media\")"
   ]
  },
  {
   "cell_type": "code",
   "execution_count": null,
   "metadata": {
    "hidden": true
   },
   "outputs": [],
   "source": [
    "plt.figure(figsize=(11, 8))\n",
    "plt.errorbar(quinteto, resultado['ranking_final_media'], yerr=resultado['ranking_final_std'],  linestyle='None', marker='^')\n",
    "plt.savefig(f'resultado.png', format='png')"
   ]
  },
  {
   "cell_type": "code",
   "execution_count": null,
   "metadata": {
    "hidden": true
   },
   "outputs": [],
   "source": [
    "# plot time series with seaborn\n",
    "ax = sns.tsplot(data=resultado) #, err_style=\"unit_traces\")\n",
    "\n",
    "# Add std deviation bars to the previous plot\n",
    "mean = resultado\n",
    "std  = resultado\n",
    "ax.errorbar(df.index, mean, yerr=std, fmt='-o') #fmt=None to plot bars only"
   ]
  },
  {
   "cell_type": "code",
   "execution_count": null,
   "metadata": {
    "hidden": true
   },
   "outputs": [],
   "source": []
  },
  {
   "cell_type": "code",
   "execution_count": null,
   "metadata": {
    "hidden": true
   },
   "outputs": [],
   "source": []
  },
  {
   "cell_type": "code",
   "execution_count": null,
   "metadata": {
    "hidden": true
   },
   "outputs": [],
   "source": [
    "aaaaaaaaaaaaaaaaaaa"
   ]
  },
  {
   "cell_type": "markdown",
   "metadata": {},
   "source": [
    "# Parte 1"
   ]
  },
  {
   "cell_type": "code",
   "execution_count": null,
   "metadata": {},
   "outputs": [],
   "source": [
    "lista = [1, 2, 3, 4, 6, 7, 8, 9, 10, 11, 12, 14, 15, 16, 17, 18, 19, 20, 22, 23, 25, 26, 27, 28, 29, 30]"
   ]
  },
  {
   "cell_type": "code",
   "execution_count": null,
   "metadata": {},
   "outputs": [],
   "source": [
    "contagem = 1\n",
    "for i in files_xlsx:\n",
    "    df1 = pd.read_excel(i)\n",
    "    df1.drop(columns=[' '], inplace=True)\n",
    "    df1.to_excel(f'C:\\Users\\Elen- PC\\Jupyter\\Cerrado\\tabela_{}')"
   ]
  },
  {
   "cell_type": "code",
   "execution_count": null,
   "metadata": {},
   "outputs": [],
   "source": [
    "criterios = ['Surname','Mais / Menos', 'Minutos', 'Posses', 'Pontos', 'Assistências',\n",
    "             'Pontos por cada 100 posses','3-pt %', 'Arremessos de 2-pt, %',\n",
    "             'L. livres, %', 'Perda de posse', 'Rebotes defensivos', 'Rebotes ofensivos', 'Roubos']"
   ]
  },
  {
   "cell_type": "code",
   "execution_count": null,
   "metadata": {},
   "outputs": [],
   "source": []
  },
  {
   "cell_type": "code",
   "execution_count": null,
   "metadata": {},
   "outputs": [],
   "source": []
  },
  {
   "cell_type": "code",
   "execution_count": null,
   "metadata": {},
   "outputs": [],
   "source": [
    "aaaaaaaaaaaaaa"
   ]
  },
  {
   "cell_type": "code",
   "execution_count": null,
   "metadata": {},
   "outputs": [],
   "source": [
    "path = r'C:\\Users\\Rafael\\Desktop\\betania\\OKKKKKKKKKKKKK\\Clube de Regatas do Flamengo'\n",
    "files = os.listdir(path)\n",
    "files_pasta = [path + '\\\\' + f for f in files if f[-4:] == ('.xls')]\n",
    "files_pasta = sorted(files_pasta, key=len)\n",
    "files_xlsx = []\n",
    "pasta = []\n",
    "for i in files_pasta:\n",
    "    if i != f'{path}\\\\conferir.xls':\n",
    "        files_xlsx.append(i)\n",
    "    else:\n",
    "        pasta.append(i)"
   ]
  },
  {
   "cell_type": "code",
   "execution_count": null,
   "metadata": {},
   "outputs": [],
   "source": [
    "files_xlsx"
   ]
  },
  {
   "cell_type": "code",
   "execution_count": null,
   "metadata": {},
   "outputs": [],
   "source": [
    "jogos= pd.DataFrame()\n",
    "for i in files_xlsx:\n",
    "    df = pd.read_excel(i)\n",
    "    jogos = pd.concat([jogos, df])\n",
    "contagem = pd.DataFrame(jogos['Surname'].value_counts())\n",
    "contagem.reset_index(inplace=True)\n",
    "contagem.drop(contagem.tail(1).index,inplace=True)\n",
    "contagem.rename(columns= {'index': 'Surname', 'Surname': 'Quantidade_de_jogos'}, inplace=True)"
   ]
  },
  {
   "cell_type": "code",
   "execution_count": null,
   "metadata": {},
   "outputs": [],
   "source": []
  },
  {
   "cell_type": "code",
   "execution_count": null,
   "metadata": {},
   "outputs": [],
   "source": [
    "conferir = pd.read_excel(pasta[0])"
   ]
  },
  {
   "cell_type": "code",
   "execution_count": null,
   "metadata": {},
   "outputs": [],
   "source": [
    "m = pd.merge(conferir, contagem, how='inner', on='Surname')"
   ]
  },
  {
   "cell_type": "code",
   "execution_count": null,
   "metadata": {},
   "outputs": [],
   "source": [
    "m['Quantidade_de_jogos'].value_counts()"
   ]
  },
  {
   "cell_type": "code",
   "execution_count": null,
   "metadata": {},
   "outputs": [],
   "source": [
    "m['Quantidade_de_jogos'].sum()"
   ]
  },
  {
   "cell_type": "code",
   "execution_count": null,
   "metadata": {},
   "outputs": [],
   "source": [
    "m.to_csv('tempo2.csv')"
   ]
  },
  {
   "cell_type": "code",
   "execution_count": null,
   "metadata": {},
   "outputs": [],
   "source": [
    "a = []\n",
    "a"
   ]
  },
  {
   "cell_type": "code",
   "execution_count": null,
   "metadata": {},
   "outputs": [],
   "source": []
  },
  {
   "cell_type": "code",
   "execution_count": null,
   "metadata": {},
   "outputs": [],
   "source": []
  },
  {
   "cell_type": "code",
   "execution_count": null,
   "metadata": {},
   "outputs": [],
   "source": []
  },
  {
   "cell_type": "code",
   "execution_count": null,
   "metadata": {},
   "outputs": [],
   "source": [
    "conferir = pd.read_excel(pasta[0])\n",
    "conferir.drop(conferir.tail(1).index,inplace=True)\n",
    "contagem = []\n",
    "for y in range(len(conferir)):\n",
    "    a = conferir['Surname'][y].agrub('')\n",
    "    print(conferir['Surname'][y])\n",
    "    print(a)"
   ]
  },
  {
   "cell_type": "code",
   "execution_count": null,
   "metadata": {},
   "outputs": [],
   "source": [
    "resultado['Mais / Menos']"
   ]
  },
  {
   "cell_type": "code",
   "execution_count": null,
   "metadata": {},
   "outputs": [],
   "source": []
  },
  {
   "cell_type": "code",
   "execution_count": null,
   "metadata": {},
   "outputs": [],
   "source": []
  },
  {
   "cell_type": "code",
   "execution_count": null,
   "metadata": {},
   "outputs": [],
   "source": [
    "files_xlsx = files_xlsx[::-1]"
   ]
  },
  {
   "cell_type": "code",
   "execution_count": null,
   "metadata": {},
   "outputs": [],
   "source": [
    "conferir = [path + '\\\\' + f for f in files if f[-4:] == ('.xls')]\n",
    "df_teste = pd.read_excel(conferir[0])\n",
    "df_teste = df_teste.loc[:370, criterios]"
   ]
  },
  {
   "cell_type": "code",
   "execution_count": null,
   "metadata": {},
   "outputs": [],
   "source": [
    "def horario(primeiro_jogo):\n",
    "    for i, x in enumerate(primeiro_jogo['Minutos']):\n",
    "        try:\n",
    "            if re.findall(r'..:..:........', x):\n",
    "                pass\n",
    "            else:\n",
    "                primeiro_jogo.loc[i, 'Minutos'] = x[0:8] + '.000000'\n",
    "            primeiro_jogo.loc[i, 'Minutos'] = datetime.strptime(primeiro_jogo['Minutos'][i], '%H:%M:%S.%f')\n",
    "            primeiro_jogo.loc[i, 'Minutos'] = (primeiro_jogo['Minutos'][i].hour * 60 + \n",
    "                                               primeiro_jogo['Minutos'][i].minute) * 60 + primeiro_jogo['Minutos'][i].second\n",
    "        except:\n",
    "            primeiro_jogo.loc[i, 'Minutos'] = primeiro_jogo['Minutos'][i].hour * 60 + primeiro_jogo['Minutos'][i].minute + primeiro_jogo['Minutos'][i].second"
   ]
  },
  {
   "cell_type": "code",
   "execution_count": null,
   "metadata": {},
   "outputs": [],
   "source": [
    "def combinacoes(df_teste, primeiro_jogo):\n",
    "    resultado = []\n",
    "    primeiro_jogo['Posse/seg'] = primeiro_jogo['Posses']/primeiro_jogo['Minutos']\n",
    "    primeiro_jogo['Pontos/seg'] = primeiro_jogo['Pontos']/primeiro_jogo['Minutos']\n",
    "    primeiro_jogo.drop(['Minutos', 'Pontos', 'Posses'], inplace=True, axis=1)\n",
    "    minimo = min(primeiro_jogo['Mais / Menos'])\n",
    "    maximo =  max(primeiro_jogo['Perda de posse'])\n",
    "    for index, row in df_teste.iterrows():\n",
    "        if row['Surname'] in list(primeiro_jogo['Surname']):\n",
    "            ids = primeiro_jogo.index[primeiro_jogo['Surname'] == row['Surname']].tolist()\n",
    "            resultado.append(list(primeiro_jogo.values[ids]))\n",
    "        else:\n",
    "            valor_minimo = [row['Surname'] ,minimo, 0, 0, 0, 0, 0, maximo, 0, 0, 0, 0, 0]\n",
    "            resultado.append(valor_minimo)\n",
    "    return np.array(resultado)"
   ]
  },
  {
   "cell_type": "code",
   "execution_count": null,
   "metadata": {},
   "outputs": [],
   "source": [
    "resultado = []\n",
    "contador = 0\n",
    "for i in files_xlsx:\n",
    "    df = pd.read_excel(i)\n",
    "    dados = df.loc[:, criterios]\n",
    "    horario(dados)\n",
    "    novo = combinacoes(df_teste, dados)\n",
    "    resultado.append(novo)"
   ]
  },
  {
   "cell_type": "code",
   "execution_count": null,
   "metadata": {},
   "outputs": [],
   "source": [
    "resultado = np.array(resultado)\n",
    "resultado"
   ]
  },
  {
   "cell_type": "code",
   "execution_count": null,
   "metadata": {},
   "outputs": [],
   "source": []
  },
  {
   "cell_type": "code",
   "execution_count": null,
   "metadata": {},
   "outputs": [],
   "source": []
  },
  {
   "cell_type": "code",
   "execution_count": null,
   "metadata": {},
   "outputs": [],
   "source": []
  },
  {
   "cell_type": "code",
   "execution_count": null,
   "metadata": {},
   "outputs": [],
   "source": []
  },
  {
   "cell_type": "code",
   "execution_count": null,
   "metadata": {},
   "outputs": [],
   "source": []
  },
  {
   "cell_type": "code",
   "execution_count": null,
   "metadata": {},
   "outputs": [],
   "source": []
  },
  {
   "cell_type": "code",
   "execution_count": null,
   "metadata": {},
   "outputs": [],
   "source": []
  }
 ],
 "metadata": {
  "kernelspec": {
   "display_name": "Python 3",
   "language": "python",
   "name": "python3"
  },
  "language_info": {
   "codemirror_mode": {
    "name": "ipython",
    "version": 3
   },
   "file_extension": ".py",
   "mimetype": "text/x-python",
   "name": "python",
   "nbconvert_exporter": "python",
   "pygments_lexer": "ipython3",
   "version": "3.8.8"
  },
  "toc": {
   "base_numbering": 1,
   "nav_menu": {},
   "number_sections": true,
   "sideBar": true,
   "skip_h1_title": false,
   "title_cell": "Table of Contents",
   "title_sidebar": "Contents",
   "toc_cell": false,
   "toc_position": {},
   "toc_section_display": true,
   "toc_window_display": false
  },
  "varInspector": {
   "cols": {
    "lenName": 16,
    "lenType": 16,
    "lenVar": 40
   },
   "kernels_config": {
    "python": {
     "delete_cmd_postfix": "",
     "delete_cmd_prefix": "del ",
     "library": "var_list.py",
     "varRefreshCmd": "print(var_dic_list())"
    },
    "r": {
     "delete_cmd_postfix": ") ",
     "delete_cmd_prefix": "rm(",
     "library": "var_list.r",
     "varRefreshCmd": "cat(var_dic_list()) "
    }
   },
   "types_to_exclude": [
    "module",
    "function",
    "builtin_function_or_method",
    "instance",
    "_Feature"
   ],
   "window_display": false
  }
 },
 "nbformat": 4,
 "nbformat_minor": 4
}
