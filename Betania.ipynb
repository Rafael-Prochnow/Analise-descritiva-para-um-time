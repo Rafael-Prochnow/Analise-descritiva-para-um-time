{
 "cells": [
  {
   "cell_type": "code",
   "execution_count": 1,
   "metadata": {},
   "outputs": [],
   "source": [
    "#import numpy as np\n",
    "import os\n",
    "import pandas as pd\n",
    "from datetime import datetime\n",
    "import datetime as dt\n",
    "import re\n",
    "#import seaborn as sns\n",
    "#import matplotlib.pyplot as plt"
   ]
  },
  {
   "cell_type": "code",
   "execution_count": 2,
   "metadata": {},
   "outputs": [
    {
     "ename": "NameError",
     "evalue": "name 'aaa' is not defined",
     "output_type": "error",
     "traceback": [
      "\u001b[1;31m---------------------------------------------------------------------------\u001b[0m",
      "\u001b[1;31mNameError\u001b[0m                                 Traceback (most recent call last)",
      "\u001b[1;32m<ipython-input-2-972a1a11f199>\u001b[0m in \u001b[0;36m<module>\u001b[1;34m\u001b[0m\n\u001b[1;32m----> 1\u001b[1;33m \u001b[0maaa\u001b[0m\u001b[1;33m\u001b[0m\u001b[1;33m\u001b[0m\u001b[0m\n\u001b[0m",
      "\u001b[1;31mNameError\u001b[0m: name 'aaa' is not defined"
     ]
    }
   ],
   "source": [
    "aaa"
   ]
  },
  {
   "cell_type": "markdown",
   "metadata": {
    "heading_collapsed": true
   },
   "source": [
    "# Parte 3"
   ]
  },
  {
   "cell_type": "code",
   "execution_count": null,
   "metadata": {
    "hidden": true
   },
   "outputs": [],
   "source": [
    "inf = [['Basquete Unifacisa', 'UFC', 'Unifacisa'], ['Bauru', 'BAU', 'Bauru'],\n",
    "       ['Cerrado Basquete', 'CEA', 'Cerrado'], ['Club Athletico Paulistano', 'PAU', 'Paulistano'],\n",
    "       ['Clube de Regatas do Flamengo', 'FLA', 'Flamengo'], ['EC Pinheiros', 'PIN', 'Pinheiros'],\n",
    "       ['Fortaleza B.C', 'FOT', 'Fortaleza'], ['Franca Basquete', 'FRA', 'Franca'],\n",
    "       ['Minas Tenis Clube', 'MIN', 'Minas'], ['Mogi das Cruzes', 'MOG', 'Mogi'],\n",
    "       ['Pato Basquete', 'PAT', 'Pato'], ['Sao Paulo Basquete', 'SPF', 'Paulo'],\n",
    "       ['SC Corinthians Paulista', 'SCC', 'Corinthians'], ['VipTech Campo Mourao Basquete', 'CMB', 'Mourao']]"
   ]
  },
  {
   "cell_type": "code",
   "execution_count": null,
   "metadata": {
    "hidden": true
   },
   "outputs": [],
   "source": []
  },
  {
   "cell_type": "code",
   "execution_count": null,
   "metadata": {
    "hidden": true
   },
   "outputs": [],
   "source": [
    "team_dict = []\n",
    "nomenclatura = ['full_name', 'abbreviation', 'nickname']\n",
    "for t in inf:\n",
    "    x = {}\n",
    "    for c, j in zip(nomenclatura , t):\n",
    "        x.update({c : j})\n",
    "    team_dict.append(x)"
   ]
  },
  {
   "cell_type": "code",
   "execution_count": null,
   "metadata": {
    "hidden": true
   },
   "outputs": [],
   "source": [
    "team_dict[0]"
   ]
  },
  {
   "cell_type": "code",
   "execution_count": null,
   "metadata": {
    "hidden": true
   },
   "outputs": [],
   "source": [
    "BKN = [team for team in team_dict if team['full_name'] == 'Basquete Unifacisa'][0]\n",
    "BKN['full_name']"
   ]
  },
  {
   "cell_type": "code",
   "execution_count": null,
   "metadata": {
    "hidden": true
   },
   "outputs": [],
   "source": [
    "pad = pd.DataFrame({'lista':[3, 5, 10, 1, 20, 12, 4]})\n",
    "pad"
   ]
  },
  {
   "cell_type": "code",
   "execution_count": null,
   "metadata": {
    "hidden": true
   },
   "outputs": [],
   "source": [
    "pad.sort_values('lista')"
   ]
  },
  {
   "cell_type": "code",
   "execution_count": null,
   "metadata": {
    "hidden": true
   },
   "outputs": [],
   "source": []
  },
  {
   "cell_type": "markdown",
   "metadata": {
    "heading_collapsed": true
   },
   "source": [
    "# Parte 2"
   ]
  },
  {
   "cell_type": "code",
   "execution_count": null,
   "metadata": {
    "hidden": true
   },
   "outputs": [],
   "source": [
    "primeiro_jogo = pd.read_excel('C:\\\\Users\\\\Elen- PC\\\\Desktop\\\\betania\\\\OKKKKKKKKKKKKK\\\\Bauru\\\\s23.xls')\n",
    "primeiro_jogo"
   ]
  },
  {
   "cell_type": "code",
   "execution_count": null,
   "metadata": {
    "hidden": true
   },
   "outputs": [],
   "source": [
    "for i, x in enumerate(primeiro_jogo['Minutos']):\n",
    "    try:\n",
    "        if re.findall(r'..:..:.........', x):\n",
    "            pass\n",
    "        else:\n",
    "            primeiro_jogo.loc[i, 'Minutos'] = x[0:8] + '.000000'\n",
    "        primeiro_jogo.loc[i, 'Minutos'] = datetime.strptime(primeiro_jogo['Minutos'][i], '%H:%M:%S.%f')\n",
    "        print('Tryyyyyy')\n",
    "        primeiro_jogo.loc[i, 'Minutos'] = (primeiro_jogo['Minutos'][i].hour * 60 +\n",
    "                                           primeiro_jogo['Minutos'][i].minute) * 60 + primeiro_jogo['Minutos'][\n",
    "                                              i].second\n",
    "    except TypeError:\n",
    "        primeiro_jogo.loc[i, 'Minutos'] = primeiro_jogo['Minutos'][i].hour * 60 + (primeiro_jogo['Minutos'][\n",
    "            i].minute * 60) + primeiro_jogo['Minutos'][i].second"
   ]
  },
  {
   "cell_type": "code",
   "execution_count": null,
   "metadata": {
    "hidden": true
   },
   "outputs": [],
   "source": [
    "primeiro_jogo['Minutos']"
   ]
  },
  {
   "cell_type": "code",
   "execution_count": null,
   "metadata": {
    "hidden": true
   },
   "outputs": [],
   "source": []
  },
  {
   "cell_type": "code",
   "execution_count": null,
   "metadata": {
    "hidden": true
   },
   "outputs": [],
   "source": []
  },
  {
   "cell_type": "code",
   "execution_count": null,
   "metadata": {
    "hidden": true
   },
   "outputs": [],
   "source": []
  },
  {
   "cell_type": "code",
   "execution_count": null,
   "metadata": {
    "hidden": true
   },
   "outputs": [],
   "source": [
    "aaaaaaaaaa"
   ]
  },
  {
   "cell_type": "code",
   "execution_count": null,
   "metadata": {
    "hidden": true
   },
   "outputs": [],
   "source": [
    "path = r'C:\\Users\\Elen- PC\\Desktop\\betania\\OKKKKKKKKKKKKK'\n",
    "files = os.listdir(path)\n",
    "files"
   ]
  },
  {
   "cell_type": "code",
   "execution_count": null,
   "metadata": {
    "hidden": true
   },
   "outputs": [],
   "source": [
    "dois_times = True\n",
    "\n",
    "\n",
    "if dois_times:\n",
    "    "
   ]
  },
  {
   "cell_type": "code",
   "execution_count": null,
   "metadata": {
    "hidden": true
   },
   "outputs": [],
   "source": []
  },
  {
   "cell_type": "code",
   "execution_count": null,
   "metadata": {
    "hidden": true
   },
   "outputs": [],
   "source": []
  },
  {
   "cell_type": "code",
   "execution_count": null,
   "metadata": {
    "hidden": true
   },
   "outputs": [],
   "source": []
  },
  {
   "cell_type": "code",
   "execution_count": null,
   "metadata": {
    "hidden": true
   },
   "outputs": [],
   "source": []
  },
  {
   "cell_type": "code",
   "execution_count": null,
   "metadata": {
    "hidden": true,
    "scrolled": true
   },
   "outputs": [],
   "source": [
    "contage = 1\n",
    "for k in files:\n",
    "    print(k)\n",
    "    nome = path + '\\\\' + k\n",
    "    files_cadatime = os.listdir(nome)\n",
    "    files_xlsx = [path + '\\\\' + k + '\\\\'+ f for f in files_cadatime if f[-4:] == ('.xls')]\n",
    "    files_xlsx = sorted(files_xlsx, key=len)\n",
    "    for i in files_xlsx:\n",
    "        if k == f'{k}':\n",
    "            if k == 'Club Athletico Paulistano':\n",
    "                df1 = pd.read_excel(i, sheet_name=f'{k}. BOXS')\n",
    "            elif k == 'Clube de Regatas do Flamengo':\n",
    "                df1 = pd.read_excel(i, sheet_name=f'{k}. B')\n",
    "            elif k == 'VipTech Campo Mourao Basquete':\n",
    "                df1 = pd.read_excel(i, sheet_name=f'{k}. ')\n",
    "            elif k == 'Fortaleza B.C':\n",
    "                df1 = pd.read_excel(i, sheet_name=f'{k}.. BOXSCORE')\n",
    "            elif k == 'SC Corinthians Paulista':\n",
    "                df1 = pd.read_excel(i, sheet_name=f'{k}. BOXSCO')\n",
    "            else:\n",
    "                df1 = pd.read_excel(i, sheet_name=f'{k}. BOXSCORE')"
   ]
  },
  {
   "cell_type": "code",
   "execution_count": null,
   "metadata": {
    "hidden": true
   },
   "outputs": [],
   "source": [
    "nome = path + '\\\\' + 'Bauru_ok'\n",
    "files_cadatime = os.listdir(nome)\n",
    "files_xlsx = [path + '\\\\' + f for f in files_cadatime if f[-4:] == ('.xls')]\n",
    "print(files_xlsx[0])"
   ]
  },
  {
   "cell_type": "code",
   "execution_count": null,
   "metadata": {
    "hidden": true
   },
   "outputs": [],
   "source": [
    "files_xlsx = [path + '\\\\' + f for f in files if f[-4:] == ('.xls')]\n",
    "files_xlsx = sorted(files_xlsx, key=len)"
   ]
  },
  {
   "cell_type": "code",
   "execution_count": null,
   "metadata": {
    "hidden": true
   },
   "outputs": [],
   "source": []
  },
  {
   "cell_type": "code",
   "execution_count": null,
   "metadata": {
    "hidden": true
   },
   "outputs": [],
   "source": [
    "path = r'C:\\Users\\Elen- PC\\Desktop\\betania\\OKKKKKKKKKKKKK\\Bauru_ok'\n",
    "files = os.listdir(path)\n",
    "files_xlsx = [path + '\\\\' + f for f in files if f[-4:] == ('.xls')]\n",
    "files_xlsx = sorted(files_xlsx, key=len)\n",
    "files_xlsx"
   ]
  },
  {
   "cell_type": "code",
   "execution_count": null,
   "metadata": {
    "hidden": true
   },
   "outputs": [],
   "source": [
    "df1 = pd.read_excel(files_xlsx[0])\n",
    "df1.to_excel(fr'C:\\Users\\Elen- PC\\Jupyter\\cerrado\\conferir.xlsx')"
   ]
  },
  {
   "cell_type": "code",
   "execution_count": null,
   "metadata": {
    "hidden": true
   },
   "outputs": [],
   "source": []
  },
  {
   "cell_type": "code",
   "execution_count": null,
   "metadata": {
    "hidden": true
   },
   "outputs": [],
   "source": [
    "if 'Bauru_ok':\n",
    "    'Bauru. BOXSCORE'"
   ]
  },
  {
   "cell_type": "code",
   "execution_count": null,
   "metadata": {
    "hidden": true
   },
   "outputs": [],
   "source": [
    "for a, i in enumerate(lista):\n",
    "    df1 = pd.read_excel(files_xlsx[a])\n",
    "    df1.to_excel(fr'C:\\Users\\Elen- PC\\Jupyter\\Cerrado\\tabela_{i}.xlsx')"
   ]
  },
  {
   "cell_type": "code",
   "execution_count": null,
   "metadata": {
    "hidden": true
   },
   "outputs": [],
   "source": []
  },
  {
   "cell_type": "code",
   "execution_count": null,
   "metadata": {
    "hidden": true
   },
   "outputs": [],
   "source": []
  },
  {
   "cell_type": "code",
   "execution_count": null,
   "metadata": {
    "hidden": true
   },
   "outputs": [],
   "source": [
    "aaaaaaaaaaaa"
   ]
  },
  {
   "cell_type": "code",
   "execution_count": null,
   "metadata": {
    "hidden": true
   },
   "outputs": [],
   "source": [
    "resultado = pd.read_excel('resultado.xlsx')\n",
    "resultado.sort_values(by='ranking_final_media', ascending=False, inplace=True)"
   ]
  },
  {
   "cell_type": "code",
   "execution_count": null,
   "metadata": {
    "hidden": true
   },
   "outputs": [],
   "source": [
    "quinteto = np.arange(len(resultado))"
   ]
  },
  {
   "cell_type": "code",
   "execution_count": null,
   "metadata": {
    "hidden": true
   },
   "outputs": [],
   "source": [
    "sns.lineplot(data=resultado, x=quinteto, y=\"ranking_final_media\")"
   ]
  },
  {
   "cell_type": "code",
   "execution_count": null,
   "metadata": {
    "hidden": true
   },
   "outputs": [],
   "source": [
    "plt.figure(figsize=(11, 8))\n",
    "plt.errorbar(quinteto, resultado['ranking_final_media'], yerr=resultado['ranking_final_std'],  linestyle='None', marker='^')\n",
    "plt.savefig(f'resultado.png', format='png')"
   ]
  },
  {
   "cell_type": "code",
   "execution_count": null,
   "metadata": {
    "hidden": true
   },
   "outputs": [],
   "source": [
    "# plot time series with seaborn\n",
    "ax = sns.tsplot(data=resultado) #, err_style=\"unit_traces\")\n",
    "\n",
    "# Add std deviation bars to the previous plot\n",
    "mean = resultado\n",
    "std  = resultado\n",
    "ax.errorbar(df.index, mean, yerr=std, fmt='-o') #fmt=None to plot bars only"
   ]
  },
  {
   "cell_type": "code",
   "execution_count": null,
   "metadata": {
    "hidden": true
   },
   "outputs": [],
   "source": []
  },
  {
   "cell_type": "code",
   "execution_count": null,
   "metadata": {
    "hidden": true
   },
   "outputs": [],
   "source": []
  },
  {
   "cell_type": "code",
   "execution_count": null,
   "metadata": {
    "hidden": true
   },
   "outputs": [],
   "source": [
    "aaaaaaaaaaaaaaaaaaa"
   ]
  },
  {
   "cell_type": "markdown",
   "metadata": {},
   "source": [
    "# Parte 1"
   ]
  },
  {
   "cell_type": "code",
   "execution_count": null,
   "metadata": {},
   "outputs": [],
   "source": [
    "lista = [1, 2, 3, 4, 6, 7, 8, 9, 10, 11, 12, 14, 15, 16, 17, 18, 19, 20, 22, 23, 25, 26, 27, 28, 29, 30]"
   ]
  },
  {
   "cell_type": "code",
   "execution_count": null,
   "metadata": {},
   "outputs": [],
   "source": [
    "contagem = 1\n",
    "for i in files_xlsx:\n",
    "    df1 = pd.read_excel(i)\n",
    "    df1.drop(columns=[' '], inplace=True)\n",
    "    df1.to_excel(f'C:\\Users\\Elen- PC\\Jupyter\\Cerrado\\tabela_{}')"
   ]
  },
  {
   "cell_type": "code",
   "execution_count": null,
   "metadata": {},
   "outputs": [],
   "source": [
    "criterios = ['Surname','Mais / Menos', 'Minutos', 'Posses', 'Pontos', 'Assistências',\n",
    "             'Pontos por cada 100 posses','3-pt %', 'Arremessos de 2-pt, %',\n",
    "             'L. livres, %', 'Perda de posse', 'Rebotes defensivos', 'Rebotes ofensivos', 'Roubos']"
   ]
  },
  {
   "cell_type": "code",
   "execution_count": null,
   "metadata": {},
   "outputs": [],
   "source": []
  },
  {
   "cell_type": "code",
   "execution_count": null,
   "metadata": {},
   "outputs": [],
   "source": []
  },
  {
   "cell_type": "code",
   "execution_count": null,
   "metadata": {},
   "outputs": [],
   "source": [
    "aaaaaaaaaaaaaa"
   ]
  },
  {
   "cell_type": "code",
   "execution_count": 3,
   "metadata": {},
   "outputs": [],
   "source": [
    "path = r'C:\\Users\\Elen- PC\\Jupyter\\OKKKKKKKKKKKKK\\Clube de Regatas do Flamengo'\n",
    "files = os.listdir(path)\n",
    "files_pasta = [path + '\\\\' + f for f in files if f[-4:] == ('.xls')]\n",
    "files_pasta = sorted(files_pasta, key=len)\n",
    "files_xlsx = []\n",
    "pasta = []\n",
    "for i in files_pasta:\n",
    "    if i != f'{path}\\\\conferir.xls':\n",
    "        files_xlsx.append(i)\n",
    "    else:\n",
    "        pasta.append(i)"
   ]
  },
  {
   "cell_type": "code",
   "execution_count": 4,
   "metadata": {},
   "outputs": [
    {
     "data": {
      "text/plain": [
       "['C:\\\\Users\\\\Elen- PC\\\\Jupyter\\\\OKKKKKKKKKKKKK\\\\Clube de Regatas do Flamengo\\\\s1.xls',\n",
       " 'C:\\\\Users\\\\Elen- PC\\\\Jupyter\\\\OKKKKKKKKKKKKK\\\\Clube de Regatas do Flamengo\\\\s2.xls',\n",
       " 'C:\\\\Users\\\\Elen- PC\\\\Jupyter\\\\OKKKKKKKKKKKKK\\\\Clube de Regatas do Flamengo\\\\s3.xls',\n",
       " 'C:\\\\Users\\\\Elen- PC\\\\Jupyter\\\\OKKKKKKKKKKKKK\\\\Clube de Regatas do Flamengo\\\\s4.xls',\n",
       " 'C:\\\\Users\\\\Elen- PC\\\\Jupyter\\\\OKKKKKKKKKKKKK\\\\Clube de Regatas do Flamengo\\\\s5.xls',\n",
       " 'C:\\\\Users\\\\Elen- PC\\\\Jupyter\\\\OKKKKKKKKKKKKK\\\\Clube de Regatas do Flamengo\\\\s6.xls',\n",
       " 'C:\\\\Users\\\\Elen- PC\\\\Jupyter\\\\OKKKKKKKKKKKKK\\\\Clube de Regatas do Flamengo\\\\s7.xls',\n",
       " 'C:\\\\Users\\\\Elen- PC\\\\Jupyter\\\\OKKKKKKKKKKKKK\\\\Clube de Regatas do Flamengo\\\\s8.xls',\n",
       " 'C:\\\\Users\\\\Elen- PC\\\\Jupyter\\\\OKKKKKKKKKKKKK\\\\Clube de Regatas do Flamengo\\\\s9.xls',\n",
       " 'C:\\\\Users\\\\Elen- PC\\\\Jupyter\\\\OKKKKKKKKKKKKK\\\\Clube de Regatas do Flamengo\\\\s10.xls',\n",
       " 'C:\\\\Users\\\\Elen- PC\\\\Jupyter\\\\OKKKKKKKKKKKKK\\\\Clube de Regatas do Flamengo\\\\s12.xls',\n",
       " 'C:\\\\Users\\\\Elen- PC\\\\Jupyter\\\\OKKKKKKKKKKKKK\\\\Clube de Regatas do Flamengo\\\\s15.xls',\n",
       " 'C:\\\\Users\\\\Elen- PC\\\\Jupyter\\\\OKKKKKKKKKKKKK\\\\Clube de Regatas do Flamengo\\\\s16.xls',\n",
       " 'C:\\\\Users\\\\Elen- PC\\\\Jupyter\\\\OKKKKKKKKKKKKK\\\\Clube de Regatas do Flamengo\\\\s17.xls',\n",
       " 'C:\\\\Users\\\\Elen- PC\\\\Jupyter\\\\OKKKKKKKKKKKKK\\\\Clube de Regatas do Flamengo\\\\s19.xls',\n",
       " 'C:\\\\Users\\\\Elen- PC\\\\Jupyter\\\\OKKKKKKKKKKKKK\\\\Clube de Regatas do Flamengo\\\\s20.xls',\n",
       " 'C:\\\\Users\\\\Elen- PC\\\\Jupyter\\\\OKKKKKKKKKKKKK\\\\Clube de Regatas do Flamengo\\\\s21.xls',\n",
       " 'C:\\\\Users\\\\Elen- PC\\\\Jupyter\\\\OKKKKKKKKKKKKK\\\\Clube de Regatas do Flamengo\\\\s22.xls',\n",
       " 'C:\\\\Users\\\\Elen- PC\\\\Jupyter\\\\OKKKKKKKKKKKKK\\\\Clube de Regatas do Flamengo\\\\s23.xls',\n",
       " 'C:\\\\Users\\\\Elen- PC\\\\Jupyter\\\\OKKKKKKKKKKKKK\\\\Clube de Regatas do Flamengo\\\\s25.xls',\n",
       " 'C:\\\\Users\\\\Elen- PC\\\\Jupyter\\\\OKKKKKKKKKKKKK\\\\Clube de Regatas do Flamengo\\\\s26.xls',\n",
       " 'C:\\\\Users\\\\Elen- PC\\\\Jupyter\\\\OKKKKKKKKKKKKK\\\\Clube de Regatas do Flamengo\\\\s27.xls',\n",
       " 'C:\\\\Users\\\\Elen- PC\\\\Jupyter\\\\OKKKKKKKKKKKKK\\\\Clube de Regatas do Flamengo\\\\s30.xls',\n",
       " 'C:\\\\Users\\\\Elen- PC\\\\Jupyter\\\\OKKKKKKKKKKKKK\\\\Clube de Regatas do Flamengo\\\\s32.xls',\n",
       " 'C:\\\\Users\\\\Elen- PC\\\\Jupyter\\\\OKKKKKKKKKKKKK\\\\Clube de Regatas do Flamengo\\\\s33.xls']"
      ]
     },
     "execution_count": 4,
     "metadata": {},
     "output_type": "execute_result"
    }
   ],
   "source": [
    "files_xlsx"
   ]
  },
  {
   "cell_type": "code",
   "execution_count": 14,
   "metadata": {},
   "outputs": [],
   "source": [
    "jogos= pd.DataFrame()\n",
    "for i in files_xlsx:\n",
    "    df = pd.read_excel(i)\n",
    "    jogos = pd.concat([jogos, df])\n",
    "contagem = pd.DataFrame(jogos['Surname'].value_counts())\n",
    "contagem.reset_index(inplace=True)\n",
    "contagem.drop(contagem.tail(1).index,inplace=True)\n",
    "contagem.rename(columns= {'index': 'Surname', 'Surname': 'Quantidade_de_jogos'}, inplace=True)"
   ]
  },
  {
   "cell_type": "code",
   "execution_count": null,
   "metadata": {},
   "outputs": [],
   "source": []
  },
  {
   "cell_type": "code",
   "execution_count": 15,
   "metadata": {},
   "outputs": [],
   "source": [
    "conferir = pd.read_excel(pasta[0])"
   ]
  },
  {
   "cell_type": "code",
   "execution_count": 18,
   "metadata": {},
   "outputs": [
    {
     "data": {
      "text/html": [
       "<div>\n",
       "<style scoped>\n",
       "    .dataframe tbody tr th:only-of-type {\n",
       "        vertical-align: middle;\n",
       "    }\n",
       "\n",
       "    .dataframe tbody tr th {\n",
       "        vertical-align: top;\n",
       "    }\n",
       "\n",
       "    .dataframe thead th {\n",
       "        text-align: right;\n",
       "    }\n",
       "</style>\n",
       "<table border=\"1\" class=\"dataframe\">\n",
       "  <thead>\n",
       "    <tr style=\"text-align: right;\">\n",
       "      <th></th>\n",
       "      <th>Surname</th>\n",
       "      <th></th>\n",
       "      <th>Mais / Menos</th>\n",
       "      <th>Minutos</th>\n",
       "      <th>Pontos</th>\n",
       "      <th>Assistências</th>\n",
       "      <th>Posses</th>\n",
       "      <th>Pontos por cada 100 posses</th>\n",
       "      <th>Arremessos convertidos</th>\n",
       "      <th>Arremessos de 2-pt convertidos</th>\n",
       "      <th>...</th>\n",
       "      <th>Arremessos %</th>\n",
       "      <th>Tentativas de arremessos de 2pt</th>\n",
       "      <th>Arremessos de 2-pt, %</th>\n",
       "      <th>Tentativas de arremessos de 3pt</th>\n",
       "      <th>3-pt %</th>\n",
       "      <th>Tentativas de l. livres</th>\n",
       "      <th>L. livres +</th>\n",
       "      <th>L. livres, %</th>\n",
       "      <th>Faltas</th>\n",
       "      <th>Quantidade_de_jogos</th>\n",
       "    </tr>\n",
       "  </thead>\n",
       "  <tbody>\n",
       "    <tr>\n",
       "      <th>0</th>\n",
       "      <td>F. Nicolas Balbi, L. Agustin Gonzalez, M. Viei...</td>\n",
       "      <td>CDR</td>\n",
       "      <td>24.0</td>\n",
       "      <td>00:39:50.900000</td>\n",
       "      <td>97.0</td>\n",
       "      <td>22.0</td>\n",
       "      <td>84.0</td>\n",
       "      <td>115.476190</td>\n",
       "      <td>38.0</td>\n",
       "      <td>27.0</td>\n",
       "      <td>...</td>\n",
       "      <td>0.49</td>\n",
       "      <td>45.0</td>\n",
       "      <td>0.60</td>\n",
       "      <td>33.0</td>\n",
       "      <td>0.33</td>\n",
       "      <td>16.0</td>\n",
       "      <td>10.0</td>\n",
       "      <td>0.63</td>\n",
       "      <td>14.0</td>\n",
       "      <td>6</td>\n",
       "    </tr>\n",
       "    <tr>\n",
       "      <th>1</th>\n",
       "      <td>Y. Mateus dos Santos, L. Agustin Gonzalez, J. ...</td>\n",
       "      <td>CDR</td>\n",
       "      <td>10.0</td>\n",
       "      <td>00:33:57.910000</td>\n",
       "      <td>75.0</td>\n",
       "      <td>20.0</td>\n",
       "      <td>72.0</td>\n",
       "      <td>104.166667</td>\n",
       "      <td>26.0</td>\n",
       "      <td>13.0</td>\n",
       "      <td>...</td>\n",
       "      <td>0.46</td>\n",
       "      <td>23.0</td>\n",
       "      <td>0.57</td>\n",
       "      <td>34.0</td>\n",
       "      <td>0.38</td>\n",
       "      <td>12.0</td>\n",
       "      <td>10.0</td>\n",
       "      <td>0.83</td>\n",
       "      <td>10.0</td>\n",
       "      <td>5</td>\n",
       "    </tr>\n",
       "    <tr>\n",
       "      <th>2</th>\n",
       "      <td>F. Nicolas Balbi, L. Agustin Gonzalez, M. Viei...</td>\n",
       "      <td>CDR</td>\n",
       "      <td>18.0</td>\n",
       "      <td>00:30:55.330000</td>\n",
       "      <td>72.0</td>\n",
       "      <td>19.0</td>\n",
       "      <td>72.0</td>\n",
       "      <td>100.000000</td>\n",
       "      <td>25.0</td>\n",
       "      <td>13.0</td>\n",
       "      <td>...</td>\n",
       "      <td>0.45</td>\n",
       "      <td>24.0</td>\n",
       "      <td>0.54</td>\n",
       "      <td>31.0</td>\n",
       "      <td>0.39</td>\n",
       "      <td>14.0</td>\n",
       "      <td>10.0</td>\n",
       "      <td>0.71</td>\n",
       "      <td>9.0</td>\n",
       "      <td>3</td>\n",
       "    </tr>\n",
       "    <tr>\n",
       "      <th>3</th>\n",
       "      <td>Y. Mateus dos Santos, L. Agustin Gonzalez, M. ...</td>\n",
       "      <td>CDR</td>\n",
       "      <td>8.0</td>\n",
       "      <td>00:24:38.830000</td>\n",
       "      <td>58.0</td>\n",
       "      <td>15.0</td>\n",
       "      <td>54.0</td>\n",
       "      <td>107.407407</td>\n",
       "      <td>19.0</td>\n",
       "      <td>9.0</td>\n",
       "      <td>...</td>\n",
       "      <td>0.43</td>\n",
       "      <td>18.0</td>\n",
       "      <td>0.50</td>\n",
       "      <td>26.0</td>\n",
       "      <td>0.38</td>\n",
       "      <td>11.0</td>\n",
       "      <td>10.0</td>\n",
       "      <td>0.91</td>\n",
       "      <td>9.0</td>\n",
       "      <td>4</td>\n",
       "    </tr>\n",
       "    <tr>\n",
       "      <th>4</th>\n",
       "      <td>Y. Mateus dos Santos, M. Vieira de Sousa, L. D...</td>\n",
       "      <td>CDR</td>\n",
       "      <td>25.0</td>\n",
       "      <td>00:22:22.540000</td>\n",
       "      <td>59.0</td>\n",
       "      <td>19.0</td>\n",
       "      <td>47.0</td>\n",
       "      <td>125.531915</td>\n",
       "      <td>23.0</td>\n",
       "      <td>13.0</td>\n",
       "      <td>...</td>\n",
       "      <td>0.49</td>\n",
       "      <td>21.0</td>\n",
       "      <td>0.62</td>\n",
       "      <td>26.0</td>\n",
       "      <td>0.38</td>\n",
       "      <td>5.0</td>\n",
       "      <td>3.0</td>\n",
       "      <td>0.60</td>\n",
       "      <td>8.0</td>\n",
       "      <td>1</td>\n",
       "    </tr>\n",
       "    <tr>\n",
       "      <th>...</th>\n",
       "      <td>...</td>\n",
       "      <td>...</td>\n",
       "      <td>...</td>\n",
       "      <td>...</td>\n",
       "      <td>...</td>\n",
       "      <td>...</td>\n",
       "      <td>...</td>\n",
       "      <td>...</td>\n",
       "      <td>...</td>\n",
       "      <td>...</td>\n",
       "      <td>...</td>\n",
       "      <td>...</td>\n",
       "      <td>...</td>\n",
       "      <td>...</td>\n",
       "      <td>...</td>\n",
       "      <td>...</td>\n",
       "      <td>...</td>\n",
       "      <td>...</td>\n",
       "      <td>...</td>\n",
       "      <td>...</td>\n",
       "      <td>...</td>\n",
       "    </tr>\n",
       "    <tr>\n",
       "      <th>158</th>\n",
       "      <td>Y. Mateus dos Santos, C. Rodrigues do Nascimen...</td>\n",
       "      <td>CDR</td>\n",
       "      <td>0.0</td>\n",
       "      <td>00:00:07.540000</td>\n",
       "      <td>0.0</td>\n",
       "      <td>0.0</td>\n",
       "      <td>1.0</td>\n",
       "      <td>0.000000</td>\n",
       "      <td>0.0</td>\n",
       "      <td>0.0</td>\n",
       "      <td>...</td>\n",
       "      <td>0.00</td>\n",
       "      <td>0.0</td>\n",
       "      <td>0.00</td>\n",
       "      <td>0.0</td>\n",
       "      <td>0.00</td>\n",
       "      <td>0.0</td>\n",
       "      <td>0.0</td>\n",
       "      <td>0.00</td>\n",
       "      <td>0.0</td>\n",
       "      <td>1</td>\n",
       "    </tr>\n",
       "    <tr>\n",
       "      <th>159</th>\n",
       "      <td>L. Agustin Gonzalez, R. de Souza Silva, L. Dem...</td>\n",
       "      <td>CDR</td>\n",
       "      <td>0.0</td>\n",
       "      <td>00:00:06.670000</td>\n",
       "      <td>0.0</td>\n",
       "      <td>0.0</td>\n",
       "      <td>0.0</td>\n",
       "      <td>0.000000</td>\n",
       "      <td>0.0</td>\n",
       "      <td>0.0</td>\n",
       "      <td>...</td>\n",
       "      <td>0.00</td>\n",
       "      <td>0.0</td>\n",
       "      <td>0.00</td>\n",
       "      <td>0.0</td>\n",
       "      <td>0.00</td>\n",
       "      <td>0.0</td>\n",
       "      <td>0.0</td>\n",
       "      <td>0.00</td>\n",
       "      <td>0.0</td>\n",
       "      <td>1</td>\n",
       "    </tr>\n",
       "    <tr>\n",
       "      <th>160</th>\n",
       "      <td>F. Nicolas Balbi, Y. Mateus dos Santos, L. Agu...</td>\n",
       "      <td>CDR</td>\n",
       "      <td>0.0</td>\n",
       "      <td>00:00:05.550000</td>\n",
       "      <td>0.0</td>\n",
       "      <td>0.0</td>\n",
       "      <td>1.0</td>\n",
       "      <td>0.000000</td>\n",
       "      <td>0.0</td>\n",
       "      <td>0.0</td>\n",
       "      <td>...</td>\n",
       "      <td>0.00</td>\n",
       "      <td>0.0</td>\n",
       "      <td>0.00</td>\n",
       "      <td>0.0</td>\n",
       "      <td>0.00</td>\n",
       "      <td>0.0</td>\n",
       "      <td>0.0</td>\n",
       "      <td>0.00</td>\n",
       "      <td>0.0</td>\n",
       "      <td>1</td>\n",
       "    </tr>\n",
       "    <tr>\n",
       "      <th>161</th>\n",
       "      <td>J. Luz dos Santos, R. de Souza Silva, L. Demet...</td>\n",
       "      <td>CDR</td>\n",
       "      <td>0.0</td>\n",
       "      <td>00:00:04.430000</td>\n",
       "      <td>0.0</td>\n",
       "      <td>0.0</td>\n",
       "      <td>0.0</td>\n",
       "      <td>0.000000</td>\n",
       "      <td>0.0</td>\n",
       "      <td>0.0</td>\n",
       "      <td>...</td>\n",
       "      <td>0.00</td>\n",
       "      <td>0.0</td>\n",
       "      <td>0.00</td>\n",
       "      <td>0.0</td>\n",
       "      <td>0.00</td>\n",
       "      <td>0.0</td>\n",
       "      <td>0.0</td>\n",
       "      <td>0.00</td>\n",
       "      <td>0.0</td>\n",
       "      <td>1</td>\n",
       "    </tr>\n",
       "    <tr>\n",
       "      <th>162</th>\n",
       "      <td>L. Agustin Gonzalez, L. Demetrio, R. Ferreira ...</td>\n",
       "      <td>CDR</td>\n",
       "      <td>0.0</td>\n",
       "      <td>00:00:04.040000</td>\n",
       "      <td>0.0</td>\n",
       "      <td>0.0</td>\n",
       "      <td>0.0</td>\n",
       "      <td>0.000000</td>\n",
       "      <td>0.0</td>\n",
       "      <td>0.0</td>\n",
       "      <td>...</td>\n",
       "      <td>0.00</td>\n",
       "      <td>0.0</td>\n",
       "      <td>0.00</td>\n",
       "      <td>0.0</td>\n",
       "      <td>0.00</td>\n",
       "      <td>0.0</td>\n",
       "      <td>0.0</td>\n",
       "      <td>0.00</td>\n",
       "      <td>1.0</td>\n",
       "      <td>1</td>\n",
       "    </tr>\n",
       "  </tbody>\n",
       "</table>\n",
       "<p>163 rows × 27 columns</p>\n",
       "</div>"
      ],
      "text/plain": [
       "                                               Surname       Mais / Menos  \\\n",
       "0    F. Nicolas Balbi, L. Agustin Gonzalez, M. Viei...  CDR          24.0   \n",
       "1    Y. Mateus dos Santos, L. Agustin Gonzalez, J. ...  CDR          10.0   \n",
       "2    F. Nicolas Balbi, L. Agustin Gonzalez, M. Viei...  CDR          18.0   \n",
       "3    Y. Mateus dos Santos, L. Agustin Gonzalez, M. ...  CDR           8.0   \n",
       "4    Y. Mateus dos Santos, M. Vieira de Sousa, L. D...  CDR          25.0   \n",
       "..                                                 ...  ...           ...   \n",
       "158  Y. Mateus dos Santos, C. Rodrigues do Nascimen...  CDR           0.0   \n",
       "159  L. Agustin Gonzalez, R. de Souza Silva, L. Dem...  CDR           0.0   \n",
       "160  F. Nicolas Balbi, Y. Mateus dos Santos, L. Agu...  CDR           0.0   \n",
       "161  J. Luz dos Santos, R. de Souza Silva, L. Demet...  CDR           0.0   \n",
       "162  L. Agustin Gonzalez, L. Demetrio, R. Ferreira ...  CDR           0.0   \n",
       "\n",
       "             Minutos  Pontos  Assistências  Posses  \\\n",
       "0    00:39:50.900000    97.0          22.0    84.0   \n",
       "1    00:33:57.910000    75.0          20.0    72.0   \n",
       "2    00:30:55.330000    72.0          19.0    72.0   \n",
       "3    00:24:38.830000    58.0          15.0    54.0   \n",
       "4    00:22:22.540000    59.0          19.0    47.0   \n",
       "..               ...     ...           ...     ...   \n",
       "158  00:00:07.540000     0.0           0.0     1.0   \n",
       "159  00:00:06.670000     0.0           0.0     0.0   \n",
       "160  00:00:05.550000     0.0           0.0     1.0   \n",
       "161  00:00:04.430000     0.0           0.0     0.0   \n",
       "162  00:00:04.040000     0.0           0.0     0.0   \n",
       "\n",
       "     Pontos por cada 100 posses  Arremessos convertidos  \\\n",
       "0                    115.476190                    38.0   \n",
       "1                    104.166667                    26.0   \n",
       "2                    100.000000                    25.0   \n",
       "3                    107.407407                    19.0   \n",
       "4                    125.531915                    23.0   \n",
       "..                          ...                     ...   \n",
       "158                    0.000000                     0.0   \n",
       "159                    0.000000                     0.0   \n",
       "160                    0.000000                     0.0   \n",
       "161                    0.000000                     0.0   \n",
       "162                    0.000000                     0.0   \n",
       "\n",
       "     Arremessos de 2-pt convertidos  ...  Arremessos %  \\\n",
       "0                              27.0  ...          0.49   \n",
       "1                              13.0  ...          0.46   \n",
       "2                              13.0  ...          0.45   \n",
       "3                               9.0  ...          0.43   \n",
       "4                              13.0  ...          0.49   \n",
       "..                              ...  ...           ...   \n",
       "158                             0.0  ...          0.00   \n",
       "159                             0.0  ...          0.00   \n",
       "160                             0.0  ...          0.00   \n",
       "161                             0.0  ...          0.00   \n",
       "162                             0.0  ...          0.00   \n",
       "\n",
       "     Tentativas de arremessos de 2pt  Arremessos de 2-pt, %  \\\n",
       "0                               45.0                   0.60   \n",
       "1                               23.0                   0.57   \n",
       "2                               24.0                   0.54   \n",
       "3                               18.0                   0.50   \n",
       "4                               21.0                   0.62   \n",
       "..                               ...                    ...   \n",
       "158                              0.0                   0.00   \n",
       "159                              0.0                   0.00   \n",
       "160                              0.0                   0.00   \n",
       "161                              0.0                   0.00   \n",
       "162                              0.0                   0.00   \n",
       "\n",
       "     Tentativas de arremessos de 3pt  3-pt %  Tentativas de l. livres  \\\n",
       "0                               33.0    0.33                     16.0   \n",
       "1                               34.0    0.38                     12.0   \n",
       "2                               31.0    0.39                     14.0   \n",
       "3                               26.0    0.38                     11.0   \n",
       "4                               26.0    0.38                      5.0   \n",
       "..                               ...     ...                      ...   \n",
       "158                              0.0    0.00                      0.0   \n",
       "159                              0.0    0.00                      0.0   \n",
       "160                              0.0    0.00                      0.0   \n",
       "161                              0.0    0.00                      0.0   \n",
       "162                              0.0    0.00                      0.0   \n",
       "\n",
       "     L. livres +  L. livres, %  Faltas  Quantidade_de_jogos  \n",
       "0           10.0          0.63    14.0                    6  \n",
       "1           10.0          0.83    10.0                    5  \n",
       "2           10.0          0.71     9.0                    3  \n",
       "3           10.0          0.91     9.0                    4  \n",
       "4            3.0          0.60     8.0                    1  \n",
       "..           ...           ...     ...                  ...  \n",
       "158          0.0          0.00     0.0                    1  \n",
       "159          0.0          0.00     0.0                    1  \n",
       "160          0.0          0.00     0.0                    1  \n",
       "161          0.0          0.00     0.0                    1  \n",
       "162          0.0          0.00     1.0                    1  \n",
       "\n",
       "[163 rows x 27 columns]"
      ]
     },
     "execution_count": 18,
     "metadata": {},
     "output_type": "execute_result"
    }
   ],
   "source": [
    "m"
   ]
  },
  {
   "cell_type": "code",
   "execution_count": 17,
   "metadata": {},
   "outputs": [],
   "source": [
    "m = pd.merge(conferir, contagem, how='inner', on='Surname')"
   ]
  },
  {
   "cell_type": "code",
   "execution_count": null,
   "metadata": {},
   "outputs": [],
   "source": [
    "m['Quantidade_de_jogos'].value_counts()"
   ]
  },
  {
   "cell_type": "code",
   "execution_count": null,
   "metadata": {},
   "outputs": [],
   "source": [
    "m['Quantidade_de_jogos'].sum()"
   ]
  },
  {
   "cell_type": "code",
   "execution_count": null,
   "metadata": {},
   "outputs": [],
   "source": [
    "m.to_csv('tempo2.csv')"
   ]
  },
  {
   "cell_type": "code",
   "execution_count": null,
   "metadata": {},
   "outputs": [],
   "source": [
    "a = []\n",
    "a"
   ]
  },
  {
   "cell_type": "code",
   "execution_count": null,
   "metadata": {},
   "outputs": [],
   "source": []
  },
  {
   "cell_type": "code",
   "execution_count": null,
   "metadata": {},
   "outputs": [],
   "source": []
  },
  {
   "cell_type": "code",
   "execution_count": null,
   "metadata": {},
   "outputs": [],
   "source": []
  },
  {
   "cell_type": "code",
   "execution_count": null,
   "metadata": {},
   "outputs": [],
   "source": [
    "conferir = pd.read_excel(pasta[0])\n",
    "conferir.drop(conferir.tail(1).index,inplace=True)\n",
    "contagem = []\n",
    "for y in range(len(conferir)):\n",
    "    a = conferir['Surname'][y].agrub('')\n",
    "    print(conferir['Surname'][y])\n",
    "    print(a)"
   ]
  },
  {
   "cell_type": "code",
   "execution_count": null,
   "metadata": {},
   "outputs": [],
   "source": [
    "resultado['Mais / Menos']"
   ]
  },
  {
   "cell_type": "code",
   "execution_count": null,
   "metadata": {},
   "outputs": [],
   "source": []
  },
  {
   "cell_type": "code",
   "execution_count": null,
   "metadata": {},
   "outputs": [],
   "source": []
  },
  {
   "cell_type": "code",
   "execution_count": null,
   "metadata": {},
   "outputs": [],
   "source": [
    "files_xlsx = files_xlsx[::-1]"
   ]
  },
  {
   "cell_type": "code",
   "execution_count": null,
   "metadata": {},
   "outputs": [],
   "source": [
    "conferir = [path + '\\\\' + f for f in files if f[-4:] == ('.xls')]\n",
    "df_teste = pd.read_excel(conferir[0])\n",
    "df_teste = df_teste.loc[:370, criterios]"
   ]
  },
  {
   "cell_type": "code",
   "execution_count": null,
   "metadata": {},
   "outputs": [],
   "source": [
    "def horario(primeiro_jogo):\n",
    "    for i, x in enumerate(primeiro_jogo['Minutos']):\n",
    "        try:\n",
    "            if re.findall(r'..:..:........', x):\n",
    "                pass\n",
    "            else:\n",
    "                primeiro_jogo.loc[i, 'Minutos'] = x[0:8] + '.000000'\n",
    "            primeiro_jogo.loc[i, 'Minutos'] = datetime.strptime(primeiro_jogo['Minutos'][i], '%H:%M:%S.%f')\n",
    "            primeiro_jogo.loc[i, 'Minutos'] = (primeiro_jogo['Minutos'][i].hour * 60 + \n",
    "                                               primeiro_jogo['Minutos'][i].minute) * 60 + primeiro_jogo['Minutos'][i].second\n",
    "        except:\n",
    "            primeiro_jogo.loc[i, 'Minutos'] = primeiro_jogo['Minutos'][i].hour * 60 + primeiro_jogo['Minutos'][i].minute + primeiro_jogo['Minutos'][i].second"
   ]
  },
  {
   "cell_type": "code",
   "execution_count": null,
   "metadata": {},
   "outputs": [],
   "source": [
    "def combinacoes(df_teste, primeiro_jogo):\n",
    "    resultado = []\n",
    "    primeiro_jogo['Posse/seg'] = primeiro_jogo['Posses']/primeiro_jogo['Minutos']\n",
    "    primeiro_jogo['Pontos/seg'] = primeiro_jogo['Pontos']/primeiro_jogo['Minutos']\n",
    "    primeiro_jogo.drop(['Minutos', 'Pontos', 'Posses'], inplace=True, axis=1)\n",
    "    minimo = min(primeiro_jogo['Mais / Menos'])\n",
    "    maximo =  max(primeiro_jogo['Perda de posse'])\n",
    "    for index, row in df_teste.iterrows():\n",
    "        if row['Surname'] in list(primeiro_jogo['Surname']):\n",
    "            ids = primeiro_jogo.index[primeiro_jogo['Surname'] == row['Surname']].tolist()\n",
    "            resultado.append(list(primeiro_jogo.values[ids]))\n",
    "        else:\n",
    "            valor_minimo = [row['Surname'] ,minimo, 0, 0, 0, 0, 0, maximo, 0, 0, 0, 0, 0]\n",
    "            resultado.append(valor_minimo)\n",
    "    return np.array(resultado)"
   ]
  },
  {
   "cell_type": "code",
   "execution_count": null,
   "metadata": {},
   "outputs": [],
   "source": [
    "resultado = []\n",
    "contador = 0\n",
    "for i in files_xlsx:\n",
    "    df = pd.read_excel(i)\n",
    "    dados = df.loc[:, criterios]\n",
    "    horario(dados)\n",
    "    novo = combinacoes(df_teste, dados)\n",
    "    resultado.append(novo)"
   ]
  },
  {
   "cell_type": "code",
   "execution_count": null,
   "metadata": {},
   "outputs": [],
   "source": [
    "resultado = np.array(resultado)\n",
    "resultado"
   ]
  },
  {
   "cell_type": "code",
   "execution_count": null,
   "metadata": {},
   "outputs": [],
   "source": []
  },
  {
   "cell_type": "code",
   "execution_count": null,
   "metadata": {},
   "outputs": [],
   "source": []
  },
  {
   "cell_type": "code",
   "execution_count": null,
   "metadata": {},
   "outputs": [],
   "source": []
  },
  {
   "cell_type": "code",
   "execution_count": null,
   "metadata": {},
   "outputs": [],
   "source": []
  },
  {
   "cell_type": "code",
   "execution_count": null,
   "metadata": {},
   "outputs": [],
   "source": []
  },
  {
   "cell_type": "code",
   "execution_count": null,
   "metadata": {},
   "outputs": [],
   "source": []
  },
  {
   "cell_type": "code",
   "execution_count": null,
   "metadata": {},
   "outputs": [],
   "source": []
  }
 ],
 "metadata": {
  "kernelspec": {
   "display_name": "Python 3",
   "language": "python",
   "name": "python3"
  },
  "language_info": {
   "codemirror_mode": {
    "name": "ipython",
    "version": 3
   },
   "file_extension": ".py",
   "mimetype": "text/x-python",
   "name": "python",
   "nbconvert_exporter": "python",
   "pygments_lexer": "ipython3",
   "version": "3.8.3"
  },
  "varInspector": {
   "cols": {
    "lenName": 16,
    "lenType": 16,
    "lenVar": 40
   },
   "kernels_config": {
    "python": {
     "delete_cmd_postfix": "",
     "delete_cmd_prefix": "del ",
     "library": "var_list.py",
     "varRefreshCmd": "print(var_dic_list())"
    },
    "r": {
     "delete_cmd_postfix": ") ",
     "delete_cmd_prefix": "rm(",
     "library": "var_list.r",
     "varRefreshCmd": "cat(var_dic_list()) "
    }
   },
   "types_to_exclude": [
    "module",
    "function",
    "builtin_function_or_method",
    "instance",
    "_Feature"
   ],
   "window_display": false
  }
 },
 "nbformat": 4,
 "nbformat_minor": 4
}
