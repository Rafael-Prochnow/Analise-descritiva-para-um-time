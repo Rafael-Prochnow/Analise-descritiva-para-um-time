{
 "cells": [
  {
   "cell_type": "code",
   "execution_count": 1,
   "metadata": {},
   "outputs": [],
   "source": [
    "def siglas(nome_time):\n",
    "    if nome_time == 'Bauru':\n",
    "        return 'BAU'\n",
    "    \n",
    "    elif nome_time == 'MOGI1':\n",
    "        return 'MOG'\n",
    "    \n",
    "    elif nome_time == 'VipTech CMB':\n",
    "        return 'CMO'\n",
    "    \n",
    "    elif nome_time == 'Brasília':\n",
    "        return 'BSB'\n",
    "    \n",
    "    elif nome_time == 'Paulistano':\n",
    "        return 'CAP'\n",
    "    \n",
    "    elif nome_time == 'Flamengo':\n",
    "        return 'FLA'\n",
    "    \n",
    "    elif nome_time == 'Minas':\n",
    "        return 'MIN'\n",
    "    \n",
    "    elif nome_time == 'UNIFACISA':\n",
    "        return 'UFC'\n",
    "    \n",
    "    elif nome_time == 'Cerrado Basquete':\n",
    "        return 'CER'\n",
    "    \n",
    "    elif nome_time == 'SESI Franca':\n",
    "        return 'FRA'\n",
    "    \n",
    "    elif nome_time == 'Corinthians':\n",
    "        return 'COR'\n",
    "    \n",
    "    elif nome_time == 'Pinheiros':\n",
    "        return 'PIN'\n",
    "    \n",
    "    elif nome_time == 'Fortaleza B. C':\n",
    "        return 'FOR'\n",
    "    \n",
    "    elif nome_time == 'KTO Caxias do Sul':\n",
    "        return 'CAX'\n",
    "    \n",
    "    elif nome_time == 'Pato':\n",
    "        return 'PAT'\n",
    "    \n",
    "    elif nome_time == 'São Paulo':\n",
    "        return 'SPF'"
   ]
  },
  {
   "cell_type": "markdown",
   "metadata": {},
   "source": [
    "# Bibliotecas"
   ]
  },
  {
   "cell_type": "code",
   "execution_count": 2,
   "metadata": {},
   "outputs": [],
   "source": [
    "import pandas as pd\n",
    "import re\n",
    "from datetime import datetime\n",
    "import datetime as dt"
   ]
  },
  {
   "cell_type": "code",
   "execution_count": 3,
   "metadata": {},
   "outputs": [],
   "source": [
    "# arquivo = \"tabela_16_Corinthians_x_Paulistano.csv\"\n",
    "# arquivo = \"tabela_45_KTO Caxias do Sul_x_Corinthians.csv\"\n",
    "arquivo = \"tabela_16_Corinthians_x_Paulistano.csv\"\n",
    "# arquivo = \"tabela_51_Flamengo_x_Brasília.csv\"\n",
    "# arquivo = \"tabela_10_Bauru_x_Flamengo.csv\""
   ]
  },
  {
   "cell_type": "code",
   "execution_count": 4,
   "metadata": {},
   "outputs": [],
   "source": [
    "df = pd.read_csv(arquivo)"
   ]
  },
  {
   "cell_type": "markdown",
   "metadata": {},
   "source": [
    "### Localizar as expressões regulares"
   ]
  },
  {
   "cell_type": "code",
   "execution_count": 5,
   "metadata": {},
   "outputs": [
    {
     "data": {
      "text/plain": [
       "['Corinthians_x_Paulistano.']"
      ]
     },
     "execution_count": 5,
     "metadata": {},
     "output_type": "execute_result"
    }
   ],
   "source": [
    "expressao_regular = re.findall(r'[A-Z].*?[.]', arquivo)\n",
    "expressao_regular"
   ]
  },
  {
   "cell_type": "code",
   "execution_count": 6,
   "metadata": {},
   "outputs": [],
   "source": [
    "expressao_regular = str(expressao_regular).strip('[]')\n",
    "expressao_regular0 = expressao_regular.split('_x_')"
   ]
  },
  {
   "cell_type": "markdown",
   "metadata": {},
   "source": [
    "# criar um df que identifique o Mogi e colocar mogi das cruzes"
   ]
  },
  {
   "cell_type": "code",
   "execution_count": 7,
   "metadata": {},
   "outputs": [
    {
     "data": {
      "text/plain": [
       "'Corinthians'"
      ]
     },
     "execution_count": 7,
     "metadata": {},
     "output_type": "execute_result"
    }
   ],
   "source": [
    "casa = expressao_regular0[0]\n",
    "nome_time_casa = casa.replace(\"'\", \"\")\n",
    "nome_time_casa"
   ]
  },
  {
   "cell_type": "code",
   "execution_count": 8,
   "metadata": {},
   "outputs": [
    {
     "data": {
      "text/plain": [
       "'Paulistano'"
      ]
     },
     "execution_count": 8,
     "metadata": {},
     "output_type": "execute_result"
    }
   ],
   "source": [
    "fora = expressao_regular0[1]\n",
    "nome_time_fora = fora.replace(\".'\", \"\")\n",
    "nome_time_fora"
   ]
  },
  {
   "cell_type": "markdown",
   "metadata": {},
   "source": [
    "### Informações básicas sobre o jogo para que completar a tabela"
   ]
  },
  {
   "cell_type": "code",
   "execution_count": 9,
   "metadata": {},
   "outputs": [],
   "source": [
    "data_hoje = datetime.today().strftime('%d/%m/%Y')\n",
    "dia_do_jogo = '02/01/2021'\n",
    "temporada = 2019\n",
    "sigla_time_a = siglas(nome_time_casa)\n",
    "sigla_time_b = siglas(nome_time_fora)\n",
    "casa = 'casa'\n",
    "fora = 'fora'\n",
    "classificatoria = '1 Turno'"
   ]
  },
  {
   "cell_type": "markdown",
   "metadata": {},
   "source": [
    "### Local dos arquivos para salvar"
   ]
  },
  {
   "cell_type": "code",
   "execution_count": 10,
   "metadata": {},
   "outputs": [],
   "source": [
    "arquivo = 'RELATORIO'\n",
    "arquivo1 = f'informacoes_dos_times/{nome_time_casa}'\n",
    "arquivo2 = f'informacoes_dos_times/{nome_time_fora}'\n",
    "img_casa = f'{arquivo1}/{nome_time_casa}'\n",
    "img_fora = f'{arquivo2}/{nome_time_fora}'"
   ]
  },
  {
   "cell_type": "code",
   "execution_count": 11,
   "metadata": {},
   "outputs": [
    {
     "data": {
      "text/html": [
       "<div>\n",
       "<style scoped>\n",
       "    .dataframe tbody tr th:only-of-type {\n",
       "        vertical-align: middle;\n",
       "    }\n",
       "\n",
       "    .dataframe tbody tr th {\n",
       "        vertical-align: top;\n",
       "    }\n",
       "\n",
       "    .dataframe thead th {\n",
       "        text-align: right;\n",
       "    }\n",
       "</style>\n",
       "<table border=\"1\" class=\"dataframe\">\n",
       "  <thead>\n",
       "    <tr style=\"text-align: right;\">\n",
       "      <th></th>\n",
       "      <th>Nomes</th>\n",
       "      <th>Siglas</th>\n",
       "      <th>Mandante</th>\n",
       "      <th>Classificação</th>\n",
       "      <th>Temporada</th>\n",
       "      <th>Dia</th>\n",
       "      <th>Arquivo</th>\n",
       "      <th>Imagem</th>\n",
       "    </tr>\n",
       "  </thead>\n",
       "  <tbody>\n",
       "    <tr>\n",
       "      <th>0</th>\n",
       "      <td>Corinthians</td>\n",
       "      <td>COR</td>\n",
       "      <td>casa</td>\n",
       "      <td>1 Turno</td>\n",
       "      <td>2019</td>\n",
       "      <td>02/01/2021</td>\n",
       "      <td>informacoes_dos_times/Corinthians</td>\n",
       "      <td>informacoes_dos_times/Corinthians/Corinthians</td>\n",
       "    </tr>\n",
       "    <tr>\n",
       "      <th>1</th>\n",
       "      <td>Paulistano</td>\n",
       "      <td>CAP</td>\n",
       "      <td>fora</td>\n",
       "      <td>1 Turno</td>\n",
       "      <td>2019</td>\n",
       "      <td>02/01/2021</td>\n",
       "      <td>informacoes_dos_times/Paulistano</td>\n",
       "      <td>informacoes_dos_times/Paulistano/Paulistano</td>\n",
       "    </tr>\n",
       "  </tbody>\n",
       "</table>\n",
       "</div>"
      ],
      "text/plain": [
       "         Nomes Siglas Mandante Classificação  Temporada         Dia  \\\n",
       "0  Corinthians    COR     casa       1 Turno       2019  02/01/2021   \n",
       "1   Paulistano    CAP     fora       1 Turno       2019  02/01/2021   \n",
       "\n",
       "                             Arquivo  \\\n",
       "0  informacoes_dos_times/Corinthians   \n",
       "1   informacoes_dos_times/Paulistano   \n",
       "\n",
       "                                          Imagem  \n",
       "0  informacoes_dos_times/Corinthians/Corinthians  \n",
       "1    informacoes_dos_times/Paulistano/Paulistano  "
      ]
     },
     "execution_count": 11,
     "metadata": {},
     "output_type": "execute_result"
    }
   ],
   "source": [
    "informações_jogo =  pd.DataFrame({\n",
    "    'Nomes':         [nome_time_casa, nome_time_fora],\n",
    "    'Siglas':        [sigla_time_a, sigla_time_b],\n",
    "    'Mandante':      ['casa', 'fora'],\n",
    "    'Classificação': [classificatoria, classificatoria],\n",
    "    'Temporada':     [temporada, temporada],\n",
    "    'Dia':           [dia_do_jogo, dia_do_jogo],\n",
    "    'Arquivo':       [arquivo1, arquivo2],\n",
    "    'Imagem':        [img_casa, img_fora]\n",
    "})\n",
    "informações_jogo"
   ]
  },
  {
   "cell_type": "code",
   "execution_count": 12,
   "metadata": {},
   "outputs": [],
   "source": [
    "informações_jogo.to_csv('informacao_jogo.csv')"
   ]
  },
  {
   "cell_type": "markdown",
   "metadata": {},
   "source": [
    "# Limpeza dos dados"
   ]
  },
  {
   "cell_type": "code",
   "execution_count": 13,
   "metadata": {},
   "outputs": [],
   "source": [
    "# primeiro evitar NAN (acredite!!! tem isso no site)\n",
    "df.dropna(subset=['Tempo'], inplace=True)"
   ]
  },
  {
   "cell_type": "markdown",
   "metadata": {},
   "source": [
    "* mudança do tempo\n",
    "* colocar todos em segundos para facilitar a vida\n",
    "* tem jogos que o site apresenta numeros inteiros (1, 12, 134, 1000)\n",
    "* para isso localizei o valores errados e concertei"
   ]
  },
  {
   "cell_type": "code",
   "execution_count": 14,
   "metadata": {},
   "outputs": [],
   "source": [
    "mudar_hora = []\n",
    "for x in df['Tempo']:\n",
    "    if re.findall(r'..:..', x):\n",
    "        mudar_hora.append(x)\n",
    "    else:\n",
    "        if re.findall(r'....', x):\n",
    "            x = x[0:2] + ':' + x[2:4]\n",
    "            mudar_hora.append(x)\n",
    "        elif re.findall(r'...', x):\n",
    "            x = '0' + x[0] + ':' + x[1:3]\n",
    "            mudar_hora.append(x)\n",
    "        elif re.findall(r'..', x):\n",
    "            x = '00:' + x\n",
    "            mudar_hora.append(x)\n",
    "        elif re.findall(r'.', x):\n",
    "            x = '00:0' + x\n",
    "            mudar_hora.append(x)\n",
    "\n",
    "df['Tempo_2'] = mudar_hora\n",
    "df.drop('Tempo', axis=1, inplace=True)"
   ]
  },
  {
   "cell_type": "code",
   "execution_count": 15,
   "metadata": {},
   "outputs": [],
   "source": [
    "df['Tempo_2'] = df['Tempo_2'].apply(lambda x: dt.datetime.strptime(x, '%M:%S'))"
   ]
  },
  {
   "cell_type": "code",
   "execution_count": 16,
   "metadata": {},
   "outputs": [],
   "source": [
    "df['Tempo_2'] = df['Tempo_2'].apply(lambda x: dt.time(x.hour, x.minute, x.second))"
   ]
  },
  {
   "cell_type": "code",
   "execution_count": 17,
   "metadata": {},
   "outputs": [],
   "source": [
    "df['Tempo_2'] = df['Tempo_2'].apply(lambda x: (x.hour * 60 + x.minute) * 60 + x.second)"
   ]
  },
  {
   "cell_type": "code",
   "execution_count": 18,
   "metadata": {},
   "outputs": [],
   "source": [
    "# transforma os dados para números inteiros\n",
    "df['Quarto'] = df['Quarto'].apply(lambda l: int(l))"
   ]
  },
  {
   "cell_type": "code",
   "execution_count": 19,
   "metadata": {},
   "outputs": [],
   "source": [
    "# modificar o tempo decrescente para crescente (* -1)\n",
    "# acrescentar o tempo de cada quarto (primeiro quarto termina em 600s, o segundo quarto 2*600 = 1200 ...)\n",
    "tempo_novo = []\n",
    "for x, y in zip(df['Quarto'], df['Tempo_2']):\n",
    "    if x == 1:\n",
    "        a = (y - (600 * 1)) * -1\n",
    "        tempo_novo.append(a)\n",
    "    elif x == 2:\n",
    "        a = (y - (600 * 2)) * -1\n",
    "        tempo_novo.append(a)\n",
    "    elif x == 3:\n",
    "        a = (y - (600 * 3)) * -1\n",
    "        tempo_novo.append(a)\n",
    "    elif x == 4:\n",
    "        a = (y - (600 * 4)) * -1\n",
    "        tempo_novo.append(a)\n",
    "    elif x == 5:\n",
    "        a = (y - (600 * 4.5)) * -1\n",
    "        tempo_novo.append(a)\n",
    "    elif x == 6:\n",
    "        a = (y - (600 * 5)) * -1\n",
    "        tempo_novo.append(a)\n",
    "    elif x == 7:\n",
    "        a = (y - (600 * 5.5)) * -1\n",
    "        tempo_novo.append(a)\n",
    "\n",
    "df['Tempo'] = tempo_novo\n",
    "df.drop('Tempo_2', axis=1, inplace=True)"
   ]
  },
  {
   "cell_type": "code",
   "execution_count": 20,
   "metadata": {},
   "outputs": [],
   "source": [
    "# deixando o DataFrame nessa ordem de colunas\n",
    "df = df[['Quarto', 'Tempo', 'placar_casa', 'placar_visitante', 'Time', 'Indicador', 'Nome']]"
   ]
  },
  {
   "cell_type": "code",
   "execution_count": 21,
   "metadata": {},
   "outputs": [
    {
     "data": {
      "text/html": [
       "<div>\n",
       "<style scoped>\n",
       "    .dataframe tbody tr th:only-of-type {\n",
       "        vertical-align: middle;\n",
       "    }\n",
       "\n",
       "    .dataframe tbody tr th {\n",
       "        vertical-align: top;\n",
       "    }\n",
       "\n",
       "    .dataframe thead th {\n",
       "        text-align: right;\n",
       "    }\n",
       "</style>\n",
       "<table border=\"1\" class=\"dataframe\">\n",
       "  <thead>\n",
       "    <tr style=\"text-align: right;\">\n",
       "      <th></th>\n",
       "      <th>Quarto</th>\n",
       "      <th>Tempo</th>\n",
       "      <th>placar_casa</th>\n",
       "      <th>placar_visitante</th>\n",
       "      <th>Time</th>\n",
       "      <th>Indicador</th>\n",
       "      <th>Nome</th>\n",
       "      <th>diferenca_placar_casa</th>\n",
       "      <th>diferenca_placar_visitante</th>\n",
       "      <th>diferenca_placar_absoluto</th>\n",
       "    </tr>\n",
       "  </thead>\n",
       "  <tbody>\n",
       "    <tr>\n",
       "      <th>0</th>\n",
       "      <td>6</td>\n",
       "      <td>3000.0</td>\n",
       "      <td>98</td>\n",
       "      <td>100</td>\n",
       "      <td>NaN</td>\n",
       "      <td>fim_partida</td>\n",
       "      <td>NaN</td>\n",
       "      <td>-2</td>\n",
       "      <td>2</td>\n",
       "      <td>2</td>\n",
       "    </tr>\n",
       "    <tr>\n",
       "      <th>1</th>\n",
       "      <td>6</td>\n",
       "      <td>3000.0</td>\n",
       "      <td>98</td>\n",
       "      <td>100</td>\n",
       "      <td>NaN</td>\n",
       "      <td>fim_quarto</td>\n",
       "      <td>NaN</td>\n",
       "      <td>-2</td>\n",
       "      <td>2</td>\n",
       "      <td>2</td>\n",
       "    </tr>\n",
       "    <tr>\n",
       "      <th>2</th>\n",
       "      <td>6</td>\n",
       "      <td>2996.0</td>\n",
       "      <td>98</td>\n",
       "      <td>100</td>\n",
       "      <td>COR</td>\n",
       "      <td>AS</td>\n",
       "      <td>Fischer</td>\n",
       "      <td>-2</td>\n",
       "      <td>2</td>\n",
       "      <td>2</td>\n",
       "    </tr>\n",
       "    <tr>\n",
       "      <th>3</th>\n",
       "      <td>6</td>\n",
       "      <td>2996.0</td>\n",
       "      <td>98</td>\n",
       "      <td>100</td>\n",
       "      <td>COR</td>\n",
       "      <td>3_Pts_C</td>\n",
       "      <td>Fuller</td>\n",
       "      <td>-2</td>\n",
       "      <td>2</td>\n",
       "      <td>2</td>\n",
       "    </tr>\n",
       "    <tr>\n",
       "      <th>4</th>\n",
       "      <td>6</td>\n",
       "      <td>2994.0</td>\n",
       "      <td>95</td>\n",
       "      <td>100</td>\n",
       "      <td>COR</td>\n",
       "      <td>RO</td>\n",
       "      <td>Renato</td>\n",
       "      <td>-5</td>\n",
       "      <td>5</td>\n",
       "      <td>5</td>\n",
       "    </tr>\n",
       "    <tr>\n",
       "      <th>...</th>\n",
       "      <td>...</td>\n",
       "      <td>...</td>\n",
       "      <td>...</td>\n",
       "      <td>...</td>\n",
       "      <td>...</td>\n",
       "      <td>...</td>\n",
       "      <td>...</td>\n",
       "      <td>...</td>\n",
       "      <td>...</td>\n",
       "      <td>...</td>\n",
       "    </tr>\n",
       "    <tr>\n",
       "      <th>647</th>\n",
       "      <td>1</td>\n",
       "      <td>0.0</td>\n",
       "      <td>0</td>\n",
       "      <td>0</td>\n",
       "      <td>COR</td>\n",
       "      <td>substituicao_entra</td>\n",
       "      <td>Miller</td>\n",
       "      <td>0</td>\n",
       "      <td>0</td>\n",
       "      <td>0</td>\n",
       "    </tr>\n",
       "    <tr>\n",
       "      <th>648</th>\n",
       "      <td>1</td>\n",
       "      <td>0.0</td>\n",
       "      <td>0</td>\n",
       "      <td>0</td>\n",
       "      <td>COR</td>\n",
       "      <td>substituicao_entra</td>\n",
       "      <td>L Cauê</td>\n",
       "      <td>0</td>\n",
       "      <td>0</td>\n",
       "      <td>0</td>\n",
       "    </tr>\n",
       "    <tr>\n",
       "      <th>649</th>\n",
       "      <td>1</td>\n",
       "      <td>0.0</td>\n",
       "      <td>0</td>\n",
       "      <td>0</td>\n",
       "      <td>COR</td>\n",
       "      <td>substituicao_entra</td>\n",
       "      <td>Fuller</td>\n",
       "      <td>0</td>\n",
       "      <td>0</td>\n",
       "      <td>0</td>\n",
       "    </tr>\n",
       "    <tr>\n",
       "      <th>650</th>\n",
       "      <td>1</td>\n",
       "      <td>0.0</td>\n",
       "      <td>0</td>\n",
       "      <td>0</td>\n",
       "      <td>COR</td>\n",
       "      <td>substituicao_entra</td>\n",
       "      <td>Fischer</td>\n",
       "      <td>0</td>\n",
       "      <td>0</td>\n",
       "      <td>0</td>\n",
       "    </tr>\n",
       "    <tr>\n",
       "      <th>651</th>\n",
       "      <td>1</td>\n",
       "      <td>0.0</td>\n",
       "      <td>0</td>\n",
       "      <td>0</td>\n",
       "      <td>NaN</td>\n",
       "      <td>inicio_partida</td>\n",
       "      <td>NaN</td>\n",
       "      <td>0</td>\n",
       "      <td>0</td>\n",
       "      <td>0</td>\n",
       "    </tr>\n",
       "  </tbody>\n",
       "</table>\n",
       "<p>652 rows × 10 columns</p>\n",
       "</div>"
      ],
      "text/plain": [
       "     Quarto   Tempo  placar_casa  placar_visitante Time           Indicador  \\\n",
       "0         6  3000.0           98               100  NaN         fim_partida   \n",
       "1         6  3000.0           98               100  NaN          fim_quarto   \n",
       "2         6  2996.0           98               100  COR                  AS   \n",
       "3         6  2996.0           98               100  COR             3_Pts_C   \n",
       "4         6  2994.0           95               100  COR                  RO   \n",
       "..      ...     ...          ...               ...  ...                 ...   \n",
       "647       1     0.0            0                 0  COR  substituicao_entra   \n",
       "648       1     0.0            0                 0  COR  substituicao_entra   \n",
       "649       1     0.0            0                 0  COR  substituicao_entra   \n",
       "650       1     0.0            0                 0  COR  substituicao_entra   \n",
       "651       1     0.0            0                 0  NaN      inicio_partida   \n",
       "\n",
       "        Nome  diferenca_placar_casa  diferenca_placar_visitante  \\\n",
       "0        NaN                     -2                           2   \n",
       "1        NaN                     -2                           2   \n",
       "2    Fischer                     -2                           2   \n",
       "3     Fuller                     -2                           2   \n",
       "4     Renato                     -5                           5   \n",
       "..       ...                    ...                         ...   \n",
       "647   Miller                      0                           0   \n",
       "648   L Cauê                      0                           0   \n",
       "649   Fuller                      0                           0   \n",
       "650  Fischer                      0                           0   \n",
       "651      NaN                      0                           0   \n",
       "\n",
       "     diferenca_placar_absoluto  \n",
       "0                            2  \n",
       "1                            2  \n",
       "2                            2  \n",
       "3                            2  \n",
       "4                            5  \n",
       "..                         ...  \n",
       "647                          0  \n",
       "648                          0  \n",
       "649                          0  \n",
       "650                          0  \n",
       "651                          0  \n",
       "\n",
       "[652 rows x 10 columns]"
      ]
     },
     "execution_count": 21,
     "metadata": {},
     "output_type": "execute_result"
    }
   ],
   "source": [
    "# Acrescentado colunas\n",
    "# diferenca_placar_casa\n",
    "# diferenca_placar_visitante\n",
    "df['diferenca_placar_casa'] = df['placar_casa'] - df['placar_visitante']\n",
    "df['diferenca_placar_visitante'] = df['placar_visitante'] - df['placar_casa']\n",
    "df[\"diferenca_placar_absoluto\"] = df.loc[:, (\"diferenca_placar_casa\")].abs()\n",
    "df"
   ]
  },
  {
   "cell_type": "code",
   "execution_count": 22,
   "metadata": {},
   "outputs": [],
   "source": [
    "df.to_csv('df.csv')"
   ]
  },
  {
   "cell_type": "code",
   "execution_count": null,
   "metadata": {},
   "outputs": [],
   "source": []
  }
 ],
 "metadata": {
  "kernelspec": {
   "display_name": "Python 3",
   "language": "python",
   "name": "python3"
  },
  "language_info": {
   "codemirror_mode": {
    "name": "ipython",
    "version": 3
   },
   "file_extension": ".py",
   "mimetype": "text/x-python",
   "name": "python",
   "nbconvert_exporter": "python",
   "pygments_lexer": "ipython3",
   "version": "3.8.3"
  }
 },
 "nbformat": 4,
 "nbformat_minor": 4
}
