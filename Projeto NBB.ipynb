{
 "cells": [
  {
   "cell_type": "markdown",
   "metadata": {},
   "source": [
    "# Projeto: Análises do NBB 2019"
   ]
  },
  {
   "cell_type": "markdown",
   "metadata": {},
   "source": [
    "Para esse projeto estaremos analisando jogos do NBB, principal campeonato brasileiro de basquetebol. Os dados contém os seguintes campos:\n",
    "\n",
    "* Njogador-> Corresponde ao número de jogadores no time\n",
    "* Temporada-> Ano de início da temporada\n",
    "* Time       -> Nome do time que está jogando em casa\n",
    "* Adversário -> Nome do time que está jogando fora de casa\n",
    "* Casa/Fora  -> Correponde ao time está jogando em casa ou fora\n",
    "* Jogador    -> Nome do jogador que estava na sumula do jogo\n",
    "* Min        -> Minutos jogados do jogador\n",
    "* Pts_C      -> Pontos Convertidos \n",
    "* Pts_T      -> Pontos Tentados \n",
    "* Pts_3_C    -> Três Pontos Convertidos \n",
    "* Pts_3_T    -> Três Pontos Tentados\n",
    "* Pts_2_C    -> Dois Pontos Convertidos\n",
    "* Pts_2_T    -> Dois Pontos Tentados\n",
    "* LL_Pts_C   -> Lances Livres Convertidos\n",
    "* LL_Pts_T   -> Lances Livres Tentados\n",
    "* RO         -> Rebotes Ofensivos\n",
    "* RD         -> Rebotes Defensivos\n",
    "* RT         -> Rebotes Totais\n",
    "* AS         -> Assistências\n",
    "* BR         -> Bolas Roubadas \n",
    "* TO         -> Tocos\n",
    "* FC         -> Faltas Cometidas\n",
    "* FR         -> Faltas Recebidas \n",
    "* EN         -> Enterradas\n",
    "* Ar_Pts_C   -> Arremessos dos Pontos Convertidos\n",
    "* Ar_Pts_C   -> Arremessos dos Pontos Tentados \n",
    "* Pos        -> Posse de bola do time \n",
    "\n",
    "Objetivos a serem análisados: \n",
    "* ...."
   ]
  },
  {
   "cell_type": "markdown",
   "metadata": {},
   "source": [
    "Bibliotecas utilizadas para análises estátisticas"
   ]
  },
  {
   "cell_type": "code",
   "execution_count": 1,
   "metadata": {},
   "outputs": [],
   "source": [
    "import numpy as np\n",
    "import pandas as pd\n",
    "import datetime\n",
    "import datetime as dt\n",
    "from datetime import datetime\n",
    "from datetime import timedelta"
   ]
  },
  {
   "cell_type": "markdown",
   "metadata": {},
   "source": [
    "Bibliotacas utilizadas para plotar gráficos"
   ]
  },
  {
   "cell_type": "code",
   "execution_count": 2,
   "metadata": {},
   "outputs": [],
   "source": [
    "import matplotlib.pyplot as plt\n",
    "import seaborn as sns\n",
    "%matplotlib inline"
   ]
  },
  {
   "cell_type": "markdown",
   "metadata": {},
   "source": [
    "Lendo o arquivo csv que será utilizado para análise da Temporada 2019"
   ]
  },
  {
   "cell_type": "code",
   "execution_count": 3,
   "metadata": {},
   "outputs": [],
   "source": [
    "df = pd.read_csv(\"Tabela_geral_2019_nova.csv\")"
   ]
  },
  {
   "cell_type": "code",
   "execution_count": null,
   "metadata": {},
   "outputs": [],
   "source": [
    "df.drop('Unnamed: 0', axis = 1, inplace=True)"
   ]
  },
  {
   "cell_type": "markdown",
   "metadata": {},
   "source": [
    "Verificar as Informações do Data.Frame"
   ]
  },
  {
   "cell_type": "code",
   "execution_count": null,
   "metadata": {
    "scrolled": true
   },
   "outputs": [],
   "source": [
    "df.info()"
   ]
  },
  {
   "cell_type": "markdown",
   "metadata": {},
   "source": [
    "Verificação do cabeçalho do df"
   ]
  },
  {
   "cell_type": "code",
   "execution_count": null,
   "metadata": {},
   "outputs": [],
   "source": [
    "df.head(13)"
   ]
  },
  {
   "cell_type": "markdown",
   "metadata": {},
   "source": [
    "# Perguntas Básicas "
   ]
  },
  {
   "cell_type": "markdown",
   "metadata": {},
   "source": [
    "Quantos Times participam do campeonato?"
   ]
  },
  {
   "cell_type": "code",
   "execution_count": null,
   "metadata": {},
   "outputs": [],
   "source": [
    "df['Time'].unique()"
   ]
  },
  {
   "cell_type": "code",
   "execution_count": null,
   "metadata": {},
   "outputs": [],
   "source": [
    "df['Time'].nunique()"
   ]
  },
  {
   "cell_type": "markdown",
   "metadata": {},
   "source": [
    "Quantos Jogadores participaram do Campeonato?"
   ]
  },
  {
   "cell_type": "code",
   "execution_count": null,
   "metadata": {},
   "outputs": [],
   "source": [
    "df['Jogador'].unique()"
   ]
  },
  {
   "cell_type": "code",
   "execution_count": null,
   "metadata": {},
   "outputs": [],
   "source": [
    "df['Jogador'].nunique()"
   ]
  },
  {
   "cell_type": "markdown",
   "metadata": {},
   "source": [
    "Quantos atletas por time?"
   ]
  },
  {
   "cell_type": "code",
   "execution_count": null,
   "metadata": {},
   "outputs": [],
   "source": [
    "UNIFACISA = df.query(\"Time == 'UNIFACISA'\")\n",
    "Sao_Paulo = df.query(\"Time == 'São Paulo'\")\n",
    "Pinheiros = df.query(\"Time == 'Pinheiros'\")\n",
    "Brasilia = df.query(\"Time == 'Brasília'\")\n",
    "Corinthians = df.query(\"Time == 'Corinthians'\")\n",
    "Minas = df.query(\"Time == 'Minas'\")\n",
    "Sesi_Franca = df.query(\"Time == 'Sesi Franca'\")\n",
    "Bauru = df.query(\"Time == 'Bauru'\")\n",
    "Sao_Jose = df.query(\"Time == 'São José'\")\n",
    "Mogi = df.query(\"Time == 'Mogi'\")\n",
    "Rio_Claro = df.query(\"Time == 'Rio Claro'\")\n",
    "Paulistano = df.query(\"Time == 'Paulistano'\")\n",
    "Pato_Basquete = df.query(\"Time == 'Pato Basquete'\")\n",
    "Basq_Cearense = df.query(\"Time == 'Basq. Cearense'\")\n",
    "Botafogo = df.query(\"Time == 'Botafogo'\")\n",
    "Flamengo = df.query(\"Time == 'Flamengo'\")"
   ]
  },
  {
   "cell_type": "markdown",
   "metadata": {},
   "source": [
    "Gráfico dos indicaodres técnicos para cada time"
   ]
  },
  {
   "cell_type": "code",
   "execution_count": null,
   "metadata": {},
   "outputs": [],
   "source": [
    "UNIFACISA_jogo_soma = UNIFACISA.query(\"Jogador == 'Equipe'\").sum(axis=0, numeric_only=True)"
   ]
  },
  {
   "cell_type": "code",
   "execution_count": null,
   "metadata": {},
   "outputs": [],
   "source": [
    "Sao_Paulo_jogo_soma = Sao_Paulo.query(\"Jogador == 'Equipe'\").sum(axis=0, numeric_only=True)"
   ]
  },
  {
   "cell_type": "code",
   "execution_count": null,
   "metadata": {
    "scrolled": false
   },
   "outputs": [],
   "source": [
    "time_soma = df.groupby('Time').sum()"
   ]
  },
  {
   "cell_type": "code",
   "execution_count": null,
   "metadata": {},
   "outputs": [],
   "source": [
    "sns.distplot(time_soma['Pts_C'])"
   ]
  },
  {
   "cell_type": "markdown",
   "metadata": {},
   "source": [
    "da para fazer um for e colocar um gráfico para cada time como o cara da Live#006 fez"
   ]
  },
  {
   "cell_type": "code",
   "execution_count": null,
   "metadata": {},
   "outputs": [],
   "source": [
    "UNIFACISA['Jogador'].unique()"
   ]
  },
  {
   "cell_type": "code",
   "execution_count": null,
   "metadata": {},
   "outputs": [],
   "source": [
    "UNIFACISA['Jogador'].nunique()"
   ]
  },
  {
   "cell_type": "code",
   "execution_count": null,
   "metadata": {},
   "outputs": [],
   "source": [
    "UNIFACISA.head(13)"
   ]
  },
  {
   "cell_type": "code",
   "execution_count": null,
   "metadata": {},
   "outputs": [],
   "source": [
    "UNIFACISA_jogo = UNIFACISA.query(\"Jogador == 'Equipe'\")"
   ]
  },
  {
   "cell_type": "code",
   "execution_count": null,
   "metadata": {
    "scrolled": false
   },
   "outputs": [],
   "source": [
    "UNIFACISA_jogo.head()"
   ]
  },
  {
   "cell_type": "code",
   "execution_count": null,
   "metadata": {},
   "outputs": [],
   "source": [
    "UNIFACISA_jogo.describe()"
   ]
  },
  {
   "cell_type": "markdown",
   "metadata": {},
   "source": [
    "# Converter str em min para utilizar em jogada jogada"
   ]
  },
  {
   "cell_type": "code",
   "execution_count": null,
   "metadata": {},
   "outputs": [],
   "source": [
    "type(df['Min'][0])"
   ]
  },
  {
   "cell_type": "code",
   "execution_count": null,
   "metadata": {},
   "outputs": [],
   "source": [
    "min = datetime.strptime(df['Min'][2], '%M:%S')"
   ]
  },
  {
   "cell_type": "code",
   "execution_count": null,
   "metadata": {},
   "outputs": [],
   "source": [
    "print(min)"
   ]
  },
  {
   "cell_type": "markdown",
   "metadata": {},
   "source": [
    "Transformando o str em datetime"
   ]
  },
  {
   "cell_type": "code",
   "execution_count": null,
   "metadata": {},
   "outputs": [],
   "source": [
    "df['Min'] = df['Min'].apply(lambda x: datetime.strptime(x, '%M:%S'))"
   ]
  },
  {
   "cell_type": "code",
   "execution_count": null,
   "metadata": {},
   "outputs": [],
   "source": [
    "df['Min'] = df['Min'].apply(lambda x: dt.time(x.hour, x.minute, x.second))"
   ]
  },
  {
   "cell_type": "code",
   "execution_count": null,
   "metadata": {},
   "outputs": [],
   "source": [
    "type(df['Min'][0])"
   ]
  },
  {
   "cell_type": "code",
   "execution_count": null,
   "metadata": {},
   "outputs": [],
   "source": [
    "df"
   ]
  },
  {
   "cell_type": "code",
   "execution_count": null,
   "metadata": {},
   "outputs": [],
   "source": []
  }
 ],
 "metadata": {
  "kernelspec": {
   "display_name": "Python 3",
   "language": "python",
   "name": "python3"
  },
  "language_info": {
   "codemirror_mode": {
    "name": "ipython",
    "version": 3
   },
   "file_extension": ".py",
   "mimetype": "text/x-python",
   "name": "python",
   "nbconvert_exporter": "python",
   "pygments_lexer": "ipython3",
   "version": "3.8.3"
  }
 },
 "nbformat": 4,
 "nbformat_minor": 4
}
