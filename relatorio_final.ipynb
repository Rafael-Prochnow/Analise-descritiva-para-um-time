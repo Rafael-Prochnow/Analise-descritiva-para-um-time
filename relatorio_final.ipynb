{
 "cells": [
  {
   "cell_type": "code",
   "execution_count": 1,
   "metadata": {},
   "outputs": [],
   "source": [
    "from fpdf import FPDF\n",
    "from datetime import datetime\n",
    "import pandas as pd\n",
    "from funcoes_relatorio_analises import *"
   ]
  },
  {
   "cell_type": "code",
   "execution_count": 2,
   "metadata": {},
   "outputs": [],
   "source": [
    "data = datetime.today().strftime('%d/%m/%Y')\n",
    "dia_jogo = '02/01/2021'\n",
    "posicao = '3° Rodada'\n",
    "placar_casa = 61\n",
    "placar_fora = 74\n",
    "nome_casa = 'UNIFACISA'\n",
    "img_casa = 'RELATORIO/UNIFACISA'\n",
    "img_fora = 'RELATORIO/Rio Claro'\n",
    "nome_fora = 'Rio Claro'\n",
    "inf_placar_casa = [19, 31, 27, 24]\n",
    "inf_placar_fora = [25, 16, 14, 31]\n",
    "# print(f'Localização do pdf Atual = x:{round(pdf.get_x(),1)} | y: {round(pdf.get_y(),1)}')\n",
    "# !pip install fpdf"
   ]
  },
  {
   "cell_type": "code",
   "execution_count": 3,
   "metadata": {},
   "outputs": [],
   "source": [
    "jogador_1 = 'jogador_1'\n",
    "jogador_2 = 'jogador_2'\n",
    "jogador_3 = 'jogador_3'\n",
    "jogador_4 = 'jogador_1'\n",
    "jogador_5 = 'jogador_2'\n",
    "jogador_6 = 'jogador_3'"
   ]
  },
  {
   "cell_type": "code",
   "execution_count": 4,
   "metadata": {},
   "outputs": [],
   "source": [
    "arquivo = 'RELATORIO'"
   ]
  },
  {
   "cell_type": "code",
   "execution_count": 5,
   "metadata": {},
   "outputs": [],
   "source": [
    "valores = pd.DataFrame({'Pts_3_C':[11, 10], 'Pts_3_T':[29,27], 'Pts_2_C':[26,20], 'Pts_2_T':[45,39],\n",
    "                        'LL_C':[16,16], 'LL_T':[25,21], 'RO':[7,7], 'RD':[31,32], 'RT':[38,39], 'AS':[20,15],\n",
    "                        'BR':[11,4], 'ER':[8,13]})"
   ]
  },
  {
   "cell_type": "code",
   "execution_count": 6,
   "metadata": {},
   "outputs": [],
   "source": [
    "pontos_c_1 = pd.DataFrame({'Nome':['Lucious', 'Ansaloni', 'Pastor', 'Pedro', 'Sahdi'],\n",
    "                           'Pts_C':[19, 15, 12, 10, 9]})"
   ]
  },
  {
   "cell_type": "code",
   "execution_count": 7,
   "metadata": {},
   "outputs": [],
   "source": [
    "tres_pontos_c_1 = pd.DataFrame({'Nome':['Lucious', 'Ansaloni', 'Pastor', 'Baxley', 'Sahdi'],\n",
    "                                'Pts_3_C':[4, 2, 2, 1, 1]})"
   ]
  },
  {
   "cell_type": "code",
   "execution_count": 8,
   "metadata": {},
   "outputs": [],
   "source": [
    "dois_pontos_c_1 = pd.DataFrame({'Nome':['Ansaloni', 'Gerson', 'Lucious', 'Pastor', 'Pedro'],\n",
    "                                'Pts_2_C':[8, 7, 6, 5, 5]})"
   ]
  },
  {
   "cell_type": "code",
   "execution_count": 9,
   "metadata": {},
   "outputs": [],
   "source": [
    "rt_1 = pd.DataFrame({'Nome':['Gerson', 'Ansaloni', 'Sahdi', 'Pastor', 'Baxley'],\n",
    "                             'RT':[8, 7, 6, 5, 4]})"
   ]
  },
  {
   "cell_type": "code",
   "execution_count": 10,
   "metadata": {},
   "outputs": [],
   "source": [
    "as_1 = pd.DataFrame({'Nome':['Sahdi', 'Lucious', 'Baxley', 'Pedro', 'Ansaloni'],\n",
    "                             'AS':[6, 3, 2, 2, 1]})"
   ]
  },
  {
   "cell_type": "code",
   "execution_count": 11,
   "metadata": {},
   "outputs": [],
   "source": [
    "fr_1 = pd.DataFrame({'Nome':['Sahdi', 'Ansaloni', 'Baxley', 'Lucious', 'Pedro'],\n",
    "                             'FR':[7, 5, 3, 3, 2]})"
   ]
  },
  {
   "cell_type": "markdown",
   "metadata": {},
   "source": [
    "# Aprimoramento Página"
   ]
  },
  {
   "cell_type": "code",
   "execution_count": 12,
   "metadata": {},
   "outputs": [
    {
     "data": {
      "text/plain": [
       "''"
      ]
     },
     "execution_count": 12,
     "metadata": {},
     "output_type": "execute_result"
    }
   ],
   "source": [
    "pdf = FPDF('P', 'mm', 'A4')\n",
    "\n",
    "# Terceira Página de Análises Time da Casa\n",
    "pdf.add_page()\n",
    "# Cabeçalho e Rodapé\n",
    "cabecalho_rodape(pdf, arquivo)\n",
    "# Título/Comentarios das Análises\n",
    "comentarios_p3(pdf, nome_casa)\n",
    "# Análise do time da casa\n",
    "melhores_jogadores_l1_casa_p3(pdf)\n",
    "melhores_jogadores_l2_casa_p3(pdf)\n",
    "# foto dos jogadores\n",
    "foto_melhor_pontuador_p3(pdf, arquivo, jogador_1)\n",
    "cinco_melhores_pontuadores_p3(pdf, pontos_c_1)\n",
    "# foto dos melhores  porntuadores de três\n",
    "foto_melhor_pontuador_tres_p3(pdf, arquivo, jogador_2)\n",
    "cinco_melhores_pontuadores_tres_p3(pdf, tres_pontos_c_1)\n",
    "# foto dos melhores  porntuadores de dois\n",
    "foto_melhor_pontuador_dois_p3(pdf, arquivo, jogador_3)\n",
    "cinco_melhores_pontuadores_dois_p3(pdf, dois_pontos_c_1)\n",
    "# foto dos melhores assistentes\n",
    "foto_melhor_assistente_p3(pdf, arquivo, jogador_4)\n",
    "cinco_melhores_assistencias_p3(pdf, as_1)\n",
    "# foto dos melhores reboteiros\n",
    "foto_melhor_rebotes_p3(pdf, arquivo, jogador_5)\n",
    "cinco_melhores_reboteiros_p3(pdf, rt_1)\n",
    "# foto dos melhores faltas recebidas\n",
    "foto_melhor_faltas_recebidas_p3(pdf, arquivo, jogador_6)\n",
    "cinco_melhores_faltas_recebidas_p3(pdf, fr_1)\n",
    "# tabela geral\n",
    "tabela_geral_casa_p3(pdf, arquivo)\n",
    "\n",
    "pdf.output('teste.pdf', 'F')"
   ]
  },
  {
   "cell_type": "code",
   "execution_count": null,
   "metadata": {},
   "outputs": [],
   "source": []
  },
  {
   "cell_type": "code",
   "execution_count": null,
   "metadata": {},
   "outputs": [],
   "source": []
  },
  {
   "cell_type": "code",
   "execution_count": null,
   "metadata": {},
   "outputs": [],
   "source": []
  },
  {
   "cell_type": "code",
   "execution_count": 13,
   "metadata": {},
   "outputs": [
    {
     "ename": "NameError",
     "evalue": "name 'aaaaaaaa' is not defined",
     "output_type": "error",
     "traceback": [
      "\u001b[1;31m---------------------------------------------------------------------------\u001b[0m",
      "\u001b[1;31mNameError\u001b[0m                                 Traceback (most recent call last)",
      "\u001b[1;32m<ipython-input-13-3acec0d3b6e1>\u001b[0m in \u001b[0;36m<module>\u001b[1;34m\u001b[0m\n\u001b[1;32m----> 1\u001b[1;33m \u001b[0maaaaaaaa\u001b[0m\u001b[1;33m\u001b[0m\u001b[1;33m\u001b[0m\u001b[0m\n\u001b[0m",
      "\u001b[1;31mNameError\u001b[0m: name 'aaaaaaaa' is not defined"
     ]
    }
   ],
   "source": [
    "aaaaaaaa"
   ]
  },
  {
   "cell_type": "markdown",
   "metadata": {},
   "source": [
    "# Relatório"
   ]
  },
  {
   "cell_type": "code",
   "execution_count": null,
   "metadata": {},
   "outputs": [],
   "source": [
    "pdf = FPDF('P', 'mm', 'A4')\n",
    "'''# Capa do relatório\n",
    "pdf.add_page()\n",
    "# Cabeçalho e Rodapé\n",
    "cabecalho_rodape(pdf, arquivo)\n",
    "# capa\n",
    "criar_titulo(pdf, data)\n",
    "fotos_dos_times(pdf, img_casa, nome_casa, img_fora, nome_fora)\n",
    "informacoes_do_placar(pdf, posicao, placar_casa, placar_fora, dia_jogo)\n",
    "grafico_quartos_normal(pdf, nome_casa, nome_fora)\n",
    "placar_do_quarto1(pdf, inf_placar_casa, inf_placar_fora)\n",
    "placar_do_quarto2(pdf, inf_placar_casa, inf_placar_fora)\n",
    "placar_do_quarto3(pdf, inf_placar_casa, inf_placar_fora)\n",
    "placar_do_quarto4(pdf, inf_placar_casa, inf_placar_fora)\n",
    "placar_final(pdf, placar_casa, placar_fora)\n",
    "informacoes_do_relatorio(pdf)\n",
    "\n",
    "# Primeira página de Análises \n",
    "pdf.add_page()\n",
    "# Cabeçalho e Rodapé\n",
    "cabecalho_rodape(pdf, arquivo)\n",
    "# Primeiro gráfico da evolução do placar \n",
    "evolução_do_placar(pdf, arquivo)\n",
    "# Comentários das Análises\n",
    "comentarios_p1(pdf)\n",
    "# Gráficos das Análises\n",
    "graficos_analise_descrivita_c1(pdf, valores, arquivo)\n",
    "graficos_analise_descrivita_c2(pdf, valores, arquivo)\n",
    "graficos_analise_descrivita_c3(pdf, valores, arquivo)\n",
    "\n",
    "# Segunda Página de Análises \n",
    "pdf.add_page()\n",
    "# Cabeçalho e Rodapé\n",
    "cabecalho_rodape(pdf, arquivo)\n",
    "# Comentarios das Análises Avançadas\n",
    "comentarios_p2(pdf)\n",
    "# Gráficos das Análises\n",
    "graficos_analise_avancadas_c1(pdf, valores, arquivo)\n",
    "graficos_analise_avancadas_c2(pdf, valores, arquivo)\n",
    "graficos_analise_avancadas_c3(pdf, valores, arquivo)\n",
    "# considerações finais \n",
    "comentarios_p2_1(pdf)'''\n",
    "\n",
    "# Terceira Página de Análises Time da Casa\n",
    "pdf.add_page()\n",
    "# Cabeçalho e Rodapé\n",
    "cabecalho_rodape(pdf, arquivo)\n",
    "# Título/Comentarios das Análises\n",
    "comentarios_p3(pdf, nome_casa)\n",
    "# Análise do time da casa\n",
    "melhores_jogadores_l1_casa(pdf)\n",
    "melhores_jogadores_l2_casa(pdf)\n",
    "# tabela geral\n",
    "tabela_geral_casa(pdf, arquivo)\n",
    "\n",
    "'''# Quarta Página Períodos Positivos do Time da Casa\n",
    "pdf.add_page()\n",
    "# Cabeçalho e Rodapé\n",
    "cabecalho_rodape(pdf, arquivo)\n",
    "# Título/Comentarios das Positivos do Time da Casa\n",
    "comentarios_p4(pdf, nome_casa)\n",
    "# Gráfico dos Períodos Positos do Time da Casa\n",
    "grafico_periodos_positivos_casa(pdf, arquivo)\n",
    "# Gráfico do tempo de Posse de Bola do Time da Casa \n",
    "grafico_tempo_posse_de_bola_casa(pdf, arquivo)\n",
    "# Comentários\n",
    "comentarios_p4_1(pdf)\n",
    "\n",
    "# Quinta Página Períodos Positivos do Time da Casa\n",
    "pdf.add_page()\n",
    "# Cabeçalho e Rodapé\n",
    "cabecalho_rodape(pdf, arquivo)\n",
    "# Título do cinco melores jogadores\n",
    "comentarios_p5(pdf, nome_casa)\n",
    "primeiro_quinteto_fotos_casa(pdf)\n",
    "segundo_quinteto_fotos_casa(pdf)\n",
    "terceiro_quinteto_fotos_casa(pdf)\n",
    "# Título das Melhores substituições\n",
    "comentarios_p5_1(pdf)\n",
    "# Jogadores e Comentários\n",
    "substituicao_1_casa(pdf)\n",
    "substituicao_2_casa(pdf)\n",
    "\n",
    "# Sexta Página de Análises Time da Fora\n",
    "pdf.add_page()\n",
    "# Cabeçalho e Rodapé\n",
    "cabecalho_rodape(pdf, arquivo)\n",
    "# Título/Comentarios das Análises do Time da Fora\n",
    "comentarios_p6(pdf, nome_fora)\n",
    "# Análise do Time da Fora\n",
    "melhores_jogadores_l1_fora(pdf)\n",
    "melhores_jogadores_l2_fora(pdf)\n",
    "# tabela geral\n",
    "tabela_geral_fora(pdf, arquivo)\n",
    "\n",
    "# Setima Página Períodos Positivos do Time da Fora\n",
    "pdf.add_page()\n",
    "# Cabeçalho e Rodapé\n",
    "cabecalho_rodape(pdf, arquivo)\n",
    "# Título/Comentarios das Positivos do Time da Fora\n",
    "comentarios_p7(pdf, nome_fora)\n",
    "# Gráfico dos Períodos Positos do Time da Fora\n",
    "grafico_periodos_positivos_fora(pdf, arquivo)\n",
    "# Gráfico do tempo de Posse de Bola do Time da Fora \n",
    "grafico_tempo_posse_de_bola_fora(pdf, arquivo)\n",
    "# Comentários\n",
    "comentarios_p7_1(pdf)\n",
    "\n",
    "\n",
    "# Oitava Página Períodos Positivos do Time da Casa\n",
    "pdf.add_page()\n",
    "# Cabeçalho e Rodapé\n",
    "cabecalho_rodape(pdf, arquivo)\n",
    "# Título do cinco melores jogadores\n",
    "comentarios_p8(pdf, nome_fora)\n",
    "primeiro_quinteto_fotos_fora(pdf)\n",
    "segundo_quinteto_fotos_fora(pdf)\n",
    "terceiro_quinteto_fotos_fora(pdf)\n",
    "# Título das Melhores substituições\n",
    "comentarios_p8_1(pdf)\n",
    "# Jogadores e Comentários\n",
    "substituicao_1_fora(pdf)\n",
    "substituicao_2_fora(pdf)'''\n",
    "\n",
    "\n",
    "pdf.output('teste.pdf', 'F')"
   ]
  }
 ],
 "metadata": {
  "kernelspec": {
   "display_name": "Python 3",
   "language": "python",
   "name": "python3"
  },
  "language_info": {
   "codemirror_mode": {
    "name": "ipython",
    "version": 3
   },
   "file_extension": ".py",
   "mimetype": "text/x-python",
   "name": "python",
   "nbconvert_exporter": "python",
   "pygments_lexer": "ipython3",
   "version": "3.8.3"
  }
 },
 "nbformat": 4,
 "nbformat_minor": 4
}
