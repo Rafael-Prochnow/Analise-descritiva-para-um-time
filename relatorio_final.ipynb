{
 "cells": [
  {
   "cell_type": "code",
   "execution_count": 1,
   "metadata": {},
   "outputs": [],
   "source": [
    "from fpdf import FPDF\n",
    "from datetime import datetime\n",
    "import pandas as pd\n",
    "# from funcoes_relatorio_analises import *"
   ]
  },
  {
   "cell_type": "code",
   "execution_count": 2,
   "metadata": {},
   "outputs": [],
   "source": [
    "data = datetime.today().strftime('%d/%m/%Y')\n",
    "dia_do_jogo = '02/01/2021'\n",
    "arquivo = 'RELATORIO'\n",
    "nome_time_casa = 'Brasília'\n",
    "nome_time_fora = 'Rio Claro'\n",
    "arquivo1 = f'informacoes_dos_times/{nome_time_casa}'\n",
    "arquivo2 = f'informacoes_dos_times/{nome_time_fora}'\n",
    "img_casa = f'{arquivo1}/{nome_time_casa}'\n",
    "img_fora = f'{arquivo2}/{nome_time_fora}'\n",
    "\n",
    "# print(f'Localização do pdf Atual = x:{round(pdf.get_x(),1)} | y: {round(pdf.get_y(),1)}')\n",
    "# !pip install fpdf"
   ]
  },
  {
   "cell_type": "code",
   "execution_count": 3,
   "metadata": {},
   "outputs": [
    {
     "data": {
      "text/plain": [
       "'informacoes_dos_times/Brasília/Brasília'"
      ]
     },
     "execution_count": 3,
     "metadata": {},
     "output_type": "execute_result"
    }
   ],
   "source": [
    "img_casa"
   ]
  },
  {
   "cell_type": "code",
   "execution_count": 4,
   "metadata": {},
   "outputs": [],
   "source": [
    "inf_placar_casa = [19, 31, 27, 24]\n",
    "inf_placar_fora = [25, 16, 14, 31]\n",
    "placar_casa = 61\n",
    "placar_fora = 74\n",
    "classificatoria = '3° Rodada'"
   ]
  },
  {
   "cell_type": "code",
   "execution_count": 5,
   "metadata": {},
   "outputs": [],
   "source": [
    "tabela_times = pd.DataFrame({'Pts_3_C':[11, 10], 'Pts_3_T':[29,27], 'Pts_2_C':[26,20], 'Pts_2_T':[45,39],\n",
    "                        'LL_C':[16,16], 'LL_T':[25,21], 'RO':[7,7], 'RD':[31,32], 'RT':[38,39], 'AS':[20,15],\n",
    "                        'BR':[11,4], 'ER':[8,13]})"
   ]
  },
  {
   "cell_type": "code",
   "execution_count": 6,
   "metadata": {},
   "outputs": [],
   "source": [
    "pontos_c_1 = pd.DataFrame({'Nome':['Breno', 'Breno', 'Breno', 'Breno', 'Breno'],\n",
    "                           'Pts_C':[19, 15, 12, 10, 9]})\n",
    "tres_pontos_c_1 = pd.DataFrame({'Nome':['Breno', 'Breno', 'Breno', 'Breno', 'Breno'],\n",
    "                                'Pts_3_C':[4, 2, 2, 1, 1]})\n",
    "dois_pontos_c_1 = pd.DataFrame({'Nome':['Breno', 'Breno', 'Breno', 'Breno', 'Breno'],\n",
    "                                'Pts_2_C':[8, 7, 6, 5, 5]})\n",
    "rt_1 = pd.DataFrame({'Nome':['Breno', 'Breno', 'Breno', 'Breno', 'Breno'],\n",
    "                             'RT':[8, 7, 6, 5, 4]})\n",
    "as_1 = pd.DataFrame({'Nome':['Breno', 'Breno', 'Breno', 'Breno', 'Breno'],\n",
    "                             'AS':[6, 3, 2, 2, 1]})\n",
    "fr_1 = pd.DataFrame({'Nome':['Breno', 'Breno', 'Breno', 'Breno', 'Breno'],\n",
    "                             'FR':[7, 5, 3, 3, 2]})"
   ]
  },
  {
   "cell_type": "code",
   "execution_count": 7,
   "metadata": {},
   "outputs": [],
   "source": [
    "pontos_c_2 = pd.DataFrame({'Nome':['Fernando', 'Fernando', 'Fernando', 'Fernando', 'Fernando'],\n",
    "                           'Pts_C':[19, 15, 12, 10, 9]})\n",
    "tres_pontos_c_2 = pd.DataFrame({'Nome':['Fernando', 'Fernando', 'Fernando', 'Fernando', 'Fernando'],\n",
    "                                'Pts_3_C':[4, 2, 2, 1, 1]})\n",
    "dois_pontos_c_2 = pd.DataFrame({'Nome':['Fernando', 'Fernando', 'Fernando', 'Fernando', 'Fernando'],\n",
    "                                'Pts_2_C':[8, 7, 6, 5, 5]})\n",
    "rt_2 = pd.DataFrame({'Nome':['Fernando', 'Fernando', 'Fernando', 'Fernando', 'Fernando'],\n",
    "                             'RT':[8, 7, 6, 5, 4]})\n",
    "as_2 = pd.DataFrame({'Nome':['Fernando', 'Fernando', 'Fernando', 'Fernando', 'Fernando'],\n",
    "                             'AS':[6, 3, 2, 2, 1]})\n",
    "fr_2 = pd.DataFrame({'Nome':['Fernando', 'Fernando', 'Fernando', 'Fernando', 'Fernando'],\n",
    "                             'FR':[7, 5, 3, 3, 2]})"
   ]
  },
  {
   "cell_type": "code",
   "execution_count": 8,
   "metadata": {},
   "outputs": [],
   "source": [
    "tempos_time1 = ['1° Quarto -> Início 02:27 até 01:40',\n",
    " '1° Quarto -> Início 00:01 até 09:20 do 2° Quarto',\n",
    " '2° Quarto -> Início 05:56 até 05:20',\n",
    " '2° Quarto -> Início 03:15 até 02:18',\n",
    " '3° Quarto -> Início 00:21 até 09:47 do 4° Quarto',\n",
    " '4° Quarto -> Início 05:48 até 05:07',\n",
    " '5° Quarto -> Início 05:48 até 05:07',\n",
    " '6° Quarto -> Início 00:21 até 09:47 do 4° Quarto',\n",
    " '7° Quarto -> Início 00:21 até 09:47 do 4° Quarto',\n",
    " '8° Quarto -> Início 00:21 até 09:47 do 4° Quarto', \n",
    " '9° Quarto -> Início 00:21 até 09:47 do 4° Quarto',\n",
    " '1° Quarto -> Início 00:01 até 09:20 do 2° Quarto',\n",
    " '2° Quarto -> Início 00:01 até 09:20 do 2° Quarto',\n",
    " '3° Quarto -> Início 00:01 até 09:20 do 2° Quarto']"
   ]
  },
  {
   "cell_type": "code",
   "execution_count": 11,
   "metadata": {},
   "outputs": [],
   "source": [
    "quintetos = [\n",
    "    'A. Thiago, A. Garcia, D. Guilherme, G. Galvanini, T. Crunell',\n",
    "    'L. Taylor Junior, A. Garcia, D. Guilherme Pereira, Z. Darnell Graham, T. Crunell',\n",
    "    'A. Thiago Pereira Borges, A. Garcia, D. Guilherme Pereira, Z. Darnell Graham, T. Crunell',\n",
    "    'L. Taylor Junior, A. Garcia, D. Guilherme Pereira, G. Volpato Galvanini, T. Crunell',\n",
    "    'A. Thiago Pereira Borges, L. Taylor Junior, A. Garcia, D. Guilherme Pereira, T. Crunell',\n",
    "    'A. Thiago Pereira Borges, A. Garcia, D. Guilherme Pereira, D. da Silva Andre, T. Crunell',\n",
    "    'L. Taylor Junior, A. Garcia, D. Guilherme Pereira, D. da Silva Andre, T. Crunell',\n",
    "    'A. Thiago Pereira Borges, L. Taylor Junior, A. Garcia, D. da Silva Andre, T. Crunell',\n",
    "    'A. Thiago Pereira Borges, L. Taylor Junior, A. Garcia, G. Volpato Galvanini, T. Crunell',\n",
    "    'L. Taylor Junior, A. Garcia, Z. Darnell Graham, G. Volpato Galvanini, T. Crunell'\n",
    "]"
   ]
  },
  {
   "cell_type": "code",
   "execution_count": 9,
   "metadata": {},
   "outputs": [],
   "source": [
    "valores_time1 = [\n",
    "    'Três Pontos: 10',\n",
    "    'Dois Pontos: 20',\n",
    "    'Lances Livres: 5'   \n",
    "]"
   ]
  },
  {
   "cell_type": "code",
   "execution_count": 10,
   "metadata": {},
   "outputs": [],
   "source": [
    "valores_time1_p = [\n",
    "    'Três Pontos seguidos: 1',\n",
    "    'Dois Pontos seguidos: 0',\n",
    "    'Lances Livres seguidos: 4',\n",
    "    'Três e Dois pontos: 1',\n",
    "    'Três e Lances livres: 2',\n",
    "    'Dois e Lances livres: 0'\n",
    "]"
   ]
  },
  {
   "cell_type": "code",
   "execution_count": 12,
   "metadata": {},
   "outputs": [],
   "source": [
    "valore_acoes_adv = [\n",
    "    'Erros: 10',\n",
    "    'Três Pontos T.: 10',\n",
    "    'Dois Pontos T.: 20',\n",
    "    'Lances Livres T.: 5'\n",
    "]"
   ]
  },
  {
   "cell_type": "code",
   "execution_count": null,
   "metadata": {},
   "outputs": [],
   "source": [
    "(False, False, False, True),\n",
    "            (True, False, False, False),\n",
    "            (False, True, False, False),\n",
    "            (False, False, True, False),\n",
    "            (True, True, False, False),\n",
    "            (True, False, True, False),\n",
    "            (False, True, True, False),\n",
    "            (True, True, True, True)"
   ]
  },
  {
   "cell_type": "code",
   "execution_count": 13,
   "metadata": {},
   "outputs": [],
   "source": [
    "acoes_adv = [\n",
    "    'Erros seguidos: 10',\n",
    "    'T. de Três Seguidos: 10',\n",
    "    'T. de Dois Seguidos: 10',\n",
    "    'T. de Lances Livres Seguidos: 10',\n",
    "    'T. de Três e Dois: 10',\n",
    "    'T. de Três e Lances Livres: 10',\n",
    "    'T. de Dois e Lances Livres: 10',\n",
    "    'T. de Arremesso e Erros: 10'\n",
    "]"
   ]
  },
  {
   "cell_type": "code",
   "execution_count": 114,
   "metadata": {},
   "outputs": [],
   "source": [
    "acoes_tecnicas = [\n",
    "    False,\n",
    "    'Substituições nesses períodos: 2',\n",
    "    'Tempos técnicos: 1',\n",
    "    False,\n",
    "    'Substituições nesses períodos: 4',\n",
    "    'Tempos técnicos: 4',\n",
    "]"
   ]
  },
  {
   "cell_type": "code",
   "execution_count": 14,
   "metadata": {},
   "outputs": [],
   "source": [
    "def cabecalho_rodape(pdf, arquivo):\n",
    "    pdf.image(f'{arquivo}/Sem título 1.jpg', x=0, y=0, w=210)\n",
    "    pdf.image(f'{arquivo}/Sem título 2.jpg', x=0, y=287, w=210)"
   ]
  },
  {
   "cell_type": "code",
   "execution_count": 15,
   "metadata": {},
   "outputs": [],
   "source": [
    "def grafico_periodos_positivos_casa(pdf, arquivo):\n",
    "    pdf.image(f'{arquivo}/teste1.jpeg', x=0, y=30, w=220, h=60)"
   ]
  },
  {
   "cell_type": "code",
   "execution_count": 117,
   "metadata": {},
   "outputs": [],
   "source": [
    "def comentarios_p4(pdf, nome_time_casa, lista, valores, valores_p, valores_acoes, acoes, tecnico):\n",
    "    # Título\n",
    "    pdf.set_xy(60, 19)\n",
    "    pdf.set_font('Times', 'B', 14)\n",
    "    pdf.cell(w=90, h=10, txt= f'Perídos Positivos do Time {nome_time_casa}', border=1, ln=0, align='C')\n",
    "    # Título do Comentário\n",
    "    pdf.set_xy(10, 100)\n",
    "    pdf.set_font('Times', 'B', 12)\n",
    "    pdf.cell(w=30, h=10, txt= f'Foram {len(lista)} Períodos Positivos do {nome_time_casa}')\n",
    "    # Comentários\n",
    "    tamanho = len(lista) \n",
    "    h1, h2 = 104, 104\n",
    "    if tamanho%2 == 0:\n",
    "        val= tamanho//2\n",
    "    else:\n",
    "        val= tamanho//2+1\n",
    "    for i in range(val):\n",
    "        h1 += 5.9\n",
    "        pdf.set_xy(10, h1)\n",
    "        pdf.set_font('Times','', 12)\n",
    "        pdf.cell(w=87, h=5.9, txt=lista[i], border=1)\n",
    "    for x in range(val, tamanho):\n",
    "        h2 += 5.9\n",
    "        pdf.set_xy(105, h2)\n",
    "        pdf.set_font('Times','', 12)\n",
    "        pdf.cell(w=87, h=5.9, txt=lista[x], border=1)\n",
    "    # Primeiro Comentário\n",
    "    if len(lista) == 0:\n",
    "        pdf.set_xy(20, h1+10)\n",
    "        pdf.set_font('Times', 'B', 12)\n",
    "        pdf.cell(w=170, h=7, txt= f'Durante os períodos positivos não foram encontradas '\n",
    "                 'características interessantes para a análise\n",
    "                 \n",
    "        if len(lista) > 0 and len(lista) <= 4:\n",
    "            fala = 'encontramos poucas'\n",
    "        elif len(lista) > 4 and len(lista) <= 8:\n",
    "            fala = 'encontramos algumas'\n",
    "        elif len(lista) > 8:\n",
    "            fala = 'encontramos várias'\n",
    "        pdf.set_xy(30, h1+10)\n",
    "        pdf.set_font('Times', 'B', 12)\n",
    "        pdf.cell(w=145, h=7, txt= f'Durante os períodos positivos {fala} '\n",
    "                 'características interessantes', border=1)\n",
    "        # Segundo Comentário \n",
    "        pdf.set_xy(10, h1+20)\n",
    "        pdf.set_font('Times', 'B', 12)\n",
    "        pdf.cell(w=30, h=10, txt= 'Início do período')\n",
    "        pdf.set_xy(10, h1+27)\n",
    "        pdf.set_font('Times', '', 12)\n",
    "        pdf.cell(w=50, h=10, txt= f'Cesta do adversário: {len(lista)}')\n",
    "        pdf.set_xy(56, h1+27)\n",
    "        pdf.cell(w=50, h=10, txt= f'Tentativas do adversário: {len(lista)}')      \n",
    "        pdf.set_xy(113, h1+27)\n",
    "        pdf.cell(w=35, h=10, txt= f'Roubos de Bola: {len(lista)}')\n",
    "        pdf.set_xy(155, h1+27)\n",
    "        pdf.cell(w=40, h=10, txt= f'Erros do adversário: {len(lista)}')\n",
    "        # Terceiro Comentário        \n",
    "        pdf.set_xy(10, h1+40)\n",
    "        pdf.set_font('Times', 'B', 12)\n",
    "        pdf.cell(w=70, h=7, txt= 'Ações durante os Períodos Positivos')\n",
    "        pdf.set_xy(48, h1+54)\n",
    "        pdf.cell(w=30, h=7, txt='----------------->')\n",
    "        ev = [47, 54, 61]\n",
    "        for i in range(len(ev)):\n",
    "            pdf.set_xy(10, h1+ev[i])\n",
    "            pdf.set_font('Times', '', 12)\n",
    "            pdf.cell(w=30, h=7, txt=valores[i])\n",
    "        h2 = [80, 130]\n",
    "        Con = 0\n",
    "        for j in range(len(h2)):\n",
    "            for jj in range(len(ev)):\n",
    "                pdf.set_xy(h2[j], h1+ev[jj])\n",
    "                pdf.set_font('Times', '', 12)\n",
    "                pdf.cell(w=30, h=7, txt=valores_p[Con])\n",
    "                Con += 1\n",
    "        # Quinto Comentário \n",
    "        pdf.set_xy(10, h1+70)\n",
    "        pdf.set_font('Times', 'B', 12)\n",
    "        pdf.cell(w=70, h=7, txt= 'Ações do time adversário durante o período')\n",
    "        pdf.set_xy(48, h1+90)\n",
    "        pdf.cell(w=30, h=7, txt='----------------->')\n",
    "        ev1 = [77, 84, 91, 98]\n",
    "        for i in range(len(ev1)):\n",
    "            pdf.set_xy(10, h1+ev1[i])\n",
    "            pdf.set_font('Times', '', 12)\n",
    "            pdf.cell(w=30, h=7, txt=valores_acoes[i])\n",
    "        h3 = [80, 140]\n",
    "        Con = 0\n",
    "        for j in range(len(h3)):\n",
    "            for jj in range(len(ev1)):\n",
    "                pdf.set_xy(h3[j], h1+ev1[jj])\n",
    "                pdf.set_font('Times', '', 12)\n",
    "                pdf.cell(w=30, h=7, txt=acoes[Con])\n",
    "                Con += 1\n",
    "        # Sexto Comentário\n",
    "        if tecnico[0]:\n",
    "            pdf.set_xy(10, h1+110)\n",
    "            pdf.set_font('Times', 'B', 12)\n",
    "            pdf.cell(w=70, h=7, txt= 'Durante o período houve ações do treinador')\n",
    "            pdf.set_xy(10, h1+117)\n",
    "            pdf.set_font('Times', '', 12)\n",
    "            pdf.cell(w=70, h=7, txt=tecnico[1])\n",
    "            pdf.set_xy(10, h1+124)\n",
    "            pdf.set_font('Times', '', 12)\n",
    "            pdf.cell(w=70, h=7, txt=tecnico[2])\n",
    "        else:\n",
    "            pdf.set_xy(10, h1+114)\n",
    "            pdf.set_font('Times', 'B', 12)\n",
    "            pdf.cell(w=70, h=7, txt= 'Durante o período não houve ações do treinador')\n",
    "        if tecnico[3]:\n",
    "            pdf.set_xy(100, h1+110)\n",
    "            pdf.set_font('Times', 'B', 12)\n",
    "            pdf.cell(w=70, h=7, txt= 'Após o Período houve ações do treinador')\n",
    "            pdf.set_xy(100, h1+117)\n",
    "            pdf.set_font('Times', '', 12)\n",
    "            pdf.cell(w=70, h=7, txt=tecnico[4])\n",
    "            pdf.set_xy(100, h1+124)\n",
    "            pdf.set_font('Times', '', 12)\n",
    "            pdf.cell(w=70, h=7, txt=tecnico[5])\n",
    "        else:\n",
    "            pdf.set_xy(110, h1+114)\n",
    "            pdf.set_font('Times', 'B', 12)\n",
    "            pdf.cell(w=70, h=7, txt= 'Após o Período não houve ações do treinador')"
   ]
  },
  {
   "cell_type": "code",
   "execution_count": 118,
   "metadata": {},
   "outputs": [
    {
     "data": {
      "text/plain": [
       "''"
      ]
     },
     "execution_count": 118,
     "metadata": {},
     "output_type": "execute_result"
    }
   ],
   "source": [
    "pdf = FPDF('P', 'mm', 'A4')\n",
    "# Quarta Página Períodos Positivos do Time da Casa\n",
    "pdf.add_page()\n",
    "# Cabeçalho e Rodapé\n",
    "cabecalho_rodape(pdf, arquivo)\n",
    "# Gráfico dos Períodos Positos do Time da Casa\n",
    "grafico_periodos_positivos_casa(pdf, arquivo)\n",
    "# Título/Comentarios das Positivos do Time da Casa\n",
    "comentarios_p4(pdf, nome_time_casa, tempos_time1, valores_time1, valores_time1_p, valore_acoes_adv, acoes_adv,\n",
    "               acoes_tecnicas)\n",
    "pdf.output('teste.pdf', 'F')"
   ]
  },
  {
   "cell_type": "code",
   "execution_count": 18,
   "metadata": {},
   "outputs": [],
   "source": [
    "# Iníciamos o periodo após\n",
    "# cesta do time adversário {x}\n",
    "# Roubos de bola {x}\n",
    "# Erro do adversário {x}"
   ]
  },
  {
   "cell_type": "code",
   "execution_count": 19,
   "metadata": {},
   "outputs": [],
   "source": [
    "# Durante os períodos positivos encontramos {} características relevantes para a análise \n",
    "# poucas\n",
    "# algumas\n",
    "# várias\n",
    "# não foram encontradas"
   ]
  },
  {
   "cell_type": "code",
   "execution_count": 20,
   "metadata": {},
   "outputs": [],
   "source": [
    "# Ações durante os Períodos Positivos\n",
    "# cestas de três pontos seguidos {x}\n",
    "# cestas de dois pontos seguidos {x}\n",
    "# lances livres seguidos {x}\n",
    "# cestas de três e dois pontos {x}\n",
    "# cestas de três e lances livres {x}\n",
    "# cestas de dois e lances livres {x}\n",
    "# cestas diversas/especiais {x}"
   ]
  },
  {
   "cell_type": "code",
   "execution_count": 21,
   "metadata": {},
   "outputs": [],
   "source": [
    "# Ações do time adversário durante o período\n",
    "# erros seguidos {x}\n",
    "# tentativas de três seguidos {x}\n",
    "# tentativas de dois seguidos {x}\n",
    "# tentativas de lances livres seguidos {x}\n",
    "# tentativas de três e dois {x}\n",
    "# tentativas de três e lances livres {x} \n",
    "# tentativas de três e erros {x} \n",
    "# tentativas de dois e lances livres {x} \n",
    "# tentativas de dois e erros {x}\n",
    "# tentativas de lances livres e erros {x}"
   ]
  },
  {
   "cell_type": "code",
   "execution_count": 22,
   "metadata": {},
   "outputs": [],
   "source": [
    "# Durante o período houve/não teve ações do treinador durante esse período\n",
    "# foram feitas {} substituições nesses períodos \n",
    "# foram {} tempos técnicos \n",
    "# Após o período houve/ não teve ação do treinador \n",
    "# foram feitas {} substituições nesses períodos \n",
    "# foram {} tempos técnicos "
   ]
  },
  {
   "cell_type": "code",
   "execution_count": 23,
   "metadata": {},
   "outputs": [],
   "source": [
    "# Participação dos atletas nesses períodos positivos no jogo \n",
    "# nome de cada jogador {valor}"
   ]
  },
  {
   "cell_type": "code",
   "execution_count": null,
   "metadata": {},
   "outputs": [],
   "source": []
  },
  {
   "cell_type": "code",
   "execution_count": null,
   "metadata": {},
   "outputs": [],
   "source": []
  },
  {
   "cell_type": "code",
   "execution_count": null,
   "metadata": {},
   "outputs": [],
   "source": []
  },
  {
   "cell_type": "code",
   "execution_count": 24,
   "metadata": {},
   "outputs": [
    {
     "ename": "NameError",
     "evalue": "name 'aaaaaa' is not defined",
     "output_type": "error",
     "traceback": [
      "\u001b[1;31m---------------------------------------------------------------------------\u001b[0m",
      "\u001b[1;31mNameError\u001b[0m                                 Traceback (most recent call last)",
      "\u001b[1;32m<ipython-input-24-f93a0ac260e9>\u001b[0m in \u001b[0;36m<module>\u001b[1;34m\u001b[0m\n\u001b[1;32m----> 1\u001b[1;33m \u001b[0maaaaaa\u001b[0m\u001b[1;33m\u001b[0m\u001b[1;33m\u001b[0m\u001b[0m\n\u001b[0m",
      "\u001b[1;31mNameError\u001b[0m: name 'aaaaaa' is not defined"
     ]
    }
   ],
   "source": [
    "aaaaaa"
   ]
  },
  {
   "cell_type": "markdown",
   "metadata": {},
   "source": [
    "# Aprimoramento Página"
   ]
  },
  {
   "cell_type": "markdown",
   "metadata": {},
   "source": [
    "# Relatório"
   ]
  },
  {
   "cell_type": "code",
   "execution_count": null,
   "metadata": {},
   "outputs": [],
   "source": [
    "pdf = FPDF('P', 'mm', 'A4')\n",
    "# Capa do relatório\n",
    "pdf.add_page()\n",
    "# Cabeçalho e Rodapé\n",
    "cabecalho_rodape(pdf, arquivo)\n",
    "# capa\n",
    "criar_titulo(pdf, data)\n",
    "fotos_dos_times(pdf, img_casa, nome_time_casa, img_fora, nome_time_fora)\n",
    "informacoes_do_placar(pdf, classificatoria, placar_casa, placar_fora, dia_do_jogo)\n",
    "grafico_quartos_normal(pdf, nome_time_casa, nome_time_fora)\n",
    "placar_do_quarto1(pdf, inf_placar_casa, inf_placar_fora)\n",
    "placar_do_quarto2(pdf, inf_placar_casa, inf_placar_fora)\n",
    "placar_do_quarto3(pdf, inf_placar_casa, inf_placar_fora)\n",
    "placar_do_quarto4(pdf, inf_placar_casa, inf_placar_fora)\n",
    "placar_final(pdf, placar_casa, placar_fora)\n",
    "informacoes_do_relatorio(pdf)\n",
    "\n",
    "# Primeira página de Análises \n",
    "pdf.add_page()\n",
    "# Cabeçalho e Rodapé\n",
    "cabecalho_rodape(pdf, arquivo)\n",
    "# Títulos das Análises\n",
    "comentarios_p1(pdf)\n",
    "# Gráficos das Análises linha 1\n",
    "graficos_analise_descrivita_l1(pdf, tabela_times, arquivo)\n",
    "# Gráficos das Análises linha 2\n",
    "graficos_analise_descrivita_l2(pdf, tabela_times, arquivo)\n",
    "comentarios_p1_1(pdf)\n",
    "# Gráficos das Análises linha 3\n",
    "graficos_analise_descrivita_l3(pdf, tabela_times, arquivo)\n",
    "# Gráficos das Análises linha 4\n",
    "graficos_analise_descrivita_l4(pdf, tabela_times, arquivo)\n",
    "comentarios_p1_2(pdf)\n",
    "\n",
    "# Segunda Página de Análises \n",
    "pdf.add_page()\n",
    "# Cabeçalho e Rodapé\n",
    "cabecalho_rodape(pdf, arquivo)\n",
    "# Comentarios das Análises Avançadas\n",
    "comentarios_p2(pdf)\n",
    "# Gráficos das Análises\n",
    "graficos_analise_avancadas_c1(pdf, tabela_times, arquivo)\n",
    "graficos_analise_avancadas_c2(pdf, tabela_times, arquivo)\n",
    "graficos_analise_avancadas_c3(pdf, tabela_times, arquivo)\n",
    "# considerações finais \n",
    "comentarios_p2_1(pdf)\n",
    "\n",
    "# Terceira Página de Análises Time da Casa\n",
    "pdf.add_page()\n",
    "# Cabeçalho e Rodapé\n",
    "cabecalho_rodape(pdf, arquivo)\n",
    "# Título/Comentarios das Análises\n",
    "comentarios_p3(pdf, nome_time_casa)\n",
    "# Análise do time da casa\n",
    "melhores_jogadores_l1(pdf)\n",
    "melhores_jogadores_l2(pdf)\n",
    "# foto dos jogadores\n",
    "foto_melhor_pontuador(pdf, arquivo1, pontos_c_1)\n",
    "cinco_melhores_pontuadores(pdf, pontos_c_1)\n",
    "# foto dos melhores  porntuadores de três\n",
    "foto_melhor_pontuador_tres(pdf, arquivo1, tres_pontos_c_1)\n",
    "cinco_melhores_pontuadores_tres(pdf, tres_pontos_c_1)\n",
    "# foto dos melhores  porntuadores de dois\n",
    "foto_melhor_pontuador_dois(pdf, arquivo1, dois_pontos_c_1)\n",
    "cinco_melhores_pontuadores_dois(pdf, dois_pontos_c_1)\n",
    "# foto dos melhores assistentes\n",
    "foto_melhor_assistente(pdf, arquivo1, as_1)\n",
    "cinco_melhores_assistencias(pdf, as_1)\n",
    "# foto dos melhores reboteiros\n",
    "foto_melhor_rebotes(pdf, arquivo1, rt_1)\n",
    "cinco_melhores_reboteiros(pdf, rt_1)\n",
    "# foto dos melhores faltas recebidas\n",
    "foto_melhor_faltas_recebidas(pdf, arquivo1, fr_1)\n",
    "cinco_melhores_faltas_recebidas(pdf, fr_1)\n",
    "# tabela geral\n",
    "tabela_geral_casa(pdf, arquivo)\n",
    "\n",
    "# Quarta Página Períodos Positivos do Time da Casa\n",
    "pdf.add_page()\n",
    "# Cabeçalho e Rodapé\n",
    "cabecalho_rodape(pdf, arquivo)\n",
    "# Título/Comentarios das Positivos do Time da Casa\n",
    "comentarios_p4(pdf, nome_time_casa)\n",
    "# Gráfico dos Períodos Positos do Time da Casa\n",
    "grafico_periodos_positivos_casa(pdf, arquivo)\n",
    "# Gráfico do tempo de Posse de Bola do Time da Casa \n",
    "grafico_tempo_posse_de_bola_casa(pdf, arquivo)\n",
    "# Comentários\n",
    "comentarios_p4_1(pdf)\n",
    "\n",
    "# Quinta Página Períodos Positivos do Time da Casa\n",
    "pdf.add_page()\n",
    "# Cabeçalho e Rodapé\n",
    "cabecalho_rodape(pdf, arquivo)\n",
    "# Título do cinco melores jogadores\n",
    "comentarios_p5(pdf, nome_time_casa)\n",
    "primeiro_quinteto_fotos_casa(pdf)\n",
    "segundo_quinteto_fotos_casa(pdf)\n",
    "terceiro_quinteto_fotos_casa(pdf)\n",
    "# Título das Melhores substituições\n",
    "comentarios_p5_1(pdf)\n",
    "# Jogadores e Comentários\n",
    "substituicao_1_casa(pdf)\n",
    "substituicao_2_casa(pdf)\n",
    "\n",
    "# Sexta Página de Análises Time da Casa\n",
    "pdf.add_page()\n",
    "# Cabeçalho e Rodapé\n",
    "cabecalho_rodape(pdf, arquivo)\n",
    "# Título/Comentarios das Análises\n",
    "comentarios_p3(pdf, nome_time_fora)\n",
    "# Análise do time da casa\n",
    "melhores_jogadores_l1(pdf)\n",
    "melhores_jogadores_l2(pdf)\n",
    "# foto dos jogadores\n",
    "foto_melhor_pontuador(pdf, arquivo2, pontos_c_2)\n",
    "cinco_melhores_pontuadores(pdf, pontos_c_2)\n",
    "# foto dos melhores  porntuadores de três\n",
    "foto_melhor_pontuador_tres(pdf, arquivo2, tres_pontos_c_2)\n",
    "cinco_melhores_pontuadores_tres(pdf, tres_pontos_c_2)\n",
    "# foto dos melhores  porntuadores de dois\n",
    "foto_melhor_pontuador_dois(pdf, arquivo2, dois_pontos_c_2)\n",
    "cinco_melhores_pontuadores_dois(pdf, dois_pontos_c_2)\n",
    "# foto dos melhores assistentes\n",
    "foto_melhor_assistente(pdf, arquivo2, as_2)\n",
    "cinco_melhores_assistencias(pdf, as_2)\n",
    "# foto dos melhores reboteiros\n",
    "foto_melhor_rebotes(pdf, arquivo2, rt_2)\n",
    "cinco_melhores_reboteiros(pdf, rt_2)\n",
    "# foto dos melhores faltas recebidas\n",
    "foto_melhor_faltas_recebidas(pdf, arquivo2, fr_2)\n",
    "cinco_melhores_faltas_recebidas(pdf, fr_2)\n",
    "# tabela geral\n",
    "tabela_geral_fora(pdf, arquivo)\n",
    "\n",
    "# Setima Página Períodos Positivos do Time da Fora\n",
    "pdf.add_page()\n",
    "# Cabeçalho e Rodapé\n",
    "cabecalho_rodape(pdf, arquivo)\n",
    "# Título/Comentarios das Positivos do Time da Fora\n",
    "comentarios_p7(pdf, nome_time_fora)\n",
    "# Gráfico dos Períodos Positos do Time da Fora\n",
    "grafico_periodos_positivos_fora(pdf, arquivo)\n",
    "# Gráfico do tempo de Posse de Bola do Time da Fora \n",
    "grafico_tempo_posse_de_bola_fora(pdf, arquivo)\n",
    "# Comentários\n",
    "comentarios_p7_1(pdf)\n",
    "\n",
    "# Oitava Página Períodos Positivos do Time da Casa\n",
    "pdf.add_page()\n",
    "# Cabeçalho e Rodapé\n",
    "cabecalho_rodape(pdf, arquivo)\n",
    "# Título do cinco melores jogadores\n",
    "comentarios_p8(pdf, nome_time_fora)\n",
    "primeiro_quinteto_fotos_fora(pdf)\n",
    "segundo_quinteto_fotos_fora(pdf)\n",
    "terceiro_quinteto_fotos_fora(pdf)\n",
    "# Título das Melhores substituições\n",
    "comentarios_p8_1(pdf)\n",
    "# Jogadores e Comentários\n",
    "substituicao_1_fora(pdf)\n",
    "substituicao_2_fora(pdf)\n",
    "\n",
    "pdf.output('teste.pdf', 'F')"
   ]
  },
  {
   "cell_type": "code",
   "execution_count": null,
   "metadata": {},
   "outputs": [],
   "source": [
    "[]"
   ]
  }
 ],
 "metadata": {
  "kernelspec": {
   "display_name": "Python 3",
   "language": "python",
   "name": "python3"
  },
  "language_info": {
   "codemirror_mode": {
    "name": "ipython",
    "version": 3
   },
   "file_extension": ".py",
   "mimetype": "text/x-python",
   "name": "python",
   "nbconvert_exporter": "python",
   "pygments_lexer": "ipython3",
   "version": "3.8.3"
  },
  "varInspector": {
   "cols": {
    "lenName": 16,
    "lenType": 16,
    "lenVar": 40
   },
   "kernels_config": {
    "python": {
     "delete_cmd_postfix": "",
     "delete_cmd_prefix": "del ",
     "library": "var_list.py",
     "varRefreshCmd": "print(var_dic_list())"
    },
    "r": {
     "delete_cmd_postfix": ") ",
     "delete_cmd_prefix": "rm(",
     "library": "var_list.r",
     "varRefreshCmd": "cat(var_dic_list()) "
    }
   },
   "types_to_exclude": [
    "module",
    "function",
    "builtin_function_or_method",
    "instance",
    "_Feature"
   ],
   "window_display": false
  }
 },
 "nbformat": 4,
 "nbformat_minor": 4
}
