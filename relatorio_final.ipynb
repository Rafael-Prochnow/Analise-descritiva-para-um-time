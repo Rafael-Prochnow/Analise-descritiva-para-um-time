{
 "cells": [
  {
   "cell_type": "code",
   "execution_count": 1,
   "metadata": {},
   "outputs": [],
   "source": [
    "from fpdf import FPDF\n",
    "from datetime import datetime\n",
    "import pandas as pd\n",
    "from funcoes_relatorio_analises import *"
   ]
  },
  {
   "cell_type": "code",
   "execution_count": 2,
   "metadata": {},
   "outputs": [],
   "source": [
    "data = datetime.today().strftime('%d/%m/%Y')\n",
    "dia_do_jogo = '02/01/2021'\n",
    "arquivo = 'RELATORIO'\n",
    "nome_time_casa = 'VipTech CMB'\n",
    "nome_time_fora = 'Fortaleza B. C'\n",
    "arquivo1 = f'informacoes_dos_times/{nome_time_casa}'\n",
    "arquivo2 = f'informacoes_dos_times/{nome_time_fora}'\n",
    "img_casa = f'{arquivo1}/{nome_time_casa}'\n",
    "img_fora = f'{arquivo2}/{nome_time_fora}'\n",
    "\n",
    "# print(f'Localização do pdf Atual = x:{round(pdf.get_x(),1)} | y: {round(pdf.get_y(),1)}')\n",
    "# !pip install fpdf"
   ]
  },
  {
   "cell_type": "code",
   "execution_count": 3,
   "metadata": {},
   "outputs": [
    {
     "data": {
      "text/plain": [
       "'informacoes_dos_times/VipTech CMB/VipTech CMB'"
      ]
     },
     "execution_count": 3,
     "metadata": {},
     "output_type": "execute_result"
    }
   ],
   "source": [
    "img_casa"
   ]
  },
  {
   "cell_type": "code",
   "execution_count": 4,
   "metadata": {},
   "outputs": [],
   "source": [
    "inf_placar_casa = [19, 31, 27, 24]\n",
    "inf_placar_fora = [25, 16, 14, 31]\n",
    "placar_casa = 61\n",
    "placar_fora = 74\n",
    "classificatoria = '3° Rodada'"
   ]
  },
  {
   "cell_type": "code",
   "execution_count": 5,
   "metadata": {},
   "outputs": [],
   "source": [
    "tabela_times = pd.DataFrame({'Pts_3_C':[11, 10], 'Pts_3_T':[29,27], 'Pts_2_C':[26,20], 'Pts_2_T':[45,39],\n",
    "                        'LL_C':[16,16], 'LL_T':[25,21], 'RO':[7,7], 'RD':[31,32], 'RT':[38,39], 'AS':[20,15],\n",
    "                        'BR':[11,4], 'ER':[8,13]})"
   ]
  },
  {
   "cell_type": "code",
   "execution_count": 6,
   "metadata": {},
   "outputs": [],
   "source": [
    "pontos_c_1 = pd.DataFrame({'Nome':['Pierotti', 'Ansaloni', 'Pastor', 'Pedro', 'Sahdi'],\n",
    "                           'Pts_C':[19, 15, 12, 10, 9]})\n",
    "tres_pontos_c_1 = pd.DataFrame({'Nome':['Pierotti', 'Ansaloni', 'Pastor', 'Baxley', 'Sahdi'],\n",
    "                                'Pts_3_C':[4, 2, 2, 1, 1]})\n",
    "dois_pontos_c_1 = pd.DataFrame({'Nome':['Pierotti', 'Gerson', 'Lucious', 'Pastor', 'Pedro'],\n",
    "                                'Pts_2_C':[8, 7, 6, 5, 5]})\n",
    "rt_1 = pd.DataFrame({'Nome':['Pierotti', 'Ansaloni', 'Sahdi', 'Pastor', 'Baxley'],\n",
    "                             'RT':[8, 7, 6, 5, 4]})\n",
    "as_1 = pd.DataFrame({'Nome':['Pierotti', 'Lucious', 'Baxley', 'Pedro', 'Ansaloni'],\n",
    "                             'AS':[6, 3, 2, 2, 1]})\n",
    "fr_1 = pd.DataFrame({'Nome':['Pierotti', 'Ansaloni', 'Baxley', 'Lucious', 'Pedro'],\n",
    "                             'FR':[7, 5, 3, 3, 2]})"
   ]
  },
  {
   "cell_type": "code",
   "execution_count": 7,
   "metadata": {},
   "outputs": [],
   "source": [
    "pontos_c_2 = pd.DataFrame({'Nome':['Lucão', 'Ansaloni', 'Pastor', 'Pedro', 'Sahdi'],\n",
    "                           'Pts_C':[19, 15, 12, 10, 9]})\n",
    "tres_pontos_c_2 = pd.DataFrame({'Nome':['Lucão', 'Ansaloni', 'Pastor', 'Baxley', 'Sahdi'],\n",
    "                                'Pts_3_C':[4, 2, 2, 1, 1]})\n",
    "dois_pontos_c_2 = pd.DataFrame({'Nome':['Lucão', 'Gerson', 'Lucious', 'Pastor', 'Pedro'],\n",
    "                                'Pts_2_C':[8, 7, 6, 5, 5]})\n",
    "rt_2 = pd.DataFrame({'Nome':['Lucão', 'Ansaloni', 'Sahdi', 'Pastor', 'Baxley'],\n",
    "                             'RT':[8, 7, 6, 5, 4]})\n",
    "as_2 = pd.DataFrame({'Nome':['Lucão', 'Lucious', 'Baxley', 'Pedro', 'Ansaloni'],\n",
    "                             'AS':[6, 3, 2, 2, 1]})\n",
    "fr_2 = pd.DataFrame({'Nome':['Lucão', 'Ansaloni', 'Baxley', 'Lucious', 'Pedro'],\n",
    "                             'FR':[7, 5, 3, 3, 2]})"
   ]
  },
  {
   "cell_type": "markdown",
   "metadata": {},
   "source": [
    "# Aprimoramento Página"
   ]
  },
  {
   "cell_type": "markdown",
   "metadata": {},
   "source": [
    "# Relatório"
   ]
  },
  {
   "cell_type": "code",
   "execution_count": 8,
   "metadata": {},
   "outputs": [
    {
     "data": {
      "text/plain": [
       "''"
      ]
     },
     "execution_count": 8,
     "metadata": {},
     "output_type": "execute_result"
    }
   ],
   "source": [
    "pdf = FPDF('P', 'mm', 'A4')\n",
    "# Capa do relatório\n",
    "pdf.add_page()\n",
    "# Cabeçalho e Rodapé\n",
    "cabecalho_rodape(pdf, arquivo)\n",
    "# capa\n",
    "criar_titulo(pdf, data)\n",
    "fotos_dos_times(pdf, img_casa, nome_time_casa, img_fora, nome_time_fora)\n",
    "informacoes_do_placar(pdf, classificatoria, placar_casa, placar_fora, dia_do_jogo)\n",
    "grafico_quartos_normal(pdf, nome_time_casa, nome_time_fora)\n",
    "placar_do_quarto1(pdf, inf_placar_casa, inf_placar_fora)\n",
    "placar_do_quarto2(pdf, inf_placar_casa, inf_placar_fora)\n",
    "placar_do_quarto3(pdf, inf_placar_casa, inf_placar_fora)\n",
    "placar_do_quarto4(pdf, inf_placar_casa, inf_placar_fora)\n",
    "placar_final(pdf, placar_casa, placar_fora)\n",
    "informacoes_do_relatorio(pdf)\n",
    "\n",
    "# Primeira página de Análises \n",
    "pdf.add_page()\n",
    "# Cabeçalho e Rodapé\n",
    "cabecalho_rodape(pdf, arquivo)\n",
    "# Títulos das Análises\n",
    "comentarios_p1(pdf)\n",
    "# Gráficos das Análises linha 1\n",
    "graficos_analise_descrivita_l1(pdf, tabela_times, arquivo)\n",
    "# Gráficos das Análises linha 2\n",
    "graficos_analise_descrivita_l2(pdf, tabela_times, arquivo)\n",
    "comentarios_p1_1(pdf)\n",
    "# Gráficos das Análises linha 3\n",
    "graficos_analise_descrivita_l3(pdf, tabela_times, arquivo)\n",
    "# Gráficos das Análises linha 4\n",
    "graficos_analise_descrivita_l4(pdf, tabela_times, arquivo)\n",
    "comentarios_p1_2(pdf)\n",
    "\n",
    "# Segunda Página de Análises \n",
    "pdf.add_page()\n",
    "# Cabeçalho e Rodapé\n",
    "cabecalho_rodape(pdf, arquivo)\n",
    "# Comentarios das Análises Avançadas\n",
    "comentarios_p2(pdf)\n",
    "# Gráficos das Análises\n",
    "graficos_analise_avancadas_c1(pdf, tabela_times, arquivo)\n",
    "graficos_analise_avancadas_c2(pdf, tabela_times, arquivo)\n",
    "graficos_analise_avancadas_c3(pdf, tabela_times, arquivo)\n",
    "# considerações finais \n",
    "comentarios_p2_1(pdf)\n",
    "\n",
    "# Terceira Página de Análises Time da Casa\n",
    "pdf.add_page()\n",
    "# Cabeçalho e Rodapé\n",
    "cabecalho_rodape(pdf, arquivo)\n",
    "# Título/Comentarios das Análises\n",
    "comentarios_p3(pdf, nome_time_casa)\n",
    "# Análise do time da casa\n",
    "melhores_jogadores_l1(pdf)\n",
    "melhores_jogadores_l2(pdf)\n",
    "# foto dos jogadores\n",
    "foto_melhor_pontuador(pdf, arquivo1, pontos_c_1)\n",
    "cinco_melhores_pontuadores(pdf, pontos_c_1)\n",
    "# foto dos melhores  porntuadores de três\n",
    "foto_melhor_pontuador_tres(pdf, arquivo1, tres_pontos_c_1)\n",
    "cinco_melhores_pontuadores_tres(pdf, tres_pontos_c_1)\n",
    "# foto dos melhores  porntuadores de dois\n",
    "foto_melhor_pontuador_dois(pdf, arquivo1, dois_pontos_c_1)\n",
    "cinco_melhores_pontuadores_dois(pdf, dois_pontos_c_1)\n",
    "# foto dos melhores assistentes\n",
    "foto_melhor_assistente(pdf, arquivo1, as_1)\n",
    "cinco_melhores_assistencias(pdf, as_1)\n",
    "# foto dos melhores reboteiros\n",
    "foto_melhor_rebotes(pdf, arquivo1, rt_1)\n",
    "cinco_melhores_reboteiros(pdf, rt_1)\n",
    "# foto dos melhores faltas recebidas\n",
    "foto_melhor_faltas_recebidas(pdf, arquivo1, fr_1)\n",
    "cinco_melhores_faltas_recebidas(pdf, fr_1)\n",
    "# tabela geral\n",
    "tabela_geral_casa(pdf, arquivo)\n",
    "\n",
    "# Quarta Página Períodos Positivos do Time da Casa\n",
    "pdf.add_page()\n",
    "# Cabeçalho e Rodapé\n",
    "cabecalho_rodape(pdf, arquivo)\n",
    "# Título/Comentarios das Positivos do Time da Casa\n",
    "comentarios_p4(pdf, nome_time_casa)\n",
    "# Gráfico dos Períodos Positos do Time da Casa\n",
    "grafico_periodos_positivos_casa(pdf, arquivo)\n",
    "# Gráfico do tempo de Posse de Bola do Time da Casa \n",
    "grafico_tempo_posse_de_bola_casa(pdf, arquivo)\n",
    "# Comentários\n",
    "comentarios_p4_1(pdf)\n",
    "\n",
    "# Quinta Página Períodos Positivos do Time da Casa\n",
    "pdf.add_page()\n",
    "# Cabeçalho e Rodapé\n",
    "cabecalho_rodape(pdf, arquivo)\n",
    "# Título do cinco melores jogadores\n",
    "comentarios_p5(pdf, nome_time_casa)\n",
    "primeiro_quinteto_fotos_casa(pdf)\n",
    "segundo_quinteto_fotos_casa(pdf)\n",
    "terceiro_quinteto_fotos_casa(pdf)\n",
    "# Título das Melhores substituições\n",
    "comentarios_p5_1(pdf)\n",
    "# Jogadores e Comentários\n",
    "substituicao_1_casa(pdf)\n",
    "substituicao_2_casa(pdf)\n",
    "\n",
    "# Sexta Página de Análises Time da Casa\n",
    "pdf.add_page()\n",
    "# Cabeçalho e Rodapé\n",
    "cabecalho_rodape(pdf, arquivo)\n",
    "# Título/Comentarios das Análises\n",
    "comentarios_p3(pdf, nome_time_fora)\n",
    "# Análise do time da casa\n",
    "melhores_jogadores_l1(pdf)\n",
    "melhores_jogadores_l2(pdf)\n",
    "# foto dos jogadores\n",
    "foto_melhor_pontuador(pdf, arquivo2, pontos_c_2)\n",
    "cinco_melhores_pontuadores(pdf, pontos_c_2)\n",
    "# foto dos melhores  porntuadores de três\n",
    "foto_melhor_pontuador_tres(pdf, arquivo2, tres_pontos_c_2)\n",
    "cinco_melhores_pontuadores_tres(pdf, tres_pontos_c_2)\n",
    "# foto dos melhores  porntuadores de dois\n",
    "foto_melhor_pontuador_dois(pdf, arquivo2, dois_pontos_c_2)\n",
    "cinco_melhores_pontuadores_dois(pdf, dois_pontos_c_2)\n",
    "# foto dos melhores assistentes\n",
    "foto_melhor_assistente(pdf, arquivo2, as_2)\n",
    "cinco_melhores_assistencias(pdf, as_2)\n",
    "# foto dos melhores reboteiros\n",
    "foto_melhor_rebotes(pdf, arquivo2, rt_2)\n",
    "cinco_melhores_reboteiros(pdf, rt_2)\n",
    "# foto dos melhores faltas recebidas\n",
    "foto_melhor_faltas_recebidas(pdf, arquivo2, fr_2)\n",
    "cinco_melhores_faltas_recebidas(pdf, fr_2)\n",
    "# tabela geral\n",
    "tabela_geral_fora(pdf, arquivo)\n",
    "\n",
    "# Setima Página Períodos Positivos do Time da Fora\n",
    "pdf.add_page()\n",
    "# Cabeçalho e Rodapé\n",
    "cabecalho_rodape(pdf, arquivo)\n",
    "# Título/Comentarios das Positivos do Time da Fora\n",
    "comentarios_p7(pdf, nome_time_fora)\n",
    "# Gráfico dos Períodos Positos do Time da Fora\n",
    "grafico_periodos_positivos_fora(pdf, arquivo)\n",
    "# Gráfico do tempo de Posse de Bola do Time da Fora \n",
    "grafico_tempo_posse_de_bola_fora(pdf, arquivo)\n",
    "# Comentários\n",
    "comentarios_p7_1(pdf)\n",
    "\n",
    "# Oitava Página Períodos Positivos do Time da Casa\n",
    "pdf.add_page()\n",
    "# Cabeçalho e Rodapé\n",
    "cabecalho_rodape(pdf, arquivo)\n",
    "# Título do cinco melores jogadores\n",
    "comentarios_p8(pdf, nome_time_fora)\n",
    "primeiro_quinteto_fotos_fora(pdf)\n",
    "segundo_quinteto_fotos_fora(pdf)\n",
    "terceiro_quinteto_fotos_fora(pdf)\n",
    "# Título das Melhores substituições\n",
    "comentarios_p8_1(pdf)\n",
    "# Jogadores e Comentários\n",
    "substituicao_1_fora(pdf)\n",
    "substituicao_2_fora(pdf)\n",
    "\n",
    "pdf.output('teste.pdf', 'F')"
   ]
  },
  {
   "cell_type": "code",
   "execution_count": null,
   "metadata": {},
   "outputs": [],
   "source": []
  }
 ],
 "metadata": {
  "kernelspec": {
   "display_name": "Python 3",
   "language": "python",
   "name": "python3"
  },
  "language_info": {
   "codemirror_mode": {
    "name": "ipython",
    "version": 3
   },
   "file_extension": ".py",
   "mimetype": "text/x-python",
   "name": "python",
   "nbconvert_exporter": "python",
   "pygments_lexer": "ipython3",
   "version": "3.8.3"
  }
 },
 "nbformat": 4,
 "nbformat_minor": 4
}
