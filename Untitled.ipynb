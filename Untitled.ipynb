{
 "cells": [
  {
   "cell_type": "code",
   "execution_count": 1,
   "metadata": {},
   "outputs": [],
   "source": [
    "# !pip install fpdf"
   ]
  },
  {
   "cell_type": "code",
   "execution_count": 2,
   "metadata": {},
   "outputs": [],
   "source": [
    "from fpdf import FPDF\n",
    "from datetime import datetime"
   ]
  },
  {
   "cell_type": "code",
   "execution_count": 31,
   "metadata": {},
   "outputs": [],
   "source": [
    "data = datetime.today().strftime('%d/%m/%Y')\n",
    "dia_jogo = '02/01/2021'\n",
    "posicao = '3° Rodada'\n",
    "placar_casa = 61\n",
    "placar_fora = 74\n",
    "nome_casa = 'UNIFACISA'\n",
    "img_casa = 'RELATORIO/UNIFACISA'\n",
    "img_fora = 'RELATORIO/Rio Claro'\n",
    "nome_fora = 'Rio Claro'\n"
   ]
  },
  {
   "cell_type": "code",
   "execution_count": 32,
   "metadata": {},
   "outputs": [],
   "source": [
    "def cabecalho_rodape(pdf):\n",
    "    pdf.image('RELATORIO/Sem título 1.jpg', x=0, y=0, w=largura)\n",
    "    pdf.image('RELATORIO/Sem título 2.jpg', x=0, y=altura-12, w=largura)"
   ]
  },
  {
   "cell_type": "code",
   "execution_count": 130,
   "metadata": {},
   "outputs": [],
   "source": [
    "def criar_titulo(pdf):\n",
    "    # Data de criação do relatório\n",
    "    pdf.set_xy(160, 15)\n",
    "    pdf.set_font('Times', 'B', 14)\n",
    "    print(f'Localização do pdf Atual = x:{round(pdf.get_x(),1)} | y: {round(pdf.get_y(),1)}')\n",
    "    pdf.cell(w=40, h=10, txt=f'Dia {data}', border=1, ln=1, align='C')\n",
    "    # Título\n",
    "    pdf.set_xy(10, 40)\n",
    "    pdf.set_font('Times', 'B', 26)\n",
    "    print(f'Localização do pdf Atual = x:{round(pdf.get_x(),1)} | y: {round(pdf.get_y(),1)}')\n",
    "    pdf.cell(largura-2*margem, h=30, txt= 'Relatório de Jogo', border=1, ln=1, align='C') "
   ]
  },
  {
   "cell_type": "code",
   "execution_count": 131,
   "metadata": {},
   "outputs": [],
   "source": [
    "def informacoes_do_placar(pdf):\n",
    "    # Informações da rodada \n",
    "    pdf.set_xy(largura-127, 85)\n",
    "    pdf.set_font('Times', 'B', 16)\n",
    "    print(f'Localização do pdf Atual = x:{round(pdf.get_x(),1)} | y: {round(pdf.get_y(),1)}')\n",
    "    pdf.cell(w=40, h=10, txt= f'{posicao}', border=1, ln=1, align='C')\n",
    "    # Colocar 'X'\n",
    "    pdf.set_xy(largura-110, 113)\n",
    "    pdf.set_font('Times', 'B', 14)\n",
    "    print(f'Localização do pdf Atual = x:{round(pdf.get_x(),1)} | y: {round(pdf.get_y(),1)}')\n",
    "    pdf.cell(w=5, h=5, txt= 'X', border=1, ln=1, align='C')\n",
    "    # Informações do Placar Casa\n",
    "    pdf.set_xy(largura-133, 105)\n",
    "    pdf.set_font('Times', 'B', 32)\n",
    "    print(f'Localização do pdf Atual = x:{round(pdf.get_x(),1)} | y: {round(pdf.get_y(),1)}')\n",
    "    pdf.cell(w=20, h=20, txt= f'{placar_casa}', border=1, ln=1, align='C')\n",
    "    # Informações do Placar Fora\n",
    "    pdf.set_xy(largura-102, 105)\n",
    "    pdf.set_font('Times', 'B', 32)\n",
    "    print(f'Localização do pdf Atual = x:{round(pdf.get_x(),1)} | y: {round(pdf.get_y(),1)}')\n",
    "    pdf.cell(w=20, h=20, txt= f'{placar_fora}', border=1, ln=1, align='C')\n",
    "    # Informação do dia de jogo\n",
    "    pdf.set_xy(largura-132, 130)\n",
    "    pdf.set_font('Times', 'B', 12)\n",
    "    print(f'Localização do pdf Atual = x:{round(pdf.get_x(),1)} | y: {round(pdf.get_y(),1)}')\n",
    "    pdf.cell(w=50, h=10, txt= f'Dia da Partida: {dia_jogo}', border=1, ln=1, align='C')"
   ]
  },
  {
   "cell_type": "code",
   "execution_count": 132,
   "metadata": {},
   "outputs": [],
   "source": [
    "def fotos_dos_times(pdf):\n",
    "    # Foto do time da casa\n",
    "    print(f'Localização do pdf Atual = x:{round(pdf.get_x(),1)} | y: {round(pdf.get_y(),1)}')\n",
    "    pdf.image(f'{img_casa}.png', x=largura-170, y=98, w=27, h=27)\n",
    "    # Nome do time da casa\n",
    "    pdf.set_xy(largura-170, 126)\n",
    "    pdf.set_font('Times', 'B', 12)\n",
    "    print(f'Localização do pdf Atual = x:{round(pdf.get_x(),1)} | y: {round(pdf.get_y(),1)}')\n",
    "    pdf.cell(w=26, h=10, txt= f'{nome_casa}', border=1, ln=1, align='C')\n",
    "    # foto do time de Fora\n",
    "    print(f'Localização do pdf Atual = x:{round(pdf.get_x(),1)} | y: {round(pdf.get_y(),1)}')\n",
    "    pdf.image(f'{img_fora}.png', x=largura-72, y=98, w=27, h=27)\n",
    "    # Nome do time da fora\n",
    "    pdf.set_xy(largura-72, 126)\n",
    "    pdf.set_font('Times', 'B', 12)\n",
    "    print(f'Localização do pdf Atual = x:{round(pdf.get_x(),1)} | y: {round(pdf.get_y(),1)}')\n",
    "    pdf.cell(w=26, h=10, txt= f'{nome_fora}', border=1, ln=1, align='C')"
   ]
  },
  {
   "cell_type": "code",
   "execution_count": 133,
   "metadata": {},
   "outputs": [
    {
     "name": "stdout",
     "output_type": "stream",
     "text": [
      "Localização do pdf Atual = x:160 | y: 15\n",
      "Localização do pdf Atual = x:10 | y: 40\n",
      "Localização do pdf Atual = x:83 | y: 85\n",
      "Localização do pdf Atual = x:100 | y: 113\n",
      "Localização do pdf Atual = x:77 | y: 105\n",
      "Localização do pdf Atual = x:108 | y: 105\n",
      "Localização do pdf Atual = x:78 | y: 130\n",
      "Localização do pdf Atual = x:10.0 | y: 140\n",
      "Localização do pdf Atual = x:40 | y: 126\n",
      "Localização do pdf Atual = x:10.0 | y: 136\n",
      "Localização do pdf Atual = x:138 | y: 126\n"
     ]
    },
    {
     "data": {
      "text/plain": [
       "''"
      ]
     },
     "execution_count": 133,
     "metadata": {},
     "output_type": "execute_result"
    }
   ],
   "source": [
    "# Set Variables \n",
    "largura = 210 #mm\n",
    "altura = 297 #mm\n",
    "margem = 10 #mm\n",
    "\n",
    "\n",
    "# Capa do relatório\n",
    "pdf = FPDF('P', 'mm', 'A4')\n",
    "pdf.add_page()\n",
    "# Cabeçalho e Rodapé\n",
    "cabecalho_rodape(pdf)\n",
    "# capa\n",
    "criar_titulo(pdf)\n",
    "informacoes_do_placar(pdf)\n",
    "fotos_dos_times(pdf)\n",
    "\n",
    "# Primeira página de Análises \n",
    "#pdf.add_page()\n",
    "# Cabeçalho e Rodapé\n",
    "#cabecalho_rodape(pdf)\n",
    "\n",
    "\n",
    "\n",
    "pdf.output('teste.pdf', 'F')"
   ]
  },
  {
   "cell_type": "code",
   "execution_count": null,
   "metadata": {},
   "outputs": [],
   "source": []
  },
  {
   "cell_type": "code",
   "execution_count": null,
   "metadata": {},
   "outputs": [],
   "source": []
  },
  {
   "cell_type": "code",
   "execution_count": null,
   "metadata": {},
   "outputs": [],
   "source": []
  }
 ],
 "metadata": {
  "kernelspec": {
   "display_name": "Python 3",
   "language": "python",
   "name": "python3"
  },
  "language_info": {
   "codemirror_mode": {
    "name": "ipython",
    "version": 3
   },
   "file_extension": ".py",
   "mimetype": "text/x-python",
   "name": "python",
   "nbconvert_exporter": "python",
   "pygments_lexer": "ipython3",
   "version": "3.8.3"
  }
 },
 "nbformat": 4,
 "nbformat_minor": 4
}
