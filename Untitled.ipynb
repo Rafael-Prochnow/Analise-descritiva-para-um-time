{
 "cells": [
  {
   "cell_type": "code",
   "execution_count": 1,
   "metadata": {},
   "outputs": [],
   "source": [
    "# !pip install fpdf"
   ]
  },
  {
   "cell_type": "code",
   "execution_count": 2,
   "metadata": {},
   "outputs": [],
   "source": [
    "from fpdf import FPDF"
   ]
  },
  {
   "cell_type": "code",
   "execution_count": 13,
   "metadata": {},
   "outputs": [
    {
     "name": "stdout",
     "output_type": "stream",
     "text": [
      "Localização do pdf Atual\n"
     ]
    },
    {
     "data": {
      "text/plain": [
       "''"
      ]
     },
     "execution_count": 13,
     "metadata": {},
     "output_type": "execute_result"
    }
   ],
   "source": [
    "# Set Variables \n",
    "largura = 210 #mm\n",
    "altura = 297 #mm\n",
    "margem = 10 #mm\n",
    "\n",
    "########## Set Configuration ###################\n",
    "pdf = FPDF('P', 'mm', 'A4')\n",
    "pdf.add_page()\n",
    "pdf.set_font('Times', 'B', 22)\n",
    "pdf.set_auto_page_break(auto=bool, margin=margem)\n",
    "\n",
    "########## Colocar Cabeçalho e Rodapé ###############\n",
    "pdf.image('RELATORIO/Sem título 1.jpg', x=0, y=0, w=largura)\n",
    "pdf.image('RELATORIO/Sem título 2.jpg', x=0, y=altura-12, w=largura)\n",
    "\n",
    "########## Ordem das informações ###############\n",
    "print(f'Localização do pdf Atual')\n",
    "\n",
    "pdf.cell(largura-2*margem, 40, txt= 'Relatório de Jogo', border=1, ln=1, align='C')\n",
    "\n",
    "\n",
    "pdf.output('teste.pdf', 'F')"
   ]
  },
  {
   "cell_type": "code",
   "execution_count": null,
   "metadata": {},
   "outputs": [],
   "source": []
  },
  {
   "cell_type": "code",
   "execution_count": null,
   "metadata": {},
   "outputs": [],
   "source": []
  },
  {
   "cell_type": "code",
   "execution_count": null,
   "metadata": {},
   "outputs": [],
   "source": []
  }
 ],
 "metadata": {
  "kernelspec": {
   "display_name": "Python 3",
   "language": "python",
   "name": "python3"
  },
  "language_info": {
   "codemirror_mode": {
    "name": "ipython",
    "version": 3
   },
   "file_extension": ".py",
   "mimetype": "text/x-python",
   "name": "python",
   "nbconvert_exporter": "python",
   "pygments_lexer": "ipython3",
   "version": "3.8.3"
  }
 },
 "nbformat": 4,
 "nbformat_minor": 4
}
