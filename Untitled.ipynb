{
 "cells": [
  {
   "cell_type": "code",
   "execution_count": 1,
   "metadata": {},
   "outputs": [],
   "source": [
    "# !pip install fpdf"
   ]
  },
  {
   "cell_type": "code",
   "execution_count": 2,
   "metadata": {},
   "outputs": [],
   "source": [
    "from fpdf import FPDF\n",
    "from datetime import datetime"
   ]
  },
  {
   "cell_type": "code",
   "execution_count": 3,
   "metadata": {},
   "outputs": [],
   "source": [
    "data = datetime.today().strftime('%d/%m/%Y')\n",
    "dia_jogo = '02/01/2021'\n",
    "posicao = '3° Rodada'\n",
    "placar_casa = 61\n",
    "placar_fora = 74\n",
    "nome_casa = 'UNIFACISA'\n",
    "img_casa = 'RELATORIO/UNIFACISA'\n",
    "img_fora = 'RELATORIO/Rio Claro'\n",
    "nome_fora = 'Rio Claro'\n",
    "inf_placar_casa = [19, 31, 27, 24]\n",
    "inf_placar_fora = [25, 16, 14, 31]\n",
    "evolucao_placar = ''"
   ]
  },
  {
   "cell_type": "code",
   "execution_count": 4,
   "metadata": {},
   "outputs": [],
   "source": [
    "def cabecalho_rodape(pdf):\n",
    "    pdf.image('RELATORIO/Sem título 1.jpg', x=0, y=0, w=largura)\n",
    "    pdf.image('RELATORIO/Sem título 2.jpg', x=0, y=altura-12, w=largura)"
   ]
  },
  {
   "cell_type": "markdown",
   "metadata": {},
   "source": [
    "# Capa"
   ]
  },
  {
   "cell_type": "code",
   "execution_count": 5,
   "metadata": {},
   "outputs": [],
   "source": [
    "def criar_titulo(pdf):\n",
    "    # Data de criação do relatório\n",
    "    pdf.set_xy(160, 15)\n",
    "    pdf.set_font('Times', 'B', 14)\n",
    "    print(f'Localização do pdf Atual = x:{round(pdf.get_x(),1)} | y: {round(pdf.get_y(),1)}')\n",
    "    pdf.cell(w=40, h=10, txt=f'Dia {data}', border=1, ln=1, align='C')\n",
    "    # Título\n",
    "    pdf.set_xy(10, 40)\n",
    "    pdf.set_font('Times', 'B', 26)\n",
    "    pdf.cell(largura-2*margem, h=30, txt= 'Relatório de Jogo', border=1, ln=1, align='C') "
   ]
  },
  {
   "cell_type": "code",
   "execution_count": 6,
   "metadata": {},
   "outputs": [],
   "source": [
    "def fotos_dos_times(pdf):\n",
    "    # Foto do time da casa\n",
    "    pdf.image(f'{img_casa}.png', x=largura-170, y=98, w=27, h=27)\n",
    "    # Nome do time da casa\n",
    "    pdf.set_xy(largura-170, 126)\n",
    "    pdf.set_font('Times', 'B', 12)\n",
    "    pdf.cell(w=26, h=10, txt= f'{nome_casa}', border=1, ln=1, align='C')\n",
    "    # foto do time de Fora\n",
    "    pdf.image(f'{img_fora}.png', x=largura-72, y=98, w=27, h=27)\n",
    "    # Nome do time da fora\n",
    "    pdf.set_xy(largura-72, 126)\n",
    "    pdf.set_font('Times', 'B', 12)\n",
    "    pdf.cell(w=26, h=10, txt= f'{nome_fora}', border=1, ln=1, align='C')"
   ]
  },
  {
   "cell_type": "code",
   "execution_count": 7,
   "metadata": {},
   "outputs": [],
   "source": [
    "def grafico_quartos_normal(pdf):\n",
    "    # caixa de texto 1\n",
    "    pdf.set_xy(largura-147, 160)\n",
    "    pdf.set_font('Times', 'B', 26)\n",
    "    pdf.cell(largura-113, h=20, txt= '', border='T, B', ln=0, align='C')\n",
    "    # caixa de texto 2\n",
    "    pdf.set_xy(largura-147, 170)\n",
    "    pdf.set_font('Times', 'B', 26)\n",
    "    pdf.cell(largura-113, h=10, txt= '', border='T', ln=0, align='C')\n",
    "    # Primeiro Quarto\n",
    "    pdf.set_xy(largura-144, 152)\n",
    "    pdf.set_font('Times', 'B', 11)\n",
    "    pdf.cell(w=10, h=8, txt= 'Q1', border=1, ln=1, align='C')\n",
    "    # Segundo Quarto\n",
    "    pdf.set_xy(largura-124, 152)\n",
    "    pdf.set_font('Times', 'B', 11)\n",
    "    pdf.cell(w=10, h=8, txt= 'Q2', border=1, ln=1, align='C')\n",
    "    # Terceiro Quarto\n",
    "    pdf.set_xy(largura-104, 152)\n",
    "    pdf.set_font('Times', 'B', 11)\n",
    "    pdf.cell(w=10, h=8, txt= 'Q3', border=1, ln=1, align='C')\n",
    "    # Quarto Quarto\n",
    "    pdf.set_xy(largura-84, 152)\n",
    "    pdf.set_font('Times', 'B', 11)\n",
    "    pdf.cell(w=10, h=8, txt= 'Q4', border=1, ln=1, align='C')\n",
    "    # Fim de Jogo\n",
    "    pdf.set_xy(largura-64, 152)\n",
    "    pdf.set_font('Times', 'B', 11)\n",
    "    pdf.cell(w=14, h=8, txt= 'FINAL', border=1, ln=1, align='C')\n",
    "    # Nome do time Casa \n",
    "    pdf.set_xy(largura-179, 161)\n",
    "    pdf.set_font('Times', 'B', 12)\n",
    "    pdf.cell(w=30, h=8, txt= f'{nome_casa}', border=1, ln=1, align='C')\n",
    "    # Nome do time Fora\n",
    "    pdf.set_xy(largura-179, 171)\n",
    "    pdf.set_font('Times', 'B', 12)\n",
    "    pdf.cell(w=30, h=8, txt= f'{nome_fora}', border=1, ln=1, align='C')"
   ]
  },
  {
   "cell_type": "code",
   "execution_count": 8,
   "metadata": {},
   "outputs": [],
   "source": [
    "def placar_do_quarto1(inf_placar_casa, inf_placar_fora):\n",
    "    # Placar do Time Casa no Primeiro Quarto \n",
    "    pdf.set_xy(largura-143, 161)\n",
    "    pdf.set_font('Times', 'B', 12)\n",
    "    if inf_placar_casa[0] > inf_placar_fora[0]:\n",
    "        pdf.set_text_color(220, 50, 50)\n",
    "        pdf.cell(w=8, h=8, txt= f'{inf_placar_casa[0]}', border=1, ln=1, align='C')\n",
    "    elif inf_placar_casa[0] <= inf_placar_fora[0]:\n",
    "        pdf.set_text_color(0)\n",
    "        pdf.cell(w=8, h=8, txt= f'{inf_placar_casa[0]}', border=1, ln=1, align='C')\n",
    "    # Placar do Time Fora no Primeiro Quarto \n",
    "    pdf.set_xy(largura-143, 171)\n",
    "    pdf.set_font('Times', 'B', 12)\n",
    "    if inf_placar_casa[0] >= inf_placar_fora[0]:\n",
    "        pdf.set_text_color(0)\n",
    "        pdf.cell(w=8, h=8, txt= f'{inf_placar_fora[0]}', border=1, ln=1, align='C')\n",
    "    elif inf_placar_casa[0] < inf_placar_fora[0]:\n",
    "        pdf.set_text_color(220, 50, 50)\n",
    "        pdf.cell(w=8, h=8, txt= f'{inf_placar_fora[0]}', border=1, ln=1, align='C')"
   ]
  },
  {
   "cell_type": "code",
   "execution_count": 9,
   "metadata": {},
   "outputs": [],
   "source": [
    "def placar_do_quarto2(inf_placar_casa, inf_placar_fora):\n",
    "    # Placar do Time Casa no Segundo Quarto \n",
    "    pdf.set_xy(largura-123, 161)\n",
    "    pdf.set_font('Times', 'B', 12)\n",
    "    if inf_placar_casa[1] > inf_placar_fora[1]:\n",
    "        pdf.set_text_color(220, 50, 50)\n",
    "        pdf.cell(w=8, h=8, txt= f'{inf_placar_casa[1]}', border=1, ln=1, align='C')\n",
    "    elif inf_placar_casa[1] < inf_placar_fora[1]:\n",
    "        pdf.set_text_color(0)\n",
    "        pdf.cell(w=8, h=8, txt= f'{inf_placar_casa[1]}', border=1, ln=1, align='C')\n",
    "    # Placar do Time Fora no Segundo Quarto \n",
    "    pdf.set_xy(largura-123, 171)\n",
    "    pdf.set_font('Times', 'B', 12)\n",
    "    if inf_placar_casa[1] > inf_placar_fora[1]:\n",
    "        pdf.set_text_color(0)\n",
    "        pdf.cell(w=8, h=8, txt= f'{inf_placar_fora[1]}', border=1, ln=1, align='C')\n",
    "    elif inf_placar_casa[1] < inf_placar_fora[1]:\n",
    "        pdf.set_text_color(220, 50, 50)\n",
    "        pdf.cell(w=8, h=8, txt= f'{inf_placar_fora[1]}', border=1, ln=1, align='C')"
   ]
  },
  {
   "cell_type": "code",
   "execution_count": 10,
   "metadata": {},
   "outputs": [],
   "source": [
    "def placar_do_quarto3(inf_placar_casa, inf_placar_fora):\n",
    "    # Placar do Time da Casa no Terceiro Quarto \n",
    "    pdf.set_xy(largura-103, 161)\n",
    "    pdf.set_font('Times', 'B', 12)\n",
    "    if inf_placar_casa[2] > inf_placar_fora[2]:\n",
    "        pdf.set_text_color(220, 50, 50)\n",
    "        pdf.cell(w=8, h=8, txt= f'{inf_placar_casa[2]}', border=1, ln=1, align='C')\n",
    "    elif inf_placar_casa[2] <= inf_placar_fora[2]:\n",
    "        pdf.set_text_color(0)\n",
    "        pdf.cell(w=8, h=8, txt= f'{inf_placar_casa[2]}', border=1, ln=1, align='C')\n",
    "    # Placar do Time da Fora no Terceiro Quarto \n",
    "    pdf.set_xy(largura-103, 171)\n",
    "    pdf.set_font('Times', 'B', 12)\n",
    "    if inf_placar_casa[2] >= inf_placar_fora[2]:\n",
    "        pdf.set_text_color(0)\n",
    "        pdf.cell(w=8, h=8, txt= f'{inf_placar_fora[2]}', border=1, ln=1, align='C')\n",
    "    elif inf_placar_casa[2] < inf_placar_fora[2]:\n",
    "        pdf.set_text_color(220, 50, 50)\n",
    "        pdf.cell(w=8, h=8, txt= f'{inf_placar_fora[2]}', border=1, ln=1, align='C')"
   ]
  },
  {
   "cell_type": "code",
   "execution_count": 11,
   "metadata": {},
   "outputs": [],
   "source": [
    "def placar_do_quarto4(inf_placar_casa, inf_placar_fora):\n",
    "    # Placar do Time da Casa no Quarto Quarto \n",
    "    pdf.set_xy(largura-83, 161)\n",
    "    pdf.set_font('Times', 'B', 12)\n",
    "    if inf_placar_casa[3] > inf_placar_fora[3]:\n",
    "        pdf.set_text_color(220, 50, 50)\n",
    "        pdf.cell(w=8, h=8, txt= f'{inf_placar_casa[3]}', border=1, ln=1, align='C')\n",
    "    elif inf_placar_casa[3] <= inf_placar_fora[3]:\n",
    "        pdf.set_text_color(0)\n",
    "        pdf.cell(w=8, h=8, txt= f'{inf_placar_casa[3]}', border=1, ln=1, align='C')\n",
    "    # Placar do Time da Fora no Quarto Quarto \n",
    "    pdf.set_xy(largura-83, 171)\n",
    "    pdf.set_font('Times', 'B', 12)\n",
    "    if inf_placar_casa[3] >= inf_placar_fora[3]:\n",
    "        pdf.set_text_color(0)\n",
    "        pdf.cell(w=8, h=8, txt= f'{inf_placar_fora[3]}', border=1, ln=1, align='C')\n",
    "    elif inf_placar_casa[3] < inf_placar_fora[3]:\n",
    "        pdf.set_text_color(220, 50, 50)\n",
    "        pdf.cell(w=8, h=8, txt= f'{inf_placar_fora[3]}', border=1, ln=1, align='C')"
   ]
  },
  {
   "cell_type": "code",
   "execution_count": 12,
   "metadata": {},
   "outputs": [],
   "source": [
    "def placar_final(placar_casa, placar_fora):\n",
    "    # Placar Final do Time da Casa\n",
    "    pdf.set_xy(largura-61, 161)\n",
    "    pdf.set_font('Times', 'B', 12)\n",
    "    if inf_placar_casa[0] > inf_placar_fora[0]:\n",
    "        pdf.set_text_color(220, 50, 50)\n",
    "        pdf.cell(w=8, h=8, txt= f'{placar_casa}', border=1, ln=1, align='C')\n",
    "    elif inf_placar_casa[0] <= inf_placar_fora[0]:\n",
    "        pdf.set_text_color(0)\n",
    "        pdf.cell(w=8, h=8, txt= f'{placar_casa}', border=1, ln=1, align='C')\n",
    "    # Placar Final do Time da Fora \n",
    "    pdf.set_xy(largura-61, 171)\n",
    "    pdf.set_font('Times', 'B', 12)\n",
    "    if inf_placar_casa[0] >= inf_placar_fora[0]:\n",
    "        pdf.set_text_color(0)\n",
    "        pdf.cell(w=8, h=8, txt= f'{placar_fora}', border=1, ln=1, align='C')\n",
    "    elif inf_placar_casa[0] < inf_placar_fora[0]:\n",
    "        pdf.set_text_color(220, 50, 50)\n",
    "        pdf.cell(w=8, h=8, txt= f'{placar_fora}', border=1, ln=1, align='C')"
   ]
  },
  {
   "cell_type": "code",
   "execution_count": 13,
   "metadata": {},
   "outputs": [],
   "source": [
    "def informacoes_do_relatorio(pdf):\n",
    "    # onde posso escrever\n",
    "    pdf.set_y(220)\n",
    "    pdf.set_font('Times', 'B', 26)\n",
    "    pdf.cell(largura-2*margem, h=30, txt= '', border=1, ln=1, align='C') "
   ]
  },
  {
   "cell_type": "code",
   "execution_count": 14,
   "metadata": {},
   "outputs": [],
   "source": [
    "def informacoes_do_placar(pdf):\n",
    "    # Informações da rodada \n",
    "    pdf.set_xy(largura-127, 85)\n",
    "    pdf.set_font('Times', 'B', 16)\n",
    "    pdf.cell(w=40, h=10, txt= f'{posicao}', border=1, ln=1, align='C')\n",
    "    # Colocar 'X'\n",
    "    pdf.set_xy(largura-110, 113)\n",
    "    pdf.set_font('Times', 'B', 14)\n",
    "    pdf.cell(w=5, h=5, txt= 'X', border=1, ln=1, align='C')\n",
    "    # Informações do Placar Casa\n",
    "    pdf.set_xy(largura-133, 105)\n",
    "    pdf.set_font('Times', 'B', 32)\n",
    "    pdf.set_text_color(255)\n",
    "    pdf.set_fill_color(9, 89, 153)\n",
    "    pdf.cell(w=20, h=20, txt= f'{placar_casa}', border=1, fill=True,ln=1, align='C')\n",
    "    # Informações do Placar Fora\n",
    "    pdf.set_xy(largura-102, 105)\n",
    "    pdf.set_font('Times', 'B', 32)\n",
    "    pdf.set_text_color(255)\n",
    "    pdf.set_fill_color(242, 168, 19)\n",
    "    pdf.cell(w=20, h=20, txt= f'{placar_fora}', border=1, fill=True,ln=1, align='C')\n",
    "    # Informação do dia de jogo\n",
    "    pdf.set_xy(largura-132, 130)\n",
    "    pdf.set_font('Times', 'B', 12)\n",
    "    pdf.set_text_color(0)\n",
    "    pdf.cell(w=50, h=10, txt= f'Dia da Partida: {dia_jogo}', border=1, ln=1, align='C')"
   ]
  },
  {
   "cell_type": "markdown",
   "metadata": {},
   "source": [
    "# Primeira página"
   ]
  },
  {
   "cell_type": "code",
   "execution_count": 20,
   "metadata": {},
   "outputs": [],
   "source": [
    "def evolução_do_placar(pdf):\n",
    "    pdf.image('RELATORIO/teste.jpeg', x=55, y=25, w=130, h=65)"
   ]
  },
  {
   "cell_type": "code",
   "execution_count": 21,
   "metadata": {},
   "outputs": [],
   "source": [
    "def comentarios_p1(pdf):\n",
    "    # Título\n",
    "    pdf.set_xy(margem, 95)\n",
    "    pdf.set_font('Times', 'B', 14)\n",
    "    pdf.cell(w=90, h=10, txt= 'Estátisticas Descritivas Comparativas', border=1, ln=1)\n",
    "    # Comentários\n",
    "    pdf.set_xy(margem, 105)\n",
    "    pdf.set_font('Times', 'B', 14)\n",
    "    pdf.cell(largura-2*margem, h=25, txt= '', border=1, ln=0, align='C')"
   ]
  },
  {
   "cell_type": "code",
   "execution_count": 30,
   "metadata": {},
   "outputs": [],
   "source": [
    "def graficos_analise_descrivita(pdf):\n",
    "    pdf.image('RELATORIO/Pts_C.png', x=20, y=140, w=50, h=35)"
   ]
  },
  {
   "cell_type": "code",
   "execution_count": 31,
   "metadata": {},
   "outputs": [
    {
     "data": {
      "text/plain": [
       "''"
      ]
     },
     "execution_count": 31,
     "metadata": {},
     "output_type": "execute_result"
    }
   ],
   "source": [
    "# Set Variables \n",
    "largura = 210 #mm\n",
    "altura = 297 #mm\n",
    "margem = 10 #mm\n",
    "\n",
    "\n",
    "# Capa do relatório\n",
    "pdf = FPDF('P', 'mm', 'A4')\n",
    "'''pdf.add_page()\n",
    "# Cabeçalho e Rodapé\n",
    "cabecalho_rodape(pdf)\n",
    "# capa\n",
    "criar_titulo(pdf)\n",
    "informacoes_do_placar(pdf)\n",
    "fotos_dos_times(pdf)\n",
    "grafico_quartos_normal(pdf)\n",
    "placar_do_quarto1(inf_placar_casa, inf_placar_fora)\n",
    "placar_do_quarto2(inf_placar_casa, inf_placar_fora)\n",
    "placar_do_quarto3(inf_placar_casa, inf_placar_fora)\n",
    "placar_do_quarto4(inf_placar_casa, inf_placar_fora)\n",
    "placar_final(placar_casa, placar_fora)\n",
    "informacoes_do_relatorio(pdf)'''\n",
    "\n",
    "# Primeira página de Análises \n",
    "pdf.add_page()\n",
    "# Cabeçalho e Rodapé\n",
    "cabecalho_rodape(pdf)\n",
    "# Primeiro gráfico da evolução do placar \n",
    "evolução_do_placar(pdf)\n",
    "# Título dos gráficos de Análise e comentários \n",
    "comentarios_p1(pdf)\n",
    "# Gráficos das Análises\n",
    "graficos_analise_descrivita(pdf)\n",
    "\n",
    "\n",
    "\n",
    "\n",
    "pdf.output('teste.pdf', 'F')"
   ]
  },
  {
   "cell_type": "code",
   "execution_count": 19,
   "metadata": {},
   "outputs": [
    {
     "ename": "NameError",
     "evalue": "name 'aaaa' is not defined",
     "output_type": "error",
     "traceback": [
      "\u001b[1;31m---------------------------------------------------------------------------\u001b[0m",
      "\u001b[1;31mNameError\u001b[0m                                 Traceback (most recent call last)",
      "\u001b[1;32m<ipython-input-19-7bae8076a577>\u001b[0m in \u001b[0;36m<module>\u001b[1;34m\u001b[0m\n\u001b[1;32m----> 1\u001b[1;33m \u001b[0maaaa\u001b[0m\u001b[1;33m\u001b[0m\u001b[1;33m\u001b[0m\u001b[0m\n\u001b[0m",
      "\u001b[1;31mNameError\u001b[0m: name 'aaaa' is not defined"
     ]
    }
   ],
   "source": [
    "aaaa"
   ]
  },
  {
   "cell_type": "code",
   "execution_count": null,
   "metadata": {},
   "outputs": [],
   "source": []
  },
  {
   "cell_type": "code",
   "execution_count": null,
   "metadata": {},
   "outputs": [],
   "source": []
  },
  {
   "cell_type": "code",
   "execution_count": null,
   "metadata": {},
   "outputs": [],
   "source": []
  }
 ],
 "metadata": {
  "kernelspec": {
   "display_name": "Python 3",
   "language": "python",
   "name": "python3"
  },
  "language_info": {
   "codemirror_mode": {
    "name": "ipython",
    "version": 3
   },
   "file_extension": ".py",
   "mimetype": "text/x-python",
   "name": "python",
   "nbconvert_exporter": "python",
   "pygments_lexer": "ipython3",
   "version": "3.8.3"
  }
 },
 "nbformat": 4,
 "nbformat_minor": 4
}
