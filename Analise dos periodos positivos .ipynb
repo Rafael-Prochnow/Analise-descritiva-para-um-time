{
 "cells": [
  {
   "cell_type": "markdown",
   "metadata": {},
   "source": [
    "# Bibliotecas"
   ]
  },
  {
   "cell_type": "markdown",
   "metadata": {},
   "source": [
    "* Bauru -> BAU\n",
    "* Mogi -> MOG\n",
    "* VipTech CMB -> CMO\n",
    "* Brasília -> BSB \n",
    "* Paulistano -> CAP\n",
    "* Flamengo -> FLA\n",
    "* Minas -> MIN\n",
    "* UNIFACISA -> UFC\n",
    "\n",
    "\n",
    "\n",
    "* Cerrado Basquete -> CER\n",
    "* SESI Franca -> FRA\n",
    "* Corinthians -> COR\n",
    "* Pinheiros -> PIN\n",
    "* Fortaleza B. C -> FOR\n",
    "* KTO Caxias do Sul -> CAX\n",
    "* Pato -> PAT\n",
    "* São Paulo -> SPF"
   ]
  },
  {
   "cell_type": "code",
   "execution_count": 1,
   "metadata": {},
   "outputs": [],
   "source": [
    "import pandas as pd\n",
    "import numpy as np\n",
    "import matplotlib.pyplot as plt\n",
    "import seaborn as sns\n",
    "%matplotlib inline"
   ]
  },
  {
   "cell_type": "markdown",
   "metadata": {},
   "source": [
    "# Informações"
   ]
  },
  {
   "cell_type": "code",
   "execution_count": 2,
   "metadata": {},
   "outputs": [
    {
     "data": {
      "text/html": [
       "<div>\n",
       "<style scoped>\n",
       "    .dataframe tbody tr th:only-of-type {\n",
       "        vertical-align: middle;\n",
       "    }\n",
       "\n",
       "    .dataframe tbody tr th {\n",
       "        vertical-align: top;\n",
       "    }\n",
       "\n",
       "    .dataframe thead th {\n",
       "        text-align: right;\n",
       "    }\n",
       "</style>\n",
       "<table border=\"1\" class=\"dataframe\">\n",
       "  <thead>\n",
       "    <tr style=\"text-align: right;\">\n",
       "      <th></th>\n",
       "      <th>Time</th>\n",
       "      <th>Tempo</th>\n",
       "      <th>Indicador</th>\n",
       "      <th>dif_casa</th>\n",
       "      <th>dif_visita</th>\n",
       "      <th>dif_abs</th>\n",
       "      <th>Tempo_Fim</th>\n",
       "      <th>pontuacao</th>\n",
       "    </tr>\n",
       "  </thead>\n",
       "  <tbody>\n",
       "    <tr>\n",
       "      <th>0</th>\n",
       "      <td>CAP</td>\n",
       "      <td>34.0</td>\n",
       "      <td>2_Pts_T</td>\n",
       "      <td>0.0</td>\n",
       "      <td>0.0</td>\n",
       "      <td>0.0</td>\n",
       "      <td>34.0</td>\n",
       "      <td>0.0</td>\n",
       "    </tr>\n",
       "    <tr>\n",
       "      <th>1</th>\n",
       "      <td>COR</td>\n",
       "      <td>20.0</td>\n",
       "      <td>ER</td>\n",
       "      <td>0.0</td>\n",
       "      <td>0.0</td>\n",
       "      <td>0.0</td>\n",
       "      <td>54.0</td>\n",
       "      <td>0.0</td>\n",
       "    </tr>\n",
       "    <tr>\n",
       "      <th>2</th>\n",
       "      <td>CAP</td>\n",
       "      <td>6.0</td>\n",
       "      <td>2_Pts_C</td>\n",
       "      <td>-2.0</td>\n",
       "      <td>2.0</td>\n",
       "      <td>2.0</td>\n",
       "      <td>60.0</td>\n",
       "      <td>2.0</td>\n",
       "    </tr>\n",
       "    <tr>\n",
       "      <th>3</th>\n",
       "      <td>COR</td>\n",
       "      <td>23.0</td>\n",
       "      <td>2_Pts_T</td>\n",
       "      <td>-2.0</td>\n",
       "      <td>2.0</td>\n",
       "      <td>2.0</td>\n",
       "      <td>83.0</td>\n",
       "      <td>0.0</td>\n",
       "    </tr>\n",
       "    <tr>\n",
       "      <th>4</th>\n",
       "      <td>CAP</td>\n",
       "      <td>16.0</td>\n",
       "      <td>2_Pts_T</td>\n",
       "      <td>-2.0</td>\n",
       "      <td>2.0</td>\n",
       "      <td>2.0</td>\n",
       "      <td>99.0</td>\n",
       "      <td>0.0</td>\n",
       "    </tr>\n",
       "    <tr>\n",
       "      <th>...</th>\n",
       "      <td>...</td>\n",
       "      <td>...</td>\n",
       "      <td>...</td>\n",
       "      <td>...</td>\n",
       "      <td>...</td>\n",
       "      <td>...</td>\n",
       "      <td>...</td>\n",
       "      <td>...</td>\n",
       "    </tr>\n",
       "    <tr>\n",
       "      <th>169</th>\n",
       "      <td>COR</td>\n",
       "      <td>4.0</td>\n",
       "      <td>LL_Pts_C</td>\n",
       "      <td>-4.0</td>\n",
       "      <td>4.0</td>\n",
       "      <td>4.0</td>\n",
       "      <td>2978.0</td>\n",
       "      <td>2.0</td>\n",
       "    </tr>\n",
       "    <tr>\n",
       "      <th>170</th>\n",
       "      <td>CAP</td>\n",
       "      <td>3.0</td>\n",
       "      <td>LL_Pts_C</td>\n",
       "      <td>-6.0</td>\n",
       "      <td>6.0</td>\n",
       "      <td>6.0</td>\n",
       "      <td>2981.0</td>\n",
       "      <td>2.0</td>\n",
       "    </tr>\n",
       "    <tr>\n",
       "      <th>171</th>\n",
       "      <td>COR</td>\n",
       "      <td>5.0</td>\n",
       "      <td>2_Pts_C</td>\n",
       "      <td>-4.0</td>\n",
       "      <td>4.0</td>\n",
       "      <td>4.0</td>\n",
       "      <td>2986.0</td>\n",
       "      <td>2.0</td>\n",
       "    </tr>\n",
       "    <tr>\n",
       "      <th>172</th>\n",
       "      <td>CAP</td>\n",
       "      <td>1.0</td>\n",
       "      <td>LL_Pts_T</td>\n",
       "      <td>-5.0</td>\n",
       "      <td>5.0</td>\n",
       "      <td>5.0</td>\n",
       "      <td>2987.0</td>\n",
       "      <td>1.0</td>\n",
       "    </tr>\n",
       "    <tr>\n",
       "      <th>173</th>\n",
       "      <td>COR</td>\n",
       "      <td>9.0</td>\n",
       "      <td>3_Pts_C</td>\n",
       "      <td>-2.0</td>\n",
       "      <td>2.0</td>\n",
       "      <td>2.0</td>\n",
       "      <td>2996.0</td>\n",
       "      <td>3.0</td>\n",
       "    </tr>\n",
       "  </tbody>\n",
       "</table>\n",
       "<p>174 rows × 8 columns</p>\n",
       "</div>"
      ],
      "text/plain": [
       "    Time  Tempo Indicador  dif_casa  dif_visita  dif_abs  Tempo_Fim  pontuacao\n",
       "0    CAP   34.0   2_Pts_T       0.0         0.0      0.0       34.0        0.0\n",
       "1    COR   20.0        ER       0.0         0.0      0.0       54.0        0.0\n",
       "2    CAP    6.0   2_Pts_C      -2.0         2.0      2.0       60.0        2.0\n",
       "3    COR   23.0   2_Pts_T      -2.0         2.0      2.0       83.0        0.0\n",
       "4    CAP   16.0   2_Pts_T      -2.0         2.0      2.0       99.0        0.0\n",
       "..   ...    ...       ...       ...         ...      ...        ...        ...\n",
       "169  COR    4.0  LL_Pts_C      -4.0         4.0      4.0     2978.0        2.0\n",
       "170  CAP    3.0  LL_Pts_C      -6.0         6.0      6.0     2981.0        2.0\n",
       "171  COR    5.0   2_Pts_C      -4.0         4.0      4.0     2986.0        2.0\n",
       "172  CAP    1.0  LL_Pts_T      -5.0         5.0      5.0     2987.0        1.0\n",
       "173  COR    9.0   3_Pts_C      -2.0         2.0      2.0     2996.0        3.0\n",
       "\n",
       "[174 rows x 8 columns]"
      ]
     },
     "execution_count": 2,
     "metadata": {},
     "output_type": "execute_result"
    }
   ],
   "source": [
    "# baixar arquivo do jogo\n",
    "posse_bola = pd.read_csv('posse_bola.csv')\n",
    "posse_bola.drop(['Unnamed: 0'], axis=1, inplace=True)\n",
    "posse_bola"
   ]
  },
  {
   "cell_type": "code",
   "execution_count": 3,
   "metadata": {},
   "outputs": [
    {
     "data": {
      "text/html": [
       "<div>\n",
       "<style scoped>\n",
       "    .dataframe tbody tr th:only-of-type {\n",
       "        vertical-align: middle;\n",
       "    }\n",
       "\n",
       "    .dataframe tbody tr th {\n",
       "        vertical-align: top;\n",
       "    }\n",
       "\n",
       "    .dataframe thead th {\n",
       "        text-align: right;\n",
       "    }\n",
       "</style>\n",
       "<table border=\"1\" class=\"dataframe\">\n",
       "  <thead>\n",
       "    <tr style=\"text-align: right;\">\n",
       "      <th></th>\n",
       "      <th>Nomes</th>\n",
       "      <th>Siglas</th>\n",
       "      <th>Mandante</th>\n",
       "      <th>Classificação</th>\n",
       "      <th>Temporada</th>\n",
       "      <th>Dia</th>\n",
       "      <th>Arquivo</th>\n",
       "      <th>Imagem</th>\n",
       "    </tr>\n",
       "  </thead>\n",
       "  <tbody>\n",
       "    <tr>\n",
       "      <th>0</th>\n",
       "      <td>Corinthians</td>\n",
       "      <td>COR</td>\n",
       "      <td>casa</td>\n",
       "      <td>1 Turno</td>\n",
       "      <td>2019</td>\n",
       "      <td>02/01/2021</td>\n",
       "      <td>informacoes_dos_times/Corinthians</td>\n",
       "      <td>informacoes_dos_times/Corinthians/Corinthians</td>\n",
       "    </tr>\n",
       "    <tr>\n",
       "      <th>1</th>\n",
       "      <td>Paulistano</td>\n",
       "      <td>CAP</td>\n",
       "      <td>fora</td>\n",
       "      <td>1 Turno</td>\n",
       "      <td>2019</td>\n",
       "      <td>02/01/2021</td>\n",
       "      <td>informacoes_dos_times/Paulistano</td>\n",
       "      <td>informacoes_dos_times/Paulistano/Paulistano</td>\n",
       "    </tr>\n",
       "  </tbody>\n",
       "</table>\n",
       "</div>"
      ],
      "text/plain": [
       "         Nomes Siglas Mandante Classificação  Temporada         Dia  \\\n",
       "0  Corinthians    COR     casa       1 Turno       2019  02/01/2021   \n",
       "1   Paulistano    CAP     fora       1 Turno       2019  02/01/2021   \n",
       "\n",
       "                             Arquivo  \\\n",
       "0  informacoes_dos_times/Corinthians   \n",
       "1   informacoes_dos_times/Paulistano   \n",
       "\n",
       "                                          Imagem  \n",
       "0  informacoes_dos_times/Corinthians/Corinthians  \n",
       "1    informacoes_dos_times/Paulistano/Paulistano  "
      ]
     },
     "execution_count": 3,
     "metadata": {},
     "output_type": "execute_result"
    }
   ],
   "source": [
    "# baixar arquivo das informações do jogo\n",
    "inf = pd.read_csv('informacao_jogo.csv')\n",
    "inf.drop(['Unnamed: 0'], axis=1, inplace=True)\n",
    "inf"
   ]
  },
  {
   "cell_type": "code",
   "execution_count": 4,
   "metadata": {},
   "outputs": [
    {
     "data": {
      "text/html": [
       "<div>\n",
       "<style scoped>\n",
       "    .dataframe tbody tr th:only-of-type {\n",
       "        vertical-align: middle;\n",
       "    }\n",
       "\n",
       "    .dataframe tbody tr th {\n",
       "        vertical-align: top;\n",
       "    }\n",
       "\n",
       "    .dataframe thead th {\n",
       "        text-align: right;\n",
       "    }\n",
       "</style>\n",
       "<table border=\"1\" class=\"dataframe\">\n",
       "  <thead>\n",
       "    <tr style=\"text-align: right;\">\n",
       "      <th></th>\n",
       "      <th>Quarto</th>\n",
       "      <th>Tempo</th>\n",
       "      <th>placar_casa</th>\n",
       "      <th>placar_visitante</th>\n",
       "      <th>Time</th>\n",
       "      <th>Indicador</th>\n",
       "      <th>Nome</th>\n",
       "      <th>diferenca_placar_casa</th>\n",
       "      <th>diferenca_placar_visitante</th>\n",
       "      <th>diferenca_placar_absoluto</th>\n",
       "    </tr>\n",
       "  </thead>\n",
       "  <tbody>\n",
       "    <tr>\n",
       "      <th>0</th>\n",
       "      <td>6</td>\n",
       "      <td>3000.0</td>\n",
       "      <td>98</td>\n",
       "      <td>100</td>\n",
       "      <td>NaN</td>\n",
       "      <td>fim_partida</td>\n",
       "      <td>NaN</td>\n",
       "      <td>-2</td>\n",
       "      <td>2</td>\n",
       "      <td>2</td>\n",
       "    </tr>\n",
       "    <tr>\n",
       "      <th>1</th>\n",
       "      <td>6</td>\n",
       "      <td>3000.0</td>\n",
       "      <td>98</td>\n",
       "      <td>100</td>\n",
       "      <td>NaN</td>\n",
       "      <td>fim_quarto</td>\n",
       "      <td>NaN</td>\n",
       "      <td>-2</td>\n",
       "      <td>2</td>\n",
       "      <td>2</td>\n",
       "    </tr>\n",
       "    <tr>\n",
       "      <th>2</th>\n",
       "      <td>6</td>\n",
       "      <td>2996.0</td>\n",
       "      <td>98</td>\n",
       "      <td>100</td>\n",
       "      <td>COR</td>\n",
       "      <td>AS</td>\n",
       "      <td>Fischer</td>\n",
       "      <td>-2</td>\n",
       "      <td>2</td>\n",
       "      <td>2</td>\n",
       "    </tr>\n",
       "    <tr>\n",
       "      <th>3</th>\n",
       "      <td>6</td>\n",
       "      <td>2996.0</td>\n",
       "      <td>98</td>\n",
       "      <td>100</td>\n",
       "      <td>COR</td>\n",
       "      <td>3_Pts_C</td>\n",
       "      <td>Fuller</td>\n",
       "      <td>-2</td>\n",
       "      <td>2</td>\n",
       "      <td>2</td>\n",
       "    </tr>\n",
       "    <tr>\n",
       "      <th>4</th>\n",
       "      <td>6</td>\n",
       "      <td>2994.0</td>\n",
       "      <td>95</td>\n",
       "      <td>100</td>\n",
       "      <td>COR</td>\n",
       "      <td>RO</td>\n",
       "      <td>Renato</td>\n",
       "      <td>-5</td>\n",
       "      <td>5</td>\n",
       "      <td>5</td>\n",
       "    </tr>\n",
       "  </tbody>\n",
       "</table>\n",
       "</div>"
      ],
      "text/plain": [
       "   Quarto   Tempo  placar_casa  placar_visitante Time    Indicador     Nome  \\\n",
       "0       6  3000.0           98               100  NaN  fim_partida      NaN   \n",
       "1       6  3000.0           98               100  NaN   fim_quarto      NaN   \n",
       "2       6  2996.0           98               100  COR           AS  Fischer   \n",
       "3       6  2996.0           98               100  COR      3_Pts_C   Fuller   \n",
       "4       6  2994.0           95               100  COR           RO   Renato   \n",
       "\n",
       "   diferenca_placar_casa  diferenca_placar_visitante  \\\n",
       "0                     -2                           2   \n",
       "1                     -2                           2   \n",
       "2                     -2                           2   \n",
       "3                     -2                           2   \n",
       "4                     -5                           5   \n",
       "\n",
       "   diferenca_placar_absoluto  \n",
       "0                          2  \n",
       "1                          2  \n",
       "2                          2  \n",
       "3                          2  \n",
       "4                          5  "
      ]
     },
     "execution_count": 4,
     "metadata": {},
     "output_type": "execute_result"
    }
   ],
   "source": [
    "# baixar arquivo do jogo\n",
    "df = pd.read_csv('df.csv')\n",
    "df.drop(['Unnamed: 0'], axis=1, inplace=True)\n",
    "df.head()"
   ]
  },
  {
   "cell_type": "code",
   "execution_count": 5,
   "metadata": {},
   "outputs": [
    {
     "data": {
      "text/plain": [
       "'COR'"
      ]
     },
     "execution_count": 5,
     "metadata": {},
     "output_type": "execute_result"
    }
   ],
   "source": [
    "sigla_time_a = inf.loc[0, 'Siglas']\n",
    "sigla_time_a"
   ]
  },
  {
   "cell_type": "code",
   "execution_count": 6,
   "metadata": {},
   "outputs": [
    {
     "data": {
      "text/plain": [
       "'CAP'"
      ]
     },
     "execution_count": 6,
     "metadata": {},
     "output_type": "execute_result"
    }
   ],
   "source": [
    "sigla_time_b = inf.loc[1, 'Siglas']\n",
    "sigla_time_b"
   ]
  },
  {
   "cell_type": "code",
   "execution_count": 7,
   "metadata": {},
   "outputs": [
    {
     "data": {
      "text/plain": [
       "'Corinthians'"
      ]
     },
     "execution_count": 7,
     "metadata": {},
     "output_type": "execute_result"
    }
   ],
   "source": [
    "nome_time_casa = inf.loc[0, 'Nomes']\n",
    "nome_time_casa"
   ]
  },
  {
   "cell_type": "code",
   "execution_count": 8,
   "metadata": {},
   "outputs": [
    {
     "data": {
      "text/plain": [
       "'Paulistano'"
      ]
     },
     "execution_count": 8,
     "metadata": {},
     "output_type": "execute_result"
    }
   ],
   "source": [
    "nome_time_fora = inf.loc[1, 'Nomes']\n",
    "nome_time_fora"
   ]
  },
  {
   "cell_type": "code",
   "execution_count": 9,
   "metadata": {},
   "outputs": [
    {
     "data": {
      "text/html": [
       "<div>\n",
       "<style scoped>\n",
       "    .dataframe tbody tr th:only-of-type {\n",
       "        vertical-align: middle;\n",
       "    }\n",
       "\n",
       "    .dataframe tbody tr th {\n",
       "        vertical-align: top;\n",
       "    }\n",
       "\n",
       "    .dataframe thead th {\n",
       "        text-align: right;\n",
       "    }\n",
       "</style>\n",
       "<table border=\"1\" class=\"dataframe\">\n",
       "  <thead>\n",
       "    <tr style=\"text-align: right;\">\n",
       "      <th></th>\n",
       "      <th>Time</th>\n",
       "      <th>Tempo</th>\n",
       "      <th>Indicador</th>\n",
       "      <th>dif_casa</th>\n",
       "      <th>dif_visita</th>\n",
       "      <th>dif_abs</th>\n",
       "      <th>Tempo_Fim</th>\n",
       "      <th>pontuacao</th>\n",
       "    </tr>\n",
       "  </thead>\n",
       "  <tbody>\n",
       "    <tr>\n",
       "      <th>0</th>\n",
       "      <td>CAP</td>\n",
       "      <td>34.0</td>\n",
       "      <td>2_Pts_T</td>\n",
       "      <td>0.0</td>\n",
       "      <td>0.0</td>\n",
       "      <td>0.0</td>\n",
       "      <td>34.0</td>\n",
       "      <td>0.0</td>\n",
       "    </tr>\n",
       "    <tr>\n",
       "      <th>1</th>\n",
       "      <td>COR</td>\n",
       "      <td>20.0</td>\n",
       "      <td>ER</td>\n",
       "      <td>0.0</td>\n",
       "      <td>0.0</td>\n",
       "      <td>0.0</td>\n",
       "      <td>54.0</td>\n",
       "      <td>0.0</td>\n",
       "    </tr>\n",
       "    <tr>\n",
       "      <th>2</th>\n",
       "      <td>CAP</td>\n",
       "      <td>6.0</td>\n",
       "      <td>2_Pts_C</td>\n",
       "      <td>-2.0</td>\n",
       "      <td>2.0</td>\n",
       "      <td>2.0</td>\n",
       "      <td>60.0</td>\n",
       "      <td>2.0</td>\n",
       "    </tr>\n",
       "    <tr>\n",
       "      <th>3</th>\n",
       "      <td>COR</td>\n",
       "      <td>23.0</td>\n",
       "      <td>2_Pts_T</td>\n",
       "      <td>-2.0</td>\n",
       "      <td>2.0</td>\n",
       "      <td>2.0</td>\n",
       "      <td>83.0</td>\n",
       "      <td>0.0</td>\n",
       "    </tr>\n",
       "    <tr>\n",
       "      <th>4</th>\n",
       "      <td>CAP</td>\n",
       "      <td>16.0</td>\n",
       "      <td>2_Pts_T</td>\n",
       "      <td>-2.0</td>\n",
       "      <td>2.0</td>\n",
       "      <td>2.0</td>\n",
       "      <td>99.0</td>\n",
       "      <td>0.0</td>\n",
       "    </tr>\n",
       "    <tr>\n",
       "      <th>...</th>\n",
       "      <td>...</td>\n",
       "      <td>...</td>\n",
       "      <td>...</td>\n",
       "      <td>...</td>\n",
       "      <td>...</td>\n",
       "      <td>...</td>\n",
       "      <td>...</td>\n",
       "      <td>...</td>\n",
       "    </tr>\n",
       "    <tr>\n",
       "      <th>169</th>\n",
       "      <td>COR</td>\n",
       "      <td>4.0</td>\n",
       "      <td>LL_Pts_C</td>\n",
       "      <td>-4.0</td>\n",
       "      <td>4.0</td>\n",
       "      <td>4.0</td>\n",
       "      <td>2978.0</td>\n",
       "      <td>2.0</td>\n",
       "    </tr>\n",
       "    <tr>\n",
       "      <th>170</th>\n",
       "      <td>CAP</td>\n",
       "      <td>3.0</td>\n",
       "      <td>LL_Pts_C</td>\n",
       "      <td>-6.0</td>\n",
       "      <td>6.0</td>\n",
       "      <td>6.0</td>\n",
       "      <td>2981.0</td>\n",
       "      <td>2.0</td>\n",
       "    </tr>\n",
       "    <tr>\n",
       "      <th>171</th>\n",
       "      <td>COR</td>\n",
       "      <td>5.0</td>\n",
       "      <td>2_Pts_C</td>\n",
       "      <td>-4.0</td>\n",
       "      <td>4.0</td>\n",
       "      <td>4.0</td>\n",
       "      <td>2986.0</td>\n",
       "      <td>2.0</td>\n",
       "    </tr>\n",
       "    <tr>\n",
       "      <th>172</th>\n",
       "      <td>CAP</td>\n",
       "      <td>1.0</td>\n",
       "      <td>LL_Pts_T</td>\n",
       "      <td>-5.0</td>\n",
       "      <td>5.0</td>\n",
       "      <td>5.0</td>\n",
       "      <td>2987.0</td>\n",
       "      <td>1.0</td>\n",
       "    </tr>\n",
       "    <tr>\n",
       "      <th>173</th>\n",
       "      <td>COR</td>\n",
       "      <td>9.0</td>\n",
       "      <td>3_Pts_C</td>\n",
       "      <td>-2.0</td>\n",
       "      <td>2.0</td>\n",
       "      <td>2.0</td>\n",
       "      <td>2996.0</td>\n",
       "      <td>3.0</td>\n",
       "    </tr>\n",
       "  </tbody>\n",
       "</table>\n",
       "<p>174 rows × 8 columns</p>\n",
       "</div>"
      ],
      "text/plain": [
       "    Time  Tempo Indicador  dif_casa  dif_visita  dif_abs  Tempo_Fim  pontuacao\n",
       "0    CAP   34.0   2_Pts_T       0.0         0.0      0.0       34.0        0.0\n",
       "1    COR   20.0        ER       0.0         0.0      0.0       54.0        0.0\n",
       "2    CAP    6.0   2_Pts_C      -2.0         2.0      2.0       60.0        2.0\n",
       "3    COR   23.0   2_Pts_T      -2.0         2.0      2.0       83.0        0.0\n",
       "4    CAP   16.0   2_Pts_T      -2.0         2.0      2.0       99.0        0.0\n",
       "..   ...    ...       ...       ...         ...      ...        ...        ...\n",
       "169  COR    4.0  LL_Pts_C      -4.0         4.0      4.0     2978.0        2.0\n",
       "170  CAP    3.0  LL_Pts_C      -6.0         6.0      6.0     2981.0        2.0\n",
       "171  COR    5.0   2_Pts_C      -4.0         4.0      4.0     2986.0        2.0\n",
       "172  CAP    1.0  LL_Pts_T      -5.0         5.0      5.0     2987.0        1.0\n",
       "173  COR    9.0   3_Pts_C      -2.0         2.0      2.0     2996.0        3.0\n",
       "\n",
       "[174 rows x 8 columns]"
      ]
     },
     "execution_count": 9,
     "metadata": {},
     "output_type": "execute_result"
    }
   ],
   "source": [
    "posse_bola"
   ]
  },
  {
   "cell_type": "markdown",
   "metadata": {},
   "source": [
    "# Gráfico da diferença da pontuação "
   ]
  },
  {
   "cell_type": "code",
   "execution_count": 10,
   "metadata": {},
   "outputs": [],
   "source": [
    "# colocar a separação dos quartos nos gráficos\n",
    "quartos_duplicados = df['Quarto'].unique()\n",
    "if len(quartos_duplicados) == 4:\n",
    "    quartos = [600, 1200, 1800, 2400]\n",
    "elif len(quartos_duplicados) == 5:\n",
    "    quartos = [600, 1200, 1800, 2400, 2700]\n",
    "elif len(quartos_duplicados) == 6:\n",
    "    quartos = [600, 1200, 1800, 2400, 2700, 3000]\n",
    "elif len(quartos_duplicados) == 7:\n",
    "    quartos = [600, 1200, 1800, 2400, 2700, 3300]"
   ]
  },
  {
   "cell_type": "code",
   "execution_count": 11,
   "metadata": {},
   "outputs": [
    {
     "data": {
      "text/plain": [
       "<matplotlib.lines.Line2D at 0x286d2928910>"
      ]
     },
     "execution_count": 11,
     "metadata": {},
     "output_type": "execute_result"
    },
    {
     "data": {
      "image/png": "[encoded data removed]",
      "text/plain": [
       "<Figure size 1080x360 with 1 Axes>"
      ]
     },
     "metadata": {},
     "output_type": "display_data"
    }
   ],
   "source": [
    "plt.style.use('seaborn')\n",
    "sns.set_style('white')\n",
    "plt.figure(figsize=(15,5))\n",
    "plt.plot(posse_bola['Tempo_Fim'], posse_bola['dif_casa'], color='black')\n",
    "plt.title('Diferença do Placar Casa Durante a Partida', fontsize=18)\n",
    "plt.ylabel('Diferença do Placar', fontsize=16)\n",
    "plt.xlabel('Tempo de Jogo em Segundos', fontsize=16)\n",
    "plt.yticks(fontsize= 16)\n",
    "plt.xticks(fontsize= 16)\n",
    "# plt.legend(loc='upper left', bbox_to_anchor=(1, 1), prop={'size':14})\n",
    "for x in quartos:\n",
    "    plt.axvline(x, color='red', label=posse_bola.index, linestyle='--', alpha=0.4)\n",
    "plt.axhline(0, color='orange', label=posse_bola.index, alpha=0.5)"
   ]
  },
  {
   "cell_type": "markdown",
   "metadata": {},
   "source": [
    "# Análise dos periodos porsitivos dos times"
   ]
  },
  {
   "cell_type": "markdown",
   "metadata": {},
   "source": [
    "# Dois Tipos de Posse\n",
    "## Primeira"
   ]
  },
  {
   "cell_type": "code",
   "execution_count": 12,
   "metadata": {},
   "outputs": [],
   "source": [
    "# dois tipos de posse de bola \n",
    "# 1 o time que teve a primeira posse de bola\n",
    "posse_bola_um = posse_bola.copy()"
   ]
  },
  {
   "cell_type": "code",
   "execution_count": 13,
   "metadata": {},
   "outputs": [
    {
     "data": {
      "text/plain": [
       "'COR'"
      ]
     },
     "execution_count": 13,
     "metadata": {},
     "output_type": "execute_result"
    }
   ],
   "source": [
    "# avaliar quem é o primeiro a ter a posse de bola para poder se encaixar com a função das posses\n",
    "segunda_posse = posse_bola.Time[1]\n",
    "segunda_posse"
   ]
  },
  {
   "cell_type": "code",
   "execution_count": 14,
   "metadata": {},
   "outputs": [],
   "source": [
    "# Perguntar para o thomaz pq está errado\n",
    "for i in range(len(posse_bola_um)):\n",
    "    if posse_bola_um.Time[i] == segunda_posse:\n",
    "        posse_bola_um.loc[i, 'pontuacao'] = posse_bola_um.pontuacao[i] * -1\n",
    "    else:\n",
    "        pass"
   ]
  },
  {
   "cell_type": "code",
   "execution_count": 15,
   "metadata": {},
   "outputs": [
    {
     "data": {
      "text/html": [
       "<div>\n",
       "<style scoped>\n",
       "    .dataframe tbody tr th:only-of-type {\n",
       "        vertical-align: middle;\n",
       "    }\n",
       "\n",
       "    .dataframe tbody tr th {\n",
       "        vertical-align: top;\n",
       "    }\n",
       "\n",
       "    .dataframe thead th {\n",
       "        text-align: right;\n",
       "    }\n",
       "</style>\n",
       "<table border=\"1\" class=\"dataframe\">\n",
       "  <thead>\n",
       "    <tr style=\"text-align: right;\">\n",
       "      <th></th>\n",
       "      <th>Time</th>\n",
       "      <th>Tempo</th>\n",
       "      <th>Indicador</th>\n",
       "      <th>dif_casa</th>\n",
       "      <th>dif_visita</th>\n",
       "      <th>dif_abs</th>\n",
       "      <th>Tempo_Fim</th>\n",
       "      <th>pontuacao</th>\n",
       "    </tr>\n",
       "  </thead>\n",
       "  <tbody>\n",
       "    <tr>\n",
       "      <th>0</th>\n",
       "      <td>CAP</td>\n",
       "      <td>34.0</td>\n",
       "      <td>2_Pts_T</td>\n",
       "      <td>0.0</td>\n",
       "      <td>0.0</td>\n",
       "      <td>0.0</td>\n",
       "      <td>34.0</td>\n",
       "      <td>0.0</td>\n",
       "    </tr>\n",
       "    <tr>\n",
       "      <th>1</th>\n",
       "      <td>COR</td>\n",
       "      <td>20.0</td>\n",
       "      <td>ER</td>\n",
       "      <td>0.0</td>\n",
       "      <td>0.0</td>\n",
       "      <td>0.0</td>\n",
       "      <td>54.0</td>\n",
       "      <td>-0.0</td>\n",
       "    </tr>\n",
       "    <tr>\n",
       "      <th>2</th>\n",
       "      <td>CAP</td>\n",
       "      <td>6.0</td>\n",
       "      <td>2_Pts_C</td>\n",
       "      <td>-2.0</td>\n",
       "      <td>2.0</td>\n",
       "      <td>2.0</td>\n",
       "      <td>60.0</td>\n",
       "      <td>2.0</td>\n",
       "    </tr>\n",
       "    <tr>\n",
       "      <th>3</th>\n",
       "      <td>COR</td>\n",
       "      <td>23.0</td>\n",
       "      <td>2_Pts_T</td>\n",
       "      <td>-2.0</td>\n",
       "      <td>2.0</td>\n",
       "      <td>2.0</td>\n",
       "      <td>83.0</td>\n",
       "      <td>-0.0</td>\n",
       "    </tr>\n",
       "    <tr>\n",
       "      <th>4</th>\n",
       "      <td>CAP</td>\n",
       "      <td>16.0</td>\n",
       "      <td>2_Pts_T</td>\n",
       "      <td>-2.0</td>\n",
       "      <td>2.0</td>\n",
       "      <td>2.0</td>\n",
       "      <td>99.0</td>\n",
       "      <td>0.0</td>\n",
       "    </tr>\n",
       "    <tr>\n",
       "      <th>...</th>\n",
       "      <td>...</td>\n",
       "      <td>...</td>\n",
       "      <td>...</td>\n",
       "      <td>...</td>\n",
       "      <td>...</td>\n",
       "      <td>...</td>\n",
       "      <td>...</td>\n",
       "      <td>...</td>\n",
       "    </tr>\n",
       "    <tr>\n",
       "      <th>169</th>\n",
       "      <td>COR</td>\n",
       "      <td>4.0</td>\n",
       "      <td>LL_Pts_C</td>\n",
       "      <td>-4.0</td>\n",
       "      <td>4.0</td>\n",
       "      <td>4.0</td>\n",
       "      <td>2978.0</td>\n",
       "      <td>-2.0</td>\n",
       "    </tr>\n",
       "    <tr>\n",
       "      <th>170</th>\n",
       "      <td>CAP</td>\n",
       "      <td>3.0</td>\n",
       "      <td>LL_Pts_C</td>\n",
       "      <td>-6.0</td>\n",
       "      <td>6.0</td>\n",
       "      <td>6.0</td>\n",
       "      <td>2981.0</td>\n",
       "      <td>2.0</td>\n",
       "    </tr>\n",
       "    <tr>\n",
       "      <th>171</th>\n",
       "      <td>COR</td>\n",
       "      <td>5.0</td>\n",
       "      <td>2_Pts_C</td>\n",
       "      <td>-4.0</td>\n",
       "      <td>4.0</td>\n",
       "      <td>4.0</td>\n",
       "      <td>2986.0</td>\n",
       "      <td>-2.0</td>\n",
       "    </tr>\n",
       "    <tr>\n",
       "      <th>172</th>\n",
       "      <td>CAP</td>\n",
       "      <td>1.0</td>\n",
       "      <td>LL_Pts_T</td>\n",
       "      <td>-5.0</td>\n",
       "      <td>5.0</td>\n",
       "      <td>5.0</td>\n",
       "      <td>2987.0</td>\n",
       "      <td>1.0</td>\n",
       "    </tr>\n",
       "    <tr>\n",
       "      <th>173</th>\n",
       "      <td>COR</td>\n",
       "      <td>9.0</td>\n",
       "      <td>3_Pts_C</td>\n",
       "      <td>-2.0</td>\n",
       "      <td>2.0</td>\n",
       "      <td>2.0</td>\n",
       "      <td>2996.0</td>\n",
       "      <td>-3.0</td>\n",
       "    </tr>\n",
       "  </tbody>\n",
       "</table>\n",
       "<p>174 rows × 8 columns</p>\n",
       "</div>"
      ],
      "text/plain": [
       "    Time  Tempo Indicador  dif_casa  dif_visita  dif_abs  Tempo_Fim  pontuacao\n",
       "0    CAP   34.0   2_Pts_T       0.0         0.0      0.0       34.0        0.0\n",
       "1    COR   20.0        ER       0.0         0.0      0.0       54.0       -0.0\n",
       "2    CAP    6.0   2_Pts_C      -2.0         2.0      2.0       60.0        2.0\n",
       "3    COR   23.0   2_Pts_T      -2.0         2.0      2.0       83.0       -0.0\n",
       "4    CAP   16.0   2_Pts_T      -2.0         2.0      2.0       99.0        0.0\n",
       "..   ...    ...       ...       ...         ...      ...        ...        ...\n",
       "169  COR    4.0  LL_Pts_C      -4.0         4.0      4.0     2978.0       -2.0\n",
       "170  CAP    3.0  LL_Pts_C      -6.0         6.0      6.0     2981.0        2.0\n",
       "171  COR    5.0   2_Pts_C      -4.0         4.0      4.0     2986.0       -2.0\n",
       "172  CAP    1.0  LL_Pts_T      -5.0         5.0      5.0     2987.0        1.0\n",
       "173  COR    9.0   3_Pts_C      -2.0         2.0      2.0     2996.0       -3.0\n",
       "\n",
       "[174 rows x 8 columns]"
      ]
     },
     "execution_count": 15,
     "metadata": {},
     "output_type": "execute_result"
    }
   ],
   "source": [
    "# posse_bola.to_csv('tempo2.csv')\n",
    "posse_bola_um"
   ]
  },
  {
   "cell_type": "code",
   "execution_count": 16,
   "metadata": {},
   "outputs": [],
   "source": [
    "# precisamos fazer dois estilos de DataFrame \n",
    "# par = não influência no time que teve a primeira posse de bola\n",
    "# par = influência no time que teve a segunda posse de bola\n",
    "# inpar = não influência no time que teve a segunda posse de bola\n",
    "# inpar = influência no time que teve a primeira posse de bola\n",
    "def par_impar(posse_bola):\n",
    "    if (len(posse_bola)%2 == 0):\n",
    "        print(f\"Par: {len(posse_bola)}\")\n",
    "        return posse_bola\n",
    "    else:\n",
    "        print(f\"Impar: {len(posse_bola)}\")\n",
    "        d = {\"Time\": [0], \"Tempo\": [0], \"Indicador\":[0], \"dif_casa\":[0], \"dif_visita\":[0], \"dif_abs\":[0],\n",
    "         \"Tempo_Fim\":[0], \"pontuacao\":[0]}\n",
    "        a = pd.DataFrame(data=d)\n",
    "        a.pontuacao = a.pontuacao.astype('float64')\n",
    "        posse_bola = pd.concat([posse_bola, a], ignore_index=True)\n",
    "    return posse_bola"
   ]
  },
  {
   "cell_type": "code",
   "execution_count": 17,
   "metadata": {},
   "outputs": [
    {
     "name": "stdout",
     "output_type": "stream",
     "text": [
      "Par: 174\n"
     ]
    }
   ],
   "source": [
    "posse_bola_um = par_impar(posse_bola_um)"
   ]
  },
  {
   "cell_type": "code",
   "execution_count": 18,
   "metadata": {},
   "outputs": [],
   "source": [
    "# Verificação das posses de bola pulando dois em dois\n",
    "def periodo_potencial(posse_bola):\n",
    "    indx_potencial_periodo = []\n",
    "    for i in range(0, len(posse_bola), 2):\n",
    "        # ache onde teve vantagem na pontuação\n",
    "        # Time A fez ponto, mas o time B não fez\n",
    "        if (posse_bola.pontuacao[i] >= 2) & (posse_bola.pontuacao[i+1] >= -1):\n",
    "            indx_potencial_periodo.append(i)\n",
    "        # ache onde teve pontuação dos dois times\n",
    "        # Time A fez ponto e o time B fez ponto\n",
    "        # Elimina a primeira posse de bola com essa condição\n",
    "        elif i > 2:\n",
    "            if (posse_bola.pontuacao[i] >= 2) & (posse_bola.pontuacao[i+1] <= -1):\n",
    "                # Caso encontre uma troca de pontuação, nós precisamos avaliar outro critério\n",
    "                # Caso apareça no ataque anterior uma vantagem na pontuação. PEGUE!\n",
    "                # Come essa função está avaliando o primeiro time que atacou,\n",
    "                # o time ao realizar um ponto estará na frente do placar anterior\n",
    "                if (posse_bola.pontuacao[i-2] >= 2) & (posse_bola.pontuacao[i-1] >= -1):\n",
    "                    indx_potencial_periodo.append(i)\n",
    "                else:\n",
    "                    pass\n",
    "        else:\n",
    "            pass\n",
    "    # para ajudar no passo de verificação na separação dos períodos positivos eu criei um break \n",
    "    # o break consiste em acrescentando o valor zero (0) no final da lista\n",
    "    indx_potencial_periodo.append(0)\n",
    "    return indx_potencial_periodo"
   ]
  },
  {
   "cell_type": "code",
   "execution_count": 19,
   "metadata": {},
   "outputs": [],
   "source": [
    "indx_potencial_periodo = periodo_potencial(posse_bola_um)"
   ]
  },
  {
   "cell_type": "code",
   "execution_count": 20,
   "metadata": {},
   "outputs": [
    {
     "data": {
      "text/plain": [
       "[2,\n",
       " 10,\n",
       " 12,\n",
       " 14,\n",
       " 28,\n",
       " 40,\n",
       " 42,\n",
       " 44,\n",
       " 60,\n",
       " 66,\n",
       " 68,\n",
       " 70,\n",
       " 80,\n",
       " 82,\n",
       " 90,\n",
       " 92,\n",
       " 100,\n",
       " 102,\n",
       " 106,\n",
       " 118,\n",
       " 126,\n",
       " 130,\n",
       " 134,\n",
       " 136,\n",
       " 140,\n",
       " 160,\n",
       " 162,\n",
       " 164,\n",
       " 0]"
      ]
     },
     "execution_count": 20,
     "metadata": {},
     "output_type": "execute_result"
    }
   ],
   "source": [
    "indx_potencial_periodo"
   ]
  },
  {
   "cell_type": "markdown",
   "metadata": {},
   "source": [
    "primeira coisa que precisamos analisar é \n",
    "- Identificar sequencia da pontuação. Precisa no minimo uma dupla de ataques (2, 2)\n",
    "- Se essa sequencia apresenta uma pontuação de mais de 4 pontos"
   ]
  },
  {
   "cell_type": "code",
   "execution_count": 21,
   "metadata": {},
   "outputs": [],
   "source": [
    "def identificardor_periodo_positivo(indx_potencial_periodo, posse_bola):\n",
    "    # Primeiro passo é fazer a diferença entre cada periodo identificado\n",
    "    dif = np.diff(indx_potencial_periodo)\n",
    "    resultado = []\n",
    "    periodo = []\n",
    "    # Depois precisamos encontra quais apresentão ataques consecutivos (2)\n",
    "    # localizados os ataques, vamos agrupar os indxs e geramos periodos\n",
    "    for i, j in zip(dif, range(len(dif))):\n",
    "    # print(i)\n",
    "        if i == 2:\n",
    "            resultado.append(indx_potencial_periodo[j])\n",
    "            resultado.append(indx_potencial_periodo[j+1])\n",
    "        else:\n",
    "            periodo.append(sorted(set(resultado)))\n",
    "            resultado = []\n",
    "    periodo_positivo = []\n",
    "    # depois de agrupa-los, nós identificamos quem apresenta valores nos períodos \n",
    "    for i in periodo:\n",
    "        if any(i):\n",
    "            # para que sejam considerados periodos positivos utilizamos uma pontuação maior que 4 pontos no período \n",
    "            if sum(posse_bola.loc[i, 'pontuacao']) >= 4:\n",
    "                periodo_positivo.append(i)\n",
    "            else:\n",
    "                pass\n",
    "        else:\n",
    "            pass\n",
    "    # retorna os períodos positivos do time\n",
    "    return periodo_positivo"
   ]
  },
  {
   "cell_type": "code",
   "execution_count": 22,
   "metadata": {},
   "outputs": [
    {
     "data": {
      "text/plain": [
       "[[10, 12, 14],\n",
       " [40, 42, 44],\n",
       " [66, 68, 70],\n",
       " [80, 82],\n",
       " [90, 92],\n",
       " [100, 102],\n",
       " [134, 136],\n",
       " [160, 162, 164]]"
      ]
     },
     "execution_count": 22,
     "metadata": {},
     "output_type": "execute_result"
    }
   ],
   "source": [
    "periodo_positivo = identificardor_periodo_positivo(indx_potencial_periodo, posse_bola_um)\n",
    "periodo_positivo"
   ]
  },
  {
   "cell_type": "code",
   "execution_count": 23,
   "metadata": {},
   "outputs": [
    {
     "data": {
      "text/plain": [
       "'COR'"
      ]
     },
     "execution_count": 23,
     "metadata": {},
     "output_type": "execute_result"
    }
   ],
   "source": [
    "segunda_posse"
   ]
  },
  {
   "cell_type": "code",
   "execution_count": 24,
   "metadata": {},
   "outputs": [],
   "source": [
    "# Colocar nos gráficos os periodos\n",
    "# time A\n",
    "segmento = [[]]\n",
    "# Time B\n",
    "segmento_dois = [[]]"
   ]
  },
  {
   "cell_type": "code",
   "execution_count": 25,
   "metadata": {},
   "outputs": [
    {
     "name": "stdout",
     "output_type": "stream",
     "text": [
      "Time B\n",
      "[202.0, 754.0, 1264.0, 1547.0, 1694.0, 1865.0, 2431.0, 2838.0]\n",
      "[292.0, 862.0, 1347.0, 1581.0, 1722.0, 1914.0, 2476.0, 2929.0]\n"
     ]
    }
   ],
   "source": [
    "# localizar o tempo de inicio e tempo final do periodo\n",
    "# No caso precisamos pegar o primeiro indx e subtrair por 1 (indx-1), assim podemos ter a posse completa\n",
    "# até a realização do ponto \n",
    "# Localizar o último indx que representa o final do período positivo\n",
    "if segunda_posse == sigla_time_a:\n",
    "    positivo_inicio_time_b = []\n",
    "    positivo_fim_time_b = []\n",
    "    for i in periodo_positivo:\n",
    "        if i[0] == 0:\n",
    "            positivo_inicio_time_b.append(posse_bola_um.loc[i[0], 'Tempo_Fim'])\n",
    "            positivo_fim_time_b.append(posse_bola_um.loc[i[len(i)-1], 'Tempo_Fim'])\n",
    "            segmento_dois.append([posse_bola_um.loc[i[0], 'Tempo_Fim'],posse_bola_um.loc[i[len(i)-1], 'Tempo_Fim']])\n",
    "        else:\n",
    "            positivo_inicio_time_b.append(posse_bola_um.loc[i[0]-1, 'Tempo_Fim'])\n",
    "            positivo_fim_time_b.append(posse_bola_um.loc[i[len(i)-1], 'Tempo_Fim'])\n",
    "            segmento_dois.append([posse_bola_um.loc[i[0]-1, 'Tempo_Fim'],posse_bola_um.loc[i[len(i)-1], 'Tempo_Fim']])\n",
    "    print('Time B')\n",
    "    print(positivo_inicio_time_b)\n",
    "    print(positivo_fim_time_b)\n",
    "else:\n",
    "    positivo_inicio_time_a = []\n",
    "    positivo_fim_time_a =  []\n",
    "    for i in periodo_positivo:\n",
    "        if i[0] == 0:\n",
    "            positivo_inicio_time_a.append(posse_bola_um.loc[i[0], 'Tempo_Fim'])\n",
    "            positivo_fim_time_a.append(posse_bola_um.loc[i[len(i)-1], 'Tempo_Fim'])\n",
    "            segmento.append([posse_bola_um.loc[i[0], 'Tempo_Fim'],posse_bola_um.loc[i[len(i)-1], 'Tempo_Fim']])\n",
    "        else:\n",
    "            positivo_inicio_time_a.append(posse_bola_um.loc[i[0]-1, 'Tempo_Fim'])\n",
    "            positivo_fim_time_a.append(posse_bola_um.loc[i[len(i)-1], 'Tempo_Fim'])\n",
    "            segmento.append([posse_bola_um.loc[i[0]-1, 'Tempo_Fim'],posse_bola_um.loc[i[len(i)-1], 'Tempo_Fim']])\n",
    "    print('Time A')\n",
    "    print(positivo_inicio_time_a)\n",
    "    print(positivo_fim_time_a)"
   ]
  },
  {
   "cell_type": "markdown",
   "metadata": {},
   "source": [
    "# Gráfico dos períodos positivos"
   ]
  },
  {
   "cell_type": "markdown",
   "metadata": {},
   "source": [
    "### Segundo Time"
   ]
  },
  {
   "cell_type": "code",
   "execution_count": 26,
   "metadata": {},
   "outputs": [],
   "source": [
    "# 2 o time que teve a segunda posse de bola\n",
    "posse_bola_dois = posse_bola.copy()\n",
    "posse_bola_dois.drop([0], inplace=True)\n",
    "posse_bola_dois.reset_index(drop=True, inplace=True)"
   ]
  },
  {
   "cell_type": "code",
   "execution_count": 27,
   "metadata": {},
   "outputs": [
    {
     "data": {
      "text/plain": [
       "'CAP'"
      ]
     },
     "execution_count": 27,
     "metadata": {},
     "output_type": "execute_result"
    }
   ],
   "source": [
    "# avaliar quem é o primeiro a ter a posse de bola para poder se encaixar com a função das posses\n",
    "segunda_posse_dois = posse_bola_dois.Time[1]\n",
    "segunda_posse_dois"
   ]
  },
  {
   "cell_type": "code",
   "execution_count": 28,
   "metadata": {},
   "outputs": [],
   "source": [
    "# Perguntar para o thomaz pq está errado\n",
    "for i in range(len(posse_bola_dois)):\n",
    "    if posse_bola_dois.Time[i] == segunda_posse_dois:\n",
    "        posse_bola_dois.loc[i, 'pontuacao'] = posse_bola_dois.pontuacao[i] * -1\n",
    "    else:\n",
    "        pass"
   ]
  },
  {
   "cell_type": "code",
   "execution_count": 29,
   "metadata": {},
   "outputs": [
    {
     "data": {
      "text/html": [
       "<div>\n",
       "<style scoped>\n",
       "    .dataframe tbody tr th:only-of-type {\n",
       "        vertical-align: middle;\n",
       "    }\n",
       "\n",
       "    .dataframe tbody tr th {\n",
       "        vertical-align: top;\n",
       "    }\n",
       "\n",
       "    .dataframe thead th {\n",
       "        text-align: right;\n",
       "    }\n",
       "</style>\n",
       "<table border=\"1\" class=\"dataframe\">\n",
       "  <thead>\n",
       "    <tr style=\"text-align: right;\">\n",
       "      <th></th>\n",
       "      <th>Time</th>\n",
       "      <th>Tempo</th>\n",
       "      <th>Indicador</th>\n",
       "      <th>dif_casa</th>\n",
       "      <th>dif_visita</th>\n",
       "      <th>dif_abs</th>\n",
       "      <th>Tempo_Fim</th>\n",
       "      <th>pontuacao</th>\n",
       "    </tr>\n",
       "  </thead>\n",
       "  <tbody>\n",
       "    <tr>\n",
       "      <th>0</th>\n",
       "      <td>COR</td>\n",
       "      <td>20.0</td>\n",
       "      <td>ER</td>\n",
       "      <td>0.0</td>\n",
       "      <td>0.0</td>\n",
       "      <td>0.0</td>\n",
       "      <td>54.0</td>\n",
       "      <td>0.0</td>\n",
       "    </tr>\n",
       "    <tr>\n",
       "      <th>1</th>\n",
       "      <td>CAP</td>\n",
       "      <td>6.0</td>\n",
       "      <td>2_Pts_C</td>\n",
       "      <td>-2.0</td>\n",
       "      <td>2.0</td>\n",
       "      <td>2.0</td>\n",
       "      <td>60.0</td>\n",
       "      <td>-2.0</td>\n",
       "    </tr>\n",
       "    <tr>\n",
       "      <th>2</th>\n",
       "      <td>COR</td>\n",
       "      <td>23.0</td>\n",
       "      <td>2_Pts_T</td>\n",
       "      <td>-2.0</td>\n",
       "      <td>2.0</td>\n",
       "      <td>2.0</td>\n",
       "      <td>83.0</td>\n",
       "      <td>0.0</td>\n",
       "    </tr>\n",
       "    <tr>\n",
       "      <th>3</th>\n",
       "      <td>CAP</td>\n",
       "      <td>16.0</td>\n",
       "      <td>2_Pts_T</td>\n",
       "      <td>-2.0</td>\n",
       "      <td>2.0</td>\n",
       "      <td>2.0</td>\n",
       "      <td>99.0</td>\n",
       "      <td>-0.0</td>\n",
       "    </tr>\n",
       "    <tr>\n",
       "      <th>4</th>\n",
       "      <td>COR</td>\n",
       "      <td>12.0</td>\n",
       "      <td>ER</td>\n",
       "      <td>-2.0</td>\n",
       "      <td>2.0</td>\n",
       "      <td>2.0</td>\n",
       "      <td>111.0</td>\n",
       "      <td>0.0</td>\n",
       "    </tr>\n",
       "    <tr>\n",
       "      <th>...</th>\n",
       "      <td>...</td>\n",
       "      <td>...</td>\n",
       "      <td>...</td>\n",
       "      <td>...</td>\n",
       "      <td>...</td>\n",
       "      <td>...</td>\n",
       "      <td>...</td>\n",
       "      <td>...</td>\n",
       "    </tr>\n",
       "    <tr>\n",
       "      <th>168</th>\n",
       "      <td>COR</td>\n",
       "      <td>4.0</td>\n",
       "      <td>LL_Pts_C</td>\n",
       "      <td>-4.0</td>\n",
       "      <td>4.0</td>\n",
       "      <td>4.0</td>\n",
       "      <td>2978.0</td>\n",
       "      <td>2.0</td>\n",
       "    </tr>\n",
       "    <tr>\n",
       "      <th>169</th>\n",
       "      <td>CAP</td>\n",
       "      <td>3.0</td>\n",
       "      <td>LL_Pts_C</td>\n",
       "      <td>-6.0</td>\n",
       "      <td>6.0</td>\n",
       "      <td>6.0</td>\n",
       "      <td>2981.0</td>\n",
       "      <td>-2.0</td>\n",
       "    </tr>\n",
       "    <tr>\n",
       "      <th>170</th>\n",
       "      <td>COR</td>\n",
       "      <td>5.0</td>\n",
       "      <td>2_Pts_C</td>\n",
       "      <td>-4.0</td>\n",
       "      <td>4.0</td>\n",
       "      <td>4.0</td>\n",
       "      <td>2986.0</td>\n",
       "      <td>2.0</td>\n",
       "    </tr>\n",
       "    <tr>\n",
       "      <th>171</th>\n",
       "      <td>CAP</td>\n",
       "      <td>1.0</td>\n",
       "      <td>LL_Pts_T</td>\n",
       "      <td>-5.0</td>\n",
       "      <td>5.0</td>\n",
       "      <td>5.0</td>\n",
       "      <td>2987.0</td>\n",
       "      <td>-1.0</td>\n",
       "    </tr>\n",
       "    <tr>\n",
       "      <th>172</th>\n",
       "      <td>COR</td>\n",
       "      <td>9.0</td>\n",
       "      <td>3_Pts_C</td>\n",
       "      <td>-2.0</td>\n",
       "      <td>2.0</td>\n",
       "      <td>2.0</td>\n",
       "      <td>2996.0</td>\n",
       "      <td>3.0</td>\n",
       "    </tr>\n",
       "  </tbody>\n",
       "</table>\n",
       "<p>173 rows × 8 columns</p>\n",
       "</div>"
      ],
      "text/plain": [
       "    Time  Tempo Indicador  dif_casa  dif_visita  dif_abs  Tempo_Fim  pontuacao\n",
       "0    COR   20.0        ER       0.0         0.0      0.0       54.0        0.0\n",
       "1    CAP    6.0   2_Pts_C      -2.0         2.0      2.0       60.0       -2.0\n",
       "2    COR   23.0   2_Pts_T      -2.0         2.0      2.0       83.0        0.0\n",
       "3    CAP   16.0   2_Pts_T      -2.0         2.0      2.0       99.0       -0.0\n",
       "4    COR   12.0        ER      -2.0         2.0      2.0      111.0        0.0\n",
       "..   ...    ...       ...       ...         ...      ...        ...        ...\n",
       "168  COR    4.0  LL_Pts_C      -4.0         4.0      4.0     2978.0        2.0\n",
       "169  CAP    3.0  LL_Pts_C      -6.0         6.0      6.0     2981.0       -2.0\n",
       "170  COR    5.0   2_Pts_C      -4.0         4.0      4.0     2986.0        2.0\n",
       "171  CAP    1.0  LL_Pts_T      -5.0         5.0      5.0     2987.0       -1.0\n",
       "172  COR    9.0   3_Pts_C      -2.0         2.0      2.0     2996.0        3.0\n",
       "\n",
       "[173 rows x 8 columns]"
      ]
     },
     "execution_count": 29,
     "metadata": {},
     "output_type": "execute_result"
    }
   ],
   "source": [
    "posse_bola_dois"
   ]
  },
  {
   "cell_type": "code",
   "execution_count": 30,
   "metadata": {},
   "outputs": [
    {
     "name": "stdout",
     "output_type": "stream",
     "text": [
      "Impar: 173\n"
     ]
    },
    {
     "data": {
      "text/html": [
       "<div>\n",
       "<style scoped>\n",
       "    .dataframe tbody tr th:only-of-type {\n",
       "        vertical-align: middle;\n",
       "    }\n",
       "\n",
       "    .dataframe tbody tr th {\n",
       "        vertical-align: top;\n",
       "    }\n",
       "\n",
       "    .dataframe thead th {\n",
       "        text-align: right;\n",
       "    }\n",
       "</style>\n",
       "<table border=\"1\" class=\"dataframe\">\n",
       "  <thead>\n",
       "    <tr style=\"text-align: right;\">\n",
       "      <th></th>\n",
       "      <th>Time</th>\n",
       "      <th>Tempo</th>\n",
       "      <th>Indicador</th>\n",
       "      <th>dif_casa</th>\n",
       "      <th>dif_visita</th>\n",
       "      <th>dif_abs</th>\n",
       "      <th>Tempo_Fim</th>\n",
       "      <th>pontuacao</th>\n",
       "    </tr>\n",
       "  </thead>\n",
       "  <tbody>\n",
       "    <tr>\n",
       "      <th>0</th>\n",
       "      <td>COR</td>\n",
       "      <td>20.0</td>\n",
       "      <td>ER</td>\n",
       "      <td>0.0</td>\n",
       "      <td>0.0</td>\n",
       "      <td>0.0</td>\n",
       "      <td>54.0</td>\n",
       "      <td>0.0</td>\n",
       "    </tr>\n",
       "    <tr>\n",
       "      <th>1</th>\n",
       "      <td>CAP</td>\n",
       "      <td>6.0</td>\n",
       "      <td>2_Pts_C</td>\n",
       "      <td>-2.0</td>\n",
       "      <td>2.0</td>\n",
       "      <td>2.0</td>\n",
       "      <td>60.0</td>\n",
       "      <td>-2.0</td>\n",
       "    </tr>\n",
       "    <tr>\n",
       "      <th>2</th>\n",
       "      <td>COR</td>\n",
       "      <td>23.0</td>\n",
       "      <td>2_Pts_T</td>\n",
       "      <td>-2.0</td>\n",
       "      <td>2.0</td>\n",
       "      <td>2.0</td>\n",
       "      <td>83.0</td>\n",
       "      <td>0.0</td>\n",
       "    </tr>\n",
       "    <tr>\n",
       "      <th>3</th>\n",
       "      <td>CAP</td>\n",
       "      <td>16.0</td>\n",
       "      <td>2_Pts_T</td>\n",
       "      <td>-2.0</td>\n",
       "      <td>2.0</td>\n",
       "      <td>2.0</td>\n",
       "      <td>99.0</td>\n",
       "      <td>-0.0</td>\n",
       "    </tr>\n",
       "    <tr>\n",
       "      <th>4</th>\n",
       "      <td>COR</td>\n",
       "      <td>12.0</td>\n",
       "      <td>ER</td>\n",
       "      <td>-2.0</td>\n",
       "      <td>2.0</td>\n",
       "      <td>2.0</td>\n",
       "      <td>111.0</td>\n",
       "      <td>0.0</td>\n",
       "    </tr>\n",
       "    <tr>\n",
       "      <th>...</th>\n",
       "      <td>...</td>\n",
       "      <td>...</td>\n",
       "      <td>...</td>\n",
       "      <td>...</td>\n",
       "      <td>...</td>\n",
       "      <td>...</td>\n",
       "      <td>...</td>\n",
       "      <td>...</td>\n",
       "    </tr>\n",
       "    <tr>\n",
       "      <th>169</th>\n",
       "      <td>CAP</td>\n",
       "      <td>3.0</td>\n",
       "      <td>LL_Pts_C</td>\n",
       "      <td>-6.0</td>\n",
       "      <td>6.0</td>\n",
       "      <td>6.0</td>\n",
       "      <td>2981.0</td>\n",
       "      <td>-2.0</td>\n",
       "    </tr>\n",
       "    <tr>\n",
       "      <th>170</th>\n",
       "      <td>COR</td>\n",
       "      <td>5.0</td>\n",
       "      <td>2_Pts_C</td>\n",
       "      <td>-4.0</td>\n",
       "      <td>4.0</td>\n",
       "      <td>4.0</td>\n",
       "      <td>2986.0</td>\n",
       "      <td>2.0</td>\n",
       "    </tr>\n",
       "    <tr>\n",
       "      <th>171</th>\n",
       "      <td>CAP</td>\n",
       "      <td>1.0</td>\n",
       "      <td>LL_Pts_T</td>\n",
       "      <td>-5.0</td>\n",
       "      <td>5.0</td>\n",
       "      <td>5.0</td>\n",
       "      <td>2987.0</td>\n",
       "      <td>-1.0</td>\n",
       "    </tr>\n",
       "    <tr>\n",
       "      <th>172</th>\n",
       "      <td>COR</td>\n",
       "      <td>9.0</td>\n",
       "      <td>3_Pts_C</td>\n",
       "      <td>-2.0</td>\n",
       "      <td>2.0</td>\n",
       "      <td>2.0</td>\n",
       "      <td>2996.0</td>\n",
       "      <td>3.0</td>\n",
       "    </tr>\n",
       "    <tr>\n",
       "      <th>173</th>\n",
       "      <td>0</td>\n",
       "      <td>0.0</td>\n",
       "      <td>0</td>\n",
       "      <td>0.0</td>\n",
       "      <td>0.0</td>\n",
       "      <td>0.0</td>\n",
       "      <td>0.0</td>\n",
       "      <td>0.0</td>\n",
       "    </tr>\n",
       "  </tbody>\n",
       "</table>\n",
       "<p>174 rows × 8 columns</p>\n",
       "</div>"
      ],
      "text/plain": [
       "    Time  Tempo Indicador  dif_casa  dif_visita  dif_abs  Tempo_Fim  pontuacao\n",
       "0    COR   20.0        ER       0.0         0.0      0.0       54.0        0.0\n",
       "1    CAP    6.0   2_Pts_C      -2.0         2.0      2.0       60.0       -2.0\n",
       "2    COR   23.0   2_Pts_T      -2.0         2.0      2.0       83.0        0.0\n",
       "3    CAP   16.0   2_Pts_T      -2.0         2.0      2.0       99.0       -0.0\n",
       "4    COR   12.0        ER      -2.0         2.0      2.0      111.0        0.0\n",
       "..   ...    ...       ...       ...         ...      ...        ...        ...\n",
       "169  CAP    3.0  LL_Pts_C      -6.0         6.0      6.0     2981.0       -2.0\n",
       "170  COR    5.0   2_Pts_C      -4.0         4.0      4.0     2986.0        2.0\n",
       "171  CAP    1.0  LL_Pts_T      -5.0         5.0      5.0     2987.0       -1.0\n",
       "172  COR    9.0   3_Pts_C      -2.0         2.0      2.0     2996.0        3.0\n",
       "173    0    0.0         0       0.0         0.0      0.0        0.0        0.0\n",
       "\n",
       "[174 rows x 8 columns]"
      ]
     },
     "execution_count": 30,
     "metadata": {},
     "output_type": "execute_result"
    }
   ],
   "source": [
    "posse_bola_dois = par_impar(posse_bola_dois)\n",
    "posse_bola_dois"
   ]
  },
  {
   "cell_type": "code",
   "execution_count": 31,
   "metadata": {},
   "outputs": [],
   "source": [
    "indx_potencial_periodo_dois = periodo_potencial(posse_bola_dois)"
   ]
  },
  {
   "cell_type": "code",
   "execution_count": 32,
   "metadata": {},
   "outputs": [
    {
     "data": {
      "text/plain": [
       "[[36, 38],\n",
       " [46, 48, 50],\n",
       " [76, 78],\n",
       " [94, 96],\n",
       " [110, 112],\n",
       " [142, 144],\n",
       " [156, 158],\n",
       " [170, 172]]"
      ]
     },
     "execution_count": 32,
     "metadata": {},
     "output_type": "execute_result"
    }
   ],
   "source": [
    "periodo_positivo_dois = identificardor_periodo_positivo(indx_potencial_periodo_dois, posse_bola_dois)\n",
    "periodo_positivo_dois"
   ]
  },
  {
   "cell_type": "code",
   "execution_count": 33,
   "metadata": {},
   "outputs": [
    {
     "name": "stdout",
     "output_type": "stream",
     "text": [
      "Time A\n",
      "[682.0, 897.0, 1508.0, 1748.0, 2051.0, 2573.0, 2787.0, 2981.0]\n",
      "[754.0, 997.0, 1547.0, 1822.0, 2102.0, 2616.0, 2838.0, 2996.0]\n"
     ]
    }
   ],
   "source": [
    "# localizar o tempo de inicio e tempo final do periodo\n",
    "# No caso precisamos pegar o primeiro indx e subtrair por 1 (indx-1), assim podemos ter a posse completa\n",
    "# até a realização do ponto \n",
    "# Localizar o último indx que representa o final do período positivo\n",
    "if segunda_posse_dois == sigla_time_a:\n",
    "    positivo_inicio_time_b = []\n",
    "    positivo_fim_time_b = []\n",
    "    for i in periodo_positivo_dois:\n",
    "        if i[0] == 0:\n",
    "            positivo_inicio_time_b.append(posse_bola_dois.loc[i[0], 'Tempo_Fim'])\n",
    "            positivo_fim_time_b.append(posse_bola_dois.loc[i[len(i)-1], 'Tempo_Fim'])\n",
    "            segmento_dois.append([posse_bola_dois.loc[i[0], 'Tempo_Fim'],posse_bola_dois.loc[i[len(i)-1], 'Tempo_Fim']])\n",
    "        else:\n",
    "            positivo_inicio_time_b.append(posse_bola_dois.loc[i[0]-1, 'Tempo_Fim'])\n",
    "            positivo_fim_time_b.append(posse_bola_dois.loc[i[len(i)-1], 'Tempo_Fim'])\n",
    "            segmento_dois.append([posse_bola_dois.loc[i[0]-1, 'Tempo_Fim'],posse_bola_dois.loc[i[len(i)-1], 'Tempo_Fim']])\n",
    "    print('Time B')\n",
    "    print(positivo_inicio_time_b)\n",
    "    print(positivo_fim_time_b)\n",
    "else:\n",
    "    positivo_inicio_time_a = []\n",
    "    positivo_fim_time_a =  []\n",
    "    for i in periodo_positivo_dois:\n",
    "        if i[0] == 0:\n",
    "            positivo_inicio_time_a.append(posse_bola_um.loc[i[0], 'Tempo_Fim'])\n",
    "            positivo_fim_time_a.append(posse_bola_dois.loc[i[len(i)-1], 'Tempo_Fim'])\n",
    "            segmento.append([posse_bola_um.loc[i[0], 'Tempo_Fim'],posse_bola_dois.loc[i[len(i)-1], 'Tempo_Fim']])\n",
    "        else:\n",
    "            positivo_inicio_time_a.append(posse_bola_dois.loc[i[0]-1, 'Tempo_Fim'])\n",
    "            positivo_fim_time_a.append(posse_bola_dois.loc[i[len(i)-1], 'Tempo_Fim'])\n",
    "            segmento.append([posse_bola_dois.loc[i[0]-1, 'Tempo_Fim'],posse_bola_dois.loc[i[len(i)-1], 'Tempo_Fim']])\n",
    "    print('Time A')\n",
    "    print(positivo_inicio_time_a)\n",
    "    print(positivo_fim_time_a)"
   ]
  },
  {
   "cell_type": "markdown",
   "metadata": {},
   "source": [
    "### períodos do times A e B"
   ]
  },
  {
   "cell_type": "code",
   "execution_count": 34,
   "metadata": {},
   "outputs": [
    {
     "data": {
      "text/plain": [
       "[[682.0, 754.0],\n",
       " [897.0, 997.0],\n",
       " [1508.0, 1547.0],\n",
       " [1748.0, 1822.0],\n",
       " [2051.0, 2102.0],\n",
       " [2573.0, 2616.0],\n",
       " [2787.0, 2838.0],\n",
       " [2981.0, 2996.0]]"
      ]
     },
     "execution_count": 34,
     "metadata": {},
     "output_type": "execute_result"
    }
   ],
   "source": [
    "del segmento[0]\n",
    "segmento"
   ]
  },
  {
   "cell_type": "code",
   "execution_count": 35,
   "metadata": {},
   "outputs": [
    {
     "data": {
      "text/plain": [
       "[[682.0, 754.0],\n",
       " [897.0, 997.0],\n",
       " [1508.0, 1547.0],\n",
       " [1748.0, 1822.0],\n",
       " [2051.0, 2102.0],\n",
       " [2573.0, 2616.0],\n",
       " [2787.0, 2838.0],\n",
       " [2981.0, 2996.0]]"
      ]
     },
     "execution_count": 35,
     "metadata": {},
     "output_type": "execute_result"
    }
   ],
   "source": [
    "segmento"
   ]
  },
  {
   "cell_type": "code",
   "execution_count": 36,
   "metadata": {},
   "outputs": [
    {
     "data": {
      "text/plain": [
       "<matplotlib.lines.Line2D at 0x286d2ce1850>"
      ]
     },
     "execution_count": 36,
     "metadata": {},
     "output_type": "execute_result"
    },
    {
     "data": {
      "image/png": "[encoded data removed]",
      "text/plain": [
       "<Figure size 1080x360 with 1 Axes>"
      ]
     },
     "metadata": {},
     "output_type": "display_data"
    }
   ],
   "source": [
    "plt.style.use('seaborn')\n",
    "sns.set_style('white')\n",
    "plt.figure(figsize=(15,5))\n",
    "plt.plot(posse_bola['Tempo_Fim'], posse_bola['dif_casa'], color='black')\n",
    "plt.title('Diferença do Placar Casa Durante a Partida', fontsize=18)\n",
    "plt.ylabel('Diferença do Placar', fontsize=16)\n",
    "plt.xlabel('Tempo de Jogo em Segundos', fontsize=16)\n",
    "plt.yticks(fontsize= 16)\n",
    "plt.xticks(fontsize= 16)\n",
    "final_t = []\n",
    "final_dif = []\n",
    "for i in segmento:\n",
    "    selecao = (posse_bola['Tempo_Fim'] >= i[0]) & (posse_bola['Tempo_Fim'] <= i[1])\n",
    "    df_filtado_dif = posse_bola[selecao]['dif_casa']\n",
    "    df_filtado_t = posse_bola[selecao]['Tempo_Fim']\n",
    "    plt.plot(df_filtado_t, df_filtado_dif, color='red')\n",
    "for x in quartos:\n",
    "    plt.axvline(x, color='red', label=posse_bola.index, linestyle='--', alpha=0.4)\n",
    "plt.axhline(0, color='orange', label=posse_bola.index, alpha=0.5)"
   ]
  },
  {
   "cell_type": "code",
   "execution_count": 37,
   "metadata": {},
   "outputs": [
    {
     "data": {
      "text/plain": [
       "[[202.0, 292.0],\n",
       " [754.0, 862.0],\n",
       " [1264.0, 1347.0],\n",
       " [1547.0, 1581.0],\n",
       " [1694.0, 1722.0],\n",
       " [1865.0, 1914.0],\n",
       " [2431.0, 2476.0],\n",
       " [2838.0, 2929.0]]"
      ]
     },
     "execution_count": 37,
     "metadata": {},
     "output_type": "execute_result"
    }
   ],
   "source": [
    "del segmento_dois[0]\n",
    "segmento_dois"
   ]
  },
  {
   "cell_type": "code",
   "execution_count": 38,
   "metadata": {},
   "outputs": [
    {
     "data": {
      "text/plain": [
       "[[202.0, 292.0],\n",
       " [754.0, 862.0],\n",
       " [1264.0, 1347.0],\n",
       " [1547.0, 1581.0],\n",
       " [1694.0, 1722.0],\n",
       " [1865.0, 1914.0],\n",
       " [2431.0, 2476.0],\n",
       " [2838.0, 2929.0]]"
      ]
     },
     "execution_count": 38,
     "metadata": {},
     "output_type": "execute_result"
    }
   ],
   "source": [
    "segmento_dois"
   ]
  },
  {
   "cell_type": "code",
   "execution_count": 39,
   "metadata": {},
   "outputs": [
    {
     "data": {
      "text/plain": [
       "<matplotlib.lines.Line2D at 0x286d3031e20>"
      ]
     },
     "execution_count": 39,
     "metadata": {},
     "output_type": "execute_result"
    },
    {
     "data": {
      "image/png": "[encoded data removed]",
      "text/plain": [
       "<Figure size 1080x360 with 1 Axes>"
      ]
     },
     "metadata": {},
     "output_type": "display_data"
    }
   ],
   "source": [
    "plt.style.use('seaborn')\n",
    "sns.set_style('white')\n",
    "plt.figure(figsize=(15,5))\n",
    "plt.plot(posse_bola['Tempo_Fim'], posse_bola['dif_casa'], color='black')\n",
    "plt.title('Diferença do Placar Casa Durante a Partida', fontsize=18)\n",
    "plt.ylabel('Diferença do Placar', fontsize=16)\n",
    "plt.xlabel('Tempo de Jogo em Segundos', fontsize=16)\n",
    "plt.yticks(fontsize= 16)\n",
    "plt.xticks(fontsize= 16)\n",
    "final_t = []\n",
    "final_dif = []\n",
    "for i in segmento_dois:\n",
    "    selecao_dois = (posse_bola['Tempo_Fim'] >= i[0]) & (posse_bola['Tempo_Fim'] <= i[1])\n",
    "    df_filtado_dif = posse_bola[selecao_dois]['dif_casa']\n",
    "    df_filtado_t = posse_bola[selecao_dois]['Tempo_Fim']\n",
    "    plt.plot(df_filtado_t, df_filtado_dif, label = 'diferença do placar', color='red')\n",
    "for x in quartos:\n",
    "    plt.axvline(x, color='red', label=posse_bola.index, linestyle='--', alpha=0.4)\n",
    "plt.axhline(0, color='orange', label=posse_bola.index, alpha=0.5)"
   ]
  },
  {
   "cell_type": "code",
   "execution_count": 40,
   "metadata": {},
   "outputs": [
    {
     "data": {
      "text/html": [
       "<div>\n",
       "<style scoped>\n",
       "    .dataframe tbody tr th:only-of-type {\n",
       "        vertical-align: middle;\n",
       "    }\n",
       "\n",
       "    .dataframe tbody tr th {\n",
       "        vertical-align: top;\n",
       "    }\n",
       "\n",
       "    .dataframe thead th {\n",
       "        text-align: right;\n",
       "    }\n",
       "</style>\n",
       "<table border=\"1\" class=\"dataframe\">\n",
       "  <thead>\n",
       "    <tr style=\"text-align: right;\">\n",
       "      <th></th>\n",
       "      <th>Time</th>\n",
       "      <th>Tempo</th>\n",
       "      <th>Indicador</th>\n",
       "      <th>dif_casa</th>\n",
       "      <th>dif_visita</th>\n",
       "      <th>dif_abs</th>\n",
       "      <th>Tempo_Fim</th>\n",
       "      <th>pontuacao</th>\n",
       "    </tr>\n",
       "  </thead>\n",
       "  <tbody>\n",
       "    <tr>\n",
       "      <th>0</th>\n",
       "      <td>CAP</td>\n",
       "      <td>34.0</td>\n",
       "      <td>2_Pts_T</td>\n",
       "      <td>0.0</td>\n",
       "      <td>0.0</td>\n",
       "      <td>0.0</td>\n",
       "      <td>34.0</td>\n",
       "      <td>0.0</td>\n",
       "    </tr>\n",
       "    <tr>\n",
       "      <th>1</th>\n",
       "      <td>COR</td>\n",
       "      <td>20.0</td>\n",
       "      <td>ER</td>\n",
       "      <td>0.0</td>\n",
       "      <td>0.0</td>\n",
       "      <td>0.0</td>\n",
       "      <td>54.0</td>\n",
       "      <td>0.0</td>\n",
       "    </tr>\n",
       "    <tr>\n",
       "      <th>2</th>\n",
       "      <td>CAP</td>\n",
       "      <td>6.0</td>\n",
       "      <td>2_Pts_C</td>\n",
       "      <td>-2.0</td>\n",
       "      <td>2.0</td>\n",
       "      <td>2.0</td>\n",
       "      <td>60.0</td>\n",
       "      <td>2.0</td>\n",
       "    </tr>\n",
       "    <tr>\n",
       "      <th>3</th>\n",
       "      <td>COR</td>\n",
       "      <td>23.0</td>\n",
       "      <td>2_Pts_T</td>\n",
       "      <td>-2.0</td>\n",
       "      <td>2.0</td>\n",
       "      <td>2.0</td>\n",
       "      <td>83.0</td>\n",
       "      <td>0.0</td>\n",
       "    </tr>\n",
       "    <tr>\n",
       "      <th>4</th>\n",
       "      <td>CAP</td>\n",
       "      <td>16.0</td>\n",
       "      <td>2_Pts_T</td>\n",
       "      <td>-2.0</td>\n",
       "      <td>2.0</td>\n",
       "      <td>2.0</td>\n",
       "      <td>99.0</td>\n",
       "      <td>0.0</td>\n",
       "    </tr>\n",
       "    <tr>\n",
       "      <th>...</th>\n",
       "      <td>...</td>\n",
       "      <td>...</td>\n",
       "      <td>...</td>\n",
       "      <td>...</td>\n",
       "      <td>...</td>\n",
       "      <td>...</td>\n",
       "      <td>...</td>\n",
       "      <td>...</td>\n",
       "    </tr>\n",
       "    <tr>\n",
       "      <th>169</th>\n",
       "      <td>COR</td>\n",
       "      <td>4.0</td>\n",
       "      <td>LL_Pts_C</td>\n",
       "      <td>-4.0</td>\n",
       "      <td>4.0</td>\n",
       "      <td>4.0</td>\n",
       "      <td>2978.0</td>\n",
       "      <td>2.0</td>\n",
       "    </tr>\n",
       "    <tr>\n",
       "      <th>170</th>\n",
       "      <td>CAP</td>\n",
       "      <td>3.0</td>\n",
       "      <td>LL_Pts_C</td>\n",
       "      <td>-6.0</td>\n",
       "      <td>6.0</td>\n",
       "      <td>6.0</td>\n",
       "      <td>2981.0</td>\n",
       "      <td>2.0</td>\n",
       "    </tr>\n",
       "    <tr>\n",
       "      <th>171</th>\n",
       "      <td>COR</td>\n",
       "      <td>5.0</td>\n",
       "      <td>2_Pts_C</td>\n",
       "      <td>-4.0</td>\n",
       "      <td>4.0</td>\n",
       "      <td>4.0</td>\n",
       "      <td>2986.0</td>\n",
       "      <td>2.0</td>\n",
       "    </tr>\n",
       "    <tr>\n",
       "      <th>172</th>\n",
       "      <td>CAP</td>\n",
       "      <td>1.0</td>\n",
       "      <td>LL_Pts_T</td>\n",
       "      <td>-5.0</td>\n",
       "      <td>5.0</td>\n",
       "      <td>5.0</td>\n",
       "      <td>2987.0</td>\n",
       "      <td>1.0</td>\n",
       "    </tr>\n",
       "    <tr>\n",
       "      <th>173</th>\n",
       "      <td>COR</td>\n",
       "      <td>9.0</td>\n",
       "      <td>3_Pts_C</td>\n",
       "      <td>-2.0</td>\n",
       "      <td>2.0</td>\n",
       "      <td>2.0</td>\n",
       "      <td>2996.0</td>\n",
       "      <td>3.0</td>\n",
       "    </tr>\n",
       "  </tbody>\n",
       "</table>\n",
       "<p>174 rows × 8 columns</p>\n",
       "</div>"
      ],
      "text/plain": [
       "    Time  Tempo Indicador  dif_casa  dif_visita  dif_abs  Tempo_Fim  pontuacao\n",
       "0    CAP   34.0   2_Pts_T       0.0         0.0      0.0       34.0        0.0\n",
       "1    COR   20.0        ER       0.0         0.0      0.0       54.0        0.0\n",
       "2    CAP    6.0   2_Pts_C      -2.0         2.0      2.0       60.0        2.0\n",
       "3    COR   23.0   2_Pts_T      -2.0         2.0      2.0       83.0        0.0\n",
       "4    CAP   16.0   2_Pts_T      -2.0         2.0      2.0       99.0        0.0\n",
       "..   ...    ...       ...       ...         ...      ...        ...        ...\n",
       "169  COR    4.0  LL_Pts_C      -4.0         4.0      4.0     2978.0        2.0\n",
       "170  CAP    3.0  LL_Pts_C      -6.0         6.0      6.0     2981.0        2.0\n",
       "171  COR    5.0   2_Pts_C      -4.0         4.0      4.0     2986.0        2.0\n",
       "172  CAP    1.0  LL_Pts_T      -5.0         5.0      5.0     2987.0        1.0\n",
       "173  COR    9.0   3_Pts_C      -2.0         2.0      2.0     2996.0        3.0\n",
       "\n",
       "[174 rows x 8 columns]"
      ]
     },
     "execution_count": 40,
     "metadata": {},
     "output_type": "execute_result"
    }
   ],
   "source": [
    "posse_bola"
   ]
  },
  {
   "cell_type": "code",
   "execution_count": 41,
   "metadata": {},
   "outputs": [
    {
     "data": {
      "text/plain": [
       "<seaborn.axisgrid.FacetGrid at 0x286d2b15e80>"
      ]
     },
     "execution_count": 41,
     "metadata": {},
     "output_type": "execute_result"
    },
    {
     "data": {
      "image/png": "[encoded data removed]",
      "text/plain": [
       "<Figure size 360x360 with 1 Axes>"
      ]
     },
     "metadata": {},
     "output_type": "display_data"
    }
   ],
   "source": [
    "sns.relplot(data=posse_bola, x='Tempo_Fim', y='dif_casa')"
   ]
  },
  {
   "cell_type": "code",
   "execution_count": 54,
   "metadata": {},
   "outputs": [
    {
     "data": {
      "image/png": "[encoded data removed]",
      "text/plain": [
       "<Figure size 576x396 with 1 Axes>"
      ]
     },
     "metadata": {},
     "output_type": "display_data"
    }
   ],
   "source": [
    "for i in segmento_dois:\n",
    "    selecao_dois = (posse_bola['Tempo_Fim'] >= i[0]) & (posse_bola['Tempo_Fim'] <= i[1])\n",
    "    df_filtado_dif = posse_bola[selecao_dois]['dif_casa']\n",
    "    df_filtado_t = posse_bola[selecao_dois]['Tempo_Fim']\n",
    "    plt.plot(df_filtado_t, df_filtado_dif, 'bo')\n",
    "for i in segmento:\n",
    "    selecao = (posse_bola['Tempo_Fim'] >= i[0]) & (posse_bola['Tempo_Fim'] <= i[1])\n",
    "    df_filtado_dif = posse_bola[selecao]['dif_casa']\n",
    "    df_filtado_t = posse_bola[selecao]['Tempo_Fim']\n",
    "    plt.plot(df_filtado_t, df_filtado_dif, 'ro')"
   ]
  },
  {
   "cell_type": "code",
   "execution_count": null,
   "metadata": {},
   "outputs": [],
   "source": []
  }
 ],
 "metadata": {
  "kernelspec": {
   "display_name": "Python 3",
   "language": "python",
   "name": "python3"
  },
  "language_info": {
   "codemirror_mode": {
    "name": "ipython",
    "version": 3
   },
   "file_extension": ".py",
   "mimetype": "text/x-python",
   "name": "python",
   "nbconvert_exporter": "python",
   "pygments_lexer": "ipython3",
   "version": "3.8.3"
  }
 },
 "nbformat": 4,
 "nbformat_minor": 4
}
