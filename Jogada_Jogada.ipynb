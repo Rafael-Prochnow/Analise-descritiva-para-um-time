{
 "cells": [
  {
   "cell_type": "code",
   "execution_count": 1,
   "metadata": {},
   "outputs": [],
   "source": [
    "def siglas(nome_time):\n",
    "    if nome_time == 'Bauru':\n",
    "        return 'BAU'\n",
    "    \n",
    "    elif nome_time == 'MOGI1':\n",
    "        return 'MOG'\n",
    "    \n",
    "    elif nome_time == 'VipTech CMB':\n",
    "        return 'CMO'\n",
    "    \n",
    "    elif nome_time == 'Brasília':\n",
    "        return 'BSB'\n",
    "    \n",
    "    elif nome_time == 'Paulistano':\n",
    "        return 'CAP'\n",
    "    \n",
    "    elif nome_time == 'Flamengo':\n",
    "        return 'FLA'\n",
    "    \n",
    "    elif nome_time == 'Minas':\n",
    "        return 'MIN'\n",
    "    \n",
    "    elif nome_time == 'UNIFACISA':\n",
    "        return 'UFC'\n",
    "    \n",
    "    elif nome_time == 'Cerrado Basquete':\n",
    "        return 'CER'\n",
    "    \n",
    "    elif nome_time == 'SESI Franca':\n",
    "        return 'FRA'\n",
    "    \n",
    "    elif nome_time == 'Corinthians':\n",
    "        return 'COR'\n",
    "    \n",
    "    elif nome_time == 'Pinheiros':\n",
    "        return 'PIN'\n",
    "    \n",
    "    elif nome_time == 'Fortaleza B. C':\n",
    "        return 'FOR'\n",
    "    \n",
    "    elif nome_time == 'KTO Caxias do Sul':\n",
    "        return 'CAX'\n",
    "    \n",
    "    elif nome_time == 'Pato':\n",
    "        return 'PAT'\n",
    "    \n",
    "    elif nome_time == 'São Paulo':\n",
    "        return 'SPF'"
   ]
  },
  {
   "cell_type": "markdown",
   "metadata": {},
   "source": [
    "# Projeto: Análises Jogada-Jogada NBB 2019"
   ]
  },
  {
   "cell_type": "markdown",
   "metadata": {},
   "source": [
    "Para esse projeto estaremos analisando jogos do NBB, principal campeonato brasileiro de basquetebol. Os dados contém os seguintes campos:\n",
    "\n",
    "Colunas:\n",
    "* Quartos\n",
    "* Tempo\n",
    "* placar_cada\n",
    "* placar_visitante\n",
    "* Nome\n",
    "*\n",
    "\n",
    "\n",
    "Coluna Indicadores técnicos:\n",
    "\n",
    "* fim_quarto -> Fim de quarto (qualquer quarto)\n",
    "* inicio_quarto -> Inicio de quarto (qualquer quarto)\n",
    "* fim_partida  -> Fim da Partida\n",
    "* incio partida -> Inicio da Partida\n",
    "* Min        -> Minutos jogados do jogador\n",
    "* Pts_C      -> Pontos Convertidos \n",
    "* Pts_T      -> Pontos Tentados \n",
    "* Pts_3_C    -> Três Pontos Convertidos \n",
    "* 3_T_Pts    -> Três Pontos Tentados\n",
    "* 2_C_Pts    -> Dois Pontos Convertidos\n",
    "* 2_T_Pts    -> Dois Pontos Tentados\n",
    "* LL_Pts_C   -> Lances Livres Convertidos\n",
    "* LL_Pts_T   -> Lances Livres Tentados\n",
    "* RO         -> Rebotes Ofensivos\n",
    "* RD         -> Rebotes Defensivos\n",
    "* RT         -> Rebotes Totais\n",
    "* AS         -> Assistências\n",
    "* BR         -> Bolas Roubadas \n",
    "* TO         -> Tocos\n",
    "* FC         -> Faltas Cometidas\n",
    "* FC_T         -> Faltas Técnica\n",
    "* FC_A         -> Faltas Antidesportiva\n",
    "* FC_O       -> Faltas Ofensiva\n",
    "* FC_D        -> Faltas Desqualificante\n",
    "* Entra       -> Entrada na Substituição \n",
    "* Sai           -> Saida na Substituição \n",
    "* tempo_tecnico -> Tempo Técnico\n",
    "* ER         -> Erros\n",
    "* FR         -> Faltas Recebidas \n",
    "* EN         -> Enterradas\n",
    "* Ar_Pts_C   -> Arremessos dos Pontos Convertidos\n",
    "* Ar_Pts_C   -> Arremessos dos Pontos Tentados \n",
    "* Pos        -> Posse de bola do time "
   ]
  },
  {
   "cell_type": "code",
   "execution_count": 2,
   "metadata": {},
   "outputs": [],
   "source": [
    "# !pip install dataframe_image"
   ]
  },
  {
   "cell_type": "code",
   "execution_count": 3,
   "metadata": {},
   "outputs": [],
   "source": [
    "import numpy as np\n",
    "import pandas as pd\n",
    "import datetime as dt\n",
    "from datetime import datetime\n",
    "import re\n",
    "import dataframe_image as dfi"
   ]
  },
  {
   "cell_type": "code",
   "execution_count": 4,
   "metadata": {},
   "outputs": [],
   "source": [
    "import matplotlib.pyplot as plt\n",
    "import seaborn as sns"
   ]
  },
  {
   "cell_type": "code",
   "execution_count": 5,
   "metadata": {},
   "outputs": [],
   "source": [
    "from matplotlib.collections import LineCollection"
   ]
  },
  {
   "cell_type": "code",
   "execution_count": 6,
   "metadata": {},
   "outputs": [],
   "source": [
    "from fpdf import FPDF\n",
    "from funcoes_relatorio_analises import *"
   ]
  },
  {
   "cell_type": "code",
   "execution_count": 7,
   "metadata": {},
   "outputs": [],
   "source": [
    "%matplotlib inline"
   ]
  },
  {
   "cell_type": "code",
   "execution_count": 8,
   "metadata": {},
   "outputs": [],
   "source": [
    "# df = pd.read_csv(\"tabela_1_VipTech CMB_x_Fortaleza B. C.1.csv\")"
   ]
  },
  {
   "cell_type": "code",
   "execution_count": 9,
   "metadata": {},
   "outputs": [],
   "source": [
    "# arquivo = \"tabela_16_Corinthians_x_Paulistano.csv\"\n",
    "# arquivo = \"tabela_45_KTO Caxias do Sul_x_Corinthians.csv\"\n",
    "arquivo = \"tabela_37_Cerrado Basquete_x_KTO Caxias do Sul.csv\"\n",
    "# arquivo = \"tabela_51_Flamengo_x_Brasília.csv\"\n",
    "# arquivo = \"tabela_10_Bauru_x_Flamengo.csv\""
   ]
  },
  {
   "cell_type": "code",
   "execution_count": 10,
   "metadata": {},
   "outputs": [],
   "source": [
    "df = pd.read_csv(arquivo)"
   ]
  },
  {
   "cell_type": "code",
   "execution_count": 11,
   "metadata": {},
   "outputs": [
    {
     "data": {
      "text/plain": [
       "['Cerrado Basquete_x_KTO Caxias do Sul.']"
      ]
     },
     "execution_count": 11,
     "metadata": {},
     "output_type": "execute_result"
    }
   ],
   "source": [
    "expressao_regular = re.findall(r'[A-Z].*?[.]', arquivo)\n",
    "expressao_regular"
   ]
  },
  {
   "cell_type": "code",
   "execution_count": 12,
   "metadata": {},
   "outputs": [],
   "source": [
    "expressao_regular = str(expressao_regular).strip('[]')\n",
    "expressao_regular0 = expressao_regular.split('_x_')"
   ]
  },
  {
   "cell_type": "markdown",
   "metadata": {},
   "source": [
    "### criar um df que identifique o Mogi e colocar mogi das cruzes "
   ]
  },
  {
   "cell_type": "code",
   "execution_count": 13,
   "metadata": {},
   "outputs": [
    {
     "data": {
      "text/plain": [
       "'Cerrado Basquete'"
      ]
     },
     "execution_count": 13,
     "metadata": {},
     "output_type": "execute_result"
    }
   ],
   "source": [
    "casa = expressao_regular0[0]\n",
    "nome_time_casa = casa.replace(\"'\", \"\")\n",
    "nome_time_casa"
   ]
  },
  {
   "cell_type": "code",
   "execution_count": 14,
   "metadata": {},
   "outputs": [
    {
     "data": {
      "text/plain": [
       "'KTO Caxias do Sul'"
      ]
     },
     "execution_count": 14,
     "metadata": {},
     "output_type": "execute_result"
    }
   ],
   "source": [
    "fora = expressao_regular0[1]\n",
    "nome_time_fora = fora.replace(\".'\", \"\")\n",
    "nome_time_fora"
   ]
  },
  {
   "cell_type": "markdown",
   "metadata": {},
   "source": [
    "## Precisa colocar algumas informações básicas sobre o jogo para que completar a tabela "
   ]
  },
  {
   "cell_type": "markdown",
   "metadata": {},
   "source": [
    "### Mogi colocar MOGI1"
   ]
  },
  {
   "cell_type": "code",
   "execution_count": 15,
   "metadata": {},
   "outputs": [
    {
     "data": {
      "text/html": [
       "<div>\n",
       "<style scoped>\n",
       "    .dataframe tbody tr th:only-of-type {\n",
       "        vertical-align: middle;\n",
       "    }\n",
       "\n",
       "    .dataframe tbody tr th {\n",
       "        vertical-align: top;\n",
       "    }\n",
       "\n",
       "    .dataframe thead th {\n",
       "        text-align: right;\n",
       "    }\n",
       "</style>\n",
       "<table border=\"1\" class=\"dataframe\">\n",
       "  <thead>\n",
       "    <tr style=\"text-align: right;\">\n",
       "      <th></th>\n",
       "      <th>Unnamed: 0</th>\n",
       "      <th>Quarto</th>\n",
       "      <th>Tempo</th>\n",
       "      <th>placar_casa</th>\n",
       "      <th>placar_visitante</th>\n",
       "      <th>Time</th>\n",
       "      <th>Indicador</th>\n",
       "      <th>Nome</th>\n",
       "    </tr>\n",
       "  </thead>\n",
       "  <tbody>\n",
       "    <tr>\n",
       "      <th>0</th>\n",
       "      <td>0</td>\n",
       "      <td>4</td>\n",
       "      <td>00:00</td>\n",
       "      <td>67</td>\n",
       "      <td>63</td>\n",
       "      <td>NaN</td>\n",
       "      <td>fim_partida</td>\n",
       "      <td>NaN</td>\n",
       "    </tr>\n",
       "    <tr>\n",
       "      <th>1</th>\n",
       "      <td>1</td>\n",
       "      <td>4</td>\n",
       "      <td>00:00</td>\n",
       "      <td>67</td>\n",
       "      <td>63</td>\n",
       "      <td>NaN</td>\n",
       "      <td>fim_quarto</td>\n",
       "      <td>NaN</td>\n",
       "    </tr>\n",
       "    <tr>\n",
       "      <th>2</th>\n",
       "      <td>2</td>\n",
       "      <td>4</td>\n",
       "      <td>00:01</td>\n",
       "      <td>67</td>\n",
       "      <td>63</td>\n",
       "      <td>CAX</td>\n",
       "      <td>3_Pts_T</td>\n",
       "      <td>Da Silva</td>\n",
       "    </tr>\n",
       "    <tr>\n",
       "      <th>3</th>\n",
       "      <td>3</td>\n",
       "      <td>4</td>\n",
       "      <td>00:03</td>\n",
       "      <td>67</td>\n",
       "      <td>63</td>\n",
       "      <td>CER</td>\n",
       "      <td>LL_Pts_C</td>\n",
       "      <td>Fuller</td>\n",
       "    </tr>\n",
       "    <tr>\n",
       "      <th>4</th>\n",
       "      <td>4</td>\n",
       "      <td>4</td>\n",
       "      <td>00:03</td>\n",
       "      <td>66</td>\n",
       "      <td>63</td>\n",
       "      <td>CER</td>\n",
       "      <td>LL_Pts_C</td>\n",
       "      <td>Fuller</td>\n",
       "    </tr>\n",
       "    <tr>\n",
       "      <th>...</th>\n",
       "      <td>...</td>\n",
       "      <td>...</td>\n",
       "      <td>...</td>\n",
       "      <td>...</td>\n",
       "      <td>...</td>\n",
       "      <td>...</td>\n",
       "      <td>...</td>\n",
       "      <td>...</td>\n",
       "    </tr>\n",
       "    <tr>\n",
       "      <th>476</th>\n",
       "      <td>476</td>\n",
       "      <td>1</td>\n",
       "      <td>10:00</td>\n",
       "      <td>0</td>\n",
       "      <td>0</td>\n",
       "      <td>CER</td>\n",
       "      <td>substituicao_entra</td>\n",
       "      <td>Fuller</td>\n",
       "    </tr>\n",
       "    <tr>\n",
       "      <th>477</th>\n",
       "      <td>477</td>\n",
       "      <td>1</td>\n",
       "      <td>10:00</td>\n",
       "      <td>0</td>\n",
       "      <td>0</td>\n",
       "      <td>CER</td>\n",
       "      <td>substituicao_entra</td>\n",
       "      <td>Paulo</td>\n",
       "    </tr>\n",
       "    <tr>\n",
       "      <th>478</th>\n",
       "      <td>478</td>\n",
       "      <td>1</td>\n",
       "      <td>10:00</td>\n",
       "      <td>0</td>\n",
       "      <td>0</td>\n",
       "      <td>CER</td>\n",
       "      <td>substituicao_entra</td>\n",
       "      <td>Lucas Lima</td>\n",
       "    </tr>\n",
       "    <tr>\n",
       "      <th>479</th>\n",
       "      <td>479</td>\n",
       "      <td>1</td>\n",
       "      <td>10:00</td>\n",
       "      <td>0</td>\n",
       "      <td>0</td>\n",
       "      <td>CER</td>\n",
       "      <td>substituicao_entra</td>\n",
       "      <td>Sérgio</td>\n",
       "    </tr>\n",
       "    <tr>\n",
       "      <th>480</th>\n",
       "      <td>480</td>\n",
       "      <td>1</td>\n",
       "      <td>10:00</td>\n",
       "      <td>0</td>\n",
       "      <td>0</td>\n",
       "      <td>NaN</td>\n",
       "      <td>inicio_partida</td>\n",
       "      <td>NaN</td>\n",
       "    </tr>\n",
       "  </tbody>\n",
       "</table>\n",
       "<p>481 rows × 8 columns</p>\n",
       "</div>"
      ],
      "text/plain": [
       "     Unnamed: 0  Quarto  Tempo  placar_casa  placar_visitante Time  \\\n",
       "0             0       4  00:00           67                63  NaN   \n",
       "1             1       4  00:00           67                63  NaN   \n",
       "2             2       4  00:01           67                63  CAX   \n",
       "3             3       4  00:03           67                63  CER   \n",
       "4             4       4  00:03           66                63  CER   \n",
       "..          ...     ...    ...          ...               ...  ...   \n",
       "476         476       1  10:00            0                 0  CER   \n",
       "477         477       1  10:00            0                 0  CER   \n",
       "478         478       1  10:00            0                 0  CER   \n",
       "479         479       1  10:00            0                 0  CER   \n",
       "480         480       1  10:00            0                 0  NaN   \n",
       "\n",
       "              Indicador        Nome  \n",
       "0           fim_partida         NaN  \n",
       "1            fim_quarto         NaN  \n",
       "2               3_Pts_T    Da Silva  \n",
       "3              LL_Pts_C      Fuller  \n",
       "4              LL_Pts_C      Fuller  \n",
       "..                  ...         ...  \n",
       "476  substituicao_entra      Fuller  \n",
       "477  substituicao_entra       Paulo  \n",
       "478  substituicao_entra  Lucas Lima  \n",
       "479  substituicao_entra      Sérgio  \n",
       "480      inicio_partida         NaN  \n",
       "\n",
       "[481 rows x 8 columns]"
      ]
     },
     "execution_count": 15,
     "metadata": {},
     "output_type": "execute_result"
    }
   ],
   "source": [
    "df"
   ]
  },
  {
   "cell_type": "markdown",
   "metadata": {},
   "source": [
    "# Informações básicas sobre o jogo "
   ]
  },
  {
   "cell_type": "code",
   "execution_count": 16,
   "metadata": {},
   "outputs": [],
   "source": [
    "data_hoje = datetime.today().strftime('%d/%m/%Y')\n",
    "dia_do_jogo = '02/01/2021'\n",
    "temporada = 2019\n",
    "sigla_time_a = siglas(nome_time_casa)\n",
    "sigla_time_b = siglas(nome_time_fora)\n",
    "casa = 'casa'\n",
    "fora = 'fora'\n",
    "classificatoria = '1 Turno'"
   ]
  },
  {
   "cell_type": "code",
   "execution_count": 17,
   "metadata": {},
   "outputs": [],
   "source": [
    "arquivo = 'RELATORIO'\n",
    "arquivo1 = f'informacoes_dos_times/{nome_time_casa}'\n",
    "arquivo2 = f'informacoes_dos_times/{nome_time_fora}'\n",
    "img_casa = f'{arquivo1}/{nome_time_casa}'\n",
    "img_fora = f'{arquivo2}/{nome_time_fora}'"
   ]
  },
  {
   "cell_type": "code",
   "execution_count": 18,
   "metadata": {},
   "outputs": [
    {
     "data": {
      "text/plain": [
       "'02/01/2021'"
      ]
     },
     "execution_count": 18,
     "metadata": {},
     "output_type": "execute_result"
    }
   ],
   "source": [
    "dia_do_jogo"
   ]
  },
  {
   "cell_type": "markdown",
   "metadata": {},
   "source": [
    "# Limpeza dos dados "
   ]
  },
  {
   "cell_type": "markdown",
   "metadata": {},
   "source": [
    "* primeiro evitar NAN (acredite!!! tem isso no site)"
   ]
  },
  {
   "cell_type": "code",
   "execution_count": 19,
   "metadata": {},
   "outputs": [],
   "source": [
    "df.dropna(subset=['Tempo'], inplace=True)"
   ]
  },
  {
   "cell_type": "markdown",
   "metadata": {},
   "source": [
    "* mudança do tempo\n",
    "* colocar todos em segundos para facilitar a vida\n",
    "* tem jogos que o site apresenta numeros inteiros (1, 12, 134, 1000)\n",
    "* para isso localizei o valores errados e concertei"
   ]
  },
  {
   "cell_type": "code",
   "execution_count": 20,
   "metadata": {},
   "outputs": [],
   "source": [
    "mudar_hora = []\n",
    "for x in df['Tempo']:\n",
    "    if re.findall(r'..:..', x):\n",
    "        mudar_hora.append(x)\n",
    "    else:\n",
    "        if re.findall(r'....', x):\n",
    "            x = x[0:2] + ':' + x[2:4]\n",
    "            mudar_hora.append(x)\n",
    "        elif re.findall(r'...', x):\n",
    "            x = '0' + x[0] + ':' + x[1:3]\n",
    "            mudar_hora.append(x)\n",
    "        elif re.findall(r'..', x):\n",
    "            x = '00:' + x\n",
    "            mudar_hora.append(x)\n",
    "        elif re.findall(r'.', x):\n",
    "            x = '00:0' + x\n",
    "            mudar_hora.append(x)\n",
    "\n",
    "df['Tempo_2'] = mudar_hora\n",
    "df.drop('Tempo', axis=1, inplace=True)"
   ]
  },
  {
   "cell_type": "code",
   "execution_count": 21,
   "metadata": {},
   "outputs": [],
   "source": [
    "df['Tempo_2'] = df['Tempo_2'].apply(lambda x: dt.datetime.strptime(x, '%M:%S'))"
   ]
  },
  {
   "cell_type": "code",
   "execution_count": 22,
   "metadata": {},
   "outputs": [],
   "source": [
    "df['Tempo_2'] = df['Tempo_2'].apply(lambda x: dt.time(x.hour, x.minute, x.second))"
   ]
  },
  {
   "cell_type": "code",
   "execution_count": 23,
   "metadata": {},
   "outputs": [],
   "source": [
    "df['Tempo_2'] = df['Tempo_2'].apply(lambda x: (x.hour * 60 + x.minute) * 60 + x.second)"
   ]
  },
  {
   "cell_type": "code",
   "execution_count": 24,
   "metadata": {},
   "outputs": [],
   "source": [
    "# transforma os dados para números inteiros\n",
    "df['Quarto'] = df['Quarto'].apply(lambda l: int(l))"
   ]
  },
  {
   "cell_type": "code",
   "execution_count": 25,
   "metadata": {},
   "outputs": [],
   "source": [
    "# modificar o tempo decrescente para crescente (* -1)\n",
    "# acrescentar o tempo de cada quarto (primeiro quarto termina em 600s, o segundo quarto 2*600 = 1200 ...)\n",
    "tempo_novo = []\n",
    "for x, y in zip(df['Quarto'], df['Tempo_2']):\n",
    "    if x == 1:\n",
    "        a = (y - (600 * 1)) * -1\n",
    "        tempo_novo.append(a)\n",
    "    elif x == 2:\n",
    "        a = (y - (600 * 2)) * -1\n",
    "        tempo_novo.append(a)\n",
    "    elif x == 3:\n",
    "        a = (y - (600 * 3)) * -1\n",
    "        tempo_novo.append(a)\n",
    "    elif x == 4:\n",
    "        a = (y - (600 * 4)) * -1\n",
    "        tempo_novo.append(a)\n",
    "    elif x == 5:\n",
    "        a = (y - (600 * 4.5)) * -1\n",
    "        tempo_novo.append(a)\n",
    "    elif x == 6:\n",
    "        a = (y - (600 * 5)) * -1\n",
    "        tempo_novo.append(a)\n",
    "    elif x == 7:\n",
    "        a = (y - (600 * 5.5)) * -1\n",
    "        tempo_novo.append(a)\n",
    "\n",
    "df['Tempo'] = tempo_novo\n",
    "df.drop('Tempo_2', axis=1, inplace=True)"
   ]
  },
  {
   "cell_type": "code",
   "execution_count": 26,
   "metadata": {},
   "outputs": [],
   "source": [
    "# deixando o DataFrame nessa ordem de colunas\n",
    "df = df[['Quarto', 'Tempo', 'placar_casa', 'placar_visitante', 'Time', 'Indicador', 'Nome']]"
   ]
  },
  {
   "cell_type": "markdown",
   "metadata": {},
   "source": [
    "#  Acrescentamos mais colunas"
   ]
  },
  {
   "cell_type": "code",
   "execution_count": 27,
   "metadata": {},
   "outputs": [
    {
     "data": {
      "text/html": [
       "<div>\n",
       "<style scoped>\n",
       "    .dataframe tbody tr th:only-of-type {\n",
       "        vertical-align: middle;\n",
       "    }\n",
       "\n",
       "    .dataframe tbody tr th {\n",
       "        vertical-align: top;\n",
       "    }\n",
       "\n",
       "    .dataframe thead th {\n",
       "        text-align: right;\n",
       "    }\n",
       "</style>\n",
       "<table border=\"1\" class=\"dataframe\">\n",
       "  <thead>\n",
       "    <tr style=\"text-align: right;\">\n",
       "      <th></th>\n",
       "      <th>Quarto</th>\n",
       "      <th>Tempo</th>\n",
       "      <th>placar_casa</th>\n",
       "      <th>placar_visitante</th>\n",
       "      <th>Time</th>\n",
       "      <th>Indicador</th>\n",
       "      <th>Nome</th>\n",
       "      <th>diferenca_placar_casa</th>\n",
       "      <th>diferenca_placar_visitante</th>\n",
       "    </tr>\n",
       "  </thead>\n",
       "  <tbody>\n",
       "    <tr>\n",
       "      <th>0</th>\n",
       "      <td>4</td>\n",
       "      <td>2400</td>\n",
       "      <td>67</td>\n",
       "      <td>63</td>\n",
       "      <td>NaN</td>\n",
       "      <td>fim_partida</td>\n",
       "      <td>NaN</td>\n",
       "      <td>4</td>\n",
       "      <td>-4</td>\n",
       "    </tr>\n",
       "    <tr>\n",
       "      <th>1</th>\n",
       "      <td>4</td>\n",
       "      <td>2400</td>\n",
       "      <td>67</td>\n",
       "      <td>63</td>\n",
       "      <td>NaN</td>\n",
       "      <td>fim_quarto</td>\n",
       "      <td>NaN</td>\n",
       "      <td>4</td>\n",
       "      <td>-4</td>\n",
       "    </tr>\n",
       "    <tr>\n",
       "      <th>2</th>\n",
       "      <td>4</td>\n",
       "      <td>2399</td>\n",
       "      <td>67</td>\n",
       "      <td>63</td>\n",
       "      <td>CAX</td>\n",
       "      <td>3_Pts_T</td>\n",
       "      <td>Da Silva</td>\n",
       "      <td>4</td>\n",
       "      <td>-4</td>\n",
       "    </tr>\n",
       "    <tr>\n",
       "      <th>3</th>\n",
       "      <td>4</td>\n",
       "      <td>2397</td>\n",
       "      <td>67</td>\n",
       "      <td>63</td>\n",
       "      <td>CER</td>\n",
       "      <td>LL_Pts_C</td>\n",
       "      <td>Fuller</td>\n",
       "      <td>4</td>\n",
       "      <td>-4</td>\n",
       "    </tr>\n",
       "    <tr>\n",
       "      <th>4</th>\n",
       "      <td>4</td>\n",
       "      <td>2397</td>\n",
       "      <td>66</td>\n",
       "      <td>63</td>\n",
       "      <td>CER</td>\n",
       "      <td>LL_Pts_C</td>\n",
       "      <td>Fuller</td>\n",
       "      <td>3</td>\n",
       "      <td>-3</td>\n",
       "    </tr>\n",
       "    <tr>\n",
       "      <th>...</th>\n",
       "      <td>...</td>\n",
       "      <td>...</td>\n",
       "      <td>...</td>\n",
       "      <td>...</td>\n",
       "      <td>...</td>\n",
       "      <td>...</td>\n",
       "      <td>...</td>\n",
       "      <td>...</td>\n",
       "      <td>...</td>\n",
       "    </tr>\n",
       "    <tr>\n",
       "      <th>476</th>\n",
       "      <td>1</td>\n",
       "      <td>0</td>\n",
       "      <td>0</td>\n",
       "      <td>0</td>\n",
       "      <td>CER</td>\n",
       "      <td>substituicao_entra</td>\n",
       "      <td>Fuller</td>\n",
       "      <td>0</td>\n",
       "      <td>0</td>\n",
       "    </tr>\n",
       "    <tr>\n",
       "      <th>477</th>\n",
       "      <td>1</td>\n",
       "      <td>0</td>\n",
       "      <td>0</td>\n",
       "      <td>0</td>\n",
       "      <td>CER</td>\n",
       "      <td>substituicao_entra</td>\n",
       "      <td>Paulo</td>\n",
       "      <td>0</td>\n",
       "      <td>0</td>\n",
       "    </tr>\n",
       "    <tr>\n",
       "      <th>478</th>\n",
       "      <td>1</td>\n",
       "      <td>0</td>\n",
       "      <td>0</td>\n",
       "      <td>0</td>\n",
       "      <td>CER</td>\n",
       "      <td>substituicao_entra</td>\n",
       "      <td>Lucas Lima</td>\n",
       "      <td>0</td>\n",
       "      <td>0</td>\n",
       "    </tr>\n",
       "    <tr>\n",
       "      <th>479</th>\n",
       "      <td>1</td>\n",
       "      <td>0</td>\n",
       "      <td>0</td>\n",
       "      <td>0</td>\n",
       "      <td>CER</td>\n",
       "      <td>substituicao_entra</td>\n",
       "      <td>Sérgio</td>\n",
       "      <td>0</td>\n",
       "      <td>0</td>\n",
       "    </tr>\n",
       "    <tr>\n",
       "      <th>480</th>\n",
       "      <td>1</td>\n",
       "      <td>0</td>\n",
       "      <td>0</td>\n",
       "      <td>0</td>\n",
       "      <td>NaN</td>\n",
       "      <td>inicio_partida</td>\n",
       "      <td>NaN</td>\n",
       "      <td>0</td>\n",
       "      <td>0</td>\n",
       "    </tr>\n",
       "  </tbody>\n",
       "</table>\n",
       "<p>481 rows × 9 columns</p>\n",
       "</div>"
      ],
      "text/plain": [
       "     Quarto  Tempo  placar_casa  placar_visitante Time           Indicador  \\\n",
       "0         4   2400           67                63  NaN         fim_partida   \n",
       "1         4   2400           67                63  NaN          fim_quarto   \n",
       "2         4   2399           67                63  CAX             3_Pts_T   \n",
       "3         4   2397           67                63  CER            LL_Pts_C   \n",
       "4         4   2397           66                63  CER            LL_Pts_C   \n",
       "..      ...    ...          ...               ...  ...                 ...   \n",
       "476       1      0            0                 0  CER  substituicao_entra   \n",
       "477       1      0            0                 0  CER  substituicao_entra   \n",
       "478       1      0            0                 0  CER  substituicao_entra   \n",
       "479       1      0            0                 0  CER  substituicao_entra   \n",
       "480       1      0            0                 0  NaN      inicio_partida   \n",
       "\n",
       "           Nome  diferenca_placar_casa  diferenca_placar_visitante  \n",
       "0           NaN                      4                          -4  \n",
       "1           NaN                      4                          -4  \n",
       "2      Da Silva                      4                          -4  \n",
       "3        Fuller                      4                          -4  \n",
       "4        Fuller                      3                          -3  \n",
       "..          ...                    ...                         ...  \n",
       "476      Fuller                      0                           0  \n",
       "477       Paulo                      0                           0  \n",
       "478  Lucas Lima                      0                           0  \n",
       "479      Sérgio                      0                           0  \n",
       "480         NaN                      0                           0  \n",
       "\n",
       "[481 rows x 9 columns]"
      ]
     },
     "execution_count": 27,
     "metadata": {},
     "output_type": "execute_result"
    }
   ],
   "source": [
    "df['diferenca_placar_casa'] = df['placar_casa'] - df['placar_visitante']\n",
    "df['diferenca_placar_visitante'] = df['placar_visitante'] - df['placar_casa']\n",
    "df"
   ]
  },
  {
   "cell_type": "code",
   "execution_count": 28,
   "metadata": {},
   "outputs": [],
   "source": [
    "df.to_csv('tempo2.csv')"
   ]
  },
  {
   "cell_type": "markdown",
   "metadata": {},
   "source": [
    "# Analise da pontuação dos times"
   ]
  },
  {
   "cell_type": "code",
   "execution_count": 29,
   "metadata": {},
   "outputs": [
    {
     "data": {
      "text/html": [
       "<div>\n",
       "<style scoped>\n",
       "    .dataframe tbody tr th:only-of-type {\n",
       "        vertical-align: middle;\n",
       "    }\n",
       "\n",
       "    .dataframe tbody tr th {\n",
       "        vertical-align: top;\n",
       "    }\n",
       "\n",
       "    .dataframe thead th {\n",
       "        text-align: right;\n",
       "    }\n",
       "</style>\n",
       "<table border=\"1\" class=\"dataframe\">\n",
       "  <thead>\n",
       "    <tr style=\"text-align: right;\">\n",
       "      <th></th>\n",
       "      <th>Quarto</th>\n",
       "      <th>Tempo</th>\n",
       "      <th>placar_casa</th>\n",
       "      <th>placar_visitante</th>\n",
       "      <th>Time</th>\n",
       "      <th>Indicador</th>\n",
       "      <th>Nome</th>\n",
       "      <th>diferenca_placar_casa</th>\n",
       "      <th>diferenca_placar_visitante</th>\n",
       "    </tr>\n",
       "  </thead>\n",
       "  <tbody>\n",
       "    <tr>\n",
       "      <th>0</th>\n",
       "      <td>4</td>\n",
       "      <td>2400</td>\n",
       "      <td>67</td>\n",
       "      <td>63</td>\n",
       "      <td>NaN</td>\n",
       "      <td>fim_partida</td>\n",
       "      <td>NaN</td>\n",
       "      <td>4</td>\n",
       "      <td>-4</td>\n",
       "    </tr>\n",
       "    <tr>\n",
       "      <th>2</th>\n",
       "      <td>4</td>\n",
       "      <td>2399</td>\n",
       "      <td>67</td>\n",
       "      <td>63</td>\n",
       "      <td>CAX</td>\n",
       "      <td>3_Pts_T</td>\n",
       "      <td>Da Silva</td>\n",
       "      <td>4</td>\n",
       "      <td>-4</td>\n",
       "    </tr>\n",
       "    <tr>\n",
       "      <th>3</th>\n",
       "      <td>4</td>\n",
       "      <td>2397</td>\n",
       "      <td>67</td>\n",
       "      <td>63</td>\n",
       "      <td>CER</td>\n",
       "      <td>LL_Pts_C</td>\n",
       "      <td>Fuller</td>\n",
       "      <td>4</td>\n",
       "      <td>-4</td>\n",
       "    </tr>\n",
       "    <tr>\n",
       "      <th>4</th>\n",
       "      <td>4</td>\n",
       "      <td>2397</td>\n",
       "      <td>66</td>\n",
       "      <td>63</td>\n",
       "      <td>CER</td>\n",
       "      <td>LL_Pts_C</td>\n",
       "      <td>Fuller</td>\n",
       "      <td>3</td>\n",
       "      <td>-3</td>\n",
       "    </tr>\n",
       "    <tr>\n",
       "      <th>8</th>\n",
       "      <td>4</td>\n",
       "      <td>2391</td>\n",
       "      <td>65</td>\n",
       "      <td>63</td>\n",
       "      <td>CAX</td>\n",
       "      <td>LL_Pts_T</td>\n",
       "      <td>Shilton</td>\n",
       "      <td>2</td>\n",
       "      <td>-2</td>\n",
       "    </tr>\n",
       "    <tr>\n",
       "      <th>...</th>\n",
       "      <td>...</td>\n",
       "      <td>...</td>\n",
       "      <td>...</td>\n",
       "      <td>...</td>\n",
       "      <td>...</td>\n",
       "      <td>...</td>\n",
       "      <td>...</td>\n",
       "      <td>...</td>\n",
       "      <td>...</td>\n",
       "    </tr>\n",
       "    <tr>\n",
       "      <th>458</th>\n",
       "      <td>1</td>\n",
       "      <td>86</td>\n",
       "      <td>0</td>\n",
       "      <td>3</td>\n",
       "      <td>CAX</td>\n",
       "      <td>LL_Pts_T</td>\n",
       "      <td>Shilton</td>\n",
       "      <td>-3</td>\n",
       "      <td>3</td>\n",
       "    </tr>\n",
       "    <tr>\n",
       "      <th>460</th>\n",
       "      <td>1</td>\n",
       "      <td>86</td>\n",
       "      <td>0</td>\n",
       "      <td>3</td>\n",
       "      <td>CAX</td>\n",
       "      <td>LL_Pts_C</td>\n",
       "      <td>Shilton</td>\n",
       "      <td>-3</td>\n",
       "      <td>3</td>\n",
       "    </tr>\n",
       "    <tr>\n",
       "      <th>465</th>\n",
       "      <td>1</td>\n",
       "      <td>59</td>\n",
       "      <td>0</td>\n",
       "      <td>2</td>\n",
       "      <td>CAX</td>\n",
       "      <td>2_Pts_C</td>\n",
       "      <td>Pedro</td>\n",
       "      <td>-2</td>\n",
       "      <td>2</td>\n",
       "    </tr>\n",
       "    <tr>\n",
       "      <th>467</th>\n",
       "      <td>1</td>\n",
       "      <td>48</td>\n",
       "      <td>0</td>\n",
       "      <td>0</td>\n",
       "      <td>CAX</td>\n",
       "      <td>3_Pts_T</td>\n",
       "      <td>Eddy</td>\n",
       "      <td>0</td>\n",
       "      <td>0</td>\n",
       "    </tr>\n",
       "    <tr>\n",
       "      <th>469</th>\n",
       "      <td>1</td>\n",
       "      <td>24</td>\n",
       "      <td>0</td>\n",
       "      <td>0</td>\n",
       "      <td>CER</td>\n",
       "      <td>2_Pts_T</td>\n",
       "      <td>Paulo</td>\n",
       "      <td>0</td>\n",
       "      <td>0</td>\n",
       "    </tr>\n",
       "  </tbody>\n",
       "</table>\n",
       "<p>148 rows × 9 columns</p>\n",
       "</div>"
      ],
      "text/plain": [
       "     Quarto  Tempo  placar_casa  placar_visitante Time    Indicador      Nome  \\\n",
       "0         4   2400           67                63  NaN  fim_partida       NaN   \n",
       "2         4   2399           67                63  CAX      3_Pts_T  Da Silva   \n",
       "3         4   2397           67                63  CER     LL_Pts_C    Fuller   \n",
       "4         4   2397           66                63  CER     LL_Pts_C    Fuller   \n",
       "8         4   2391           65                63  CAX     LL_Pts_T   Shilton   \n",
       "..      ...    ...          ...               ...  ...          ...       ...   \n",
       "458       1     86            0                 3  CAX     LL_Pts_T   Shilton   \n",
       "460       1     86            0                 3  CAX     LL_Pts_C   Shilton   \n",
       "465       1     59            0                 2  CAX      2_Pts_C     Pedro   \n",
       "467       1     48            0                 0  CAX      3_Pts_T      Eddy   \n",
       "469       1     24            0                 0  CER      2_Pts_T     Paulo   \n",
       "\n",
       "     diferenca_placar_casa  diferenca_placar_visitante  \n",
       "0                        4                          -4  \n",
       "2                        4                          -4  \n",
       "3                        4                          -4  \n",
       "4                        3                          -3  \n",
       "8                        2                          -2  \n",
       "..                     ...                         ...  \n",
       "458                     -3                           3  \n",
       "460                     -3                           3  \n",
       "465                     -2                           2  \n",
       "467                      0                           0  \n",
       "469                      0                           0  \n",
       "\n",
       "[148 rows x 9 columns]"
      ]
     },
     "execution_count": 29,
     "metadata": {},
     "output_type": "execute_result"
    }
   ],
   "source": [
    "pontuacao = df[(df['Indicador'] == '3_Pts_C') | (df['Indicador'] == '3_Pts_T') |\n",
    "               (df['Indicador'] == '2_Pts_C') | (df['Indicador'] == '2_Pts_T') |\n",
    "               (df['Indicador'] == 'LL_Pts_C')| (df['Indicador'] == 'LL_Pts_T') |\n",
    "               (df['Indicador'] == 'EN')|\n",
    "               (df['Indicador'] == 'fim_partida')]\n",
    "pontuacao"
   ]
  },
  {
   "cell_type": "code",
   "execution_count": 30,
   "metadata": {},
   "outputs": [
    {
     "data": {
      "text/html": [
       "<div>\n",
       "<style scoped>\n",
       "    .dataframe tbody tr th:only-of-type {\n",
       "        vertical-align: middle;\n",
       "    }\n",
       "\n",
       "    .dataframe tbody tr th {\n",
       "        vertical-align: top;\n",
       "    }\n",
       "\n",
       "    .dataframe thead th {\n",
       "        text-align: right;\n",
       "    }\n",
       "</style>\n",
       "<table border=\"1\" class=\"dataframe\">\n",
       "  <thead>\n",
       "    <tr style=\"text-align: right;\">\n",
       "      <th></th>\n",
       "      <th>Quarto</th>\n",
       "      <th>Tempo</th>\n",
       "      <th>placar_casa</th>\n",
       "      <th>placar_visitante</th>\n",
       "      <th>Time</th>\n",
       "      <th>Indicador</th>\n",
       "      <th>Nome</th>\n",
       "      <th>diferenca_placar_casa</th>\n",
       "      <th>diferenca_placar_visitante</th>\n",
       "    </tr>\n",
       "  </thead>\n",
       "  <tbody>\n",
       "    <tr>\n",
       "      <th>0</th>\n",
       "      <td>1</td>\n",
       "      <td>24</td>\n",
       "      <td>0</td>\n",
       "      <td>0</td>\n",
       "      <td>CER</td>\n",
       "      <td>2_Pts_T</td>\n",
       "      <td>Paulo</td>\n",
       "      <td>0</td>\n",
       "      <td>0</td>\n",
       "    </tr>\n",
       "    <tr>\n",
       "      <th>1</th>\n",
       "      <td>1</td>\n",
       "      <td>48</td>\n",
       "      <td>0</td>\n",
       "      <td>0</td>\n",
       "      <td>CAX</td>\n",
       "      <td>3_Pts_T</td>\n",
       "      <td>Eddy</td>\n",
       "      <td>0</td>\n",
       "      <td>0</td>\n",
       "    </tr>\n",
       "    <tr>\n",
       "      <th>2</th>\n",
       "      <td>1</td>\n",
       "      <td>59</td>\n",
       "      <td>0</td>\n",
       "      <td>2</td>\n",
       "      <td>CAX</td>\n",
       "      <td>2_Pts_C</td>\n",
       "      <td>Pedro</td>\n",
       "      <td>-2</td>\n",
       "      <td>2</td>\n",
       "    </tr>\n",
       "    <tr>\n",
       "      <th>3</th>\n",
       "      <td>1</td>\n",
       "      <td>86</td>\n",
       "      <td>0</td>\n",
       "      <td>3</td>\n",
       "      <td>CAX</td>\n",
       "      <td>LL_Pts_C</td>\n",
       "      <td>Shilton</td>\n",
       "      <td>-3</td>\n",
       "      <td>3</td>\n",
       "    </tr>\n",
       "    <tr>\n",
       "      <th>4</th>\n",
       "      <td>1</td>\n",
       "      <td>86</td>\n",
       "      <td>0</td>\n",
       "      <td>3</td>\n",
       "      <td>CAX</td>\n",
       "      <td>LL_Pts_T</td>\n",
       "      <td>Shilton</td>\n",
       "      <td>-3</td>\n",
       "      <td>3</td>\n",
       "    </tr>\n",
       "    <tr>\n",
       "      <th>...</th>\n",
       "      <td>...</td>\n",
       "      <td>...</td>\n",
       "      <td>...</td>\n",
       "      <td>...</td>\n",
       "      <td>...</td>\n",
       "      <td>...</td>\n",
       "      <td>...</td>\n",
       "      <td>...</td>\n",
       "      <td>...</td>\n",
       "    </tr>\n",
       "    <tr>\n",
       "      <th>143</th>\n",
       "      <td>4</td>\n",
       "      <td>2391</td>\n",
       "      <td>65</td>\n",
       "      <td>63</td>\n",
       "      <td>CAX</td>\n",
       "      <td>LL_Pts_T</td>\n",
       "      <td>Shilton</td>\n",
       "      <td>2</td>\n",
       "      <td>-2</td>\n",
       "    </tr>\n",
       "    <tr>\n",
       "      <th>144</th>\n",
       "      <td>4</td>\n",
       "      <td>2397</td>\n",
       "      <td>66</td>\n",
       "      <td>63</td>\n",
       "      <td>CER</td>\n",
       "      <td>LL_Pts_C</td>\n",
       "      <td>Fuller</td>\n",
       "      <td>3</td>\n",
       "      <td>-3</td>\n",
       "    </tr>\n",
       "    <tr>\n",
       "      <th>145</th>\n",
       "      <td>4</td>\n",
       "      <td>2397</td>\n",
       "      <td>67</td>\n",
       "      <td>63</td>\n",
       "      <td>CER</td>\n",
       "      <td>LL_Pts_C</td>\n",
       "      <td>Fuller</td>\n",
       "      <td>4</td>\n",
       "      <td>-4</td>\n",
       "    </tr>\n",
       "    <tr>\n",
       "      <th>146</th>\n",
       "      <td>4</td>\n",
       "      <td>2399</td>\n",
       "      <td>67</td>\n",
       "      <td>63</td>\n",
       "      <td>CAX</td>\n",
       "      <td>3_Pts_T</td>\n",
       "      <td>Da Silva</td>\n",
       "      <td>4</td>\n",
       "      <td>-4</td>\n",
       "    </tr>\n",
       "    <tr>\n",
       "      <th>147</th>\n",
       "      <td>4</td>\n",
       "      <td>2400</td>\n",
       "      <td>67</td>\n",
       "      <td>63</td>\n",
       "      <td>NaN</td>\n",
       "      <td>fim_partida</td>\n",
       "      <td>NaN</td>\n",
       "      <td>4</td>\n",
       "      <td>-4</td>\n",
       "    </tr>\n",
       "  </tbody>\n",
       "</table>\n",
       "<p>148 rows × 9 columns</p>\n",
       "</div>"
      ],
      "text/plain": [
       "     Quarto  Tempo  placar_casa  placar_visitante Time    Indicador      Nome  \\\n",
       "0         1     24            0                 0  CER      2_Pts_T     Paulo   \n",
       "1         1     48            0                 0  CAX      3_Pts_T      Eddy   \n",
       "2         1     59            0                 2  CAX      2_Pts_C     Pedro   \n",
       "3         1     86            0                 3  CAX     LL_Pts_C   Shilton   \n",
       "4         1     86            0                 3  CAX     LL_Pts_T   Shilton   \n",
       "..      ...    ...          ...               ...  ...          ...       ...   \n",
       "143       4   2391           65                63  CAX     LL_Pts_T   Shilton   \n",
       "144       4   2397           66                63  CER     LL_Pts_C    Fuller   \n",
       "145       4   2397           67                63  CER     LL_Pts_C    Fuller   \n",
       "146       4   2399           67                63  CAX      3_Pts_T  Da Silva   \n",
       "147       4   2400           67                63  NaN  fim_partida       NaN   \n",
       "\n",
       "     diferenca_placar_casa  diferenca_placar_visitante  \n",
       "0                        0                           0  \n",
       "1                        0                           0  \n",
       "2                       -2                           2  \n",
       "3                       -3                           3  \n",
       "4                       -3                           3  \n",
       "..                     ...                         ...  \n",
       "143                      2                          -2  \n",
       "144                      3                          -3  \n",
       "145                      4                          -4  \n",
       "146                      4                          -4  \n",
       "147                      4                          -4  \n",
       "\n",
       "[148 rows x 9 columns]"
      ]
     },
     "execution_count": 30,
     "metadata": {},
     "output_type": "execute_result"
    }
   ],
   "source": [
    "# estamos invertendo os valores para deixar parecido com o jogo\n",
    "pontuacao = pontuacao[::-1]\n",
    "pontuacao.reset_index(drop=True, inplace=True)\n",
    "pontuacao"
   ]
  },
  {
   "cell_type": "code",
   "execution_count": 31,
   "metadata": {},
   "outputs": [],
   "source": [
    "# colocar a separação dos quartos nos gráficos\n",
    "quartos_duplicados = df['Quarto'].unique()\n",
    "if len(quartos_duplicados) == 4:\n",
    "    quartos = [600, 1200, 1800, 2400]\n",
    "elif len(quartos_duplicados) == 5:\n",
    "    quartos = [600, 1200, 1800, 2400, 2700]\n",
    "elif len(quartos_duplicados) == 6:\n",
    "    quartos = [600, 1200, 1800, 2400, 2700, 3000]\n",
    "elif len(quartos_duplicados) == 7:\n",
    "    quartos = [600, 1200, 1800, 2400, 2700, 3300]"
   ]
  },
  {
   "cell_type": "code",
   "execution_count": 32,
   "metadata": {},
   "outputs": [
    {
     "data": {
      "image/png": "[encoded data removed]",
      "text/plain": [
       "<Figure size 792x432 with 1 Axes>"
      ]
     },
     "metadata": {},
     "output_type": "display_data"
    }
   ],
   "source": [
    "plt.style.use('seaborn')\n",
    "sns.set_style('white')\n",
    "plt.figure(figsize=(11,6))\n",
    "tempo = pontuacao['Tempo']\n",
    "pontuacao1 = pontuacao['placar_casa']\n",
    "pontuacao2 = pontuacao['placar_visitante']\n",
    "plt.plot(tempo, pontuacao1, label='placar_casa')\n",
    "plt.plot(tempo, pontuacao2, label='placar_visitante')\n",
    "plt.legend(loc='upper left', bbox_to_anchor=(1, 1), prop={'size':14})\n",
    "for x in quartos:\n",
    "    plt.axvline(x, color='red', label=pontuacao.index, linestyle='--', alpha=0.4)\n",
    "plt.title('Gráfico do Placar Acumulativo do Jogo', fontsize=18)\n",
    "plt.ylabel('Pontos')\n",
    "plt.xlabel('Segundos')\n",
    "plt.tight_layout()\n",
    "plt.savefig('RELATORIO/teste.jpeg', format='jpg')"
   ]
  },
  {
   "cell_type": "code",
   "execution_count": 33,
   "metadata": {},
   "outputs": [
    {
     "data": {
      "image/png": "[encoded data removed]",
      "text/plain": [
       "<Figure size 1080x360 with 1 Axes>"
      ]
     },
     "metadata": {},
     "output_type": "display_data"
    }
   ],
   "source": [
    "plt.style.use('seaborn')\n",
    "sns.set_style('white')\n",
    "plt.figure(figsize=(15,5))\n",
    "plt.plot(pontuacao['Tempo'], pontuacao['diferenca_placar_casa'], label = 'diferença do placar')\n",
    "plt.title('Diferença do Placar Casa Durante a Partida', fontsize=18)\n",
    "plt.ylabel('Diferença do Placar', fontsize=16)\n",
    "plt.xlabel('Tempo de Jogo em Segundos', fontsize=16)\n",
    "plt.yticks(fontsize= 14)\n",
    "# plt.legend(loc='upper left', bbox_to_anchor=(1, 1), prop={'size':14})\n",
    "for x in quartos:\n",
    "    plt.axvline(x, color='red', label=pontuacao.index, linestyle='--', alpha=0.4)\n",
    "plt.axhline(0, color='orange', label=pontuacao.index, alpha=0.5)\n",
    "plt.savefig('RELATORIO/teste7.png', format='png')"
   ]
  },
  {
   "cell_type": "code",
   "execution_count": 34,
   "metadata": {},
   "outputs": [
    {
     "data": {
      "text/plain": [
       "<matplotlib.lines.Line2D at 0x209a6510a90>"
      ]
     },
     "execution_count": 34,
     "metadata": {},
     "output_type": "execute_result"
    },
    {
     "data": {
      "image/png": "[encoded data removed]",
      "text/plain": [
       "<Figure size 1080x360 with 1 Axes>"
      ]
     },
     "metadata": {},
     "output_type": "display_data"
    }
   ],
   "source": [
    "plt.style.use('seaborn')\n",
    "sns.set_style('white')\n",
    "plt.figure(figsize=(15,5))\n",
    "plt.plot(pontuacao['Tempo'], pontuacao['diferenca_placar_visitante'], label = 'Jogadao',color='green')\n",
    "plt.title('Diferença do Placar Visitante Durante a Partida', fontsize=18)\n",
    "plt.ylabel('Diferença do Placar', fontsize=16)\n",
    "plt.xlabel('Tempo de Jogo em Segundos', fontsize=16)\n",
    "plt.yticks(fontsize= 14)\n",
    "# plt.legend(loc='upper left', bbox_to_anchor=(1, 1), prop={'size':14})\n",
    "for x in quartos:\n",
    "    plt.axvline(x, color='red', label=pontuacao.index, linestyle='--', alpha=0.4)\n",
    "plt.axhline(0, color='orange', label=pontuacao.index, alpha=0.5)"
   ]
  },
  {
   "cell_type": "markdown",
   "metadata": {},
   "source": [
    "# Análise da Posse de Bola dos times"
   ]
  },
  {
   "cell_type": "markdown",
   "metadata": {},
   "source": [
    "#### precisa fazer mais uma conta \n",
    "\n",
    "como as paradas são realizadas no primeiro momento em que se realiza ponto, nós perdemos as ações anteriores antes desse ponto acontecer\n",
    "- A ideia é encontrar os pontos realizado (isso já foi realizado)\n",
    "- depois precisa pegar esse ponto inicial e comparar em qual posse de bola se encontra esse inicio \n",
    "- ai sim podemos pegar o início da posse das ações que aconteceram anteriormente "
   ]
  },
  {
   "cell_type": "code",
   "execution_count": 35,
   "metadata": {},
   "outputs": [],
   "source": [
    "posse_bola = df[(df['Indicador'] == '3_Pts_C') | (df['Indicador'] == '3_Pts_T') | \n",
    "                (df['Indicador'] == '2_Pts_C') | (df['Indicador'] == '2_Pts_T') |\n",
    "                (df['Indicador'] == 'LL_Pts_C') | (df['Indicador'] == 'LL_Pts_T') |\n",
    "                (df['Indicador'] == 'ER') | (df['Indicador'] == 'FC_O')|                \n",
    "                (df['Indicador'] == 'EN') | (df['Indicador'] == 'fim_partida')]"
   ]
  },
  {
   "cell_type": "code",
   "execution_count": 36,
   "metadata": {},
   "outputs": [
    {
     "data": {
      "text/html": [
       "<div>\n",
       "<style scoped>\n",
       "    .dataframe tbody tr th:only-of-type {\n",
       "        vertical-align: middle;\n",
       "    }\n",
       "\n",
       "    .dataframe tbody tr th {\n",
       "        vertical-align: top;\n",
       "    }\n",
       "\n",
       "    .dataframe thead th {\n",
       "        text-align: right;\n",
       "    }\n",
       "</style>\n",
       "<table border=\"1\" class=\"dataframe\">\n",
       "  <thead>\n",
       "    <tr style=\"text-align: right;\">\n",
       "      <th></th>\n",
       "      <th>Quarto</th>\n",
       "      <th>Tempo</th>\n",
       "      <th>placar_casa</th>\n",
       "      <th>placar_visitante</th>\n",
       "      <th>Time</th>\n",
       "      <th>Indicador</th>\n",
       "      <th>Nome</th>\n",
       "      <th>diferenca_placar_casa</th>\n",
       "      <th>diferenca_placar_visitante</th>\n",
       "    </tr>\n",
       "  </thead>\n",
       "  <tbody>\n",
       "    <tr>\n",
       "      <th>0</th>\n",
       "      <td>1</td>\n",
       "      <td>24</td>\n",
       "      <td>0</td>\n",
       "      <td>0</td>\n",
       "      <td>CER</td>\n",
       "      <td>2_Pts_T</td>\n",
       "      <td>Paulo</td>\n",
       "      <td>0</td>\n",
       "      <td>0</td>\n",
       "    </tr>\n",
       "    <tr>\n",
       "      <th>1</th>\n",
       "      <td>1</td>\n",
       "      <td>48</td>\n",
       "      <td>0</td>\n",
       "      <td>0</td>\n",
       "      <td>CAX</td>\n",
       "      <td>3_Pts_T</td>\n",
       "      <td>Eddy</td>\n",
       "      <td>0</td>\n",
       "      <td>0</td>\n",
       "    </tr>\n",
       "    <tr>\n",
       "      <th>2</th>\n",
       "      <td>1</td>\n",
       "      <td>59</td>\n",
       "      <td>0</td>\n",
       "      <td>2</td>\n",
       "      <td>CAX</td>\n",
       "      <td>2_Pts_C</td>\n",
       "      <td>Pedro</td>\n",
       "      <td>-2</td>\n",
       "      <td>2</td>\n",
       "    </tr>\n",
       "    <tr>\n",
       "      <th>3</th>\n",
       "      <td>1</td>\n",
       "      <td>77</td>\n",
       "      <td>0</td>\n",
       "      <td>2</td>\n",
       "      <td>CER</td>\n",
       "      <td>ER</td>\n",
       "      <td>Fuller</td>\n",
       "      <td>-2</td>\n",
       "      <td>2</td>\n",
       "    </tr>\n",
       "    <tr>\n",
       "      <th>4</th>\n",
       "      <td>1</td>\n",
       "      <td>86</td>\n",
       "      <td>0</td>\n",
       "      <td>3</td>\n",
       "      <td>CAX</td>\n",
       "      <td>LL_Pts_C</td>\n",
       "      <td>Shilton</td>\n",
       "      <td>-3</td>\n",
       "      <td>3</td>\n",
       "    </tr>\n",
       "    <tr>\n",
       "      <th>...</th>\n",
       "      <td>...</td>\n",
       "      <td>...</td>\n",
       "      <td>...</td>\n",
       "      <td>...</td>\n",
       "      <td>...</td>\n",
       "      <td>...</td>\n",
       "      <td>...</td>\n",
       "      <td>...</td>\n",
       "      <td>...</td>\n",
       "    </tr>\n",
       "    <tr>\n",
       "      <th>172</th>\n",
       "      <td>4</td>\n",
       "      <td>2391</td>\n",
       "      <td>65</td>\n",
       "      <td>63</td>\n",
       "      <td>CAX</td>\n",
       "      <td>LL_Pts_T</td>\n",
       "      <td>Shilton</td>\n",
       "      <td>2</td>\n",
       "      <td>-2</td>\n",
       "    </tr>\n",
       "    <tr>\n",
       "      <th>173</th>\n",
       "      <td>4</td>\n",
       "      <td>2397</td>\n",
       "      <td>66</td>\n",
       "      <td>63</td>\n",
       "      <td>CER</td>\n",
       "      <td>LL_Pts_C</td>\n",
       "      <td>Fuller</td>\n",
       "      <td>3</td>\n",
       "      <td>-3</td>\n",
       "    </tr>\n",
       "    <tr>\n",
       "      <th>174</th>\n",
       "      <td>4</td>\n",
       "      <td>2397</td>\n",
       "      <td>67</td>\n",
       "      <td>63</td>\n",
       "      <td>CER</td>\n",
       "      <td>LL_Pts_C</td>\n",
       "      <td>Fuller</td>\n",
       "      <td>4</td>\n",
       "      <td>-4</td>\n",
       "    </tr>\n",
       "    <tr>\n",
       "      <th>175</th>\n",
       "      <td>4</td>\n",
       "      <td>2399</td>\n",
       "      <td>67</td>\n",
       "      <td>63</td>\n",
       "      <td>CAX</td>\n",
       "      <td>3_Pts_T</td>\n",
       "      <td>Da Silva</td>\n",
       "      <td>4</td>\n",
       "      <td>-4</td>\n",
       "    </tr>\n",
       "    <tr>\n",
       "      <th>176</th>\n",
       "      <td>4</td>\n",
       "      <td>2400</td>\n",
       "      <td>67</td>\n",
       "      <td>63</td>\n",
       "      <td>NaN</td>\n",
       "      <td>fim_partida</td>\n",
       "      <td>NaN</td>\n",
       "      <td>4</td>\n",
       "      <td>-4</td>\n",
       "    </tr>\n",
       "  </tbody>\n",
       "</table>\n",
       "<p>177 rows × 9 columns</p>\n",
       "</div>"
      ],
      "text/plain": [
       "     Quarto  Tempo  placar_casa  placar_visitante Time    Indicador      Nome  \\\n",
       "0         1     24            0                 0  CER      2_Pts_T     Paulo   \n",
       "1         1     48            0                 0  CAX      3_Pts_T      Eddy   \n",
       "2         1     59            0                 2  CAX      2_Pts_C     Pedro   \n",
       "3         1     77            0                 2  CER           ER    Fuller   \n",
       "4         1     86            0                 3  CAX     LL_Pts_C   Shilton   \n",
       "..      ...    ...          ...               ...  ...          ...       ...   \n",
       "172       4   2391           65                63  CAX     LL_Pts_T   Shilton   \n",
       "173       4   2397           66                63  CER     LL_Pts_C    Fuller   \n",
       "174       4   2397           67                63  CER     LL_Pts_C    Fuller   \n",
       "175       4   2399           67                63  CAX      3_Pts_T  Da Silva   \n",
       "176       4   2400           67                63  NaN  fim_partida       NaN   \n",
       "\n",
       "     diferenca_placar_casa  diferenca_placar_visitante  \n",
       "0                        0                           0  \n",
       "1                        0                           0  \n",
       "2                       -2                           2  \n",
       "3                       -2                           2  \n",
       "4                       -3                           3  \n",
       "..                     ...                         ...  \n",
       "172                      2                          -2  \n",
       "173                      3                          -3  \n",
       "174                      4                          -4  \n",
       "175                      4                          -4  \n",
       "176                      4                          -4  \n",
       "\n",
       "[177 rows x 9 columns]"
      ]
     },
     "execution_count": 36,
     "metadata": {},
     "output_type": "execute_result"
    }
   ],
   "source": [
    "# estamos invertendo os valores para deixar parecido com o jogo\n",
    "posse_bola = posse_bola[::-1]\n",
    "posse_bola.reset_index(drop=True, inplace=True)\n",
    "posse_bola"
   ]
  },
  {
   "cell_type": "code",
   "execution_count": 37,
   "metadata": {},
   "outputs": [],
   "source": [
    "posse_bola.to_csv('tempo2.csv')"
   ]
  },
  {
   "cell_type": "markdown",
   "metadata": {},
   "source": [
    "# Está quase certo\n",
    "# Só está errado o início e o final dos indicadores técnicos, mas da para consertar\n",
    "# precisa analisar as situaçãos especiais (cesta e falta)"
   ]
  },
  {
   "cell_type": "code",
   "execution_count": 38,
   "metadata": {},
   "outputs": [
    {
     "data": {
      "text/plain": [
       "'CER'"
      ]
     },
     "execution_count": 38,
     "metadata": {},
     "output_type": "execute_result"
    }
   ],
   "source": [
    "sigla_time_a"
   ]
  },
  {
   "cell_type": "code",
   "execution_count": 39,
   "metadata": {},
   "outputs": [
    {
     "data": {
      "text/plain": [
       "'CAX'"
      ]
     },
     "execution_count": 39,
     "metadata": {},
     "output_type": "execute_result"
    }
   ],
   "source": [
    "sigla_time_b"
   ]
  },
  {
   "cell_type": "code",
   "execution_count": 40,
   "metadata": {},
   "outputs": [],
   "source": [
    "lstime_b = [[]]\n",
    "lstime_a = [[]]\n",
    "\n",
    "for a in posse_bola.itertuples():\n",
    "    if a.Time not in [sigla_time_b]:\n",
    "        idx = a.Index - 1\n",
    "        if idx >= 0:\n",
    "            cc = posse_bola.loc[idx]\n",
    "            lss = [\n",
    "                cc.Time,\n",
    "                cc.Tempo,\n",
    "                cc.Indicador,\n",
    "                cc.diferenca_placar_casa,\n",
    "                cc.diferenca_placar_visitante,\n",
    "            ]\n",
    "            lstime_b.append(lss)\n",
    "        else:\n",
    "            pass\n",
    "\n",
    "    if a.Time not in [sigla_time_a]:\n",
    "        idx = a.Index - 1\n",
    "        if idx >= 0:\n",
    "            cc = posse_bola.loc[idx]\n",
    "            lss = [\n",
    "                cc.Time,\n",
    "                cc.Tempo,\n",
    "                cc.Indicador,\n",
    "                cc.diferenca_placar_casa,\n",
    "                cc.diferenca_placar_visitante,\n",
    "            ]\n",
    "            lstime_a.append(lss)\n",
    "        else:\n",
    "            pass"
   ]
  },
  {
   "cell_type": "code",
   "execution_count": 41,
   "metadata": {},
   "outputs": [],
   "source": [
    "df_time_b = pd.DataFrame(\n",
    "    lstime_b, columns=[\"Time\", \"Tempo\", \"Indicador\", \"dif_casa\", \"dif_visita\"])"
   ]
  },
  {
   "cell_type": "code",
   "execution_count": 42,
   "metadata": {},
   "outputs": [
    {
     "data": {
      "text/html": [
       "<div>\n",
       "<style scoped>\n",
       "    .dataframe tbody tr th:only-of-type {\n",
       "        vertical-align: middle;\n",
       "    }\n",
       "\n",
       "    .dataframe tbody tr th {\n",
       "        vertical-align: top;\n",
       "    }\n",
       "\n",
       "    .dataframe thead th {\n",
       "        text-align: right;\n",
       "    }\n",
       "</style>\n",
       "<table border=\"1\" class=\"dataframe\">\n",
       "  <thead>\n",
       "    <tr style=\"text-align: right;\">\n",
       "      <th></th>\n",
       "      <th>Time</th>\n",
       "      <th>Tempo</th>\n",
       "      <th>Indicador</th>\n",
       "      <th>dif_casa</th>\n",
       "      <th>dif_visita</th>\n",
       "    </tr>\n",
       "  </thead>\n",
       "  <tbody>\n",
       "    <tr>\n",
       "      <th>0</th>\n",
       "      <td>None</td>\n",
       "      <td>NaN</td>\n",
       "      <td>None</td>\n",
       "      <td>NaN</td>\n",
       "      <td>NaN</td>\n",
       "    </tr>\n",
       "    <tr>\n",
       "      <th>1</th>\n",
       "      <td>CAX</td>\n",
       "      <td>59.0</td>\n",
       "      <td>2_Pts_C</td>\n",
       "      <td>-2.0</td>\n",
       "      <td>2.0</td>\n",
       "    </tr>\n",
       "    <tr>\n",
       "      <th>2</th>\n",
       "      <td>CAX</td>\n",
       "      <td>95.0</td>\n",
       "      <td>ER</td>\n",
       "      <td>-3.0</td>\n",
       "      <td>3.0</td>\n",
       "    </tr>\n",
       "    <tr>\n",
       "      <th>3</th>\n",
       "      <td>CAX</td>\n",
       "      <td>124.0</td>\n",
       "      <td>LL_Pts_C</td>\n",
       "      <td>-6.0</td>\n",
       "      <td>6.0</td>\n",
       "    </tr>\n",
       "    <tr>\n",
       "      <th>4</th>\n",
       "      <td>CER</td>\n",
       "      <td>146.0</td>\n",
       "      <td>LL_Pts_C</td>\n",
       "      <td>-5.0</td>\n",
       "      <td>5.0</td>\n",
       "    </tr>\n",
       "    <tr>\n",
       "      <th>...</th>\n",
       "      <td>...</td>\n",
       "      <td>...</td>\n",
       "      <td>...</td>\n",
       "      <td>...</td>\n",
       "      <td>...</td>\n",
       "    </tr>\n",
       "    <tr>\n",
       "      <th>81</th>\n",
       "      <td>CAX</td>\n",
       "      <td>2379.0</td>\n",
       "      <td>ER</td>\n",
       "      <td>2.0</td>\n",
       "      <td>-2.0</td>\n",
       "    </tr>\n",
       "    <tr>\n",
       "      <th>82</th>\n",
       "      <td>CER</td>\n",
       "      <td>2385.0</td>\n",
       "      <td>LL_Pts_C</td>\n",
       "      <td>3.0</td>\n",
       "      <td>-3.0</td>\n",
       "    </tr>\n",
       "    <tr>\n",
       "      <th>83</th>\n",
       "      <td>CAX</td>\n",
       "      <td>2391.0</td>\n",
       "      <td>LL_Pts_T</td>\n",
       "      <td>2.0</td>\n",
       "      <td>-2.0</td>\n",
       "    </tr>\n",
       "    <tr>\n",
       "      <th>84</th>\n",
       "      <td>CER</td>\n",
       "      <td>2397.0</td>\n",
       "      <td>LL_Pts_C</td>\n",
       "      <td>3.0</td>\n",
       "      <td>-3.0</td>\n",
       "    </tr>\n",
       "    <tr>\n",
       "      <th>85</th>\n",
       "      <td>CAX</td>\n",
       "      <td>2399.0</td>\n",
       "      <td>3_Pts_T</td>\n",
       "      <td>4.0</td>\n",
       "      <td>-4.0</td>\n",
       "    </tr>\n",
       "  </tbody>\n",
       "</table>\n",
       "<p>86 rows × 5 columns</p>\n",
       "</div>"
      ],
      "text/plain": [
       "    Time   Tempo Indicador  dif_casa  dif_visita\n",
       "0   None     NaN      None       NaN         NaN\n",
       "1    CAX    59.0   2_Pts_C      -2.0         2.0\n",
       "2    CAX    95.0        ER      -3.0         3.0\n",
       "3    CAX   124.0  LL_Pts_C      -6.0         6.0\n",
       "4    CER   146.0  LL_Pts_C      -5.0         5.0\n",
       "..   ...     ...       ...       ...         ...\n",
       "81   CAX  2379.0        ER       2.0        -2.0\n",
       "82   CER  2385.0  LL_Pts_C       3.0        -3.0\n",
       "83   CAX  2391.0  LL_Pts_T       2.0        -2.0\n",
       "84   CER  2397.0  LL_Pts_C       3.0        -3.0\n",
       "85   CAX  2399.0   3_Pts_T       4.0        -4.0\n",
       "\n",
       "[86 rows x 5 columns]"
      ]
     },
     "execution_count": 42,
     "metadata": {},
     "output_type": "execute_result"
    }
   ],
   "source": [
    "df_time_b"
   ]
  },
  {
   "cell_type": "code",
   "execution_count": 43,
   "metadata": {},
   "outputs": [],
   "source": [
    "df_time_b.dropna(how=\"any\", inplace=True, axis=\"index\")\n",
    "df_time_b = df_time_b[df_time_b.Time.str.contains(sigla_time_b)]"
   ]
  },
  {
   "cell_type": "code",
   "execution_count": 44,
   "metadata": {},
   "outputs": [],
   "source": [
    "df_time_a = pd.DataFrame(\n",
    "    lstime_a, columns=[\"Time\", \"Tempo\", \"Indicador\", \"dif_casa\", \"dif_visita\"])"
   ]
  },
  {
   "cell_type": "code",
   "execution_count": 45,
   "metadata": {},
   "outputs": [],
   "source": [
    "df_time_a.dropna(how=\"any\", inplace=True, axis=\"index\")\n",
    "df_time_a = df_time_a[df_time_a.Time.str.contains(sigla_time_a)]"
   ]
  },
  {
   "cell_type": "code",
   "execution_count": 46,
   "metadata": {},
   "outputs": [],
   "source": [
    "posse_de_bola = pd.concat([df_time_b, df_time_a], ignore_index=True)\n",
    "posse_de_bola.sort_values(by=\"Tempo\", inplace=True)\n",
    "posse_de_bola.reset_index(inplace=True, drop=True)"
   ]
  },
  {
   "cell_type": "code",
   "execution_count": 47,
   "metadata": {},
   "outputs": [
    {
     "data": {
      "text/plain": [
       "24.0"
      ]
     },
     "execution_count": 47,
     "metadata": {},
     "output_type": "execute_result"
    }
   ],
   "source": [
    "posse_de_bola[\"Tempo\"].loc[0]"
   ]
  },
  {
   "cell_type": "code",
   "execution_count": 48,
   "metadata": {},
   "outputs": [
    {
     "data": {
      "text/html": [
       "<div>\n",
       "<style scoped>\n",
       "    .dataframe tbody tr th:only-of-type {\n",
       "        vertical-align: middle;\n",
       "    }\n",
       "\n",
       "    .dataframe tbody tr th {\n",
       "        vertical-align: top;\n",
       "    }\n",
       "\n",
       "    .dataframe thead th {\n",
       "        text-align: right;\n",
       "    }\n",
       "</style>\n",
       "<table border=\"1\" class=\"dataframe\">\n",
       "  <thead>\n",
       "    <tr style=\"text-align: right;\">\n",
       "      <th></th>\n",
       "      <th>Time</th>\n",
       "      <th>Tempo</th>\n",
       "      <th>Indicador</th>\n",
       "      <th>dif_casa</th>\n",
       "      <th>dif_visita</th>\n",
       "    </tr>\n",
       "  </thead>\n",
       "  <tbody>\n",
       "    <tr>\n",
       "      <th>0</th>\n",
       "      <td>CER</td>\n",
       "      <td>24.0</td>\n",
       "      <td>2_Pts_T</td>\n",
       "      <td>0.0</td>\n",
       "      <td>0.0</td>\n",
       "    </tr>\n",
       "    <tr>\n",
       "      <th>1</th>\n",
       "      <td>CAX</td>\n",
       "      <td>35.0</td>\n",
       "      <td>2_Pts_C</td>\n",
       "      <td>-2.0</td>\n",
       "      <td>2.0</td>\n",
       "    </tr>\n",
       "    <tr>\n",
       "      <th>2</th>\n",
       "      <td>CER</td>\n",
       "      <td>18.0</td>\n",
       "      <td>ER</td>\n",
       "      <td>-2.0</td>\n",
       "      <td>2.0</td>\n",
       "    </tr>\n",
       "    <tr>\n",
       "      <th>3</th>\n",
       "      <td>CAX</td>\n",
       "      <td>18.0</td>\n",
       "      <td>ER</td>\n",
       "      <td>-3.0</td>\n",
       "      <td>3.0</td>\n",
       "    </tr>\n",
       "    <tr>\n",
       "      <th>4</th>\n",
       "      <td>CER</td>\n",
       "      <td>6.0</td>\n",
       "      <td>ER</td>\n",
       "      <td>-3.0</td>\n",
       "      <td>3.0</td>\n",
       "    </tr>\n",
       "    <tr>\n",
       "      <th>...</th>\n",
       "      <td>...</td>\n",
       "      <td>...</td>\n",
       "      <td>...</td>\n",
       "      <td>...</td>\n",
       "      <td>...</td>\n",
       "    </tr>\n",
       "    <tr>\n",
       "      <th>125</th>\n",
       "      <td>CAX</td>\n",
       "      <td>11.0</td>\n",
       "      <td>ER</td>\n",
       "      <td>2.0</td>\n",
       "      <td>-2.0</td>\n",
       "    </tr>\n",
       "    <tr>\n",
       "      <th>126</th>\n",
       "      <td>CER</td>\n",
       "      <td>6.0</td>\n",
       "      <td>LL_Pts_C</td>\n",
       "      <td>4.0</td>\n",
       "      <td>-4.0</td>\n",
       "    </tr>\n",
       "    <tr>\n",
       "      <th>127</th>\n",
       "      <td>CAX</td>\n",
       "      <td>6.0</td>\n",
       "      <td>LL_Pts_T</td>\n",
       "      <td>2.0</td>\n",
       "      <td>-2.0</td>\n",
       "    </tr>\n",
       "    <tr>\n",
       "      <th>128</th>\n",
       "      <td>CER</td>\n",
       "      <td>6.0</td>\n",
       "      <td>LL_Pts_C</td>\n",
       "      <td>4.0</td>\n",
       "      <td>-4.0</td>\n",
       "    </tr>\n",
       "    <tr>\n",
       "      <th>129</th>\n",
       "      <td>CAX</td>\n",
       "      <td>2.0</td>\n",
       "      <td>3_Pts_T</td>\n",
       "      <td>4.0</td>\n",
       "      <td>-4.0</td>\n",
       "    </tr>\n",
       "  </tbody>\n",
       "</table>\n",
       "<p>130 rows × 5 columns</p>\n",
       "</div>"
      ],
      "text/plain": [
       "    Time  Tempo Indicador  dif_casa  dif_visita\n",
       "0    CER   24.0   2_Pts_T       0.0         0.0\n",
       "1    CAX   35.0   2_Pts_C      -2.0         2.0\n",
       "2    CER   18.0        ER      -2.0         2.0\n",
       "3    CAX   18.0        ER      -3.0         3.0\n",
       "4    CER    6.0        ER      -3.0         3.0\n",
       "..   ...    ...       ...       ...         ...\n",
       "125  CAX   11.0        ER       2.0        -2.0\n",
       "126  CER    6.0  LL_Pts_C       4.0        -4.0\n",
       "127  CAX    6.0  LL_Pts_T       2.0        -2.0\n",
       "128  CER    6.0  LL_Pts_C       4.0        -4.0\n",
       "129  CAX    2.0   3_Pts_T       4.0        -4.0\n",
       "\n",
       "[130 rows x 5 columns]"
      ]
     },
     "execution_count": 48,
     "metadata": {},
     "output_type": "execute_result"
    }
   ],
   "source": [
    "tempo = posse_de_bola[\"Tempo\"].diff()\n",
    "tempo.loc[0] = posse_de_bola[\"Tempo\"].loc[0]\n",
    "posse_de_bola[\"Tempo\"] = tempo\n",
    "posse_de_bola"
   ]
  },
  {
   "cell_type": "code",
   "execution_count": 51,
   "metadata": {},
   "outputs": [],
   "source": [
    "posse_de_bola.loc[:, (\"diff_pontuacao\")] = posse_de_bola.loc[:, (\"dif_casa\")].abs()\n",
    "df_time_a.loc[:, (\"diff_pontuacao\")] = df_time_a.loc[:, (\"dif_casa\")].abs()\n",
    "df_time_b.loc[:, (\"diff_pontuacao\")] = df_time_b.loc[:, (\"dif_casa\")].abs()"
   ]
  },
  {
   "cell_type": "markdown",
   "metadata": {},
   "source": [
    "# Análises da posse de bola"
   ]
  },
  {
   "cell_type": "code",
   "execution_count": null,
   "metadata": {},
   "outputs": [],
   "source": [
    "# sns.relplot(data=df_time_a, y='Tempo', x='diff_pontuacao')"
   ]
  },
  {
   "cell_type": "code",
   "execution_count": null,
   "metadata": {},
   "outputs": [],
   "source": [
    "# sns.relplot(data=df_time_b, y='Tempo', x='diff_pontuacao', color='g')"
   ]
  },
  {
   "cell_type": "code",
   "execution_count": null,
   "metadata": {},
   "outputs": [],
   "source": [
    "# sns.lmplot(data=df_time_a, y='Tempo', x='diff_pontuacao')"
   ]
  },
  {
   "cell_type": "code",
   "execution_count": null,
   "metadata": {},
   "outputs": [],
   "source": [
    "# sns.lmplot(data=df_time_b, y='Tempo', x='diff_pontuacao')"
   ]
  },
  {
   "cell_type": "code",
   "execution_count": null,
   "metadata": {},
   "outputs": [],
   "source": [
    "'''teste = posse_de_bola[posse_de_bola['Time']==sigla_time_a]\n",
    "teste.reset_index(inplace=True,drop=True)\n",
    "teste1 = posse_de_bola[posse_de_bola['Time']==sigla_time_b]\n",
    "teste1.reset_index(inplace=True,drop=True)'''"
   ]
  },
  {
   "cell_type": "code",
   "execution_count": null,
   "metadata": {},
   "outputs": [],
   "source": [
    "'''grafico_posse_time1 = teste\n",
    "grafico_posse_time1.reset_index(inplace=True)\n",
    "grafico_posse_time2 = teste1\n",
    "grafico_posse_time2.reset_index(inplace=True)'''"
   ]
  },
  {
   "cell_type": "code",
   "execution_count": 55,
   "metadata": {},
   "outputs": [],
   "source": [
    "lu_time_a = posse_de_bola\n",
    "lu_time_a['Time_Novo'] = 0"
   ]
  },
  {
   "cell_type": "code",
   "execution_count": 56,
   "metadata": {},
   "outputs": [],
   "source": [
    "for x in range(len(posse_de_bola)):\n",
    "    if lu_time_a['Time'][x] == sigla_time_a:\n",
    "        lu_time_a.loc[x, 'Time_Novo'] = lu_time_a['Tempo'][x]\n",
    "    else:\n",
    "        pass"
   ]
  },
  {
   "cell_type": "code",
   "execution_count": 57,
   "metadata": {},
   "outputs": [
    {
     "data": {
      "text/html": [
       "<div>\n",
       "<style scoped>\n",
       "    .dataframe tbody tr th:only-of-type {\n",
       "        vertical-align: middle;\n",
       "    }\n",
       "\n",
       "    .dataframe tbody tr th {\n",
       "        vertical-align: top;\n",
       "    }\n",
       "\n",
       "    .dataframe thead th {\n",
       "        text-align: right;\n",
       "    }\n",
       "</style>\n",
       "<table border=\"1\" class=\"dataframe\">\n",
       "  <thead>\n",
       "    <tr style=\"text-align: right;\">\n",
       "      <th></th>\n",
       "      <th>Time</th>\n",
       "      <th>Tempo</th>\n",
       "      <th>Indicador</th>\n",
       "      <th>dif_casa</th>\n",
       "      <th>dif_visita</th>\n",
       "      <th>diff_pontuacao</th>\n",
       "      <th>Time_Novo</th>\n",
       "    </tr>\n",
       "  </thead>\n",
       "  <tbody>\n",
       "    <tr>\n",
       "      <th>0</th>\n",
       "      <td>CER</td>\n",
       "      <td>24.0</td>\n",
       "      <td>2_Pts_T</td>\n",
       "      <td>0.0</td>\n",
       "      <td>0.0</td>\n",
       "      <td>0.0</td>\n",
       "      <td>24.0</td>\n",
       "    </tr>\n",
       "    <tr>\n",
       "      <th>1</th>\n",
       "      <td>CAX</td>\n",
       "      <td>35.0</td>\n",
       "      <td>2_Pts_C</td>\n",
       "      <td>-2.0</td>\n",
       "      <td>2.0</td>\n",
       "      <td>2.0</td>\n",
       "      <td>0.0</td>\n",
       "    </tr>\n",
       "    <tr>\n",
       "      <th>2</th>\n",
       "      <td>CER</td>\n",
       "      <td>18.0</td>\n",
       "      <td>ER</td>\n",
       "      <td>-2.0</td>\n",
       "      <td>2.0</td>\n",
       "      <td>2.0</td>\n",
       "      <td>18.0</td>\n",
       "    </tr>\n",
       "    <tr>\n",
       "      <th>3</th>\n",
       "      <td>CAX</td>\n",
       "      <td>18.0</td>\n",
       "      <td>ER</td>\n",
       "      <td>-3.0</td>\n",
       "      <td>3.0</td>\n",
       "      <td>3.0</td>\n",
       "      <td>0.0</td>\n",
       "    </tr>\n",
       "    <tr>\n",
       "      <th>4</th>\n",
       "      <td>CER</td>\n",
       "      <td>6.0</td>\n",
       "      <td>ER</td>\n",
       "      <td>-3.0</td>\n",
       "      <td>3.0</td>\n",
       "      <td>3.0</td>\n",
       "      <td>6.0</td>\n",
       "    </tr>\n",
       "    <tr>\n",
       "      <th>...</th>\n",
       "      <td>...</td>\n",
       "      <td>...</td>\n",
       "      <td>...</td>\n",
       "      <td>...</td>\n",
       "      <td>...</td>\n",
       "      <td>...</td>\n",
       "      <td>...</td>\n",
       "    </tr>\n",
       "    <tr>\n",
       "      <th>125</th>\n",
       "      <td>CAX</td>\n",
       "      <td>11.0</td>\n",
       "      <td>ER</td>\n",
       "      <td>2.0</td>\n",
       "      <td>-2.0</td>\n",
       "      <td>2.0</td>\n",
       "      <td>0.0</td>\n",
       "    </tr>\n",
       "    <tr>\n",
       "      <th>126</th>\n",
       "      <td>CER</td>\n",
       "      <td>6.0</td>\n",
       "      <td>LL_Pts_C</td>\n",
       "      <td>4.0</td>\n",
       "      <td>-4.0</td>\n",
       "      <td>4.0</td>\n",
       "      <td>6.0</td>\n",
       "    </tr>\n",
       "    <tr>\n",
       "      <th>127</th>\n",
       "      <td>CAX</td>\n",
       "      <td>6.0</td>\n",
       "      <td>LL_Pts_T</td>\n",
       "      <td>2.0</td>\n",
       "      <td>-2.0</td>\n",
       "      <td>2.0</td>\n",
       "      <td>0.0</td>\n",
       "    </tr>\n",
       "    <tr>\n",
       "      <th>128</th>\n",
       "      <td>CER</td>\n",
       "      <td>6.0</td>\n",
       "      <td>LL_Pts_C</td>\n",
       "      <td>4.0</td>\n",
       "      <td>-4.0</td>\n",
       "      <td>4.0</td>\n",
       "      <td>6.0</td>\n",
       "    </tr>\n",
       "    <tr>\n",
       "      <th>129</th>\n",
       "      <td>CAX</td>\n",
       "      <td>2.0</td>\n",
       "      <td>3_Pts_T</td>\n",
       "      <td>4.0</td>\n",
       "      <td>-4.0</td>\n",
       "      <td>4.0</td>\n",
       "      <td>0.0</td>\n",
       "    </tr>\n",
       "  </tbody>\n",
       "</table>\n",
       "<p>130 rows × 7 columns</p>\n",
       "</div>"
      ],
      "text/plain": [
       "    Time  Tempo Indicador  dif_casa  dif_visita  diff_pontuacao  Time_Novo\n",
       "0    CER   24.0   2_Pts_T       0.0         0.0             0.0       24.0\n",
       "1    CAX   35.0   2_Pts_C      -2.0         2.0             2.0        0.0\n",
       "2    CER   18.0        ER      -2.0         2.0             2.0       18.0\n",
       "3    CAX   18.0        ER      -3.0         3.0             3.0        0.0\n",
       "4    CER    6.0        ER      -3.0         3.0             3.0        6.0\n",
       "..   ...    ...       ...       ...         ...             ...        ...\n",
       "125  CAX   11.0        ER       2.0        -2.0             2.0        0.0\n",
       "126  CER    6.0  LL_Pts_C       4.0        -4.0             4.0        6.0\n",
       "127  CAX    6.0  LL_Pts_T       2.0        -2.0             2.0        0.0\n",
       "128  CER    6.0  LL_Pts_C       4.0        -4.0             4.0        6.0\n",
       "129  CAX    2.0   3_Pts_T       4.0        -4.0             4.0        0.0\n",
       "\n",
       "[130 rows x 7 columns]"
      ]
     },
     "execution_count": 57,
     "metadata": {},
     "output_type": "execute_result"
    }
   ],
   "source": [
    "lu_time_a"
   ]
  },
  {
   "cell_type": "code",
   "execution_count": 58,
   "metadata": {},
   "outputs": [],
   "source": [
    "grafico_posse_time1 = lu_time_a\n",
    "grafico_posse_time1.reset_index(inplace=True)"
   ]
  },
  {
   "cell_type": "code",
   "execution_count": 59,
   "metadata": {},
   "outputs": [
    {
     "data": {
      "text/html": [
       "<div>\n",
       "<style scoped>\n",
       "    .dataframe tbody tr th:only-of-type {\n",
       "        vertical-align: middle;\n",
       "    }\n",
       "\n",
       "    .dataframe tbody tr th {\n",
       "        vertical-align: top;\n",
       "    }\n",
       "\n",
       "    .dataframe thead th {\n",
       "        text-align: right;\n",
       "    }\n",
       "</style>\n",
       "<table border=\"1\" class=\"dataframe\">\n",
       "  <thead>\n",
       "    <tr style=\"text-align: right;\">\n",
       "      <th></th>\n",
       "      <th>index</th>\n",
       "      <th>Time</th>\n",
       "      <th>Tempo</th>\n",
       "      <th>Indicador</th>\n",
       "      <th>dif_casa</th>\n",
       "      <th>dif_visita</th>\n",
       "      <th>diff_pontuacao</th>\n",
       "      <th>Time_Novo</th>\n",
       "    </tr>\n",
       "  </thead>\n",
       "  <tbody>\n",
       "    <tr>\n",
       "      <th>0</th>\n",
       "      <td>0</td>\n",
       "      <td>CER</td>\n",
       "      <td>24.0</td>\n",
       "      <td>2_Pts_T</td>\n",
       "      <td>0.0</td>\n",
       "      <td>0.0</td>\n",
       "      <td>0.0</td>\n",
       "      <td>24.0</td>\n",
       "    </tr>\n",
       "    <tr>\n",
       "      <th>1</th>\n",
       "      <td>1</td>\n",
       "      <td>CAX</td>\n",
       "      <td>35.0</td>\n",
       "      <td>2_Pts_C</td>\n",
       "      <td>-2.0</td>\n",
       "      <td>2.0</td>\n",
       "      <td>2.0</td>\n",
       "      <td>0.0</td>\n",
       "    </tr>\n",
       "    <tr>\n",
       "      <th>2</th>\n",
       "      <td>2</td>\n",
       "      <td>CER</td>\n",
       "      <td>18.0</td>\n",
       "      <td>ER</td>\n",
       "      <td>-2.0</td>\n",
       "      <td>2.0</td>\n",
       "      <td>2.0</td>\n",
       "      <td>18.0</td>\n",
       "    </tr>\n",
       "    <tr>\n",
       "      <th>3</th>\n",
       "      <td>3</td>\n",
       "      <td>CAX</td>\n",
       "      <td>18.0</td>\n",
       "      <td>ER</td>\n",
       "      <td>-3.0</td>\n",
       "      <td>3.0</td>\n",
       "      <td>3.0</td>\n",
       "      <td>0.0</td>\n",
       "    </tr>\n",
       "    <tr>\n",
       "      <th>4</th>\n",
       "      <td>4</td>\n",
       "      <td>CER</td>\n",
       "      <td>6.0</td>\n",
       "      <td>ER</td>\n",
       "      <td>-3.0</td>\n",
       "      <td>3.0</td>\n",
       "      <td>3.0</td>\n",
       "      <td>6.0</td>\n",
       "    </tr>\n",
       "    <tr>\n",
       "      <th>...</th>\n",
       "      <td>...</td>\n",
       "      <td>...</td>\n",
       "      <td>...</td>\n",
       "      <td>...</td>\n",
       "      <td>...</td>\n",
       "      <td>...</td>\n",
       "      <td>...</td>\n",
       "      <td>...</td>\n",
       "    </tr>\n",
       "    <tr>\n",
       "      <th>125</th>\n",
       "      <td>125</td>\n",
       "      <td>CAX</td>\n",
       "      <td>11.0</td>\n",
       "      <td>ER</td>\n",
       "      <td>2.0</td>\n",
       "      <td>-2.0</td>\n",
       "      <td>2.0</td>\n",
       "      <td>0.0</td>\n",
       "    </tr>\n",
       "    <tr>\n",
       "      <th>126</th>\n",
       "      <td>126</td>\n",
       "      <td>CER</td>\n",
       "      <td>6.0</td>\n",
       "      <td>LL_Pts_C</td>\n",
       "      <td>4.0</td>\n",
       "      <td>-4.0</td>\n",
       "      <td>4.0</td>\n",
       "      <td>6.0</td>\n",
       "    </tr>\n",
       "    <tr>\n",
       "      <th>127</th>\n",
       "      <td>127</td>\n",
       "      <td>CAX</td>\n",
       "      <td>6.0</td>\n",
       "      <td>LL_Pts_T</td>\n",
       "      <td>2.0</td>\n",
       "      <td>-2.0</td>\n",
       "      <td>2.0</td>\n",
       "      <td>0.0</td>\n",
       "    </tr>\n",
       "    <tr>\n",
       "      <th>128</th>\n",
       "      <td>128</td>\n",
       "      <td>CER</td>\n",
       "      <td>6.0</td>\n",
       "      <td>LL_Pts_C</td>\n",
       "      <td>4.0</td>\n",
       "      <td>-4.0</td>\n",
       "      <td>4.0</td>\n",
       "      <td>6.0</td>\n",
       "    </tr>\n",
       "    <tr>\n",
       "      <th>129</th>\n",
       "      <td>129</td>\n",
       "      <td>CAX</td>\n",
       "      <td>2.0</td>\n",
       "      <td>3_Pts_T</td>\n",
       "      <td>4.0</td>\n",
       "      <td>-4.0</td>\n",
       "      <td>4.0</td>\n",
       "      <td>0.0</td>\n",
       "    </tr>\n",
       "  </tbody>\n",
       "</table>\n",
       "<p>130 rows × 8 columns</p>\n",
       "</div>"
      ],
      "text/plain": [
       "     index Time  Tempo Indicador  dif_casa  dif_visita  diff_pontuacao  \\\n",
       "0        0  CER   24.0   2_Pts_T       0.0         0.0             0.0   \n",
       "1        1  CAX   35.0   2_Pts_C      -2.0         2.0             2.0   \n",
       "2        2  CER   18.0        ER      -2.0         2.0             2.0   \n",
       "3        3  CAX   18.0        ER      -3.0         3.0             3.0   \n",
       "4        4  CER    6.0        ER      -3.0         3.0             3.0   \n",
       "..     ...  ...    ...       ...       ...         ...             ...   \n",
       "125    125  CAX   11.0        ER       2.0        -2.0             2.0   \n",
       "126    126  CER    6.0  LL_Pts_C       4.0        -4.0             4.0   \n",
       "127    127  CAX    6.0  LL_Pts_T       2.0        -2.0             2.0   \n",
       "128    128  CER    6.0  LL_Pts_C       4.0        -4.0             4.0   \n",
       "129    129  CAX    2.0   3_Pts_T       4.0        -4.0             4.0   \n",
       "\n",
       "     Time_Novo  \n",
       "0         24.0  \n",
       "1          0.0  \n",
       "2         18.0  \n",
       "3          0.0  \n",
       "4          6.0  \n",
       "..         ...  \n",
       "125        0.0  \n",
       "126        6.0  \n",
       "127        0.0  \n",
       "128        6.0  \n",
       "129        0.0  \n",
       "\n",
       "[130 rows x 8 columns]"
      ]
     },
     "execution_count": 59,
     "metadata": {},
     "output_type": "execute_result"
    }
   ],
   "source": [
    "grafico_posse_time1"
   ]
  },
  {
   "cell_type": "code",
   "execution_count": 60,
   "metadata": {},
   "outputs": [],
   "source": [
    "x = grafico_posse_time1['index']\n",
    "my_xticks = x\n",
    "frequency = 10"
   ]
  },
  {
   "cell_type": "code",
   "execution_count": 61,
   "metadata": {},
   "outputs": [
    {
     "data": {
      "image/png": "[encoded data removed]",
      "text/plain": [
       "<Figure size 1440x504 with 1 Axes>"
      ]
     },
     "metadata": {},
     "output_type": "display_data"
    }
   ],
   "source": [
    "plt.style.use('seaborn')\n",
    "sns.set_style('white')\n",
    "plt.figure(figsize=(20,7))\n",
    "sns.barplot(x='index', y='Time_Novo', data=grafico_posse_time1, color='b')\n",
    "plt.title(f'Ataques do {nome_time_casa} no jogo', fontsize=28)\n",
    "plt.yticks([10,14,24], fontsize=20)\n",
    "plt.ylabel('Tempo', fontsize=18)\n",
    "plt.xlabel('Ataques', fontsize=18)\n",
    "plt.xticks(x[::frequency], my_xticks[::frequency])\n",
    "plt.axhline(24, color='red', alpha=0.6, label = '24 segundos')\n",
    "plt.axhline(14, color='red', alpha=0.6, label = '14 segundos')\n",
    "plt.axhline(10, color='red', alpha=0.6, label = '10 segundos')\n",
    "# plt.legend(loc='upper right', bbox_to_anchor=(1.1, 1), prop={'size':14})\n",
    "plt.savefig('RELATORIO/teste3.png', format='png')"
   ]
  },
  {
   "cell_type": "code",
   "execution_count": 62,
   "metadata": {},
   "outputs": [],
   "source": [
    "lu_time_b = posse_de_bola\n",
    "lu_time_b['Time_Novo'] = 0"
   ]
  },
  {
   "cell_type": "code",
   "execution_count": 63,
   "metadata": {},
   "outputs": [],
   "source": [
    "for x in range(len(posse_de_bola)):\n",
    "    if lu_time_b['Time'][x] == sigla_time_b:\n",
    "        lu_time_b.loc[x,'Time_Novo'] = lu_time_b['Tempo'][x]\n",
    "    else:\n",
    "        pass"
   ]
  },
  {
   "cell_type": "code",
   "execution_count": 64,
   "metadata": {},
   "outputs": [
    {
     "data": {
      "text/html": [
       "<div>\n",
       "<style scoped>\n",
       "    .dataframe tbody tr th:only-of-type {\n",
       "        vertical-align: middle;\n",
       "    }\n",
       "\n",
       "    .dataframe tbody tr th {\n",
       "        vertical-align: top;\n",
       "    }\n",
       "\n",
       "    .dataframe thead th {\n",
       "        text-align: right;\n",
       "    }\n",
       "</style>\n",
       "<table border=\"1\" class=\"dataframe\">\n",
       "  <thead>\n",
       "    <tr style=\"text-align: right;\">\n",
       "      <th></th>\n",
       "      <th>index</th>\n",
       "      <th>Time</th>\n",
       "      <th>Tempo</th>\n",
       "      <th>Indicador</th>\n",
       "      <th>dif_casa</th>\n",
       "      <th>dif_visita</th>\n",
       "      <th>diff_pontuacao</th>\n",
       "      <th>Time_Novo</th>\n",
       "    </tr>\n",
       "  </thead>\n",
       "  <tbody>\n",
       "    <tr>\n",
       "      <th>0</th>\n",
       "      <td>0</td>\n",
       "      <td>CER</td>\n",
       "      <td>24.0</td>\n",
       "      <td>2_Pts_T</td>\n",
       "      <td>0.0</td>\n",
       "      <td>0.0</td>\n",
       "      <td>0.0</td>\n",
       "      <td>0.0</td>\n",
       "    </tr>\n",
       "    <tr>\n",
       "      <th>1</th>\n",
       "      <td>1</td>\n",
       "      <td>CAX</td>\n",
       "      <td>35.0</td>\n",
       "      <td>2_Pts_C</td>\n",
       "      <td>-2.0</td>\n",
       "      <td>2.0</td>\n",
       "      <td>2.0</td>\n",
       "      <td>35.0</td>\n",
       "    </tr>\n",
       "    <tr>\n",
       "      <th>2</th>\n",
       "      <td>2</td>\n",
       "      <td>CER</td>\n",
       "      <td>18.0</td>\n",
       "      <td>ER</td>\n",
       "      <td>-2.0</td>\n",
       "      <td>2.0</td>\n",
       "      <td>2.0</td>\n",
       "      <td>0.0</td>\n",
       "    </tr>\n",
       "    <tr>\n",
       "      <th>3</th>\n",
       "      <td>3</td>\n",
       "      <td>CAX</td>\n",
       "      <td>18.0</td>\n",
       "      <td>ER</td>\n",
       "      <td>-3.0</td>\n",
       "      <td>3.0</td>\n",
       "      <td>3.0</td>\n",
       "      <td>18.0</td>\n",
       "    </tr>\n",
       "    <tr>\n",
       "      <th>4</th>\n",
       "      <td>4</td>\n",
       "      <td>CER</td>\n",
       "      <td>6.0</td>\n",
       "      <td>ER</td>\n",
       "      <td>-3.0</td>\n",
       "      <td>3.0</td>\n",
       "      <td>3.0</td>\n",
       "      <td>0.0</td>\n",
       "    </tr>\n",
       "    <tr>\n",
       "      <th>...</th>\n",
       "      <td>...</td>\n",
       "      <td>...</td>\n",
       "      <td>...</td>\n",
       "      <td>...</td>\n",
       "      <td>...</td>\n",
       "      <td>...</td>\n",
       "      <td>...</td>\n",
       "      <td>...</td>\n",
       "    </tr>\n",
       "    <tr>\n",
       "      <th>125</th>\n",
       "      <td>125</td>\n",
       "      <td>CAX</td>\n",
       "      <td>11.0</td>\n",
       "      <td>ER</td>\n",
       "      <td>2.0</td>\n",
       "      <td>-2.0</td>\n",
       "      <td>2.0</td>\n",
       "      <td>11.0</td>\n",
       "    </tr>\n",
       "    <tr>\n",
       "      <th>126</th>\n",
       "      <td>126</td>\n",
       "      <td>CER</td>\n",
       "      <td>6.0</td>\n",
       "      <td>LL_Pts_C</td>\n",
       "      <td>4.0</td>\n",
       "      <td>-4.0</td>\n",
       "      <td>4.0</td>\n",
       "      <td>0.0</td>\n",
       "    </tr>\n",
       "    <tr>\n",
       "      <th>127</th>\n",
       "      <td>127</td>\n",
       "      <td>CAX</td>\n",
       "      <td>6.0</td>\n",
       "      <td>LL_Pts_T</td>\n",
       "      <td>2.0</td>\n",
       "      <td>-2.0</td>\n",
       "      <td>2.0</td>\n",
       "      <td>6.0</td>\n",
       "    </tr>\n",
       "    <tr>\n",
       "      <th>128</th>\n",
       "      <td>128</td>\n",
       "      <td>CER</td>\n",
       "      <td>6.0</td>\n",
       "      <td>LL_Pts_C</td>\n",
       "      <td>4.0</td>\n",
       "      <td>-4.0</td>\n",
       "      <td>4.0</td>\n",
       "      <td>0.0</td>\n",
       "    </tr>\n",
       "    <tr>\n",
       "      <th>129</th>\n",
       "      <td>129</td>\n",
       "      <td>CAX</td>\n",
       "      <td>2.0</td>\n",
       "      <td>3_Pts_T</td>\n",
       "      <td>4.0</td>\n",
       "      <td>-4.0</td>\n",
       "      <td>4.0</td>\n",
       "      <td>2.0</td>\n",
       "    </tr>\n",
       "  </tbody>\n",
       "</table>\n",
       "<p>130 rows × 8 columns</p>\n",
       "</div>"
      ],
      "text/plain": [
       "     index Time  Tempo Indicador  dif_casa  dif_visita  diff_pontuacao  \\\n",
       "0        0  CER   24.0   2_Pts_T       0.0         0.0             0.0   \n",
       "1        1  CAX   35.0   2_Pts_C      -2.0         2.0             2.0   \n",
       "2        2  CER   18.0        ER      -2.0         2.0             2.0   \n",
       "3        3  CAX   18.0        ER      -3.0         3.0             3.0   \n",
       "4        4  CER    6.0        ER      -3.0         3.0             3.0   \n",
       "..     ...  ...    ...       ...       ...         ...             ...   \n",
       "125    125  CAX   11.0        ER       2.0        -2.0             2.0   \n",
       "126    126  CER    6.0  LL_Pts_C       4.0        -4.0             4.0   \n",
       "127    127  CAX    6.0  LL_Pts_T       2.0        -2.0             2.0   \n",
       "128    128  CER    6.0  LL_Pts_C       4.0        -4.0             4.0   \n",
       "129    129  CAX    2.0   3_Pts_T       4.0        -4.0             4.0   \n",
       "\n",
       "     Time_Novo  \n",
       "0          0.0  \n",
       "1         35.0  \n",
       "2          0.0  \n",
       "3         18.0  \n",
       "4          0.0  \n",
       "..         ...  \n",
       "125       11.0  \n",
       "126        0.0  \n",
       "127        6.0  \n",
       "128        0.0  \n",
       "129        2.0  \n",
       "\n",
       "[130 rows x 8 columns]"
      ]
     },
     "execution_count": 64,
     "metadata": {},
     "output_type": "execute_result"
    }
   ],
   "source": [
    "lu_time_b"
   ]
  },
  {
   "cell_type": "code",
   "execution_count": 65,
   "metadata": {},
   "outputs": [],
   "source": [
    "grafico_posse_time2 = lu_time_b\n",
    "grafico_posse_time2.reset_index(inplace=True)"
   ]
  },
  {
   "cell_type": "code",
   "execution_count": 66,
   "metadata": {},
   "outputs": [
    {
     "data": {
      "text/html": [
       "<div>\n",
       "<style scoped>\n",
       "    .dataframe tbody tr th:only-of-type {\n",
       "        vertical-align: middle;\n",
       "    }\n",
       "\n",
       "    .dataframe tbody tr th {\n",
       "        vertical-align: top;\n",
       "    }\n",
       "\n",
       "    .dataframe thead th {\n",
       "        text-align: right;\n",
       "    }\n",
       "</style>\n",
       "<table border=\"1\" class=\"dataframe\">\n",
       "  <thead>\n",
       "    <tr style=\"text-align: right;\">\n",
       "      <th></th>\n",
       "      <th>level_0</th>\n",
       "      <th>index</th>\n",
       "      <th>Time</th>\n",
       "      <th>Tempo</th>\n",
       "      <th>Indicador</th>\n",
       "      <th>dif_casa</th>\n",
       "      <th>dif_visita</th>\n",
       "      <th>diff_pontuacao</th>\n",
       "      <th>Time_Novo</th>\n",
       "    </tr>\n",
       "  </thead>\n",
       "  <tbody>\n",
       "    <tr>\n",
       "      <th>0</th>\n",
       "      <td>0</td>\n",
       "      <td>0</td>\n",
       "      <td>CER</td>\n",
       "      <td>24.0</td>\n",
       "      <td>2_Pts_T</td>\n",
       "      <td>0.0</td>\n",
       "      <td>0.0</td>\n",
       "      <td>0.0</td>\n",
       "      <td>0.0</td>\n",
       "    </tr>\n",
       "    <tr>\n",
       "      <th>1</th>\n",
       "      <td>1</td>\n",
       "      <td>1</td>\n",
       "      <td>CAX</td>\n",
       "      <td>35.0</td>\n",
       "      <td>2_Pts_C</td>\n",
       "      <td>-2.0</td>\n",
       "      <td>2.0</td>\n",
       "      <td>2.0</td>\n",
       "      <td>35.0</td>\n",
       "    </tr>\n",
       "    <tr>\n",
       "      <th>2</th>\n",
       "      <td>2</td>\n",
       "      <td>2</td>\n",
       "      <td>CER</td>\n",
       "      <td>18.0</td>\n",
       "      <td>ER</td>\n",
       "      <td>-2.0</td>\n",
       "      <td>2.0</td>\n",
       "      <td>2.0</td>\n",
       "      <td>0.0</td>\n",
       "    </tr>\n",
       "    <tr>\n",
       "      <th>3</th>\n",
       "      <td>3</td>\n",
       "      <td>3</td>\n",
       "      <td>CAX</td>\n",
       "      <td>18.0</td>\n",
       "      <td>ER</td>\n",
       "      <td>-3.0</td>\n",
       "      <td>3.0</td>\n",
       "      <td>3.0</td>\n",
       "      <td>18.0</td>\n",
       "    </tr>\n",
       "    <tr>\n",
       "      <th>4</th>\n",
       "      <td>4</td>\n",
       "      <td>4</td>\n",
       "      <td>CER</td>\n",
       "      <td>6.0</td>\n",
       "      <td>ER</td>\n",
       "      <td>-3.0</td>\n",
       "      <td>3.0</td>\n",
       "      <td>3.0</td>\n",
       "      <td>0.0</td>\n",
       "    </tr>\n",
       "    <tr>\n",
       "      <th>...</th>\n",
       "      <td>...</td>\n",
       "      <td>...</td>\n",
       "      <td>...</td>\n",
       "      <td>...</td>\n",
       "      <td>...</td>\n",
       "      <td>...</td>\n",
       "      <td>...</td>\n",
       "      <td>...</td>\n",
       "      <td>...</td>\n",
       "    </tr>\n",
       "    <tr>\n",
       "      <th>125</th>\n",
       "      <td>125</td>\n",
       "      <td>125</td>\n",
       "      <td>CAX</td>\n",
       "      <td>11.0</td>\n",
       "      <td>ER</td>\n",
       "      <td>2.0</td>\n",
       "      <td>-2.0</td>\n",
       "      <td>2.0</td>\n",
       "      <td>11.0</td>\n",
       "    </tr>\n",
       "    <tr>\n",
       "      <th>126</th>\n",
       "      <td>126</td>\n",
       "      <td>126</td>\n",
       "      <td>CER</td>\n",
       "      <td>6.0</td>\n",
       "      <td>LL_Pts_C</td>\n",
       "      <td>4.0</td>\n",
       "      <td>-4.0</td>\n",
       "      <td>4.0</td>\n",
       "      <td>0.0</td>\n",
       "    </tr>\n",
       "    <tr>\n",
       "      <th>127</th>\n",
       "      <td>127</td>\n",
       "      <td>127</td>\n",
       "      <td>CAX</td>\n",
       "      <td>6.0</td>\n",
       "      <td>LL_Pts_T</td>\n",
       "      <td>2.0</td>\n",
       "      <td>-2.0</td>\n",
       "      <td>2.0</td>\n",
       "      <td>6.0</td>\n",
       "    </tr>\n",
       "    <tr>\n",
       "      <th>128</th>\n",
       "      <td>128</td>\n",
       "      <td>128</td>\n",
       "      <td>CER</td>\n",
       "      <td>6.0</td>\n",
       "      <td>LL_Pts_C</td>\n",
       "      <td>4.0</td>\n",
       "      <td>-4.0</td>\n",
       "      <td>4.0</td>\n",
       "      <td>0.0</td>\n",
       "    </tr>\n",
       "    <tr>\n",
       "      <th>129</th>\n",
       "      <td>129</td>\n",
       "      <td>129</td>\n",
       "      <td>CAX</td>\n",
       "      <td>2.0</td>\n",
       "      <td>3_Pts_T</td>\n",
       "      <td>4.0</td>\n",
       "      <td>-4.0</td>\n",
       "      <td>4.0</td>\n",
       "      <td>2.0</td>\n",
       "    </tr>\n",
       "  </tbody>\n",
       "</table>\n",
       "<p>130 rows × 9 columns</p>\n",
       "</div>"
      ],
      "text/plain": [
       "     level_0  index Time  Tempo Indicador  dif_casa  dif_visita  \\\n",
       "0          0      0  CER   24.0   2_Pts_T       0.0         0.0   \n",
       "1          1      1  CAX   35.0   2_Pts_C      -2.0         2.0   \n",
       "2          2      2  CER   18.0        ER      -2.0         2.0   \n",
       "3          3      3  CAX   18.0        ER      -3.0         3.0   \n",
       "4          4      4  CER    6.0        ER      -3.0         3.0   \n",
       "..       ...    ...  ...    ...       ...       ...         ...   \n",
       "125      125    125  CAX   11.0        ER       2.0        -2.0   \n",
       "126      126    126  CER    6.0  LL_Pts_C       4.0        -4.0   \n",
       "127      127    127  CAX    6.0  LL_Pts_T       2.0        -2.0   \n",
       "128      128    128  CER    6.0  LL_Pts_C       4.0        -4.0   \n",
       "129      129    129  CAX    2.0   3_Pts_T       4.0        -4.0   \n",
       "\n",
       "     diff_pontuacao  Time_Novo  \n",
       "0               0.0        0.0  \n",
       "1               2.0       35.0  \n",
       "2               2.0        0.0  \n",
       "3               3.0       18.0  \n",
       "4               3.0        0.0  \n",
       "..              ...        ...  \n",
       "125             2.0       11.0  \n",
       "126             4.0        0.0  \n",
       "127             2.0        6.0  \n",
       "128             4.0        0.0  \n",
       "129             4.0        2.0  \n",
       "\n",
       "[130 rows x 9 columns]"
      ]
     },
     "execution_count": 66,
     "metadata": {},
     "output_type": "execute_result"
    }
   ],
   "source": [
    "grafico_posse_time2"
   ]
  },
  {
   "cell_type": "code",
   "execution_count": 67,
   "metadata": {},
   "outputs": [],
   "source": [
    "x2 = grafico_posse_time2['index']\n",
    "my_xticks2 = x2\n",
    "frequency2 = 10"
   ]
  },
  {
   "cell_type": "code",
   "execution_count": 68,
   "metadata": {},
   "outputs": [
    {
     "data": {
      "image/png": "[encoded data removed]",
      "text/plain": [
       "<Figure size 1440x504 with 1 Axes>"
      ]
     },
     "metadata": {},
     "output_type": "display_data"
    }
   ],
   "source": [
    "plt.style.use('seaborn')\n",
    "sns.set_style('white')\n",
    "plt.figure(figsize=(20,7))\n",
    "sns.barplot(x='index', y='Time_Novo', data=grafico_posse_time2, color='g')\n",
    "plt.title(f'Ataques do {nome_time_fora} no jogo', fontsize=28)\n",
    "plt.yticks([10,14,24], fontsize=20)\n",
    "plt.ylabel('Tempo', fontsize=18)\n",
    "plt.xlabel('Ataques', fontsize=18)\n",
    "plt.xticks(x2[::frequency2], my_xticks2[::frequency2])\n",
    "plt.axhline(24, color='red', alpha=0.6, label = '24 segundos')\n",
    "plt.axhline(14, color='red', alpha=0.6, label = '14 segundos')\n",
    "plt.axhline(10, color='red', alpha=0.6, label = '10 segundos')\n",
    "# plt.legend(loc='upper right', bbox_to_anchor=(1.1, 1), prop={'size':14})\n",
    "plt.savefig('RELATORIO/teste4.png', format='png')"
   ]
  },
  {
   "cell_type": "code",
   "execution_count": 69,
   "metadata": {},
   "outputs": [
    {
     "data": {
      "text/html": [
       "<div>\n",
       "<style scoped>\n",
       "    .dataframe tbody tr th:only-of-type {\n",
       "        vertical-align: middle;\n",
       "    }\n",
       "\n",
       "    .dataframe tbody tr th {\n",
       "        vertical-align: top;\n",
       "    }\n",
       "\n",
       "    .dataframe thead th {\n",
       "        text-align: right;\n",
       "    }\n",
       "</style>\n",
       "<table border=\"1\" class=\"dataframe\">\n",
       "  <thead>\n",
       "    <tr style=\"text-align: right;\">\n",
       "      <th></th>\n",
       "      <th>level_0</th>\n",
       "      <th>index</th>\n",
       "      <th>Time</th>\n",
       "      <th>Tempo</th>\n",
       "      <th>Indicador</th>\n",
       "      <th>dif_casa</th>\n",
       "      <th>dif_visita</th>\n",
       "      <th>diff_pontuacao</th>\n",
       "      <th>Time_Novo</th>\n",
       "    </tr>\n",
       "  </thead>\n",
       "  <tbody>\n",
       "    <tr>\n",
       "      <th>0</th>\n",
       "      <td>0</td>\n",
       "      <td>0</td>\n",
       "      <td>CER</td>\n",
       "      <td>24.0</td>\n",
       "      <td>2_Pts_T</td>\n",
       "      <td>0.0</td>\n",
       "      <td>0.0</td>\n",
       "      <td>0.0</td>\n",
       "      <td>0.0</td>\n",
       "    </tr>\n",
       "    <tr>\n",
       "      <th>1</th>\n",
       "      <td>1</td>\n",
       "      <td>1</td>\n",
       "      <td>CAX</td>\n",
       "      <td>35.0</td>\n",
       "      <td>2_Pts_C</td>\n",
       "      <td>-2.0</td>\n",
       "      <td>2.0</td>\n",
       "      <td>2.0</td>\n",
       "      <td>35.0</td>\n",
       "    </tr>\n",
       "    <tr>\n",
       "      <th>2</th>\n",
       "      <td>2</td>\n",
       "      <td>2</td>\n",
       "      <td>CER</td>\n",
       "      <td>18.0</td>\n",
       "      <td>ER</td>\n",
       "      <td>-2.0</td>\n",
       "      <td>2.0</td>\n",
       "      <td>2.0</td>\n",
       "      <td>0.0</td>\n",
       "    </tr>\n",
       "    <tr>\n",
       "      <th>3</th>\n",
       "      <td>3</td>\n",
       "      <td>3</td>\n",
       "      <td>CAX</td>\n",
       "      <td>18.0</td>\n",
       "      <td>ER</td>\n",
       "      <td>-3.0</td>\n",
       "      <td>3.0</td>\n",
       "      <td>3.0</td>\n",
       "      <td>18.0</td>\n",
       "    </tr>\n",
       "    <tr>\n",
       "      <th>4</th>\n",
       "      <td>4</td>\n",
       "      <td>4</td>\n",
       "      <td>CER</td>\n",
       "      <td>6.0</td>\n",
       "      <td>ER</td>\n",
       "      <td>-3.0</td>\n",
       "      <td>3.0</td>\n",
       "      <td>3.0</td>\n",
       "      <td>0.0</td>\n",
       "    </tr>\n",
       "    <tr>\n",
       "      <th>...</th>\n",
       "      <td>...</td>\n",
       "      <td>...</td>\n",
       "      <td>...</td>\n",
       "      <td>...</td>\n",
       "      <td>...</td>\n",
       "      <td>...</td>\n",
       "      <td>...</td>\n",
       "      <td>...</td>\n",
       "      <td>...</td>\n",
       "    </tr>\n",
       "    <tr>\n",
       "      <th>125</th>\n",
       "      <td>125</td>\n",
       "      <td>125</td>\n",
       "      <td>CAX</td>\n",
       "      <td>11.0</td>\n",
       "      <td>ER</td>\n",
       "      <td>2.0</td>\n",
       "      <td>-2.0</td>\n",
       "      <td>2.0</td>\n",
       "      <td>11.0</td>\n",
       "    </tr>\n",
       "    <tr>\n",
       "      <th>126</th>\n",
       "      <td>126</td>\n",
       "      <td>126</td>\n",
       "      <td>CER</td>\n",
       "      <td>6.0</td>\n",
       "      <td>LL_Pts_C</td>\n",
       "      <td>4.0</td>\n",
       "      <td>-4.0</td>\n",
       "      <td>4.0</td>\n",
       "      <td>0.0</td>\n",
       "    </tr>\n",
       "    <tr>\n",
       "      <th>127</th>\n",
       "      <td>127</td>\n",
       "      <td>127</td>\n",
       "      <td>CAX</td>\n",
       "      <td>6.0</td>\n",
       "      <td>LL_Pts_T</td>\n",
       "      <td>2.0</td>\n",
       "      <td>-2.0</td>\n",
       "      <td>2.0</td>\n",
       "      <td>6.0</td>\n",
       "    </tr>\n",
       "    <tr>\n",
       "      <th>128</th>\n",
       "      <td>128</td>\n",
       "      <td>128</td>\n",
       "      <td>CER</td>\n",
       "      <td>6.0</td>\n",
       "      <td>LL_Pts_C</td>\n",
       "      <td>4.0</td>\n",
       "      <td>-4.0</td>\n",
       "      <td>4.0</td>\n",
       "      <td>0.0</td>\n",
       "    </tr>\n",
       "    <tr>\n",
       "      <th>129</th>\n",
       "      <td>129</td>\n",
       "      <td>129</td>\n",
       "      <td>CAX</td>\n",
       "      <td>2.0</td>\n",
       "      <td>3_Pts_T</td>\n",
       "      <td>4.0</td>\n",
       "      <td>-4.0</td>\n",
       "      <td>4.0</td>\n",
       "      <td>2.0</td>\n",
       "    </tr>\n",
       "  </tbody>\n",
       "</table>\n",
       "<p>130 rows × 9 columns</p>\n",
       "</div>"
      ],
      "text/plain": [
       "     level_0  index Time  Tempo Indicador  dif_casa  dif_visita  \\\n",
       "0          0      0  CER   24.0   2_Pts_T       0.0         0.0   \n",
       "1          1      1  CAX   35.0   2_Pts_C      -2.0         2.0   \n",
       "2          2      2  CER   18.0        ER      -2.0         2.0   \n",
       "3          3      3  CAX   18.0        ER      -3.0         3.0   \n",
       "4          4      4  CER    6.0        ER      -3.0         3.0   \n",
       "..       ...    ...  ...    ...       ...       ...         ...   \n",
       "125      125    125  CAX   11.0        ER       2.0        -2.0   \n",
       "126      126    126  CER    6.0  LL_Pts_C       4.0        -4.0   \n",
       "127      127    127  CAX    6.0  LL_Pts_T       2.0        -2.0   \n",
       "128      128    128  CER    6.0  LL_Pts_C       4.0        -4.0   \n",
       "129      129    129  CAX    2.0   3_Pts_T       4.0        -4.0   \n",
       "\n",
       "     diff_pontuacao  Time_Novo  \n",
       "0               0.0        0.0  \n",
       "1               2.0       35.0  \n",
       "2               2.0        0.0  \n",
       "3               3.0       18.0  \n",
       "4               3.0        0.0  \n",
       "..              ...        ...  \n",
       "125             2.0       11.0  \n",
       "126             4.0        0.0  \n",
       "127             2.0        6.0  \n",
       "128             4.0        0.0  \n",
       "129             4.0        2.0  \n",
       "\n",
       "[130 rows x 9 columns]"
      ]
     },
     "execution_count": 69,
     "metadata": {},
     "output_type": "execute_result"
    }
   ],
   "source": [
    "posse_de_bola"
   ]
  },
  {
   "cell_type": "code",
   "execution_count": 70,
   "metadata": {},
   "outputs": [],
   "source": [
    "soma_a = df_time_a['Indicador'].value_counts().sum()\n",
    "soma_b = df_time_b['Indicador'].value_counts().sum()"
   ]
  },
  {
   "cell_type": "code",
   "execution_count": 71,
   "metadata": {},
   "outputs": [],
   "source": [
    "contagem = pd.DataFrame()"
   ]
  },
  {
   "cell_type": "code",
   "execution_count": 72,
   "metadata": {},
   "outputs": [],
   "source": [
    "contagem = contagem.append(df_time_a['Indicador'].value_counts(), ignore_index=True)\n",
    "contagem = contagem.append(df_time_b['Indicador'].value_counts(), ignore_index=True)"
   ]
  },
  {
   "cell_type": "code",
   "execution_count": 73,
   "metadata": {},
   "outputs": [
    {
     "data": {
      "text/html": [
       "<div>\n",
       "<style scoped>\n",
       "    .dataframe tbody tr th:only-of-type {\n",
       "        vertical-align: middle;\n",
       "    }\n",
       "\n",
       "    .dataframe tbody tr th {\n",
       "        vertical-align: top;\n",
       "    }\n",
       "\n",
       "    .dataframe thead th {\n",
       "        text-align: right;\n",
       "    }\n",
       "</style>\n",
       "<table border=\"1\" class=\"dataframe\">\n",
       "  <thead>\n",
       "    <tr style=\"text-align: right;\">\n",
       "      <th></th>\n",
       "      <th>2_Pts_C</th>\n",
       "      <th>2_Pts_T</th>\n",
       "      <th>3_Pts_C</th>\n",
       "      <th>3_Pts_T</th>\n",
       "      <th>ER</th>\n",
       "      <th>LL_Pts_C</th>\n",
       "      <th>LL_Pts_T</th>\n",
       "      <th>EN</th>\n",
       "    </tr>\n",
       "  </thead>\n",
       "  <tbody>\n",
       "    <tr>\n",
       "      <th>0</th>\n",
       "      <td>11.0</td>\n",
       "      <td>9.0</td>\n",
       "      <td>8.0</td>\n",
       "      <td>14.0</td>\n",
       "      <td>13.0</td>\n",
       "      <td>9.0</td>\n",
       "      <td>1.0</td>\n",
       "      <td>NaN</td>\n",
       "    </tr>\n",
       "    <tr>\n",
       "      <th>1</th>\n",
       "      <td>13.0</td>\n",
       "      <td>13.0</td>\n",
       "      <td>4.0</td>\n",
       "      <td>8.0</td>\n",
       "      <td>15.0</td>\n",
       "      <td>8.0</td>\n",
       "      <td>3.0</td>\n",
       "      <td>1.0</td>\n",
       "    </tr>\n",
       "  </tbody>\n",
       "</table>\n",
       "</div>"
      ],
      "text/plain": [
       "   2_Pts_C  2_Pts_T  3_Pts_C  3_Pts_T    ER  LL_Pts_C  LL_Pts_T   EN\n",
       "0     11.0      9.0      8.0     14.0  13.0       9.0       1.0  NaN\n",
       "1     13.0     13.0      4.0      8.0  15.0       8.0       3.0  1.0"
      ]
     },
     "execution_count": 73,
     "metadata": {},
     "output_type": "execute_result"
    }
   ],
   "source": [
    "contagem"
   ]
  },
  {
   "cell_type": "code",
   "execution_count": 74,
   "metadata": {},
   "outputs": [],
   "source": [
    "# Esses indicadores podem não aparecer no jogo \n",
    "# dessa maneira eu vou criar um if e acrescentar \n",
    "valores_coluna = []\n",
    "for i in contagem:\n",
    "    valores_coluna.append(i)\n",
    "    \n",
    "if 'EN' not in valores_coluna:\n",
    "    contagem['EN'] = [0.0, 0.0]\n",
    "if 'LL_Pts_T' not in valores_coluna:\n",
    "    contagem['LL_Pts_T'] = [0.0, 0.0]\n",
    "if 'LL_Pts_C' not in valores_coluna:\n",
    "    contagem['LL_Pts_C'] = [0.0, 0.0]\n",
    "# substituir os valores NAN por 0(zero)\n",
    "contagem.fillna(0, inplace=True)"
   ]
  },
  {
   "cell_type": "code",
   "execution_count": 75,
   "metadata": {},
   "outputs": [
    {
     "data": {
      "text/html": [
       "<div>\n",
       "<style scoped>\n",
       "    .dataframe tbody tr th:only-of-type {\n",
       "        vertical-align: middle;\n",
       "    }\n",
       "\n",
       "    .dataframe tbody tr th {\n",
       "        vertical-align: top;\n",
       "    }\n",
       "\n",
       "    .dataframe thead th {\n",
       "        text-align: right;\n",
       "    }\n",
       "</style>\n",
       "<table border=\"1\" class=\"dataframe\">\n",
       "  <thead>\n",
       "    <tr style=\"text-align: right;\">\n",
       "      <th></th>\n",
       "      <th>2_Pts_C</th>\n",
       "      <th>2_Pts_T</th>\n",
       "      <th>3_Pts_C</th>\n",
       "      <th>3_Pts_T</th>\n",
       "      <th>ER</th>\n",
       "      <th>LL_Pts_C</th>\n",
       "      <th>LL_Pts_T</th>\n",
       "      <th>EN</th>\n",
       "    </tr>\n",
       "  </thead>\n",
       "  <tbody>\n",
       "    <tr>\n",
       "      <th>0</th>\n",
       "      <td>11.0</td>\n",
       "      <td>9.0</td>\n",
       "      <td>8.0</td>\n",
       "      <td>14.0</td>\n",
       "      <td>13.0</td>\n",
       "      <td>9.0</td>\n",
       "      <td>1.0</td>\n",
       "      <td>0.0</td>\n",
       "    </tr>\n",
       "    <tr>\n",
       "      <th>1</th>\n",
       "      <td>13.0</td>\n",
       "      <td>13.0</td>\n",
       "      <td>4.0</td>\n",
       "      <td>8.0</td>\n",
       "      <td>15.0</td>\n",
       "      <td>8.0</td>\n",
       "      <td>3.0</td>\n",
       "      <td>1.0</td>\n",
       "    </tr>\n",
       "  </tbody>\n",
       "</table>\n",
       "</div>"
      ],
      "text/plain": [
       "   2_Pts_C  2_Pts_T  3_Pts_C  3_Pts_T    ER  LL_Pts_C  LL_Pts_T   EN\n",
       "0     11.0      9.0      8.0     14.0  13.0       9.0       1.0  0.0\n",
       "1     13.0     13.0      4.0      8.0  15.0       8.0       3.0  1.0"
      ]
     },
     "execution_count": 75,
     "metadata": {},
     "output_type": "execute_result"
    }
   ],
   "source": [
    "contagem"
   ]
  },
  {
   "cell_type": "code",
   "execution_count": 76,
   "metadata": {},
   "outputs": [],
   "source": [
    "contagem.loc[0, '2_Pts_C'] = contagem['2_Pts_C'][0] + contagem['EN'][0]\n",
    "contagem.loc[1, '2_Pts_C'] = contagem['2_Pts_C'][1] + contagem['EN'][1]"
   ]
  },
  {
   "cell_type": "code",
   "execution_count": 77,
   "metadata": {},
   "outputs": [],
   "source": [
    "contagem.drop('EN', inplace=True, axis=1)"
   ]
  },
  {
   "cell_type": "code",
   "execution_count": 78,
   "metadata": {},
   "outputs": [
    {
     "data": {
      "text/html": [
       "<div>\n",
       "<style scoped>\n",
       "    .dataframe tbody tr th:only-of-type {\n",
       "        vertical-align: middle;\n",
       "    }\n",
       "\n",
       "    .dataframe tbody tr th {\n",
       "        vertical-align: top;\n",
       "    }\n",
       "\n",
       "    .dataframe thead th {\n",
       "        text-align: right;\n",
       "    }\n",
       "</style>\n",
       "<table border=\"1\" class=\"dataframe\">\n",
       "  <thead>\n",
       "    <tr style=\"text-align: right;\">\n",
       "      <th></th>\n",
       "      <th>2_Pts_C</th>\n",
       "      <th>2_Pts_T</th>\n",
       "      <th>3_Pts_C</th>\n",
       "      <th>3_Pts_T</th>\n",
       "      <th>ER</th>\n",
       "      <th>LL_Pts_C</th>\n",
       "      <th>LL_Pts_T</th>\n",
       "    </tr>\n",
       "  </thead>\n",
       "  <tbody>\n",
       "    <tr>\n",
       "      <th>0</th>\n",
       "      <td>11.0</td>\n",
       "      <td>9.0</td>\n",
       "      <td>8.0</td>\n",
       "      <td>14.0</td>\n",
       "      <td>13.0</td>\n",
       "      <td>9.0</td>\n",
       "      <td>1.0</td>\n",
       "    </tr>\n",
       "    <tr>\n",
       "      <th>1</th>\n",
       "      <td>14.0</td>\n",
       "      <td>13.0</td>\n",
       "      <td>4.0</td>\n",
       "      <td>8.0</td>\n",
       "      <td>15.0</td>\n",
       "      <td>8.0</td>\n",
       "      <td>3.0</td>\n",
       "    </tr>\n",
       "  </tbody>\n",
       "</table>\n",
       "</div>"
      ],
      "text/plain": [
       "   2_Pts_C  2_Pts_T  3_Pts_C  3_Pts_T    ER  LL_Pts_C  LL_Pts_T\n",
       "0     11.0      9.0      8.0     14.0  13.0       9.0       1.0\n",
       "1     14.0     13.0      4.0      8.0  15.0       8.0       3.0"
      ]
     },
     "execution_count": 78,
     "metadata": {},
     "output_type": "execute_result"
    }
   ],
   "source": [
    "contagem"
   ]
  },
  {
   "cell_type": "code",
   "execution_count": 79,
   "metadata": {},
   "outputs": [],
   "source": [
    "contagem.rename(columns={\"2_Pts_T\": \"2_Pts_E\", \"3_Pts_T\": \"3_Pts_E\", \"LL_Pts_T\": \"LL_Pts_E\"}, inplace=True)"
   ]
  },
  {
   "cell_type": "code",
   "execution_count": 80,
   "metadata": {},
   "outputs": [],
   "source": [
    "contagem['2_Pts_T'] = contagem['2_Pts_C'] + contagem['2_Pts_E']\n",
    "contagem['3_Pts_T'] = contagem['3_Pts_C'] + contagem['3_Pts_E']\n",
    "contagem['LL_Pts_T'] = contagem['LL_Pts_C'] + contagem['LL_Pts_E']"
   ]
  },
  {
   "cell_type": "code",
   "execution_count": 81,
   "metadata": {},
   "outputs": [],
   "source": [
    "contagem['Time'] = [sigla_time_a, sigla_time_b]\n",
    "contagem['posse'] = [soma_a, soma_b]\n",
    "contagem['%2_Pts_C'] = [round((contagem['2_Pts_C'][0]/soma_a)*100), round((contagem['2_Pts_C'][1]/soma_b)*100)]\n",
    "contagem['%2_Pts_E'] = [round((contagem['2_Pts_E'][0]/soma_a)*100), round((contagem['2_Pts_E'][1]/soma_b)*100)]\n",
    "contagem['%3_Pts_C'] = [round((contagem['3_Pts_C'][0]/soma_a)*100), round((contagem['3_Pts_C'][1]/soma_b)*100)]\n",
    "contagem['%3_Pts_E'] = [round((contagem['3_Pts_E'][0]/soma_a)*100), round((contagem['3_Pts_E'][1]/soma_b)*100)]\n",
    "contagem['%LL_Pts_C'] = [round((contagem['LL_Pts_C'][0]/soma_a)*100), round((contagem['LL_Pts_C'][1]/soma_b)*100)]\n",
    "contagem['%LL_Pts_E'] = [round((contagem['LL_Pts_E'][0]/soma_a)*100), round((contagem['LL_Pts_E'][1]/soma_b)*100)]\n",
    "contagem['Tempo_de_posse'] = [(round(posse_de_bola.loc[posse_de_bola['Time'] == sigla_time_a].Tempo.sum()/60)),\n",
    "                              (round(posse_de_bola.loc[posse_de_bola['Time'] == sigla_time_b].Tempo.sum()/60))]\n",
    "contagem['Ataques/min'] = [(round(contagem['posse'][0]/contagem['Tempo_de_posse'][0], 2)),\n",
    "                           (round(contagem['posse'][1]/contagem['Tempo_de_posse'][1], 2))]"
   ]
  },
  {
   "cell_type": "code",
   "execution_count": 82,
   "metadata": {},
   "outputs": [],
   "source": [
    "contagem = contagem[['Time', 'posse', 'Tempo_de_posse', 'Ataques/min',\n",
    "                     '2_Pts_C', '2_Pts_E', '2_Pts_T',\n",
    "                     '3_Pts_C', '3_Pts_E', '3_Pts_T',\n",
    "                     'LL_Pts_C', 'LL_Pts_E', 'LL_Pts_T',\n",
    "                     '%2_Pts_C', '%2_Pts_E', '%3_Pts_C',\n",
    "                     '%3_Pts_E', '%LL_Pts_C', '%LL_Pts_E']]"
   ]
  },
  {
   "cell_type": "code",
   "execution_count": 83,
   "metadata": {},
   "outputs": [
    {
     "data": {
      "text/html": [
       "<div>\n",
       "<style scoped>\n",
       "    .dataframe tbody tr th:only-of-type {\n",
       "        vertical-align: middle;\n",
       "    }\n",
       "\n",
       "    .dataframe tbody tr th {\n",
       "        vertical-align: top;\n",
       "    }\n",
       "\n",
       "    .dataframe thead th {\n",
       "        text-align: right;\n",
       "    }\n",
       "</style>\n",
       "<table border=\"1\" class=\"dataframe\">\n",
       "  <thead>\n",
       "    <tr style=\"text-align: right;\">\n",
       "      <th></th>\n",
       "      <th>Time</th>\n",
       "      <th>posse</th>\n",
       "      <th>Tempo_de_posse</th>\n",
       "      <th>Ataques/min</th>\n",
       "      <th>2_Pts_C</th>\n",
       "      <th>2_Pts_E</th>\n",
       "      <th>2_Pts_T</th>\n",
       "      <th>3_Pts_C</th>\n",
       "      <th>3_Pts_E</th>\n",
       "      <th>3_Pts_T</th>\n",
       "      <th>LL_Pts_C</th>\n",
       "      <th>LL_Pts_E</th>\n",
       "      <th>LL_Pts_T</th>\n",
       "      <th>%2_Pts_C</th>\n",
       "      <th>%2_Pts_E</th>\n",
       "      <th>%3_Pts_C</th>\n",
       "      <th>%3_Pts_E</th>\n",
       "      <th>%LL_Pts_C</th>\n",
       "      <th>%LL_Pts_E</th>\n",
       "    </tr>\n",
       "  </thead>\n",
       "  <tbody>\n",
       "    <tr>\n",
       "      <th>0</th>\n",
       "      <td>CER</td>\n",
       "      <td>65</td>\n",
       "      <td>19.0</td>\n",
       "      <td>3.42</td>\n",
       "      <td>11.0</td>\n",
       "      <td>9.0</td>\n",
       "      <td>20.0</td>\n",
       "      <td>8.0</td>\n",
       "      <td>14.0</td>\n",
       "      <td>22.0</td>\n",
       "      <td>9.0</td>\n",
       "      <td>1.0</td>\n",
       "      <td>10.0</td>\n",
       "      <td>17.0</td>\n",
       "      <td>14.0</td>\n",
       "      <td>12.0</td>\n",
       "      <td>22.0</td>\n",
       "      <td>14.0</td>\n",
       "      <td>2.0</td>\n",
       "    </tr>\n",
       "    <tr>\n",
       "      <th>1</th>\n",
       "      <td>CAX</td>\n",
       "      <td>65</td>\n",
       "      <td>21.0</td>\n",
       "      <td>3.10</td>\n",
       "      <td>14.0</td>\n",
       "      <td>13.0</td>\n",
       "      <td>27.0</td>\n",
       "      <td>4.0</td>\n",
       "      <td>8.0</td>\n",
       "      <td>12.0</td>\n",
       "      <td>8.0</td>\n",
       "      <td>3.0</td>\n",
       "      <td>11.0</td>\n",
       "      <td>22.0</td>\n",
       "      <td>20.0</td>\n",
       "      <td>6.0</td>\n",
       "      <td>12.0</td>\n",
       "      <td>12.0</td>\n",
       "      <td>5.0</td>\n",
       "    </tr>\n",
       "  </tbody>\n",
       "</table>\n",
       "</div>"
      ],
      "text/plain": [
       "  Time  posse  Tempo_de_posse  Ataques/min  2_Pts_C  2_Pts_E  2_Pts_T  \\\n",
       "0  CER     65            19.0         3.42     11.0      9.0     20.0   \n",
       "1  CAX     65            21.0         3.10     14.0     13.0     27.0   \n",
       "\n",
       "   3_Pts_C  3_Pts_E  3_Pts_T  LL_Pts_C  LL_Pts_E  LL_Pts_T  %2_Pts_C  \\\n",
       "0      8.0     14.0     22.0       9.0       1.0      10.0      17.0   \n",
       "1      4.0      8.0     12.0       8.0       3.0      11.0      22.0   \n",
       "\n",
       "   %2_Pts_E  %3_Pts_C  %3_Pts_E  %LL_Pts_C  %LL_Pts_E  \n",
       "0      14.0      12.0      22.0       14.0        2.0  \n",
       "1      20.0       6.0      12.0       12.0        5.0  "
      ]
     },
     "execution_count": 83,
     "metadata": {},
     "output_type": "execute_result"
    }
   ],
   "source": [
    "contagem"
   ]
  },
  {
   "cell_type": "code",
   "execution_count": 102,
   "metadata": {},
   "outputs": [],
   "source": [
    "# tempo de ataque separado por cada ataque \n",
    "tempos = ('0-5', '5-10', '10-14', '14-24', '24+')\n",
    "ataques = pd.DataFrame(np.random.randn(5, 2),\n",
    "                       index=tempos, columns=[f'{sigla_time_a}', f'{sigla_time_b}'])"
   ]
  },
  {
   "cell_type": "code",
   "execution_count": 103,
   "metadata": {},
   "outputs": [
    {
     "data": {
      "text/html": [
       "<div>\n",
       "<style scoped>\n",
       "    .dataframe tbody tr th:only-of-type {\n",
       "        vertical-align: middle;\n",
       "    }\n",
       "\n",
       "    .dataframe tbody tr th {\n",
       "        vertical-align: top;\n",
       "    }\n",
       "\n",
       "    .dataframe thead th {\n",
       "        text-align: right;\n",
       "    }\n",
       "</style>\n",
       "<table border=\"1\" class=\"dataframe\">\n",
       "  <thead>\n",
       "    <tr style=\"text-align: right;\">\n",
       "      <th></th>\n",
       "      <th>CAX</th>\n",
       "      <th>CAX</th>\n",
       "    </tr>\n",
       "  </thead>\n",
       "  <tbody>\n",
       "    <tr>\n",
       "      <th>0-5</th>\n",
       "      <td>0.647237</td>\n",
       "      <td>0.871563</td>\n",
       "    </tr>\n",
       "    <tr>\n",
       "      <th>5-10</th>\n",
       "      <td>0.507847</td>\n",
       "      <td>1.566153</td>\n",
       "    </tr>\n",
       "    <tr>\n",
       "      <th>10-14</th>\n",
       "      <td>0.195407</td>\n",
       "      <td>-0.481153</td>\n",
       "    </tr>\n",
       "    <tr>\n",
       "      <th>14-24</th>\n",
       "      <td>-1.283923</td>\n",
       "      <td>0.316508</td>\n",
       "    </tr>\n",
       "    <tr>\n",
       "      <th>24+</th>\n",
       "      <td>0.213178</td>\n",
       "      <td>3.563127</td>\n",
       "    </tr>\n",
       "  </tbody>\n",
       "</table>\n",
       "</div>"
      ],
      "text/plain": [
       "            CAX       CAX\n",
       "0-5    0.647237  0.871563\n",
       "5-10   0.507847  1.566153\n",
       "10-14  0.195407 -0.481153\n",
       "14-24 -1.283923  0.316508\n",
       "24+    0.213178  3.563127"
      ]
     },
     "execution_count": 103,
     "metadata": {},
     "output_type": "execute_result"
    }
   ],
   "source": [
    "ataques"
   ]
  },
  {
   "cell_type": "code",
   "execution_count": 98,
   "metadata": {
    "collapsed": true
   },
   "outputs": [
    {
     "data": {
      "text/html": [
       "<div>\n",
       "<style scoped>\n",
       "    .dataframe tbody tr th:only-of-type {\n",
       "        vertical-align: middle;\n",
       "    }\n",
       "\n",
       "    .dataframe tbody tr th {\n",
       "        vertical-align: top;\n",
       "    }\n",
       "\n",
       "    .dataframe thead th {\n",
       "        text-align: right;\n",
       "    }\n",
       "</style>\n",
       "<table border=\"1\" class=\"dataframe\">\n",
       "  <thead>\n",
       "    <tr style=\"text-align: right;\">\n",
       "      <th></th>\n",
       "      <th>level_0</th>\n",
       "      <th>index</th>\n",
       "      <th>Time</th>\n",
       "      <th>Tempo</th>\n",
       "      <th>Indicador</th>\n",
       "      <th>dif_casa</th>\n",
       "      <th>dif_visita</th>\n",
       "      <th>diff_pontuacao</th>\n",
       "      <th>Time_Novo</th>\n",
       "    </tr>\n",
       "  </thead>\n",
       "  <tbody>\n",
       "    <tr>\n",
       "      <th>1</th>\n",
       "      <td>1</td>\n",
       "      <td>1</td>\n",
       "      <td>CAX</td>\n",
       "      <td>35.0</td>\n",
       "      <td>2_Pts_C</td>\n",
       "      <td>-2.0</td>\n",
       "      <td>2.0</td>\n",
       "      <td>2.0</td>\n",
       "      <td>35.0</td>\n",
       "    </tr>\n",
       "    <tr>\n",
       "      <th>3</th>\n",
       "      <td>3</td>\n",
       "      <td>3</td>\n",
       "      <td>CAX</td>\n",
       "      <td>18.0</td>\n",
       "      <td>ER</td>\n",
       "      <td>-3.0</td>\n",
       "      <td>3.0</td>\n",
       "      <td>3.0</td>\n",
       "      <td>18.0</td>\n",
       "    </tr>\n",
       "    <tr>\n",
       "      <th>5</th>\n",
       "      <td>5</td>\n",
       "      <td>5</td>\n",
       "      <td>CAX</td>\n",
       "      <td>23.0</td>\n",
       "      <td>LL_Pts_C</td>\n",
       "      <td>-6.0</td>\n",
       "      <td>6.0</td>\n",
       "      <td>6.0</td>\n",
       "      <td>23.0</td>\n",
       "    </tr>\n",
       "    <tr>\n",
       "      <th>7</th>\n",
       "      <td>7</td>\n",
       "      <td>7</td>\n",
       "      <td>CAX</td>\n",
       "      <td>14.0</td>\n",
       "      <td>3_Pts_C</td>\n",
       "      <td>-7.0</td>\n",
       "      <td>7.0</td>\n",
       "      <td>7.0</td>\n",
       "      <td>14.0</td>\n",
       "    </tr>\n",
       "    <tr>\n",
       "      <th>9</th>\n",
       "      <td>9</td>\n",
       "      <td>9</td>\n",
       "      <td>CAX</td>\n",
       "      <td>17.0</td>\n",
       "      <td>ER</td>\n",
       "      <td>-7.0</td>\n",
       "      <td>7.0</td>\n",
       "      <td>7.0</td>\n",
       "      <td>17.0</td>\n",
       "    </tr>\n",
       "    <tr>\n",
       "      <th>...</th>\n",
       "      <td>...</td>\n",
       "      <td>...</td>\n",
       "      <td>...</td>\n",
       "      <td>...</td>\n",
       "      <td>...</td>\n",
       "      <td>...</td>\n",
       "      <td>...</td>\n",
       "      <td>...</td>\n",
       "      <td>...</td>\n",
       "    </tr>\n",
       "    <tr>\n",
       "      <th>121</th>\n",
       "      <td>121</td>\n",
       "      <td>121</td>\n",
       "      <td>CAX</td>\n",
       "      <td>28.0</td>\n",
       "      <td>3_Pts_T</td>\n",
       "      <td>2.0</td>\n",
       "      <td>-2.0</td>\n",
       "      <td>2.0</td>\n",
       "      <td>28.0</td>\n",
       "    </tr>\n",
       "    <tr>\n",
       "      <th>123</th>\n",
       "      <td>123</td>\n",
       "      <td>123</td>\n",
       "      <td>CAX</td>\n",
       "      <td>21.0</td>\n",
       "      <td>2_Pts_C</td>\n",
       "      <td>0.0</td>\n",
       "      <td>0.0</td>\n",
       "      <td>0.0</td>\n",
       "      <td>21.0</td>\n",
       "    </tr>\n",
       "    <tr>\n",
       "      <th>125</th>\n",
       "      <td>125</td>\n",
       "      <td>125</td>\n",
       "      <td>CAX</td>\n",
       "      <td>11.0</td>\n",
       "      <td>ER</td>\n",
       "      <td>2.0</td>\n",
       "      <td>-2.0</td>\n",
       "      <td>2.0</td>\n",
       "      <td>11.0</td>\n",
       "    </tr>\n",
       "    <tr>\n",
       "      <th>127</th>\n",
       "      <td>127</td>\n",
       "      <td>127</td>\n",
       "      <td>CAX</td>\n",
       "      <td>6.0</td>\n",
       "      <td>LL_Pts_T</td>\n",
       "      <td>2.0</td>\n",
       "      <td>-2.0</td>\n",
       "      <td>2.0</td>\n",
       "      <td>6.0</td>\n",
       "    </tr>\n",
       "    <tr>\n",
       "      <th>129</th>\n",
       "      <td>129</td>\n",
       "      <td>129</td>\n",
       "      <td>CAX</td>\n",
       "      <td>2.0</td>\n",
       "      <td>3_Pts_T</td>\n",
       "      <td>4.0</td>\n",
       "      <td>-4.0</td>\n",
       "      <td>4.0</td>\n",
       "      <td>2.0</td>\n",
       "    </tr>\n",
       "  </tbody>\n",
       "</table>\n",
       "<p>65 rows × 9 columns</p>\n",
       "</div>"
      ],
      "text/plain": [
       "     level_0  index Time  Tempo Indicador  dif_casa  dif_visita  \\\n",
       "1          1      1  CAX   35.0   2_Pts_C      -2.0         2.0   \n",
       "3          3      3  CAX   18.0        ER      -3.0         3.0   \n",
       "5          5      5  CAX   23.0  LL_Pts_C      -6.0         6.0   \n",
       "7          7      7  CAX   14.0   3_Pts_C      -7.0         7.0   \n",
       "9          9      9  CAX   17.0        ER      -7.0         7.0   \n",
       "..       ...    ...  ...    ...       ...       ...         ...   \n",
       "121      121    121  CAX   28.0   3_Pts_T       2.0        -2.0   \n",
       "123      123    123  CAX   21.0   2_Pts_C       0.0         0.0   \n",
       "125      125    125  CAX   11.0        ER       2.0        -2.0   \n",
       "127      127    127  CAX    6.0  LL_Pts_T       2.0        -2.0   \n",
       "129      129    129  CAX    2.0   3_Pts_T       4.0        -4.0   \n",
       "\n",
       "     diff_pontuacao  Time_Novo  \n",
       "1               2.0       35.0  \n",
       "3               3.0       18.0  \n",
       "5               6.0       23.0  \n",
       "7               7.0       14.0  \n",
       "9               7.0       17.0  \n",
       "..              ...        ...  \n",
       "121             2.0       28.0  \n",
       "123             0.0       21.0  \n",
       "125             2.0       11.0  \n",
       "127             2.0        6.0  \n",
       "129             4.0        2.0  \n",
       "\n",
       "[65 rows x 9 columns]"
      ]
     },
     "execution_count": 98,
     "metadata": {},
     "output_type": "execute_result"
    }
   ],
   "source": [
    "posse_de_bola_b = posse_de_bola[posse_de_bola['Time'] == sigla_time_b]\n",
    "valores_b = len(posse_de_bola_b[posse_de_bola_b['Tempo'] <= 5])\n",
    "valores_b"
   ]
  },
  {
   "cell_type": "code",
   "execution_count": 101,
   "metadata": {},
   "outputs": [
    {
     "data": {
      "text/plain": [
       "2"
      ]
     },
     "execution_count": 101,
     "metadata": {},
     "output_type": "execute_result"
    }
   ],
   "source": [
    "posse_de_bola_a = posse_de_bola[posse_de_bola['Time'] == sigla_time_a]\n",
    "valores_a = len(posse_de_bola_a[posse_de_bola_a['Tempo'] <= 5])\n",
    "valores_a"
   ]
  },
  {
   "cell_type": "code",
   "execution_count": null,
   "metadata": {},
   "outputs": [],
   "source": [
    "aaaaaaaaaaaaa"
   ]
  },
  {
   "cell_type": "markdown",
   "metadata": {},
   "source": [
    "# Analisar os períodos positivos dos times"
   ]
  },
  {
   "cell_type": "code",
   "execution_count": null,
   "metadata": {},
   "outputs": [],
   "source": [
    "# Criar um novo dataFrame para analisar os períodos positivos dos times\n",
    "data = pd.DataFrame()\n",
    "data['Time'] = pontuacao['Time']\n",
    "data['Indicador'] = pontuacao['Indicador']\n",
    "data['diff_pontuacao'] = pontuacao['diferenca_placar_visitante']\n",
    "data['Tempo'] = pontuacao['Tempo']\n",
    "data"
   ]
  },
  {
   "cell_type": "code",
   "execution_count": null,
   "metadata": {},
   "outputs": [],
   "source": [
    "# Utilizando a diferença do placar entre casa e visitante, aplicando diff (diferença entre as linhas) \n",
    "# e usando seu valor absoluto (abs())\n",
    "# nós podemos encontrar o valor de cada indicador técnico \n",
    "data[\"pontuacao\"] = data[\"diff_pontuacao\"].diff()\n",
    "data[\"pontuacao\"] = data[\"pontuacao\"].apply(lambda x: abs(x))"
   ]
  },
  {
   "cell_type": "code",
   "execution_count": null,
   "metadata": {},
   "outputs": [],
   "source": [
    "# como o primeiro valor some quando fazemos a diff e esse primeiro valor é importante pq é o primeiro ponto, nós adicionamos ele\n",
    "novo_valor = data[\"diff_pontuacao\"][0]\n",
    "data.loc[0, 'pontuacao'] = abs(novo_valor)"
   ]
  },
  {
   "cell_type": "code",
   "execution_count": null,
   "metadata": {},
   "outputs": [],
   "source": [
    "data.reset_index(drop=True, inplace=True)"
   ]
  },
  {
   "cell_type": "code",
   "execution_count": null,
   "metadata": {},
   "outputs": [],
   "source": [
    "data['pontuacao'] = data['pontuacao'].astype(int)\n",
    "data.head(15)"
   ]
  },
  {
   "cell_type": "code",
   "execution_count": null,
   "metadata": {},
   "outputs": [],
   "source": [
    "data.to_csv('tempo2.csv')"
   ]
  },
  {
   "cell_type": "code",
   "execution_count": null,
   "metadata": {},
   "outputs": [],
   "source": [
    "# esse df é usado para retirar alguns argumentos que não fazem diferença \n",
    "# na função abaixo retiramos as listas vazias que o loop gera quando o time se repete \n",
    "def remove_item(my_list,*args):\n",
    "    deletar = list(args)\n",
    "    for item in deletar:\n",
    "        while item in my_list:\n",
    "            my_list.remove(item)\n",
    "    return my_list"
   ]
  },
  {
   "cell_type": "markdown",
   "metadata": {},
   "source": [
    "# preciso entender como funciona o while com o for juntos e também os df"
   ]
  },
  {
   "cell_type": "code",
   "execution_count": null,
   "metadata": {},
   "outputs": [],
   "source": [
    "# Utilizamos uma Flag para diferenciar as paradas entre os tempos iniciais de cada posse\n",
    "flag = -1\n",
    "# valores da ultima linha \n",
    "ultima_linha = []\n",
    "# valores finais da posse de bola\n",
    "tempo_a_peridodo_final = []\n",
    "tempo_b_peridodo_final = []\n",
    "# identifica o tempo final\n",
    "tempo_a_fim = 0\n",
    "tempo_b_fim = 0\n",
    "# utilizado para agrupar os valores da pontuação dos times\n",
    "time_a = []\n",
    "time_b = []\n",
    "# utilizados para somar os valores agrupados da pontuação \n",
    "soma_a = []\n",
    "soma_b = []\n",
    "\n",
    "for i in range(len(data)):\n",
    "    # caso corresponda ao nome do time A\n",
    "    if data['Time'][i] == sigla_time_a:\n",
    "        # adiciona o valor da pontuação\n",
    "        time_a.append(data['pontuacao'][i])\n",
    "        ##########################################\n",
    "        # pegam os valores acumulados do time B e as soma\n",
    "        soma_b.append(sum(time_b))\n",
    "        # zera esse valor da pontuação para não interferir na mudaça do for\n",
    "        time_b = []\n",
    "        # remove esses valores zerados\n",
    "        soma_b = remove_item(soma_b, 0)\n",
    "        if flag != 1:\n",
    "            # quando chegamos na flag o pensamento é pegar o primeiro valor que apresenta no Time A\n",
    "            # o loop do Time B é terminado \n",
    "            tempo_b_peridodo_final.append(tempo_b_fim)\n",
    "            # pega o primeiro valor do tempo de início\n",
    "            tempo_a_fim = data['Tempo'][i]            \n",
    "            flag = 1\n",
    "        else:\n",
    "            tempo_a_fim = data['Tempo'][i]\n",
    "            flag = 1\n",
    "    # caso corresponda ao nome do time B\n",
    "    elif data['Time'][i] == sigla_time_b:\n",
    "        # adiciona o valor da pontuação\n",
    "        time_b.append(data['pontuacao'][i])\n",
    "        #####################################################\n",
    "        # pegam os valores acumulados do time A e as soma\n",
    "        soma_a.append(sum(time_a))\n",
    "        # zera esse valor da pontuação para não interferir na mudaça do for\n",
    "        time_a = []\n",
    "        # remove esses valores zerados\n",
    "        soma_a = remove_item(soma_a, 0)\n",
    "        if flag != 0:\n",
    "            # quando chegamos na flag o pensamento é pegar o primeiro valor que apresenta no Time B\n",
    "            # o loop do Time A é terminado \n",
    "            tempo_a_peridodo_final.append(tempo_a_fim)\n",
    "            # pega o primeiro valor do tempo final\n",
    "            tempo_b_fim = data['Tempo'][i]\n",
    "            flag = 0\n",
    "        else:\n",
    "            tempo_b_fim = data['Tempo'][i]\n",
    "            flag = 0\n",
    "    # caso corresponda ao termino da partida\n",
    "    else:\n",
    "        # caso chegue no final da linha os valores são armazenados\n",
    "        ultima_linha = data['Tempo'][i]\n",
    "        if flag != 1:\n",
    "            tempo_b_peridodo_final.append(tempo_b_fim)\n",
    "            # aplicamos as ultimas somas  para cada time\n",
    "            # e removemos os valores que estão zerados \n",
    "            soma_b.append(sum(time_b))\n",
    "            soma_b = remove_item(soma_b, 0)\n",
    "            soma_a.append(np.nan)\n",
    "        else:\n",
    "            tempo_a_peridodo_final.append(tempo_a_fim)\n",
    "            # aplicamos as ultimas somas  para cada time\n",
    "            # e removemos os valores que estão zerados \n",
    "            soma_a.append(sum(time_a))\n",
    "            soma_a = remove_item(soma_a, 0)\n",
    "            soma_b.append(np.nan)"
   ]
  },
  {
   "cell_type": "code",
   "execution_count": null,
   "metadata": {},
   "outputs": [],
   "source": [
    "len(soma_a)"
   ]
  },
  {
   "cell_type": "code",
   "execution_count": null,
   "metadata": {},
   "outputs": [],
   "source": [
    "len(soma_b)"
   ]
  },
  {
   "cell_type": "code",
   "execution_count": null,
   "metadata": {},
   "outputs": [],
   "source": [
    "len(tempo_a_peridodo_final)"
   ]
  },
  {
   "cell_type": "code",
   "execution_count": null,
   "metadata": {},
   "outputs": [],
   "source": [
    "len(tempo_b_peridodo_final)"
   ]
  },
  {
   "cell_type": "code",
   "execution_count": null,
   "metadata": {},
   "outputs": [],
   "source": [
    "# caso o tamanho do inicio esteja variando  por causa dos ultimos lances relacionados ao tempo de partida \n",
    "# a gente alinha dessa forma \n",
    "if len(tempo_a_peridodo_final) < len(tempo_b_peridodo_final):\n",
    "    # o fim do tempo b é o início do tempo A, pq a troca de bola é alternada\n",
    "    tempo_a_peridodo_final.append(ultima_linha)\n",
    "    nome_time_A = [sigla_time_a for item03 in range(len(tempo_a_peridodo_final))]\n",
    "    posse_de_bola_A = pd.DataFrame()\n",
    "    posse_de_bola_A['Time'] = nome_time_A\n",
    "    posse_de_bola_A['Tempo_de_Inicio'] = tempo_b_peridodo_final\n",
    "    posse_de_bola_A['Tempo_de_Termino'] = tempo_a_peridodo_final\n",
    "    posse_de_bola_A['Soma_Pontuacao'] = soma_a\n",
    "    ########################################################################\n",
    "    del(tempo_b_peridodo_final[0])\n",
    "    tempo_b_peridodo_final.append(ultima_linha)\n",
    "    soma_b.append(np.nan)\n",
    "    nome_time_B = [sigla_time_b for item03 in range(len(tempo_b_peridodo_final))]\n",
    "    posse_de_bola_B = pd.DataFrame()\n",
    "    posse_de_bola_B['Time'] = nome_time_B\n",
    "    posse_de_bola_B['Tempo_de_Inicio'] = tempo_a_peridodo_final\n",
    "    posse_de_bola_B['Tempo_de_Termino'] = tempo_b_peridodo_final\n",
    "    posse_de_bola_B['Soma_Pontuacao'] = soma_b"
   ]
  },
  {
   "cell_type": "code",
   "execution_count": null,
   "metadata": {},
   "outputs": [],
   "source": [
    "# e acrescenta no a e agora tb acrescenta no B\n",
    "if len(tempo_a_peridodo_final) > len(tempo_b_peridodo_final):\n",
    "    tempo_b_peridodo_final.append(ultima_linha)\n",
    "    nome_time_B = [sigla_time_b for item03 in range(len(tempo_b_peridodo_final))]\n",
    "    posse_de_bola_B = pd.DataFrame()\n",
    "    posse_de_bola_B['Time'] = nome_time_B\n",
    "    posse_de_bola_B['Tempo_de_Inicio'] = tempo_a_peridodo_final\n",
    "    posse_de_bola_B['Tempo_de_Termino'] = tempo_b_peridodo_final\n",
    "    posse_de_bola_B['Soma_Pontuacao'] = soma_b\n",
    "    ###############################################################\n",
    "    del(tempo_a_peridodo_final[0])\n",
    "    tempo_a_peridodo_final.append(ultima_linha)\n",
    "    soma_a.append(np.nan)\n",
    "    nome_time_A = [sigla_time_a for item03 in range(len(tempo_a_peridodo_final))]\n",
    "    posse_de_bola_A = pd.DataFrame()\n",
    "    posse_de_bola_A['Time'] = nome_time_A\n",
    "    posse_de_bola_A['Tempo_de_Inicio'] = tempo_b_peridodo_final\n",
    "    posse_de_bola_A['Tempo_de_Termino'] = tempo_a_peridodo_final\n",
    "    posse_de_bola_A['Soma_Pontuacao'] = soma_a"
   ]
  },
  {
   "cell_type": "code",
   "execution_count": null,
   "metadata": {},
   "outputs": [],
   "source": [
    "if len(tempo_a_peridodo_final) == len(tempo_b_peridodo_final):\n",
    "    if tempo_a_peridodo_final[0] == 0:\n",
    "        nome_time_B = [sigla_time_b for item03 in range(len(tempo_b_peridodo_final))]\n",
    "        posse_de_bola_B = pd.DataFrame()\n",
    "        posse_de_bola_B['Time'] = nome_time_B\n",
    "        posse_de_bola_B['Tempo_de_Inicio'] = tempo_a_peridodo_final\n",
    "        posse_de_bola_B['Tempo_de_Termino'] = tempo_b_peridodo_final\n",
    "        posse_de_bola_B['Soma_Pontuacao'] = soma_b\n",
    "        #######################################\n",
    "        del(tempo_a_peridodo_final[0])\n",
    "        tempo_a_peridodo_final.append(ultima_linha)\n",
    "        nome_time_A = [sigla_time_a for item03 in range(len(tempo_a_peridodo_final))]\n",
    "        posse_de_bola_A = pd.DataFrame()\n",
    "        posse_de_bola_A['Time'] = nome_time_A\n",
    "        posse_de_bola_A['Tempo_de_Inicio'] = tempo_b_peridodo_final\n",
    "        posse_de_bola_A['Tempo_de_Termino'] = tempo_a_peridodo_final\n",
    "        posse_de_bola_A['Soma_Pontuacao'] = soma_a\n",
    "    elif tempo_b_peridodo_final[0] == 0:\n",
    "        nome_time_A = [sigla_time_a for item03 in range(len(tempo_a_peridodo_final))]\n",
    "        posse_de_bola_A = pd.DataFrame()\n",
    "        posse_de_bola_A['Time'] = nome_time_A\n",
    "        posse_de_bola_A['Tempo_de_Inicio'] = tempo_b_peridodo_final\n",
    "        posse_de_bola_A['Tempo_de_Termino'] = tempo_a_peridodo_final\n",
    "        posse_de_bola_A['Soma_Pontuacao'] = soma_a\n",
    "        #######################################\n",
    "        del(tempo_b_peridodo_final[0])\n",
    "        tempo_b_peridodo_final.append(ultima_linha)\n",
    "        nome_time_B = [sigla_time_b for item03 in range(len(tempo_b_peridodo_final))]\n",
    "        posse_de_bola_B = pd.DataFrame()\n",
    "        posse_de_bola_B['Time'] = nome_time_B\n",
    "        posse_de_bola_B['Tempo_de_Inicio'] = tempo_a_peridodo_final\n",
    "        posse_de_bola_B['Tempo_de_Termino'] = tempo_b_peridodo_final\n",
    "        posse_de_bola_B['Soma_Pontuacao'] = soma_b"
   ]
  },
  {
   "cell_type": "code",
   "execution_count": null,
   "metadata": {},
   "outputs": [],
   "source": [
    "posse_de_bola_A"
   ]
  },
  {
   "cell_type": "code",
   "execution_count": null,
   "metadata": {},
   "outputs": [],
   "source": [
    "posse_de_bola_B"
   ]
  },
  {
   "cell_type": "code",
   "execution_count": null,
   "metadata": {
    "scrolled": true
   },
   "outputs": [],
   "source": [
    "posse_de_bola_bruta = pd.concat([posse_de_bola_A, posse_de_bola_B], ignore_index=True)"
   ]
  },
  {
   "cell_type": "code",
   "execution_count": null,
   "metadata": {},
   "outputs": [],
   "source": [
    "posse_de_bola_bruta.sort_values(by='Tempo_de_Inicio', ignore_index=True, inplace=True)"
   ]
  },
  {
   "cell_type": "code",
   "execution_count": null,
   "metadata": {},
   "outputs": [],
   "source": [
    "posse_de_bola_bruta[\"diff_pontuacao\"] = posse_de_bola_bruta[\"Soma_Pontuacao\"].diff()\n",
    "posse_de_bola_bruta.head(10)"
   ]
  },
  {
   "cell_type": "code",
   "execution_count": null,
   "metadata": {},
   "outputs": [],
   "source": [
    "periodos_posteriores = []\n",
    "for i in range(len(posse_de_bola_bruta)):\n",
    "    if posse_de_bola_bruta['Soma_Pontuacao'][i] >= 5:\n",
    "        periodo_potencial_a_positivo = 1\n",
    "    else:\n",
    "        if (posse_de_bola_bruta['diff_pontuacao'][i] <= -4) & (posse_de_bola_bruta['Soma_Pontuacao'][i] < 3):\n",
    "            periodos_posteriores.append(posse_de_bola_bruta['Tempo_de_Inicio'][i])\n",
    "            if periodo_potencial_a_positivo == 1:\n",
    "                periodo_potencial_a_positivo = 0\n",
    "            elif periodo_potencial_a_positivo != 1:\n",
    "                periodo_potencial_a_positivo = 0"
   ]
  },
  {
   "cell_type": "code",
   "execution_count": null,
   "metadata": {},
   "outputs": [],
   "source": [
    "periodos_posteriores"
   ]
  },
  {
   "cell_type": "code",
   "execution_count": null,
   "metadata": {},
   "outputs": [],
   "source": [
    "periodos_iniciais = posse_de_bola_bruta[~posse_de_bola_bruta['Tempo_de_Inicio'].isin(periodos_posteriores)]\n",
    "periodos_iniciais.reset_index(inplace=True, drop=True)\n",
    "periodos_iniciais.head(10)"
   ]
  },
  {
   "cell_type": "code",
   "execution_count": null,
   "metadata": {},
   "outputs": [],
   "source": [
    "flag = -1\n",
    "tempo_a_peridodo_inicial = []\n",
    "tempo_b_peridodo_inicial = []\n",
    "tempo_a_peridodo_final = []\n",
    "tempo_b_peridodo_final = []\n",
    "pontuação_a = []\n",
    "pontuação_b = []\n",
    "nome_time_A = []\n",
    "nome_time_B = []\n",
    "# como o time do flamengo começa, o time de minas não apresenta o primeiro valor\n",
    "# por causa disso é acrescentado um valor 0 que não existe \n",
    "potencial_final_periodo_a = 0\n",
    "potencial_final_periodo_b = 0\n",
    "\n",
    "for i in range(len(periodos_iniciais)):\n",
    "    if periodos_iniciais['Time'][i] == sigla_time_a:\n",
    "        if flag != 1:\n",
    "            potencial_final_periodo_a = periodos_iniciais['Tempo_de_Termino'][i]\n",
    "            tempo_a_peridodo_inicial.append(periodos_iniciais['Tempo_de_Inicio'][i])\n",
    "            nome_time_A.append(periodos_iniciais['Time'][i])\n",
    "            pontuação_a.append(periodos_iniciais['Soma_Pontuacao'][i])\n",
    "            ##################################################################\n",
    "            tempo_b_peridodo_final.append(potencial_final_periodo_b)\n",
    "            flag = 1\n",
    "        else:\n",
    "            potencial_final_periodo_a = periodos_iniciais['Tempo_de_Termino'][i]\n",
    "            flag = 1\n",
    "    else:\n",
    "        if flag != 0:\n",
    "            tempo_a_peridodo_final.append(potencial_final_periodo_a)\n",
    "            ############################################################\n",
    "            potencial_final_periodo_b = periodos_iniciais['Tempo_de_Termino'][i]\n",
    "            tempo_b_peridodo_inicial.append(periodos_iniciais['Tempo_de_Inicio'][i])\n",
    "            nome_time_B.append(periodos_iniciais['Time'][i])\n",
    "            pontuação_b.append(periodos_iniciais['Soma_Pontuacao'][i])\n",
    "            flag = 0\n",
    "        else:\n",
    "            potencial_final_periodo_b = periodos_iniciais['Tempo_de_Termino'][i]\n",
    "            flag = 0"
   ]
  },
  {
   "cell_type": "code",
   "execution_count": null,
   "metadata": {},
   "outputs": [],
   "source": [
    "len(tempo_b_peridodo_inicial)"
   ]
  },
  {
   "cell_type": "code",
   "execution_count": null,
   "metadata": {},
   "outputs": [],
   "source": [
    "len(tempo_a_peridodo_inicial)"
   ]
  },
  {
   "cell_type": "code",
   "execution_count": null,
   "metadata": {},
   "outputs": [],
   "source": [
    "if len(tempo_a_peridodo_final) == len(tempo_b_peridodo_final):\n",
    "    if tempo_a_peridodo_final[0] == 0:\n",
    "        periodos_B = pd.DataFrame()\n",
    "        periodos_B['Time'] = nome_time_B\n",
    "        periodos_B['Tempo_de_Inicio'] = tempo_b_peridodo_inicial\n",
    "        periodos_B['Tempo_de_Termino'] = tempo_b_peridodo_final\n",
    "        periodos_B['Soma_Pontuacao'] = pontuação_b\n",
    "        #######################################\n",
    "        del(tempo_a_peridodo_final[0])\n",
    "        tempo_a_peridodo_final.append(ultima_linha)\n",
    "        periodos_A = pd.DataFrame()\n",
    "        periodos_A['Time'] = nome_time_A\n",
    "        periodos_A['Tempo_de_Inicio'] = tempo_a_peridodo_inicial\n",
    "        periodos_A['Tempo_de_Termino'] = tempo_a_peridodo_final\n",
    "        periodos_A['Soma_Pontuacao'] = pontuação_a\n",
    "    elif tempo_b_peridodo_final[0] == 0:\n",
    "        periodos_A = pd.DataFrame()\n",
    "        periodos_A['Time'] = nome_time_A\n",
    "        periodos_A['Tempo_de_Inicio'] = tempo_a_peridodo_inicial\n",
    "        periodos_A['Tempo_de_Termino'] = tempo_a_peridodo_final\n",
    "        periodos_A['Soma_Pontuacao'] = pontuação_a\n",
    "        #######################################\n",
    "        del(tempo_b_peridodo_final[0])\n",
    "        tempo_b_peridodo_final.append(ultima_linha)\n",
    "        periodos_B = pd.DataFrame()\n",
    "        periodos_B['Time'] = nome_time_B\n",
    "        periodos_B['Tempo_de_Inicio'] = tempo_b_peridodo_inicial\n",
    "        periodos_B['Tempo_de_Termino'] = tempo_b_peridodo_final\n",
    "        periodos_B['Soma_Pontuacao'] = pontuação_b"
   ]
  },
  {
   "cell_type": "code",
   "execution_count": null,
   "metadata": {},
   "outputs": [],
   "source": [
    "periodo = pd.concat([periodos_A, periodos_B], ignore_index=True)"
   ]
  },
  {
   "cell_type": "code",
   "execution_count": null,
   "metadata": {},
   "outputs": [],
   "source": [
    "periodo.sort_values(by='Tempo_de_Inicio', ignore_index=True, inplace=True)\n",
    "periodo.head()"
   ]
  },
  {
   "cell_type": "code",
   "execution_count": null,
   "metadata": {},
   "outputs": [],
   "source": [
    "periodo_final_a = periodo.loc[(periodo['Soma_Pontuacao'] >=5) & (periodo['Time'] == sigla_time_a)]\n",
    "periodo_final_a"
   ]
  },
  {
   "cell_type": "code",
   "execution_count": null,
   "metadata": {},
   "outputs": [],
   "source": [
    "periodo_final_a_inicio = list(periodo_final_a['Tempo_de_Inicio'])\n",
    "periodo_final_a_final = list(periodo_final_a['Tempo_de_Termino'])"
   ]
  },
  {
   "cell_type": "code",
   "execution_count": null,
   "metadata": {},
   "outputs": [],
   "source": [
    "periodo_final_a_inicio"
   ]
  },
  {
   "cell_type": "code",
   "execution_count": null,
   "metadata": {},
   "outputs": [],
   "source": [
    "periodo_final_a_final"
   ]
  },
  {
   "cell_type": "code",
   "execution_count": null,
   "metadata": {},
   "outputs": [],
   "source": [
    "plt.style.use('seaborn')\n",
    "sns.set_style('white')\n",
    "plt.figure(figsize=(15,5))\n",
    "plt.plot(pontuacao['Tempo'], pontuacao['diferenca_placar_casa'], label = 'dif_placar')\n",
    "plt.title('Períodos Positivos na Diferença do Placar Casa Durante a Partida', fontsize=18)\n",
    "plt.xlabel('Tempo de Jogo em Segundos')\n",
    "plt.ylabel('Diferença do Placar')\n",
    "plt.legend(loc='upper left', bbox_to_anchor=(1, 1), prop={'size':14})\n",
    "for x in periodo_final_a_inicio:\n",
    "    plt.axvline(x, color='red', label=pontuacao.index, linestyle='--', alpha=0.4)\n",
    "for x in periodo_final_a_final:\n",
    "    plt.axvline(x, color='green', label=pontuacao.index, linestyle='--', alpha=0.4)\n",
    "plt.savefig('RELATORIO/teste1.jpeg', format='jpg')"
   ]
  },
  {
   "cell_type": "code",
   "execution_count": null,
   "metadata": {},
   "outputs": [],
   "source": [
    "periodo_final_b = periodo.loc[(periodo['Soma_Pontuacao'] >=5) & (periodo['Time'] == sigla_time_b)]"
   ]
  },
  {
   "cell_type": "code",
   "execution_count": null,
   "metadata": {},
   "outputs": [],
   "source": [
    "periodo_final_b_inicio = list(periodo_final_b['Tempo_de_Inicio'])\n",
    "periodo_final_b_final = list(periodo_final_b['Tempo_de_Termino'])"
   ]
  },
  {
   "cell_type": "code",
   "execution_count": null,
   "metadata": {},
   "outputs": [],
   "source": [
    "periodo_final_b_inicio"
   ]
  },
  {
   "cell_type": "code",
   "execution_count": null,
   "metadata": {},
   "outputs": [],
   "source": [
    "periodo_final_b_final"
   ]
  },
  {
   "cell_type": "code",
   "execution_count": null,
   "metadata": {
    "scrolled": true
   },
   "outputs": [],
   "source": [
    "plt.style.use('seaborn')\n",
    "sns.set_style('white')\n",
    "plt.figure(figsize=(15,5))\n",
    "plt.plot(pontuacao['Tempo'], pontuacao['diferenca_placar_visitante'], label = 'dif_placar')\n",
    "plt.title('Períodos Positivos na Diferença do Placar Visitante Durante a Partida', fontsize=18)\n",
    "plt.xlabel('Tempo de Jogo em Segundos')\n",
    "plt.ylabel('Diferença do Placar')\n",
    "plt.legend(loc='upper left', bbox_to_anchor=(1, 1), prop={'size':14})\n",
    "for x in periodo_final_b_inicio:\n",
    "    plt.axvline(x, color='red', label=pontuacao.index, linestyle='--', alpha=0.4)\n",
    "for x in periodo_final_b_final:\n",
    "    plt.axvline(x, color='green', label=pontuacao.index, linestyle='--', alpha=0.4)\n",
    "plt.savefig('RELATORIO/teste2.jpeg', format='jpg')"
   ]
  },
  {
   "cell_type": "markdown",
   "metadata": {},
   "source": [
    "# Tabela de dados geral"
   ]
  },
  {
   "cell_type": "code",
   "execution_count": null,
   "metadata": {},
   "outputs": [],
   "source": [
    "Tabela_Geral = df[['Time','Indicador','Nome']]"
   ]
  },
  {
   "cell_type": "code",
   "execution_count": null,
   "metadata": {},
   "outputs": [],
   "source": [
    "Tabela_Geral"
   ]
  },
  {
   "cell_type": "code",
   "execution_count": null,
   "metadata": {},
   "outputs": [],
   "source": [
    "Tabela_Geral_Time1 = Tabela_Geral[Tabela_Geral['Time'] == sigla_time_a]\n",
    "Tabela_Geral_Time2 = Tabela_Geral[Tabela_Geral['Time'] == sigla_time_b]"
   ]
  },
  {
   "cell_type": "code",
   "execution_count": null,
   "metadata": {},
   "outputs": [],
   "source": [
    "Tabela_Geral_Time1"
   ]
  },
  {
   "cell_type": "code",
   "execution_count": null,
   "metadata": {},
   "outputs": [],
   "source": [
    "tabela_time1 = Tabela_Geral_Time1.groupby(['Nome', 'Indicador']).count()\n",
    "tabela_time2 = Tabela_Geral_Time2.groupby(['Nome', 'Indicador']).count()"
   ]
  },
  {
   "cell_type": "code",
   "execution_count": null,
   "metadata": {},
   "outputs": [],
   "source": [
    "tabela_time1"
   ]
  },
  {
   "cell_type": "code",
   "execution_count": null,
   "metadata": {},
   "outputs": [],
   "source": [
    "tabela_time2"
   ]
  },
  {
   "cell_type": "code",
   "execution_count": null,
   "metadata": {},
   "outputs": [],
   "source": [
    "tabela_time1_pivot = tabela_time1.pivot_table(index='Indicador',columns=['Nome'],aggfunc=sum, fill_value=0).T\n",
    "tabela_time2_pivot = tabela_time2.pivot_table(index='Indicador',columns=['Nome'],aggfunc=sum, fill_value=0).T"
   ]
  },
  {
   "cell_type": "code",
   "execution_count": null,
   "metadata": {},
   "outputs": [],
   "source": [
    "tabela_time1_pivot"
   ]
  },
  {
   "cell_type": "code",
   "execution_count": null,
   "metadata": {},
   "outputs": [],
   "source": [
    "tabela_time2_pivot"
   ]
  },
  {
   "cell_type": "code",
   "execution_count": null,
   "metadata": {},
   "outputs": [],
   "source": [
    "# Esses indicadores podem não aparecer no jogo \n",
    "# dessa maneira eu vou criar um if e acrescentar \n",
    "valores_coluna_time1 = []\n",
    "for i in tabela_time1_pivot:\n",
    "    valores_coluna_time1.append(i)\n",
    "\n",
    "tamanho_df_pivot = len(tabela_time1_pivot)\n",
    "if 'TO' not in valores_coluna_time1:\n",
    "    toco = [0 for itens in range(tamanho_df_pivot)]\n",
    "    tabela_time1_pivot['TO'] = toco\n",
    "if 'FC_O'not in valores_coluna_time1:\n",
    "    fco = [0 for itens in range(tamanho_df_pivot)]\n",
    "    tabela_time1_pivot['FC_O'] = fco  \n",
    "if 'FC_T'not in valores_coluna_time1:\n",
    "    fct = [0 for itens in range(tamanho_df_pivot)]\n",
    "    tabela_time1_pivot['FC_T'] = fct   \n",
    "if 'FC_A'not in valores_coluna_time1:\n",
    "    fca = [0 for itens in range(tamanho_df_pivot)]\n",
    "    tabela_time1_pivot['FC_A'] = fca\n",
    "if 'EN' not in valores_coluna_time1:\n",
    "    en = [0 for itens in range(tamanho_df_pivot)]\n",
    "    tabela_time1_pivot['EN'] = en\n",
    "if 'LL_Pts_C' not in valores_coluna_time1:\n",
    "    llc = [0 for itens in range(tamanho_df_pivot)]\n",
    "    tabela_time1_pivot['LL_Pts_C'] = llc\n",
    "if 'LL_Pts_T' not in valores_coluna_time1:\n",
    "    llt = [0 for itens in range(tamanho_df_pivot)]\n",
    "    tabela_time1_pivot['LL_Pts_T'] = llt\n",
    "\n",
    "nome_time_casa0 = [nome_time_casa for itens in range(tamanho_df_pivot)]\n",
    "tabela_time1_pivot['Time'] = nome_time_casa0\n",
    "\n",
    "nome_time_fora0 = [nome_time_fora for itens in range(tamanho_df_pivot)]\n",
    "tabela_time1_pivot['Oponente'] = nome_time_fora0\n",
    "\n",
    "dia_do_jogo0 = [dia_do_jogo for itens in range(tamanho_df_pivot)]\n",
    "tabela_time1_pivot['Data'] = dia_do_jogo0\n",
    "\n",
    "casa0 = [casa for itens in range(tamanho_df_pivot)]\n",
    "tabela_time1_pivot['Casa/Fora'] = casa0\n",
    "\n",
    "classificatoria0 = [classificatoria for itens in range(tamanho_df_pivot)]\n",
    "tabela_time1_pivot['Classificatoria/Playoffs'] = classificatoria0"
   ]
  },
  {
   "cell_type": "code",
   "execution_count": null,
   "metadata": {},
   "outputs": [],
   "source": [
    "tabela_time1_pivot.reset_index(inplace=True)\n",
    "tabela_time1_pivot.drop(['level_0'], axis=1, inplace=True)\n",
    "tabela_time1_pivot"
   ]
  },
  {
   "cell_type": "code",
   "execution_count": null,
   "metadata": {},
   "outputs": [],
   "source": [
    "# Esses indicadores podem não aparecer no jogo \n",
    "# dessa maneira eu vou criar um if e acrescentar \n",
    "valores_coluna_time2 = []\n",
    "for i in tabela_time2_pivot:\n",
    "    valores_coluna_time2.append(i)\n",
    "\n",
    "tamanho_df_pivot = len(tabela_time2_pivot)\n",
    "if 'TO' not in valores_coluna_time2:\n",
    "    toco = [0 for itens in range(tamanho_df_pivot)]\n",
    "    tabela_time2_pivot['TO'] = toco\n",
    "if 'FC_O'not in valores_coluna_time2:\n",
    "    fco = [0 for itens in range(tamanho_df_pivot)]\n",
    "    tabela_time2_pivot['FC_O'] = fco  \n",
    "if 'FC_T'not in valores_coluna_time2:\n",
    "    fct = [0 for itens in range(tamanho_df_pivot)]\n",
    "    tabela_time2_pivot['FC_T'] = fct   \n",
    "if 'FC_A'not in valores_coluna_time2:\n",
    "    fca = [0 for itens in range(tamanho_df_pivot)]\n",
    "    tabela_time2_pivot['FC_A'] = fca\n",
    "if 'EN'not in valores_coluna_time2:\n",
    "    en = [0 for itens in range(tamanho_df_pivot)]\n",
    "    tabela_time2_pivot['EN'] = en\n",
    "if 'LL_Pts_C' not in valores_coluna_time2:\n",
    "    llc = [0 for itens in range(tamanho_df_pivot)]\n",
    "    tabela_time2_pivot['LL_Pts_C'] = llc\n",
    "if 'LL_Pts_T' not in valores_coluna_time2:\n",
    "    llt = [0 for itens in range(tamanho_df_pivot)]\n",
    "    tabela_time2_pivot['LL_Pts_T'] = llt\n",
    "    \n",
    "nome_time_fora0 = [nome_time_fora for itens in range(tamanho_df_pivot)]\n",
    "tabela_time2_pivot['Time'] = nome_time_fora0\n",
    "\n",
    "nome_time_casa0 = [nome_time_casa for itens in range(tamanho_df_pivot)]\n",
    "tabela_time2_pivot['Oponente'] = nome_time_casa0\n",
    "\n",
    "dia_do_jogo0 = [dia_do_jogo for itens in range(tamanho_df_pivot)]\n",
    "tabela_time2_pivot['Data'] = dia_do_jogo0\n",
    "\n",
    "fora0 = [fora for itens in range(tamanho_df_pivot)]\n",
    "tabela_time2_pivot['Casa/Fora'] = fora0\n",
    "\n",
    "classificatoria0 = [classificatoria for itens in range(tamanho_df_pivot)]\n",
    "tabela_time2_pivot['Classificatoria/Playoffs'] = classificatoria0  "
   ]
  },
  {
   "cell_type": "code",
   "execution_count": null,
   "metadata": {},
   "outputs": [],
   "source": [
    "tabela_time2_pivot.reset_index(inplace=True)\n",
    "tabela_time2_pivot.drop(['level_0'], axis=1, inplace=True)\n",
    "tabela_time2_pivot.head(5)"
   ]
  },
  {
   "cell_type": "markdown",
   "metadata": {},
   "source": [
    "### criar um novo data frame e agregar a soma"
   ]
  },
  {
   "cell_type": "code",
   "execution_count": null,
   "metadata": {},
   "outputs": [],
   "source": [
    "Time1_Final = pd.DataFrame()"
   ]
  },
  {
   "cell_type": "code",
   "execution_count": null,
   "metadata": {},
   "outputs": [],
   "source": [
    "Time1_Final['Time'] = tabela_time1_pivot['Time']\n",
    "Time1_Final['Oponente'] = tabela_time1_pivot['Oponente']\n",
    "Time1_Final['Data'] = tabela_time1_pivot['Data']\n",
    "Time1_Final['Casa/Fora'] = tabela_time1_pivot['Casa/Fora']\n",
    "Time1_Final['Classificatoria/Playoffs'] = tabela_time1_pivot['Classificatoria/Playoffs']\n",
    "Time1_Final['Nome'] = tabela_time1_pivot['Nome']\n",
    "Time1_Final['Pts_3_C'] = tabela_time1_pivot['3_Pts_C'] * 3\n",
    "Time1_Final['Pts_3_T'] = (tabela_time1_pivot['3_Pts_T'] + tabela_time1_pivot['3_Pts_C']) * 3\n",
    "Time1_Final['Pts_2_C'] = (tabela_time1_pivot['2_Pts_C'] + tabela_time1_pivot['EN']) * 2\n",
    "Time1_Final['Pts_2_T'] = (tabela_time1_pivot['2_Pts_T'] + tabela_time1_pivot['2_Pts_C'] + tabela_time1_pivot['EN']) * 2\n",
    "Time1_Final['LL_C'] = tabela_time1_pivot['LL_Pts_C']\n",
    "Time1_Final['LL_T'] = tabela_time1_pivot['LL_Pts_T'] + tabela_time1_pivot['LL_Pts_C']\n",
    "Time1_Final['RO'] = tabela_time1_pivot['RO']\n",
    "Time1_Final['RD'] = tabela_time1_pivot['RD']\n",
    "Time1_Final['RT'] = tabela_time1_pivot['RO'] + tabela_time1_pivot['RD']\n",
    "Time1_Final['AS'] = tabela_time1_pivot['AS']\n",
    "Time1_Final['BR'] = tabela_time1_pivot['BR']\n",
    "Time1_Final['TO'] = tabela_time1_pivot['TO']\n",
    "Time1_Final['FC'] = tabela_time1_pivot['FC'] + tabela_time1_pivot['FC_T']+tabela_time1_pivot['FC_O']+tabela_time1_pivot['FC_A']\n",
    "Time1_Final['FR'] = tabela_time1_pivot['FR']\n",
    "Time1_Final['ER'] = tabela_time1_pivot['ER']\n",
    "Time1_Final['EN'] = tabela_time1_pivot['EN']\n",
    "Time1_Final['substituicao_entra'] = tabela_time1_pivot['substituicao_entra']\n",
    "Time1_Final['substituicao_sai'] = tabela_time1_pivot['substituicao_sai']"
   ]
  },
  {
   "cell_type": "code",
   "execution_count": null,
   "metadata": {},
   "outputs": [],
   "source": [
    "Time1_Final['Ar_Pts_C'] = Time1_Final['Pts_3_C'] + Time1_Final['Pts_2_C'] -  Time1_Final['EN']# por o teste3['Pts_2_C'] contabiliza EN\n",
    "Time1_Final['Ar_Pts_T'] = Time1_Final['Pts_3_T'] + Time1_Final['Pts_2_T'] # NÃO contabiliza EN\n",
    "Time1_Final['Pts_C'] = Time1_Final['Pts_3_C'] + Time1_Final['Pts_2_C'] + Time1_Final['LL_C']\n",
    "Time1_Final['Pts_T'] = Time1_Final['Pts_3_T'] + Time1_Final['Pts_2_T'] + Time1_Final['LL_T']\n",
    "# mudar os nomes para ações coletivas\n",
    "Time1_Final['Nome'].replace(nome_time_casa, 'Açõe coletivas', inplace=True)"
   ]
  },
  {
   "cell_type": "code",
   "execution_count": null,
   "metadata": {},
   "outputs": [],
   "source": [
    "Time1_Final['posse_de_bola'] = round(Time1_Final['Ar_Pts_T'] - Time1_Final['RO'] + Time1_Final['ER'] + (0.4 * Time1_Final['LL_T']), 0)\n",
    "Time1_Final"
   ]
  },
  {
   "cell_type": "code",
   "execution_count": null,
   "metadata": {},
   "outputs": [],
   "source": [
    "Time2_Final = pd.DataFrame()"
   ]
  },
  {
   "cell_type": "code",
   "execution_count": null,
   "metadata": {},
   "outputs": [],
   "source": [
    "Time2_Final['Time'] = tabela_time2_pivot['Time']\n",
    "Time2_Final['Oponente'] = tabela_time2_pivot['Oponente']\n",
    "Time2_Final['Data'] = tabela_time2_pivot['Data']\n",
    "Time2_Final['Casa/Fora'] = tabela_time2_pivot['Casa/Fora']\n",
    "Time2_Final['Classificatoria/Playoffs'] = tabela_time2_pivot['Classificatoria/Playoffs']\n",
    "Time2_Final['Nome'] = tabela_time2_pivot['Nome']\n",
    "Time2_Final['Pts_3_C'] = tabela_time2_pivot['3_Pts_C'] * 3\n",
    "Time2_Final['Pts_3_T'] = (tabela_time2_pivot['3_Pts_T'] + tabela_time2_pivot['3_Pts_C']) * 3\n",
    "Time2_Final['Pts_2_C'] = (tabela_time2_pivot['2_Pts_C'] + tabela_time2_pivot['EN']) * 2\n",
    "Time2_Final['Pts_2_T'] = (tabela_time2_pivot['2_Pts_T'] + tabela_time2_pivot['2_Pts_C'] + tabela_time2_pivot['EN']) * 2\n",
    "Time2_Final['LL_C'] = tabela_time2_pivot['LL_Pts_C']\n",
    "Time2_Final['LL_T'] = tabela_time2_pivot['LL_Pts_T'] + tabela_time2_pivot['LL_Pts_C']\n",
    "Time2_Final['RO'] = tabela_time2_pivot['RO']\n",
    "Time2_Final['RD'] = tabela_time2_pivot['RD']\n",
    "Time2_Final['RT'] = tabela_time2_pivot['RO'] + tabela_time2_pivot['RD']\n",
    "Time2_Final['AS'] = tabela_time2_pivot['AS']\n",
    "Time2_Final['BR'] = tabela_time2_pivot['BR']\n",
    "Time2_Final['TO'] = tabela_time2_pivot['TO']\n",
    "Time2_Final['FC'] = tabela_time2_pivot['FC'] + tabela_time2_pivot['FC_T']+tabela_time2_pivot['FC_O']+tabela_time2_pivot['FC_A']\n",
    "Time2_Final['FR'] = tabela_time2_pivot['FR']\n",
    "Time2_Final['ER'] = tabela_time2_pivot['ER']\n",
    "Time2_Final['EN'] = tabela_time2_pivot['EN']\n",
    "Time2_Final['substituicao_entra'] = tabela_time2_pivot['substituicao_entra']\n",
    "Time2_Final['substituicao_sai'] = tabela_time2_pivot['substituicao_sai']"
   ]
  },
  {
   "cell_type": "code",
   "execution_count": null,
   "metadata": {},
   "outputs": [],
   "source": [
    "Time2_Final['Ar_Pts_C'] = Time2_Final['Pts_3_C'] + Time2_Final['Pts_2_C'] -  Time2_Final['EN']# por o teste3['Pts_2_C'] contabiliza EN\n",
    "Time2_Final['Ar_Pts_T'] = Time2_Final['Pts_3_T'] + Time2_Final['Pts_2_T']  # NÃO contabiliza EN\n",
    "Time2_Final['Pts_C'] = Time2_Final['Pts_3_C'] + Time2_Final['Pts_2_C'] + Time2_Final['LL_C']\n",
    "Time2_Final['Pts_T'] = Time2_Final['Pts_3_T'] + Time2_Final['Pts_2_T'] + Time2_Final['LL_T']\n",
    "# mudar os nomes para ações coletivas\n",
    "Time2_Final['Nome'].replace(nome_time_fora, 'Açõe coletivas', inplace=True)"
   ]
  },
  {
   "cell_type": "code",
   "execution_count": null,
   "metadata": {},
   "outputs": [],
   "source": [
    "Time2_Final['posse_de_bola'] = round(Time2_Final['Ar_Pts_T'] - Time2_Final['RO'] + Time2_Final['ER'] + (0.4 * Time2_Final['LL_T']), 0)\n",
    "Time2_Final"
   ]
  },
  {
   "cell_type": "markdown",
   "metadata": {},
   "source": [
    "### Somar tudo para ter o resultado da equipe"
   ]
  },
  {
   "cell_type": "code",
   "execution_count": null,
   "metadata": {},
   "outputs": [],
   "source": [
    "resultado_Time1 = Time1_Final.sum()\n",
    "resultado_Time2 = Time2_Final.sum()"
   ]
  },
  {
   "cell_type": "code",
   "execution_count": null,
   "metadata": {},
   "outputs": [],
   "source": [
    "resultado_Time1['Nome'] = 'Equipe'\n",
    "resultado_Time2['Nome'] = 'Equipe'\n",
    "resultado_Time1['Time'] = nome_time_casa\n",
    "resultado_Time2['Time'] = nome_time_fora\n",
    "resultado_Time1['Oponente'] = nome_time_fora\n",
    "resultado_Time2['Oponente'] = nome_time_casa\n",
    "resultado_Time1['Data'] = dia_do_jogo\n",
    "resultado_Time2['Data'] = dia_do_jogo\n",
    "resultado_Time1['Casa/Fora'] = casa\n",
    "resultado_Time2['Casa/Fora'] = fora\n",
    "resultado_Time1['Classificatoria/Playoffs'] = classificatoria\n",
    "resultado_Time2['Classificatoria/Playoffs'] = classificatoria"
   ]
  },
  {
   "cell_type": "code",
   "execution_count": null,
   "metadata": {},
   "outputs": [],
   "source": [
    "# agregar no dataframe final\n",
    "Time1_Final = Time1_Final.append(resultado_Time1, ignore_index=True)\n",
    "Time2_Final = Time2_Final.append(resultado_Time2, ignore_index=True)"
   ]
  },
  {
   "cell_type": "code",
   "execution_count": null,
   "metadata": {},
   "outputs": [],
   "source": [
    "Time1_Final"
   ]
  },
  {
   "cell_type": "code",
   "execution_count": null,
   "metadata": {},
   "outputs": [],
   "source": [
    "Time2_Final"
   ]
  },
  {
   "cell_type": "code",
   "execution_count": null,
   "metadata": {},
   "outputs": [],
   "source": [
    "# esse código é para a criação dos gráficos de comparação\n",
    "tabela_times = pd.concat([Time1_Final[Time1_Final['Nome'] == 'Equipe'], Time2_Final[Time2_Final['Nome'] == 'Equipe']], ignore_index=True)\n",
    "tabela_times"
   ]
  },
  {
   "cell_type": "markdown",
   "metadata": {},
   "source": [
    "# Acrescentar a diferença do placar e vitória derrota"
   ]
  },
  {
   "cell_type": "code",
   "execution_count": null,
   "metadata": {},
   "outputs": [],
   "source": [
    "dif_placar_geral = tabela_times['Pts_C'].diff()"
   ]
  },
  {
   "cell_type": "code",
   "execution_count": null,
   "metadata": {},
   "outputs": [],
   "source": [
    "# acrescenta a diferença do placar do times \n",
    "positivo = []\n",
    "negativo = []\n",
    "resul_dif = []\n",
    "op_1 = ['vitória', 'derrota']\n",
    "op_2 = ['derrota', 'vitória']\n",
    "tamanho_df_pivot = len(Time1_Final)\n",
    "tamanho_df_pivot0 = len(Time2_Final)\n",
    "if dif_placar_geral[1] <= 0:\n",
    "    positivo = abs(dif_placar_geral[1])\n",
    "    negativo = dif_placar_geral[1]\n",
    "    resul_dif = [positivo, negativo]\n",
    "    tabela_times['Diferenca_Placar'] = resul_dif\n",
    "    tabela_times['Vitoria/Derrota'] = op_1\n",
    "    ################################################\n",
    "    vit_der = ['vitória' for itens in range(tamanho_df_pivot)]\n",
    "    Time1_Final['Vitoria/Derrota'] = vit_der\n",
    "    dif = [positivo for itens in range(tamanho_df_pivot)]\n",
    "    Time1_Final['Diferenca_Placar'] = dif\n",
    "    #########################################################\n",
    "    vit_der0 = ['derrota' for itens in range(tamanho_df_pivot0)]\n",
    "    Time2_Final['Vitoria/Derrota'] = vit_der0\n",
    "    dif0 = [negativo for itens in range(tamanho_df_pivot0)]\n",
    "    Time2_Final['Diferenca_Placar'] = dif0\n",
    "else:\n",
    "    positivo = dif_placar_geral[1]\n",
    "    negativo = -(dif_placar_geral[1])\n",
    "    resul_dif = [negativo, positivo]\n",
    "    tabela_times['Diferenca_Placar'] = resul_dif\n",
    "    tabela_times['Vitoria/Derrota'] = op_2\n",
    "    ################################################\n",
    "    vit_der = ['derrota' for itens in range(tamanho_df_pivot)]\n",
    "    Time1_Final['Vitoria/Derrota'] = vit_der\n",
    "    dif = [negativo for itens in range(tamanho_df_pivot)]\n",
    "    Time1_Final['Diferenca_Placar'] = dif\n",
    "    #########################################################\n",
    "    vit_der0 = ['vitória' for itens in range(tamanho_df_pivot0)]\n",
    "    Time2_Final['Vitoria/Derrota'] = vit_der0\n",
    "    dif0 = [positivo for itens in range(tamanho_df_pivot0)]\n",
    "    Time2_Final['Diferenca_Placar'] = dif0"
   ]
  },
  {
   "cell_type": "code",
   "execution_count": null,
   "metadata": {},
   "outputs": [],
   "source": [
    "tabela_times"
   ]
  },
  {
   "cell_type": "code",
   "execution_count": null,
   "metadata": {},
   "outputs": [],
   "source": [
    "Time1_Final.head()"
   ]
  },
  {
   "cell_type": "code",
   "execution_count": null,
   "metadata": {},
   "outputs": [],
   "source": [
    "Time2_Final"
   ]
  },
  {
   "cell_type": "code",
   "execution_count": null,
   "metadata": {},
   "outputs": [],
   "source": [
    "Tabela_Final = pd.concat([Time1_Final,Time2_Final]).reset_index(drop=True)"
   ]
  },
  {
   "cell_type": "code",
   "execution_count": null,
   "metadata": {},
   "outputs": [],
   "source": [
    "Tabela_Final.head(10)"
   ]
  },
  {
   "cell_type": "markdown",
   "metadata": {},
   "source": [
    "# Análise Avançada"
   ]
  },
  {
   "cell_type": "markdown",
   "metadata": {},
   "source": [
    "As análises avançadas são compostas pelos seguintes indicadores \n",
    "\n",
    "* EF_Pts     -> Eficiência dos pontos totais\n",
    "* FR_3_Pts_C -> Frequência relativa do 3 pontos convertidos\n",
    "* FR_3_Pts_T -> Frequência relativa do 3 pontos tentados\n",
    "* EF_Pts_3   -> Eficiência dos 3 pontos\n",
    "* FR_2_Pts_C -> Frequência relativa do 2 pontos convertidos\n",
    "* FR_2_Pts_T -> Frequência relativa do 2 pontos tentados\n",
    "* EF_Pts_2   -> Eficiência dos 2 pontos\n",
    "* FR_LL_C    -> Frequência relativa dos Lances Livres convertidos\n",
    "* FR_LL_T    -> Frequência relativa dos Lances Livres tentados\n",
    "* EF_LL      -> Eficiência dos Lances Livres\n",
    "* Pace       -> \n",
    "* eFG_%      -> Aproveitamento efetivo dos pontos\n",
    "* TOV_%      -> Fator turnover\n",
    "* FTA/FGA    -> Fator de aproveitamento dos lances livres\n",
    "* ORB%       -> \n",
    "* Posse_de_Bola -> Posse de Bola\n",
    "* Offensive_Rating -> pontos por posse de bola com o ajusto de 100 posses\n",
    "* TS_%       -> Porcentagem dos arremessos\n",
    "* Ass/ER     -> Assistência por erros\n",
    "* AS_Ratio   -> Assistências por posse de bola"
   ]
  },
  {
   "cell_type": "code",
   "execution_count": null,
   "metadata": {},
   "outputs": [],
   "source": [
    "analise = pd.DataFrame()"
   ]
  },
  {
   "cell_type": "code",
   "execution_count": null,
   "metadata": {},
   "outputs": [],
   "source": [
    "analise['Time'] = Tabela_Final['Time']\n",
    "analise['Oponente'] = Tabela_Final['Oponente']\n",
    "analise['Data'] = Tabela_Final['Data']\n",
    "analise['Casa/Fora'] = Tabela_Final['Casa/Fora']\n",
    "analise['Classificatoria/Playoffs'] = Tabela_Final['Classificatoria/Playoffs']\n",
    "analise['Nome'] = Tabela_Final['Nome']  # Jogadores\n",
    "analise['EF_Pts'] = round(Tabela_Final['Pts_C'] / Tabela_Final['Pts_T'], 3) # eficiência dos pontos totais\n",
    "analise['FR_3_Pts_C'] = round((Tabela_Final['Pts_3_C'] * 3) / Tabela_Final['Pts_C'], 3)  # frequência relativa do 3 pontos convertidos \n",
    "analise['FR_3_Pts_T'] = round((Tabela_Final['Pts_3_T'] * 3) / Tabela_Final['Pts_T'], 3)  # frequência relativa do 3 pontos tentados \n",
    "analise['EF_Pts_3'] = round(Tabela_Final['Pts_3_C'] / Tabela_Final['Pts_3_T'], 3)  # eficiência dos 3 pontos \n",
    "analise['FR_2_Pts_C'] = round((Tabela_Final['Pts_2_C'] * 2) / Tabela_Final['Pts_C'], 3)  # frequência relativa do 2 pontos convertidos\n",
    "analise['FR_2_Pts_T'] = round((Tabela_Final['Pts_2_T'] * 2) / Tabela_Final['Pts_T'], 3)  # frequência relativa do 2 pontos tentados \n",
    "analise['EF_Pts_2'] = round(Tabela_Final['Pts_2_C'] / Tabela_Final['Pts_2_T'], 3)  # eficiência dos 2 pontos\n",
    "analise['FR_LL_C'] = round(Tabela_Final['LL_C'] / Tabela_Final['Pts_C'], 3)  # frequência relativa dos Lances Livres convertidos\n",
    "analise['FR_LL_T'] = round(Tabela_Final['LL_T'] / Tabela_Final['Pts_T'], 3)  # frequência relativa dos Lances Livres tentados\n",
    "analise['EF_LL'] = round(Tabela_Final['LL_C'] /Tabela_Final['LL_T'], 3)  # eficiência dos Lances Livres\n",
    "# analise['Pace']\n",
    "# four fectores\n",
    "analise['eFG_%'] = round((Tabela_Final['Ar_Pts_C'] + 0.5 * Tabela_Final['Pts_3_C']) / Tabela_Final['Ar_Pts_T'], 3)  #  aproveitamento efetivo\n",
    "analise['TOV_%'] = round(100 * Tabela_Final['ER'] / (Tabela_Final['Ar_Pts_T'] + 0.475 * Tabela_Final['LL_T'] + Tabela_Final['ER']), 1)  # fator turnover\n",
    "analise['FTA/FGA'] = round(Tabela_Final['LL_T'] / Tabela_Final['Ar_Pts_C'], 3)  # fator de aproveitamento dos lances livres\n",
    "# analise['ORB%'] =  # precisa do resultado do time adv\n",
    "\n",
    "analise['Posse_de_Bola']  = Tabela_Final['posse_de_bola']   # posse de bola \n",
    "analise['Offensive_Rating'] = 100 * round(Tabela_Final['Pts_C']/Tabela_Final['posse_de_bola'], 3) # pontos por posse de bola com o ajusto de 100 posses\n",
    "\n",
    "analise['TS_%'] = round(Tabela_Final['Pts_C'] / (2*(Tabela_Final['Ar_Pts_T'] + 0.475 * Tabela_Final['LL_T'])), 3)  # porcentagem dos arremessos\n",
    "analise['Ass/ER'] = round(Tabela_Final['AS'] / Tabela_Final['ER'], 3)  # assistência por erros\n",
    "analise['AS_Ratio'] = 100 * round((Tabela_Final['AS'] / Tabela_Final['posse_de_bola']), 3)  # assistências por posse de bola \n",
    "analise.reset_index();"
   ]
  },
  {
   "cell_type": "code",
   "execution_count": null,
   "metadata": {},
   "outputs": [],
   "source": [
    "analise"
   ]
  },
  {
   "cell_type": "markdown",
   "metadata": {},
   "source": [
    "# colocar uma tabela geral com análises "
   ]
  },
  {
   "cell_type": "code",
   "execution_count": null,
   "metadata": {},
   "outputs": [],
   "source": [
    "grafico_Time1_Final = Time1_Final[['Time' ,'Nome', 'Pts_C', 'Pts_T','Pts_3_C', 'Pts_3_T', 'Pts_2_C', 'Pts_2_T', 'LL_C', 'LL_T', \n",
    "                                   'RO', 'RD', 'RT', 'AS', 'BR', 'TO', 'FC', 'FR', 'ER', 'EN']]\n",
    "grafico_Time1_Final"
   ]
  },
  {
   "cell_type": "code",
   "execution_count": null,
   "metadata": {},
   "outputs": [],
   "source": [
    "dfi.export(grafico_Time1_Final, 'RELATORIO/teste5.png')"
   ]
  },
  {
   "cell_type": "code",
   "execution_count": null,
   "metadata": {},
   "outputs": [],
   "source": [
    "grafico_Time2_Final = Time2_Final[['Time', 'Nome', 'Pts_C', 'Pts_T','Pts_3_C', 'Pts_3_T', 'Pts_2_C', 'Pts_2_T', 'LL_C', 'LL_T', \n",
    "                                   'RO', 'RD', 'RT', 'AS', 'BR', 'TO', 'FC', 'FR', 'ER', 'EN']]\n",
    "grafico_Time2_Final.head()"
   ]
  },
  {
   "cell_type": "code",
   "execution_count": null,
   "metadata": {},
   "outputs": [],
   "source": [
    "dfi.export(grafico_Time2_Final, 'RELATORIO/teste6.png')"
   ]
  },
  {
   "cell_type": "markdown",
   "metadata": {},
   "source": [
    "# Os Cinco melhores de cada time nos indicadores"
   ]
  },
  {
   "cell_type": "markdown",
   "metadata": {},
   "source": [
    "### Quando for colocar no relatório utilize essas formulas para poder identificar os 5 melhores, mas a principal tabela é 'melhor_jogador_time1'"
   ]
  },
  {
   "cell_type": "markdown",
   "metadata": {},
   "source": [
    "### Time 1"
   ]
  },
  {
   "cell_type": "code",
   "execution_count": null,
   "metadata": {
    "scrolled": true
   },
   "outputs": [],
   "source": [
    "melhor_jogador_time1 = Time1_Final[(Time1_Final['Nome']!='Equipe') & (Time1_Final['Nome']!='Açõe coletivas')]\n",
    "melhor_jogador_time1"
   ]
  },
  {
   "cell_type": "code",
   "execution_count": null,
   "metadata": {},
   "outputs": [],
   "source": [
    "pontos_c_1 = melhor_jogador_time1.sort_values(by='Pts_C', ascending=False, ignore_index=True)[['Nome','Pts_C']][:5]\n",
    "pontos_c_1"
   ]
  },
  {
   "cell_type": "code",
   "execution_count": null,
   "metadata": {},
   "outputs": [],
   "source": [
    "pontos_t_1 = melhor_jogador_time1.sort_values(by='Pts_T', ascending=False, ignore_index=True)[['Nome','Pts_T']][:5]\n",
    "pontos_t_1"
   ]
  },
  {
   "cell_type": "code",
   "execution_count": null,
   "metadata": {},
   "outputs": [],
   "source": [
    "tres_pontos_c_1 = melhor_jogador_time1.sort_values(by='Pts_3_C', ascending=False, ignore_index=True)[['Nome','Pts_3_C']][:5]\n",
    "tres_pontos_c_1"
   ]
  },
  {
   "cell_type": "code",
   "execution_count": null,
   "metadata": {},
   "outputs": [],
   "source": [
    "tres_pontos_t_1 = melhor_jogador_time1.sort_values(by='Pts_3_T', ascending=False, ignore_index=True)[['Nome','Pts_3_T']][:5]\n",
    "tres_pontos_t_1"
   ]
  },
  {
   "cell_type": "code",
   "execution_count": null,
   "metadata": {},
   "outputs": [],
   "source": [
    "dois_pontos_c_1 = melhor_jogador_time1.sort_values(by='Pts_2_C', ascending=False, ignore_index=True)[['Nome','Pts_2_C']][:5]\n",
    "dois_pontos_c_1"
   ]
  },
  {
   "cell_type": "code",
   "execution_count": null,
   "metadata": {},
   "outputs": [],
   "source": [
    "dois_pontos_t_1 = melhor_jogador_time1.sort_values(by='Pts_2_T', ascending=False, ignore_index=True)[['Nome','Pts_2_T']][:5]\n",
    "dois_pontos_t_1"
   ]
  },
  {
   "cell_type": "code",
   "execution_count": null,
   "metadata": {},
   "outputs": [],
   "source": [
    "ll_c_1 = melhor_jogador_time1.sort_values(by='LL_C', ascending=False, ignore_index=True)[['Nome','LL_C']][:5]\n",
    "ll_c_1"
   ]
  },
  {
   "cell_type": "code",
   "execution_count": null,
   "metadata": {},
   "outputs": [],
   "source": [
    "ll_t_1 = melhor_jogador_time1.sort_values(by='LL_T', ascending=False, ignore_index=True)[['Nome','LL_T']][:5]\n",
    "ll_c_1"
   ]
  },
  {
   "cell_type": "code",
   "execution_count": null,
   "metadata": {},
   "outputs": [],
   "source": [
    "ro_1 = melhor_jogador_time1.sort_values(by='RO', ascending=False, ignore_index=True)[['Nome','RO']][:5]\n",
    "ro_1"
   ]
  },
  {
   "cell_type": "code",
   "execution_count": null,
   "metadata": {},
   "outputs": [],
   "source": [
    "rd_1 = melhor_jogador_time1.sort_values(by='RD', ascending=False, ignore_index=True)[['Nome','RD']][:5]\n",
    "rd_1"
   ]
  },
  {
   "cell_type": "code",
   "execution_count": null,
   "metadata": {},
   "outputs": [],
   "source": [
    "rt_1 = melhor_jogador_time1.sort_values(by='RT', ascending=False, ignore_index=True)[['Nome','RT']][:5]\n",
    "rt_1"
   ]
  },
  {
   "cell_type": "code",
   "execution_count": null,
   "metadata": {},
   "outputs": [],
   "source": [
    "as_1 = melhor_jogador_time1.sort_values(by='AS', ascending=False, ignore_index=True)[['Nome','AS']][:5]\n",
    "as_1"
   ]
  },
  {
   "cell_type": "code",
   "execution_count": null,
   "metadata": {},
   "outputs": [],
   "source": [
    "br_1 = melhor_jogador_time1.sort_values(by='BR', ascending=False, ignore_index=True)[['Nome','BR']][:5]\n",
    "br_1"
   ]
  },
  {
   "cell_type": "code",
   "execution_count": null,
   "metadata": {},
   "outputs": [],
   "source": [
    "fr_1 = melhor_jogador_time1.sort_values(by='FR', ascending=False, ignore_index=True)[['Nome','FR']][:5]\n",
    "fr_1"
   ]
  },
  {
   "cell_type": "code",
   "execution_count": null,
   "metadata": {},
   "outputs": [],
   "source": [
    "er_1 = melhor_jogador_time1.sort_values(by='ER', ascending=False, ignore_index=True)[['Nome','ER']][:5]\n",
    "er_1"
   ]
  },
  {
   "cell_type": "markdown",
   "metadata": {},
   "source": [
    "# Os Cinco melhores de cada time nos indicadores"
   ]
  },
  {
   "cell_type": "markdown",
   "metadata": {},
   "source": [
    "### Quando for colocar no relatório utilize essas formulas para poder identificar os 5 melhores, mas a principal tabela é 'melhor_jogador_time2'"
   ]
  },
  {
   "cell_type": "markdown",
   "metadata": {},
   "source": [
    "### Time 2"
   ]
  },
  {
   "cell_type": "code",
   "execution_count": null,
   "metadata": {},
   "outputs": [],
   "source": [
    "melhor_jogador_time2 = Time2_Final[(Time2_Final['Nome']!='Equipe') & (Time2_Final['Nome']!='Açõe coletivas')]\n",
    "melhor_jogador_time2"
   ]
  },
  {
   "cell_type": "code",
   "execution_count": null,
   "metadata": {},
   "outputs": [],
   "source": [
    "pontos_c_2 = melhor_jogador_time2.sort_values(by='Pts_C', ascending=False, ignore_index=True)[['Nome','Pts_C']][:5]\n",
    "pontos_c_2"
   ]
  },
  {
   "cell_type": "code",
   "execution_count": null,
   "metadata": {},
   "outputs": [],
   "source": [
    "pontos_t_2 = melhor_jogador_time2.sort_values(by='Pts_T', ascending=False, ignore_index=True)[['Nome','Pts_T']][:5]\n",
    "pontos_t_2"
   ]
  },
  {
   "cell_type": "code",
   "execution_count": null,
   "metadata": {},
   "outputs": [],
   "source": [
    "tres_pontos_c_2 = melhor_jogador_time2.sort_values(by='Pts_3_C', ascending=False, ignore_index=True)[['Nome','Pts_3_C']][:5]\n",
    "tres_pontos_c_2"
   ]
  },
  {
   "cell_type": "code",
   "execution_count": null,
   "metadata": {},
   "outputs": [],
   "source": [
    "tres_pontos_t_2 = melhor_jogador_time2.sort_values(by='Pts_3_T', ascending=False, ignore_index=True)[['Nome','Pts_3_T']][:5]\n",
    "tres_pontos_t_2"
   ]
  },
  {
   "cell_type": "code",
   "execution_count": null,
   "metadata": {},
   "outputs": [],
   "source": [
    "dois_pontos_c_2 = melhor_jogador_time2.sort_values(by='Pts_2_C', ascending=False, ignore_index=True)[['Nome','Pts_2_C']][:5]\n",
    "dois_pontos_c_2"
   ]
  },
  {
   "cell_type": "code",
   "execution_count": null,
   "metadata": {},
   "outputs": [],
   "source": [
    "dois_pontos_t_2 = melhor_jogador_time2.sort_values(by='Pts_2_T', ascending=False, ignore_index=True)[['Nome','Pts_2_T']][:5]\n",
    "dois_pontos_t_2"
   ]
  },
  {
   "cell_type": "code",
   "execution_count": null,
   "metadata": {},
   "outputs": [],
   "source": [
    "ll_c_2 = melhor_jogador_time2.sort_values(by='LL_C', ascending=False, ignore_index=True)[['Nome','LL_C']][:5]\n",
    "ll_c_2"
   ]
  },
  {
   "cell_type": "code",
   "execution_count": null,
   "metadata": {},
   "outputs": [],
   "source": [
    "ll_t_2 = melhor_jogador_time2.sort_values(by='LL_T', ascending=False, ignore_index=True)[['Nome','LL_T']][:5]\n",
    "ll_c_2"
   ]
  },
  {
   "cell_type": "code",
   "execution_count": null,
   "metadata": {},
   "outputs": [],
   "source": [
    "ro_2 = melhor_jogador_time2.sort_values(by='RO', ascending=False, ignore_index=True)[['Nome','RO']][:5]\n",
    "ro_2"
   ]
  },
  {
   "cell_type": "code",
   "execution_count": null,
   "metadata": {},
   "outputs": [],
   "source": [
    "rd_2 = melhor_jogador_time2.sort_values(by='RD', ascending=False, ignore_index=True)[['Nome','RD']][:5]\n",
    "rd_2"
   ]
  },
  {
   "cell_type": "code",
   "execution_count": null,
   "metadata": {},
   "outputs": [],
   "source": [
    "rt_2 = melhor_jogador_time2.sort_values(by='RT', ascending=False, ignore_index=True)[['Nome','RT']][:5]\n",
    "rt_2"
   ]
  },
  {
   "cell_type": "code",
   "execution_count": null,
   "metadata": {},
   "outputs": [],
   "source": [
    "as_2 = melhor_jogador_time2.sort_values(by='AS', ascending=False, ignore_index=True)[['Nome','AS']][:5]\n",
    "as_2"
   ]
  },
  {
   "cell_type": "code",
   "execution_count": null,
   "metadata": {},
   "outputs": [],
   "source": [
    "br_2 = melhor_jogador_time2.sort_values(by='BR', ascending=False, ignore_index=True)[['Nome','BR']][:5]\n",
    "br_2"
   ]
  },
  {
   "cell_type": "code",
   "execution_count": null,
   "metadata": {},
   "outputs": [],
   "source": [
    "fr_2 = melhor_jogador_time2.sort_values(by='FR', ascending=False, ignore_index=True)[['Nome','FR']][:5]\n",
    "fr_2"
   ]
  },
  {
   "cell_type": "code",
   "execution_count": null,
   "metadata": {},
   "outputs": [],
   "source": [
    "er_2 = melhor_jogador_time2.sort_values(by='ER', ascending=False, ignore_index=True)[['Nome','ER']][:5]\n",
    "er_2"
   ]
  },
  {
   "cell_type": "markdown",
   "metadata": {},
   "source": [
    "# Gráficos dos Indicadores Técnicos "
   ]
  },
  {
   "cell_type": "code",
   "execution_count": null,
   "metadata": {
    "scrolled": true
   },
   "outputs": [],
   "source": [
    "tabela_times"
   ]
  },
  {
   "cell_type": "code",
   "execution_count": null,
   "metadata": {},
   "outputs": [],
   "source": [
    "tabela_times.to_csv('tabela_times.csv')"
   ]
  },
  {
   "cell_type": "markdown",
   "metadata": {},
   "source": [
    "#### Não sei o pq mas quando ploto a primeira vez o eixo X fica zoado, mas na sugunda funciona "
   ]
  },
  {
   "cell_type": "code",
   "execution_count": null,
   "metadata": {},
   "outputs": [],
   "source": [
    "sns.set_style('white')\n",
    "sns.barplot(x='Pts_T', y='Time', data=tabela_times, hue_order=True)\n",
    "plt.title('PORNTOS TENTADOS', fontsize=18)\n",
    "plt.xlabel('')\n",
    "plt.ylabel('Time', fontsize=18)\n",
    "plt.rcParams['ytick.labelsize'] = 16"
   ]
  },
  {
   "cell_type": "code",
   "execution_count": null,
   "metadata": {},
   "outputs": [],
   "source": [
    "sns.set_style('white')\n",
    "sns.barplot(x='Pts_T', y='Time', data=tabela_times)\n",
    "plt.title('PORNTOS TENTADOS', fontsize=18)\n",
    "plt.xlabel('')\n",
    "plt.ylabel('Time', fontsize=18)\n",
    "plt.rcParams['ytick.labelsize'] = 16\n",
    "plt.savefig('RELATORIO/Pts_T.png', format='png')"
   ]
  },
  {
   "cell_type": "code",
   "execution_count": null,
   "metadata": {},
   "outputs": [],
   "source": [
    "sns.set_style('white')\n",
    "sns.barplot(x='Pts_C', y='Time', data=tabela_times)\n",
    "plt.title('PORNTOS CONVERTIDOS', fontsize=18)\n",
    "plt.xlabel('')\n",
    "plt.ylabel('Time', fontsize=18)\n",
    "plt.rcParams['ytick.labelsize'] = 16\n",
    "plt.savefig('RELATORIO/Pts_C.png', format='png')"
   ]
  },
  {
   "cell_type": "code",
   "execution_count": null,
   "metadata": {},
   "outputs": [],
   "source": [
    "sns.set_style('white')\n",
    "sns.barplot(x='Pts_3_C', y='Time', data=tabela_times)\n",
    "plt.title('TRÊS PONTOS CONVERTIDOS', fontsize=18)\n",
    "plt.xlabel('')\n",
    "plt.ylabel('Time', fontsize=18)\n",
    "plt.rcParams['ytick.labelsize'] = 16\n",
    "plt.savefig('RELATORIO/Pts_3_C.png', format='png')"
   ]
  },
  {
   "cell_type": "code",
   "execution_count": null,
   "metadata": {},
   "outputs": [],
   "source": [
    "sns.set_style('white')\n",
    "sns.barplot(x='Pts_3_T', y='Time', data=tabela_times)\n",
    "plt.title('TRÊS PONTOS TENTADOS', fontsize=18)\n",
    "plt.xlabel('')\n",
    "plt.rcParams['ytick.labelsize'] = 16\n",
    "plt.ylabel('Time', fontsize=18)\n",
    "plt.savefig('RELATORIO/Pts_3_T.png', format='png')"
   ]
  },
  {
   "cell_type": "code",
   "execution_count": null,
   "metadata": {},
   "outputs": [],
   "source": [
    "sns.set_style('white')\n",
    "sns.barplot(x='Pts_2_C', y='Time', data=tabela_times)\n",
    "plt.title('DOIS PONTOS CONVERTIDOS', fontsize=18)\n",
    "plt.xlabel('')\n",
    "plt.rcParams['ytick.labelsize'] = 16\n",
    "plt.ylabel('Time', fontsize=18)\n",
    "plt.savefig('RELATORIO/Pts_2_C.png', format='png')"
   ]
  },
  {
   "cell_type": "code",
   "execution_count": null,
   "metadata": {},
   "outputs": [],
   "source": [
    "sns.set_style('white')\n",
    "sns.barplot(x='Pts_2_T', y='Time', data=tabela_times)\n",
    "plt.title('DOIS PONTOS TENTADOS', fontsize=18)\n",
    "plt.xlabel('')\n",
    "plt.rcParams['ytick.labelsize'] = 16\n",
    "plt.ylabel('Time', fontsize=18)\n",
    "plt.savefig('RELATORIO/Pts_2_T.png', format='png')"
   ]
  },
  {
   "cell_type": "code",
   "execution_count": null,
   "metadata": {},
   "outputs": [],
   "source": [
    "sns.set_style('white')\n",
    "sns.barplot(x='LL_C', y='Time', data=tabela_times)\n",
    "plt.title('LANCES LIVRES CONVERTIDOS', fontsize=18)\n",
    "plt.xlabel('')\n",
    "plt.rcParams['ytick.labelsize'] = 16\n",
    "plt.ylabel('Time', fontsize=18)\n",
    "plt.savefig('RELATORIO/LL_C.png', format='png')"
   ]
  },
  {
   "cell_type": "code",
   "execution_count": null,
   "metadata": {},
   "outputs": [],
   "source": [
    "sns.set_style('white')\n",
    "sns.barplot(x='LL_T', y='Time', data=tabela_times)\n",
    "plt.title('LANCES LIVRES TENTADOS', fontsize=18)\n",
    "plt.xlabel('')\n",
    "plt.rcParams['ytick.labelsize'] = 16\n",
    "plt.ylabel('Time', fontsize=18)\n",
    "plt.savefig('RELATORIO/LL_T.png', format='png')"
   ]
  },
  {
   "cell_type": "code",
   "execution_count": null,
   "metadata": {},
   "outputs": [],
   "source": [
    "sns.set_style('white')\n",
    "sns.barplot(x='RO', y='Time', data=tabela_times)\n",
    "plt.title('REBOTES OFENSIVOS', fontsize=18)\n",
    "plt.xlabel('')\n",
    "plt.rcParams['ytick.labelsize'] = 16\n",
    "plt.ylabel('Time', fontsize=18)\n",
    "plt.savefig('RELATORIO/RO.png', format='png')"
   ]
  },
  {
   "cell_type": "code",
   "execution_count": null,
   "metadata": {},
   "outputs": [],
   "source": [
    "sns.set_style('white')\n",
    "sns.barplot(x='RD', y='Time', data=tabela_times)\n",
    "plt.title('REBOTES DEFENSIVOS', fontsize=18)\n",
    "plt.xlabel('')\n",
    "plt.rcParams['ytick.labelsize'] = 16\n",
    "plt.ylabel('Time', fontsize=18)\n",
    "plt.savefig('RELATORIO/RD.png', format='png')"
   ]
  },
  {
   "cell_type": "code",
   "execution_count": null,
   "metadata": {},
   "outputs": [],
   "source": [
    "sns.set_style('white')\n",
    "sns.barplot(x='RT', y='Time', data=tabela_times)\n",
    "plt.title('REBOTES TOTAIS', fontsize=18)\n",
    "plt.xlabel('')\n",
    "plt.rcParams['ytick.labelsize'] = 16\n",
    "plt.ylabel('Time', fontsize=18)\n",
    "plt.savefig('RELATORIO/RT.png', format='png')"
   ]
  },
  {
   "cell_type": "code",
   "execution_count": null,
   "metadata": {},
   "outputs": [],
   "source": [
    "sns.set_style('white')\n",
    "sns.barplot(x='AS', y='Time', data=tabela_times)\n",
    "plt.title('ASSISTÊNCIAS', fontsize=18)\n",
    "plt.xlabel('')\n",
    "plt.rcParams['ytick.labelsize'] = 16\n",
    "plt.ylabel('Time', fontsize=18)\n",
    "plt.savefig('RELATORIO/AS.png', format='png')"
   ]
  },
  {
   "cell_type": "code",
   "execution_count": null,
   "metadata": {},
   "outputs": [],
   "source": [
    "sns.set_style('white')\n",
    "sns.barplot(x='BR', y='Time', data=tabela_times)\n",
    "plt.title('BOLAS ROUBADAS', fontsize=18)\n",
    "plt.xlabel('')\n",
    "plt.rcParams['ytick.labelsize'] = 16\n",
    "plt.ylabel('Time', fontsize=18)\n",
    "plt.savefig('RELATORIO/BR.png', format='png')"
   ]
  },
  {
   "cell_type": "code",
   "execution_count": null,
   "metadata": {},
   "outputs": [],
   "source": [
    "sns.set_style('white')\n",
    "sns.barplot(x='FC', y='Time', data=tabela_times)\n",
    "plt.title('FALTAS COMETIDAS', fontsize=18)\n",
    "plt.xlabel('')\n",
    "plt.rcParams['ytick.labelsize'] = 16\n",
    "plt.ylabel('Time', fontsize=18)\n",
    "plt.savefig('RELATORIO/FC.png', format='png')"
   ]
  },
  {
   "cell_type": "code",
   "execution_count": null,
   "metadata": {},
   "outputs": [],
   "source": [
    "sns.set_style('white')\n",
    "sns.barplot(x='ER', y='Time', data=tabela_times)\n",
    "plt.title('ERROS', fontsize=18)\n",
    "plt.xlabel('')\n",
    "plt.rcParams['ytick.labelsize'] = 16\n",
    "plt.ylabel('Time', fontsize=18)\n",
    "plt.savefig('RELATORIO/ER.png', format='png')"
   ]
  },
  {
   "cell_type": "markdown",
   "metadata": {},
   "source": [
    "# Gráficos com as análises avançadas "
   ]
  },
  {
   "cell_type": "markdown",
   "metadata": {},
   "source": [
    "Para se comparar os indicadores técnicos precisamos olhar não só do jogo mas tb da liga "
   ]
  },
  {
   "cell_type": "code",
   "execution_count": null,
   "metadata": {},
   "outputs": [],
   "source": [
    "para_grafico_time_1 = analise[(analise['Time'] == nome_time_casa) & (analise['Nome'] == 'Equipe')]\n",
    "para_grafico_time_1.reset_index(drop=True, inplace=True)"
   ]
  },
  {
   "cell_type": "code",
   "execution_count": null,
   "metadata": {},
   "outputs": [],
   "source": [
    "para_grafico_time_1.drop(['Oponente', 'Data', 'Casa/Fora', 'Classificatoria/Playoffs', 'Nome'], axis=1, inplace=True)"
   ]
  },
  {
   "cell_type": "markdown",
   "metadata": {},
   "source": [
    "### precisa acrescentar ao data frame os valore que representam a melhor temporda\n",
    "### Comparar com a perfeição "
   ]
  },
  {
   "cell_type": "code",
   "execution_count": null,
   "metadata": {},
   "outputs": [],
   "source": [
    "todas_temporadas = pd.DataFrame({'Time':['Melhor'],'EF_Pts':[0.700], 'EF_Pts_3':[0.700], 'EF_LL':[4.000], 'eFG_%':[0.7],\n",
    "                                 'TOV_%':[25.0], 'FTA/FGA':[0.2], 'Posse_de_Bola':[100.0], 'Offensive_Rating':[200.0],\n",
    "                                 'TS_%':[1.000], 'Ass/ER':[3.000], 'AS_Ratio':[30.0]})"
   ]
  },
  {
   "cell_type": "code",
   "execution_count": null,
   "metadata": {},
   "outputs": [],
   "source": [
    "# para_grafico_temporadas = pd.concat([para_grafico,todas_temporadas], ignore_index=True)"
   ]
  },
  {
   "cell_type": "code",
   "execution_count": null,
   "metadata": {},
   "outputs": [],
   "source": [
    "para_grafico_time_1"
   ]
  },
  {
   "cell_type": "code",
   "execution_count": null,
   "metadata": {},
   "outputs": [],
   "source": [
    "frequencia_certo = ['FR_3_Pts_C', 'FR_2_Pts_C', 'FR_LL_C']\n",
    "valores = [para_grafico_time_1['FR_3_Pts_C'][0], para_grafico_time_1['FR_2_Pts_C'][0], para_grafico_time_1['FR_LL_C'][0]]\n",
    "sns.set_style('whitegrid')\n",
    "sns.barplot(x=frequencia_certo, y=valores)\n",
    "plt.rcParams['xtick.labelsize'] = 16\n",
    "plt.rcParams['xtick.labelsize'] = 16"
   ]
  },
  {
   "cell_type": "code",
   "execution_count": null,
   "metadata": {},
   "outputs": [],
   "source": [
    "# Gráfico sobre a frequência relativa do arremessos certos e tentados \n",
    "FR_Pts_C = [para_grafico_time_1['FR_3_Pts_C'][0], para_grafico_time_1['FR_2_Pts_C'][0], para_grafico_time_1['FR_LL_C'][0]]\n",
    "FR_Pts_T = [para_grafico_time_1['FR_3_Pts_T'][0], para_grafico_time_1['FR_2_Pts_T'][0], para_grafico_time_1['FR_LL_T'][0]]\n",
    "\n",
    "\n",
    "# Definir a largura das barras\n",
    "barWidth = 0.25\n",
    "\n",
    "# Aumentar o gráfico\n",
    "plt.figure(figsize=(10,6))\n",
    "\n",
    "# Definir as posições das barras \n",
    "r1 = np.arange(len(FR_Pts_C))\n",
    "r2 = [x + barWidth for x in r1]\n",
    "\n",
    "# Estilo que vamos utilizar na barras\n",
    "sns.set_style('whitegrid')\n",
    "\n",
    "# Criar as barras \n",
    "plt.bar(r1, FR_Pts_C, color='red', width=barWidth, label='FR_Pts_C')\n",
    "plt.bar(r2, FR_Pts_T, color='blue', width=barWidth, label='FR_Pts_T')\n",
    "\n",
    "\n",
    "# Adicionando legendas as barras\n",
    "plt.title('Frequência Relativa do Arremessos Certos e Tentados', fontsize=18)\n",
    "plt.ylabel('Indicador Técnico/ Pontuação Total', fontsize=18)\n",
    "plt.xlabel('')\n",
    "plt.xticks([r + barWidth for r in range(len(FR_Pts_C))], ['FR_3_Pts', 'FR_2_Pts', 'FR_LL'],)\n",
    "\n",
    "# Criar a legenda e exibir o gráfico\n",
    "plt.legend(loc='upper right', bbox_to_anchor=(1.22, 1), prop={'size':14})\n",
    "plt.show()"
   ]
  },
  {
   "cell_type": "code",
   "execution_count": null,
   "metadata": {},
   "outputs": [],
   "source": [
    "# Gráfico sobre a frequência relativa do arremessos certos e tentados \n",
    "FR_Pts_C = [para_grafico_time_1['FR_3_Pts_C'][0], para_grafico_time_1['FR_2_Pts_C'][0], para_grafico_time_1['FR_LL_C'][0]]\n",
    "FR_Pts_T = [para_grafico_time_1['FR_3_Pts_T'][0], para_grafico_time_1['FR_2_Pts_T'][0], para_grafico_time_1['FR_LL_T'][0]]\n",
    "\n",
    "\n",
    "# Definir a largura das barras\n",
    "barWidth = 0.25\n",
    "\n",
    "# Aumentar o gráfico\n",
    "plt.figure(figsize=(10,6))\n",
    "\n",
    "# Definir as posições das barras \n",
    "r1 = np.arange(len(FR_Pts_C))\n",
    "r2 = [x + barWidth for x in r1]\n",
    "\n",
    "# Estilo que vamos utilizar na barras\n",
    "sns.set_style('whitegrid')\n",
    "\n",
    "# Criar as barras \n",
    "plt.bar(r1, FR_Pts_C, color='red', width=barWidth, label='FR_Pts_C')\n",
    "plt.bar(r2, FR_Pts_T, color='blue', width=barWidth, label='FR_Pts_T')\n",
    "\n",
    "\n",
    "# Adicionando legendas as barras\n",
    "plt.title('Frequência Relativa do Arremessos Certos e Tentados', fontsize=18)\n",
    "plt.ylabel('Indicador Técnico/ Pontuação Total', fontsize=18)\n",
    "plt.xlabel('')\n",
    "plt.xticks([r + barWidth for r in range(len(FR_Pts_C))], ['FR_3_Pts', 'FR_2_Pts', 'FR_LL'],)\n",
    "\n",
    "# Criar a legenda e exibir o gráfico\n",
    "plt.legend(loc='upper right', bbox_to_anchor=(1.22, 1), prop={'size':14})\n",
    "plt.show()"
   ]
  },
  {
   "cell_type": "markdown",
   "metadata": {},
   "source": [
    "### Time 2"
   ]
  },
  {
   "cell_type": "code",
   "execution_count": null,
   "metadata": {},
   "outputs": [],
   "source": [
    "para_grafico_time_2 = analise[(analise['Time'] == nome_time_fora) & (analise['Nome'] == 'Equipe')]\n",
    "para_grafico_time_2.reset_index(drop=True, inplace=True)"
   ]
  },
  {
   "cell_type": "code",
   "execution_count": null,
   "metadata": {},
   "outputs": [],
   "source": [
    "para_grafico_time_2.drop(['Oponente', 'Data', 'Casa/Fora', 'Classificatoria/Playoffs', 'Nome'], axis=1, inplace=True)"
   ]
  },
  {
   "cell_type": "code",
   "execution_count": null,
   "metadata": {},
   "outputs": [],
   "source": [
    "frequencia_certo = ['FR_3_Pts_C', 'FR_2_Pts_C', 'FR_LL_C']\n",
    "valores = [para_grafico_time_2['FR_3_Pts_C'][0], para_grafico_time_2['FR_2_Pts_C'][0], para_grafico_time_2['FR_LL_C'][0]]\n",
    "sns.set_style('whitegrid')\n",
    "sns.barplot(x=frequencia_certo, y=valores)\n",
    "plt.rcParams['xtick.labelsize'] = 16\n",
    "plt.rcParams['xtick.labelsize'] = 16"
   ]
  },
  {
   "cell_type": "code",
   "execution_count": null,
   "metadata": {},
   "outputs": [],
   "source": [
    "# Gráfico sobre a frequência relativa do arremessos certos e tentados \n",
    "FR_Pts_C = [para_grafico_time_2['FR_3_Pts_C'][0], para_grafico_time_2['FR_2_Pts_C'][0], para_grafico_time_2['FR_LL_C'][0]]\n",
    "FR_Pts_T = [para_grafico_time_2['FR_3_Pts_T'][0], para_grafico_time_2['FR_2_Pts_T'][0], para_grafico_time_2['FR_LL_T'][0]]\n",
    "\n",
    "\n",
    "# Definir a largura das barras\n",
    "barWidth = 0.25\n",
    "\n",
    "# Aumentar o gráfico\n",
    "plt.figure(figsize=(10,6))\n",
    "\n",
    "# Definir as posições das barras \n",
    "r1 = np.arange(len(FR_Pts_C))\n",
    "r2 = [x + barWidth for x in r1]\n",
    "\n",
    "# Estilo que vamos utilizar na barras\n",
    "sns.set_style('whitegrid')\n",
    "\n",
    "# Criar as barras \n",
    "plt.bar(r1, FR_Pts_C, color='red', width=barWidth, label='FR_Pts_C')\n",
    "plt.bar(r2, FR_Pts_T, color='blue', width=barWidth, label='FR_Pts_T')\n",
    "\n",
    "\n",
    "# Adicionando legendas as barras\n",
    "plt.title('Frequência Relativa do Arremessos Certos e Tentados', fontsize=18)\n",
    "plt.ylabel('Indicador Técnico/ Pontuação Total', fontsize=18)\n",
    "plt.xlabel('')\n",
    "plt.xticks([r + barWidth for r in range(len(FR_Pts_C))], ['FR_3_Pts', 'FR_2_Pts', 'FR_LL'],)\n",
    "\n",
    "# Criar a legenda e exibir o gráfico\n",
    "plt.legend(loc='upper right', bbox_to_anchor=(1.22, 1), prop={'size':14})\n",
    "plt.show()"
   ]
  },
  {
   "cell_type": "markdown",
   "metadata": {},
   "source": [
    "# jogos antigos podem apresentar erros no placar de cada quarto,\n",
    "# pois se termina com fim da partida e não fim de quarto "
   ]
  },
  {
   "cell_type": "code",
   "execution_count": null,
   "metadata": {},
   "outputs": [],
   "source": [
    "ponto_quarto = df[(df['Indicador'] == 'fim_quarto')][::-1]\n",
    "ponto_quarto.reset_index(drop=True, inplace=True)\n",
    "ponto_quarto"
   ]
  },
  {
   "cell_type": "code",
   "execution_count": null,
   "metadata": {},
   "outputs": [],
   "source": [
    "inf_placar_casa = ponto_quarto['placar_casa'].diff()\n",
    "inf_placar_casa[0] = ponto_quarto['placar_casa'][0]\n",
    "inf_placar_casa = inf_placar_casa.astype(int)\n",
    "inf_placar_casa = inf_placar_casa.tolist()\n",
    "inf_placar_casa"
   ]
  },
  {
   "cell_type": "code",
   "execution_count": null,
   "metadata": {},
   "outputs": [],
   "source": [
    "inf_placar_fora = ponto_quarto['placar_visitante'].diff()\n",
    "inf_placar_fora[0] = ponto_quarto['placar_visitante'][0]\n",
    "inf_placar_fora = inf_placar_fora.astype(int)\n",
    "inf_placar_fora = inf_placar_fora.tolist()\n",
    "inf_placar_fora"
   ]
  },
  {
   "cell_type": "code",
   "execution_count": null,
   "metadata": {},
   "outputs": [],
   "source": [
    "placar_casa = sum(inf_placar_casa)"
   ]
  },
  {
   "cell_type": "code",
   "execution_count": null,
   "metadata": {},
   "outputs": [],
   "source": [
    "placar_fora = sum(inf_placar_fora)"
   ]
  },
  {
   "cell_type": "markdown",
   "metadata": {},
   "source": [
    "## mudanças \n",
    "\n",
    "* Colocar mais def na capa por tem jogos com prorrogação\n",
    "* as corres dos times devem sincronizar com os gráficos\n",
    "* acrescentar o valor de Eficiência do jogador\n",
    "* acrescentar os minutos em quadra do time e jogadores (usar 'ultima_linha')\n",
    "* mudar times para Arial\n",
    "* mudar a palheta do tempo de posse de bola para quente (mais tempo de bola), fria (menos tempo de bola)"
   ]
  },
  {
   "cell_type": "code",
   "execution_count": null,
   "metadata": {},
   "outputs": [],
   "source": [
    "pdf = FPDF('P', 'mm', 'A4')\n",
    "# Capa do relatório\n",
    "pdf.add_page()\n",
    "# Cabeçalho e Rodapé\n",
    "cabecalho_rodape(pdf, arquivo)\n",
    "# capa\n",
    "criar_titulo(pdf, data_hoje)\n",
    "fotos_dos_times(pdf, img_casa, nome_time_casa, img_fora, nome_time_fora)\n",
    "informacoes_do_placar(pdf, classificatoria, placar_casa, placar_fora, dia_do_jogo)\n",
    "grafico_quartos_normal(pdf, nome_time_casa, nome_time_fora)\n",
    "placar_do_quarto1(pdf, inf_placar_casa, inf_placar_fora)\n",
    "placar_do_quarto2(pdf, inf_placar_casa, inf_placar_fora)\n",
    "placar_do_quarto3(pdf, inf_placar_casa, inf_placar_fora)\n",
    "placar_do_quarto4(pdf, inf_placar_casa, inf_placar_fora)\n",
    "placar_final(pdf, placar_casa, placar_fora)\n",
    "informacoes_do_relatorio(pdf)\n",
    "\n",
    "\n",
    "# Primeira página de Análises \n",
    "pdf.add_page()\n",
    "# Cabeçalho e Rodapé\n",
    "cabecalho_rodape(pdf, arquivo)\n",
    "# Títulos das Análises\n",
    "comentarios_p1(pdf)\n",
    "# Gráficos das Análises linha 1\n",
    "graficos_analise_descrivita_l1(pdf, tabela_times, arquivo)\n",
    "# Gráficos das Análises linha 2\n",
    "graficos_analise_descrivita_l2(pdf, tabela_times, arquivo)\n",
    "comentarios_p1_1(pdf)\n",
    "# Gráficos das Análises linha 3\n",
    "graficos_analise_descrivita_l3(pdf, tabela_times, arquivo)\n",
    "# Gráficos das Análises linha 4\n",
    "graficos_analise_descrivita_l4(pdf, tabela_times, arquivo)\n",
    "comentarios_p1_2(pdf)\n",
    "\n",
    "# Segunda Página de Análises \n",
    "pdf.add_page()\n",
    "# Cabeçalho e Rodapé\n",
    "cabecalho_rodape(pdf, arquivo)\n",
    "# Comentarios das Análises Avançadas\n",
    "comentarios_p2(pdf)\n",
    "# Gráficos das Análises\n",
    "graficos_analise_avancadas_c1(pdf, tabela_times, arquivo)\n",
    "graficos_analise_avancadas_c2(pdf, tabela_times, arquivo)\n",
    "graficos_analise_avancadas_c3(pdf, tabela_times, arquivo)\n",
    "# considerações finais \n",
    "comentarios_p2_1(pdf)\n",
    "\n",
    "\n",
    "# Terceira Página de Análises Time da Casa\n",
    "pdf.add_page()\n",
    "# Cabeçalho e Rodapé\n",
    "cabecalho_rodape(pdf, arquivo)\n",
    "# Título/Comentarios das Análises\n",
    "comentarios_p3(pdf, nome_time_casa)\n",
    "# Análise do time da casa\n",
    "melhores_jogadores_l1(pdf)\n",
    "melhores_jogadores_l2(pdf)\n",
    "# foto dos jogadores\n",
    "foto_melhor_pontuador(pdf, arquivo1, pontos_c_1)\n",
    "cinco_melhores_pontuadores(pdf, pontos_c_1)\n",
    "\n",
    "# foto dos melhores  porntuadores de três\n",
    "foto_melhor_pontuador_tres(pdf, arquivo1, tres_pontos_c_1)\n",
    "cinco_melhores_pontuadores_tres(pdf, tres_pontos_c_1)\n",
    "# foto dos melhores  porntuadores de dois\n",
    "foto_melhor_pontuador_dois(pdf, arquivo1, dois_pontos_c_1)\n",
    "cinco_melhores_pontuadores_dois(pdf, dois_pontos_c_1)\n",
    "# foto dos melhores assistentes\n",
    "foto_melhor_assistente(pdf, arquivo1, as_1)\n",
    "cinco_melhores_assistencias(pdf, as_1)\n",
    "# foto dos melhores reboteiros\n",
    "foto_melhor_rebotes(pdf, arquivo1, rt_1)\n",
    "cinco_melhores_reboteiros(pdf, rt_1)\n",
    "# foto dos melhores faltas recebidas\n",
    "foto_melhor_faltas_recebidas(pdf, arquivo1, fr_1)\n",
    "cinco_melhores_faltas_recebidas(pdf, fr_1)\n",
    "# tabela geral\n",
    "tabela_geral_casa(pdf, arquivo)\n",
    "\n",
    "# Quarta Página Períodos Positivos do Time da Casa\n",
    "pdf.add_page()\n",
    "# Cabeçalho e Rodapé\n",
    "cabecalho_rodape(pdf, arquivo)\n",
    "# Título/Comentarios das Positivos do Time da Casa\n",
    "comentarios_p4(pdf, nome_time_casa)\n",
    "# Gráfico dos Períodos Positos do Time da Casa\n",
    "grafico_periodos_positivos_casa(pdf, arquivo)\n",
    "# Gráfico do tempo de Posse de Bola do Time da Casa \n",
    "grafico_tempo_posse_de_bola_casa(pdf, arquivo)\n",
    "# Comentários\n",
    "comentarios_p4_1(pdf)\n",
    "\n",
    "# Quinta Página Períodos Positivos do Time da Casa\n",
    "pdf.add_page()\n",
    "# Cabeçalho e Rodapé\n",
    "cabecalho_rodape(pdf, arquivo)\n",
    "# Título do cinco melores jogadores\n",
    "comentarios_p5(pdf, nome_time_casa)\n",
    "primeiro_quinteto_fotos_casa(pdf)\n",
    "segundo_quinteto_fotos_casa(pdf)\n",
    "terceiro_quinteto_fotos_casa(pdf)\n",
    "# Título das Melhores substituições\n",
    "comentarios_p5_1(pdf)\n",
    "# Jogadores e Comentários\n",
    "substituicao_1_casa(pdf)\n",
    "substituicao_2_casa(pdf)\n",
    "\n",
    "# Sexta Página de Análises Time da Casa\n",
    "pdf.add_page()\n",
    "# Cabeçalho e Rodapé\n",
    "cabecalho_rodape(pdf, arquivo)\n",
    "# Título/Comentarios das Análises\n",
    "comentarios_p3(pdf, nome_time_fora)\n",
    "# Análise do time da casa\n",
    "melhores_jogadores_l1(pdf)\n",
    "melhores_jogadores_l2(pdf)\n",
    "# foto dos jogadores\n",
    "foto_melhor_pontuador(pdf, arquivo2, pontos_c_2)\n",
    "cinco_melhores_pontuadores(pdf, pontos_c_2)\n",
    "# foto dos melhores  porntuadores de três\n",
    "foto_melhor_pontuador_tres(pdf, arquivo2, tres_pontos_c_2)\n",
    "cinco_melhores_pontuadores_tres(pdf, tres_pontos_c_2)\n",
    "# foto dos melhores  porntuadores de dois\n",
    "foto_melhor_pontuador_dois(pdf, arquivo2, dois_pontos_c_2)\n",
    "cinco_melhores_pontuadores_dois(pdf, dois_pontos_c_2)\n",
    "# foto dos melhores assistentes\n",
    "foto_melhor_assistente(pdf, arquivo2, as_2)\n",
    "cinco_melhores_assistencias(pdf, as_2)\n",
    "# foto dos melhores reboteiros\n",
    "foto_melhor_rebotes(pdf, arquivo2, rt_2)\n",
    "cinco_melhores_reboteiros(pdf, rt_2)\n",
    "# foto dos melhores faltas recebidas\n",
    "foto_melhor_faltas_recebidas(pdf, arquivo2, fr_2)\n",
    "cinco_melhores_faltas_recebidas(pdf, fr_2)\n",
    "# tabela geral\n",
    "tabela_geral_fora(pdf, arquivo)\n",
    "\n",
    "# Setima Página Períodos Positivos do Time da Fora\n",
    "pdf.add_page()\n",
    "# Cabeçalho e Rodapé\n",
    "cabecalho_rodape(pdf, arquivo)\n",
    "# Título/Comentarios das Positivos do Time da Fora\n",
    "comentarios_p7(pdf, nome_time_fora)\n",
    "# Gráfico dos Períodos Positos do Time da Fora\n",
    "grafico_periodos_positivos_fora(pdf, arquivo)\n",
    "# Gráfico do tempo de Posse de Bola do Time da Fora \n",
    "grafico_tempo_posse_de_bola_fora(pdf, arquivo)\n",
    "# Comentários\n",
    "comentarios_p7_1(pdf)\n",
    "\n",
    "# Oitava Página Períodos Positivos do Time da Casa\n",
    "pdf.add_page()\n",
    "# Cabeçalho e Rodapé\n",
    "cabecalho_rodape(pdf, arquivo)\n",
    "# Título do cinco melores jogadores\n",
    "comentarios_p8(pdf, nome_time_fora)\n",
    "primeiro_quinteto_fotos_fora(pdf)\n",
    "segundo_quinteto_fotos_fora(pdf)\n",
    "terceiro_quinteto_fotos_fora(pdf)\n",
    "# Título das Melhores substituições\n",
    "comentarios_p8_1(pdf)\n",
    "# Jogadores e Comentários\n",
    "substituicao_1_fora(pdf)\n",
    "substituicao_2_fora(pdf)\n",
    "\n",
    "pdf.output('teste.pdf', 'F')"
   ]
  },
  {
   "cell_type": "markdown",
   "metadata": {},
   "source": [
    "# identificação dos quintetos em quadra "
   ]
  },
  {
   "cell_type": "code",
   "execution_count": null,
   "metadata": {},
   "outputs": [],
   "source": [
    "# faz um if com o seguinte critério \n",
    "# if aparecer substituição_entra:\n",
    "#     a função adiciona o jogador x\n",
    "# elif aparecer substituição_sai:\n",
    "#     a função substitui o valor por 0"
   ]
  },
  {
   "cell_type": "code",
   "execution_count": null,
   "metadata": {},
   "outputs": [],
   "source": []
  },
  {
   "cell_type": "code",
   "execution_count": null,
   "metadata": {},
   "outputs": [],
   "source": []
  }
 ],
 "metadata": {
  "kernelspec": {
   "display_name": "Python 3",
   "language": "python",
   "name": "python3"
  },
  "language_info": {
   "codemirror_mode": {
    "name": "ipython",
    "version": 3
   },
   "file_extension": ".py",
   "mimetype": "text/x-python",
   "name": "python",
   "nbconvert_exporter": "python",
   "pygments_lexer": "ipython3",
   "version": "3.8.3"
  }
 },
 "nbformat": 4,
 "nbformat_minor": 4
}
