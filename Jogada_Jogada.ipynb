{
 "cells": [
  {
   "cell_type": "markdown",
   "metadata": {},
   "source": [
    "# Projeto: Análises Jogada-Jogada NBB 2019"
   ]
  },
  {
   "cell_type": "markdown",
   "metadata": {},
   "source": [
    "Para esse projeto estaremos analisando jogos do NBB, principal campeonato brasileiro de basquetebol. Os dados contém os seguintes campos:\n",
    "\n",
    "Colunas:\n",
    "* Quartos\n",
    "* Tempo\n",
    "* placar_cada\n",
    "* placar_visitante\n",
    "* Nome\n",
    "*\n",
    "\n",
    "\n",
    "Coluna Indicadores técnicos:\n",
    "\n",
    "* fim_quarto -> Fim de quarto (qualquer quarto)\n",
    "* inicio_quarto -> Inicio de quarto (qualquer quarto)\n",
    "* fim_partida  -> Fim da Partida\n",
    "* incio partida -> Inicio da Partida\n",
    "* Min        -> Minutos jogados do jogador\n",
    "* Pts_C      -> Pontos Convertidos \n",
    "* Pts_T      -> Pontos Tentados \n",
    "* Pts_3_C    -> Três Pontos Convertidos \n",
    "* 3_T_Pts    -> Três Pontos Tentados\n",
    "* 2_C_Pts    -> Dois Pontos Convertidos\n",
    "* 2_T_Pts    -> Dois Pontos Tentados\n",
    "* LL_Pts_C   -> Lances Livres Convertidos\n",
    "* LL_Pts_T   -> Lances Livres Tentados\n",
    "* RO         -> Rebotes Ofensivos\n",
    "* RD         -> Rebotes Defensivos\n",
    "* RT         -> Rebotes Totais\n",
    "* AS         -> Assistências\n",
    "* BR         -> Bolas Roubadas \n",
    "* TO         -> Tocos\n",
    "* FC         -> Faltas Cometidas\n",
    "* FC_T         -> Faltas Técnica\n",
    "* FC_A         -> Faltas Antidesportiva\n",
    "* FC_O       -> Faltas Ofensiva\n",
    "* FC_D        -> Faltas Desqualificante\n",
    "* Entra       -> Entrada na Substituição \n",
    "* Sai           -> Saida na Substituição \n",
    "* tempo_tecnico -> Tempo Técnico\n",
    "* ER         -> Erros\n",
    "* FR         -> Faltas Recebidas \n",
    "* EN         -> Enterradas\n",
    "* Ar_Pts_C   -> Arremessos dos Pontos Convertidos\n",
    "* Ar_Pts_C   -> Arremessos dos Pontos Tentados \n",
    "* Pos        -> Posse de bola do time "
   ]
  },
  {
   "cell_type": "code",
   "execution_count": 1,
   "metadata": {},
   "outputs": [],
   "source": [
    "import numpy as np\n",
    "import pandas as pd\n",
    "import datetime as dt\n",
    "import re"
   ]
  },
  {
   "cell_type": "code",
   "execution_count": 2,
   "metadata": {},
   "outputs": [],
   "source": [
    "import matplotlib.pyplot as plt\n",
    "import seaborn as sns"
   ]
  },
  {
   "cell_type": "code",
   "execution_count": 3,
   "metadata": {},
   "outputs": [],
   "source": [
    "%matplotlib inline"
   ]
  },
  {
   "cell_type": "code",
   "execution_count": 4,
   "metadata": {},
   "outputs": [],
   "source": [
    "# df = pd.read_csv(\"Total_de_acao_acao.csv\")"
   ]
  },
  {
   "cell_type": "code",
   "execution_count": 5,
   "metadata": {},
   "outputs": [],
   "source": [
    "# df = pd.read_csv(\"tabela_1_Minas_x_Flamengo.csv\")"
   ]
  },
  {
   "cell_type": "code",
   "execution_count": 6,
   "metadata": {},
   "outputs": [],
   "source": [
    "# df = pd.read_csv(\"tabela_2_UNIFACISA_x_Rio Claro.csv\")"
   ]
  },
  {
   "cell_type": "code",
   "execution_count": 7,
   "metadata": {},
   "outputs": [],
   "source": [
    "df = pd.read_csv(\"tabela_3_Fortaleza B. C._x_Rio Claro.csv\")"
   ]
  },
  {
   "cell_type": "code",
   "execution_count": 8,
   "metadata": {},
   "outputs": [],
   "source": [
    "# df = pd.read_csv(\"tabela_4_Minas_x_Botafogo.csv\")"
   ]
  },
  {
   "cell_type": "code",
   "execution_count": 9,
   "metadata": {},
   "outputs": [],
   "source": [
    "# df = pd.read_csv(\"tabela_5_Paulistano_x_São José.csv\")"
   ]
  },
  {
   "cell_type": "code",
   "execution_count": 10,
   "metadata": {},
   "outputs": [],
   "source": [
    "# df = pd.read_csv(\"tabela_7_UNIFACISA_x_Pato Basquete.csv\")"
   ]
  },
  {
   "cell_type": "code",
   "execution_count": 11,
   "metadata": {},
   "outputs": [
    {
     "data": {
      "text/html": [
       "<div>\n",
       "<style scoped>\n",
       "    .dataframe tbody tr th:only-of-type {\n",
       "        vertical-align: middle;\n",
       "    }\n",
       "\n",
       "    .dataframe tbody tr th {\n",
       "        vertical-align: top;\n",
       "    }\n",
       "\n",
       "    .dataframe thead th {\n",
       "        text-align: right;\n",
       "    }\n",
       "</style>\n",
       "<table border=\"1\" class=\"dataframe\">\n",
       "  <thead>\n",
       "    <tr style=\"text-align: right;\">\n",
       "      <th></th>\n",
       "      <th>Unnamed: 0</th>\n",
       "      <th>Quarto</th>\n",
       "      <th>Tempo</th>\n",
       "      <th>placar_casa</th>\n",
       "      <th>placar_visitante</th>\n",
       "      <th>Time</th>\n",
       "      <th>Indicador</th>\n",
       "      <th>Nome</th>\n",
       "    </tr>\n",
       "  </thead>\n",
       "  <tbody>\n",
       "    <tr>\n",
       "      <th>0</th>\n",
       "      <td>0</td>\n",
       "      <td>4</td>\n",
       "      <td>00:00</td>\n",
       "      <td>87</td>\n",
       "      <td>90</td>\n",
       "      <td>NaN</td>\n",
       "      <td>fim_partida</td>\n",
       "      <td>NaN</td>\n",
       "    </tr>\n",
       "    <tr>\n",
       "      <th>1</th>\n",
       "      <td>1</td>\n",
       "      <td>4</td>\n",
       "      <td>00:00</td>\n",
       "      <td>87</td>\n",
       "      <td>90</td>\n",
       "      <td>NaN</td>\n",
       "      <td>fim_quarto</td>\n",
       "      <td>NaN</td>\n",
       "    </tr>\n",
       "    <tr>\n",
       "      <th>2</th>\n",
       "      <td>2</td>\n",
       "      <td>4</td>\n",
       "      <td>00:03</td>\n",
       "      <td>87</td>\n",
       "      <td>90</td>\n",
       "      <td>CEA</td>\n",
       "      <td>3_Pts_T</td>\n",
       "      <td>Rashaun</td>\n",
       "    </tr>\n",
       "    <tr>\n",
       "      <th>3</th>\n",
       "      <td>3</td>\n",
       "      <td>4</td>\n",
       "      <td>00:09</td>\n",
       "      <td>87</td>\n",
       "      <td>90</td>\n",
       "      <td>CEA</td>\n",
       "      <td>RD</td>\n",
       "      <td>Felipe</td>\n",
       "    </tr>\n",
       "    <tr>\n",
       "      <th>4</th>\n",
       "      <td>4</td>\n",
       "      <td>4</td>\n",
       "      <td>00:10</td>\n",
       "      <td>87</td>\n",
       "      <td>90</td>\n",
       "      <td>RCB</td>\n",
       "      <td>LL_Pts_T</td>\n",
       "      <td>Lucious</td>\n",
       "    </tr>\n",
       "    <tr>\n",
       "      <th>...</th>\n",
       "      <td>...</td>\n",
       "      <td>...</td>\n",
       "      <td>...</td>\n",
       "      <td>...</td>\n",
       "      <td>...</td>\n",
       "      <td>...</td>\n",
       "      <td>...</td>\n",
       "      <td>...</td>\n",
       "    </tr>\n",
       "    <tr>\n",
       "      <th>564</th>\n",
       "      <td>564</td>\n",
       "      <td>1</td>\n",
       "      <td>10:00</td>\n",
       "      <td>0</td>\n",
       "      <td>0</td>\n",
       "      <td>CEA</td>\n",
       "      <td>substituicao_entra</td>\n",
       "      <td>Rashaun</td>\n",
       "    </tr>\n",
       "    <tr>\n",
       "      <th>565</th>\n",
       "      <td>565</td>\n",
       "      <td>1</td>\n",
       "      <td>10:00</td>\n",
       "      <td>0</td>\n",
       "      <td>0</td>\n",
       "      <td>CEA</td>\n",
       "      <td>substituicao_entra</td>\n",
       "      <td>Marcão</td>\n",
       "    </tr>\n",
       "    <tr>\n",
       "      <th>566</th>\n",
       "      <td>566</td>\n",
       "      <td>1</td>\n",
       "      <td>10:00</td>\n",
       "      <td>0</td>\n",
       "      <td>0</td>\n",
       "      <td>CEA</td>\n",
       "      <td>substituicao_entra</td>\n",
       "      <td>Cauê</td>\n",
       "    </tr>\n",
       "    <tr>\n",
       "      <th>567</th>\n",
       "      <td>567</td>\n",
       "      <td>1</td>\n",
       "      <td>10:00</td>\n",
       "      <td>0</td>\n",
       "      <td>0</td>\n",
       "      <td>CEA</td>\n",
       "      <td>substituicao_entra</td>\n",
       "      <td>Brite</td>\n",
       "    </tr>\n",
       "    <tr>\n",
       "      <th>568</th>\n",
       "      <td>568</td>\n",
       "      <td>1</td>\n",
       "      <td>10:00</td>\n",
       "      <td>0</td>\n",
       "      <td>0</td>\n",
       "      <td>NaN</td>\n",
       "      <td>inicio_partida</td>\n",
       "      <td>NaN</td>\n",
       "    </tr>\n",
       "  </tbody>\n",
       "</table>\n",
       "<p>569 rows × 8 columns</p>\n",
       "</div>"
      ],
      "text/plain": [
       "     Unnamed: 0  Quarto  Tempo  placar_casa  placar_visitante Time  \\\n",
       "0             0       4  00:00           87                90  NaN   \n",
       "1             1       4  00:00           87                90  NaN   \n",
       "2             2       4  00:03           87                90  CEA   \n",
       "3             3       4  00:09           87                90  CEA   \n",
       "4             4       4  00:10           87                90  RCB   \n",
       "..          ...     ...    ...          ...               ...  ...   \n",
       "564         564       1  10:00            0                 0  CEA   \n",
       "565         565       1  10:00            0                 0  CEA   \n",
       "566         566       1  10:00            0                 0  CEA   \n",
       "567         567       1  10:00            0                 0  CEA   \n",
       "568         568       1  10:00            0                 0  NaN   \n",
       "\n",
       "              Indicador     Nome  \n",
       "0           fim_partida      NaN  \n",
       "1            fim_quarto      NaN  \n",
       "2               3_Pts_T  Rashaun  \n",
       "3                    RD   Felipe  \n",
       "4              LL_Pts_T  Lucious  \n",
       "..                  ...      ...  \n",
       "564  substituicao_entra  Rashaun  \n",
       "565  substituicao_entra   Marcão  \n",
       "566  substituicao_entra     Cauê  \n",
       "567  substituicao_entra    Brite  \n",
       "568      inicio_partida      NaN  \n",
       "\n",
       "[569 rows x 8 columns]"
      ]
     },
     "execution_count": 11,
     "metadata": {},
     "output_type": "execute_result"
    }
   ],
   "source": [
    "df"
   ]
  },
  {
   "cell_type": "markdown",
   "metadata": {},
   "source": [
    "# Limpeza dos dados "
   ]
  },
  {
   "cell_type": "markdown",
   "metadata": {},
   "source": [
    "* primeiro evitar NAN (acredite!!! tem isso no site)"
   ]
  },
  {
   "cell_type": "code",
   "execution_count": 12,
   "metadata": {},
   "outputs": [],
   "source": [
    "df.dropna(subset=['Tempo'], inplace=True)"
   ]
  },
  {
   "cell_type": "markdown",
   "metadata": {},
   "source": [
    "* mudança do tempo\n",
    "* colocar todos em segundos para facilitar a vida\n",
    "* tem jogos que o site apresenta numeros inteiros (1, 12, 134, 1000)\n",
    "* para isso localizei o valores errados e concertei"
   ]
  },
  {
   "cell_type": "code",
   "execution_count": 13,
   "metadata": {},
   "outputs": [],
   "source": [
    "mudar_hora = []\n",
    "for x in df['Tempo']:\n",
    "    if re.findall(r'..:..', x):\n",
    "        mudar_hora.append(x)\n",
    "    else:\n",
    "        if re.findall(r'....', x):\n",
    "            x = x[0:2] + ':' + x[2:4]\n",
    "            mudar_hora.append(x)\n",
    "        elif re.findall(r'...', x):\n",
    "            x = '0' + x[0] + ':' + x[1:3]\n",
    "            mudar_hora.append(x)\n",
    "        elif re.findall(r'..', x):\n",
    "            x = '00:' + x\n",
    "            mudar_hora.append(x)\n",
    "        elif re.findall(r'.', x):\n",
    "            x = '00:0' + x\n",
    "            mudar_hora.append(x)\n",
    "\n",
    "df['Tempo_2'] = mudar_hora\n",
    "df.drop('Tempo', axis=1, inplace=True)"
   ]
  },
  {
   "cell_type": "code",
   "execution_count": 14,
   "metadata": {},
   "outputs": [],
   "source": [
    "df['Tempo_2'] = df['Tempo_2'].apply(lambda x: dt.datetime.strptime(x, '%M:%S'))"
   ]
  },
  {
   "cell_type": "code",
   "execution_count": 15,
   "metadata": {},
   "outputs": [],
   "source": [
    "df['Tempo_2'] = df['Tempo_2'].apply(lambda x: dt.time(x.hour, x.minute, x.second))"
   ]
  },
  {
   "cell_type": "code",
   "execution_count": 16,
   "metadata": {},
   "outputs": [],
   "source": [
    "df['Tempo_2'] = df['Tempo_2'].apply(lambda x: (x.hour * 60 + x.minute) * 60 + x.second)"
   ]
  },
  {
   "cell_type": "code",
   "execution_count": 17,
   "metadata": {},
   "outputs": [],
   "source": [
    "# transforma os dados para números inteiros\n",
    "df['Quarto'] = df['Quarto'].apply(lambda l: int(l))"
   ]
  },
  {
   "cell_type": "code",
   "execution_count": 18,
   "metadata": {},
   "outputs": [],
   "source": [
    "# modificar o tempo decrescente para crescente (* -1)\n",
    "# acrescentar o tempo de cada quarto (primeiro quarto termina em 600s, o segundo quarto 2*600 = 1200 ...)\n",
    "tempo_novo = []\n",
    "for x, y in zip(df['Quarto'], df['Tempo_2']):\n",
    "    if x == 1:\n",
    "        a = (y - (600 * 1)) * -1\n",
    "        tempo_novo.append(a)\n",
    "    elif x == 2:\n",
    "        a = (y - (600 * 2)) * -1\n",
    "        tempo_novo.append(a)\n",
    "    elif x == 3:\n",
    "        a = (y - (600 * 3)) * -1\n",
    "        tempo_novo.append(a)\n",
    "    elif x == 4:\n",
    "        a = (y - (600 * 4)) * -1\n",
    "        tempo_novo.append(a)\n",
    "    elif x == 5:\n",
    "        a = (y - (600 * 5)) * -1\n",
    "        tempo_novo.append(a)\n",
    "    elif x == 6:\n",
    "        a = (y - (600 * 6)) * -1\n",
    "        tempo_novo.append(a)\n",
    "    elif x == 7:\n",
    "        a = (y - (600 * 7)) * -1\n",
    "        tempo_novo.append(a)\n",
    "\n",
    "df['Tempo'] = tempo_novo\n",
    "df.drop('Tempo_2', axis=1, inplace=True)"
   ]
  },
  {
   "cell_type": "code",
   "execution_count": 19,
   "metadata": {},
   "outputs": [],
   "source": [
    "# deixando o DataFrame nessa ordem de colunas\n",
    "df = df[['Quarto', 'Tempo', 'placar_casa', 'placar_visitante', 'Time', 'Indicador', 'Nome']]"
   ]
  },
  {
   "cell_type": "markdown",
   "metadata": {},
   "source": [
    "#  Acrescentamos mais colunas"
   ]
  },
  {
   "cell_type": "code",
   "execution_count": 20,
   "metadata": {},
   "outputs": [],
   "source": [
    "df['diferenca_placar_casa'] = df['placar_casa'] - df['placar_visitante']\n",
    "df['diferenca_placar_visitante'] = df['placar_visitante'] - df['placar_casa']"
   ]
  },
  {
   "cell_type": "code",
   "execution_count": 21,
   "metadata": {},
   "outputs": [
    {
     "data": {
      "text/html": [
       "<div>\n",
       "<style scoped>\n",
       "    .dataframe tbody tr th:only-of-type {\n",
       "        vertical-align: middle;\n",
       "    }\n",
       "\n",
       "    .dataframe tbody tr th {\n",
       "        vertical-align: top;\n",
       "    }\n",
       "\n",
       "    .dataframe thead th {\n",
       "        text-align: right;\n",
       "    }\n",
       "</style>\n",
       "<table border=\"1\" class=\"dataframe\">\n",
       "  <thead>\n",
       "    <tr style=\"text-align: right;\">\n",
       "      <th></th>\n",
       "      <th>Quarto</th>\n",
       "      <th>Tempo</th>\n",
       "      <th>placar_casa</th>\n",
       "      <th>placar_visitante</th>\n",
       "      <th>Time</th>\n",
       "      <th>Indicador</th>\n",
       "      <th>Nome</th>\n",
       "      <th>diferenca_placar_casa</th>\n",
       "      <th>diferenca_placar_visitante</th>\n",
       "    </tr>\n",
       "  </thead>\n",
       "  <tbody>\n",
       "    <tr>\n",
       "      <th>0</th>\n",
       "      <td>4</td>\n",
       "      <td>2400</td>\n",
       "      <td>87</td>\n",
       "      <td>90</td>\n",
       "      <td>NaN</td>\n",
       "      <td>fim_partida</td>\n",
       "      <td>NaN</td>\n",
       "      <td>-3</td>\n",
       "      <td>3</td>\n",
       "    </tr>\n",
       "    <tr>\n",
       "      <th>1</th>\n",
       "      <td>4</td>\n",
       "      <td>2400</td>\n",
       "      <td>87</td>\n",
       "      <td>90</td>\n",
       "      <td>NaN</td>\n",
       "      <td>fim_quarto</td>\n",
       "      <td>NaN</td>\n",
       "      <td>-3</td>\n",
       "      <td>3</td>\n",
       "    </tr>\n",
       "    <tr>\n",
       "      <th>2</th>\n",
       "      <td>4</td>\n",
       "      <td>2397</td>\n",
       "      <td>87</td>\n",
       "      <td>90</td>\n",
       "      <td>CEA</td>\n",
       "      <td>3_Pts_T</td>\n",
       "      <td>Rashaun</td>\n",
       "      <td>-3</td>\n",
       "      <td>3</td>\n",
       "    </tr>\n",
       "    <tr>\n",
       "      <th>3</th>\n",
       "      <td>4</td>\n",
       "      <td>2391</td>\n",
       "      <td>87</td>\n",
       "      <td>90</td>\n",
       "      <td>CEA</td>\n",
       "      <td>RD</td>\n",
       "      <td>Felipe</td>\n",
       "      <td>-3</td>\n",
       "      <td>3</td>\n",
       "    </tr>\n",
       "    <tr>\n",
       "      <th>4</th>\n",
       "      <td>4</td>\n",
       "      <td>2390</td>\n",
       "      <td>87</td>\n",
       "      <td>90</td>\n",
       "      <td>RCB</td>\n",
       "      <td>LL_Pts_T</td>\n",
       "      <td>Lucious</td>\n",
       "      <td>-3</td>\n",
       "      <td>3</td>\n",
       "    </tr>\n",
       "    <tr>\n",
       "      <th>...</th>\n",
       "      <td>...</td>\n",
       "      <td>...</td>\n",
       "      <td>...</td>\n",
       "      <td>...</td>\n",
       "      <td>...</td>\n",
       "      <td>...</td>\n",
       "      <td>...</td>\n",
       "      <td>...</td>\n",
       "      <td>...</td>\n",
       "    </tr>\n",
       "    <tr>\n",
       "      <th>564</th>\n",
       "      <td>1</td>\n",
       "      <td>0</td>\n",
       "      <td>0</td>\n",
       "      <td>0</td>\n",
       "      <td>CEA</td>\n",
       "      <td>substituicao_entra</td>\n",
       "      <td>Rashaun</td>\n",
       "      <td>0</td>\n",
       "      <td>0</td>\n",
       "    </tr>\n",
       "    <tr>\n",
       "      <th>565</th>\n",
       "      <td>1</td>\n",
       "      <td>0</td>\n",
       "      <td>0</td>\n",
       "      <td>0</td>\n",
       "      <td>CEA</td>\n",
       "      <td>substituicao_entra</td>\n",
       "      <td>Marcão</td>\n",
       "      <td>0</td>\n",
       "      <td>0</td>\n",
       "    </tr>\n",
       "    <tr>\n",
       "      <th>566</th>\n",
       "      <td>1</td>\n",
       "      <td>0</td>\n",
       "      <td>0</td>\n",
       "      <td>0</td>\n",
       "      <td>CEA</td>\n",
       "      <td>substituicao_entra</td>\n",
       "      <td>Cauê</td>\n",
       "      <td>0</td>\n",
       "      <td>0</td>\n",
       "    </tr>\n",
       "    <tr>\n",
       "      <th>567</th>\n",
       "      <td>1</td>\n",
       "      <td>0</td>\n",
       "      <td>0</td>\n",
       "      <td>0</td>\n",
       "      <td>CEA</td>\n",
       "      <td>substituicao_entra</td>\n",
       "      <td>Brite</td>\n",
       "      <td>0</td>\n",
       "      <td>0</td>\n",
       "    </tr>\n",
       "    <tr>\n",
       "      <th>568</th>\n",
       "      <td>1</td>\n",
       "      <td>0</td>\n",
       "      <td>0</td>\n",
       "      <td>0</td>\n",
       "      <td>NaN</td>\n",
       "      <td>inicio_partida</td>\n",
       "      <td>NaN</td>\n",
       "      <td>0</td>\n",
       "      <td>0</td>\n",
       "    </tr>\n",
       "  </tbody>\n",
       "</table>\n",
       "<p>569 rows × 9 columns</p>\n",
       "</div>"
      ],
      "text/plain": [
       "     Quarto  Tempo  placar_casa  placar_visitante Time           Indicador  \\\n",
       "0         4   2400           87                90  NaN         fim_partida   \n",
       "1         4   2400           87                90  NaN          fim_quarto   \n",
       "2         4   2397           87                90  CEA             3_Pts_T   \n",
       "3         4   2391           87                90  CEA                  RD   \n",
       "4         4   2390           87                90  RCB            LL_Pts_T   \n",
       "..      ...    ...          ...               ...  ...                 ...   \n",
       "564       1      0            0                 0  CEA  substituicao_entra   \n",
       "565       1      0            0                 0  CEA  substituicao_entra   \n",
       "566       1      0            0                 0  CEA  substituicao_entra   \n",
       "567       1      0            0                 0  CEA  substituicao_entra   \n",
       "568       1      0            0                 0  NaN      inicio_partida   \n",
       "\n",
       "        Nome  diferenca_placar_casa  diferenca_placar_visitante  \n",
       "0        NaN                     -3                           3  \n",
       "1        NaN                     -3                           3  \n",
       "2    Rashaun                     -3                           3  \n",
       "3     Felipe                     -3                           3  \n",
       "4    Lucious                     -3                           3  \n",
       "..       ...                    ...                         ...  \n",
       "564  Rashaun                      0                           0  \n",
       "565   Marcão                      0                           0  \n",
       "566     Cauê                      0                           0  \n",
       "567    Brite                      0                           0  \n",
       "568      NaN                      0                           0  \n",
       "\n",
       "[569 rows x 9 columns]"
      ]
     },
     "execution_count": 21,
     "metadata": {},
     "output_type": "execute_result"
    }
   ],
   "source": [
    "df"
   ]
  },
  {
   "cell_type": "markdown",
   "metadata": {},
   "source": [
    "# Analise da pontuação dos times"
   ]
  },
  {
   "cell_type": "code",
   "execution_count": 22,
   "metadata": {},
   "outputs": [],
   "source": [
    "pontuacao = df[(df['Indicador'] == '3_Pts_C') | \n",
    "               (df['Indicador'] == '2_Pts_C') |\n",
    "               (df['Indicador'] == 'LL_Pts_C')|\n",
    "               (df['Indicador'] == 'EN')|\n",
    "               (df['Indicador'] == 'fim_partida')]"
   ]
  },
  {
   "cell_type": "code",
   "execution_count": 23,
   "metadata": {},
   "outputs": [
    {
     "data": {
      "text/html": [
       "<div>\n",
       "<style scoped>\n",
       "    .dataframe tbody tr th:only-of-type {\n",
       "        vertical-align: middle;\n",
       "    }\n",
       "\n",
       "    .dataframe tbody tr th {\n",
       "        vertical-align: top;\n",
       "    }\n",
       "\n",
       "    .dataframe thead th {\n",
       "        text-align: right;\n",
       "    }\n",
       "</style>\n",
       "<table border=\"1\" class=\"dataframe\">\n",
       "  <thead>\n",
       "    <tr style=\"text-align: right;\">\n",
       "      <th></th>\n",
       "      <th>Quarto</th>\n",
       "      <th>Tempo</th>\n",
       "      <th>placar_casa</th>\n",
       "      <th>placar_visitante</th>\n",
       "      <th>Time</th>\n",
       "      <th>Indicador</th>\n",
       "      <th>Nome</th>\n",
       "      <th>diferenca_placar_casa</th>\n",
       "      <th>diferenca_placar_visitante</th>\n",
       "    </tr>\n",
       "  </thead>\n",
       "  <tbody>\n",
       "    <tr>\n",
       "      <th>0</th>\n",
       "      <td>4</td>\n",
       "      <td>2400</td>\n",
       "      <td>87</td>\n",
       "      <td>90</td>\n",
       "      <td>NaN</td>\n",
       "      <td>fim_partida</td>\n",
       "      <td>NaN</td>\n",
       "      <td>-3</td>\n",
       "      <td>3</td>\n",
       "    </tr>\n",
       "    <tr>\n",
       "      <th>5</th>\n",
       "      <td>4</td>\n",
       "      <td>2390</td>\n",
       "      <td>87</td>\n",
       "      <td>90</td>\n",
       "      <td>RCB</td>\n",
       "      <td>LL_Pts_C</td>\n",
       "      <td>Lucious</td>\n",
       "      <td>-3</td>\n",
       "      <td>3</td>\n",
       "    </tr>\n",
       "    <tr>\n",
       "      <th>16</th>\n",
       "      <td>4</td>\n",
       "      <td>2389</td>\n",
       "      <td>87</td>\n",
       "      <td>89</td>\n",
       "      <td>CEA</td>\n",
       "      <td>EN</td>\n",
       "      <td>Marcão</td>\n",
       "      <td>-2</td>\n",
       "      <td>2</td>\n",
       "    </tr>\n",
       "    <tr>\n",
       "      <th>17</th>\n",
       "      <td>4</td>\n",
       "      <td>2382</td>\n",
       "      <td>85</td>\n",
       "      <td>89</td>\n",
       "      <td>RCB</td>\n",
       "      <td>LL_Pts_C</td>\n",
       "      <td>Pedro</td>\n",
       "      <td>-4</td>\n",
       "      <td>4</td>\n",
       "    </tr>\n",
       "    <tr>\n",
       "      <th>23</th>\n",
       "      <td>4</td>\n",
       "      <td>2381</td>\n",
       "      <td>85</td>\n",
       "      <td>88</td>\n",
       "      <td>CEA</td>\n",
       "      <td>LL_Pts_C</td>\n",
       "      <td>Felipe</td>\n",
       "      <td>-3</td>\n",
       "      <td>3</td>\n",
       "    </tr>\n",
       "  </tbody>\n",
       "</table>\n",
       "</div>"
      ],
      "text/plain": [
       "    Quarto  Tempo  placar_casa  placar_visitante Time    Indicador     Nome  \\\n",
       "0        4   2400           87                90  NaN  fim_partida      NaN   \n",
       "5        4   2390           87                90  RCB     LL_Pts_C  Lucious   \n",
       "16       4   2389           87                89  CEA           EN   Marcão   \n",
       "17       4   2382           85                89  RCB     LL_Pts_C    Pedro   \n",
       "23       4   2381           85                88  CEA     LL_Pts_C   Felipe   \n",
       "\n",
       "    diferenca_placar_casa  diferenca_placar_visitante  \n",
       "0                      -3                           3  \n",
       "5                      -3                           3  \n",
       "16                     -2                           2  \n",
       "17                     -4                           4  \n",
       "23                     -3                           3  "
      ]
     },
     "execution_count": 23,
     "metadata": {},
     "output_type": "execute_result"
    }
   ],
   "source": [
    "pontuacao.head(5)"
   ]
  },
  {
   "cell_type": "code",
   "execution_count": 24,
   "metadata": {},
   "outputs": [],
   "source": [
    "# estamos invertendo os valores para deixar parecido com o jogo\n",
    "pontuacao = pontuacao[::-1]\n",
    "pontuacao.reset_index(drop=True, inplace=True)\n",
    "quartos = [600, 1200, 1800, 2400]"
   ]
  },
  {
   "cell_type": "code",
   "execution_count": 25,
   "metadata": {},
   "outputs": [
    {
     "data": {
      "text/html": [
       "<div>\n",
       "<style scoped>\n",
       "    .dataframe tbody tr th:only-of-type {\n",
       "        vertical-align: middle;\n",
       "    }\n",
       "\n",
       "    .dataframe tbody tr th {\n",
       "        vertical-align: top;\n",
       "    }\n",
       "\n",
       "    .dataframe thead th {\n",
       "        text-align: right;\n",
       "    }\n",
       "</style>\n",
       "<table border=\"1\" class=\"dataframe\">\n",
       "  <thead>\n",
       "    <tr style=\"text-align: right;\">\n",
       "      <th></th>\n",
       "      <th>Quarto</th>\n",
       "      <th>Tempo</th>\n",
       "      <th>placar_casa</th>\n",
       "      <th>placar_visitante</th>\n",
       "      <th>Time</th>\n",
       "      <th>Indicador</th>\n",
       "      <th>Nome</th>\n",
       "      <th>diferenca_placar_casa</th>\n",
       "      <th>diferenca_placar_visitante</th>\n",
       "    </tr>\n",
       "  </thead>\n",
       "  <tbody>\n",
       "    <tr>\n",
       "      <th>0</th>\n",
       "      <td>1</td>\n",
       "      <td>21</td>\n",
       "      <td>0</td>\n",
       "      <td>2</td>\n",
       "      <td>RCB</td>\n",
       "      <td>2_Pts_C</td>\n",
       "      <td>Baxley</td>\n",
       "      <td>-2</td>\n",
       "      <td>2</td>\n",
       "    </tr>\n",
       "    <tr>\n",
       "      <th>1</th>\n",
       "      <td>1</td>\n",
       "      <td>43</td>\n",
       "      <td>1</td>\n",
       "      <td>2</td>\n",
       "      <td>CEA</td>\n",
       "      <td>LL_Pts_C</td>\n",
       "      <td>Felipe</td>\n",
       "      <td>-1</td>\n",
       "      <td>1</td>\n",
       "    </tr>\n",
       "    <tr>\n",
       "      <th>2</th>\n",
       "      <td>1</td>\n",
       "      <td>43</td>\n",
       "      <td>2</td>\n",
       "      <td>2</td>\n",
       "      <td>CEA</td>\n",
       "      <td>LL_Pts_C</td>\n",
       "      <td>Felipe</td>\n",
       "      <td>0</td>\n",
       "      <td>0</td>\n",
       "    </tr>\n",
       "    <tr>\n",
       "      <th>3</th>\n",
       "      <td>1</td>\n",
       "      <td>64</td>\n",
       "      <td>2</td>\n",
       "      <td>4</td>\n",
       "      <td>RCB</td>\n",
       "      <td>2_Pts_C</td>\n",
       "      <td>Baxley</td>\n",
       "      <td>-2</td>\n",
       "      <td>2</td>\n",
       "    </tr>\n",
       "    <tr>\n",
       "      <th>4</th>\n",
       "      <td>1</td>\n",
       "      <td>86</td>\n",
       "      <td>5</td>\n",
       "      <td>4</td>\n",
       "      <td>CEA</td>\n",
       "      <td>3_Pts_C</td>\n",
       "      <td>Cauê</td>\n",
       "      <td>1</td>\n",
       "      <td>-1</td>\n",
       "    </tr>\n",
       "    <tr>\n",
       "      <th>...</th>\n",
       "      <td>...</td>\n",
       "      <td>...</td>\n",
       "      <td>...</td>\n",
       "      <td>...</td>\n",
       "      <td>...</td>\n",
       "      <td>...</td>\n",
       "      <td>...</td>\n",
       "      <td>...</td>\n",
       "      <td>...</td>\n",
       "    </tr>\n",
       "    <tr>\n",
       "      <th>98</th>\n",
       "      <td>4</td>\n",
       "      <td>2381</td>\n",
       "      <td>85</td>\n",
       "      <td>88</td>\n",
       "      <td>CEA</td>\n",
       "      <td>LL_Pts_C</td>\n",
       "      <td>Felipe</td>\n",
       "      <td>-3</td>\n",
       "      <td>3</td>\n",
       "    </tr>\n",
       "    <tr>\n",
       "      <th>99</th>\n",
       "      <td>4</td>\n",
       "      <td>2382</td>\n",
       "      <td>85</td>\n",
       "      <td>89</td>\n",
       "      <td>RCB</td>\n",
       "      <td>LL_Pts_C</td>\n",
       "      <td>Pedro</td>\n",
       "      <td>-4</td>\n",
       "      <td>4</td>\n",
       "    </tr>\n",
       "    <tr>\n",
       "      <th>100</th>\n",
       "      <td>4</td>\n",
       "      <td>2389</td>\n",
       "      <td>87</td>\n",
       "      <td>89</td>\n",
       "      <td>CEA</td>\n",
       "      <td>EN</td>\n",
       "      <td>Marcão</td>\n",
       "      <td>-2</td>\n",
       "      <td>2</td>\n",
       "    </tr>\n",
       "    <tr>\n",
       "      <th>101</th>\n",
       "      <td>4</td>\n",
       "      <td>2390</td>\n",
       "      <td>87</td>\n",
       "      <td>90</td>\n",
       "      <td>RCB</td>\n",
       "      <td>LL_Pts_C</td>\n",
       "      <td>Lucious</td>\n",
       "      <td>-3</td>\n",
       "      <td>3</td>\n",
       "    </tr>\n",
       "    <tr>\n",
       "      <th>102</th>\n",
       "      <td>4</td>\n",
       "      <td>2400</td>\n",
       "      <td>87</td>\n",
       "      <td>90</td>\n",
       "      <td>NaN</td>\n",
       "      <td>fim_partida</td>\n",
       "      <td>NaN</td>\n",
       "      <td>-3</td>\n",
       "      <td>3</td>\n",
       "    </tr>\n",
       "  </tbody>\n",
       "</table>\n",
       "<p>103 rows × 9 columns</p>\n",
       "</div>"
      ],
      "text/plain": [
       "     Quarto  Tempo  placar_casa  placar_visitante Time    Indicador     Nome  \\\n",
       "0         1     21            0                 2  RCB      2_Pts_C   Baxley   \n",
       "1         1     43            1                 2  CEA     LL_Pts_C   Felipe   \n",
       "2         1     43            2                 2  CEA     LL_Pts_C   Felipe   \n",
       "3         1     64            2                 4  RCB      2_Pts_C   Baxley   \n",
       "4         1     86            5                 4  CEA      3_Pts_C     Cauê   \n",
       "..      ...    ...          ...               ...  ...          ...      ...   \n",
       "98        4   2381           85                88  CEA     LL_Pts_C   Felipe   \n",
       "99        4   2382           85                89  RCB     LL_Pts_C    Pedro   \n",
       "100       4   2389           87                89  CEA           EN   Marcão   \n",
       "101       4   2390           87                90  RCB     LL_Pts_C  Lucious   \n",
       "102       4   2400           87                90  NaN  fim_partida      NaN   \n",
       "\n",
       "     diferenca_placar_casa  diferenca_placar_visitante  \n",
       "0                       -2                           2  \n",
       "1                       -1                           1  \n",
       "2                        0                           0  \n",
       "3                       -2                           2  \n",
       "4                        1                          -1  \n",
       "..                     ...                         ...  \n",
       "98                      -3                           3  \n",
       "99                      -4                           4  \n",
       "100                     -2                           2  \n",
       "101                     -3                           3  \n",
       "102                     -3                           3  \n",
       "\n",
       "[103 rows x 9 columns]"
      ]
     },
     "execution_count": 25,
     "metadata": {},
     "output_type": "execute_result"
    }
   ],
   "source": [
    "pontuacao"
   ]
  },
  {
   "cell_type": "code",
   "execution_count": 26,
   "metadata": {},
   "outputs": [
    {
     "data": {
      "text/plain": [
       "<matplotlib.lines.Line2D at 0x2836f15ff70>"
      ]
     },
     "execution_count": 26,
     "metadata": {},
     "output_type": "execute_result"
    },
    {
     "data": {
      "image/png": "[encoded data removed]",
      "text/plain": [
       "<Figure size 432x288 with 1 Axes>"
      ]
     },
     "metadata": {
      "needs_background": "light"
     },
     "output_type": "display_data"
    }
   ],
   "source": [
    "fig, ax = plt.subplots()\n",
    "x = pontuacao['Tempo']\n",
    "y = pontuacao[['placar_casa', 'placar_visitante']]\n",
    "ax.plot(x, y)\n",
    "for x in quartos:\n",
    "    plt.axvline(x, color='red', label=pontuacao.index, linestyle='--', alpha=0.5)\n",
    "plt.axhline(0, color='orange', label=pontuacao.index)"
   ]
  },
  {
   "cell_type": "code",
   "execution_count": 27,
   "metadata": {},
   "outputs": [
    {
     "data": {
      "text/plain": [
       "<matplotlib.lines.Line2D at 0x2836f21dbb0>"
      ]
     },
     "execution_count": 27,
     "metadata": {},
     "output_type": "execute_result"
    },
    {
     "data": {
      "image/png": "[encoded data removed]",
      "text/plain": [
       "<Figure size 1080x360 with 1 Axes>"
      ]
     },
     "metadata": {
      "needs_background": "light"
     },
     "output_type": "display_data"
    }
   ],
   "source": [
    "plt.figure(figsize=(15,5))\n",
    "plt.plot(pontuacao['Tempo'], pontuacao['diferenca_placar_visitante'], label = 'Jogo')\n",
    "plt.title('Diferença do Placar Visitante Durante a Partida')\n",
    "plt.xlabel('Tempo de Jogo em Segundos')\n",
    "plt.ylabel('Diferença do Placar')\n",
    "plt.legend(loc='upper left')\n",
    "for x in quartos:\n",
    "    plt.axvline(x, color='red', label=pontuacao.index, linestyle='--', alpha=0.5)\n",
    "plt.axhline(0, color='orange', label=pontuacao.index, alpha=0.5)"
   ]
  },
  {
   "cell_type": "code",
   "execution_count": 28,
   "metadata": {},
   "outputs": [
    {
     "data": {
      "text/plain": [
       "<matplotlib.lines.Line2D at 0x2836f29c7c0>"
      ]
     },
     "execution_count": 28,
     "metadata": {},
     "output_type": "execute_result"
    },
    {
     "data": {
      "image/png": "[encoded data removed]",
      "text/plain": [
       "<Figure size 1080x360 with 1 Axes>"
      ]
     },
     "metadata": {
      "needs_background": "light"
     },
     "output_type": "display_data"
    }
   ],
   "source": [
    "plt.figure(figsize=(15,5))\n",
    "plt.plot(pontuacao['Tempo'], pontuacao['diferenca_placar_casa'], label = 'Jogo')\n",
    "plt.title('Diferença do Placar Visitante Durante a Partida')\n",
    "plt.xlabel('Tempo de Jogo em Segundos')\n",
    "plt.ylabel('Diferença do Placar')\n",
    "plt.legend(loc='upper left')\n",
    "for x in quartos:\n",
    "    plt.axvline(x, color='red', label=pontuacao.index, linestyle='--', alpha=0.5)\n",
    "plt.axhline(0, color='orange', label=pontuacao.index, alpha=0.5)"
   ]
  },
  {
   "cell_type": "markdown",
   "metadata": {},
   "source": [
    "# Analisar os períodos positivos dos times"
   ]
  },
  {
   "cell_type": "code",
   "execution_count": 29,
   "metadata": {},
   "outputs": [
    {
     "data": {
      "text/html": [
       "<div>\n",
       "<style scoped>\n",
       "    .dataframe tbody tr th:only-of-type {\n",
       "        vertical-align: middle;\n",
       "    }\n",
       "\n",
       "    .dataframe tbody tr th {\n",
       "        vertical-align: top;\n",
       "    }\n",
       "\n",
       "    .dataframe thead th {\n",
       "        text-align: right;\n",
       "    }\n",
       "</style>\n",
       "<table border=\"1\" class=\"dataframe\">\n",
       "  <thead>\n",
       "    <tr style=\"text-align: right;\">\n",
       "      <th></th>\n",
       "      <th>Time</th>\n",
       "      <th>Indicador</th>\n",
       "      <th>diff_pontuacao</th>\n",
       "      <th>Tempo</th>\n",
       "    </tr>\n",
       "  </thead>\n",
       "  <tbody>\n",
       "    <tr>\n",
       "      <th>0</th>\n",
       "      <td>RCB</td>\n",
       "      <td>2_Pts_C</td>\n",
       "      <td>2</td>\n",
       "      <td>21</td>\n",
       "    </tr>\n",
       "    <tr>\n",
       "      <th>1</th>\n",
       "      <td>CEA</td>\n",
       "      <td>LL_Pts_C</td>\n",
       "      <td>1</td>\n",
       "      <td>43</td>\n",
       "    </tr>\n",
       "    <tr>\n",
       "      <th>2</th>\n",
       "      <td>CEA</td>\n",
       "      <td>LL_Pts_C</td>\n",
       "      <td>0</td>\n",
       "      <td>43</td>\n",
       "    </tr>\n",
       "    <tr>\n",
       "      <th>3</th>\n",
       "      <td>RCB</td>\n",
       "      <td>2_Pts_C</td>\n",
       "      <td>2</td>\n",
       "      <td>64</td>\n",
       "    </tr>\n",
       "    <tr>\n",
       "      <th>4</th>\n",
       "      <td>CEA</td>\n",
       "      <td>3_Pts_C</td>\n",
       "      <td>-1</td>\n",
       "      <td>86</td>\n",
       "    </tr>\n",
       "    <tr>\n",
       "      <th>...</th>\n",
       "      <td>...</td>\n",
       "      <td>...</td>\n",
       "      <td>...</td>\n",
       "      <td>...</td>\n",
       "    </tr>\n",
       "    <tr>\n",
       "      <th>98</th>\n",
       "      <td>CEA</td>\n",
       "      <td>LL_Pts_C</td>\n",
       "      <td>3</td>\n",
       "      <td>2381</td>\n",
       "    </tr>\n",
       "    <tr>\n",
       "      <th>99</th>\n",
       "      <td>RCB</td>\n",
       "      <td>LL_Pts_C</td>\n",
       "      <td>4</td>\n",
       "      <td>2382</td>\n",
       "    </tr>\n",
       "    <tr>\n",
       "      <th>100</th>\n",
       "      <td>CEA</td>\n",
       "      <td>EN</td>\n",
       "      <td>2</td>\n",
       "      <td>2389</td>\n",
       "    </tr>\n",
       "    <tr>\n",
       "      <th>101</th>\n",
       "      <td>RCB</td>\n",
       "      <td>LL_Pts_C</td>\n",
       "      <td>3</td>\n",
       "      <td>2390</td>\n",
       "    </tr>\n",
       "    <tr>\n",
       "      <th>102</th>\n",
       "      <td>NaN</td>\n",
       "      <td>fim_partida</td>\n",
       "      <td>3</td>\n",
       "      <td>2400</td>\n",
       "    </tr>\n",
       "  </tbody>\n",
       "</table>\n",
       "<p>103 rows × 4 columns</p>\n",
       "</div>"
      ],
      "text/plain": [
       "    Time    Indicador  diff_pontuacao  Tempo\n",
       "0    RCB      2_Pts_C               2     21\n",
       "1    CEA     LL_Pts_C               1     43\n",
       "2    CEA     LL_Pts_C               0     43\n",
       "3    RCB      2_Pts_C               2     64\n",
       "4    CEA      3_Pts_C              -1     86\n",
       "..   ...          ...             ...    ...\n",
       "98   CEA     LL_Pts_C               3   2381\n",
       "99   RCB     LL_Pts_C               4   2382\n",
       "100  CEA           EN               2   2389\n",
       "101  RCB     LL_Pts_C               3   2390\n",
       "102  NaN  fim_partida               3   2400\n",
       "\n",
       "[103 rows x 4 columns]"
      ]
     },
     "execution_count": 29,
     "metadata": {},
     "output_type": "execute_result"
    }
   ],
   "source": [
    "# Criar um novo dataFrame para analisar os períodos positivos dos times\n",
    "data = pd.DataFrame()\n",
    "data['Time'] = pontuacao['Time']\n",
    "data['Indicador'] = pontuacao['Indicador']\n",
    "data['diff_pontuacao'] = pontuacao['diferenca_placar_visitante']\n",
    "data['Tempo'] = pontuacao['Tempo']\n",
    "data"
   ]
  },
  {
   "cell_type": "code",
   "execution_count": 30,
   "metadata": {},
   "outputs": [],
   "source": [
    "# Utilizando a diferença do placar entre casa e visitante, aplicando diff (diferença entre as linhas) \n",
    "# e usando seu valor absoluto (abs())\n",
    "# nós podemos encontrar o valor de cada indicador técnico \n",
    "data[\"pontuacao\"] = data[\"diff_pontuacao\"].diff()\n",
    "data[\"pontuacao\"] = data[\"pontuacao\"].apply(lambda x: abs(x))"
   ]
  },
  {
   "cell_type": "code",
   "execution_count": 31,
   "metadata": {},
   "outputs": [],
   "source": [
    "# como o primeiro valor some quando fazemos a diff e esse primeiro valor é importante pq é o primeiro ponto, nós adicionamos ele\n",
    "novo_valor = data[\"diff_pontuacao\"][0]\n",
    "data.loc[0, 'pontuacao'] = novo_valor"
   ]
  },
  {
   "cell_type": "code",
   "execution_count": 32,
   "metadata": {},
   "outputs": [],
   "source": [
    "data.reset_index(drop=True, inplace=True)"
   ]
  },
  {
   "cell_type": "code",
   "execution_count": 33,
   "metadata": {},
   "outputs": [],
   "source": [
    "data['pontuacao'] = data['pontuacao'].astype(int)"
   ]
  },
  {
   "cell_type": "code",
   "execution_count": 34,
   "metadata": {},
   "outputs": [
    {
     "data": {
      "text/html": [
       "<div>\n",
       "<style scoped>\n",
       "    .dataframe tbody tr th:only-of-type {\n",
       "        vertical-align: middle;\n",
       "    }\n",
       "\n",
       "    .dataframe tbody tr th {\n",
       "        vertical-align: top;\n",
       "    }\n",
       "\n",
       "    .dataframe thead th {\n",
       "        text-align: right;\n",
       "    }\n",
       "</style>\n",
       "<table border=\"1\" class=\"dataframe\">\n",
       "  <thead>\n",
       "    <tr style=\"text-align: right;\">\n",
       "      <th></th>\n",
       "      <th>Time</th>\n",
       "      <th>Indicador</th>\n",
       "      <th>diff_pontuacao</th>\n",
       "      <th>Tempo</th>\n",
       "      <th>pontuacao</th>\n",
       "    </tr>\n",
       "  </thead>\n",
       "  <tbody>\n",
       "    <tr>\n",
       "      <th>0</th>\n",
       "      <td>RCB</td>\n",
       "      <td>2_Pts_C</td>\n",
       "      <td>2</td>\n",
       "      <td>21</td>\n",
       "      <td>2</td>\n",
       "    </tr>\n",
       "    <tr>\n",
       "      <th>1</th>\n",
       "      <td>CEA</td>\n",
       "      <td>LL_Pts_C</td>\n",
       "      <td>1</td>\n",
       "      <td>43</td>\n",
       "      <td>1</td>\n",
       "    </tr>\n",
       "    <tr>\n",
       "      <th>2</th>\n",
       "      <td>CEA</td>\n",
       "      <td>LL_Pts_C</td>\n",
       "      <td>0</td>\n",
       "      <td>43</td>\n",
       "      <td>1</td>\n",
       "    </tr>\n",
       "    <tr>\n",
       "      <th>3</th>\n",
       "      <td>RCB</td>\n",
       "      <td>2_Pts_C</td>\n",
       "      <td>2</td>\n",
       "      <td>64</td>\n",
       "      <td>2</td>\n",
       "    </tr>\n",
       "    <tr>\n",
       "      <th>4</th>\n",
       "      <td>CEA</td>\n",
       "      <td>3_Pts_C</td>\n",
       "      <td>-1</td>\n",
       "      <td>86</td>\n",
       "      <td>3</td>\n",
       "    </tr>\n",
       "    <tr>\n",
       "      <th>...</th>\n",
       "      <td>...</td>\n",
       "      <td>...</td>\n",
       "      <td>...</td>\n",
       "      <td>...</td>\n",
       "      <td>...</td>\n",
       "    </tr>\n",
       "    <tr>\n",
       "      <th>98</th>\n",
       "      <td>CEA</td>\n",
       "      <td>LL_Pts_C</td>\n",
       "      <td>3</td>\n",
       "      <td>2381</td>\n",
       "      <td>1</td>\n",
       "    </tr>\n",
       "    <tr>\n",
       "      <th>99</th>\n",
       "      <td>RCB</td>\n",
       "      <td>LL_Pts_C</td>\n",
       "      <td>4</td>\n",
       "      <td>2382</td>\n",
       "      <td>1</td>\n",
       "    </tr>\n",
       "    <tr>\n",
       "      <th>100</th>\n",
       "      <td>CEA</td>\n",
       "      <td>EN</td>\n",
       "      <td>2</td>\n",
       "      <td>2389</td>\n",
       "      <td>2</td>\n",
       "    </tr>\n",
       "    <tr>\n",
       "      <th>101</th>\n",
       "      <td>RCB</td>\n",
       "      <td>LL_Pts_C</td>\n",
       "      <td>3</td>\n",
       "      <td>2390</td>\n",
       "      <td>1</td>\n",
       "    </tr>\n",
       "    <tr>\n",
       "      <th>102</th>\n",
       "      <td>NaN</td>\n",
       "      <td>fim_partida</td>\n",
       "      <td>3</td>\n",
       "      <td>2400</td>\n",
       "      <td>0</td>\n",
       "    </tr>\n",
       "  </tbody>\n",
       "</table>\n",
       "<p>103 rows × 5 columns</p>\n",
       "</div>"
      ],
      "text/plain": [
       "    Time    Indicador  diff_pontuacao  Tempo  pontuacao\n",
       "0    RCB      2_Pts_C               2     21          2\n",
       "1    CEA     LL_Pts_C               1     43          1\n",
       "2    CEA     LL_Pts_C               0     43          1\n",
       "3    RCB      2_Pts_C               2     64          2\n",
       "4    CEA      3_Pts_C              -1     86          3\n",
       "..   ...          ...             ...    ...        ...\n",
       "98   CEA     LL_Pts_C               3   2381          1\n",
       "99   RCB     LL_Pts_C               4   2382          1\n",
       "100  CEA           EN               2   2389          2\n",
       "101  RCB     LL_Pts_C               3   2390          1\n",
       "102  NaN  fim_partida               3   2400          0\n",
       "\n",
       "[103 rows x 5 columns]"
      ]
     },
     "execution_count": 34,
     "metadata": {},
     "output_type": "execute_result"
    }
   ],
   "source": [
    "data"
   ]
  },
  {
   "cell_type": "code",
   "execution_count": 35,
   "metadata": {},
   "outputs": [],
   "source": [
    "# para conseiderarmos quem é o time A e quem é o time B \n",
    "# precisamos identificar de quem é o ultimo time a ter a posse de bola\n",
    "# isso infuencia dos períodos\n",
    "# quando invertemos o tempo de inicio do time a para o time B\n",
    "sigla_time_a = data['Time'][0]\n",
    "for x in data['Time']:\n",
    "    if x == sigla_time_a:\n",
    "        pass\n",
    "    else:\n",
    "        sigla_time_b = x\n",
    "        break"
   ]
  },
  {
   "cell_type": "code",
   "execution_count": 36,
   "metadata": {},
   "outputs": [
    {
     "data": {
      "text/plain": [
       "'RCB'"
      ]
     },
     "execution_count": 36,
     "metadata": {},
     "output_type": "execute_result"
    }
   ],
   "source": [
    "sigla_time_a"
   ]
  },
  {
   "cell_type": "code",
   "execution_count": 37,
   "metadata": {},
   "outputs": [
    {
     "data": {
      "text/plain": [
       "'CEA'"
      ]
     },
     "execution_count": 37,
     "metadata": {},
     "output_type": "execute_result"
    }
   ],
   "source": [
    "sigla_time_b"
   ]
  },
  {
   "cell_type": "code",
   "execution_count": 38,
   "metadata": {},
   "outputs": [],
   "source": [
    "data.to_csv('tempo2.csv')"
   ]
  },
  {
   "cell_type": "code",
   "execution_count": 39,
   "metadata": {},
   "outputs": [],
   "source": [
    "# esse df é usado para retirar alguns argumentos que não fazem diferença \n",
    "# na função abaixo retiramos as listas vazias que o loop gera quando o time se repete \n",
    "def remove_item(my_list,*args):\n",
    "    deletar = list(args)\n",
    "    for item in deletar:\n",
    "        while item in my_list:\n",
    "            my_list.remove(item)\n",
    "    return my_list"
   ]
  },
  {
   "cell_type": "code",
   "execution_count": 40,
   "metadata": {},
   "outputs": [],
   "source": [
    "# Utilizamos uma Flag para diferenciar as paradas entre os tempos iniciais de cada posse\n",
    "flag = -1\n",
    "# valores da ultima linha \n",
    "ultima_linha = []\n",
    "# utilizado para determinar o tempo de início de cada período\n",
    "tempo_a_inicio = []\n",
    "tempo_b_inicio = []\n",
    "# utilizado para agrupar os valores da pontuação dos times\n",
    "time_a = []\n",
    "time_b = []\n",
    "# utilizados para somar os valores agrupados da pontuação \n",
    "soma_a = []\n",
    "soma_b = []\n",
    "# identificar o nome do time\n",
    "nome_time_A = []\n",
    "nome_time_B = []\n",
    "for i in range(len(data)):\n",
    "    # caso corresponda ao nome do time A\n",
    "    if data['Time'][i] == sigla_time_a:\n",
    "        # adiciona o valor da pontuação\n",
    "        time_a.append(data['pontuacao'][i])\n",
    "        ##########################################\n",
    "        # pegam os valores acumulados do time B e as soma\n",
    "        soma_b.append(sum(time_b))\n",
    "        # zera esse valor da pontuação para não interferir na mudaça do for\n",
    "        time_b = []\n",
    "        # remove esses valores zerados\n",
    "        soma_b = remove_item(soma_b, 0)\n",
    "        if flag != 1:\n",
    "            # quando chegamos na flag o pensamento é pegar o primeiro valor que apresenta no Time A\n",
    "            # pega o primeiro valor do tempo de início\n",
    "            tempo_a_inicio.append(data['Tempo'][i])\n",
    "            # pega o primeiro valor do nome do time\n",
    "            nome_time_A.append(data['Time'][i])\n",
    "            flag = 1\n",
    "        else:\n",
    "            pass\n",
    "    # caso corresponda ao nome do time B\n",
    "    elif data['Time'][i] == sigla_time_b:\n",
    "        # adiciona o valor da pontuação\n",
    "        time_b.append(data['pontuacao'][i])\n",
    "        #####################################################\n",
    "        # pegam os valores acumulados do time A e as soma\n",
    "        soma_a.append(sum(time_a))\n",
    "        # zera esse valor da pontuação para não interferir na mudaça do for\n",
    "        time_a = []\n",
    "        # remove esses valores zerados\n",
    "        soma_a = remove_item(soma_a, 0)\n",
    "        if flag != 0:\n",
    "            # quando chegamos na flag o pensamento é pegar o primeiro valor que apresenta no Time B\n",
    "            # pega o primeiro valor do tempo de início\n",
    "            tempo_b_inicio.append(data['Tempo'][i])\n",
    "            # pega o primeiro valor do nome do time\n",
    "            nome_time_B.append(data['Time'][i])\n",
    "            flag = 0\n",
    "        else:\n",
    "            pass\n",
    "    # caso corresponda ao termino da partida\n",
    "    else:\n",
    "        # caso chegue no final da linha os valores são armazenados \n",
    "        ultima_linha = data['Tempo'][i]\n",
    "        # aplicamos as ultimas somas  para cada time\n",
    "        soma_b.append(sum(time_b))\n",
    "        soma_a.append(sum(time_a))\n",
    "        # e removemos os valores que estão zerados \n",
    "        soma_a = remove_item(soma_a, 0)\n",
    "        soma_b = remove_item(soma_b, 0)        "
   ]
  },
  {
   "cell_type": "code",
   "execution_count": 41,
   "metadata": {},
   "outputs": [],
   "source": [
    "# caso o tamanho do inicio esteja variando  por causa dos ultimos lances relacionados ao tempo de partida \n",
    "# a gente alinha dessa forma \n",
    "if len(tempo_a_inicio) < len(tempo_b_inicio):\n",
    "    tempo_a_inicio.append(ultima_linha)\n",
    "    nome_time_A.append(nome_time_A[0])\n",
    "    soma_a.append(np.nan)\n",
    "# e acrescenta no a e agora tb acrescenta no B\n",
    "elif len(tempo_a_inicio) > len(tempo_b_inicio):\n",
    "    tempo_b_inicio.append(ultima_linha)\n",
    "    nome_time_B.append(nome_time_B[0])\n",
    "    soma_b.append(np.nan)"
   ]
  },
  {
   "cell_type": "code",
   "execution_count": 42,
   "metadata": {},
   "outputs": [],
   "source": [
    "posse_de_bola_A = pd.DataFrame()\n",
    "posse_de_bola_A['Time'] = nome_time_A\n",
    "posse_de_bola_A['Tempo_de_Inicio'] = tempo_a_inicio\n",
    "posse_de_bola_A['Tempo_de_Termino'] = tempo_b_inicio\n",
    "posse_de_bola_A['Soma_Pontuacao'] = soma_a"
   ]
  },
  {
   "cell_type": "code",
   "execution_count": 43,
   "metadata": {},
   "outputs": [
    {
     "data": {
      "text/html": [
       "<div>\n",
       "<style scoped>\n",
       "    .dataframe tbody tr th:only-of-type {\n",
       "        vertical-align: middle;\n",
       "    }\n",
       "\n",
       "    .dataframe tbody tr th {\n",
       "        vertical-align: top;\n",
       "    }\n",
       "\n",
       "    .dataframe thead th {\n",
       "        text-align: right;\n",
       "    }\n",
       "</style>\n",
       "<table border=\"1\" class=\"dataframe\">\n",
       "  <thead>\n",
       "    <tr style=\"text-align: right;\">\n",
       "      <th></th>\n",
       "      <th>Time</th>\n",
       "      <th>Tempo_de_Inicio</th>\n",
       "      <th>Tempo_de_Termino</th>\n",
       "      <th>Soma_Pontuacao</th>\n",
       "    </tr>\n",
       "  </thead>\n",
       "  <tbody>\n",
       "    <tr>\n",
       "      <th>0</th>\n",
       "      <td>RCB</td>\n",
       "      <td>21</td>\n",
       "      <td>43</td>\n",
       "      <td>2</td>\n",
       "    </tr>\n",
       "    <tr>\n",
       "      <th>1</th>\n",
       "      <td>RCB</td>\n",
       "      <td>64</td>\n",
       "      <td>86</td>\n",
       "      <td>2</td>\n",
       "    </tr>\n",
       "    <tr>\n",
       "      <th>2</th>\n",
       "      <td>RCB</td>\n",
       "      <td>235</td>\n",
       "      <td>272</td>\n",
       "      <td>4</td>\n",
       "    </tr>\n",
       "    <tr>\n",
       "      <th>3</th>\n",
       "      <td>RCB</td>\n",
       "      <td>296</td>\n",
       "      <td>336</td>\n",
       "      <td>3</td>\n",
       "    </tr>\n",
       "    <tr>\n",
       "      <th>4</th>\n",
       "      <td>RCB</td>\n",
       "      <td>355</td>\n",
       "      <td>372</td>\n",
       "      <td>2</td>\n",
       "    </tr>\n",
       "  </tbody>\n",
       "</table>\n",
       "</div>"
      ],
      "text/plain": [
       "  Time  Tempo_de_Inicio  Tempo_de_Termino  Soma_Pontuacao\n",
       "0  RCB               21                43               2\n",
       "1  RCB               64                86               2\n",
       "2  RCB              235               272               4\n",
       "3  RCB              296               336               3\n",
       "4  RCB              355               372               2"
      ]
     },
     "execution_count": 43,
     "metadata": {},
     "output_type": "execute_result"
    }
   ],
   "source": [
    "posse_de_bola_A.head()"
   ]
  },
  {
   "cell_type": "code",
   "execution_count": 44,
   "metadata": {},
   "outputs": [],
   "source": [
    "# o fim do tempo b é o início do tempo A, pq a troca de bola é alternada\n",
    "del(tempo_a_inicio[0])\n",
    "tempo_a_inicio.append(np.nan)"
   ]
  },
  {
   "cell_type": "code",
   "execution_count": 45,
   "metadata": {},
   "outputs": [],
   "source": [
    "posse_de_bola_B = pd.DataFrame()\n",
    "posse_de_bola_B['Time'] = nome_time_B\n",
    "posse_de_bola_B['Tempo_de_Inicio'] = tempo_b_inicio\n",
    "posse_de_bola_B['Tempo_de_Termino'] = tempo_a_inicio\n",
    "posse_de_bola_B['Soma_Pontuacao'] = soma_b"
   ]
  },
  {
   "cell_type": "code",
   "execution_count": 46,
   "metadata": {},
   "outputs": [
    {
     "data": {
      "text/html": [
       "<div>\n",
       "<style scoped>\n",
       "    .dataframe tbody tr th:only-of-type {\n",
       "        vertical-align: middle;\n",
       "    }\n",
       "\n",
       "    .dataframe tbody tr th {\n",
       "        vertical-align: top;\n",
       "    }\n",
       "\n",
       "    .dataframe thead th {\n",
       "        text-align: right;\n",
       "    }\n",
       "</style>\n",
       "<table border=\"1\" class=\"dataframe\">\n",
       "  <thead>\n",
       "    <tr style=\"text-align: right;\">\n",
       "      <th></th>\n",
       "      <th>Time</th>\n",
       "      <th>Tempo_de_Inicio</th>\n",
       "      <th>Tempo_de_Termino</th>\n",
       "      <th>Soma_Pontuacao</th>\n",
       "    </tr>\n",
       "  </thead>\n",
       "  <tbody>\n",
       "    <tr>\n",
       "      <th>0</th>\n",
       "      <td>CEA</td>\n",
       "      <td>43</td>\n",
       "      <td>64.0</td>\n",
       "      <td>2.0</td>\n",
       "    </tr>\n",
       "    <tr>\n",
       "      <th>1</th>\n",
       "      <td>CEA</td>\n",
       "      <td>86</td>\n",
       "      <td>235.0</td>\n",
       "      <td>5.0</td>\n",
       "    </tr>\n",
       "    <tr>\n",
       "      <th>2</th>\n",
       "      <td>CEA</td>\n",
       "      <td>272</td>\n",
       "      <td>296.0</td>\n",
       "      <td>6.0</td>\n",
       "    </tr>\n",
       "    <tr>\n",
       "      <th>3</th>\n",
       "      <td>CEA</td>\n",
       "      <td>336</td>\n",
       "      <td>355.0</td>\n",
       "      <td>2.0</td>\n",
       "    </tr>\n",
       "    <tr>\n",
       "      <th>4</th>\n",
       "      <td>CEA</td>\n",
       "      <td>372</td>\n",
       "      <td>383.0</td>\n",
       "      <td>2.0</td>\n",
       "    </tr>\n",
       "  </tbody>\n",
       "</table>\n",
       "</div>"
      ],
      "text/plain": [
       "  Time  Tempo_de_Inicio  Tempo_de_Termino  Soma_Pontuacao\n",
       "0  CEA               43              64.0             2.0\n",
       "1  CEA               86             235.0             5.0\n",
       "2  CEA              272             296.0             6.0\n",
       "3  CEA              336             355.0             2.0\n",
       "4  CEA              372             383.0             2.0"
      ]
     },
     "execution_count": 46,
     "metadata": {},
     "output_type": "execute_result"
    }
   ],
   "source": [
    "posse_de_bola_B.head()"
   ]
  },
  {
   "cell_type": "code",
   "execution_count": 47,
   "metadata": {
    "scrolled": true
   },
   "outputs": [],
   "source": [
    "posse_de_bola_bruta = pd.concat([posse_de_bola_A, posse_de_bola_B], ignore_index=True)"
   ]
  },
  {
   "cell_type": "code",
   "execution_count": 48,
   "metadata": {},
   "outputs": [],
   "source": [
    "posse_de_bola_bruta.sort_values(by='Tempo_de_Inicio', ignore_index=True, inplace=True)"
   ]
  },
  {
   "cell_type": "code",
   "execution_count": 49,
   "metadata": {},
   "outputs": [],
   "source": [
    "posse_de_bola_bruta[\"diff_pontuacao\"] = posse_de_bola_bruta[\"Soma_Pontuacao\"].diff()"
   ]
  },
  {
   "cell_type": "code",
   "execution_count": 50,
   "metadata": {
    "scrolled": true
   },
   "outputs": [
    {
     "data": {
      "text/html": [
       "<div>\n",
       "<style scoped>\n",
       "    .dataframe tbody tr th:only-of-type {\n",
       "        vertical-align: middle;\n",
       "    }\n",
       "\n",
       "    .dataframe tbody tr th {\n",
       "        vertical-align: top;\n",
       "    }\n",
       "\n",
       "    .dataframe thead th {\n",
       "        text-align: right;\n",
       "    }\n",
       "</style>\n",
       "<table border=\"1\" class=\"dataframe\">\n",
       "  <thead>\n",
       "    <tr style=\"text-align: right;\">\n",
       "      <th></th>\n",
       "      <th>Time</th>\n",
       "      <th>Tempo_de_Inicio</th>\n",
       "      <th>Tempo_de_Termino</th>\n",
       "      <th>Soma_Pontuacao</th>\n",
       "      <th>diff_pontuacao</th>\n",
       "    </tr>\n",
       "  </thead>\n",
       "  <tbody>\n",
       "    <tr>\n",
       "      <th>0</th>\n",
       "      <td>RCB</td>\n",
       "      <td>21</td>\n",
       "      <td>43.0</td>\n",
       "      <td>2.0</td>\n",
       "      <td>NaN</td>\n",
       "    </tr>\n",
       "    <tr>\n",
       "      <th>1</th>\n",
       "      <td>CEA</td>\n",
       "      <td>43</td>\n",
       "      <td>64.0</td>\n",
       "      <td>2.0</td>\n",
       "      <td>0.0</td>\n",
       "    </tr>\n",
       "    <tr>\n",
       "      <th>2</th>\n",
       "      <td>RCB</td>\n",
       "      <td>64</td>\n",
       "      <td>86.0</td>\n",
       "      <td>2.0</td>\n",
       "      <td>0.0</td>\n",
       "    </tr>\n",
       "    <tr>\n",
       "      <th>3</th>\n",
       "      <td>CEA</td>\n",
       "      <td>86</td>\n",
       "      <td>235.0</td>\n",
       "      <td>5.0</td>\n",
       "      <td>3.0</td>\n",
       "    </tr>\n",
       "    <tr>\n",
       "      <th>4</th>\n",
       "      <td>RCB</td>\n",
       "      <td>235</td>\n",
       "      <td>272.0</td>\n",
       "      <td>4.0</td>\n",
       "      <td>-1.0</td>\n",
       "    </tr>\n",
       "  </tbody>\n",
       "</table>\n",
       "</div>"
      ],
      "text/plain": [
       "  Time  Tempo_de_Inicio  Tempo_de_Termino  Soma_Pontuacao  diff_pontuacao\n",
       "0  RCB               21              43.0             2.0             NaN\n",
       "1  CEA               43              64.0             2.0             0.0\n",
       "2  RCB               64              86.0             2.0             0.0\n",
       "3  CEA               86             235.0             5.0             3.0\n",
       "4  RCB              235             272.0             4.0            -1.0"
      ]
     },
     "execution_count": 50,
     "metadata": {},
     "output_type": "execute_result"
    }
   ],
   "source": [
    "posse_de_bola_bruta.head()"
   ]
  },
  {
   "cell_type": "code",
   "execution_count": 51,
   "metadata": {},
   "outputs": [],
   "source": [
    "periodos_posteriores = []\n",
    "for i in range(len(posse_de_bola_bruta)):\n",
    "    if posse_de_bola_bruta['Soma_Pontuacao'][i] >= 5:\n",
    "        periodo_potencial_a_positivo = 1\n",
    "    else:\n",
    "        if (posse_de_bola_bruta['diff_pontuacao'][i] <= -4) & (posse_de_bola_bruta['Soma_Pontuacao'][i] < 3):\n",
    "            periodos_posteriores.append(posse_de_bola_bruta['Tempo_de_Inicio'][i])\n",
    "            if periodo_potencial_a_positivo == 1:\n",
    "                periodo_potencial_a_positivo = 0\n",
    "            elif periodo_potencial_a_positivo != 1:\n",
    "                periodo_potencial_a_positivo = 0"
   ]
  },
  {
   "cell_type": "code",
   "execution_count": 52,
   "metadata": {},
   "outputs": [
    {
     "data": {
      "text/plain": [
       "[1031, 2011, 2324]"
      ]
     },
     "execution_count": 52,
     "metadata": {},
     "output_type": "execute_result"
    }
   ],
   "source": [
    "periodos_posteriores"
   ]
  },
  {
   "cell_type": "code",
   "execution_count": 53,
   "metadata": {},
   "outputs": [],
   "source": [
    "periodos_iniciais = posse_de_bola_bruta[~posse_de_bola_bruta['Tempo_de_Inicio'].isin(periodos_posteriores)]\n",
    "periodos_iniciais.reset_index(inplace=True, drop=True)"
   ]
  },
  {
   "cell_type": "code",
   "execution_count": 54,
   "metadata": {
    "scrolled": true
   },
   "outputs": [
    {
     "data": {
      "text/html": [
       "<div>\n",
       "<style scoped>\n",
       "    .dataframe tbody tr th:only-of-type {\n",
       "        vertical-align: middle;\n",
       "    }\n",
       "\n",
       "    .dataframe tbody tr th {\n",
       "        vertical-align: top;\n",
       "    }\n",
       "\n",
       "    .dataframe thead th {\n",
       "        text-align: right;\n",
       "    }\n",
       "</style>\n",
       "<table border=\"1\" class=\"dataframe\">\n",
       "  <thead>\n",
       "    <tr style=\"text-align: right;\">\n",
       "      <th></th>\n",
       "      <th>Time</th>\n",
       "      <th>Tempo_de_Inicio</th>\n",
       "      <th>Tempo_de_Termino</th>\n",
       "      <th>Soma_Pontuacao</th>\n",
       "      <th>diff_pontuacao</th>\n",
       "    </tr>\n",
       "  </thead>\n",
       "  <tbody>\n",
       "    <tr>\n",
       "      <th>0</th>\n",
       "      <td>RCB</td>\n",
       "      <td>21</td>\n",
       "      <td>43.0</td>\n",
       "      <td>2.0</td>\n",
       "      <td>NaN</td>\n",
       "    </tr>\n",
       "    <tr>\n",
       "      <th>1</th>\n",
       "      <td>CEA</td>\n",
       "      <td>43</td>\n",
       "      <td>64.0</td>\n",
       "      <td>2.0</td>\n",
       "      <td>0.0</td>\n",
       "    </tr>\n",
       "    <tr>\n",
       "      <th>2</th>\n",
       "      <td>RCB</td>\n",
       "      <td>64</td>\n",
       "      <td>86.0</td>\n",
       "      <td>2.0</td>\n",
       "      <td>0.0</td>\n",
       "    </tr>\n",
       "    <tr>\n",
       "      <th>3</th>\n",
       "      <td>CEA</td>\n",
       "      <td>86</td>\n",
       "      <td>235.0</td>\n",
       "      <td>5.0</td>\n",
       "      <td>3.0</td>\n",
       "    </tr>\n",
       "    <tr>\n",
       "      <th>4</th>\n",
       "      <td>RCB</td>\n",
       "      <td>235</td>\n",
       "      <td>272.0</td>\n",
       "      <td>4.0</td>\n",
       "      <td>-1.0</td>\n",
       "    </tr>\n",
       "  </tbody>\n",
       "</table>\n",
       "</div>"
      ],
      "text/plain": [
       "  Time  Tempo_de_Inicio  Tempo_de_Termino  Soma_Pontuacao  diff_pontuacao\n",
       "0  RCB               21              43.0             2.0             NaN\n",
       "1  CEA               43              64.0             2.0             0.0\n",
       "2  RCB               64              86.0             2.0             0.0\n",
       "3  CEA               86             235.0             5.0             3.0\n",
       "4  RCB              235             272.0             4.0            -1.0"
      ]
     },
     "execution_count": 54,
     "metadata": {},
     "output_type": "execute_result"
    }
   ],
   "source": [
    "periodos_iniciais.head()"
   ]
  },
  {
   "cell_type": "code",
   "execution_count": 55,
   "metadata": {},
   "outputs": [],
   "source": [
    "flag = -1\n",
    "tempo_a_peridodo_inicial = []\n",
    "tempo_b_peridodo_inicial = []\n",
    "tempo_a_peridodo_final = []\n",
    "tempo_b_peridodo_final = []\n",
    "pontuação_a = []\n",
    "pontuação_b = []\n",
    "nome_time_A = []\n",
    "nome_time_B = []\n",
    "# como o time do flamengo começa, o time de minas não apresenta o primeiro valor\n",
    "# por causa disso é acrescentado um valor 0 que não existe \n",
    "potencial_final_periodo_a = 0\n",
    "potencial_final_periodo_b = 0\n",
    "\n",
    "for i in range(len(periodos_iniciais)):\n",
    "    if periodos_iniciais['Time'][i] == sigla_time_a:\n",
    "        if flag != 1:\n",
    "            potencial_final_periodo_a = periodos_iniciais['Tempo_de_Termino'][i]\n",
    "            tempo_a_peridodo_inicial.append(periodos_iniciais['Tempo_de_Inicio'][i])\n",
    "            nome_time_A.append(periodos_iniciais['Time'][i])\n",
    "            pontuação_a.append(periodos_iniciais['Soma_Pontuacao'][i])\n",
    "            ##################################################################\n",
    "            tempo_b_peridodo_final.append(potencial_final_periodo_b)\n",
    "            flag = 1\n",
    "        else:\n",
    "            potencial_final_periodo_a = periodos_iniciais['Tempo_de_Termino'][i]\n",
    "            flag = 1\n",
    "    else:\n",
    "        if flag != 0:\n",
    "            tempo_a_peridodo_final.append(potencial_final_periodo_a)\n",
    "            ############################################################\n",
    "            potencial_final_periodo_b = periodos_iniciais['Tempo_de_Termino'][i]\n",
    "            tempo_b_peridodo_inicial.append(periodos_iniciais['Tempo_de_Inicio'][i])\n",
    "            nome_time_B.append(periodos_iniciais['Time'][i])\n",
    "            pontuação_b.append(periodos_iniciais['Soma_Pontuacao'][i])\n",
    "            flag = 0\n",
    "        else:\n",
    "            potencial_final_periodo_b = periodos_iniciais['Tempo_de_Termino'][i]\n",
    "            flag = 0"
   ]
  },
  {
   "cell_type": "code",
   "execution_count": 56,
   "metadata": {},
   "outputs": [],
   "source": [
    "periodos_A = pd.DataFrame()\n",
    "periodos_A['Time'] = nome_time_A\n",
    "periodos_A['Tempo_de_Inicio'] = tempo_a_peridodo_inicial\n",
    "periodos_A['Tempo_de_Termino'] = tempo_a_peridodo_final\n",
    "periodos_A['Soma_Pontuacao'] = pontuação_a"
   ]
  },
  {
   "cell_type": "code",
   "execution_count": 57,
   "metadata": {},
   "outputs": [],
   "source": [
    "# o fim do tempo b é o início do tempo A, pq a troca de bola é alternada \n",
    "fim_b = tempo_b_peridodo_final\n",
    "del(fim_b[0])\n",
    "fim_b.append(np.nan)"
   ]
  },
  {
   "cell_type": "code",
   "execution_count": 58,
   "metadata": {},
   "outputs": [],
   "source": [
    "periodos_B = pd.DataFrame()\n",
    "periodos_B['Time'] = nome_time_B\n",
    "periodos_B['Tempo_de_Inicio'] = tempo_b_peridodo_inicial\n",
    "periodos_B['Tempo_de_Termino'] = tempo_b_peridodo_final\n",
    "periodos_B['Soma_Pontuacao'] = pontuação_b"
   ]
  },
  {
   "cell_type": "code",
   "execution_count": 59,
   "metadata": {},
   "outputs": [],
   "source": [
    "periodo = pd.concat([periodos_A, periodos_B], ignore_index=True)"
   ]
  },
  {
   "cell_type": "code",
   "execution_count": 60,
   "metadata": {},
   "outputs": [],
   "source": [
    "periodo.sort_values(by='Tempo_de_Inicio', ignore_index=True, inplace=True)"
   ]
  },
  {
   "cell_type": "code",
   "execution_count": 61,
   "metadata": {
    "scrolled": true
   },
   "outputs": [
    {
     "data": {
      "text/html": [
       "<div>\n",
       "<style scoped>\n",
       "    .dataframe tbody tr th:only-of-type {\n",
       "        vertical-align: middle;\n",
       "    }\n",
       "\n",
       "    .dataframe tbody tr th {\n",
       "        vertical-align: top;\n",
       "    }\n",
       "\n",
       "    .dataframe thead th {\n",
       "        text-align: right;\n",
       "    }\n",
       "</style>\n",
       "<table border=\"1\" class=\"dataframe\">\n",
       "  <thead>\n",
       "    <tr style=\"text-align: right;\">\n",
       "      <th></th>\n",
       "      <th>Time</th>\n",
       "      <th>Tempo_de_Inicio</th>\n",
       "      <th>Tempo_de_Termino</th>\n",
       "      <th>Soma_Pontuacao</th>\n",
       "    </tr>\n",
       "  </thead>\n",
       "  <tbody>\n",
       "    <tr>\n",
       "      <th>0</th>\n",
       "      <td>RCB</td>\n",
       "      <td>21</td>\n",
       "      <td>43.0</td>\n",
       "      <td>2.0</td>\n",
       "    </tr>\n",
       "    <tr>\n",
       "      <th>1</th>\n",
       "      <td>CEA</td>\n",
       "      <td>43</td>\n",
       "      <td>64.0</td>\n",
       "      <td>2.0</td>\n",
       "    </tr>\n",
       "    <tr>\n",
       "      <th>2</th>\n",
       "      <td>RCB</td>\n",
       "      <td>64</td>\n",
       "      <td>86.0</td>\n",
       "      <td>2.0</td>\n",
       "    </tr>\n",
       "    <tr>\n",
       "      <th>3</th>\n",
       "      <td>CEA</td>\n",
       "      <td>86</td>\n",
       "      <td>235.0</td>\n",
       "      <td>5.0</td>\n",
       "    </tr>\n",
       "    <tr>\n",
       "      <th>4</th>\n",
       "      <td>RCB</td>\n",
       "      <td>235</td>\n",
       "      <td>272.0</td>\n",
       "      <td>4.0</td>\n",
       "    </tr>\n",
       "    <tr>\n",
       "      <th>5</th>\n",
       "      <td>CEA</td>\n",
       "      <td>272</td>\n",
       "      <td>296.0</td>\n",
       "      <td>6.0</td>\n",
       "    </tr>\n",
       "    <tr>\n",
       "      <th>6</th>\n",
       "      <td>RCB</td>\n",
       "      <td>296</td>\n",
       "      <td>336.0</td>\n",
       "      <td>3.0</td>\n",
       "    </tr>\n",
       "    <tr>\n",
       "      <th>7</th>\n",
       "      <td>CEA</td>\n",
       "      <td>336</td>\n",
       "      <td>355.0</td>\n",
       "      <td>2.0</td>\n",
       "    </tr>\n",
       "    <tr>\n",
       "      <th>8</th>\n",
       "      <td>RCB</td>\n",
       "      <td>355</td>\n",
       "      <td>372.0</td>\n",
       "      <td>2.0</td>\n",
       "    </tr>\n",
       "    <tr>\n",
       "      <th>9</th>\n",
       "      <td>CEA</td>\n",
       "      <td>372</td>\n",
       "      <td>383.0</td>\n",
       "      <td>2.0</td>\n",
       "    </tr>\n",
       "  </tbody>\n",
       "</table>\n",
       "</div>"
      ],
      "text/plain": [
       "  Time  Tempo_de_Inicio  Tempo_de_Termino  Soma_Pontuacao\n",
       "0  RCB               21              43.0             2.0\n",
       "1  CEA               43              64.0             2.0\n",
       "2  RCB               64              86.0             2.0\n",
       "3  CEA               86             235.0             5.0\n",
       "4  RCB              235             272.0             4.0\n",
       "5  CEA              272             296.0             6.0\n",
       "6  RCB              296             336.0             3.0\n",
       "7  CEA              336             355.0             2.0\n",
       "8  RCB              355             372.0             2.0\n",
       "9  CEA              372             383.0             2.0"
      ]
     },
     "execution_count": 61,
     "metadata": {},
     "output_type": "execute_result"
    }
   ],
   "source": [
    "periodo.head(10)"
   ]
  },
  {
   "cell_type": "code",
   "execution_count": 62,
   "metadata": {},
   "outputs": [],
   "source": [
    "periodo_final_a = periodo.loc[(periodo['Soma_Pontuacao'] >=5) & (periodo['Time'] == sigla_time_a)]"
   ]
  },
  {
   "cell_type": "code",
   "execution_count": 63,
   "metadata": {},
   "outputs": [
    {
     "data": {
      "text/html": [
       "<div>\n",
       "<style scoped>\n",
       "    .dataframe tbody tr th:only-of-type {\n",
       "        vertical-align: middle;\n",
       "    }\n",
       "\n",
       "    .dataframe tbody tr th {\n",
       "        vertical-align: top;\n",
       "    }\n",
       "\n",
       "    .dataframe thead th {\n",
       "        text-align: right;\n",
       "    }\n",
       "</style>\n",
       "<table border=\"1\" class=\"dataframe\">\n",
       "  <thead>\n",
       "    <tr style=\"text-align: right;\">\n",
       "      <th></th>\n",
       "      <th>Time</th>\n",
       "      <th>Tempo_de_Inicio</th>\n",
       "      <th>Tempo_de_Termino</th>\n",
       "      <th>Soma_Pontuacao</th>\n",
       "    </tr>\n",
       "  </thead>\n",
       "  <tbody>\n",
       "    <tr>\n",
       "      <th>10</th>\n",
       "      <td>RCB</td>\n",
       "      <td>383</td>\n",
       "      <td>444.0</td>\n",
       "      <td>5.0</td>\n",
       "    </tr>\n",
       "    <tr>\n",
       "      <th>24</th>\n",
       "      <td>RCB</td>\n",
       "      <td>918</td>\n",
       "      <td>1031.0</td>\n",
       "      <td>8.0</td>\n",
       "    </tr>\n",
       "    <tr>\n",
       "      <th>44</th>\n",
       "      <td>RCB</td>\n",
       "      <td>1811</td>\n",
       "      <td>2049.0</td>\n",
       "      <td>11.0</td>\n",
       "    </tr>\n",
       "    <tr>\n",
       "      <th>46</th>\n",
       "      <td>RCB</td>\n",
       "      <td>2092</td>\n",
       "      <td>2132.0</td>\n",
       "      <td>6.0</td>\n",
       "    </tr>\n",
       "  </tbody>\n",
       "</table>\n",
       "</div>"
      ],
      "text/plain": [
       "   Time  Tempo_de_Inicio  Tempo_de_Termino  Soma_Pontuacao\n",
       "10  RCB              383             444.0             5.0\n",
       "24  RCB              918            1031.0             8.0\n",
       "44  RCB             1811            2049.0            11.0\n",
       "46  RCB             2092            2132.0             6.0"
      ]
     },
     "execution_count": 63,
     "metadata": {},
     "output_type": "execute_result"
    }
   ],
   "source": [
    "periodo_final_a"
   ]
  },
  {
   "cell_type": "code",
   "execution_count": 64,
   "metadata": {},
   "outputs": [],
   "source": [
    "periodo_final_a_inicio = list(periodo_final_a['Tempo_de_Inicio'])\n",
    "periodo_final_a_final = list(periodo_final_a['Tempo_de_Termino'])"
   ]
  },
  {
   "cell_type": "code",
   "execution_count": 65,
   "metadata": {},
   "outputs": [
    {
     "data": {
      "text/plain": [
       "[383, 918, 1811, 2092]"
      ]
     },
     "execution_count": 65,
     "metadata": {},
     "output_type": "execute_result"
    }
   ],
   "source": [
    "periodo_final_a_inicio"
   ]
  },
  {
   "cell_type": "code",
   "execution_count": 66,
   "metadata": {},
   "outputs": [
    {
     "data": {
      "text/plain": [
       "[444.0, 1031.0, 2049.0, 2132.0]"
      ]
     },
     "execution_count": 66,
     "metadata": {},
     "output_type": "execute_result"
    }
   ],
   "source": [
    "periodo_final_a_final"
   ]
  },
  {
   "cell_type": "code",
   "execution_count": 67,
   "metadata": {},
   "outputs": [
    {
     "data": {
      "image/png": "[encoded data removed]",
      "text/plain": [
       "<Figure size 1080x360 with 1 Axes>"
      ]
     },
     "metadata": {
      "needs_background": "light"
     },
     "output_type": "display_data"
    }
   ],
   "source": [
    "plt.figure(figsize=(15,5))\n",
    "plt.plot(pontuacao['Tempo'], pontuacao['diferenca_placar_visitante'], label = 'dif_placar')\n",
    "plt.xlabel('Tempo de Jogo em Segundos')\n",
    "plt.ylabel('Diferença do Placar')\n",
    "plt.legend(loc='upper left')\n",
    "for x in periodo_final_a_inicio:\n",
    "    plt.axvline(x, color='red', label=pontuacao.index, linestyle='--', alpha=0.5)\n",
    "for x in periodo_final_a_final:\n",
    "    plt.axvline(x, color='green', label=pontuacao.index, linestyle='--', alpha=0.5)"
   ]
  },
  {
   "cell_type": "code",
   "execution_count": 68,
   "metadata": {},
   "outputs": [],
   "source": [
    "periodo_final_b = periodo.loc[(periodo['Soma_Pontuacao'] >=5) & (periodo['Time'] == sigla_time_b)]"
   ]
  },
  {
   "cell_type": "code",
   "execution_count": 69,
   "metadata": {},
   "outputs": [],
   "source": [
    "periodo_final_b_inicio = list(periodo_final_b['Tempo_de_Inicio'])\n",
    "periodo_final_b_final = list(periodo_final_b['Tempo_de_Termino'])"
   ]
  },
  {
   "cell_type": "code",
   "execution_count": 70,
   "metadata": {},
   "outputs": [
    {
     "data": {
      "text/plain": [
       "[86, 272, 587, 1744, 2261]"
      ]
     },
     "execution_count": 70,
     "metadata": {},
     "output_type": "execute_result"
    }
   ],
   "source": [
    "periodo_final_b_inicio"
   ]
  },
  {
   "cell_type": "code",
   "execution_count": 71,
   "metadata": {},
   "outputs": [
    {
     "data": {
      "text/plain": [
       "[235.0, 296.0, 735.0, 1811.0, 2359.0]"
      ]
     },
     "execution_count": 71,
     "metadata": {},
     "output_type": "execute_result"
    }
   ],
   "source": [
    "periodo_final_b_final"
   ]
  },
  {
   "cell_type": "code",
   "execution_count": 72,
   "metadata": {
    "scrolled": true
   },
   "outputs": [
    {
     "data": {
      "image/png": "[encoded data removed]",
      "text/plain": [
       "<Figure size 1080x360 with 1 Axes>"
      ]
     },
     "metadata": {
      "needs_background": "light"
     },
     "output_type": "display_data"
    }
   ],
   "source": [
    "plt.figure(figsize=(15,5))\n",
    "plt.plot(pontuacao['Tempo'], pontuacao['diferenca_placar_visitante'], label = 'dif_placar')\n",
    "plt.xlabel('Tempo de Jogo em Segundos')\n",
    "plt.ylabel('Diferença do Placar')\n",
    "plt.legend(loc='upper left')\n",
    "for x in periodo_final_b_inicio:\n",
    "    plt.axvline(x, color='red', label=pontuacao.index, linestyle='--', alpha=0.5)\n",
    "for x in periodo_final_b_final:\n",
    "    plt.axvline(x, color='green', label=pontuacao.index, linestyle='--', alpha=0.5)"
   ]
  },
  {
   "cell_type": "markdown",
   "metadata": {},
   "source": [
    "#### precisa fazer mais uma conta \n",
    "\n",
    "como as paradas são realizadas no primeiro momento em que se realiza ponto, nós perdemos as ações anteriores antes desse ponto acontecer\n",
    "- A ideia é encontrar os pontos realizado (isso já foi realizado)\n",
    "- depois precisa pegar esse ponto inicial e comparar em qual posse de bola se encontra esse inicio \n",
    "- ai sim podemos pegar o início da posse das ações que aconteceram anteriormente "
   ]
  },
  {
   "cell_type": "markdown",
   "metadata": {},
   "source": [
    "# Análise da Posse de Bola dos times"
   ]
  },
  {
   "cell_type": "markdown",
   "metadata": {},
   "source": [
    "#### Quantas posses de bola há em um jogo?"
   ]
  },
  {
   "cell_type": "code",
   "execution_count": 73,
   "metadata": {},
   "outputs": [],
   "source": [
    "posse_bola = df[(df['Indicador'] == '3_Pts_C') | (df['Indicador'] == '3_Pts_T') | \n",
    "                (df['Indicador'] == '2_Pts_C') | (df['Indicador'] == '2_Pts_T') |\n",
    "                (df['Indicador'] == 'LL_Pts_C') | (df['Indicador'] == 'LL_Pts_T') |\n",
    "                (df['Indicador'] == 'ER') | (df['Indicador'] == 'FC_O')|                \n",
    "                (df['Indicador'] == 'EN') | (df['Indicador'] == 'fim_partida')]"
   ]
  },
  {
   "cell_type": "code",
   "execution_count": 74,
   "metadata": {},
   "outputs": [],
   "source": [
    "# estamos invertendo os valores para deixar parecido com o jogo\n",
    "posse_bola = posse_bola[::-1]\n",
    "posse_bola.reset_index(drop=True, inplace=True)"
   ]
  },
  {
   "cell_type": "code",
   "execution_count": 75,
   "metadata": {},
   "outputs": [
    {
     "data": {
      "text/html": [
       "<div>\n",
       "<style scoped>\n",
       "    .dataframe tbody tr th:only-of-type {\n",
       "        vertical-align: middle;\n",
       "    }\n",
       "\n",
       "    .dataframe tbody tr th {\n",
       "        vertical-align: top;\n",
       "    }\n",
       "\n",
       "    .dataframe thead th {\n",
       "        text-align: right;\n",
       "    }\n",
       "</style>\n",
       "<table border=\"1\" class=\"dataframe\">\n",
       "  <thead>\n",
       "    <tr style=\"text-align: right;\">\n",
       "      <th></th>\n",
       "      <th>Quarto</th>\n",
       "      <th>Tempo</th>\n",
       "      <th>placar_casa</th>\n",
       "      <th>placar_visitante</th>\n",
       "      <th>Time</th>\n",
       "      <th>Indicador</th>\n",
       "      <th>Nome</th>\n",
       "      <th>diferenca_placar_casa</th>\n",
       "      <th>diferenca_placar_visitante</th>\n",
       "    </tr>\n",
       "  </thead>\n",
       "  <tbody>\n",
       "    <tr>\n",
       "      <th>0</th>\n",
       "      <td>1</td>\n",
       "      <td>21</td>\n",
       "      <td>0</td>\n",
       "      <td>2</td>\n",
       "      <td>RCB</td>\n",
       "      <td>2_Pts_C</td>\n",
       "      <td>Baxley</td>\n",
       "      <td>-2</td>\n",
       "      <td>2</td>\n",
       "    </tr>\n",
       "    <tr>\n",
       "      <th>1</th>\n",
       "      <td>1</td>\n",
       "      <td>43</td>\n",
       "      <td>1</td>\n",
       "      <td>2</td>\n",
       "      <td>CEA</td>\n",
       "      <td>LL_Pts_C</td>\n",
       "      <td>Felipe</td>\n",
       "      <td>-1</td>\n",
       "      <td>1</td>\n",
       "    </tr>\n",
       "    <tr>\n",
       "      <th>2</th>\n",
       "      <td>1</td>\n",
       "      <td>43</td>\n",
       "      <td>2</td>\n",
       "      <td>2</td>\n",
       "      <td>CEA</td>\n",
       "      <td>LL_Pts_C</td>\n",
       "      <td>Felipe</td>\n",
       "      <td>0</td>\n",
       "      <td>0</td>\n",
       "    </tr>\n",
       "    <tr>\n",
       "      <th>3</th>\n",
       "      <td>1</td>\n",
       "      <td>64</td>\n",
       "      <td>2</td>\n",
       "      <td>4</td>\n",
       "      <td>RCB</td>\n",
       "      <td>2_Pts_C</td>\n",
       "      <td>Baxley</td>\n",
       "      <td>-2</td>\n",
       "      <td>2</td>\n",
       "    </tr>\n",
       "    <tr>\n",
       "      <th>4</th>\n",
       "      <td>1</td>\n",
       "      <td>86</td>\n",
       "      <td>5</td>\n",
       "      <td>4</td>\n",
       "      <td>CEA</td>\n",
       "      <td>3_Pts_C</td>\n",
       "      <td>Cauê</td>\n",
       "      <td>1</td>\n",
       "      <td>-1</td>\n",
       "    </tr>\n",
       "    <tr>\n",
       "      <th>...</th>\n",
       "      <td>...</td>\n",
       "      <td>...</td>\n",
       "      <td>...</td>\n",
       "      <td>...</td>\n",
       "      <td>...</td>\n",
       "      <td>...</td>\n",
       "      <td>...</td>\n",
       "      <td>...</td>\n",
       "      <td>...</td>\n",
       "    </tr>\n",
       "    <tr>\n",
       "      <th>201</th>\n",
       "      <td>4</td>\n",
       "      <td>2389</td>\n",
       "      <td>87</td>\n",
       "      <td>89</td>\n",
       "      <td>CEA</td>\n",
       "      <td>EN</td>\n",
       "      <td>Marcão</td>\n",
       "      <td>-2</td>\n",
       "      <td>2</td>\n",
       "    </tr>\n",
       "    <tr>\n",
       "      <th>202</th>\n",
       "      <td>4</td>\n",
       "      <td>2390</td>\n",
       "      <td>87</td>\n",
       "      <td>90</td>\n",
       "      <td>RCB</td>\n",
       "      <td>LL_Pts_C</td>\n",
       "      <td>Lucious</td>\n",
       "      <td>-3</td>\n",
       "      <td>3</td>\n",
       "    </tr>\n",
       "    <tr>\n",
       "      <th>203</th>\n",
       "      <td>4</td>\n",
       "      <td>2390</td>\n",
       "      <td>87</td>\n",
       "      <td>90</td>\n",
       "      <td>RCB</td>\n",
       "      <td>LL_Pts_T</td>\n",
       "      <td>Lucious</td>\n",
       "      <td>-3</td>\n",
       "      <td>3</td>\n",
       "    </tr>\n",
       "    <tr>\n",
       "      <th>204</th>\n",
       "      <td>4</td>\n",
       "      <td>2397</td>\n",
       "      <td>87</td>\n",
       "      <td>90</td>\n",
       "      <td>CEA</td>\n",
       "      <td>3_Pts_T</td>\n",
       "      <td>Rashaun</td>\n",
       "      <td>-3</td>\n",
       "      <td>3</td>\n",
       "    </tr>\n",
       "    <tr>\n",
       "      <th>205</th>\n",
       "      <td>4</td>\n",
       "      <td>2400</td>\n",
       "      <td>87</td>\n",
       "      <td>90</td>\n",
       "      <td>NaN</td>\n",
       "      <td>fim_partida</td>\n",
       "      <td>NaN</td>\n",
       "      <td>-3</td>\n",
       "      <td>3</td>\n",
       "    </tr>\n",
       "  </tbody>\n",
       "</table>\n",
       "<p>206 rows × 9 columns</p>\n",
       "</div>"
      ],
      "text/plain": [
       "     Quarto  Tempo  placar_casa  placar_visitante Time    Indicador     Nome  \\\n",
       "0         1     21            0                 2  RCB      2_Pts_C   Baxley   \n",
       "1         1     43            1                 2  CEA     LL_Pts_C   Felipe   \n",
       "2         1     43            2                 2  CEA     LL_Pts_C   Felipe   \n",
       "3         1     64            2                 4  RCB      2_Pts_C   Baxley   \n",
       "4         1     86            5                 4  CEA      3_Pts_C     Cauê   \n",
       "..      ...    ...          ...               ...  ...          ...      ...   \n",
       "201       4   2389           87                89  CEA           EN   Marcão   \n",
       "202       4   2390           87                90  RCB     LL_Pts_C  Lucious   \n",
       "203       4   2390           87                90  RCB     LL_Pts_T  Lucious   \n",
       "204       4   2397           87                90  CEA      3_Pts_T  Rashaun   \n",
       "205       4   2400           87                90  NaN  fim_partida      NaN   \n",
       "\n",
       "     diferenca_placar_casa  diferenca_placar_visitante  \n",
       "0                       -2                           2  \n",
       "1                       -1                           1  \n",
       "2                        0                           0  \n",
       "3                       -2                           2  \n",
       "4                        1                          -1  \n",
       "..                     ...                         ...  \n",
       "201                     -2                           2  \n",
       "202                     -3                           3  \n",
       "203                     -3                           3  \n",
       "204                     -3                           3  \n",
       "205                     -3                           3  \n",
       "\n",
       "[206 rows x 9 columns]"
      ]
     },
     "execution_count": 75,
     "metadata": {},
     "output_type": "execute_result"
    }
   ],
   "source": [
    "posse_bola"
   ]
  },
  {
   "cell_type": "code",
   "execution_count": 76,
   "metadata": {},
   "outputs": [],
   "source": [
    "posse_bola.to_csv('tempo2.csv')"
   ]
  },
  {
   "cell_type": "code",
   "execution_count": 77,
   "metadata": {},
   "outputs": [],
   "source": [
    "# Utilizamos uma Flag para diferenciar as paradas entre os tempos iniciais de cada posse\n",
    "flag = -1\n",
    "# valores da ultima linha \n",
    "ultima_linha = []\n",
    "# valores finais da posse de bola\n",
    "tempo_a_peridodo_final = []\n",
    "tempo_b_peridodo_final = []\n",
    "# identificar o nome do time\n",
    "nome_time_A = []\n",
    "nome_time_B = []\n",
    "# identifica o tempo final\n",
    "tempo_a_fim = 0\n",
    "tempo_b_fim = 0\n",
    "\n",
    "\n",
    "for i in range(len(posse_bola)):\n",
    "    # caso corresponda ao nome do time A\n",
    "    if posse_bola['Time'][i] == sigla_time_a:\n",
    "        if flag != 1:\n",
    "            # quando chegamos na flag o pensamento é pegar o primeiro valor que apresenta no Time A\n",
    "            # o loop do Time B é terminado \n",
    "            tempo_b_peridodo_final.append(tempo_b_fim)\n",
    "            # pega o primeiro valor do tempo de início\n",
    "            tempo_a_fim = posse_bola['Tempo'][i]\n",
    "            # pega o primeiro valor do nome do time\n",
    "            nome_time_A.append(posse_bola['Time'][i])\n",
    "            flag = 1\n",
    "        else:\n",
    "            tempo_a_fim = posse_bola['Tempo'][i]\n",
    "            flag = 1\n",
    "    # caso corresponda ao nome do time B\n",
    "    elif posse_bola['Time'][i] == sigla_time_b:\n",
    "        if flag != 0:\n",
    "            # quando chegamos na flag o pensamento é pegar o primeiro valor que apresenta no Time B\n",
    "            # o loop do Time A é terminado \n",
    "            tempo_a_peridodo_final.append(tempo_a_fim)\n",
    "            # pega o primeiro valor do tempo final\n",
    "            tempo_b_fim = posse_bola['Tempo'][i]\n",
    "            # pega o primeiro valor do nome do time\n",
    "            nome_time_B.append(posse_bola['Time'][i])\n",
    "            flag = 0\n",
    "        else:\n",
    "            tempo_b_fim = posse_bola['Tempo'][i]\n",
    "            flag = 0\n",
    "    # caso corresponda ao termino da partida\n",
    "    else:\n",
    "        # caso chegue no final da linha os valores são armazenados\n",
    "        ultima_linha = posse_bola['Tempo'][i]\n",
    "        if flag != 1:\n",
    "            nome_time_B.append(posse_bola['Time'][i])\n",
    "            tempo_b_peridodo_final.append(tempo_b_fim)\n",
    "        elif flag != 0:\n",
    "            nome_time_A.append(posse_bola['Time'][i])\n",
    "            tempo_a_peridodo_final.append(tempo_a_fim)"
   ]
  },
  {
   "cell_type": "code",
   "execution_count": 78,
   "metadata": {},
   "outputs": [],
   "source": [
    "# caso o tamanho do inicio esteja variando  por causa dos ultimos lances relacionados ao tempo de partida \n",
    "# a gente alinha dessa forma \n",
    "if len(tempo_a_peridodo_final) < len(tempo_b_peridodo_final):\n",
    "    tempo_a_peridodo_final.append(ultima_linha)\n",
    "    nome_time_A.append(nome_time_A[0])\n",
    "# e acrescenta no a e agora tb acrescenta no B\n",
    "elif len(tempo_a_inicio) > len(tempo_b_inicio):\n",
    "    tempo_b_peridodo_final.append(ultima_linha)\n",
    "    nome_time_B.append(nome_time_A[0])"
   ]
  },
  {
   "cell_type": "code",
   "execution_count": 79,
   "metadata": {},
   "outputs": [],
   "source": [
    "posse_de_bola_a = pd.DataFrame()\n",
    "posse_de_bola_a['Time'] = nome_time_A\n",
    "posse_de_bola_a['Tempo_de_Inicio'] = tempo_b_peridodo_final\n",
    "posse_de_bola_a['Tempo_de_Termino'] = tempo_a_peridodo_final"
   ]
  },
  {
   "cell_type": "code",
   "execution_count": 80,
   "metadata": {},
   "outputs": [],
   "source": [
    "# o fim do tempo b é o início do tempo A, pq a troca de bola é alternada\n",
    "del(tempo_b_peridodo_final[0])\n",
    "tempo_b_peridodo_final.append(np.nan)"
   ]
  },
  {
   "cell_type": "code",
   "execution_count": 81,
   "metadata": {},
   "outputs": [],
   "source": [
    "posse_de_bola_b = pd.DataFrame()\n",
    "posse_de_bola_b['Time'] = nome_time_B\n",
    "posse_de_bola_b['Tempo_de_Inicio'] = tempo_a_peridodo_final\n",
    "posse_de_bola_b['Tempo_de_Termino'] = tempo_b_peridodo_final"
   ]
  },
  {
   "cell_type": "code",
   "execution_count": 82,
   "metadata": {},
   "outputs": [],
   "source": [
    "posse_de_bola = pd.concat([posse_de_bola_a, posse_de_bola_b], ignore_index=True)"
   ]
  },
  {
   "cell_type": "code",
   "execution_count": 83,
   "metadata": {},
   "outputs": [],
   "source": [
    "posse_de_bola.dropna(inplace=True)"
   ]
  },
  {
   "cell_type": "code",
   "execution_count": 84,
   "metadata": {},
   "outputs": [],
   "source": [
    "posse_de_bola.sort_values(by='Tempo_de_Inicio', ignore_index=True, inplace=True)"
   ]
  },
  {
   "cell_type": "code",
   "execution_count": 85,
   "metadata": {},
   "outputs": [],
   "source": [
    "posse_de_bola['Tempo_de_Termino'] = posse_de_bola['Tempo_de_Termino'].astype(int)"
   ]
  },
  {
   "cell_type": "code",
   "execution_count": 88,
   "metadata": {},
   "outputs": [],
   "source": [
    "posse_de_bola['Tempo_Posse'] = posse_de_bola['Tempo_de_Termino'] - posse_de_bola['Tempo_de_Inicio']"
   ]
  },
  {
   "cell_type": "code",
   "execution_count": 89,
   "metadata": {},
   "outputs": [
    {
     "data": {
      "text/html": [
       "<div>\n",
       "<style scoped>\n",
       "    .dataframe tbody tr th:only-of-type {\n",
       "        vertical-align: middle;\n",
       "    }\n",
       "\n",
       "    .dataframe tbody tr th {\n",
       "        vertical-align: top;\n",
       "    }\n",
       "\n",
       "    .dataframe thead th {\n",
       "        text-align: right;\n",
       "    }\n",
       "</style>\n",
       "<table border=\"1\" class=\"dataframe\">\n",
       "  <thead>\n",
       "    <tr style=\"text-align: right;\">\n",
       "      <th></th>\n",
       "      <th>Time</th>\n",
       "      <th>Tempo_de_Inicio</th>\n",
       "      <th>Tempo_de_Termino</th>\n",
       "      <th>Tempo_Posse</th>\n",
       "    </tr>\n",
       "  </thead>\n",
       "  <tbody>\n",
       "    <tr>\n",
       "      <th>0</th>\n",
       "      <td>RCB</td>\n",
       "      <td>0</td>\n",
       "      <td>21</td>\n",
       "      <td>21</td>\n",
       "    </tr>\n",
       "    <tr>\n",
       "      <th>1</th>\n",
       "      <td>CEA</td>\n",
       "      <td>21</td>\n",
       "      <td>43</td>\n",
       "      <td>22</td>\n",
       "    </tr>\n",
       "    <tr>\n",
       "      <th>2</th>\n",
       "      <td>RCB</td>\n",
       "      <td>43</td>\n",
       "      <td>64</td>\n",
       "      <td>21</td>\n",
       "    </tr>\n",
       "    <tr>\n",
       "      <th>3</th>\n",
       "      <td>CEA</td>\n",
       "      <td>64</td>\n",
       "      <td>86</td>\n",
       "      <td>22</td>\n",
       "    </tr>\n",
       "    <tr>\n",
       "      <th>4</th>\n",
       "      <td>RCB</td>\n",
       "      <td>86</td>\n",
       "      <td>102</td>\n",
       "      <td>16</td>\n",
       "    </tr>\n",
       "    <tr>\n",
       "      <th>...</th>\n",
       "      <td>...</td>\n",
       "      <td>...</td>\n",
       "      <td>...</td>\n",
       "      <td>...</td>\n",
       "    </tr>\n",
       "    <tr>\n",
       "      <th>142</th>\n",
       "      <td>RCB</td>\n",
       "      <td>2381</td>\n",
       "      <td>2382</td>\n",
       "      <td>1</td>\n",
       "    </tr>\n",
       "    <tr>\n",
       "      <th>143</th>\n",
       "      <td>CEA</td>\n",
       "      <td>2382</td>\n",
       "      <td>2389</td>\n",
       "      <td>7</td>\n",
       "    </tr>\n",
       "    <tr>\n",
       "      <th>144</th>\n",
       "      <td>RCB</td>\n",
       "      <td>2389</td>\n",
       "      <td>2390</td>\n",
       "      <td>1</td>\n",
       "    </tr>\n",
       "    <tr>\n",
       "      <th>145</th>\n",
       "      <td>CEA</td>\n",
       "      <td>2390</td>\n",
       "      <td>2397</td>\n",
       "      <td>7</td>\n",
       "    </tr>\n",
       "    <tr>\n",
       "      <th>146</th>\n",
       "      <td>RCB</td>\n",
       "      <td>2397</td>\n",
       "      <td>2400</td>\n",
       "      <td>3</td>\n",
       "    </tr>\n",
       "  </tbody>\n",
       "</table>\n",
       "<p>147 rows × 4 columns</p>\n",
       "</div>"
      ],
      "text/plain": [
       "    Time  Tempo_de_Inicio  Tempo_de_Termino  Tempo_Posse\n",
       "0    RCB                0                21           21\n",
       "1    CEA               21                43           22\n",
       "2    RCB               43                64           21\n",
       "3    CEA               64                86           22\n",
       "4    RCB               86               102           16\n",
       "..   ...              ...               ...          ...\n",
       "142  RCB             2381              2382            1\n",
       "143  CEA             2382              2389            7\n",
       "144  RCB             2389              2390            1\n",
       "145  CEA             2390              2397            7\n",
       "146  RCB             2397              2400            3\n",
       "\n",
       "[147 rows x 4 columns]"
      ]
     },
     "execution_count": 89,
     "metadata": {},
     "output_type": "execute_result"
    }
   ],
   "source": [
    "posse_de_bola"
   ]
  },
  {
   "cell_type": "code",
   "execution_count": 94,
   "metadata": {},
   "outputs": [
    {
     "data": {
      "text/plain": [
       "<matplotlib.axes._subplots.AxesSubplot at 0x2836fe2d730>"
      ]
     },
     "execution_count": 94,
     "metadata": {},
     "output_type": "execute_result"
    },
    {
     "data": {
      "image/png": "[encoded data removed]",
      "text/plain": [
       "<Figure size 1080x360 with 1 Axes>"
      ]
     },
     "metadata": {
      "needs_background": "light"
     },
     "output_type": "display_data"
    }
   ],
   "source": [
    "plt.figure(figsize=(15,5))\n",
    "sns.barplot(x='Tempo_de_Inicio', y = 'Tempo_Posse',data=posse_de_bola)"
   ]
  },
  {
   "cell_type": "code",
   "execution_count": null,
   "metadata": {},
   "outputs": [],
   "source": []
  },
  {
   "cell_type": "code",
   "execution_count": 87,
   "metadata": {},
   "outputs": [
    {
     "ename": "NameError",
     "evalue": "name 'aaaa' is not defined",
     "output_type": "error",
     "traceback": [
      "\u001b[1;31m---------------------------------------------------------------------------\u001b[0m",
      "\u001b[1;31mNameError\u001b[0m                                 Traceback (most recent call last)",
      "\u001b[1;32m<ipython-input-87-7bae8076a577>\u001b[0m in \u001b[0;36m<module>\u001b[1;34m\u001b[0m\n\u001b[1;32m----> 1\u001b[1;33m \u001b[0maaaa\u001b[0m\u001b[1;33m\u001b[0m\u001b[1;33m\u001b[0m\u001b[0m\n\u001b[0m",
      "\u001b[1;31mNameError\u001b[0m: name 'aaaa' is not defined"
     ]
    }
   ],
   "source": [
    "aaaa"
   ]
  },
  {
   "cell_type": "code",
   "execution_count": null,
   "metadata": {},
   "outputs": [],
   "source": []
  },
  {
   "cell_type": "code",
   "execution_count": null,
   "metadata": {
    "scrolled": true
   },
   "outputs": [],
   "source": [
    "# posse_bola[\"diferenca\"] = posse_bola[\"Tempo\"].diff(-1)"
   ]
  },
  {
   "cell_type": "code",
   "execution_count": null,
   "metadata": {},
   "outputs": [],
   "source": [
    "filtro = (posse_bola['diferenca'] >= 1) | (posse_bola['Indicador'] == 'inicio_partida') | (posse_bola['Indicador'] == 'fim_quarto')\n",
    "valor_posse_bola = posse_bola[filtro]"
   ]
  },
  {
   "cell_type": "code",
   "execution_count": null,
   "metadata": {},
   "outputs": [],
   "source": [
    "valor_posse_bola"
   ]
  },
  {
   "cell_type": "code",
   "execution_count": null,
   "metadata": {},
   "outputs": [],
   "source": [
    "valor_posse_bola.to_csv('valor_posse_bola.csv')"
   ]
  },
  {
   "cell_type": "code",
   "execution_count": null,
   "metadata": {},
   "outputs": [],
   "source": []
  },
  {
   "cell_type": "code",
   "execution_count": null,
   "metadata": {},
   "outputs": [],
   "source": []
  },
  {
   "cell_type": "code",
   "execution_count": null,
   "metadata": {},
   "outputs": [],
   "source": [
    "plt.figure(figsize=(15,5))\n",
    "sns.barplot(valor_posse_bola['Tempo'], valor_posse_bola['diferenca'])"
   ]
  },
  {
   "cell_type": "code",
   "execution_count": null,
   "metadata": {},
   "outputs": [],
   "source": [
    "Flamengo = df.query(\"Time == 'FLA'\")"
   ]
  },
  {
   "cell_type": "code",
   "execution_count": null,
   "metadata": {},
   "outputs": [],
   "source": [
    "placar_flamengo = Flamengo[(Flamengo['Indicador'] == '3_Pts_C') | (Flamengo['Indicador'] == '3_Pts_T') | \n",
    "                (Flamengo['Indicador'] == '2_Pts_C') | (Flamengo['Indicador'] == '2_Pts_C') |\n",
    "                (Flamengo['Indicador'] == 'LL_Pts_C') | (Flamengo['Indicador'] == 'LL_Pts_C')]"
   ]
  },
  {
   "cell_type": "code",
   "execution_count": null,
   "metadata": {},
   "outputs": [],
   "source": [
    "placar_flamengo"
   ]
  },
  {
   "cell_type": "code",
   "execution_count": null,
   "metadata": {},
   "outputs": [],
   "source": [
    "plt.figure(figsize=(15,5))\n",
    "sns.lineplot(data=placar_flamengo, x=\"Tempo\", y=\"placar_casa\")"
   ]
  },
  {
   "cell_type": "code",
   "execution_count": null,
   "metadata": {},
   "outputs": [],
   "source": [
    "plt.figure(figsize=(15,5))\n",
    "sns.lineplot(data=placar_flamengo, x=\"Tempo\", y=\"placar_visitante\")"
   ]
  },
  {
   "cell_type": "code",
   "execution_count": null,
   "metadata": {},
   "outputs": [],
   "source": []
  },
  {
   "cell_type": "code",
   "execution_count": null,
   "metadata": {},
   "outputs": [],
   "source": [
    "Flamengo = df.query(\"Time == 'FLA'\").sort_values(by=['Tempo'])"
   ]
  },
  {
   "cell_type": "code",
   "execution_count": null,
   "metadata": {},
   "outputs": [],
   "source": [
    "placar_flamengo = Flamengo[(Flamengo['Indicador'] == '3_Pts_C') | (Flamengo['Indicador'] == '3_Pts_T') | \n",
    "                (Flamengo['Indicador'] == '2_Pts_C') | (Flamengo['Indicador'] == '2_Pts_C') |\n",
    "                (Flamengo['Indicador'] == 'LL_Pts_C') | (Flamengo['Indicador'] == 'LL_Pts_C')]"
   ]
  },
  {
   "cell_type": "code",
   "execution_count": null,
   "metadata": {},
   "outputs": [],
   "source": [
    "placar_flamengo.set_index(\"Tempo\", inplace=True)"
   ]
  },
  {
   "cell_type": "code",
   "execution_count": null,
   "metadata": {},
   "outputs": [],
   "source": [
    "placar_flamengo_valor = placar_flamengo['placar_casa']"
   ]
  },
  {
   "cell_type": "code",
   "execution_count": null,
   "metadata": {},
   "outputs": [],
   "source": [
    "placar_flamengo_valor"
   ]
  },
  {
   "cell_type": "code",
   "execution_count": null,
   "metadata": {},
   "outputs": [],
   "source": [
    "plt.figure(figsize=(15,5))\n",
    "flamengo_media_movel = placar_flamengo_valor.plot()"
   ]
  },
  {
   "cell_type": "code",
   "execution_count": null,
   "metadata": {},
   "outputs": [],
   "source": [
    "flamengo_media_movel = placar_flamengo_valor.rolling(window=10).mean()"
   ]
  },
  {
   "cell_type": "code",
   "execution_count": null,
   "metadata": {},
   "outputs": [],
   "source": [
    "flamengo_media_movel"
   ]
  },
  {
   "cell_type": "code",
   "execution_count": null,
   "metadata": {},
   "outputs": [],
   "source": [
    "flamengo_dev_pad = placar_flamengo_valor.rolling(window=10).std()"
   ]
  },
  {
   "cell_type": "code",
   "execution_count": null,
   "metadata": {},
   "outputs": [],
   "source": [
    "flamengo_dev_pad"
   ]
  },
  {
   "cell_type": "code",
   "execution_count": null,
   "metadata": {},
   "outputs": [],
   "source": [
    "under_line = (flamengo_media_movel-flamengo_dev_pad)\n",
    "over_line = (flamengo_media_movel+flamengo_dev_pad)"
   ]
  },
  {
   "cell_type": "code",
   "execution_count": null,
   "metadata": {},
   "outputs": [],
   "source": [
    "plt.figure(figsize=(15,5))\n",
    "plt.plot(flamengo_media_movel, linewidth=2)\n",
    "plt.fill_between(flamengo_dev_pad, under_line, over_line, color='b', alpha=.1) #std curves."
   ]
  },
  {
   "cell_type": "code",
   "execution_count": null,
   "metadata": {},
   "outputs": [],
   "source": [
    "plt.figure(figsize=(15,5))\n",
    "plt.plot(flamengo_media_movel, linewidth=2) #mean curve.\n",
    "plt.fill_between(flamengo_dev_pad.index, under_line, over_line, color='b', alpha=.1) #std curves."
   ]
  },
  {
   "cell_type": "markdown",
   "metadata": {},
   "source": [
    "# identificação dos quintetos em quadra "
   ]
  },
  {
   "cell_type": "code",
   "execution_count": null,
   "metadata": {},
   "outputs": [],
   "source": [
    "# faz um if com o seguinte critério \n",
    "# if aparecer substituição_entra:\n",
    "#     a função adiciona o jogador x\n",
    "# elif aparecer substituição_sai:\n",
    "#     a função substitui o valor por 0"
   ]
  }
 ],
 "metadata": {
  "kernelspec": {
   "display_name": "Python 3",
   "language": "python",
   "name": "python3"
  },
  "language_info": {
   "codemirror_mode": {
    "name": "ipython",
    "version": 3
   },
   "file_extension": ".py",
   "mimetype": "text/x-python",
   "name": "python",
   "nbconvert_exporter": "python",
   "pygments_lexer": "ipython3",
   "version": "3.8.3"
  }
 },
 "nbformat": 4,
 "nbformat_minor": 4
}
