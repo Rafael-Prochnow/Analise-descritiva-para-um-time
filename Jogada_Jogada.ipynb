{
 "cells": [
  {
   "cell_type": "markdown",
   "metadata": {},
   "source": [
    "# Projeto: Análises Jogada-Jogada NBB 2019"
   ]
  },
  {
   "cell_type": "markdown",
   "metadata": {},
   "source": [
    "Para esse projeto estaremos analisando jogos do NBB, principal campeonato brasileiro de basquetebol. Os dados contém os seguintes campos:"
   ]
  },
  {
   "cell_type": "code",
   "execution_count": 1,
   "metadata": {},
   "outputs": [],
   "source": [
    "import numpy as np\n",
    "import pandas as pd\n",
    "import datetime as dt\n",
    "import re"
   ]
  },
  {
   "cell_type": "code",
   "execution_count": 2,
   "metadata": {},
   "outputs": [],
   "source": [
    "import matplotlib.pyplot as plt\n",
    "import seaborn as sns"
   ]
  },
  {
   "cell_type": "code",
   "execution_count": 3,
   "metadata": {},
   "outputs": [],
   "source": [
    "%matplotlib inline"
   ]
  },
  {
   "cell_type": "code",
   "execution_count": 4,
   "metadata": {},
   "outputs": [],
   "source": [
    "# df = pd.read_csv(\"Total_de_acao_acao.csv\")"
   ]
  },
  {
   "cell_type": "code",
   "execution_count": 5,
   "metadata": {},
   "outputs": [],
   "source": [
    "df = pd.read_csv(\"tabela_1_Minas_x_Flamengo.csv\")"
   ]
  },
  {
   "cell_type": "code",
   "execution_count": 6,
   "metadata": {},
   "outputs": [
    {
     "data": {
      "text/html": [
       "<div>\n",
       "<style scoped>\n",
       "    .dataframe tbody tr th:only-of-type {\n",
       "        vertical-align: middle;\n",
       "    }\n",
       "\n",
       "    .dataframe tbody tr th {\n",
       "        vertical-align: top;\n",
       "    }\n",
       "\n",
       "    .dataframe thead th {\n",
       "        text-align: right;\n",
       "    }\n",
       "</style>\n",
       "<table border=\"1\" class=\"dataframe\">\n",
       "  <thead>\n",
       "    <tr style=\"text-align: right;\">\n",
       "      <th></th>\n",
       "      <th>Unnamed: 0</th>\n",
       "      <th>Quarto</th>\n",
       "      <th>Tempo</th>\n",
       "      <th>placar_casa</th>\n",
       "      <th>placar_visitante</th>\n",
       "      <th>Time</th>\n",
       "      <th>Indicador</th>\n",
       "      <th>Nome</th>\n",
       "    </tr>\n",
       "  </thead>\n",
       "  <tbody>\n",
       "    <tr>\n",
       "      <th>0</th>\n",
       "      <td>0</td>\n",
       "      <td>4</td>\n",
       "      <td>00:00</td>\n",
       "      <td>85</td>\n",
       "      <td>93</td>\n",
       "      <td>NaN</td>\n",
       "      <td>fim_partida</td>\n",
       "      <td>NaN</td>\n",
       "    </tr>\n",
       "    <tr>\n",
       "      <th>1</th>\n",
       "      <td>1</td>\n",
       "      <td>4</td>\n",
       "      <td>00:00</td>\n",
       "      <td>85</td>\n",
       "      <td>93</td>\n",
       "      <td>NaN</td>\n",
       "      <td>fim_quarto</td>\n",
       "      <td>NaN</td>\n",
       "    </tr>\n",
       "    <tr>\n",
       "      <th>2</th>\n",
       "      <td>2</td>\n",
       "      <td>4</td>\n",
       "      <td>00:01</td>\n",
       "      <td>85</td>\n",
       "      <td>93</td>\n",
       "      <td>MIN</td>\n",
       "      <td>3_Pts_T</td>\n",
       "      <td>Queirós</td>\n",
       "    </tr>\n",
       "    <tr>\n",
       "      <th>3</th>\n",
       "      <td>3</td>\n",
       "      <td>4</td>\n",
       "      <td>00:05</td>\n",
       "      <td>85</td>\n",
       "      <td>93</td>\n",
       "      <td>FLA</td>\n",
       "      <td>LL_Pts_C</td>\n",
       "      <td>Marquinhos</td>\n",
       "    </tr>\n",
       "    <tr>\n",
       "      <th>4</th>\n",
       "      <td>4</td>\n",
       "      <td>4</td>\n",
       "      <td>00:05</td>\n",
       "      <td>85</td>\n",
       "      <td>92</td>\n",
       "      <td>FLA</td>\n",
       "      <td>LL_Pts_C</td>\n",
       "      <td>Marquinhos</td>\n",
       "    </tr>\n",
       "    <tr>\n",
       "      <th>...</th>\n",
       "      <td>...</td>\n",
       "      <td>...</td>\n",
       "      <td>...</td>\n",
       "      <td>...</td>\n",
       "      <td>...</td>\n",
       "      <td>...</td>\n",
       "      <td>...</td>\n",
       "      <td>...</td>\n",
       "    </tr>\n",
       "    <tr>\n",
       "      <th>477</th>\n",
       "      <td>477</td>\n",
       "      <td>1</td>\n",
       "      <td>10:00</td>\n",
       "      <td>0</td>\n",
       "      <td>0</td>\n",
       "      <td>MIN</td>\n",
       "      <td>substituicao_entra</td>\n",
       "      <td>Leandrinho</td>\n",
       "    </tr>\n",
       "    <tr>\n",
       "      <th>478</th>\n",
       "      <td>478</td>\n",
       "      <td>1</td>\n",
       "      <td>10:00</td>\n",
       "      <td>0</td>\n",
       "      <td>0</td>\n",
       "      <td>MIN</td>\n",
       "      <td>substituicao_entra</td>\n",
       "      <td>Alex</td>\n",
       "    </tr>\n",
       "    <tr>\n",
       "      <th>479</th>\n",
       "      <td>479</td>\n",
       "      <td>1</td>\n",
       "      <td>10:00</td>\n",
       "      <td>0</td>\n",
       "      <td>0</td>\n",
       "      <td>MIN</td>\n",
       "      <td>substituicao_entra</td>\n",
       "      <td>Davi</td>\n",
       "    </tr>\n",
       "    <tr>\n",
       "      <th>480</th>\n",
       "      <td>480</td>\n",
       "      <td>1</td>\n",
       "      <td>10:00</td>\n",
       "      <td>0</td>\n",
       "      <td>0</td>\n",
       "      <td>MIN</td>\n",
       "      <td>substituicao_entra</td>\n",
       "      <td>Tyrone</td>\n",
       "    </tr>\n",
       "    <tr>\n",
       "      <th>481</th>\n",
       "      <td>481</td>\n",
       "      <td>1</td>\n",
       "      <td>10:00</td>\n",
       "      <td>0</td>\n",
       "      <td>0</td>\n",
       "      <td>NaN</td>\n",
       "      <td>inicio_partida</td>\n",
       "      <td>NaN</td>\n",
       "    </tr>\n",
       "  </tbody>\n",
       "</table>\n",
       "<p>482 rows × 8 columns</p>\n",
       "</div>"
      ],
      "text/plain": [
       "     Unnamed: 0  Quarto  Tempo  placar_casa  placar_visitante Time  \\\n",
       "0             0       4  00:00           85                93  NaN   \n",
       "1             1       4  00:00           85                93  NaN   \n",
       "2             2       4  00:01           85                93  MIN   \n",
       "3             3       4  00:05           85                93  FLA   \n",
       "4             4       4  00:05           85                92  FLA   \n",
       "..          ...     ...    ...          ...               ...  ...   \n",
       "477         477       1  10:00            0                 0  MIN   \n",
       "478         478       1  10:00            0                 0  MIN   \n",
       "479         479       1  10:00            0                 0  MIN   \n",
       "480         480       1  10:00            0                 0  MIN   \n",
       "481         481       1  10:00            0                 0  NaN   \n",
       "\n",
       "              Indicador        Nome  \n",
       "0           fim_partida         NaN  \n",
       "1            fim_quarto         NaN  \n",
       "2               3_Pts_T     Queirós  \n",
       "3              LL_Pts_C  Marquinhos  \n",
       "4              LL_Pts_C  Marquinhos  \n",
       "..                  ...         ...  \n",
       "477  substituicao_entra  Leandrinho  \n",
       "478  substituicao_entra        Alex  \n",
       "479  substituicao_entra        Davi  \n",
       "480  substituicao_entra      Tyrone  \n",
       "481      inicio_partida         NaN  \n",
       "\n",
       "[482 rows x 8 columns]"
      ]
     },
     "execution_count": 6,
     "metadata": {},
     "output_type": "execute_result"
    }
   ],
   "source": [
    "df"
   ]
  },
  {
   "cell_type": "code",
   "execution_count": 7,
   "metadata": {},
   "outputs": [],
   "source": [
    "# mudança do tempo\n",
    "# colocar todos em segundos para facilitar a vida\n",
    "# primeiro evitar NAN (acredite!!! tem isso no site)\n",
    "df.dropna(subset=['Tempo'], inplace=True)"
   ]
  },
  {
   "cell_type": "code",
   "execution_count": 8,
   "metadata": {},
   "outputs": [],
   "source": [
    "# tem jogos que o site apresenta numeros inteiros (1, 12, 134, 1000)\n",
    "# para isso localizei o valores errados e concertei\n",
    "mudar_hora = []\n",
    "for x in df['Tempo']:\n",
    "    if re.findall(r'..:..', x):\n",
    "        mudar_hora.append(x)\n",
    "    else:\n",
    "        if re.findall(r'....', x):\n",
    "            x = x[0:2] + ':' + x[2:4]\n",
    "            mudar_hora.append(x)\n",
    "        elif re.findall(r'...', x):\n",
    "            x = '0' + x[0] + ':' + x[1:3]\n",
    "            mudar_hora.append(x)\n",
    "        elif re.findall(r'..', x):\n",
    "            x = '00:' + x\n",
    "            mudar_hora.append(x)\n",
    "        elif re.findall(r'.', x):\n",
    "            x = '00:0' + x\n",
    "            mudar_hora.append(x)\n",
    "\n",
    "df['Tempo_2'] = mudar_hora\n",
    "df.drop('Tempo', axis=1, inplace=True)"
   ]
  },
  {
   "cell_type": "code",
   "execution_count": 9,
   "metadata": {},
   "outputs": [],
   "source": [
    "df['Tempo_2'] = df['Tempo_2'].apply(lambda x: dt.datetime.strptime(x, '%M:%S'))"
   ]
  },
  {
   "cell_type": "code",
   "execution_count": 10,
   "metadata": {},
   "outputs": [],
   "source": [
    "df['Tempo_2'] = df['Tempo_2'].apply(lambda x: dt.time(x.hour, x.minute, x.second))"
   ]
  },
  {
   "cell_type": "code",
   "execution_count": 11,
   "metadata": {},
   "outputs": [],
   "source": [
    "df['Tempo_2'] = df['Tempo_2'].apply(lambda x: (x.hour * 60 + x.minute) * 60 + x.second)"
   ]
  },
  {
   "cell_type": "code",
   "execution_count": 12,
   "metadata": {},
   "outputs": [],
   "source": [
    "# transforma os dados para números inteiros\n",
    "df['Quarto'] = df['Quarto'].apply(lambda l: int(l))"
   ]
  },
  {
   "cell_type": "code",
   "execution_count": 13,
   "metadata": {},
   "outputs": [],
   "source": [
    "# modificar o tempo decrescente para crescente (* -1)\n",
    "# acrescentar o tempo de cada quarto (primeiro quarto termina em 600s, o segundo quarto 2*600 = 1200 ...)\n",
    "tempo_novo = []\n",
    "for x, y in zip(df['Quarto'], df['Tempo_2']):\n",
    "    if x == 1:\n",
    "        a = (y - (600 * 1)) * -1\n",
    "        tempo_novo.append(a)\n",
    "    elif x == 2:\n",
    "        a = (y - (600 * 2)) * -1\n",
    "        tempo_novo.append(a)\n",
    "    elif x == 3:\n",
    "        a = (y - (600 * 3)) * -1\n",
    "        tempo_novo.append(a)\n",
    "    elif x == 4:\n",
    "        a = (y - (600 * 4)) * -1\n",
    "        tempo_novo.append(a)\n",
    "    elif x == 5:\n",
    "        a = (y - (600 * 5)) * -1\n",
    "        tempo_novo.append(a)\n",
    "    elif x == 6:\n",
    "        a = (y - (600 * 6)) * -1\n",
    "        tempo_novo.append(a)\n",
    "    elif x == 7:\n",
    "        a = (y - (600 * 7)) * -1\n",
    "        tempo_novo.append(a)\n",
    "\n",
    "df['Tempo'] = tempo_novo\n",
    "df.drop('Tempo_2', axis=1, inplace=True)"
   ]
  },
  {
   "cell_type": "code",
   "execution_count": 14,
   "metadata": {},
   "outputs": [],
   "source": [
    "# deixando o DataFrame nessa ordem de colunas\n",
    "df = df[['Quarto', 'Tempo', 'placar_casa', 'placar_visitante', 'Time', 'Indicador', 'Nome']]"
   ]
  },
  {
   "cell_type": "code",
   "execution_count": 15,
   "metadata": {},
   "outputs": [],
   "source": [
    "df['dif_casa'] = df['placar_casa'] - df['placar_visitante']\n",
    "df['dif_visitante'] = df['placar_visitante'] - df['placar_casa']"
   ]
  },
  {
   "cell_type": "code",
   "execution_count": 16,
   "metadata": {},
   "outputs": [
    {
     "data": {
      "text/html": [
       "<div>\n",
       "<style scoped>\n",
       "    .dataframe tbody tr th:only-of-type {\n",
       "        vertical-align: middle;\n",
       "    }\n",
       "\n",
       "    .dataframe tbody tr th {\n",
       "        vertical-align: top;\n",
       "    }\n",
       "\n",
       "    .dataframe thead th {\n",
       "        text-align: right;\n",
       "    }\n",
       "</style>\n",
       "<table border=\"1\" class=\"dataframe\">\n",
       "  <thead>\n",
       "    <tr style=\"text-align: right;\">\n",
       "      <th></th>\n",
       "      <th>Quarto</th>\n",
       "      <th>Tempo</th>\n",
       "      <th>placar_casa</th>\n",
       "      <th>placar_visitante</th>\n",
       "      <th>Time</th>\n",
       "      <th>Indicador</th>\n",
       "      <th>Nome</th>\n",
       "      <th>dif_casa</th>\n",
       "      <th>dif_visitante</th>\n",
       "    </tr>\n",
       "  </thead>\n",
       "  <tbody>\n",
       "    <tr>\n",
       "      <th>0</th>\n",
       "      <td>4</td>\n",
       "      <td>2400</td>\n",
       "      <td>85</td>\n",
       "      <td>93</td>\n",
       "      <td>NaN</td>\n",
       "      <td>fim_partida</td>\n",
       "      <td>NaN</td>\n",
       "      <td>-8</td>\n",
       "      <td>8</td>\n",
       "    </tr>\n",
       "    <tr>\n",
       "      <th>1</th>\n",
       "      <td>4</td>\n",
       "      <td>2400</td>\n",
       "      <td>85</td>\n",
       "      <td>93</td>\n",
       "      <td>NaN</td>\n",
       "      <td>fim_quarto</td>\n",
       "      <td>NaN</td>\n",
       "      <td>-8</td>\n",
       "      <td>8</td>\n",
       "    </tr>\n",
       "    <tr>\n",
       "      <th>2</th>\n",
       "      <td>4</td>\n",
       "      <td>2399</td>\n",
       "      <td>85</td>\n",
       "      <td>93</td>\n",
       "      <td>MIN</td>\n",
       "      <td>3_Pts_T</td>\n",
       "      <td>Queirós</td>\n",
       "      <td>-8</td>\n",
       "      <td>8</td>\n",
       "    </tr>\n",
       "    <tr>\n",
       "      <th>3</th>\n",
       "      <td>4</td>\n",
       "      <td>2395</td>\n",
       "      <td>85</td>\n",
       "      <td>93</td>\n",
       "      <td>FLA</td>\n",
       "      <td>LL_Pts_C</td>\n",
       "      <td>Marquinhos</td>\n",
       "      <td>-8</td>\n",
       "      <td>8</td>\n",
       "    </tr>\n",
       "    <tr>\n",
       "      <th>4</th>\n",
       "      <td>4</td>\n",
       "      <td>2395</td>\n",
       "      <td>85</td>\n",
       "      <td>92</td>\n",
       "      <td>FLA</td>\n",
       "      <td>LL_Pts_C</td>\n",
       "      <td>Marquinhos</td>\n",
       "      <td>-7</td>\n",
       "      <td>7</td>\n",
       "    </tr>\n",
       "    <tr>\n",
       "      <th>...</th>\n",
       "      <td>...</td>\n",
       "      <td>...</td>\n",
       "      <td>...</td>\n",
       "      <td>...</td>\n",
       "      <td>...</td>\n",
       "      <td>...</td>\n",
       "      <td>...</td>\n",
       "      <td>...</td>\n",
       "      <td>...</td>\n",
       "    </tr>\n",
       "    <tr>\n",
       "      <th>477</th>\n",
       "      <td>1</td>\n",
       "      <td>0</td>\n",
       "      <td>0</td>\n",
       "      <td>0</td>\n",
       "      <td>MIN</td>\n",
       "      <td>substituicao_entra</td>\n",
       "      <td>Leandrinho</td>\n",
       "      <td>0</td>\n",
       "      <td>0</td>\n",
       "    </tr>\n",
       "    <tr>\n",
       "      <th>478</th>\n",
       "      <td>1</td>\n",
       "      <td>0</td>\n",
       "      <td>0</td>\n",
       "      <td>0</td>\n",
       "      <td>MIN</td>\n",
       "      <td>substituicao_entra</td>\n",
       "      <td>Alex</td>\n",
       "      <td>0</td>\n",
       "      <td>0</td>\n",
       "    </tr>\n",
       "    <tr>\n",
       "      <th>479</th>\n",
       "      <td>1</td>\n",
       "      <td>0</td>\n",
       "      <td>0</td>\n",
       "      <td>0</td>\n",
       "      <td>MIN</td>\n",
       "      <td>substituicao_entra</td>\n",
       "      <td>Davi</td>\n",
       "      <td>0</td>\n",
       "      <td>0</td>\n",
       "    </tr>\n",
       "    <tr>\n",
       "      <th>480</th>\n",
       "      <td>1</td>\n",
       "      <td>0</td>\n",
       "      <td>0</td>\n",
       "      <td>0</td>\n",
       "      <td>MIN</td>\n",
       "      <td>substituicao_entra</td>\n",
       "      <td>Tyrone</td>\n",
       "      <td>0</td>\n",
       "      <td>0</td>\n",
       "    </tr>\n",
       "    <tr>\n",
       "      <th>481</th>\n",
       "      <td>1</td>\n",
       "      <td>0</td>\n",
       "      <td>0</td>\n",
       "      <td>0</td>\n",
       "      <td>NaN</td>\n",
       "      <td>inicio_partida</td>\n",
       "      <td>NaN</td>\n",
       "      <td>0</td>\n",
       "      <td>0</td>\n",
       "    </tr>\n",
       "  </tbody>\n",
       "</table>\n",
       "<p>482 rows × 9 columns</p>\n",
       "</div>"
      ],
      "text/plain": [
       "     Quarto  Tempo  placar_casa  placar_visitante Time           Indicador  \\\n",
       "0         4   2400           85                93  NaN         fim_partida   \n",
       "1         4   2400           85                93  NaN          fim_quarto   \n",
       "2         4   2399           85                93  MIN             3_Pts_T   \n",
       "3         4   2395           85                93  FLA            LL_Pts_C   \n",
       "4         4   2395           85                92  FLA            LL_Pts_C   \n",
       "..      ...    ...          ...               ...  ...                 ...   \n",
       "477       1      0            0                 0  MIN  substituicao_entra   \n",
       "478       1      0            0                 0  MIN  substituicao_entra   \n",
       "479       1      0            0                 0  MIN  substituicao_entra   \n",
       "480       1      0            0                 0  MIN  substituicao_entra   \n",
       "481       1      0            0                 0  NaN      inicio_partida   \n",
       "\n",
       "           Nome  dif_casa  dif_visitante  \n",
       "0           NaN        -8              8  \n",
       "1           NaN        -8              8  \n",
       "2       Queirós        -8              8  \n",
       "3    Marquinhos        -8              8  \n",
       "4    Marquinhos        -7              7  \n",
       "..          ...       ...            ...  \n",
       "477  Leandrinho         0              0  \n",
       "478        Alex         0              0  \n",
       "479        Davi         0              0  \n",
       "480      Tyrone         0              0  \n",
       "481         NaN         0              0  \n",
       "\n",
       "[482 rows x 9 columns]"
      ]
     },
     "execution_count": 16,
     "metadata": {},
     "output_type": "execute_result"
    }
   ],
   "source": [
    "df"
   ]
  },
  {
   "cell_type": "code",
   "execution_count": 17,
   "metadata": {},
   "outputs": [],
   "source": [
    "pontuacao = df[(df['Indicador'] == '3_Pts_C') | (df['Indicador'] == '3_Pts_T') | \n",
    "               (df['Indicador'] == '2_Pts_C') | (df['Indicador'] == '2_Pts_C') |\n",
    "               (df['Indicador'] == 'LL_Pts_C') | (df['Indicador'] == 'LL_Pts_C')]"
   ]
  },
  {
   "cell_type": "code",
   "execution_count": 18,
   "metadata": {},
   "outputs": [
    {
     "data": {
      "text/html": [
       "<div>\n",
       "<style scoped>\n",
       "    .dataframe tbody tr th:only-of-type {\n",
       "        vertical-align: middle;\n",
       "    }\n",
       "\n",
       "    .dataframe tbody tr th {\n",
       "        vertical-align: top;\n",
       "    }\n",
       "\n",
       "    .dataframe thead th {\n",
       "        text-align: right;\n",
       "    }\n",
       "</style>\n",
       "<table border=\"1\" class=\"dataframe\">\n",
       "  <thead>\n",
       "    <tr style=\"text-align: right;\">\n",
       "      <th></th>\n",
       "      <th>Quarto</th>\n",
       "      <th>Tempo</th>\n",
       "      <th>placar_casa</th>\n",
       "      <th>placar_visitante</th>\n",
       "      <th>Time</th>\n",
       "      <th>Indicador</th>\n",
       "      <th>Nome</th>\n",
       "      <th>dif_casa</th>\n",
       "      <th>dif_visitante</th>\n",
       "    </tr>\n",
       "  </thead>\n",
       "  <tbody>\n",
       "    <tr>\n",
       "      <th>2</th>\n",
       "      <td>4</td>\n",
       "      <td>2399</td>\n",
       "      <td>85</td>\n",
       "      <td>93</td>\n",
       "      <td>MIN</td>\n",
       "      <td>3_Pts_T</td>\n",
       "      <td>Queirós</td>\n",
       "      <td>-8</td>\n",
       "      <td>8</td>\n",
       "    </tr>\n",
       "    <tr>\n",
       "      <th>3</th>\n",
       "      <td>4</td>\n",
       "      <td>2395</td>\n",
       "      <td>85</td>\n",
       "      <td>93</td>\n",
       "      <td>FLA</td>\n",
       "      <td>LL_Pts_C</td>\n",
       "      <td>Marquinhos</td>\n",
       "      <td>-8</td>\n",
       "      <td>8</td>\n",
       "    </tr>\n",
       "    <tr>\n",
       "      <th>4</th>\n",
       "      <td>4</td>\n",
       "      <td>2395</td>\n",
       "      <td>85</td>\n",
       "      <td>92</td>\n",
       "      <td>FLA</td>\n",
       "      <td>LL_Pts_C</td>\n",
       "      <td>Marquinhos</td>\n",
       "      <td>-7</td>\n",
       "      <td>7</td>\n",
       "    </tr>\n",
       "    <tr>\n",
       "      <th>12</th>\n",
       "      <td>4</td>\n",
       "      <td>2381</td>\n",
       "      <td>85</td>\n",
       "      <td>91</td>\n",
       "      <td>MIN</td>\n",
       "      <td>3_Pts_T</td>\n",
       "      <td>Alex</td>\n",
       "      <td>-6</td>\n",
       "      <td>6</td>\n",
       "    </tr>\n",
       "    <tr>\n",
       "      <th>18</th>\n",
       "      <td>4</td>\n",
       "      <td>2376</td>\n",
       "      <td>85</td>\n",
       "      <td>91</td>\n",
       "      <td>FLA</td>\n",
       "      <td>LL_Pts_C</td>\n",
       "      <td>Mineiro</td>\n",
       "      <td>-6</td>\n",
       "      <td>6</td>\n",
       "    </tr>\n",
       "    <tr>\n",
       "      <th>...</th>\n",
       "      <td>...</td>\n",
       "      <td>...</td>\n",
       "      <td>...</td>\n",
       "      <td>...</td>\n",
       "      <td>...</td>\n",
       "      <td>...</td>\n",
       "      <td>...</td>\n",
       "      <td>...</td>\n",
       "      <td>...</td>\n",
       "    </tr>\n",
       "    <tr>\n",
       "      <th>455</th>\n",
       "      <td>1</td>\n",
       "      <td>114</td>\n",
       "      <td>1</td>\n",
       "      <td>5</td>\n",
       "      <td>MIN</td>\n",
       "      <td>LL_Pts_C</td>\n",
       "      <td>Scott</td>\n",
       "      <td>-4</td>\n",
       "      <td>4</td>\n",
       "    </tr>\n",
       "    <tr>\n",
       "      <th>458</th>\n",
       "      <td>1</td>\n",
       "      <td>100</td>\n",
       "      <td>0</td>\n",
       "      <td>5</td>\n",
       "      <td>FLA</td>\n",
       "      <td>3_Pts_C</td>\n",
       "      <td>Zach Graham</td>\n",
       "      <td>-5</td>\n",
       "      <td>5</td>\n",
       "    </tr>\n",
       "    <tr>\n",
       "      <th>464</th>\n",
       "      <td>1</td>\n",
       "      <td>62</td>\n",
       "      <td>0</td>\n",
       "      <td>2</td>\n",
       "      <td>FLA</td>\n",
       "      <td>2_Pts_C</td>\n",
       "      <td>Olivinha</td>\n",
       "      <td>-2</td>\n",
       "      <td>2</td>\n",
       "    </tr>\n",
       "    <tr>\n",
       "      <th>466</th>\n",
       "      <td>1</td>\n",
       "      <td>47</td>\n",
       "      <td>0</td>\n",
       "      <td>0</td>\n",
       "      <td>MIN</td>\n",
       "      <td>3_Pts_T</td>\n",
       "      <td>Davi</td>\n",
       "      <td>0</td>\n",
       "      <td>0</td>\n",
       "    </tr>\n",
       "    <tr>\n",
       "      <th>470</th>\n",
       "      <td>1</td>\n",
       "      <td>23</td>\n",
       "      <td>0</td>\n",
       "      <td>0</td>\n",
       "      <td>FLA</td>\n",
       "      <td>3_Pts_T</td>\n",
       "      <td>Marquinhos</td>\n",
       "      <td>0</td>\n",
       "      <td>0</td>\n",
       "    </tr>\n",
       "  </tbody>\n",
       "</table>\n",
       "<p>125 rows × 9 columns</p>\n",
       "</div>"
      ],
      "text/plain": [
       "     Quarto  Tempo  placar_casa  placar_visitante Time Indicador         Nome  \\\n",
       "2         4   2399           85                93  MIN   3_Pts_T      Queirós   \n",
       "3         4   2395           85                93  FLA  LL_Pts_C   Marquinhos   \n",
       "4         4   2395           85                92  FLA  LL_Pts_C   Marquinhos   \n",
       "12        4   2381           85                91  MIN   3_Pts_T         Alex   \n",
       "18        4   2376           85                91  FLA  LL_Pts_C      Mineiro   \n",
       "..      ...    ...          ...               ...  ...       ...          ...   \n",
       "455       1    114            1                 5  MIN  LL_Pts_C        Scott   \n",
       "458       1    100            0                 5  FLA   3_Pts_C  Zach Graham   \n",
       "464       1     62            0                 2  FLA   2_Pts_C     Olivinha   \n",
       "466       1     47            0                 0  MIN   3_Pts_T         Davi   \n",
       "470       1     23            0                 0  FLA   3_Pts_T   Marquinhos   \n",
       "\n",
       "     dif_casa  dif_visitante  \n",
       "2          -8              8  \n",
       "3          -8              8  \n",
       "4          -7              7  \n",
       "12         -6              6  \n",
       "18         -6              6  \n",
       "..        ...            ...  \n",
       "455        -4              4  \n",
       "458        -5              5  \n",
       "464        -2              2  \n",
       "466         0              0  \n",
       "470         0              0  \n",
       "\n",
       "[125 rows x 9 columns]"
      ]
     },
     "execution_count": 18,
     "metadata": {},
     "output_type": "execute_result"
    }
   ],
   "source": [
    "pontuacao"
   ]
  },
  {
   "cell_type": "code",
   "execution_count": 19,
   "metadata": {},
   "outputs": [],
   "source": [
    "# pontuacao.to_csv('tempo2.csv')"
   ]
  },
  {
   "cell_type": "code",
   "execution_count": 20,
   "metadata": {},
   "outputs": [],
   "source": [
    "# a.set_index(\"Tempo\", inplace=True)"
   ]
  },
  {
   "cell_type": "code",
   "execution_count": 21,
   "metadata": {},
   "outputs": [],
   "source": [
    "# a[['placar_casa', 'placar_visitante']].plot()"
   ]
  },
  {
   "cell_type": "code",
   "execution_count": 22,
   "metadata": {},
   "outputs": [],
   "source": [
    "pontuacao.set_index(\"Tempo\", inplace=True)\n",
    "quartos = [600, 1200, 1800, 2400]"
   ]
  },
  {
   "cell_type": "code",
   "execution_count": 23,
   "metadata": {},
   "outputs": [
    {
     "data": {
      "text/plain": [
       "<matplotlib.lines.Line2D at 0x2568d508130>"
      ]
     },
     "execution_count": 23,
     "metadata": {},
     "output_type": "execute_result"
    },
    {
     "data": {
      "image/png": "[encoded data removed]",
      "text/plain": [
       "<Figure size 432x288 with 1 Axes>"
      ]
     },
     "metadata": {
      "needs_background": "light"
     },
     "output_type": "display_data"
    }
   ],
   "source": [
    "fig, ax = plt.subplots()\n",
    "x = pontuacao.index\n",
    "y = pontuacao[['placar_casa', 'placar_visitante']]\n",
    "ax.plot(x, y)\n",
    "for x in quartos:\n",
    "    plt.axvline(x, color='red', label=pontuacao.index, linestyle='--', alpha=0.5)\n",
    "plt.axhline(0, color='orange', label=pontuacao.index)\n"
   ]
  },
  {
   "cell_type": "code",
   "execution_count": 24,
   "metadata": {},
   "outputs": [
    {
     "data": {
      "text/plain": [
       "<matplotlib.lines.Line2D at 0x2568dc73a90>"
      ]
     },
     "execution_count": 24,
     "metadata": {},
     "output_type": "execute_result"
    },
    {
     "data": {
      "image/png": "[encoded data removed]",
      "text/plain": [
       "<Figure size 1080x360 with 1 Axes>"
      ]
     },
     "metadata": {
      "needs_background": "light"
     },
     "output_type": "display_data"
    }
   ],
   "source": [
    "plt.figure(figsize=(15,5))\n",
    "plt.plot(pontuacao['dif_visitante'])\n",
    "quartos = [600, 1200, 1600, 2400]\n",
    "for x in quartos:\n",
    "    plt.axvline(x, color='red', label=pontuacao.index, linestyle='--', alpha=0.5)\n",
    "plt.axhline(0, color='orange', label=pontuacao.index)"
   ]
  },
  {
   "cell_type": "code",
   "execution_count": 25,
   "metadata": {},
   "outputs": [
    {
     "data": {
      "text/plain": [
       "<matplotlib.lines.Line2D at 0x2568dd419d0>"
      ]
     },
     "execution_count": 25,
     "metadata": {},
     "output_type": "execute_result"
    },
    {
     "data": {
      "image/png": "[encoded data removed]",
      "text/plain": [
       "<Figure size 1080x360 with 1 Axes>"
      ]
     },
     "metadata": {
      "needs_background": "light"
     },
     "output_type": "display_data"
    }
   ],
   "source": [
    "plt.figure(figsize=(15,5))\n",
    "media_movel = pontuacao['dif_visitante'].rolling(window=3).mean().plot()\n",
    "pontuacao['dif_visitante'].plot()\n",
    "for x in quartos:\n",
    "    plt.axvline(x, color='red', label=pontuacao.index, linestyle='--', alpha=0.5)\n",
    "plt.axhline(0, color='orange', label=pontuacao.index)"
   ]
  },
  {
   "cell_type": "code",
   "execution_count": 26,
   "metadata": {},
   "outputs": [
    {
     "data": {
      "text/plain": [
       "<matplotlib.lines.Line2D at 0x2568dd728e0>"
      ]
     },
     "execution_count": 26,
     "metadata": {},
     "output_type": "execute_result"
    },
    {
     "data": {
      "image/png": "[encoded data removed]",
      "text/plain": [
       "<Figure size 1080x360 with 1 Axes>"
      ]
     },
     "metadata": {
      "needs_background": "light"
     },
     "output_type": "display_data"
    }
   ],
   "source": [
    "plt.figure(figsize=(15,5))\n",
    "media_movel = pontuacao['dif_visitante'].rolling(window=3).mean().plot()\n",
    "for x in quartos:\n",
    "    plt.axvline(x, color='red', label=pontuacao.index, linestyle='--', alpha=0.5)\n",
    "plt.axhline(0, color='orange', label=pontuacao.index)"
   ]
  },
  {
   "cell_type": "code",
   "execution_count": 27,
   "metadata": {},
   "outputs": [],
   "source": [
    "periodo_positivos = []\n",
    "media_movel = pontuacao['dif_visitante'].rolling(window=5).mean()"
   ]
  },
  {
   "cell_type": "code",
   "execution_count": null,
   "metadata": {},
   "outputs": [],
   "source": []
  },
  {
   "cell_type": "code",
   "execution_count": 28,
   "metadata": {},
   "outputs": [
    {
     "name": "stdout",
     "output_type": "stream",
     "text": [
      "oi sumido\n",
      "oi sumido\n",
      "oi sumido\n",
      "oi sumido\n",
      "oi sumido\n",
      "oi sumido\n",
      "oi sumido\n",
      "oi sumido\n",
      "oi sumido\n",
      "oi sumido\n",
      "oi sumido\n",
      "oi sumido\n",
      "oi sumido\n",
      "oi sumido\n",
      "oi sumido\n",
      "oi sumido\n",
      "oi sumido\n",
      "oi sumido\n",
      "oi sumido\n",
      "oi sumido\n",
      "oi sumido\n",
      "oi sumido\n"
     ]
    }
   ],
   "source": [
    "a = 5\n",
    "periodo = []\n",
    "quantos_periodos = 1\n",
    "for x in pontuacao['dif_visitante']:\n",
    "    if x >= 5:\n",
    "        d = x - a\n",
    "        periodo.append(d)\n",
    "    else:\n",
    "        print('oi sumido')"
   ]
  },
  {
   "cell_type": "code",
   "execution_count": 29,
   "metadata": {
    "collapsed": true
   },
   "outputs": [
    {
     "name": "stdout",
     "output_type": "stream",
     "text": [
      "3\n",
      "3\n",
      "2\n",
      "1\n",
      "1\n",
      "0\n",
      "0\n",
      "2\n",
      "5\n",
      "7\n",
      "8\n",
      "7\n",
      "6\n",
      "6\n",
      "8\n",
      "8\n",
      "11\n",
      "9\n",
      "12\n",
      "14\n",
      "14\n",
      "15\n",
      "16\n",
      "14\n",
      "15\n",
      "15\n",
      "13\n",
      "14\n",
      "14\n",
      "11\n",
      "13\n",
      "13\n",
      "13\n",
      "13\n",
      "11\n",
      "12\n",
      "13\n",
      "14\n",
      "11\n",
      "11\n",
      "11\n",
      "13\n",
      "11\n",
      "13\n",
      "11\n",
      "13\n",
      "13\n",
      "10\n",
      "12\n",
      "9\n",
      "11\n",
      "9\n",
      "9\n",
      "6\n",
      "8\n",
      "8\n",
      "6\n",
      "6\n",
      "9\n",
      "7\n",
      "9\n",
      "7\n",
      "9\n",
      "11\n",
      "9\n",
      "9\n",
      "7\n",
      "8\n",
      "5\n",
      "8\n",
      "8\n",
      "10\n",
      "10\n",
      "10\n",
      "12\n",
      "9\n",
      "12\n",
      "10\n",
      "10\n",
      "10\n",
      "13\n",
      "11\n",
      "11\n",
      "9\n",
      "9\n",
      "7\n",
      "7\n",
      "7\n",
      "5\n",
      "5\n",
      "4\n",
      "3\n",
      "5\n",
      "3\n",
      "3\n",
      "6\n",
      "4\n",
      "4\n",
      "2\n",
      "0\n",
      "2\n",
      "0\n",
      "0\n"
     ]
    }
   ],
   "source": [
    "for y in periodo:\n",
    "    print(y)"
   ]
  },
  {
   "cell_type": "code",
   "execution_count": 30,
   "metadata": {},
   "outputs": [
    {
     "ename": "NameError",
     "evalue": "name 'aa' is not defined",
     "output_type": "error",
     "traceback": [
      "\u001b[1;31m---------------------------------------------------------------------------\u001b[0m",
      "\u001b[1;31mNameError\u001b[0m                                 Traceback (most recent call last)",
      "\u001b[1;32m<ipython-input-30-312382290f4f>\u001b[0m in \u001b[0;36m<module>\u001b[1;34m\u001b[0m\n\u001b[1;32m----> 1\u001b[1;33m \u001b[0maa\u001b[0m\u001b[1;33m\u001b[0m\u001b[1;33m\u001b[0m\u001b[0m\n\u001b[0m",
      "\u001b[1;31mNameError\u001b[0m: name 'aa' is not defined"
     ]
    }
   ],
   "source": [
    "aa"
   ]
  },
  {
   "cell_type": "code",
   "execution_count": null,
   "metadata": {},
   "outputs": [],
   "source": []
  },
  {
   "cell_type": "code",
   "execution_count": null,
   "metadata": {},
   "outputs": [],
   "source": []
  },
  {
   "cell_type": "code",
   "execution_count": null,
   "metadata": {},
   "outputs": [],
   "source": [
    "aaa"
   ]
  },
  {
   "cell_type": "code",
   "execution_count": null,
   "metadata": {},
   "outputs": [],
   "source": []
  },
  {
   "cell_type": "code",
   "execution_count": null,
   "metadata": {},
   "outputs": [],
   "source": [
    "posse_bola = df[(df['Indicador'] == '3_Pts_C') | (df['Indicador'] == '3_Pts_T') | \n",
    "                (df['Indicador'] == '2_Pts_C') | (df['Indicador'] == '2_Pts_C') |\n",
    "                (df['Indicador'] == 'LL_Pts_C') | (df['Indicador'] == 'LL_Pts_C') |\n",
    "                (df['Indicador'] == 'ER') | (df['Indicador'] == 'fim_quarto') |\n",
    "                (df['Indicador'] == 'inicio_partida') | (df['Indicador'] == 'inicio_quarto') |\n",
    "               "
   ]
  },
  {
   "cell_type": "code",
   "execution_count": null,
   "metadata": {
    "scrolled": true
   },
   "outputs": [],
   "source": [
    "posse_bola[\"diferenca\"] = posse_bola[\"Tempo\"].diff(-1)"
   ]
  },
  {
   "cell_type": "code",
   "execution_count": null,
   "metadata": {},
   "outputs": [],
   "source": [
    "posse_bola.to_csv('tempo2.csv')"
   ]
  },
  {
   "cell_type": "code",
   "execution_count": null,
   "metadata": {},
   "outputs": [],
   "source": [
    "filtro = (posse_bola['diferenca'] >= 1) | (posse_bola['Indicador'] == 'inicio_partida') | (posse_bola['Indicador'] == 'fim_quarto')\n",
    "valor_posse_bola = posse_bola[filtro]"
   ]
  },
  {
   "cell_type": "code",
   "execution_count": null,
   "metadata": {},
   "outputs": [],
   "source": [
    "valor_posse_bola"
   ]
  },
  {
   "cell_type": "code",
   "execution_count": null,
   "metadata": {},
   "outputs": [],
   "source": [
    "valor_posse_bola.to_csv('valor_posse_bola.csv')"
   ]
  },
  {
   "cell_type": "code",
   "execution_count": null,
   "metadata": {},
   "outputs": [],
   "source": []
  },
  {
   "cell_type": "code",
   "execution_count": null,
   "metadata": {},
   "outputs": [],
   "source": []
  },
  {
   "cell_type": "code",
   "execution_count": null,
   "metadata": {},
   "outputs": [],
   "source": [
    "plt.figure(figsize=(15,5))\n",
    "sns.barplot(valor_posse_bola['Tempo'], valor_posse_bola['diferenca'])"
   ]
  },
  {
   "cell_type": "code",
   "execution_count": null,
   "metadata": {},
   "outputs": [],
   "source": [
    "Flamengo = df.query(\"Time == 'FLA'\")"
   ]
  },
  {
   "cell_type": "code",
   "execution_count": null,
   "metadata": {},
   "outputs": [],
   "source": [
    "placar_flamengo = Flamengo[(Flamengo['Indicador'] == '3_Pts_C') | (Flamengo['Indicador'] == '3_Pts_T') | \n",
    "                (Flamengo['Indicador'] == '2_Pts_C') | (Flamengo['Indicador'] == '2_Pts_C') |\n",
    "                (Flamengo['Indicador'] == 'LL_Pts_C') | (Flamengo['Indicador'] == 'LL_Pts_C')]"
   ]
  },
  {
   "cell_type": "code",
   "execution_count": null,
   "metadata": {},
   "outputs": [],
   "source": [
    "placar_flamengo"
   ]
  },
  {
   "cell_type": "code",
   "execution_count": null,
   "metadata": {},
   "outputs": [],
   "source": [
    "plt.figure(figsize=(15,5))\n",
    "sns.lineplot(data=placar_flamengo, x=\"Tempo\", y=\"placar_casa\")"
   ]
  },
  {
   "cell_type": "code",
   "execution_count": null,
   "metadata": {},
   "outputs": [],
   "source": [
    "plt.figure(figsize=(15,5))\n",
    "sns.lineplot(data=placar_flamengo, x=\"Tempo\", y=\"placar_visitante\")"
   ]
  },
  {
   "cell_type": "code",
   "execution_count": null,
   "metadata": {},
   "outputs": [],
   "source": []
  },
  {
   "cell_type": "code",
   "execution_count": null,
   "metadata": {},
   "outputs": [],
   "source": [
    "Flamengo = df.query(\"Time == 'FLA'\").sort_values(by=['Tempo'])"
   ]
  },
  {
   "cell_type": "code",
   "execution_count": null,
   "metadata": {},
   "outputs": [],
   "source": [
    "placar_flamengo = Flamengo[(Flamengo['Indicador'] == '3_Pts_C') | (Flamengo['Indicador'] == '3_Pts_T') | \n",
    "                (Flamengo['Indicador'] == '2_Pts_C') | (Flamengo['Indicador'] == '2_Pts_C') |\n",
    "                (Flamengo['Indicador'] == 'LL_Pts_C') | (Flamengo['Indicador'] == 'LL_Pts_C')]"
   ]
  },
  {
   "cell_type": "code",
   "execution_count": null,
   "metadata": {},
   "outputs": [],
   "source": [
    "placar_flamengo.set_index(\"Tempo\", inplace=True)"
   ]
  },
  {
   "cell_type": "code",
   "execution_count": null,
   "metadata": {},
   "outputs": [],
   "source": [
    "placar_flamengo_valor = placar_flamengo['placar_casa']"
   ]
  },
  {
   "cell_type": "code",
   "execution_count": null,
   "metadata": {},
   "outputs": [],
   "source": [
    "placar_flamengo_valor"
   ]
  },
  {
   "cell_type": "code",
   "execution_count": null,
   "metadata": {},
   "outputs": [],
   "source": [
    "plt.figure(figsize=(15,5))\n",
    "flamengo_media_movel = placar_flamengo_valor.plot()"
   ]
  },
  {
   "cell_type": "code",
   "execution_count": null,
   "metadata": {},
   "outputs": [],
   "source": [
    "flamengo_media_movel = placar_flamengo_valor.rolling(window=10).mean()"
   ]
  },
  {
   "cell_type": "code",
   "execution_count": null,
   "metadata": {},
   "outputs": [],
   "source": [
    "flamengo_media_movel"
   ]
  },
  {
   "cell_type": "code",
   "execution_count": null,
   "metadata": {},
   "outputs": [],
   "source": [
    "flamengo_dev_pad = placar_flamengo_valor.rolling(window=10).std()"
   ]
  },
  {
   "cell_type": "code",
   "execution_count": null,
   "metadata": {},
   "outputs": [],
   "source": [
    "flamengo_dev_pad"
   ]
  },
  {
   "cell_type": "code",
   "execution_count": null,
   "metadata": {},
   "outputs": [],
   "source": [
    "under_line = (flamengo_media_movel-flamengo_dev_pad)\n",
    "over_line = (flamengo_media_movel+flamengo_dev_pad)"
   ]
  },
  {
   "cell_type": "code",
   "execution_count": null,
   "metadata": {},
   "outputs": [],
   "source": [
    "plt.figure(figsize=(15,5))\n",
    "plt.plot(flamengo_media_movel, linewidth=2)\n",
    "plt.fill_between(flamengo_dev_pad, under_line, over_line, color='b', alpha=.1) #std curves."
   ]
  },
  {
   "cell_type": "code",
   "execution_count": null,
   "metadata": {},
   "outputs": [],
   "source": [
    "plt.figure(figsize=(15,5))\n",
    "plt.plot(flamengo_media_movel, linewidth=2) #mean curve.\n",
    "plt.fill_between(flamengo_dev_pad.index, under_line, over_line, color='b', alpha=.1) #std curves."
   ]
  },
  {
   "cell_type": "code",
   "execution_count": null,
   "metadata": {},
   "outputs": [],
   "source": []
  }
 ],
 "metadata": {
  "kernelspec": {
   "display_name": "Python 3",
   "language": "python",
   "name": "python3"
  },
  "language_info": {
   "codemirror_mode": {
    "name": "ipython",
    "version": 3
   },
   "file_extension": ".py",
   "mimetype": "text/x-python",
   "name": "python",
   "nbconvert_exporter": "python",
   "pygments_lexer": "ipython3",
   "version": "3.8.3"
  }
 },
 "nbformat": 4,
 "nbformat_minor": 4
}
