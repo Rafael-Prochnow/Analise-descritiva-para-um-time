{
 "cells": [
  {
   "cell_type": "markdown",
   "metadata": {},
   "source": [
    "# Projeto: Análises Jogada-Jogada NBB 2019"
   ]
  },
  {
   "cell_type": "markdown",
   "metadata": {},
   "source": [
    "Para esse projeto estaremos analisando jogos do NBB, principal campeonato brasileiro de basquetebol. Os dados contém os seguintes campos:"
   ]
  },
  {
   "cell_type": "code",
   "execution_count": 1,
   "metadata": {},
   "outputs": [],
   "source": [
    "import numpy as np\n",
    "import pandas as pd\n",
    "import datetime\n",
    "from datetime import datetime\n",
    "from datetime import timedelta\n",
    "import datetime as dt"
   ]
  },
  {
   "cell_type": "code",
   "execution_count": 2,
   "metadata": {},
   "outputs": [],
   "source": [
    "import matplotlib.pyplot as plt\n",
    "import seaborn as sns"
   ]
  },
  {
   "cell_type": "code",
   "execution_count": 3,
   "metadata": {},
   "outputs": [],
   "source": [
    "%matplotlib inline"
   ]
  },
  {
   "cell_type": "code",
   "execution_count": 4,
   "metadata": {},
   "outputs": [],
   "source": [
    "df = pd.read_csv(\"tabela_1_Minas_x_Flamengo.csv\")"
   ]
  },
  {
   "cell_type": "code",
   "execution_count": 5,
   "metadata": {},
   "outputs": [],
   "source": [
    "df['Tempo'] = df['Tempo'].apply(lambda x: datetime.strptime(x, '%M:%S'))"
   ]
  },
  {
   "cell_type": "code",
   "execution_count": 6,
   "metadata": {},
   "outputs": [],
   "source": [
    "df['Tempo'] = df['Tempo'].apply(lambda x: dt.time(x.hour, x.minute, x.second))"
   ]
  },
  {
   "cell_type": "code",
   "execution_count": 7,
   "metadata": {},
   "outputs": [],
   "source": [
    "df['Tempo'] = df['Tempo'].apply(lambda x: (x.hour * 60 + x.minute) * 60 + x.second)"
   ]
  },
  {
   "cell_type": "code",
   "execution_count": 8,
   "metadata": {},
   "outputs": [
    {
     "data": {
      "text/html": [
       "<div>\n",
       "<style scoped>\n",
       "    .dataframe tbody tr th:only-of-type {\n",
       "        vertical-align: middle;\n",
       "    }\n",
       "\n",
       "    .dataframe tbody tr th {\n",
       "        vertical-align: top;\n",
       "    }\n",
       "\n",
       "    .dataframe thead th {\n",
       "        text-align: right;\n",
       "    }\n",
       "</style>\n",
       "<table border=\"1\" class=\"dataframe\">\n",
       "  <thead>\n",
       "    <tr style=\"text-align: right;\">\n",
       "      <th></th>\n",
       "      <th>Unnamed: 0</th>\n",
       "      <th>Quarto</th>\n",
       "      <th>Tempo</th>\n",
       "      <th>Time</th>\n",
       "      <th>placar_casa</th>\n",
       "      <th>placar_visitante</th>\n",
       "      <th>Indicador</th>\n",
       "      <th>Nomes</th>\n",
       "    </tr>\n",
       "  </thead>\n",
       "  <tbody>\n",
       "    <tr>\n",
       "      <th>0</th>\n",
       "      <td>0</td>\n",
       "      <td>4</td>\n",
       "      <td>0</td>\n",
       "      <td>NaN</td>\n",
       "      <td>85</td>\n",
       "      <td>93</td>\n",
       "      <td>fim_partida</td>\n",
       "      <td></td>\n",
       "    </tr>\n",
       "    <tr>\n",
       "      <th>1</th>\n",
       "      <td>1</td>\n",
       "      <td>4</td>\n",
       "      <td>0</td>\n",
       "      <td>NaN</td>\n",
       "      <td>85</td>\n",
       "      <td>93</td>\n",
       "      <td>fim_quarto</td>\n",
       "      <td>NaN</td>\n",
       "    </tr>\n",
       "    <tr>\n",
       "      <th>2</th>\n",
       "      <td>2</td>\n",
       "      <td>4</td>\n",
       "      <td>1</td>\n",
       "      <td>MIN</td>\n",
       "      <td>85</td>\n",
       "      <td>93</td>\n",
       "      <td>3_Pts_T</td>\n",
       "      <td>Queirós</td>\n",
       "    </tr>\n",
       "    <tr>\n",
       "      <th>3</th>\n",
       "      <td>3</td>\n",
       "      <td>4</td>\n",
       "      <td>5</td>\n",
       "      <td>FLA</td>\n",
       "      <td>85</td>\n",
       "      <td>93</td>\n",
       "      <td>LL_Pts_C</td>\n",
       "      <td>Marquinhos</td>\n",
       "    </tr>\n",
       "    <tr>\n",
       "      <th>4</th>\n",
       "      <td>4</td>\n",
       "      <td>4</td>\n",
       "      <td>5</td>\n",
       "      <td>FLA</td>\n",
       "      <td>85</td>\n",
       "      <td>92</td>\n",
       "      <td>LL_Pts_C</td>\n",
       "      <td>Marquinhos</td>\n",
       "    </tr>\n",
       "    <tr>\n",
       "      <th>...</th>\n",
       "      <td>...</td>\n",
       "      <td>...</td>\n",
       "      <td>...</td>\n",
       "      <td>...</td>\n",
       "      <td>...</td>\n",
       "      <td>...</td>\n",
       "      <td>...</td>\n",
       "      <td>...</td>\n",
       "    </tr>\n",
       "    <tr>\n",
       "      <th>477</th>\n",
       "      <td>477</td>\n",
       "      <td>1</td>\n",
       "      <td>600</td>\n",
       "      <td>MIN</td>\n",
       "      <td>0</td>\n",
       "      <td>0</td>\n",
       "      <td>substituicao_entra</td>\n",
       "      <td>Leandrinho</td>\n",
       "    </tr>\n",
       "    <tr>\n",
       "      <th>478</th>\n",
       "      <td>478</td>\n",
       "      <td>1</td>\n",
       "      <td>600</td>\n",
       "      <td>MIN</td>\n",
       "      <td>0</td>\n",
       "      <td>0</td>\n",
       "      <td>substituicao_entra</td>\n",
       "      <td>Alex</td>\n",
       "    </tr>\n",
       "    <tr>\n",
       "      <th>479</th>\n",
       "      <td>479</td>\n",
       "      <td>1</td>\n",
       "      <td>600</td>\n",
       "      <td>MIN</td>\n",
       "      <td>0</td>\n",
       "      <td>0</td>\n",
       "      <td>substituicao_entra</td>\n",
       "      <td>Davi</td>\n",
       "    </tr>\n",
       "    <tr>\n",
       "      <th>480</th>\n",
       "      <td>480</td>\n",
       "      <td>1</td>\n",
       "      <td>600</td>\n",
       "      <td>MIN</td>\n",
       "      <td>0</td>\n",
       "      <td>0</td>\n",
       "      <td>substituicao_entra</td>\n",
       "      <td>Tyrone</td>\n",
       "    </tr>\n",
       "    <tr>\n",
       "      <th>481</th>\n",
       "      <td>481</td>\n",
       "      <td>1</td>\n",
       "      <td>600</td>\n",
       "      <td>NaN</td>\n",
       "      <td>0</td>\n",
       "      <td>0</td>\n",
       "      <td>inicio_partida</td>\n",
       "      <td></td>\n",
       "    </tr>\n",
       "  </tbody>\n",
       "</table>\n",
       "<p>482 rows × 8 columns</p>\n",
       "</div>"
      ],
      "text/plain": [
       "     Unnamed: 0  Quarto  Tempo Time  placar_casa  placar_visitante  \\\n",
       "0             0       4      0  NaN           85                93   \n",
       "1             1       4      0  NaN           85                93   \n",
       "2             2       4      1  MIN           85                93   \n",
       "3             3       4      5  FLA           85                93   \n",
       "4             4       4      5  FLA           85                92   \n",
       "..          ...     ...    ...  ...          ...               ...   \n",
       "477         477       1    600  MIN            0                 0   \n",
       "478         478       1    600  MIN            0                 0   \n",
       "479         479       1    600  MIN            0                 0   \n",
       "480         480       1    600  MIN            0                 0   \n",
       "481         481       1    600  NaN            0                 0   \n",
       "\n",
       "              Indicador        Nomes  \n",
       "0           fim_partida               \n",
       "1            fim_quarto          NaN  \n",
       "2               3_Pts_T     Queirós   \n",
       "3              LL_Pts_C  Marquinhos   \n",
       "4              LL_Pts_C  Marquinhos   \n",
       "..                  ...          ...  \n",
       "477  substituicao_entra  Leandrinho   \n",
       "478  substituicao_entra        Alex   \n",
       "479  substituicao_entra        Davi   \n",
       "480  substituicao_entra     Tyrone    \n",
       "481      inicio_partida               \n",
       "\n",
       "[482 rows x 8 columns]"
      ]
     },
     "execution_count": 8,
     "metadata": {},
     "output_type": "execute_result"
    }
   ],
   "source": [
    "df"
   ]
  },
  {
   "cell_type": "code",
   "execution_count": 9,
   "metadata": {},
   "outputs": [],
   "source": [
    "# df.to_csv('tempo.csv')"
   ]
  },
  {
   "cell_type": "code",
   "execution_count": 10,
   "metadata": {},
   "outputs": [],
   "source": [
    "t1 = df[df['Quarto'] == 1]\n",
    "t2 = df[df['Quarto'] == 2]\n",
    "t3 = df[df['Quarto'] == 3]\n",
    "t4 = df[df['Quarto'] == 4]\n",
    "t5 = df[df['Quarto'] == 5]\n",
    "t6 = df[df['Quarto'] == 6]\n",
    "t7 = df[df['Quarto'] == 7]"
   ]
  },
  {
   "cell_type": "code",
   "execution_count": 11,
   "metadata": {},
   "outputs": [],
   "source": [
    "primeiro_quarto = t1.copy()\n",
    "segundo_quarto = t2.copy()\n",
    "terceiro_quarto = t3.copy()\n",
    "quarto_quarto = t4.copy()\n",
    "quinto_quarto = t5.copy()\n",
    "sexto_quarto = t6.copy()\n",
    "setimo_quarto = t7.copy()"
   ]
  },
  {
   "cell_type": "code",
   "execution_count": 12,
   "metadata": {},
   "outputs": [],
   "source": [
    "primeiro_quarto['Tempo'] = primeiro_quarto['Tempo'].apply(lambda x: (x-(600 * 1)) * -1)\n",
    "segundo_quarto['Tempo'] = segundo_quarto['Tempo'].apply(lambda x: (x-(600 * 2)) * -1)\n",
    "terceiro_quarto['Tempo'] = terceiro_quarto['Tempo'].apply(lambda x: (x-(600 * 3)) * -1)\n",
    "quarto_quarto['Tempo'] = quarto_quarto['Tempo'].apply(lambda x: (x-(600 * 4)) * -1)\n",
    "quinto_quarto['Tempo'] = quinto_quarto['Tempo'].apply(lambda x: (x-(600 * 5)) * -1)\n",
    "sexto_quarto['Tempo'] = sexto_quarto['Tempo'].apply(lambda x: (x-(600 * 6)) * -1)\n",
    "setimo_quarto['Tempo'] = setimo_quarto['Tempo'].apply(lambda x: (x-(600 * 7)) * -1)"
   ]
  },
  {
   "cell_type": "code",
   "execution_count": 13,
   "metadata": {},
   "outputs": [],
   "source": [
    "jogada_jogada = pd.concat([setimo_quarto, sexto_quarto, quinto_quarto, quarto_quarto, terceiro_quarto,\n",
    "                          segundo_quarto, primeiro_quarto], ignore_index=True)"
   ]
  },
  {
   "cell_type": "code",
   "execution_count": 14,
   "metadata": {},
   "outputs": [],
   "source": [
    "jogada_jogada.sort_values(by='Tempo', ascending=False, inplace=True)"
   ]
  },
  {
   "cell_type": "code",
   "execution_count": 15,
   "metadata": {},
   "outputs": [
    {
     "data": {
      "text/html": [
       "<div>\n",
       "<style scoped>\n",
       "    .dataframe tbody tr th:only-of-type {\n",
       "        vertical-align: middle;\n",
       "    }\n",
       "\n",
       "    .dataframe tbody tr th {\n",
       "        vertical-align: top;\n",
       "    }\n",
       "\n",
       "    .dataframe thead th {\n",
       "        text-align: right;\n",
       "    }\n",
       "</style>\n",
       "<table border=\"1\" class=\"dataframe\">\n",
       "  <thead>\n",
       "    <tr style=\"text-align: right;\">\n",
       "      <th></th>\n",
       "      <th>Unnamed: 0</th>\n",
       "      <th>Quarto</th>\n",
       "      <th>Tempo</th>\n",
       "      <th>Time</th>\n",
       "      <th>placar_casa</th>\n",
       "      <th>placar_visitante</th>\n",
       "      <th>Indicador</th>\n",
       "      <th>Nomes</th>\n",
       "    </tr>\n",
       "  </thead>\n",
       "  <tbody>\n",
       "    <tr>\n",
       "      <th>0</th>\n",
       "      <td>0</td>\n",
       "      <td>4</td>\n",
       "      <td>2400</td>\n",
       "      <td>NaN</td>\n",
       "      <td>85</td>\n",
       "      <td>93</td>\n",
       "      <td>fim_partida</td>\n",
       "      <td></td>\n",
       "    </tr>\n",
       "    <tr>\n",
       "      <th>1</th>\n",
       "      <td>1</td>\n",
       "      <td>4</td>\n",
       "      <td>2400</td>\n",
       "      <td>NaN</td>\n",
       "      <td>85</td>\n",
       "      <td>93</td>\n",
       "      <td>fim_quarto</td>\n",
       "      <td>NaN</td>\n",
       "    </tr>\n",
       "    <tr>\n",
       "      <th>2</th>\n",
       "      <td>2</td>\n",
       "      <td>4</td>\n",
       "      <td>2399</td>\n",
       "      <td>MIN</td>\n",
       "      <td>85</td>\n",
       "      <td>93</td>\n",
       "      <td>3_Pts_T</td>\n",
       "      <td>Queirós</td>\n",
       "    </tr>\n",
       "    <tr>\n",
       "      <th>4</th>\n",
       "      <td>4</td>\n",
       "      <td>4</td>\n",
       "      <td>2395</td>\n",
       "      <td>FLA</td>\n",
       "      <td>85</td>\n",
       "      <td>92</td>\n",
       "      <td>LL_Pts_C</td>\n",
       "      <td>Marquinhos</td>\n",
       "    </tr>\n",
       "    <tr>\n",
       "      <th>5</th>\n",
       "      <td>5</td>\n",
       "      <td>4</td>\n",
       "      <td>2395</td>\n",
       "      <td>FLA</td>\n",
       "      <td>85</td>\n",
       "      <td>91</td>\n",
       "      <td>FR</td>\n",
       "      <td>Marquinhos</td>\n",
       "    </tr>\n",
       "    <tr>\n",
       "      <th>6</th>\n",
       "      <td>6</td>\n",
       "      <td>4</td>\n",
       "      <td>2395</td>\n",
       "      <td>MIN</td>\n",
       "      <td>85</td>\n",
       "      <td>91</td>\n",
       "      <td>FC</td>\n",
       "      <td>Alex</td>\n",
       "    </tr>\n",
       "    <tr>\n",
       "      <th>3</th>\n",
       "      <td>3</td>\n",
       "      <td>4</td>\n",
       "      <td>2395</td>\n",
       "      <td>FLA</td>\n",
       "      <td>85</td>\n",
       "      <td>93</td>\n",
       "      <td>LL_Pts_C</td>\n",
       "      <td>Marquinhos</td>\n",
       "    </tr>\n",
       "    <tr>\n",
       "      <th>7</th>\n",
       "      <td>7</td>\n",
       "      <td>4</td>\n",
       "      <td>2392</td>\n",
       "      <td>FLA</td>\n",
       "      <td>85</td>\n",
       "      <td>91</td>\n",
       "      <td>RD</td>\n",
       "      <td>Léo Demétrio</td>\n",
       "    </tr>\n",
       "    <tr>\n",
       "      <th>8</th>\n",
       "      <td>8</td>\n",
       "      <td>4</td>\n",
       "      <td>2392</td>\n",
       "      <td>MIN</td>\n",
       "      <td>85</td>\n",
       "      <td>91</td>\n",
       "      <td>2_Pts_T</td>\n",
       "      <td>Cobb</td>\n",
       "    </tr>\n",
       "    <tr>\n",
       "      <th>9</th>\n",
       "      <td>9</td>\n",
       "      <td>4</td>\n",
       "      <td>2392</td>\n",
       "      <td>MIN</td>\n",
       "      <td>85</td>\n",
       "      <td>91</td>\n",
       "      <td>RO</td>\n",
       "      <td>Cobb</td>\n",
       "    </tr>\n",
       "    <tr>\n",
       "      <th>10</th>\n",
       "      <td>10</td>\n",
       "      <td>4</td>\n",
       "      <td>2392</td>\n",
       "      <td>MIN</td>\n",
       "      <td>85</td>\n",
       "      <td>91</td>\n",
       "      <td>2_Pts_T</td>\n",
       "      <td>Cobb</td>\n",
       "    </tr>\n",
       "    <tr>\n",
       "      <th>11</th>\n",
       "      <td>11</td>\n",
       "      <td>4</td>\n",
       "      <td>2386</td>\n",
       "      <td>MIN</td>\n",
       "      <td>85</td>\n",
       "      <td>91</td>\n",
       "      <td>RO</td>\n",
       "      <td>Davi</td>\n",
       "    </tr>\n",
       "    <tr>\n",
       "      <th>12</th>\n",
       "      <td>12</td>\n",
       "      <td>4</td>\n",
       "      <td>2381</td>\n",
       "      <td>MIN</td>\n",
       "      <td>85</td>\n",
       "      <td>91</td>\n",
       "      <td>3_Pts_T</td>\n",
       "      <td>Alex</td>\n",
       "    </tr>\n",
       "    <tr>\n",
       "      <th>19</th>\n",
       "      <td>19</td>\n",
       "      <td>4</td>\n",
       "      <td>2376</td>\n",
       "      <td>FLA</td>\n",
       "      <td>85</td>\n",
       "      <td>90</td>\n",
       "      <td>LL_Pts_C</td>\n",
       "      <td>Mineiro</td>\n",
       "    </tr>\n",
       "    <tr>\n",
       "      <th>23</th>\n",
       "      <td>23</td>\n",
       "      <td>4</td>\n",
       "      <td>2376</td>\n",
       "      <td>FLA</td>\n",
       "      <td>85</td>\n",
       "      <td>89</td>\n",
       "      <td>2_Pts_T</td>\n",
       "      <td>Balbi</td>\n",
       "    </tr>\n",
       "    <tr>\n",
       "      <th>22</th>\n",
       "      <td>22</td>\n",
       "      <td>4</td>\n",
       "      <td>2376</td>\n",
       "      <td>FLA</td>\n",
       "      <td>85</td>\n",
       "      <td>89</td>\n",
       "      <td>RO</td>\n",
       "      <td>Flamengo</td>\n",
       "    </tr>\n",
       "    <tr>\n",
       "      <th>21</th>\n",
       "      <td>21</td>\n",
       "      <td>4</td>\n",
       "      <td>2376</td>\n",
       "      <td>MIN</td>\n",
       "      <td>85</td>\n",
       "      <td>89</td>\n",
       "      <td>FC</td>\n",
       "      <td>Queirós</td>\n",
       "    </tr>\n",
       "    <tr>\n",
       "      <th>20</th>\n",
       "      <td>20</td>\n",
       "      <td>4</td>\n",
       "      <td>2376</td>\n",
       "      <td>FLA</td>\n",
       "      <td>85</td>\n",
       "      <td>89</td>\n",
       "      <td>FR</td>\n",
       "      <td>Mineiro</td>\n",
       "    </tr>\n",
       "    <tr>\n",
       "      <th>15</th>\n",
       "      <td>15</td>\n",
       "      <td>4</td>\n",
       "      <td>2376</td>\n",
       "      <td>MIN</td>\n",
       "      <td>85</td>\n",
       "      <td>91</td>\n",
       "      <td>substituicao_entra</td>\n",
       "      <td>Davi</td>\n",
       "    </tr>\n",
       "    <tr>\n",
       "      <th>18</th>\n",
       "      <td>18</td>\n",
       "      <td>4</td>\n",
       "      <td>2376</td>\n",
       "      <td>FLA</td>\n",
       "      <td>85</td>\n",
       "      <td>91</td>\n",
       "      <td>LL_Pts_C</td>\n",
       "      <td>Mineiro</td>\n",
       "    </tr>\n",
       "  </tbody>\n",
       "</table>\n",
       "</div>"
      ],
      "text/plain": [
       "    Unnamed: 0  Quarto  Tempo Time  placar_casa  placar_visitante  \\\n",
       "0            0       4   2400  NaN           85                93   \n",
       "1            1       4   2400  NaN           85                93   \n",
       "2            2       4   2399  MIN           85                93   \n",
       "4            4       4   2395  FLA           85                92   \n",
       "5            5       4   2395  FLA           85                91   \n",
       "6            6       4   2395  MIN           85                91   \n",
       "3            3       4   2395  FLA           85                93   \n",
       "7            7       4   2392  FLA           85                91   \n",
       "8            8       4   2392  MIN           85                91   \n",
       "9            9       4   2392  MIN           85                91   \n",
       "10          10       4   2392  MIN           85                91   \n",
       "11          11       4   2386  MIN           85                91   \n",
       "12          12       4   2381  MIN           85                91   \n",
       "19          19       4   2376  FLA           85                90   \n",
       "23          23       4   2376  FLA           85                89   \n",
       "22          22       4   2376  FLA           85                89   \n",
       "21          21       4   2376  MIN           85                89   \n",
       "20          20       4   2376  FLA           85                89   \n",
       "15          15       4   2376  MIN           85                91   \n",
       "18          18       4   2376  FLA           85                91   \n",
       "\n",
       "             Indicador          Nomes  \n",
       "0          fim_partida                 \n",
       "1           fim_quarto            NaN  \n",
       "2              3_Pts_T       Queirós   \n",
       "4             LL_Pts_C    Marquinhos   \n",
       "5                   FR    Marquinhos   \n",
       "6                   FC          Alex   \n",
       "3             LL_Pts_C    Marquinhos   \n",
       "7                   RD  Léo Demétrio   \n",
       "8              2_Pts_T          Cobb   \n",
       "9                   RO          Cobb   \n",
       "10             2_Pts_T          Cobb   \n",
       "11                  RO          Davi   \n",
       "12             3_Pts_T          Alex   \n",
       "19            LL_Pts_C       Mineiro   \n",
       "23             2_Pts_T         Balbi   \n",
       "22                  RO       Flamengo  \n",
       "21                  FC       Queirós   \n",
       "20                  FR       Mineiro   \n",
       "15  substituicao_entra          Davi   \n",
       "18            LL_Pts_C       Mineiro   "
      ]
     },
     "execution_count": 15,
     "metadata": {},
     "output_type": "execute_result"
    }
   ],
   "source": [
    "jogada_jogada.head(20)"
   ]
  },
  {
   "cell_type": "code",
   "execution_count": 16,
   "metadata": {},
   "outputs": [],
   "source": [
    "a = jogada_jogada[(jogada_jogada['Indicador'] == '3_Pts_C') | (jogada_jogada['Indicador'] == '3_Pts_T') | \n",
    "                  (jogada_jogada['Indicador'] == '2_Pts_C') | (jogada_jogada['Indicador'] == '2_Pts_C') |\n",
    "                  (jogada_jogada['Indicador'] == 'LL_Pts_C') | (jogada_jogada['Indicador'] == 'LL_Pts_C')]"
   ]
  },
  {
   "cell_type": "code",
   "execution_count": 17,
   "metadata": {},
   "outputs": [],
   "source": [
    "# jogada_jogada.to_csv('tempo1.csv')"
   ]
  },
  {
   "cell_type": "code",
   "execution_count": 18,
   "metadata": {},
   "outputs": [],
   "source": [
    "# a.set_index(\"Tempo\", inplace=True)"
   ]
  },
  {
   "cell_type": "code",
   "execution_count": 19,
   "metadata": {},
   "outputs": [],
   "source": [
    "# a[['placar_casa', 'placar_visitante']].plot()"
   ]
  },
  {
   "cell_type": "code",
   "execution_count": 20,
   "metadata": {},
   "outputs": [
    {
     "data": {
      "text/plain": [
       "[<matplotlib.lines.Line2D at 0x28e2d1adfd0>,\n",
       " <matplotlib.lines.Line2D at 0x28e2d1bf0a0>]"
      ]
     },
     "execution_count": 20,
     "metadata": {},
     "output_type": "execute_result"
    },
    {
     "data": {
      "image/png": "[encoded data removed]",
      "text/plain": [
       "<Figure size 432x288 with 1 Axes>"
      ]
     },
     "metadata": {
      "needs_background": "light"
     },
     "output_type": "display_data"
    }
   ],
   "source": [
    "fig, ax = plt.subplots()\n",
    "x = a['Tempo']\n",
    "y = a[['placar_casa', 'placar_visitante']]\n",
    "ax.plot(x, y)\n",
    "\n",
    "# tentar colocar uma minha vermelha entre os quartos, para separar visualmente \n",
    "#threshold = 1800\n",
    "#ax.fill_between(0, 1, where=y > threshold,\n",
    "#                color='green', alpha=0.5, transform=ax.get_xaxis_transform())"
   ]
  },
  {
   "cell_type": "code",
   "execution_count": 40,
   "metadata": {},
   "outputs": [
    {
     "name": "stderr",
     "output_type": "stream",
     "text": [
      "<ipython-input-40-7e02972497d8>:1: SettingWithCopyWarning: \n",
      "A value is trying to be set on a copy of a slice from a DataFrame.\n",
      "Try using .loc[row_indexer,col_indexer] = value instead\n",
      "\n",
      "See the caveats in the documentation: https://pandas.pydata.org/pandas-docs/stable/user_guide/indexing.html#returning-a-view-versus-a-copy\n",
      "  a['dif'] = (a['placar_casa']) - (a['placar_visitante'])\n"
     ]
    }
   ],
   "source": [
    "a['dif'] = a['placar_casa'] - a['placar_visitante']"
   ]
  },
  {
   "cell_type": "code",
   "execution_count": 41,
   "metadata": {},
   "outputs": [
    {
     "data": {
      "text/plain": [
       "[<matplotlib.lines.Line2D at 0x28e31020670>]"
      ]
     },
     "execution_count": 41,
     "metadata": {},
     "output_type": "execute_result"
    },
    {
     "data": {
      "image/png": "[encoded data removed]",
      "text/plain": [
       "<Figure size 1080x360 with 1 Axes>"
      ]
     },
     "metadata": {
      "needs_background": "light"
     },
     "output_type": "display_data"
    }
   ],
   "source": [
    "plt.figure(figsize=(15,5))\n",
    "plt.plot(a['Tempo'], a['dif'])"
   ]
  },
  {
   "cell_type": "code",
   "execution_count": null,
   "metadata": {},
   "outputs": [],
   "source": []
  }
 ],
 "metadata": {
  "kernelspec": {
   "display_name": "Python 3",
   "language": "python",
   "name": "python3"
  },
  "language_info": {
   "codemirror_mode": {
    "name": "ipython",
    "version": 3
   },
   "file_extension": ".py",
   "mimetype": "text/x-python",
   "name": "python",
   "nbconvert_exporter": "python",
   "pygments_lexer": "ipython3",
   "version": "3.8.3"
  }
 },
 "nbformat": 4,
 "nbformat_minor": 4
}
