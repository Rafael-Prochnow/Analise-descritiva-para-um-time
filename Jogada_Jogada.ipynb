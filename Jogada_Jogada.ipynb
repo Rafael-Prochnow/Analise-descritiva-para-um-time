{
 "cells": [
  {
   "cell_type": "markdown",
   "metadata": {},
   "source": [
    "# Projeto: Análises Jogada-Jogada NBB 2019"
   ]
  },
  {
   "cell_type": "markdown",
   "metadata": {},
   "source": [
    "Para esse projeto estaremos analisando jogos do NBB, principal campeonato brasileiro de basquetebol. Os dados contém os seguintes campos:\n",
    "\n",
    "Colunas:\n",
    "* Quartos\n",
    "* Tempo\n",
    "* placar_cada\n",
    "* placar_visitante\n",
    "* Nome\n",
    "*\n",
    "\n",
    "\n",
    "Coluna Indicadores técnicos:\n",
    "\n",
    "* fim_quarto -> Fim de quarto (qualquer quarto)\n",
    "* inicio_quarto -> Inicio de quarto (qualquer quarto)\n",
    "* fim_partida  -> Fim da Partida\n",
    "* incio partida -> Inicio da Partida\n",
    "* Min        -> Minutos jogados do jogador\n",
    "* Pts_C      -> Pontos Convertidos \n",
    "* Pts_T      -> Pontos Tentados \n",
    "* Pts_3_C    -> Três Pontos Convertidos \n",
    "* 3_T_Pts    -> Três Pontos Tentados\n",
    "* 2_C_Pts    -> Dois Pontos Convertidos\n",
    "* 2_T_Pts    -> Dois Pontos Tentados\n",
    "* LL_Pts_C   -> Lances Livres Convertidos\n",
    "* LL_Pts_T   -> Lances Livres Tentados\n",
    "* RO         -> Rebotes Ofensivos\n",
    "* RD         -> Rebotes Defensivos\n",
    "* RT         -> Rebotes Totais\n",
    "* AS         -> Assistências\n",
    "* BR         -> Bolas Roubadas \n",
    "* TO         -> Tocos\n",
    "* FC         -> Faltas Cometidas\n",
    "* FC_T         -> Faltas Técnica\n",
    "* FC_A         -> Faltas Antidesportiva\n",
    "* FC_O       -> Faltas Ofensiva\n",
    "* FC_D        -> Faltas Desqualificante\n",
    "* Entra       -> Entrada na Substituição \n",
    "* Sai           -> Saida na Substituição \n",
    "* tempo_tecnico -> Tempo Técnico\n",
    "* ER         -> Erros\n",
    "* FR         -> Faltas Recebidas \n",
    "* EN         -> Enterradas\n",
    "* Ar_Pts_C   -> Arremessos dos Pontos Convertidos\n",
    "* Ar_Pts_C   -> Arremessos dos Pontos Tentados \n",
    "* Pos        -> Posse de bola do time "
   ]
  },
  {
   "cell_type": "code",
   "execution_count": 1,
   "metadata": {},
   "outputs": [],
   "source": [
    "import numpy as np\n",
    "import pandas as pd\n",
    "import datetime as dt\n",
    "import re"
   ]
  },
  {
   "cell_type": "code",
   "execution_count": 2,
   "metadata": {},
   "outputs": [],
   "source": [
    "import matplotlib.pyplot as plt\n",
    "import seaborn as sns"
   ]
  },
  {
   "cell_type": "code",
   "execution_count": 3,
   "metadata": {},
   "outputs": [],
   "source": [
    "%matplotlib inline"
   ]
  },
  {
   "cell_type": "code",
   "execution_count": 4,
   "metadata": {},
   "outputs": [],
   "source": [
    "# df = pd.read_csv(\"Total_de_acao_acao.csv\")"
   ]
  },
  {
   "cell_type": "code",
   "execution_count": 5,
   "metadata": {},
   "outputs": [],
   "source": [
    "df = pd.read_csv(\"tabela_1_Minas_x_Flamengo.csv\")"
   ]
  },
  {
   "cell_type": "code",
   "execution_count": 6,
   "metadata": {},
   "outputs": [
    {
     "data": {
      "text/html": [
       "<div>\n",
       "<style scoped>\n",
       "    .dataframe tbody tr th:only-of-type {\n",
       "        vertical-align: middle;\n",
       "    }\n",
       "\n",
       "    .dataframe tbody tr th {\n",
       "        vertical-align: top;\n",
       "    }\n",
       "\n",
       "    .dataframe thead th {\n",
       "        text-align: right;\n",
       "    }\n",
       "</style>\n",
       "<table border=\"1\" class=\"dataframe\">\n",
       "  <thead>\n",
       "    <tr style=\"text-align: right;\">\n",
       "      <th></th>\n",
       "      <th>Unnamed: 0</th>\n",
       "      <th>Quarto</th>\n",
       "      <th>Tempo</th>\n",
       "      <th>placar_casa</th>\n",
       "      <th>placar_visitante</th>\n",
       "      <th>Time</th>\n",
       "      <th>Indicador</th>\n",
       "      <th>Nome</th>\n",
       "    </tr>\n",
       "  </thead>\n",
       "  <tbody>\n",
       "    <tr>\n",
       "      <th>0</th>\n",
       "      <td>0</td>\n",
       "      <td>4</td>\n",
       "      <td>00:00</td>\n",
       "      <td>85</td>\n",
       "      <td>93</td>\n",
       "      <td>NaN</td>\n",
       "      <td>fim_partida</td>\n",
       "      <td>NaN</td>\n",
       "    </tr>\n",
       "    <tr>\n",
       "      <th>1</th>\n",
       "      <td>1</td>\n",
       "      <td>4</td>\n",
       "      <td>00:00</td>\n",
       "      <td>85</td>\n",
       "      <td>93</td>\n",
       "      <td>NaN</td>\n",
       "      <td>fim_quarto</td>\n",
       "      <td>NaN</td>\n",
       "    </tr>\n",
       "    <tr>\n",
       "      <th>2</th>\n",
       "      <td>2</td>\n",
       "      <td>4</td>\n",
       "      <td>00:01</td>\n",
       "      <td>85</td>\n",
       "      <td>93</td>\n",
       "      <td>MIN</td>\n",
       "      <td>3_Pts_T</td>\n",
       "      <td>Queirós</td>\n",
       "    </tr>\n",
       "    <tr>\n",
       "      <th>3</th>\n",
       "      <td>3</td>\n",
       "      <td>4</td>\n",
       "      <td>00:05</td>\n",
       "      <td>85</td>\n",
       "      <td>93</td>\n",
       "      <td>FLA</td>\n",
       "      <td>LL_Pts_C</td>\n",
       "      <td>Marquinhos</td>\n",
       "    </tr>\n",
       "    <tr>\n",
       "      <th>4</th>\n",
       "      <td>4</td>\n",
       "      <td>4</td>\n",
       "      <td>00:05</td>\n",
       "      <td>85</td>\n",
       "      <td>92</td>\n",
       "      <td>FLA</td>\n",
       "      <td>LL_Pts_C</td>\n",
       "      <td>Marquinhos</td>\n",
       "    </tr>\n",
       "    <tr>\n",
       "      <th>...</th>\n",
       "      <td>...</td>\n",
       "      <td>...</td>\n",
       "      <td>...</td>\n",
       "      <td>...</td>\n",
       "      <td>...</td>\n",
       "      <td>...</td>\n",
       "      <td>...</td>\n",
       "      <td>...</td>\n",
       "    </tr>\n",
       "    <tr>\n",
       "      <th>477</th>\n",
       "      <td>477</td>\n",
       "      <td>1</td>\n",
       "      <td>10:00</td>\n",
       "      <td>0</td>\n",
       "      <td>0</td>\n",
       "      <td>MIN</td>\n",
       "      <td>substituicao_entra</td>\n",
       "      <td>Leandrinho</td>\n",
       "    </tr>\n",
       "    <tr>\n",
       "      <th>478</th>\n",
       "      <td>478</td>\n",
       "      <td>1</td>\n",
       "      <td>10:00</td>\n",
       "      <td>0</td>\n",
       "      <td>0</td>\n",
       "      <td>MIN</td>\n",
       "      <td>substituicao_entra</td>\n",
       "      <td>Alex</td>\n",
       "    </tr>\n",
       "    <tr>\n",
       "      <th>479</th>\n",
       "      <td>479</td>\n",
       "      <td>1</td>\n",
       "      <td>10:00</td>\n",
       "      <td>0</td>\n",
       "      <td>0</td>\n",
       "      <td>MIN</td>\n",
       "      <td>substituicao_entra</td>\n",
       "      <td>Davi</td>\n",
       "    </tr>\n",
       "    <tr>\n",
       "      <th>480</th>\n",
       "      <td>480</td>\n",
       "      <td>1</td>\n",
       "      <td>10:00</td>\n",
       "      <td>0</td>\n",
       "      <td>0</td>\n",
       "      <td>MIN</td>\n",
       "      <td>substituicao_entra</td>\n",
       "      <td>Tyrone</td>\n",
       "    </tr>\n",
       "    <tr>\n",
       "      <th>481</th>\n",
       "      <td>481</td>\n",
       "      <td>1</td>\n",
       "      <td>10:00</td>\n",
       "      <td>0</td>\n",
       "      <td>0</td>\n",
       "      <td>NaN</td>\n",
       "      <td>inicio_partida</td>\n",
       "      <td>NaN</td>\n",
       "    </tr>\n",
       "  </tbody>\n",
       "</table>\n",
       "<p>482 rows × 8 columns</p>\n",
       "</div>"
      ],
      "text/plain": [
       "     Unnamed: 0  Quarto  Tempo  placar_casa  placar_visitante Time  \\\n",
       "0             0       4  00:00           85                93  NaN   \n",
       "1             1       4  00:00           85                93  NaN   \n",
       "2             2       4  00:01           85                93  MIN   \n",
       "3             3       4  00:05           85                93  FLA   \n",
       "4             4       4  00:05           85                92  FLA   \n",
       "..          ...     ...    ...          ...               ...  ...   \n",
       "477         477       1  10:00            0                 0  MIN   \n",
       "478         478       1  10:00            0                 0  MIN   \n",
       "479         479       1  10:00            0                 0  MIN   \n",
       "480         480       1  10:00            0                 0  MIN   \n",
       "481         481       1  10:00            0                 0  NaN   \n",
       "\n",
       "              Indicador        Nome  \n",
       "0           fim_partida         NaN  \n",
       "1            fim_quarto         NaN  \n",
       "2               3_Pts_T     Queirós  \n",
       "3              LL_Pts_C  Marquinhos  \n",
       "4              LL_Pts_C  Marquinhos  \n",
       "..                  ...         ...  \n",
       "477  substituicao_entra  Leandrinho  \n",
       "478  substituicao_entra        Alex  \n",
       "479  substituicao_entra        Davi  \n",
       "480  substituicao_entra      Tyrone  \n",
       "481      inicio_partida         NaN  \n",
       "\n",
       "[482 rows x 8 columns]"
      ]
     },
     "execution_count": 6,
     "metadata": {},
     "output_type": "execute_result"
    }
   ],
   "source": [
    "df"
   ]
  },
  {
   "cell_type": "markdown",
   "metadata": {},
   "source": [
    "# Limpeza dos dados "
   ]
  },
  {
   "cell_type": "markdown",
   "metadata": {},
   "source": [
    "* primeiro evitar NAN (acredite!!! tem isso no site)"
   ]
  },
  {
   "cell_type": "code",
   "execution_count": 7,
   "metadata": {},
   "outputs": [],
   "source": [
    "df.dropna(subset=['Tempo'], inplace=True)"
   ]
  },
  {
   "cell_type": "markdown",
   "metadata": {},
   "source": [
    "* mudança do tempo\n",
    "* colocar todos em segundos para facilitar a vida\n",
    "* tem jogos que o site apresenta numeros inteiros (1, 12, 134, 1000)\n",
    "* para isso localizei o valores errados e concertei"
   ]
  },
  {
   "cell_type": "code",
   "execution_count": 8,
   "metadata": {},
   "outputs": [],
   "source": [
    "mudar_hora = []\n",
    "for x in df['Tempo']:\n",
    "    if re.findall(r'..:..', x):\n",
    "        mudar_hora.append(x)\n",
    "    else:\n",
    "        if re.findall(r'....', x):\n",
    "            x = x[0:2] + ':' + x[2:4]\n",
    "            mudar_hora.append(x)\n",
    "        elif re.findall(r'...', x):\n",
    "            x = '0' + x[0] + ':' + x[1:3]\n",
    "            mudar_hora.append(x)\n",
    "        elif re.findall(r'..', x):\n",
    "            x = '00:' + x\n",
    "            mudar_hora.append(x)\n",
    "        elif re.findall(r'.', x):\n",
    "            x = '00:0' + x\n",
    "            mudar_hora.append(x)\n",
    "\n",
    "df['Tempo_2'] = mudar_hora\n",
    "df.drop('Tempo', axis=1, inplace=True)"
   ]
  },
  {
   "cell_type": "code",
   "execution_count": 9,
   "metadata": {},
   "outputs": [],
   "source": [
    "df['Tempo_2'] = df['Tempo_2'].apply(lambda x: dt.datetime.strptime(x, '%M:%S'))"
   ]
  },
  {
   "cell_type": "code",
   "execution_count": 10,
   "metadata": {},
   "outputs": [],
   "source": [
    "df['Tempo_2'] = df['Tempo_2'].apply(lambda x: dt.time(x.hour, x.minute, x.second))"
   ]
  },
  {
   "cell_type": "code",
   "execution_count": 11,
   "metadata": {},
   "outputs": [],
   "source": [
    "df['Tempo_2'] = df['Tempo_2'].apply(lambda x: (x.hour * 60 + x.minute) * 60 + x.second)"
   ]
  },
  {
   "cell_type": "code",
   "execution_count": 12,
   "metadata": {},
   "outputs": [],
   "source": [
    "# transforma os dados para números inteiros\n",
    "df['Quarto'] = df['Quarto'].apply(lambda l: int(l))"
   ]
  },
  {
   "cell_type": "code",
   "execution_count": 13,
   "metadata": {},
   "outputs": [],
   "source": [
    "# modificar o tempo decrescente para crescente (* -1)\n",
    "# acrescentar o tempo de cada quarto (primeiro quarto termina em 600s, o segundo quarto 2*600 = 1200 ...)\n",
    "tempo_novo = []\n",
    "for x, y in zip(df['Quarto'], df['Tempo_2']):\n",
    "    if x == 1:\n",
    "        a = (y - (600 * 1)) * -1\n",
    "        tempo_novo.append(a)\n",
    "    elif x == 2:\n",
    "        a = (y - (600 * 2)) * -1\n",
    "        tempo_novo.append(a)\n",
    "    elif x == 3:\n",
    "        a = (y - (600 * 3)) * -1\n",
    "        tempo_novo.append(a)\n",
    "    elif x == 4:\n",
    "        a = (y - (600 * 4)) * -1\n",
    "        tempo_novo.append(a)\n",
    "    elif x == 5:\n",
    "        a = (y - (600 * 5)) * -1\n",
    "        tempo_novo.append(a)\n",
    "    elif x == 6:\n",
    "        a = (y - (600 * 6)) * -1\n",
    "        tempo_novo.append(a)\n",
    "    elif x == 7:\n",
    "        a = (y - (600 * 7)) * -1\n",
    "        tempo_novo.append(a)\n",
    "\n",
    "df['Tempo'] = tempo_novo\n",
    "df.drop('Tempo_2', axis=1, inplace=True)"
   ]
  },
  {
   "cell_type": "code",
   "execution_count": 14,
   "metadata": {},
   "outputs": [],
   "source": [
    "# deixando o DataFrame nessa ordem de colunas\n",
    "df = df[['Quarto', 'Tempo', 'placar_casa', 'placar_visitante', 'Time', 'Indicador', 'Nome']]"
   ]
  },
  {
   "cell_type": "markdown",
   "metadata": {},
   "source": [
    "#  Acrescentamos mais colunas"
   ]
  },
  {
   "cell_type": "code",
   "execution_count": 15,
   "metadata": {},
   "outputs": [],
   "source": [
    "df['dif_casa'] = df['placar_casa'] - df['placar_visitante']\n",
    "df['dif_visitante'] = df['placar_visitante'] - df['placar_casa']"
   ]
  },
  {
   "cell_type": "code",
   "execution_count": 16,
   "metadata": {},
   "outputs": [
    {
     "data": {
      "text/html": [
       "<div>\n",
       "<style scoped>\n",
       "    .dataframe tbody tr th:only-of-type {\n",
       "        vertical-align: middle;\n",
       "    }\n",
       "\n",
       "    .dataframe tbody tr th {\n",
       "        vertical-align: top;\n",
       "    }\n",
       "\n",
       "    .dataframe thead th {\n",
       "        text-align: right;\n",
       "    }\n",
       "</style>\n",
       "<table border=\"1\" class=\"dataframe\">\n",
       "  <thead>\n",
       "    <tr style=\"text-align: right;\">\n",
       "      <th></th>\n",
       "      <th>Quarto</th>\n",
       "      <th>Tempo</th>\n",
       "      <th>placar_casa</th>\n",
       "      <th>placar_visitante</th>\n",
       "      <th>Time</th>\n",
       "      <th>Indicador</th>\n",
       "      <th>Nome</th>\n",
       "      <th>dif_casa</th>\n",
       "      <th>dif_visitante</th>\n",
       "    </tr>\n",
       "  </thead>\n",
       "  <tbody>\n",
       "    <tr>\n",
       "      <th>0</th>\n",
       "      <td>4</td>\n",
       "      <td>2400</td>\n",
       "      <td>85</td>\n",
       "      <td>93</td>\n",
       "      <td>NaN</td>\n",
       "      <td>fim_partida</td>\n",
       "      <td>NaN</td>\n",
       "      <td>-8</td>\n",
       "      <td>8</td>\n",
       "    </tr>\n",
       "    <tr>\n",
       "      <th>1</th>\n",
       "      <td>4</td>\n",
       "      <td>2400</td>\n",
       "      <td>85</td>\n",
       "      <td>93</td>\n",
       "      <td>NaN</td>\n",
       "      <td>fim_quarto</td>\n",
       "      <td>NaN</td>\n",
       "      <td>-8</td>\n",
       "      <td>8</td>\n",
       "    </tr>\n",
       "    <tr>\n",
       "      <th>2</th>\n",
       "      <td>4</td>\n",
       "      <td>2399</td>\n",
       "      <td>85</td>\n",
       "      <td>93</td>\n",
       "      <td>MIN</td>\n",
       "      <td>3_Pts_T</td>\n",
       "      <td>Queirós</td>\n",
       "      <td>-8</td>\n",
       "      <td>8</td>\n",
       "    </tr>\n",
       "    <tr>\n",
       "      <th>3</th>\n",
       "      <td>4</td>\n",
       "      <td>2395</td>\n",
       "      <td>85</td>\n",
       "      <td>93</td>\n",
       "      <td>FLA</td>\n",
       "      <td>LL_Pts_C</td>\n",
       "      <td>Marquinhos</td>\n",
       "      <td>-8</td>\n",
       "      <td>8</td>\n",
       "    </tr>\n",
       "    <tr>\n",
       "      <th>4</th>\n",
       "      <td>4</td>\n",
       "      <td>2395</td>\n",
       "      <td>85</td>\n",
       "      <td>92</td>\n",
       "      <td>FLA</td>\n",
       "      <td>LL_Pts_C</td>\n",
       "      <td>Marquinhos</td>\n",
       "      <td>-7</td>\n",
       "      <td>7</td>\n",
       "    </tr>\n",
       "    <tr>\n",
       "      <th>...</th>\n",
       "      <td>...</td>\n",
       "      <td>...</td>\n",
       "      <td>...</td>\n",
       "      <td>...</td>\n",
       "      <td>...</td>\n",
       "      <td>...</td>\n",
       "      <td>...</td>\n",
       "      <td>...</td>\n",
       "      <td>...</td>\n",
       "    </tr>\n",
       "    <tr>\n",
       "      <th>477</th>\n",
       "      <td>1</td>\n",
       "      <td>0</td>\n",
       "      <td>0</td>\n",
       "      <td>0</td>\n",
       "      <td>MIN</td>\n",
       "      <td>substituicao_entra</td>\n",
       "      <td>Leandrinho</td>\n",
       "      <td>0</td>\n",
       "      <td>0</td>\n",
       "    </tr>\n",
       "    <tr>\n",
       "      <th>478</th>\n",
       "      <td>1</td>\n",
       "      <td>0</td>\n",
       "      <td>0</td>\n",
       "      <td>0</td>\n",
       "      <td>MIN</td>\n",
       "      <td>substituicao_entra</td>\n",
       "      <td>Alex</td>\n",
       "      <td>0</td>\n",
       "      <td>0</td>\n",
       "    </tr>\n",
       "    <tr>\n",
       "      <th>479</th>\n",
       "      <td>1</td>\n",
       "      <td>0</td>\n",
       "      <td>0</td>\n",
       "      <td>0</td>\n",
       "      <td>MIN</td>\n",
       "      <td>substituicao_entra</td>\n",
       "      <td>Davi</td>\n",
       "      <td>0</td>\n",
       "      <td>0</td>\n",
       "    </tr>\n",
       "    <tr>\n",
       "      <th>480</th>\n",
       "      <td>1</td>\n",
       "      <td>0</td>\n",
       "      <td>0</td>\n",
       "      <td>0</td>\n",
       "      <td>MIN</td>\n",
       "      <td>substituicao_entra</td>\n",
       "      <td>Tyrone</td>\n",
       "      <td>0</td>\n",
       "      <td>0</td>\n",
       "    </tr>\n",
       "    <tr>\n",
       "      <th>481</th>\n",
       "      <td>1</td>\n",
       "      <td>0</td>\n",
       "      <td>0</td>\n",
       "      <td>0</td>\n",
       "      <td>NaN</td>\n",
       "      <td>inicio_partida</td>\n",
       "      <td>NaN</td>\n",
       "      <td>0</td>\n",
       "      <td>0</td>\n",
       "    </tr>\n",
       "  </tbody>\n",
       "</table>\n",
       "<p>482 rows × 9 columns</p>\n",
       "</div>"
      ],
      "text/plain": [
       "     Quarto  Tempo  placar_casa  placar_visitante Time           Indicador  \\\n",
       "0         4   2400           85                93  NaN         fim_partida   \n",
       "1         4   2400           85                93  NaN          fim_quarto   \n",
       "2         4   2399           85                93  MIN             3_Pts_T   \n",
       "3         4   2395           85                93  FLA            LL_Pts_C   \n",
       "4         4   2395           85                92  FLA            LL_Pts_C   \n",
       "..      ...    ...          ...               ...  ...                 ...   \n",
       "477       1      0            0                 0  MIN  substituicao_entra   \n",
       "478       1      0            0                 0  MIN  substituicao_entra   \n",
       "479       1      0            0                 0  MIN  substituicao_entra   \n",
       "480       1      0            0                 0  MIN  substituicao_entra   \n",
       "481       1      0            0                 0  NaN      inicio_partida   \n",
       "\n",
       "           Nome  dif_casa  dif_visitante  \n",
       "0           NaN        -8              8  \n",
       "1           NaN        -8              8  \n",
       "2       Queirós        -8              8  \n",
       "3    Marquinhos        -8              8  \n",
       "4    Marquinhos        -7              7  \n",
       "..          ...       ...            ...  \n",
       "477  Leandrinho         0              0  \n",
       "478        Alex         0              0  \n",
       "479        Davi         0              0  \n",
       "480      Tyrone         0              0  \n",
       "481         NaN         0              0  \n",
       "\n",
       "[482 rows x 9 columns]"
      ]
     },
     "execution_count": 16,
     "metadata": {},
     "output_type": "execute_result"
    }
   ],
   "source": [
    "df"
   ]
  },
  {
   "cell_type": "markdown",
   "metadata": {},
   "source": [
    "# Analise da pontuação dos times"
   ]
  },
  {
   "cell_type": "code",
   "execution_count": 17,
   "metadata": {},
   "outputs": [
    {
     "data": {
      "text/plain": [
       "\"|\\n(df['Indicador'] == '3_Pts_T') | \\n(df['Indicador'] == '2_Pts_T') |\\n(df['Indicador'] == 'LL_Pts_T')\""
      ]
     },
     "execution_count": 17,
     "metadata": {},
     "output_type": "execute_result"
    }
   ],
   "source": [
    "pontuacao = df[(df['Indicador'] == '3_Pts_C') | \n",
    "               (df['Indicador'] == '2_Pts_C') |\n",
    "               (df['Indicador'] == 'LL_Pts_C')|\n",
    "               (df['Indicador'] == 'fim_partida')]\n",
    "\n",
    "'''|\n",
    "(df['Indicador'] == '3_Pts_T') | \n",
    "(df['Indicador'] == '2_Pts_T') |\n",
    "(df['Indicador'] == 'LL_Pts_T')'''"
   ]
  },
  {
   "cell_type": "code",
   "execution_count": 18,
   "metadata": {},
   "outputs": [
    {
     "data": {
      "text/html": [
       "<div>\n",
       "<style scoped>\n",
       "    .dataframe tbody tr th:only-of-type {\n",
       "        vertical-align: middle;\n",
       "    }\n",
       "\n",
       "    .dataframe tbody tr th {\n",
       "        vertical-align: top;\n",
       "    }\n",
       "\n",
       "    .dataframe thead th {\n",
       "        text-align: right;\n",
       "    }\n",
       "</style>\n",
       "<table border=\"1\" class=\"dataframe\">\n",
       "  <thead>\n",
       "    <tr style=\"text-align: right;\">\n",
       "      <th></th>\n",
       "      <th>Quarto</th>\n",
       "      <th>Tempo</th>\n",
       "      <th>placar_casa</th>\n",
       "      <th>placar_visitante</th>\n",
       "      <th>Time</th>\n",
       "      <th>Indicador</th>\n",
       "      <th>Nome</th>\n",
       "      <th>dif_casa</th>\n",
       "      <th>dif_visitante</th>\n",
       "    </tr>\n",
       "  </thead>\n",
       "  <tbody>\n",
       "    <tr>\n",
       "      <th>0</th>\n",
       "      <td>4</td>\n",
       "      <td>2400</td>\n",
       "      <td>85</td>\n",
       "      <td>93</td>\n",
       "      <td>NaN</td>\n",
       "      <td>fim_partida</td>\n",
       "      <td>NaN</td>\n",
       "      <td>-8</td>\n",
       "      <td>8</td>\n",
       "    </tr>\n",
       "    <tr>\n",
       "      <th>3</th>\n",
       "      <td>4</td>\n",
       "      <td>2395</td>\n",
       "      <td>85</td>\n",
       "      <td>93</td>\n",
       "      <td>FLA</td>\n",
       "      <td>LL_Pts_C</td>\n",
       "      <td>Marquinhos</td>\n",
       "      <td>-8</td>\n",
       "      <td>8</td>\n",
       "    </tr>\n",
       "    <tr>\n",
       "      <th>4</th>\n",
       "      <td>4</td>\n",
       "      <td>2395</td>\n",
       "      <td>85</td>\n",
       "      <td>92</td>\n",
       "      <td>FLA</td>\n",
       "      <td>LL_Pts_C</td>\n",
       "      <td>Marquinhos</td>\n",
       "      <td>-7</td>\n",
       "      <td>7</td>\n",
       "    </tr>\n",
       "    <tr>\n",
       "      <th>18</th>\n",
       "      <td>4</td>\n",
       "      <td>2376</td>\n",
       "      <td>85</td>\n",
       "      <td>91</td>\n",
       "      <td>FLA</td>\n",
       "      <td>LL_Pts_C</td>\n",
       "      <td>Mineiro</td>\n",
       "      <td>-6</td>\n",
       "      <td>6</td>\n",
       "    </tr>\n",
       "    <tr>\n",
       "      <th>19</th>\n",
       "      <td>4</td>\n",
       "      <td>2376</td>\n",
       "      <td>85</td>\n",
       "      <td>90</td>\n",
       "      <td>FLA</td>\n",
       "      <td>LL_Pts_C</td>\n",
       "      <td>Mineiro</td>\n",
       "      <td>-5</td>\n",
       "      <td>5</td>\n",
       "    </tr>\n",
       "    <tr>\n",
       "      <th>...</th>\n",
       "      <td>...</td>\n",
       "      <td>...</td>\n",
       "      <td>...</td>\n",
       "      <td>...</td>\n",
       "      <td>...</td>\n",
       "      <td>...</td>\n",
       "      <td>...</td>\n",
       "      <td>...</td>\n",
       "      <td>...</td>\n",
       "    </tr>\n",
       "    <tr>\n",
       "      <th>450</th>\n",
       "      <td>1</td>\n",
       "      <td>137</td>\n",
       "      <td>4</td>\n",
       "      <td>5</td>\n",
       "      <td>MIN</td>\n",
       "      <td>2_Pts_C</td>\n",
       "      <td>Davi</td>\n",
       "      <td>-1</td>\n",
       "      <td>1</td>\n",
       "    </tr>\n",
       "    <tr>\n",
       "      <th>453</th>\n",
       "      <td>1</td>\n",
       "      <td>114</td>\n",
       "      <td>2</td>\n",
       "      <td>5</td>\n",
       "      <td>MIN</td>\n",
       "      <td>LL_Pts_C</td>\n",
       "      <td>Scott</td>\n",
       "      <td>-3</td>\n",
       "      <td>3</td>\n",
       "    </tr>\n",
       "    <tr>\n",
       "      <th>455</th>\n",
       "      <td>1</td>\n",
       "      <td>114</td>\n",
       "      <td>1</td>\n",
       "      <td>5</td>\n",
       "      <td>MIN</td>\n",
       "      <td>LL_Pts_C</td>\n",
       "      <td>Scott</td>\n",
       "      <td>-4</td>\n",
       "      <td>4</td>\n",
       "    </tr>\n",
       "    <tr>\n",
       "      <th>458</th>\n",
       "      <td>1</td>\n",
       "      <td>100</td>\n",
       "      <td>0</td>\n",
       "      <td>5</td>\n",
       "      <td>FLA</td>\n",
       "      <td>3_Pts_C</td>\n",
       "      <td>Zach Graham</td>\n",
       "      <td>-5</td>\n",
       "      <td>5</td>\n",
       "    </tr>\n",
       "    <tr>\n",
       "      <th>464</th>\n",
       "      <td>1</td>\n",
       "      <td>62</td>\n",
       "      <td>0</td>\n",
       "      <td>2</td>\n",
       "      <td>FLA</td>\n",
       "      <td>2_Pts_C</td>\n",
       "      <td>Olivinha</td>\n",
       "      <td>-2</td>\n",
       "      <td>2</td>\n",
       "    </tr>\n",
       "  </tbody>\n",
       "</table>\n",
       "<p>92 rows × 9 columns</p>\n",
       "</div>"
      ],
      "text/plain": [
       "     Quarto  Tempo  placar_casa  placar_visitante Time    Indicador  \\\n",
       "0         4   2400           85                93  NaN  fim_partida   \n",
       "3         4   2395           85                93  FLA     LL_Pts_C   \n",
       "4         4   2395           85                92  FLA     LL_Pts_C   \n",
       "18        4   2376           85                91  FLA     LL_Pts_C   \n",
       "19        4   2376           85                90  FLA     LL_Pts_C   \n",
       "..      ...    ...          ...               ...  ...          ...   \n",
       "450       1    137            4                 5  MIN      2_Pts_C   \n",
       "453       1    114            2                 5  MIN     LL_Pts_C   \n",
       "455       1    114            1                 5  MIN     LL_Pts_C   \n",
       "458       1    100            0                 5  FLA      3_Pts_C   \n",
       "464       1     62            0                 2  FLA      2_Pts_C   \n",
       "\n",
       "            Nome  dif_casa  dif_visitante  \n",
       "0            NaN        -8              8  \n",
       "3     Marquinhos        -8              8  \n",
       "4     Marquinhos        -7              7  \n",
       "18       Mineiro        -6              6  \n",
       "19       Mineiro        -5              5  \n",
       "..           ...       ...            ...  \n",
       "450         Davi        -1              1  \n",
       "453        Scott        -3              3  \n",
       "455        Scott        -4              4  \n",
       "458  Zach Graham        -5              5  \n",
       "464     Olivinha        -2              2  \n",
       "\n",
       "[92 rows x 9 columns]"
      ]
     },
     "execution_count": 18,
     "metadata": {},
     "output_type": "execute_result"
    }
   ],
   "source": [
    "pontuacao"
   ]
  },
  {
   "cell_type": "code",
   "execution_count": 19,
   "metadata": {},
   "outputs": [],
   "source": [
    "pontuacao = pontuacao[::-1]\n",
    "pontuacao.reset_index(drop=True, inplace=True)\n",
    "quartos = [600, 1200, 1800, 2400]"
   ]
  },
  {
   "cell_type": "code",
   "execution_count": 20,
   "metadata": {},
   "outputs": [
    {
     "data": {
      "text/html": [
       "<div>\n",
       "<style scoped>\n",
       "    .dataframe tbody tr th:only-of-type {\n",
       "        vertical-align: middle;\n",
       "    }\n",
       "\n",
       "    .dataframe tbody tr th {\n",
       "        vertical-align: top;\n",
       "    }\n",
       "\n",
       "    .dataframe thead th {\n",
       "        text-align: right;\n",
       "    }\n",
       "</style>\n",
       "<table border=\"1\" class=\"dataframe\">\n",
       "  <thead>\n",
       "    <tr style=\"text-align: right;\">\n",
       "      <th></th>\n",
       "      <th>Quarto</th>\n",
       "      <th>Tempo</th>\n",
       "      <th>placar_casa</th>\n",
       "      <th>placar_visitante</th>\n",
       "      <th>Time</th>\n",
       "      <th>Indicador</th>\n",
       "      <th>Nome</th>\n",
       "      <th>dif_casa</th>\n",
       "      <th>dif_visitante</th>\n",
       "    </tr>\n",
       "  </thead>\n",
       "  <tbody>\n",
       "    <tr>\n",
       "      <th>0</th>\n",
       "      <td>1</td>\n",
       "      <td>62</td>\n",
       "      <td>0</td>\n",
       "      <td>2</td>\n",
       "      <td>FLA</td>\n",
       "      <td>2_Pts_C</td>\n",
       "      <td>Olivinha</td>\n",
       "      <td>-2</td>\n",
       "      <td>2</td>\n",
       "    </tr>\n",
       "    <tr>\n",
       "      <th>1</th>\n",
       "      <td>1</td>\n",
       "      <td>100</td>\n",
       "      <td>0</td>\n",
       "      <td>5</td>\n",
       "      <td>FLA</td>\n",
       "      <td>3_Pts_C</td>\n",
       "      <td>Zach Graham</td>\n",
       "      <td>-5</td>\n",
       "      <td>5</td>\n",
       "    </tr>\n",
       "    <tr>\n",
       "      <th>2</th>\n",
       "      <td>1</td>\n",
       "      <td>114</td>\n",
       "      <td>1</td>\n",
       "      <td>5</td>\n",
       "      <td>MIN</td>\n",
       "      <td>LL_Pts_C</td>\n",
       "      <td>Scott</td>\n",
       "      <td>-4</td>\n",
       "      <td>4</td>\n",
       "    </tr>\n",
       "    <tr>\n",
       "      <th>3</th>\n",
       "      <td>1</td>\n",
       "      <td>114</td>\n",
       "      <td>2</td>\n",
       "      <td>5</td>\n",
       "      <td>MIN</td>\n",
       "      <td>LL_Pts_C</td>\n",
       "      <td>Scott</td>\n",
       "      <td>-3</td>\n",
       "      <td>3</td>\n",
       "    </tr>\n",
       "    <tr>\n",
       "      <th>4</th>\n",
       "      <td>1</td>\n",
       "      <td>137</td>\n",
       "      <td>4</td>\n",
       "      <td>5</td>\n",
       "      <td>MIN</td>\n",
       "      <td>2_Pts_C</td>\n",
       "      <td>Davi</td>\n",
       "      <td>-1</td>\n",
       "      <td>1</td>\n",
       "    </tr>\n",
       "    <tr>\n",
       "      <th>...</th>\n",
       "      <td>...</td>\n",
       "      <td>...</td>\n",
       "      <td>...</td>\n",
       "      <td>...</td>\n",
       "      <td>...</td>\n",
       "      <td>...</td>\n",
       "      <td>...</td>\n",
       "      <td>...</td>\n",
       "      <td>...</td>\n",
       "    </tr>\n",
       "    <tr>\n",
       "      <th>87</th>\n",
       "      <td>4</td>\n",
       "      <td>2376</td>\n",
       "      <td>85</td>\n",
       "      <td>90</td>\n",
       "      <td>FLA</td>\n",
       "      <td>LL_Pts_C</td>\n",
       "      <td>Mineiro</td>\n",
       "      <td>-5</td>\n",
       "      <td>5</td>\n",
       "    </tr>\n",
       "    <tr>\n",
       "      <th>88</th>\n",
       "      <td>4</td>\n",
       "      <td>2376</td>\n",
       "      <td>85</td>\n",
       "      <td>91</td>\n",
       "      <td>FLA</td>\n",
       "      <td>LL_Pts_C</td>\n",
       "      <td>Mineiro</td>\n",
       "      <td>-6</td>\n",
       "      <td>6</td>\n",
       "    </tr>\n",
       "    <tr>\n",
       "      <th>89</th>\n",
       "      <td>4</td>\n",
       "      <td>2395</td>\n",
       "      <td>85</td>\n",
       "      <td>92</td>\n",
       "      <td>FLA</td>\n",
       "      <td>LL_Pts_C</td>\n",
       "      <td>Marquinhos</td>\n",
       "      <td>-7</td>\n",
       "      <td>7</td>\n",
       "    </tr>\n",
       "    <tr>\n",
       "      <th>90</th>\n",
       "      <td>4</td>\n",
       "      <td>2395</td>\n",
       "      <td>85</td>\n",
       "      <td>93</td>\n",
       "      <td>FLA</td>\n",
       "      <td>LL_Pts_C</td>\n",
       "      <td>Marquinhos</td>\n",
       "      <td>-8</td>\n",
       "      <td>8</td>\n",
       "    </tr>\n",
       "    <tr>\n",
       "      <th>91</th>\n",
       "      <td>4</td>\n",
       "      <td>2400</td>\n",
       "      <td>85</td>\n",
       "      <td>93</td>\n",
       "      <td>NaN</td>\n",
       "      <td>fim_partida</td>\n",
       "      <td>NaN</td>\n",
       "      <td>-8</td>\n",
       "      <td>8</td>\n",
       "    </tr>\n",
       "  </tbody>\n",
       "</table>\n",
       "<p>92 rows × 9 columns</p>\n",
       "</div>"
      ],
      "text/plain": [
       "    Quarto  Tempo  placar_casa  placar_visitante Time    Indicador  \\\n",
       "0        1     62            0                 2  FLA      2_Pts_C   \n",
       "1        1    100            0                 5  FLA      3_Pts_C   \n",
       "2        1    114            1                 5  MIN     LL_Pts_C   \n",
       "3        1    114            2                 5  MIN     LL_Pts_C   \n",
       "4        1    137            4                 5  MIN      2_Pts_C   \n",
       "..     ...    ...          ...               ...  ...          ...   \n",
       "87       4   2376           85                90  FLA     LL_Pts_C   \n",
       "88       4   2376           85                91  FLA     LL_Pts_C   \n",
       "89       4   2395           85                92  FLA     LL_Pts_C   \n",
       "90       4   2395           85                93  FLA     LL_Pts_C   \n",
       "91       4   2400           85                93  NaN  fim_partida   \n",
       "\n",
       "           Nome  dif_casa  dif_visitante  \n",
       "0      Olivinha        -2              2  \n",
       "1   Zach Graham        -5              5  \n",
       "2         Scott        -4              4  \n",
       "3         Scott        -3              3  \n",
       "4          Davi        -1              1  \n",
       "..          ...       ...            ...  \n",
       "87      Mineiro        -5              5  \n",
       "88      Mineiro        -6              6  \n",
       "89   Marquinhos        -7              7  \n",
       "90   Marquinhos        -8              8  \n",
       "91          NaN        -8              8  \n",
       "\n",
       "[92 rows x 9 columns]"
      ]
     },
     "execution_count": 20,
     "metadata": {},
     "output_type": "execute_result"
    }
   ],
   "source": [
    "pontuacao"
   ]
  },
  {
   "cell_type": "code",
   "execution_count": 21,
   "metadata": {},
   "outputs": [
    {
     "data": {
      "text/plain": [
       "<matplotlib.lines.Line2D at 0x2851b5f8520>"
      ]
     },
     "execution_count": 21,
     "metadata": {},
     "output_type": "execute_result"
    },
    {
     "data": {
      "image/png": "[encoded data removed]",
      "text/plain": [
       "<Figure size 432x288 with 1 Axes>"
      ]
     },
     "metadata": {
      "needs_background": "light"
     },
     "output_type": "display_data"
    }
   ],
   "source": [
    "fig, ax = plt.subplots()\n",
    "x = pontuacao['Tempo']\n",
    "y = pontuacao[['placar_casa', 'placar_visitante']]\n",
    "ax.plot(x, y)\n",
    "for x in quartos:\n",
    "    plt.axvline(x, color='red', label=pontuacao.index, linestyle='--', alpha=0.5)\n",
    "plt.axhline(0, color='orange', label=pontuacao.index)"
   ]
  },
  {
   "cell_type": "code",
   "execution_count": 22,
   "metadata": {},
   "outputs": [
    {
     "data": {
      "text/plain": [
       "<matplotlib.lines.Line2D at 0x2851b6ac640>"
      ]
     },
     "execution_count": 22,
     "metadata": {},
     "output_type": "execute_result"
    },
    {
     "data": {
      "image/png": "[encoded data removed]",
      "text/plain": [
       "<Figure size 1080x360 with 1 Axes>"
      ]
     },
     "metadata": {
      "needs_background": "light"
     },
     "output_type": "display_data"
    }
   ],
   "source": [
    "plt.figure(figsize=(15,5))\n",
    "plt.plot(pontuacao['Tempo'], pontuacao['dif_visitante'], label = 'Jogo')\n",
    "plt.title('Diferença do Placar Visitante Durante a Partida')\n",
    "plt.xlabel('Tempo de Jogo em Segundos')\n",
    "plt.ylabel('Diferença do Placar')\n",
    "plt.legend(loc='upper left')\n",
    "for x in quartos:\n",
    "    plt.axvline(x, color='red', label=pontuacao.index, linestyle='--', alpha=0.5)\n",
    "plt.axhline(0, color='orange', label=pontuacao.index, alpha=0.5)"
   ]
  },
  {
   "cell_type": "code",
   "execution_count": 23,
   "metadata": {},
   "outputs": [],
   "source": [
    "media_movel_3 = pd.DataFrame()\n",
    "media_movel_3['dif_visitante'] = round(pontuacao['dif_visitante'].rolling(window=3).mean(), 2)"
   ]
  },
  {
   "cell_type": "code",
   "execution_count": 24,
   "metadata": {
    "scrolled": true
   },
   "outputs": [
    {
     "data": {
      "text/plain": [
       "<matplotlib.lines.Line2D at 0x2851b73ac70>"
      ]
     },
     "execution_count": 24,
     "metadata": {},
     "output_type": "execute_result"
    },
    {
     "data": {
      "image/png": "[encoded data removed]",
      "text/plain": [
       "<Figure size 1080x360 with 1 Axes>"
      ]
     },
     "metadata": {
      "needs_background": "light"
     },
     "output_type": "display_data"
    }
   ],
   "source": [
    "plt.figure(figsize=(15,5))\n",
    "plt.plot(pontuacao['Tempo'], media_movel_3['dif_visitante'], label = 'Jogo_Média_3')\n",
    "plt.title('Diferença do Placar Visitante Durante a Partida em 3 ATAQUES')\n",
    "plt.xlabel('Tempo de Jogo em Segundos')\n",
    "plt.ylabel('Diferença do Placar')\n",
    "plt.legend(loc='upper left')\n",
    "for x in quartos:\n",
    "    plt.axvline(x, color='red', label=pontuacao.index, linestyle='--', alpha=0.5)\n",
    "plt.axhline(0, color='orange', label=pontuacao.index, alpha=0.5)"
   ]
  },
  {
   "cell_type": "code",
   "execution_count": 25,
   "metadata": {},
   "outputs": [],
   "source": [
    "media_movel_6 = pd.DataFrame()\n",
    "media_movel_6['dif_visitante'] = round(pontuacao['dif_visitante'].rolling(window=6).mean(), 2)"
   ]
  },
  {
   "cell_type": "code",
   "execution_count": 26,
   "metadata": {},
   "outputs": [
    {
     "data": {
      "text/plain": [
       "<matplotlib.lines.Line2D at 0x2851b7aed00>"
      ]
     },
     "execution_count": 26,
     "metadata": {},
     "output_type": "execute_result"
    },
    {
     "data": {
      "image/png": "[encoded data removed]",
      "text/plain": [
       "<Figure size 1080x360 with 1 Axes>"
      ]
     },
     "metadata": {
      "needs_background": "light"
     },
     "output_type": "display_data"
    }
   ],
   "source": [
    "plt.figure(figsize=(15,5))\n",
    "plt.plot(pontuacao['Tempo'], media_movel_6['dif_visitante'], label = 'Jogo_Média_6')\n",
    "plt.title('Diferença do Placar Visitante Durante a Partida em 6 ATAQUES')\n",
    "plt.xlabel('Tempo de Jogo em Segundos')\n",
    "plt.ylabel('Diferença do Placar')\n",
    "plt.legend(loc='upper left')\n",
    "for x in quartos:\n",
    "    plt.axvline(x, color='red', label=pontuacao.index, linestyle='--', alpha=0.5)\n",
    "plt.axhline(0, color='orange', label=pontuacao.index, alpha=0.5)"
   ]
  },
  {
   "cell_type": "code",
   "execution_count": 27,
   "metadata": {},
   "outputs": [
    {
     "data": {
      "text/plain": [
       "<matplotlib.lines.Line2D at 0x2851b82aa90>"
      ]
     },
     "execution_count": 27,
     "metadata": {},
     "output_type": "execute_result"
    },
    {
     "data": {
      "image/png": "[encoded data removed]",
      "text/plain": [
       "<Figure size 1080x360 with 1 Axes>"
      ]
     },
     "metadata": {
      "needs_background": "light"
     },
     "output_type": "display_data"
    }
   ],
   "source": [
    "plt.figure(figsize=(15,5))\n",
    "# plt.plot(pontuacao['Tempo'], pontuacao['dif_visitante'], label = 'Jogo')\n",
    "plt.plot(pontuacao['Tempo'], media_movel_3['dif_visitante'], label = 'Jogo_Média_3')\n",
    "plt.plot(pontuacao['Tempo'], media_movel_6['dif_visitante'], label = 'Jogo_Média_6')\n",
    "plt.title('Diferença do Placar Visitante Durante a Partida')\n",
    "plt.xlabel('Tempo de Jogo em Segundos')\n",
    "plt.ylabel('Diferença do Placar')\n",
    "plt.legend(loc='upper left')\n",
    "for x in quartos:\n",
    "    plt.axvline(x, color='red', label=pontuacao.index, linestyle='--', alpha=0.5)\n",
    "plt.axhline(0, color='orange', label=pontuacao.index, alpha=0.5)"
   ]
  },
  {
   "cell_type": "code",
   "execution_count": 28,
   "metadata": {},
   "outputs": [
    {
     "data": {
      "text/html": [
       "<div>\n",
       "<style scoped>\n",
       "    .dataframe tbody tr th:only-of-type {\n",
       "        vertical-align: middle;\n",
       "    }\n",
       "\n",
       "    .dataframe tbody tr th {\n",
       "        vertical-align: top;\n",
       "    }\n",
       "\n",
       "    .dataframe thead th {\n",
       "        text-align: right;\n",
       "    }\n",
       "</style>\n",
       "<table border=\"1\" class=\"dataframe\">\n",
       "  <thead>\n",
       "    <tr style=\"text-align: right;\">\n",
       "      <th></th>\n",
       "      <th>Time</th>\n",
       "      <th>Indicador</th>\n",
       "      <th>pontuacao</th>\n",
       "      <th>Tempo</th>\n",
       "      <th>media_movel_3</th>\n",
       "      <th>media_movel_6</th>\n",
       "    </tr>\n",
       "  </thead>\n",
       "  <tbody>\n",
       "    <tr>\n",
       "      <th>0</th>\n",
       "      <td>FLA</td>\n",
       "      <td>2_Pts_C</td>\n",
       "      <td>2</td>\n",
       "      <td>62</td>\n",
       "      <td>NaN</td>\n",
       "      <td>NaN</td>\n",
       "    </tr>\n",
       "    <tr>\n",
       "      <th>1</th>\n",
       "      <td>FLA</td>\n",
       "      <td>3_Pts_C</td>\n",
       "      <td>5</td>\n",
       "      <td>100</td>\n",
       "      <td>NaN</td>\n",
       "      <td>NaN</td>\n",
       "    </tr>\n",
       "    <tr>\n",
       "      <th>2</th>\n",
       "      <td>MIN</td>\n",
       "      <td>LL_Pts_C</td>\n",
       "      <td>4</td>\n",
       "      <td>114</td>\n",
       "      <td>3.67</td>\n",
       "      <td>NaN</td>\n",
       "    </tr>\n",
       "    <tr>\n",
       "      <th>3</th>\n",
       "      <td>MIN</td>\n",
       "      <td>LL_Pts_C</td>\n",
       "      <td>3</td>\n",
       "      <td>114</td>\n",
       "      <td>4.00</td>\n",
       "      <td>NaN</td>\n",
       "    </tr>\n",
       "    <tr>\n",
       "      <th>4</th>\n",
       "      <td>MIN</td>\n",
       "      <td>2_Pts_C</td>\n",
       "      <td>1</td>\n",
       "      <td>137</td>\n",
       "      <td>2.67</td>\n",
       "      <td>NaN</td>\n",
       "    </tr>\n",
       "    <tr>\n",
       "      <th>...</th>\n",
       "      <td>...</td>\n",
       "      <td>...</td>\n",
       "      <td>...</td>\n",
       "      <td>...</td>\n",
       "      <td>...</td>\n",
       "      <td>...</td>\n",
       "    </tr>\n",
       "    <tr>\n",
       "      <th>87</th>\n",
       "      <td>FLA</td>\n",
       "      <td>LL_Pts_C</td>\n",
       "      <td>5</td>\n",
       "      <td>2376</td>\n",
       "      <td>4.00</td>\n",
       "      <td>4.33</td>\n",
       "    </tr>\n",
       "    <tr>\n",
       "      <th>88</th>\n",
       "      <td>FLA</td>\n",
       "      <td>LL_Pts_C</td>\n",
       "      <td>6</td>\n",
       "      <td>2376</td>\n",
       "      <td>5.00</td>\n",
       "      <td>4.17</td>\n",
       "    </tr>\n",
       "    <tr>\n",
       "      <th>89</th>\n",
       "      <td>FLA</td>\n",
       "      <td>LL_Pts_C</td>\n",
       "      <td>7</td>\n",
       "      <td>2395</td>\n",
       "      <td>6.00</td>\n",
       "      <td>4.50</td>\n",
       "    </tr>\n",
       "    <tr>\n",
       "      <th>90</th>\n",
       "      <td>FLA</td>\n",
       "      <td>LL_Pts_C</td>\n",
       "      <td>8</td>\n",
       "      <td>2395</td>\n",
       "      <td>7.00</td>\n",
       "      <td>5.50</td>\n",
       "    </tr>\n",
       "    <tr>\n",
       "      <th>91</th>\n",
       "      <td>NaN</td>\n",
       "      <td>fim_partida</td>\n",
       "      <td>8</td>\n",
       "      <td>2400</td>\n",
       "      <td>7.67</td>\n",
       "      <td>6.33</td>\n",
       "    </tr>\n",
       "  </tbody>\n",
       "</table>\n",
       "<p>92 rows × 6 columns</p>\n",
       "</div>"
      ],
      "text/plain": [
       "   Time    Indicador  pontuacao  Tempo  media_movel_3  media_movel_6\n",
       "0   FLA      2_Pts_C          2     62            NaN            NaN\n",
       "1   FLA      3_Pts_C          5    100            NaN            NaN\n",
       "2   MIN     LL_Pts_C          4    114           3.67            NaN\n",
       "3   MIN     LL_Pts_C          3    114           4.00            NaN\n",
       "4   MIN      2_Pts_C          1    137           2.67            NaN\n",
       "..  ...          ...        ...    ...            ...            ...\n",
       "87  FLA     LL_Pts_C          5   2376           4.00           4.33\n",
       "88  FLA     LL_Pts_C          6   2376           5.00           4.17\n",
       "89  FLA     LL_Pts_C          7   2395           6.00           4.50\n",
       "90  FLA     LL_Pts_C          8   2395           7.00           5.50\n",
       "91  NaN  fim_partida          8   2400           7.67           6.33\n",
       "\n",
       "[92 rows x 6 columns]"
      ]
     },
     "execution_count": 28,
     "metadata": {},
     "output_type": "execute_result"
    }
   ],
   "source": [
    "# Criar um novo dataFrame para todas as datas\n",
    "data = pd.DataFrame()\n",
    "data['Time'] = pontuacao['Time']\n",
    "data['Indicador'] = pontuacao['Indicador']\n",
    "data['pontuacao'] = pontuacao['dif_visitante']\n",
    "data['Tempo'] = pontuacao['Tempo']\n",
    "data['media_movel_3'] = media_movel_3['dif_visitante']\n",
    "data['media_movel_6'] = media_movel_6['dif_visitante']\n",
    "data"
   ]
  },
  {
   "cell_type": "code",
   "execution_count": 29,
   "metadata": {},
   "outputs": [],
   "source": [
    "data[\"diff_pontuacao\"] = data[\"pontuacao\"].diff()\n",
    "data[\"diff_pontuacao\"] = data[\"diff_pontuacao\"].apply(lambda x: abs(x))\n",
    "data.drop(['media_movel_3', 'media_movel_6'], axis=1, inplace=True)"
   ]
  },
  {
   "cell_type": "code",
   "execution_count": 30,
   "metadata": {},
   "outputs": [],
   "source": [
    "# como o primeiro valor some quando fazemos a diff e esse primeiro valor é importante pq é o primeiro ponto, nós adicionamos ele\n",
    "novo_valor = data[\"pontuacao\"][0]\n",
    "data.loc[0, 'diff_pontuacao'] = novo_valor"
   ]
  },
  {
   "cell_type": "code",
   "execution_count": 31,
   "metadata": {},
   "outputs": [],
   "source": [
    "data.reset_index(drop=True, inplace=True)"
   ]
  },
  {
   "cell_type": "code",
   "execution_count": 32,
   "metadata": {},
   "outputs": [
    {
     "data": {
      "text/html": [
       "<div>\n",
       "<style scoped>\n",
       "    .dataframe tbody tr th:only-of-type {\n",
       "        vertical-align: middle;\n",
       "    }\n",
       "\n",
       "    .dataframe tbody tr th {\n",
       "        vertical-align: top;\n",
       "    }\n",
       "\n",
       "    .dataframe thead th {\n",
       "        text-align: right;\n",
       "    }\n",
       "</style>\n",
       "<table border=\"1\" class=\"dataframe\">\n",
       "  <thead>\n",
       "    <tr style=\"text-align: right;\">\n",
       "      <th></th>\n",
       "      <th>Time</th>\n",
       "      <th>Indicador</th>\n",
       "      <th>pontuacao</th>\n",
       "      <th>Tempo</th>\n",
       "      <th>diff_pontuacao</th>\n",
       "    </tr>\n",
       "  </thead>\n",
       "  <tbody>\n",
       "    <tr>\n",
       "      <th>0</th>\n",
       "      <td>FLA</td>\n",
       "      <td>2_Pts_C</td>\n",
       "      <td>2</td>\n",
       "      <td>62</td>\n",
       "      <td>2.0</td>\n",
       "    </tr>\n",
       "    <tr>\n",
       "      <th>1</th>\n",
       "      <td>FLA</td>\n",
       "      <td>3_Pts_C</td>\n",
       "      <td>5</td>\n",
       "      <td>100</td>\n",
       "      <td>3.0</td>\n",
       "    </tr>\n",
       "    <tr>\n",
       "      <th>2</th>\n",
       "      <td>MIN</td>\n",
       "      <td>LL_Pts_C</td>\n",
       "      <td>4</td>\n",
       "      <td>114</td>\n",
       "      <td>1.0</td>\n",
       "    </tr>\n",
       "    <tr>\n",
       "      <th>3</th>\n",
       "      <td>MIN</td>\n",
       "      <td>LL_Pts_C</td>\n",
       "      <td>3</td>\n",
       "      <td>114</td>\n",
       "      <td>1.0</td>\n",
       "    </tr>\n",
       "    <tr>\n",
       "      <th>4</th>\n",
       "      <td>MIN</td>\n",
       "      <td>2_Pts_C</td>\n",
       "      <td>1</td>\n",
       "      <td>137</td>\n",
       "      <td>2.0</td>\n",
       "    </tr>\n",
       "    <tr>\n",
       "      <th>...</th>\n",
       "      <td>...</td>\n",
       "      <td>...</td>\n",
       "      <td>...</td>\n",
       "      <td>...</td>\n",
       "      <td>...</td>\n",
       "    </tr>\n",
       "    <tr>\n",
       "      <th>87</th>\n",
       "      <td>FLA</td>\n",
       "      <td>LL_Pts_C</td>\n",
       "      <td>5</td>\n",
       "      <td>2376</td>\n",
       "      <td>1.0</td>\n",
       "    </tr>\n",
       "    <tr>\n",
       "      <th>88</th>\n",
       "      <td>FLA</td>\n",
       "      <td>LL_Pts_C</td>\n",
       "      <td>6</td>\n",
       "      <td>2376</td>\n",
       "      <td>1.0</td>\n",
       "    </tr>\n",
       "    <tr>\n",
       "      <th>89</th>\n",
       "      <td>FLA</td>\n",
       "      <td>LL_Pts_C</td>\n",
       "      <td>7</td>\n",
       "      <td>2395</td>\n",
       "      <td>1.0</td>\n",
       "    </tr>\n",
       "    <tr>\n",
       "      <th>90</th>\n",
       "      <td>FLA</td>\n",
       "      <td>LL_Pts_C</td>\n",
       "      <td>8</td>\n",
       "      <td>2395</td>\n",
       "      <td>1.0</td>\n",
       "    </tr>\n",
       "    <tr>\n",
       "      <th>91</th>\n",
       "      <td>NaN</td>\n",
       "      <td>fim_partida</td>\n",
       "      <td>8</td>\n",
       "      <td>2400</td>\n",
       "      <td>0.0</td>\n",
       "    </tr>\n",
       "  </tbody>\n",
       "</table>\n",
       "<p>92 rows × 5 columns</p>\n",
       "</div>"
      ],
      "text/plain": [
       "   Time    Indicador  pontuacao  Tempo  diff_pontuacao\n",
       "0   FLA      2_Pts_C          2     62             2.0\n",
       "1   FLA      3_Pts_C          5    100             3.0\n",
       "2   MIN     LL_Pts_C          4    114             1.0\n",
       "3   MIN     LL_Pts_C          3    114             1.0\n",
       "4   MIN      2_Pts_C          1    137             2.0\n",
       "..  ...          ...        ...    ...             ...\n",
       "87  FLA     LL_Pts_C          5   2376             1.0\n",
       "88  FLA     LL_Pts_C          6   2376             1.0\n",
       "89  FLA     LL_Pts_C          7   2395             1.0\n",
       "90  FLA     LL_Pts_C          8   2395             1.0\n",
       "91  NaN  fim_partida          8   2400             0.0\n",
       "\n",
       "[92 rows x 5 columns]"
      ]
     },
     "execution_count": 32,
     "metadata": {},
     "output_type": "execute_result"
    }
   ],
   "source": [
    "data"
   ]
  },
  {
   "cell_type": "code",
   "execution_count": 33,
   "metadata": {},
   "outputs": [],
   "source": [
    "def remove_item(my_list,*args):\n",
    "    deletar = list(args)\n",
    "    for item in deletar:\n",
    "        while item in my_list:\n",
    "            my_list.remove(item)\n",
    "    return my_list"
   ]
  },
  {
   "cell_type": "code",
   "execution_count": 34,
   "metadata": {},
   "outputs": [],
   "source": [
    "flag = -1\n",
    "ultima_linha = []\n",
    "tempo_a_inicio = []\n",
    "tempo_b_inicio = []\n",
    "time_a = []\n",
    "time_b = []\n",
    "soma_a = []\n",
    "soma_b = []\n",
    "nome_time_A = []\n",
    "nome_time_B = []\n",
    "for i in range(len(data)):\n",
    "    if data['Time'][i] == 'FLA':\n",
    "        time_a.append(data['diff_pontuacao'][i])\n",
    "        soma_b.append(sum(time_b))\n",
    "        time_b = []\n",
    "        soma_b = remove_item(soma_b, 0)\n",
    "        if flag != 1:\n",
    "            tempo_a_inicio.append(data['Tempo'][i])\n",
    "            nome_time_A.append(data['Time'][i])\n",
    "            flag = 1\n",
    "        else:\n",
    "            pass\n",
    "    elif data['Time'][i] == 'MIN':\n",
    "        time_b.append(data['diff_pontuacao'][i])\n",
    "        soma_a.append(sum(time_a))\n",
    "        time_a = []\n",
    "        soma_a = remove_item(soma_a, 0)\n",
    "        if flag != 0:\n",
    "            tempo_b_inicio.append(data['Tempo'][i])\n",
    "            nome_time_B.append(data['Time'][i])\n",
    "            flag = 0\n",
    "        else:\n",
    "            pass\n",
    "    else:\n",
    "        ultima_linha = data['Tempo'][i]\n",
    "        soma_b.append(sum(time_b))\n",
    "        soma_a.append(sum(time_a))\n",
    "        soma_a = remove_item(soma_a, 0)\n",
    "        soma_b = remove_item(soma_b, 0)\n",
    "        if len(tempo_a_inicio) < len(tempo_b_inicio):\n",
    "            tempo_a_inicio.append(ultima_linha)\n",
    "            nome_time_A.append(nome_time_A[0])\n",
    "            soma_a.append(np.nan) \n",
    "        else:\n",
    "            tempo_b_inicio.append(ultima_linha)\n",
    "            nome_time_B.append(nome_time_B[0])\n",
    "            soma_b.append(np.nan)           "
   ]
  },
  {
   "cell_type": "code",
   "execution_count": 35,
   "metadata": {},
   "outputs": [],
   "source": [
    "posse_de_bola_A = pd.DataFrame()\n",
    "posse_de_bola_A['Time'] = nome_time_A\n",
    "posse_de_bola_A['Tempo_de_Inicio'] = tempo_a_inicio\n",
    "posse_de_bola_A['Tempo_de_Termino'] = tempo_b_inicio\n",
    "posse_de_bola_A['Pontuacao'] = soma_a"
   ]
  },
  {
   "cell_type": "code",
   "execution_count": 36,
   "metadata": {},
   "outputs": [],
   "source": [
    "# o fim do tempo b é o início do tempo A, pq a troca de bola é alternada \n",
    "fim_b = tempo_a_inicio\n",
    "del(fim_b[0])\n",
    "fim_b.append(np.nan)"
   ]
  },
  {
   "cell_type": "code",
   "execution_count": 37,
   "metadata": {},
   "outputs": [],
   "source": [
    "posse_de_bola_B = pd.DataFrame()\n",
    "posse_de_bola_B['Time'] = nome_time_B\n",
    "posse_de_bola_B['Tempo_de_Termino'] = fim_b\n",
    "posse_de_bola_B['Tempo_de_Inicio'] = tempo_b_inicio\n",
    "posse_de_bola_B['Pontuacao'] = soma_b"
   ]
  },
  {
   "cell_type": "code",
   "execution_count": 38,
   "metadata": {
    "scrolled": true
   },
   "outputs": [],
   "source": [
    "jogoooo = pd.concat([posse_de_bola_A, posse_de_bola_B], ignore_index=True)"
   ]
  },
  {
   "cell_type": "code",
   "execution_count": 39,
   "metadata": {},
   "outputs": [],
   "source": [
    "jogoooo.sort_values(by='Tempo_de_Inicio', ignore_index=True, inplace=True)"
   ]
  },
  {
   "cell_type": "code",
   "execution_count": 40,
   "metadata": {},
   "outputs": [],
   "source": [
    "jogoooo[\"diff_pontuacao\"] = jogoooo[\"Pontuacao\"].diff()"
   ]
  },
  {
   "cell_type": "code",
   "execution_count": 41,
   "metadata": {
    "scrolled": true
   },
   "outputs": [
    {
     "data": {
      "text/html": [
       "<div>\n",
       "<style scoped>\n",
       "    .dataframe tbody tr th:only-of-type {\n",
       "        vertical-align: middle;\n",
       "    }\n",
       "\n",
       "    .dataframe tbody tr th {\n",
       "        vertical-align: top;\n",
       "    }\n",
       "\n",
       "    .dataframe thead th {\n",
       "        text-align: right;\n",
       "    }\n",
       "</style>\n",
       "<table border=\"1\" class=\"dataframe\">\n",
       "  <thead>\n",
       "    <tr style=\"text-align: right;\">\n",
       "      <th></th>\n",
       "      <th>Time</th>\n",
       "      <th>Tempo_de_Inicio</th>\n",
       "      <th>Tempo_de_Termino</th>\n",
       "      <th>Pontuacao</th>\n",
       "      <th>diff_pontuacao</th>\n",
       "    </tr>\n",
       "  </thead>\n",
       "  <tbody>\n",
       "    <tr>\n",
       "      <th>0</th>\n",
       "      <td>FLA</td>\n",
       "      <td>62</td>\n",
       "      <td>114.0</td>\n",
       "      <td>5.0</td>\n",
       "      <td>NaN</td>\n",
       "    </tr>\n",
       "    <tr>\n",
       "      <th>1</th>\n",
       "      <td>MIN</td>\n",
       "      <td>114</td>\n",
       "      <td>153.0</td>\n",
       "      <td>4.0</td>\n",
       "      <td>-1.0</td>\n",
       "    </tr>\n",
       "    <tr>\n",
       "      <th>2</th>\n",
       "      <td>FLA</td>\n",
       "      <td>153</td>\n",
       "      <td>184.0</td>\n",
       "      <td>3.0</td>\n",
       "      <td>-1.0</td>\n",
       "    </tr>\n",
       "    <tr>\n",
       "      <th>3</th>\n",
       "      <td>MIN</td>\n",
       "      <td>184</td>\n",
       "      <td>198.0</td>\n",
       "      <td>2.0</td>\n",
       "      <td>-1.0</td>\n",
       "    </tr>\n",
       "    <tr>\n",
       "      <th>4</th>\n",
       "      <td>FLA</td>\n",
       "      <td>198</td>\n",
       "      <td>220.0</td>\n",
       "      <td>2.0</td>\n",
       "      <td>0.0</td>\n",
       "    </tr>\n",
       "  </tbody>\n",
       "</table>\n",
       "</div>"
      ],
      "text/plain": [
       "  Time  Tempo_de_Inicio  Tempo_de_Termino  Pontuacao  diff_pontuacao\n",
       "0  FLA               62             114.0        5.0             NaN\n",
       "1  MIN              114             153.0        4.0            -1.0\n",
       "2  FLA              153             184.0        3.0            -1.0\n",
       "3  MIN              184             198.0        2.0            -1.0\n",
       "4  FLA              198             220.0        2.0             0.0"
      ]
     },
     "execution_count": 41,
     "metadata": {},
     "output_type": "execute_result"
    }
   ],
   "source": [
    "jogoooo.head()"
   ]
  },
  {
   "cell_type": "code",
   "execution_count": 42,
   "metadata": {},
   "outputs": [],
   "source": [
    "jogoooo.to_csv('tempo2.csv')"
   ]
  },
  {
   "cell_type": "code",
   "execution_count": 43,
   "metadata": {
    "scrolled": true
   },
   "outputs": [],
   "source": [
    "periodos_posteriores = []\n",
    "for i in range(len(jogoooo)):\n",
    "    if jogoooo['Pontuacao'][i] >= 5:\n",
    "        periodo_potencial_a_positivo = 1\n",
    "    else:\n",
    "        if (jogoooo['diff_pontuacao'][i] <= -4) & (jogoooo['Pontuacao'][i] < 3):\n",
    "            periodos_posteriores.append(jogoooo['Tempo_de_Inicio'][i])\n",
    "            if periodo_potencial_a_positivo == 1:\n",
    "                periodo_potencial_a_positivo = 0\n",
    "            elif periodo_potencial_a_positivo != 1:\n",
    "                periodo_potencial_a_positivo = 0"
   ]
  },
  {
   "cell_type": "code",
   "execution_count": 44,
   "metadata": {},
   "outputs": [
    {
     "data": {
      "text/plain": [
       "[2041]"
      ]
     },
     "execution_count": 44,
     "metadata": {},
     "output_type": "execute_result"
    }
   ],
   "source": [
    "periodos_posteriores"
   ]
  },
  {
   "cell_type": "code",
   "execution_count": 45,
   "metadata": {},
   "outputs": [],
   "source": [
    "novo_jogo = jogoooo[~jogoooo['Tempo_de_Inicio'].isin(periodos_posteriores)]\n",
    "novo_jogo.reset_index(inplace=True, drop=True)"
   ]
  },
  {
   "cell_type": "code",
   "execution_count": 46,
   "metadata": {
    "scrolled": true
   },
   "outputs": [
    {
     "data": {
      "text/html": [
       "<div>\n",
       "<style scoped>\n",
       "    .dataframe tbody tr th:only-of-type {\n",
       "        vertical-align: middle;\n",
       "    }\n",
       "\n",
       "    .dataframe tbody tr th {\n",
       "        vertical-align: top;\n",
       "    }\n",
       "\n",
       "    .dataframe thead th {\n",
       "        text-align: right;\n",
       "    }\n",
       "</style>\n",
       "<table border=\"1\" class=\"dataframe\">\n",
       "  <thead>\n",
       "    <tr style=\"text-align: right;\">\n",
       "      <th></th>\n",
       "      <th>Time</th>\n",
       "      <th>Tempo_de_Inicio</th>\n",
       "      <th>Tempo_de_Termino</th>\n",
       "      <th>Pontuacao</th>\n",
       "      <th>diff_pontuacao</th>\n",
       "    </tr>\n",
       "  </thead>\n",
       "  <tbody>\n",
       "    <tr>\n",
       "      <th>0</th>\n",
       "      <td>FLA</td>\n",
       "      <td>62</td>\n",
       "      <td>114.0</td>\n",
       "      <td>5.0</td>\n",
       "      <td>NaN</td>\n",
       "    </tr>\n",
       "    <tr>\n",
       "      <th>1</th>\n",
       "      <td>MIN</td>\n",
       "      <td>114</td>\n",
       "      <td>153.0</td>\n",
       "      <td>4.0</td>\n",
       "      <td>-1.0</td>\n",
       "    </tr>\n",
       "    <tr>\n",
       "      <th>2</th>\n",
       "      <td>FLA</td>\n",
       "      <td>153</td>\n",
       "      <td>184.0</td>\n",
       "      <td>3.0</td>\n",
       "      <td>-1.0</td>\n",
       "    </tr>\n",
       "    <tr>\n",
       "      <th>3</th>\n",
       "      <td>MIN</td>\n",
       "      <td>184</td>\n",
       "      <td>198.0</td>\n",
       "      <td>2.0</td>\n",
       "      <td>-1.0</td>\n",
       "    </tr>\n",
       "    <tr>\n",
       "      <th>4</th>\n",
       "      <td>FLA</td>\n",
       "      <td>198</td>\n",
       "      <td>220.0</td>\n",
       "      <td>2.0</td>\n",
       "      <td>0.0</td>\n",
       "    </tr>\n",
       "  </tbody>\n",
       "</table>\n",
       "</div>"
      ],
      "text/plain": [
       "  Time  Tempo_de_Inicio  Tempo_de_Termino  Pontuacao  diff_pontuacao\n",
       "0  FLA               62             114.0        5.0             NaN\n",
       "1  MIN              114             153.0        4.0            -1.0\n",
       "2  FLA              153             184.0        3.0            -1.0\n",
       "3  MIN              184             198.0        2.0            -1.0\n",
       "4  FLA              198             220.0        2.0             0.0"
      ]
     },
     "execution_count": 46,
     "metadata": {},
     "output_type": "execute_result"
    }
   ],
   "source": [
    "novo_jogo.head()"
   ]
  },
  {
   "cell_type": "code",
   "execution_count": 47,
   "metadata": {},
   "outputs": [],
   "source": [
    "flag = -1\n",
    "tempo_a_peridodo_inicial = []\n",
    "tempo_b_peridodo_inicial = []\n",
    "tempo_a_peridodo_final = []\n",
    "tempo_b_peridodo_final = []\n",
    "pontuação_a = []\n",
    "pontuação_b = []\n",
    "nome_time_A = []\n",
    "nome_time_B = []\n",
    "# como o time do flamengo começa, o time de minas não apresenta o primeiro valor\n",
    "# por causa disso é acrescentado um valor 0 que não existe \n",
    "potencial_final_periodo_a = 0\n",
    "potencial_final_periodo_b = 0\n",
    "\n",
    "for i in range(len(novo_jogo)):\n",
    "    if novo_jogo['Time'][i] == 'FLA':\n",
    "        if flag != 1:\n",
    "            potencial_final_periodo_a = novo_jogo['Tempo_de_Termino'][i]\n",
    "            tempo_a_peridodo_inicial.append(novo_jogo['Tempo_de_Inicio'][i])\n",
    "            nome_time_A.append(novo_jogo['Time'][i])\n",
    "            pontuação_a.append(novo_jogo['Pontuacao'][i])\n",
    "            ##################################################################\n",
    "            tempo_b_peridodo_final.append(potencial_final_periodo_b)\n",
    "            flag = 1\n",
    "        else:\n",
    "            potencial_final_periodo_a = novo_jogo['Tempo_de_Termino'][i]\n",
    "            flag = 1\n",
    "    elif novo_jogo['Time'][i] == 'MIN':\n",
    "        if flag != 0:\n",
    "            tempo_a_peridodo_final.append(potencial_final_periodo_a)\n",
    "            ############################################################\n",
    "            potencial_final_periodo_b = novo_jogo['Tempo_de_Termino'][i]\n",
    "            tempo_b_peridodo_inicial.append(novo_jogo['Tempo_de_Inicio'][i])\n",
    "            nome_time_B.append(novo_jogo['Time'][i])\n",
    "            pontuação_b.append(novo_jogo['Pontuacao'][i])\n",
    "            flag = 0\n",
    "        else:\n",
    "            potencial_final_periodo_b = novo_jogo['Tempo_de_Termino'][i]\n",
    "            flag = 0"
   ]
  },
  {
   "cell_type": "code",
   "execution_count": 48,
   "metadata": {},
   "outputs": [],
   "source": [
    "periodos_A = pd.DataFrame()\n",
    "periodos_A['Time'] = nome_time_A\n",
    "periodos_A['Tempo_de_Inicio'] = tempo_a_peridodo_inicial\n",
    "periodos_A['Tempo_de_Termino'] = tempo_a_peridodo_final\n",
    "periodos_A['Pontuacao'] = pontuação_a"
   ]
  },
  {
   "cell_type": "code",
   "execution_count": 49,
   "metadata": {},
   "outputs": [
    {
     "data": {
      "text/html": [
       "<div>\n",
       "<style scoped>\n",
       "    .dataframe tbody tr th:only-of-type {\n",
       "        vertical-align: middle;\n",
       "    }\n",
       "\n",
       "    .dataframe tbody tr th {\n",
       "        vertical-align: top;\n",
       "    }\n",
       "\n",
       "    .dataframe thead th {\n",
       "        text-align: right;\n",
       "    }\n",
       "</style>\n",
       "<table border=\"1\" class=\"dataframe\">\n",
       "  <thead>\n",
       "    <tr style=\"text-align: right;\">\n",
       "      <th></th>\n",
       "      <th>Time</th>\n",
       "      <th>Tempo_de_Inicio</th>\n",
       "      <th>Tempo_de_Termino</th>\n",
       "      <th>Pontuacao</th>\n",
       "    </tr>\n",
       "  </thead>\n",
       "  <tbody>\n",
       "    <tr>\n",
       "      <th>0</th>\n",
       "      <td>FLA</td>\n",
       "      <td>62</td>\n",
       "      <td>114.0</td>\n",
       "      <td>5.0</td>\n",
       "    </tr>\n",
       "    <tr>\n",
       "      <th>1</th>\n",
       "      <td>FLA</td>\n",
       "      <td>153</td>\n",
       "      <td>184.0</td>\n",
       "      <td>3.0</td>\n",
       "    </tr>\n",
       "    <tr>\n",
       "      <th>2</th>\n",
       "      <td>FLA</td>\n",
       "      <td>198</td>\n",
       "      <td>220.0</td>\n",
       "      <td>2.0</td>\n",
       "    </tr>\n",
       "    <tr>\n",
       "      <th>3</th>\n",
       "      <td>FLA</td>\n",
       "      <td>233</td>\n",
       "      <td>318.0</td>\n",
       "      <td>4.0</td>\n",
       "    </tr>\n",
       "    <tr>\n",
       "      <th>4</th>\n",
       "      <td>FLA</td>\n",
       "      <td>328</td>\n",
       "      <td>390.0</td>\n",
       "      <td>5.0</td>\n",
       "    </tr>\n",
       "  </tbody>\n",
       "</table>\n",
       "</div>"
      ],
      "text/plain": [
       "  Time  Tempo_de_Inicio  Tempo_de_Termino  Pontuacao\n",
       "0  FLA               62             114.0        5.0\n",
       "1  FLA              153             184.0        3.0\n",
       "2  FLA              198             220.0        2.0\n",
       "3  FLA              233             318.0        4.0\n",
       "4  FLA              328             390.0        5.0"
      ]
     },
     "execution_count": 49,
     "metadata": {},
     "output_type": "execute_result"
    }
   ],
   "source": [
    "periodos_A.head()"
   ]
  },
  {
   "cell_type": "code",
   "execution_count": 50,
   "metadata": {},
   "outputs": [],
   "source": [
    "# o fim do tempo b é o início do tempo A, pq a troca de bola é alternada \n",
    "fim_b = tempo_b_peridodo_final\n",
    "del(fim_b[0])\n",
    "fim_b.append(np.nan)"
   ]
  },
  {
   "cell_type": "code",
   "execution_count": 51,
   "metadata": {},
   "outputs": [],
   "source": [
    "periodos_B = pd.DataFrame()\n",
    "periodos_B['Time'] = nome_time_B\n",
    "periodos_B['Tempo_de_Inicio'] = tempo_b_peridodo_inicial\n",
    "periodos_B['Tempo_de_Termino'] = tempo_b_peridodo_final\n",
    "periodos_B['Pontuacao'] = pontuação_b"
   ]
  },
  {
   "cell_type": "code",
   "execution_count": 52,
   "metadata": {},
   "outputs": [
    {
     "data": {
      "text/html": [
       "<div>\n",
       "<style scoped>\n",
       "    .dataframe tbody tr th:only-of-type {\n",
       "        vertical-align: middle;\n",
       "    }\n",
       "\n",
       "    .dataframe tbody tr th {\n",
       "        vertical-align: top;\n",
       "    }\n",
       "\n",
       "    .dataframe thead th {\n",
       "        text-align: right;\n",
       "    }\n",
       "</style>\n",
       "<table border=\"1\" class=\"dataframe\">\n",
       "  <thead>\n",
       "    <tr style=\"text-align: right;\">\n",
       "      <th></th>\n",
       "      <th>Time</th>\n",
       "      <th>Tempo_de_Inicio</th>\n",
       "      <th>Tempo_de_Termino</th>\n",
       "      <th>Pontuacao</th>\n",
       "    </tr>\n",
       "  </thead>\n",
       "  <tbody>\n",
       "    <tr>\n",
       "      <th>0</th>\n",
       "      <td>MIN</td>\n",
       "      <td>114</td>\n",
       "      <td>153.0</td>\n",
       "      <td>4.0</td>\n",
       "    </tr>\n",
       "    <tr>\n",
       "      <th>1</th>\n",
       "      <td>MIN</td>\n",
       "      <td>184</td>\n",
       "      <td>198.0</td>\n",
       "      <td>2.0</td>\n",
       "    </tr>\n",
       "    <tr>\n",
       "      <th>2</th>\n",
       "      <td>MIN</td>\n",
       "      <td>220</td>\n",
       "      <td>233.0</td>\n",
       "      <td>3.0</td>\n",
       "    </tr>\n",
       "    <tr>\n",
       "      <th>3</th>\n",
       "      <td>MIN</td>\n",
       "      <td>318</td>\n",
       "      <td>328.0</td>\n",
       "      <td>3.0</td>\n",
       "    </tr>\n",
       "    <tr>\n",
       "      <th>4</th>\n",
       "      <td>MIN</td>\n",
       "      <td>390</td>\n",
       "      <td>404.0</td>\n",
       "      <td>3.0</td>\n",
       "    </tr>\n",
       "  </tbody>\n",
       "</table>\n",
       "</div>"
      ],
      "text/plain": [
       "  Time  Tempo_de_Inicio  Tempo_de_Termino  Pontuacao\n",
       "0  MIN              114             153.0        4.0\n",
       "1  MIN              184             198.0        2.0\n",
       "2  MIN              220             233.0        3.0\n",
       "3  MIN              318             328.0        3.0\n",
       "4  MIN              390             404.0        3.0"
      ]
     },
     "execution_count": 52,
     "metadata": {},
     "output_type": "execute_result"
    }
   ],
   "source": [
    "periodos_B.head()"
   ]
  },
  {
   "cell_type": "code",
   "execution_count": 53,
   "metadata": {},
   "outputs": [],
   "source": [
    "periodo = pd.concat([periodos_A, periodos_B], ignore_index=True)"
   ]
  },
  {
   "cell_type": "code",
   "execution_count": 54,
   "metadata": {},
   "outputs": [],
   "source": [
    "periodo.sort_values(by='Tempo_de_Inicio', ignore_index=True, inplace=True)"
   ]
  },
  {
   "cell_type": "code",
   "execution_count": 55,
   "metadata": {
    "scrolled": true
   },
   "outputs": [
    {
     "data": {
      "text/html": [
       "<div>\n",
       "<style scoped>\n",
       "    .dataframe tbody tr th:only-of-type {\n",
       "        vertical-align: middle;\n",
       "    }\n",
       "\n",
       "    .dataframe tbody tr th {\n",
       "        vertical-align: top;\n",
       "    }\n",
       "\n",
       "    .dataframe thead th {\n",
       "        text-align: right;\n",
       "    }\n",
       "</style>\n",
       "<table border=\"1\" class=\"dataframe\">\n",
       "  <thead>\n",
       "    <tr style=\"text-align: right;\">\n",
       "      <th></th>\n",
       "      <th>Time</th>\n",
       "      <th>Tempo_de_Inicio</th>\n",
       "      <th>Tempo_de_Termino</th>\n",
       "      <th>Pontuacao</th>\n",
       "    </tr>\n",
       "  </thead>\n",
       "  <tbody>\n",
       "    <tr>\n",
       "      <th>0</th>\n",
       "      <td>FLA</td>\n",
       "      <td>62</td>\n",
       "      <td>114.0</td>\n",
       "      <td>5.0</td>\n",
       "    </tr>\n",
       "    <tr>\n",
       "      <th>1</th>\n",
       "      <td>MIN</td>\n",
       "      <td>114</td>\n",
       "      <td>153.0</td>\n",
       "      <td>4.0</td>\n",
       "    </tr>\n",
       "    <tr>\n",
       "      <th>2</th>\n",
       "      <td>FLA</td>\n",
       "      <td>153</td>\n",
       "      <td>184.0</td>\n",
       "      <td>3.0</td>\n",
       "    </tr>\n",
       "    <tr>\n",
       "      <th>3</th>\n",
       "      <td>MIN</td>\n",
       "      <td>184</td>\n",
       "      <td>198.0</td>\n",
       "      <td>2.0</td>\n",
       "    </tr>\n",
       "    <tr>\n",
       "      <th>4</th>\n",
       "      <td>FLA</td>\n",
       "      <td>198</td>\n",
       "      <td>220.0</td>\n",
       "      <td>2.0</td>\n",
       "    </tr>\n",
       "    <tr>\n",
       "      <th>5</th>\n",
       "      <td>MIN</td>\n",
       "      <td>220</td>\n",
       "      <td>233.0</td>\n",
       "      <td>3.0</td>\n",
       "    </tr>\n",
       "    <tr>\n",
       "      <th>6</th>\n",
       "      <td>FLA</td>\n",
       "      <td>233</td>\n",
       "      <td>318.0</td>\n",
       "      <td>4.0</td>\n",
       "    </tr>\n",
       "    <tr>\n",
       "      <th>7</th>\n",
       "      <td>MIN</td>\n",
       "      <td>318</td>\n",
       "      <td>328.0</td>\n",
       "      <td>3.0</td>\n",
       "    </tr>\n",
       "    <tr>\n",
       "      <th>8</th>\n",
       "      <td>FLA</td>\n",
       "      <td>328</td>\n",
       "      <td>390.0</td>\n",
       "      <td>5.0</td>\n",
       "    </tr>\n",
       "    <tr>\n",
       "      <th>9</th>\n",
       "      <td>MIN</td>\n",
       "      <td>390</td>\n",
       "      <td>404.0</td>\n",
       "      <td>3.0</td>\n",
       "    </tr>\n",
       "    <tr>\n",
       "      <th>10</th>\n",
       "      <td>FLA</td>\n",
       "      <td>404</td>\n",
       "      <td>490.0</td>\n",
       "      <td>7.0</td>\n",
       "    </tr>\n",
       "    <tr>\n",
       "      <th>11</th>\n",
       "      <td>MIN</td>\n",
       "      <td>490</td>\n",
       "      <td>514.0</td>\n",
       "      <td>3.0</td>\n",
       "    </tr>\n",
       "    <tr>\n",
       "      <th>12</th>\n",
       "      <td>FLA</td>\n",
       "      <td>514</td>\n",
       "      <td>526.0</td>\n",
       "      <td>2.0</td>\n",
       "    </tr>\n",
       "    <tr>\n",
       "      <th>13</th>\n",
       "      <td>MIN</td>\n",
       "      <td>526</td>\n",
       "      <td>535.0</td>\n",
       "      <td>2.0</td>\n",
       "    </tr>\n",
       "    <tr>\n",
       "      <th>14</th>\n",
       "      <td>FLA</td>\n",
       "      <td>535</td>\n",
       "      <td>804.0</td>\n",
       "      <td>10.0</td>\n",
       "    </tr>\n",
       "    <tr>\n",
       "      <th>15</th>\n",
       "      <td>MIN</td>\n",
       "      <td>804</td>\n",
       "      <td>887.0</td>\n",
       "      <td>3.0</td>\n",
       "    </tr>\n",
       "    <tr>\n",
       "      <th>16</th>\n",
       "      <td>FLA</td>\n",
       "      <td>887</td>\n",
       "      <td>916.0</td>\n",
       "      <td>2.0</td>\n",
       "    </tr>\n",
       "    <tr>\n",
       "      <th>17</th>\n",
       "      <td>MIN</td>\n",
       "      <td>916</td>\n",
       "      <td>935.0</td>\n",
       "      <td>3.0</td>\n",
       "    </tr>\n",
       "    <tr>\n",
       "      <th>18</th>\n",
       "      <td>FLA</td>\n",
       "      <td>935</td>\n",
       "      <td>955.0</td>\n",
       "      <td>3.0</td>\n",
       "    </tr>\n",
       "    <tr>\n",
       "      <th>19</th>\n",
       "      <td>MIN</td>\n",
       "      <td>955</td>\n",
       "      <td>1079.0</td>\n",
       "      <td>7.0</td>\n",
       "    </tr>\n",
       "    <tr>\n",
       "      <th>20</th>\n",
       "      <td>FLA</td>\n",
       "      <td>1079</td>\n",
       "      <td>1091.0</td>\n",
       "      <td>3.0</td>\n",
       "    </tr>\n",
       "    <tr>\n",
       "      <th>21</th>\n",
       "      <td>MIN</td>\n",
       "      <td>1091</td>\n",
       "      <td>1103.0</td>\n",
       "      <td>1.0</td>\n",
       "    </tr>\n",
       "    <tr>\n",
       "      <th>22</th>\n",
       "      <td>FLA</td>\n",
       "      <td>1103</td>\n",
       "      <td>1153.0</td>\n",
       "      <td>4.0</td>\n",
       "    </tr>\n",
       "    <tr>\n",
       "      <th>23</th>\n",
       "      <td>MIN</td>\n",
       "      <td>1153</td>\n",
       "      <td>1197.0</td>\n",
       "      <td>4.0</td>\n",
       "    </tr>\n",
       "    <tr>\n",
       "      <th>24</th>\n",
       "      <td>FLA</td>\n",
       "      <td>1197</td>\n",
       "      <td>1260.0</td>\n",
       "      <td>2.0</td>\n",
       "    </tr>\n",
       "    <tr>\n",
       "      <th>25</th>\n",
       "      <td>MIN</td>\n",
       "      <td>1260</td>\n",
       "      <td>1277.0</td>\n",
       "      <td>2.0</td>\n",
       "    </tr>\n",
       "    <tr>\n",
       "      <th>26</th>\n",
       "      <td>FLA</td>\n",
       "      <td>1277</td>\n",
       "      <td>1299.0</td>\n",
       "      <td>2.0</td>\n",
       "    </tr>\n",
       "    <tr>\n",
       "      <th>27</th>\n",
       "      <td>MIN</td>\n",
       "      <td>1299</td>\n",
       "      <td>1349.0</td>\n",
       "      <td>3.0</td>\n",
       "    </tr>\n",
       "    <tr>\n",
       "      <th>28</th>\n",
       "      <td>FLA</td>\n",
       "      <td>1349</td>\n",
       "      <td>1422.0</td>\n",
       "      <td>2.0</td>\n",
       "    </tr>\n",
       "    <tr>\n",
       "      <th>29</th>\n",
       "      <td>MIN</td>\n",
       "      <td>1422</td>\n",
       "      <td>1438.0</td>\n",
       "      <td>2.0</td>\n",
       "    </tr>\n",
       "    <tr>\n",
       "      <th>30</th>\n",
       "      <td>FLA</td>\n",
       "      <td>1438</td>\n",
       "      <td>1520.0</td>\n",
       "      <td>5.0</td>\n",
       "    </tr>\n",
       "    <tr>\n",
       "      <th>31</th>\n",
       "      <td>MIN</td>\n",
       "      <td>1520</td>\n",
       "      <td>1539.0</td>\n",
       "      <td>2.0</td>\n",
       "    </tr>\n",
       "    <tr>\n",
       "      <th>32</th>\n",
       "      <td>FLA</td>\n",
       "      <td>1539</td>\n",
       "      <td>1558.0</td>\n",
       "      <td>3.0</td>\n",
       "    </tr>\n",
       "    <tr>\n",
       "      <th>33</th>\n",
       "      <td>MIN</td>\n",
       "      <td>1558</td>\n",
       "      <td>1574.0</td>\n",
       "      <td>2.0</td>\n",
       "    </tr>\n",
       "    <tr>\n",
       "      <th>34</th>\n",
       "      <td>FLA</td>\n",
       "      <td>1574</td>\n",
       "      <td>1600.0</td>\n",
       "      <td>3.0</td>\n",
       "    </tr>\n",
       "    <tr>\n",
       "      <th>35</th>\n",
       "      <td>MIN</td>\n",
       "      <td>1600</td>\n",
       "      <td>1619.0</td>\n",
       "      <td>2.0</td>\n",
       "    </tr>\n",
       "    <tr>\n",
       "      <th>36</th>\n",
       "      <td>FLA</td>\n",
       "      <td>1619</td>\n",
       "      <td>1641.0</td>\n",
       "      <td>2.0</td>\n",
       "    </tr>\n",
       "    <tr>\n",
       "      <th>37</th>\n",
       "      <td>MIN</td>\n",
       "      <td>1641</td>\n",
       "      <td>1662.0</td>\n",
       "      <td>2.0</td>\n",
       "    </tr>\n",
       "    <tr>\n",
       "      <th>38</th>\n",
       "      <td>FLA</td>\n",
       "      <td>1662</td>\n",
       "      <td>1685.0</td>\n",
       "      <td>2.0</td>\n",
       "    </tr>\n",
       "    <tr>\n",
       "      <th>39</th>\n",
       "      <td>MIN</td>\n",
       "      <td>1685</td>\n",
       "      <td>1732.0</td>\n",
       "      <td>2.0</td>\n",
       "    </tr>\n",
       "    <tr>\n",
       "      <th>40</th>\n",
       "      <td>FLA</td>\n",
       "      <td>1732</td>\n",
       "      <td>1753.0</td>\n",
       "      <td>3.0</td>\n",
       "    </tr>\n",
       "    <tr>\n",
       "      <th>41</th>\n",
       "      <td>MIN</td>\n",
       "      <td>1753</td>\n",
       "      <td>1782.0</td>\n",
       "      <td>3.0</td>\n",
       "    </tr>\n",
       "    <tr>\n",
       "      <th>42</th>\n",
       "      <td>FLA</td>\n",
       "      <td>1782</td>\n",
       "      <td>1818.0</td>\n",
       "      <td>2.0</td>\n",
       "    </tr>\n",
       "    <tr>\n",
       "      <th>43</th>\n",
       "      <td>MIN</td>\n",
       "      <td>1818</td>\n",
       "      <td>1829.0</td>\n",
       "      <td>2.0</td>\n",
       "    </tr>\n",
       "    <tr>\n",
       "      <th>44</th>\n",
       "      <td>FLA</td>\n",
       "      <td>1829</td>\n",
       "      <td>1860.0</td>\n",
       "      <td>3.0</td>\n",
       "    </tr>\n",
       "    <tr>\n",
       "      <th>45</th>\n",
       "      <td>MIN</td>\n",
       "      <td>1860</td>\n",
       "      <td>1877.0</td>\n",
       "      <td>1.0</td>\n",
       "    </tr>\n",
       "    <tr>\n",
       "      <th>46</th>\n",
       "      <td>FLA</td>\n",
       "      <td>1877</td>\n",
       "      <td>1934.0</td>\n",
       "      <td>2.0</td>\n",
       "    </tr>\n",
       "    <tr>\n",
       "      <th>47</th>\n",
       "      <td>MIN</td>\n",
       "      <td>1934</td>\n",
       "      <td>1945.0</td>\n",
       "      <td>1.0</td>\n",
       "    </tr>\n",
       "    <tr>\n",
       "      <th>48</th>\n",
       "      <td>FLA</td>\n",
       "      <td>1945</td>\n",
       "      <td>1961.0</td>\n",
       "      <td>2.0</td>\n",
       "    </tr>\n",
       "    <tr>\n",
       "      <th>49</th>\n",
       "      <td>MIN</td>\n",
       "      <td>1961</td>\n",
       "      <td>2145.0</td>\n",
       "      <td>7.0</td>\n",
       "    </tr>\n",
       "    <tr>\n",
       "      <th>50</th>\n",
       "      <td>FLA</td>\n",
       "      <td>2145</td>\n",
       "      <td>2195.0</td>\n",
       "      <td>2.0</td>\n",
       "    </tr>\n",
       "    <tr>\n",
       "      <th>51</th>\n",
       "      <td>MIN</td>\n",
       "      <td>2195</td>\n",
       "      <td>2330.0</td>\n",
       "      <td>11.0</td>\n",
       "    </tr>\n",
       "    <tr>\n",
       "      <th>52</th>\n",
       "      <td>FLA</td>\n",
       "      <td>2330</td>\n",
       "      <td>2400.0</td>\n",
       "      <td>6.0</td>\n",
       "    </tr>\n",
       "    <tr>\n",
       "      <th>53</th>\n",
       "      <td>MIN</td>\n",
       "      <td>2400</td>\n",
       "      <td>NaN</td>\n",
       "      <td>NaN</td>\n",
       "    </tr>\n",
       "  </tbody>\n",
       "</table>\n",
       "</div>"
      ],
      "text/plain": [
       "   Time  Tempo_de_Inicio  Tempo_de_Termino  Pontuacao\n",
       "0   FLA               62             114.0        5.0\n",
       "1   MIN              114             153.0        4.0\n",
       "2   FLA              153             184.0        3.0\n",
       "3   MIN              184             198.0        2.0\n",
       "4   FLA              198             220.0        2.0\n",
       "5   MIN              220             233.0        3.0\n",
       "6   FLA              233             318.0        4.0\n",
       "7   MIN              318             328.0        3.0\n",
       "8   FLA              328             390.0        5.0\n",
       "9   MIN              390             404.0        3.0\n",
       "10  FLA              404             490.0        7.0\n",
       "11  MIN              490             514.0        3.0\n",
       "12  FLA              514             526.0        2.0\n",
       "13  MIN              526             535.0        2.0\n",
       "14  FLA              535             804.0       10.0\n",
       "15  MIN              804             887.0        3.0\n",
       "16  FLA              887             916.0        2.0\n",
       "17  MIN              916             935.0        3.0\n",
       "18  FLA              935             955.0        3.0\n",
       "19  MIN              955            1079.0        7.0\n",
       "20  FLA             1079            1091.0        3.0\n",
       "21  MIN             1091            1103.0        1.0\n",
       "22  FLA             1103            1153.0        4.0\n",
       "23  MIN             1153            1197.0        4.0\n",
       "24  FLA             1197            1260.0        2.0\n",
       "25  MIN             1260            1277.0        2.0\n",
       "26  FLA             1277            1299.0        2.0\n",
       "27  MIN             1299            1349.0        3.0\n",
       "28  FLA             1349            1422.0        2.0\n",
       "29  MIN             1422            1438.0        2.0\n",
       "30  FLA             1438            1520.0        5.0\n",
       "31  MIN             1520            1539.0        2.0\n",
       "32  FLA             1539            1558.0        3.0\n",
       "33  MIN             1558            1574.0        2.0\n",
       "34  FLA             1574            1600.0        3.0\n",
       "35  MIN             1600            1619.0        2.0\n",
       "36  FLA             1619            1641.0        2.0\n",
       "37  MIN             1641            1662.0        2.0\n",
       "38  FLA             1662            1685.0        2.0\n",
       "39  MIN             1685            1732.0        2.0\n",
       "40  FLA             1732            1753.0        3.0\n",
       "41  MIN             1753            1782.0        3.0\n",
       "42  FLA             1782            1818.0        2.0\n",
       "43  MIN             1818            1829.0        2.0\n",
       "44  FLA             1829            1860.0        3.0\n",
       "45  MIN             1860            1877.0        1.0\n",
       "46  FLA             1877            1934.0        2.0\n",
       "47  MIN             1934            1945.0        1.0\n",
       "48  FLA             1945            1961.0        2.0\n",
       "49  MIN             1961            2145.0        7.0\n",
       "50  FLA             2145            2195.0        2.0\n",
       "51  MIN             2195            2330.0       11.0\n",
       "52  FLA             2330            2400.0        6.0\n",
       "53  MIN             2400               NaN        NaN"
      ]
     },
     "execution_count": 55,
     "metadata": {},
     "output_type": "execute_result"
    }
   ],
   "source": [
    "periodo"
   ]
  },
  {
   "cell_type": "code",
   "execution_count": 56,
   "metadata": {},
   "outputs": [],
   "source": [
    "final = periodo.loc[(periodo['Pontuacao'] >=5) & (periodo['Time'] == 'FLA')]"
   ]
  },
  {
   "cell_type": "code",
   "execution_count": 57,
   "metadata": {},
   "outputs": [
    {
     "data": {
      "text/html": [
       "<div>\n",
       "<style scoped>\n",
       "    .dataframe tbody tr th:only-of-type {\n",
       "        vertical-align: middle;\n",
       "    }\n",
       "\n",
       "    .dataframe tbody tr th {\n",
       "        vertical-align: top;\n",
       "    }\n",
       "\n",
       "    .dataframe thead th {\n",
       "        text-align: right;\n",
       "    }\n",
       "</style>\n",
       "<table border=\"1\" class=\"dataframe\">\n",
       "  <thead>\n",
       "    <tr style=\"text-align: right;\">\n",
       "      <th></th>\n",
       "      <th>Time</th>\n",
       "      <th>Tempo_de_Inicio</th>\n",
       "      <th>Tempo_de_Termino</th>\n",
       "      <th>Pontuacao</th>\n",
       "    </tr>\n",
       "  </thead>\n",
       "  <tbody>\n",
       "    <tr>\n",
       "      <th>0</th>\n",
       "      <td>FLA</td>\n",
       "      <td>62</td>\n",
       "      <td>114.0</td>\n",
       "      <td>5.0</td>\n",
       "    </tr>\n",
       "    <tr>\n",
       "      <th>8</th>\n",
       "      <td>FLA</td>\n",
       "      <td>328</td>\n",
       "      <td>390.0</td>\n",
       "      <td>5.0</td>\n",
       "    </tr>\n",
       "    <tr>\n",
       "      <th>10</th>\n",
       "      <td>FLA</td>\n",
       "      <td>404</td>\n",
       "      <td>490.0</td>\n",
       "      <td>7.0</td>\n",
       "    </tr>\n",
       "    <tr>\n",
       "      <th>14</th>\n",
       "      <td>FLA</td>\n",
       "      <td>535</td>\n",
       "      <td>804.0</td>\n",
       "      <td>10.0</td>\n",
       "    </tr>\n",
       "    <tr>\n",
       "      <th>30</th>\n",
       "      <td>FLA</td>\n",
       "      <td>1438</td>\n",
       "      <td>1520.0</td>\n",
       "      <td>5.0</td>\n",
       "    </tr>\n",
       "    <tr>\n",
       "      <th>52</th>\n",
       "      <td>FLA</td>\n",
       "      <td>2330</td>\n",
       "      <td>2400.0</td>\n",
       "      <td>6.0</td>\n",
       "    </tr>\n",
       "  </tbody>\n",
       "</table>\n",
       "</div>"
      ],
      "text/plain": [
       "   Time  Tempo_de_Inicio  Tempo_de_Termino  Pontuacao\n",
       "0   FLA               62             114.0        5.0\n",
       "8   FLA              328             390.0        5.0\n",
       "10  FLA              404             490.0        7.0\n",
       "14  FLA              535             804.0       10.0\n",
       "30  FLA             1438            1520.0        5.0\n",
       "52  FLA             2330            2400.0        6.0"
      ]
     },
     "execution_count": 57,
     "metadata": {},
     "output_type": "execute_result"
    }
   ],
   "source": [
    "final"
   ]
  },
  {
   "cell_type": "code",
   "execution_count": 58,
   "metadata": {},
   "outputs": [],
   "source": [
    "final_i = list(final['Tempo_de_Inicio'])\n",
    "final_f = list(final['Tempo_de_Termino'])"
   ]
  },
  {
   "cell_type": "code",
   "execution_count": 59,
   "metadata": {},
   "outputs": [
    {
     "data": {
      "text/plain": [
       "[62, 328, 404, 535, 1438, 2330]"
      ]
     },
     "execution_count": 59,
     "metadata": {},
     "output_type": "execute_result"
    }
   ],
   "source": [
    "final_i"
   ]
  },
  {
   "cell_type": "code",
   "execution_count": 60,
   "metadata": {},
   "outputs": [
    {
     "data": {
      "image/png": "[encoded data removed]",
      "text/plain": [
       "<Figure size 1080x360 with 1 Axes>"
      ]
     },
     "metadata": {
      "needs_background": "light"
     },
     "output_type": "display_data"
    }
   ],
   "source": [
    "plt.figure(figsize=(15,5))\n",
    "plt.plot(pontuacao['Tempo'], pontuacao['dif_visitante'], label = 'Jogo')\n",
    "plt.xlabel('Tempo de Jogo em Segundos')\n",
    "plt.ylabel('Diferença do Placar')\n",
    "plt.legend(loc='upper left')\n",
    "for x in final_i:\n",
    "    plt.axvline(x, color='red', label=pontuacao.index, linestyle='--', alpha=0.5)\n",
    "for x in final_f:\n",
    "    plt.axvline(x, color='green', label=pontuacao.index, linestyle='--', alpha=0.5)"
   ]
  },
  {
   "cell_type": "code",
   "execution_count": null,
   "metadata": {},
   "outputs": [],
   "source": []
  },
  {
   "cell_type": "code",
   "execution_count": 61,
   "metadata": {},
   "outputs": [
    {
     "ename": "NameError",
     "evalue": "name 'aaa' is not defined",
     "output_type": "error",
     "traceback": [
      "\u001b[1;31m---------------------------------------------------------------------------\u001b[0m",
      "\u001b[1;31mNameError\u001b[0m                                 Traceback (most recent call last)",
      "\u001b[1;32m<ipython-input-61-972a1a11f199>\u001b[0m in \u001b[0;36m<module>\u001b[1;34m\u001b[0m\n\u001b[1;32m----> 1\u001b[1;33m \u001b[0maaa\u001b[0m\u001b[1;33m\u001b[0m\u001b[1;33m\u001b[0m\u001b[0m\n\u001b[0m",
      "\u001b[1;31mNameError\u001b[0m: name 'aaa' is not defined"
     ]
    }
   ],
   "source": [
    "aaa"
   ]
  },
  {
   "cell_type": "code",
   "execution_count": null,
   "metadata": {},
   "outputs": [],
   "source": []
  },
  {
   "cell_type": "code",
   "execution_count": null,
   "metadata": {},
   "outputs": [],
   "source": []
  },
  {
   "cell_type": "code",
   "execution_count": null,
   "metadata": {},
   "outputs": [],
   "source": []
  },
  {
   "cell_type": "code",
   "execution_count": null,
   "metadata": {},
   "outputs": [],
   "source": [
    "soma_a = []\n",
    "time_a = []\n",
    "time_b = []\n",
    "soma_b = []\n",
    "for i in range(len(data)):\n",
    "    if jogoooo['Time'][i] == 'FLA':\n",
    "        time_a.append(data['pontuacao'][i])\n",
    "        soma_b.append(sum(time_b))\n",
    "        time_b = []\n",
    "        soma_b = remove_item(soma_b, 0)\n",
    "    elif jogoooo['Time'][i] == 'MIN':\n",
    "        time_b.append(data['pontuacao'][i])\n",
    "        soma_a.append(sum(time_a))\n",
    "        time_a = []\n",
    "        soma_a = remove_item(soma_a, 0)\n",
    "    else:\n",
    "        soma_b.append(sum(time_b))\n",
    "        soma_a.append(sum(time_a))\n",
    "        soma_a = remove_item(soma_a, 0)\n",
    "        soma_b = remove_item(soma_b, 0)"
   ]
  },
  {
   "cell_type": "code",
   "execution_count": null,
   "metadata": {},
   "outputs": [],
   "source": []
  },
  {
   "cell_type": "code",
   "execution_count": null,
   "metadata": {},
   "outputs": [],
   "source": []
  },
  {
   "cell_type": "code",
   "execution_count": null,
   "metadata": {},
   "outputs": [],
   "source": []
  },
  {
   "cell_type": "code",
   "execution_count": null,
   "metadata": {},
   "outputs": [],
   "source": []
  },
  {
   "cell_type": "code",
   "execution_count": null,
   "metadata": {},
   "outputs": [],
   "source": []
  },
  {
   "cell_type": "code",
   "execution_count": null,
   "metadata": {},
   "outputs": [],
   "source": []
  },
  {
   "cell_type": "code",
   "execution_count": null,
   "metadata": {},
   "outputs": [],
   "source": [
    "len(soma_a)"
   ]
  },
  {
   "cell_type": "code",
   "execution_count": null,
   "metadata": {},
   "outputs": [],
   "source": [
    "data.to_csv('tempo2.csv')"
   ]
  },
  {
   "cell_type": "code",
   "execution_count": null,
   "metadata": {},
   "outputs": [],
   "source": [
    "# Criar uma função que sinaliza quando tem um período positivo e negativo na diferença do placar"
   ]
  },
  {
   "cell_type": "code",
   "execution_count": null,
   "metadata": {},
   "outputs": [],
   "source": [
    "def positivo_negativo(data):\n",
    "    periodo_positivo = []\n",
    "    periodo_negativo = []\n",
    "    flag = -1\n",
    "    \n",
    "    for i in range(len(data)):\n",
    "        if data['media_movel_3'][i] > data['media_movel_6'][i]:\n",
    "            if flag != 1:\n",
    "                periodo_positivo.append(data['pontuacao'][i])\n",
    "                periodo_negativo.append(np.nan)\n",
    "                flag = 1\n",
    "            else:\n",
    "                periodo_positivo.append(np.nan)\n",
    "                periodo_negativo.append(np.nan)\n",
    "        elif data['media_movel_3'][i] < data['media_movel_6'][i]:\n",
    "            if flag != 0:\n",
    "                periodo_positivo.append(np.nan)\n",
    "                periodo_negativo.append(data['pontuacao'][i])\n",
    "                flag = 0\n",
    "            else:\n",
    "                periodo_positivo.append(np.nan)\n",
    "                periodo_negativo.append(np.nan)\n",
    "        else:\n",
    "            periodo_positivo.append(np.nan)\n",
    "            periodo_negativo.append(np.nan)\n",
    "\n",
    "    return (periodo_positivo, periodo_negativo)            "
   ]
  },
  {
   "cell_type": "code",
   "execution_count": null,
   "metadata": {},
   "outputs": [],
   "source": [
    "positivo_negativo = positivo_negativo(data)\n",
    "data['periodo_positivo'] = positivo_negativo[0]\n",
    "data['periodo_negativo'] = positivo_negativo[1]"
   ]
  },
  {
   "cell_type": "code",
   "execution_count": null,
   "metadata": {},
   "outputs": [],
   "source": [
    "data.head(10)"
   ]
  },
  {
   "cell_type": "code",
   "execution_count": null,
   "metadata": {},
   "outputs": [],
   "source": [
    "plt.figure(figsize=(15,5))\n",
    "plt.plot(data['Tempo'], data['media_movel_3'], label='Jogo_Média_3', alpha=0.35)\n",
    "plt.plot(data['Tempo'], data['media_movel_6'], label='Jogo_Média_6', alpha=0.35)\n",
    "plt.scatter(data['Tempo'], data['periodo_positivo'], label='Positivo', marker='^', color='blue')\n",
    "plt.scatter(data['Tempo'], data['periodo_negativo'], label='Negativo', marker='+', color='red')\n",
    "plt.title('Diferença do Placar Visitante Durante a Partida')\n",
    "plt.xlabel('Tempo de Jogo em Segundos')\n",
    "plt.ylabel('Diferença do Placar')\n",
    "plt.legend(loc='upper left')\n",
    "for x in quartos:\n",
    "    plt.axvline(x, color='red', label=pontuacao.index, linestyle='--', alpha=0.5)\n",
    "plt.axhline(0, color='orange', label=pontuacao.index, alpha=0.5)"
   ]
  },
  {
   "cell_type": "code",
   "execution_count": null,
   "metadata": {},
   "outputs": [],
   "source": [
    "plt.figure(figsize=(15,5))\n",
    "plt.plot(data['Tempo'], data['pontuacao'], label='Jogo', alpha=0.35)\n",
    "#plt.plot(data['Tempo'], data['media_movel_3'], label='Jogo_Média_3', alpha=0.35)\n",
    "#plt.plot(data['Tempo'], data['media_movel_6'], label='Jogo_Média_6', alpha=0.35)\n",
    "#plt.scatter(data['Tempo'], data['periodo_positivo'], label='Positivo', marker='^', color='blue')\n",
    "#plt.scatter(data['Tempo'], data['periodo_negativo'], label='Negativo', marker='+', color='red')\n",
    "plt.title('Diferença do Placar Visitante Durante a Partida')\n",
    "plt.xlabel('Tempo de Jogo em Segundos')\n",
    "plt.ylabel('Diferença do Placar')\n",
    "plt.legend(loc='upper left')\n",
    "for x in quartos:\n",
    "    plt.axvline(x, color='red', label=pontuacao.index, linestyle='--', alpha=0.5)\n",
    "plt.axhline(0, color='orange', label=pontuacao.index, alpha=0.5)"
   ]
  },
  {
   "cell_type": "markdown",
   "metadata": {},
   "source": [
    "mudar a marcação. Deixar o traço com a cor e não um marcador (mais fácil para vizualizar)"
   ]
  },
  {
   "cell_type": "code",
   "execution_count": null,
   "metadata": {},
   "outputs": [],
   "source": [
    "porcentagem_valor_anterior = pd.DataFrame()\n",
    "porcentagem_valor_anterior['porcentagem_da_dif'] = round(pontuacao['dif_visitante'].pct_change(), 2)"
   ]
  },
  {
   "cell_type": "code",
   "execution_count": null,
   "metadata": {},
   "outputs": [],
   "source": [
    "diferenca_linhas = pd.DataFrame()\n",
    "diferenca_linhas['diferenca_linhas'] = pontuacao['dif_visitante'].diff(3)"
   ]
  },
  {
   "cell_type": "code",
   "execution_count": null,
   "metadata": {},
   "outputs": [],
   "source": [
    "data['porcentagem_da_dif'] = porcentagem_valor_anterior['porcentagem_da_dif']\n",
    "data['diferenca_linhas'] = diferenca_linhas['diferenca_linhas']"
   ]
  },
  {
   "cell_type": "code",
   "execution_count": null,
   "metadata": {},
   "outputs": [],
   "source": [
    "data"
   ]
  },
  {
   "cell_type": "code",
   "execution_count": null,
   "metadata": {},
   "outputs": [],
   "source": [
    "a = []"
   ]
  },
  {
   "cell_type": "code",
   "execution_count": null,
   "metadata": {},
   "outputs": [],
   "source": [
    "for x in data['diferenca_linhas']:\n",
    "    if (x >= 3) | (x <= -3):\n",
    "        a.append(x)\n",
    "    else:\n",
    "        a.append(np.nan)"
   ]
  },
  {
   "cell_type": "code",
   "execution_count": null,
   "metadata": {},
   "outputs": [],
   "source": [
    "data['aaa'] = a"
   ]
  },
  {
   "cell_type": "code",
   "execution_count": null,
   "metadata": {},
   "outputs": [],
   "source": [
    "data"
   ]
  },
  {
   "cell_type": "code",
   "execution_count": null,
   "metadata": {},
   "outputs": [],
   "source": [
    "data.to_csv('tempo2.csv')"
   ]
  },
  {
   "cell_type": "code",
   "execution_count": null,
   "metadata": {},
   "outputs": [],
   "source": [
    "plt.figure(figsize=(15,5))\n",
    "plt.plot(data['Tempo'], data['pontuacao'], label='Jogo', alpha=0.35)\n",
    "plt.scatter(data['Tempo'], data['aaa'], label='Positivo', marker='x', color='green')\n",
    "plt.scatter(data['Tempo'], data['periodo_positivo'], label='Positivo', marker='^', color='blue')\n",
    "plt.scatter(data['Tempo'], data['periodo_negativo'], label='Negativo', marker='+', color='red')\n",
    "plt.title('Diferença do Placar Visitante Durante a Partida')\n",
    "plt.xlabel('Tempo de Jogo em Segundos')\n",
    "plt.ylabel('Diferença do Placar')\n",
    "plt.legend(loc='upper left')\n",
    "for x in quartos:\n",
    "    plt.axvline(x, color='red', label=pontuacao.index, linestyle='--', alpha=0.5)\n",
    "plt.axhline(5, color='orange', label=pontuacao.index, alpha=0.5)"
   ]
  },
  {
   "cell_type": "markdown",
   "metadata": {},
   "source": [
    "# Analie da Posse de Bola dos times"
   ]
  },
  {
   "cell_type": "markdown",
   "metadata": {},
   "source": [
    "Estava trabalahndo nela, mas acabei parando "
   ]
  },
  {
   "cell_type": "code",
   "execution_count": null,
   "metadata": {},
   "outputs": [],
   "source": [
    "posse_bola = df[(df['Indicador'] == '3_Pts_C') | (df['Indicador'] == '3_Pts_T') | \n",
    "                (df['Indicador'] == '2_Pts_C') | (df['Indicador'] == '2_Pts_C') |\n",
    "                (df['Indicador'] == 'LL_Pts_C') | (df['Indicador'] == 'LL_Pts_C') |\n",
    "                (df['Indicador'] == 'ER') | (df['Indicador'] == 'fim_quarto') |\n",
    "                (df['Indicador'] == 'inicio_partida') | (df['Indicador'] == 'inicio_quarto') |\n",
    "               "
   ]
  },
  {
   "cell_type": "code",
   "execution_count": null,
   "metadata": {
    "scrolled": true
   },
   "outputs": [],
   "source": [
    "posse_bola[\"diferenca\"] = posse_bola[\"Tempo\"].diff(-1)"
   ]
  },
  {
   "cell_type": "code",
   "execution_count": null,
   "metadata": {},
   "outputs": [],
   "source": [
    "posse_bola.to_csv('tempo2.csv')"
   ]
  },
  {
   "cell_type": "code",
   "execution_count": null,
   "metadata": {},
   "outputs": [],
   "source": [
    "filtro = (posse_bola['diferenca'] >= 1) | (posse_bola['Indicador'] == 'inicio_partida') | (posse_bola['Indicador'] == 'fim_quarto')\n",
    "valor_posse_bola = posse_bola[filtro]"
   ]
  },
  {
   "cell_type": "code",
   "execution_count": null,
   "metadata": {},
   "outputs": [],
   "source": [
    "valor_posse_bola"
   ]
  },
  {
   "cell_type": "code",
   "execution_count": null,
   "metadata": {},
   "outputs": [],
   "source": [
    "valor_posse_bola.to_csv('valor_posse_bola.csv')"
   ]
  },
  {
   "cell_type": "code",
   "execution_count": null,
   "metadata": {},
   "outputs": [],
   "source": []
  },
  {
   "cell_type": "code",
   "execution_count": null,
   "metadata": {},
   "outputs": [],
   "source": []
  },
  {
   "cell_type": "code",
   "execution_count": null,
   "metadata": {},
   "outputs": [],
   "source": [
    "plt.figure(figsize=(15,5))\n",
    "sns.barplot(valor_posse_bola['Tempo'], valor_posse_bola['diferenca'])"
   ]
  },
  {
   "cell_type": "code",
   "execution_count": null,
   "metadata": {},
   "outputs": [],
   "source": [
    "Flamengo = df.query(\"Time == 'FLA'\")"
   ]
  },
  {
   "cell_type": "code",
   "execution_count": null,
   "metadata": {},
   "outputs": [],
   "source": [
    "placar_flamengo = Flamengo[(Flamengo['Indicador'] == '3_Pts_C') | (Flamengo['Indicador'] == '3_Pts_T') | \n",
    "                (Flamengo['Indicador'] == '2_Pts_C') | (Flamengo['Indicador'] == '2_Pts_C') |\n",
    "                (Flamengo['Indicador'] == 'LL_Pts_C') | (Flamengo['Indicador'] == 'LL_Pts_C')]"
   ]
  },
  {
   "cell_type": "code",
   "execution_count": null,
   "metadata": {},
   "outputs": [],
   "source": [
    "placar_flamengo"
   ]
  },
  {
   "cell_type": "code",
   "execution_count": null,
   "metadata": {},
   "outputs": [],
   "source": [
    "plt.figure(figsize=(15,5))\n",
    "sns.lineplot(data=placar_flamengo, x=\"Tempo\", y=\"placar_casa\")"
   ]
  },
  {
   "cell_type": "code",
   "execution_count": null,
   "metadata": {},
   "outputs": [],
   "source": [
    "plt.figure(figsize=(15,5))\n",
    "sns.lineplot(data=placar_flamengo, x=\"Tempo\", y=\"placar_visitante\")"
   ]
  },
  {
   "cell_type": "code",
   "execution_count": null,
   "metadata": {},
   "outputs": [],
   "source": []
  },
  {
   "cell_type": "code",
   "execution_count": null,
   "metadata": {},
   "outputs": [],
   "source": [
    "Flamengo = df.query(\"Time == 'FLA'\").sort_values(by=['Tempo'])"
   ]
  },
  {
   "cell_type": "code",
   "execution_count": null,
   "metadata": {},
   "outputs": [],
   "source": [
    "placar_flamengo = Flamengo[(Flamengo['Indicador'] == '3_Pts_C') | (Flamengo['Indicador'] == '3_Pts_T') | \n",
    "                (Flamengo['Indicador'] == '2_Pts_C') | (Flamengo['Indicador'] == '2_Pts_C') |\n",
    "                (Flamengo['Indicador'] == 'LL_Pts_C') | (Flamengo['Indicador'] == 'LL_Pts_C')]"
   ]
  },
  {
   "cell_type": "code",
   "execution_count": null,
   "metadata": {},
   "outputs": [],
   "source": [
    "placar_flamengo.set_index(\"Tempo\", inplace=True)"
   ]
  },
  {
   "cell_type": "code",
   "execution_count": null,
   "metadata": {},
   "outputs": [],
   "source": [
    "placar_flamengo_valor = placar_flamengo['placar_casa']"
   ]
  },
  {
   "cell_type": "code",
   "execution_count": null,
   "metadata": {},
   "outputs": [],
   "source": [
    "placar_flamengo_valor"
   ]
  },
  {
   "cell_type": "code",
   "execution_count": null,
   "metadata": {},
   "outputs": [],
   "source": [
    "plt.figure(figsize=(15,5))\n",
    "flamengo_media_movel = placar_flamengo_valor.plot()"
   ]
  },
  {
   "cell_type": "code",
   "execution_count": null,
   "metadata": {},
   "outputs": [],
   "source": [
    "flamengo_media_movel = placar_flamengo_valor.rolling(window=10).mean()"
   ]
  },
  {
   "cell_type": "code",
   "execution_count": null,
   "metadata": {},
   "outputs": [],
   "source": [
    "flamengo_media_movel"
   ]
  },
  {
   "cell_type": "code",
   "execution_count": null,
   "metadata": {},
   "outputs": [],
   "source": [
    "flamengo_dev_pad = placar_flamengo_valor.rolling(window=10).std()"
   ]
  },
  {
   "cell_type": "code",
   "execution_count": null,
   "metadata": {},
   "outputs": [],
   "source": [
    "flamengo_dev_pad"
   ]
  },
  {
   "cell_type": "code",
   "execution_count": null,
   "metadata": {},
   "outputs": [],
   "source": [
    "under_line = (flamengo_media_movel-flamengo_dev_pad)\n",
    "over_line = (flamengo_media_movel+flamengo_dev_pad)"
   ]
  },
  {
   "cell_type": "code",
   "execution_count": null,
   "metadata": {},
   "outputs": [],
   "source": [
    "plt.figure(figsize=(15,5))\n",
    "plt.plot(flamengo_media_movel, linewidth=2)\n",
    "plt.fill_between(flamengo_dev_pad, under_line, over_line, color='b', alpha=.1) #std curves."
   ]
  },
  {
   "cell_type": "code",
   "execution_count": null,
   "metadata": {},
   "outputs": [],
   "source": [
    "plt.figure(figsize=(15,5))\n",
    "plt.plot(flamengo_media_movel, linewidth=2) #mean curve.\n",
    "plt.fill_between(flamengo_dev_pad.index, under_line, over_line, color='b', alpha=.1) #std curves."
   ]
  },
  {
   "cell_type": "code",
   "execution_count": null,
   "metadata": {},
   "outputs": [],
   "source": []
  }
 ],
 "metadata": {
  "kernelspec": {
   "display_name": "Python 3",
   "language": "python",
   "name": "python3"
  },
  "language_info": {
   "codemirror_mode": {
    "name": "ipython",
    "version": 3
   },
   "file_extension": ".py",
   "mimetype": "text/x-python",
   "name": "python",
   "nbconvert_exporter": "python",
   "pygments_lexer": "ipython3",
   "version": "3.8.3"
  }
 },
 "nbformat": 4,
 "nbformat_minor": 4
}
