{
 "cells": [
  {
   "cell_type": "markdown",
   "metadata": {},
   "source": [
    "# Projeto: Análises Jogada-Jogada NBB 2019"
   ]
  },
  {
   "cell_type": "markdown",
   "metadata": {},
   "source": [
    "Para esse projeto estaremos analisando jogos do NBB, principal campeonato brasileiro de basquetebol. Os dados contém os seguintes campos:\n",
    "\n",
    "Colunas:\n",
    "* Quartos\n",
    "* Tempo\n",
    "* placar_cada\n",
    "* placar_visitante\n",
    "* Nome\n",
    "*\n",
    "\n",
    "\n",
    "Coluna Indicadores técnicos:\n",
    "\n",
    "* fim_quarto -> Fim de quarto (qualquer quarto)\n",
    "* inicio_quarto -> Inicio de quarto (qualquer quarto)\n",
    "* fim_partida  -> Fim da Partida\n",
    "* incio partida -> Inicio da Partida\n",
    "* Min        -> Minutos jogados do jogador\n",
    "* Pts_C      -> Pontos Convertidos \n",
    "* Pts_T      -> Pontos Tentados \n",
    "* Pts_3_C    -> Três Pontos Convertidos \n",
    "* 3_T_Pts    -> Três Pontos Tentados\n",
    "* 2_C_Pts    -> Dois Pontos Convertidos\n",
    "* 2_T_Pts    -> Dois Pontos Tentados\n",
    "* LL_Pts_C   -> Lances Livres Convertidos\n",
    "* LL_Pts_T   -> Lances Livres Tentados\n",
    "* RO         -> Rebotes Ofensivos\n",
    "* RD         -> Rebotes Defensivos\n",
    "* RT         -> Rebotes Totais\n",
    "* AS         -> Assistências\n",
    "* BR         -> Bolas Roubadas \n",
    "* TO         -> Tocos\n",
    "* FC         -> Faltas Cometidas\n",
    "* FC_T         -> Faltas Técnica\n",
    "* FC_A         -> Faltas Antidesportiva\n",
    "* FC_O       -> Faltas Ofensiva\n",
    "* FC_D        -> Faltas Desqualificante\n",
    "* Entra       -> Entrada na Substituição \n",
    "* Sai           -> Saida na Substituição \n",
    "* tempo_tecnico -> Tempo Técnico\n",
    "* ER         -> Erros\n",
    "* FR         -> Faltas Recebidas \n",
    "* EN         -> Enterradas\n",
    "* Ar_Pts_C   -> Arremessos dos Pontos Convertidos\n",
    "* Ar_Pts_C   -> Arremessos dos Pontos Tentados \n",
    "* Pos        -> Posse de bola do time "
   ]
  },
  {
   "cell_type": "code",
   "execution_count": 1,
   "metadata": {},
   "outputs": [],
   "source": [
    "import numpy as np\n",
    "import pandas as pd\n",
    "import datetime as dt\n",
    "import re"
   ]
  },
  {
   "cell_type": "code",
   "execution_count": 2,
   "metadata": {},
   "outputs": [],
   "source": [
    "import matplotlib.pyplot as plt\n",
    "import seaborn as sns"
   ]
  },
  {
   "cell_type": "code",
   "execution_count": 3,
   "metadata": {},
   "outputs": [],
   "source": [
    "%matplotlib inline"
   ]
  },
  {
   "cell_type": "code",
   "execution_count": 4,
   "metadata": {},
   "outputs": [],
   "source": [
    "# df = pd.read_csv(\"Total_de_acao_acao.csv\")"
   ]
  },
  {
   "cell_type": "code",
   "execution_count": 5,
   "metadata": {},
   "outputs": [],
   "source": [
    "# df = pd.read_csv(\"tabela_1_Minas_x_Flamengo.csv\")"
   ]
  },
  {
   "cell_type": "code",
   "execution_count": 6,
   "metadata": {},
   "outputs": [],
   "source": [
    "# df = pd.read_csv(\"tabela_2_UNIFACISA_x_Rio Claro.csv\")"
   ]
  },
  {
   "cell_type": "code",
   "execution_count": 7,
   "metadata": {},
   "outputs": [],
   "source": [
    "# df = pd.read_csv(\"tabela_3_Fortaleza B. C._x_Rio Claro.csv\")"
   ]
  },
  {
   "cell_type": "code",
   "execution_count": 8,
   "metadata": {},
   "outputs": [],
   "source": [
    "df = pd.read_csv(\"tabela_4_Minas_x_Botafogo.csv\")"
   ]
  },
  {
   "cell_type": "code",
   "execution_count": 9,
   "metadata": {},
   "outputs": [],
   "source": [
    "# df = pd.read_csv(\"tabela_5_Paulistano_x_São José.csv\")"
   ]
  },
  {
   "cell_type": "code",
   "execution_count": 10,
   "metadata": {},
   "outputs": [],
   "source": [
    "# df = pd.read_csv(\"tabela_7_UNIFACISA_x_Pato Basquete.csv\")"
   ]
  },
  {
   "cell_type": "code",
   "execution_count": null,
   "metadata": {},
   "outputs": [],
   "source": []
  },
  {
   "cell_type": "code",
   "execution_count": 11,
   "metadata": {},
   "outputs": [
    {
     "data": {
      "text/html": [
       "<div>\n",
       "<style scoped>\n",
       "    .dataframe tbody tr th:only-of-type {\n",
       "        vertical-align: middle;\n",
       "    }\n",
       "\n",
       "    .dataframe tbody tr th {\n",
       "        vertical-align: top;\n",
       "    }\n",
       "\n",
       "    .dataframe thead th {\n",
       "        text-align: right;\n",
       "    }\n",
       "</style>\n",
       "<table border=\"1\" class=\"dataframe\">\n",
       "  <thead>\n",
       "    <tr style=\"text-align: right;\">\n",
       "      <th></th>\n",
       "      <th>Unnamed: 0</th>\n",
       "      <th>Quarto</th>\n",
       "      <th>Tempo</th>\n",
       "      <th>placar_casa</th>\n",
       "      <th>placar_visitante</th>\n",
       "      <th>Time</th>\n",
       "      <th>Indicador</th>\n",
       "      <th>Nome</th>\n",
       "    </tr>\n",
       "  </thead>\n",
       "  <tbody>\n",
       "    <tr>\n",
       "      <th>0</th>\n",
       "      <td>0</td>\n",
       "      <td>4</td>\n",
       "      <td>00:00</td>\n",
       "      <td>84</td>\n",
       "      <td>85</td>\n",
       "      <td>NaN</td>\n",
       "      <td>fim_partida</td>\n",
       "      <td>NaN</td>\n",
       "    </tr>\n",
       "    <tr>\n",
       "      <th>1</th>\n",
       "      <td>1</td>\n",
       "      <td>4</td>\n",
       "      <td>00:00</td>\n",
       "      <td>84</td>\n",
       "      <td>85</td>\n",
       "      <td>NaN</td>\n",
       "      <td>fim_quarto</td>\n",
       "      <td>NaN</td>\n",
       "    </tr>\n",
       "    <tr>\n",
       "      <th>2</th>\n",
       "      <td>2</td>\n",
       "      <td>4</td>\n",
       "      <td>00:01</td>\n",
       "      <td>84</td>\n",
       "      <td>85</td>\n",
       "      <td>MIN</td>\n",
       "      <td>AS</td>\n",
       "      <td>Scott</td>\n",
       "    </tr>\n",
       "    <tr>\n",
       "      <th>3</th>\n",
       "      <td>3</td>\n",
       "      <td>4</td>\n",
       "      <td>00:01</td>\n",
       "      <td>84</td>\n",
       "      <td>85</td>\n",
       "      <td>MIN</td>\n",
       "      <td>3_Pts_C</td>\n",
       "      <td>Leandrinho</td>\n",
       "    </tr>\n",
       "    <tr>\n",
       "      <th>4</th>\n",
       "      <td>4</td>\n",
       "      <td>4</td>\n",
       "      <td>00:01</td>\n",
       "      <td>81</td>\n",
       "      <td>85</td>\n",
       "      <td>BOT</td>\n",
       "      <td>LL_Pts_C</td>\n",
       "      <td>Lucas</td>\n",
       "    </tr>\n",
       "    <tr>\n",
       "      <th>...</th>\n",
       "      <td>...</td>\n",
       "      <td>...</td>\n",
       "      <td>...</td>\n",
       "      <td>...</td>\n",
       "      <td>...</td>\n",
       "      <td>...</td>\n",
       "      <td>...</td>\n",
       "      <td>...</td>\n",
       "    </tr>\n",
       "    <tr>\n",
       "      <th>539</th>\n",
       "      <td>539</td>\n",
       "      <td>1</td>\n",
       "      <td>10:00</td>\n",
       "      <td>0</td>\n",
       "      <td>0</td>\n",
       "      <td>MIN</td>\n",
       "      <td>substituicao_entra</td>\n",
       "      <td>Alexei</td>\n",
       "    </tr>\n",
       "    <tr>\n",
       "      <th>540</th>\n",
       "      <td>540</td>\n",
       "      <td>1</td>\n",
       "      <td>10:00</td>\n",
       "      <td>0</td>\n",
       "      <td>0</td>\n",
       "      <td>MIN</td>\n",
       "      <td>substituicao_entra</td>\n",
       "      <td>Leandrinho</td>\n",
       "    </tr>\n",
       "    <tr>\n",
       "      <th>541</th>\n",
       "      <td>541</td>\n",
       "      <td>1</td>\n",
       "      <td>10:00</td>\n",
       "      <td>0</td>\n",
       "      <td>0</td>\n",
       "      <td>MIN</td>\n",
       "      <td>substituicao_entra</td>\n",
       "      <td>Alex</td>\n",
       "    </tr>\n",
       "    <tr>\n",
       "      <th>542</th>\n",
       "      <td>542</td>\n",
       "      <td>1</td>\n",
       "      <td>10:00</td>\n",
       "      <td>0</td>\n",
       "      <td>0</td>\n",
       "      <td>MIN</td>\n",
       "      <td>substituicao_entra</td>\n",
       "      <td>Davi</td>\n",
       "    </tr>\n",
       "    <tr>\n",
       "      <th>543</th>\n",
       "      <td>543</td>\n",
       "      <td>1</td>\n",
       "      <td>10:00</td>\n",
       "      <td>0</td>\n",
       "      <td>0</td>\n",
       "      <td>NaN</td>\n",
       "      <td>inicio_partida</td>\n",
       "      <td>NaN</td>\n",
       "    </tr>\n",
       "  </tbody>\n",
       "</table>\n",
       "<p>544 rows × 8 columns</p>\n",
       "</div>"
      ],
      "text/plain": [
       "     Unnamed: 0  Quarto  Tempo  placar_casa  placar_visitante Time  \\\n",
       "0             0       4  00:00           84                85  NaN   \n",
       "1             1       4  00:00           84                85  NaN   \n",
       "2             2       4  00:01           84                85  MIN   \n",
       "3             3       4  00:01           84                85  MIN   \n",
       "4             4       4  00:01           81                85  BOT   \n",
       "..          ...     ...    ...          ...               ...  ...   \n",
       "539         539       1  10:00            0                 0  MIN   \n",
       "540         540       1  10:00            0                 0  MIN   \n",
       "541         541       1  10:00            0                 0  MIN   \n",
       "542         542       1  10:00            0                 0  MIN   \n",
       "543         543       1  10:00            0                 0  NaN   \n",
       "\n",
       "              Indicador        Nome  \n",
       "0           fim_partida         NaN  \n",
       "1            fim_quarto         NaN  \n",
       "2                    AS       Scott  \n",
       "3               3_Pts_C  Leandrinho  \n",
       "4              LL_Pts_C       Lucas  \n",
       "..                  ...         ...  \n",
       "539  substituicao_entra      Alexei  \n",
       "540  substituicao_entra  Leandrinho  \n",
       "541  substituicao_entra        Alex  \n",
       "542  substituicao_entra        Davi  \n",
       "543      inicio_partida         NaN  \n",
       "\n",
       "[544 rows x 8 columns]"
      ]
     },
     "execution_count": 11,
     "metadata": {},
     "output_type": "execute_result"
    }
   ],
   "source": [
    "df"
   ]
  },
  {
   "cell_type": "markdown",
   "metadata": {},
   "source": [
    "# Limpeza dos dados "
   ]
  },
  {
   "cell_type": "markdown",
   "metadata": {},
   "source": [
    "* primeiro evitar NAN (acredite!!! tem isso no site)"
   ]
  },
  {
   "cell_type": "code",
   "execution_count": 12,
   "metadata": {},
   "outputs": [],
   "source": [
    "df.dropna(subset=['Tempo'], inplace=True)"
   ]
  },
  {
   "cell_type": "markdown",
   "metadata": {},
   "source": [
    "* mudança do tempo\n",
    "* colocar todos em segundos para facilitar a vida\n",
    "* tem jogos que o site apresenta numeros inteiros (1, 12, 134, 1000)\n",
    "* para isso localizei o valores errados e concertei"
   ]
  },
  {
   "cell_type": "code",
   "execution_count": 13,
   "metadata": {},
   "outputs": [],
   "source": [
    "mudar_hora = []\n",
    "for x in df['Tempo']:\n",
    "    if re.findall(r'..:..', x):\n",
    "        mudar_hora.append(x)\n",
    "    else:\n",
    "        if re.findall(r'....', x):\n",
    "            x = x[0:2] + ':' + x[2:4]\n",
    "            mudar_hora.append(x)\n",
    "        elif re.findall(r'...', x):\n",
    "            x = '0' + x[0] + ':' + x[1:3]\n",
    "            mudar_hora.append(x)\n",
    "        elif re.findall(r'..', x):\n",
    "            x = '00:' + x\n",
    "            mudar_hora.append(x)\n",
    "        elif re.findall(r'.', x):\n",
    "            x = '00:0' + x\n",
    "            mudar_hora.append(x)\n",
    "\n",
    "df['Tempo_2'] = mudar_hora\n",
    "df.drop('Tempo', axis=1, inplace=True)"
   ]
  },
  {
   "cell_type": "code",
   "execution_count": 14,
   "metadata": {},
   "outputs": [],
   "source": [
    "df['Tempo_2'] = df['Tempo_2'].apply(lambda x: dt.datetime.strptime(x, '%M:%S'))"
   ]
  },
  {
   "cell_type": "code",
   "execution_count": 15,
   "metadata": {},
   "outputs": [],
   "source": [
    "df['Tempo_2'] = df['Tempo_2'].apply(lambda x: dt.time(x.hour, x.minute, x.second))"
   ]
  },
  {
   "cell_type": "code",
   "execution_count": 16,
   "metadata": {},
   "outputs": [],
   "source": [
    "df['Tempo_2'] = df['Tempo_2'].apply(lambda x: (x.hour * 60 + x.minute) * 60 + x.second)"
   ]
  },
  {
   "cell_type": "code",
   "execution_count": 17,
   "metadata": {},
   "outputs": [],
   "source": [
    "# transforma os dados para números inteiros\n",
    "df['Quarto'] = df['Quarto'].apply(lambda l: int(l))"
   ]
  },
  {
   "cell_type": "code",
   "execution_count": 18,
   "metadata": {},
   "outputs": [],
   "source": [
    "# modificar o tempo decrescente para crescente (* -1)\n",
    "# acrescentar o tempo de cada quarto (primeiro quarto termina em 600s, o segundo quarto 2*600 = 1200 ...)\n",
    "tempo_novo = []\n",
    "for x, y in zip(df['Quarto'], df['Tempo_2']):\n",
    "    if x == 1:\n",
    "        a = (y - (600 * 1)) * -1\n",
    "        tempo_novo.append(a)\n",
    "    elif x == 2:\n",
    "        a = (y - (600 * 2)) * -1\n",
    "        tempo_novo.append(a)\n",
    "    elif x == 3:\n",
    "        a = (y - (600 * 3)) * -1\n",
    "        tempo_novo.append(a)\n",
    "    elif x == 4:\n",
    "        a = (y - (600 * 4)) * -1\n",
    "        tempo_novo.append(a)\n",
    "    elif x == 5:\n",
    "        a = (y - (600 * 5)) * -1\n",
    "        tempo_novo.append(a)\n",
    "    elif x == 6:\n",
    "        a = (y - (600 * 6)) * -1\n",
    "        tempo_novo.append(a)\n",
    "    elif x == 7:\n",
    "        a = (y - (600 * 7)) * -1\n",
    "        tempo_novo.append(a)\n",
    "\n",
    "df['Tempo'] = tempo_novo\n",
    "df.drop('Tempo_2', axis=1, inplace=True)"
   ]
  },
  {
   "cell_type": "code",
   "execution_count": 19,
   "metadata": {},
   "outputs": [],
   "source": [
    "# deixando o DataFrame nessa ordem de colunas\n",
    "df = df[['Quarto', 'Tempo', 'placar_casa', 'placar_visitante', 'Time', 'Indicador', 'Nome']]"
   ]
  },
  {
   "cell_type": "markdown",
   "metadata": {},
   "source": [
    "#  Acrescentamos mais colunas"
   ]
  },
  {
   "cell_type": "code",
   "execution_count": 20,
   "metadata": {},
   "outputs": [],
   "source": [
    "df['diferenca_placar_casa'] = df['placar_casa'] - df['placar_visitante']\n",
    "df['diferenca_placar_visitante'] = df['placar_visitante'] - df['placar_casa']"
   ]
  },
  {
   "cell_type": "code",
   "execution_count": 21,
   "metadata": {},
   "outputs": [
    {
     "data": {
      "text/html": [
       "<div>\n",
       "<style scoped>\n",
       "    .dataframe tbody tr th:only-of-type {\n",
       "        vertical-align: middle;\n",
       "    }\n",
       "\n",
       "    .dataframe tbody tr th {\n",
       "        vertical-align: top;\n",
       "    }\n",
       "\n",
       "    .dataframe thead th {\n",
       "        text-align: right;\n",
       "    }\n",
       "</style>\n",
       "<table border=\"1\" class=\"dataframe\">\n",
       "  <thead>\n",
       "    <tr style=\"text-align: right;\">\n",
       "      <th></th>\n",
       "      <th>Quarto</th>\n",
       "      <th>Tempo</th>\n",
       "      <th>placar_casa</th>\n",
       "      <th>placar_visitante</th>\n",
       "      <th>Time</th>\n",
       "      <th>Indicador</th>\n",
       "      <th>Nome</th>\n",
       "      <th>diferenca_placar_casa</th>\n",
       "      <th>diferenca_placar_visitante</th>\n",
       "    </tr>\n",
       "  </thead>\n",
       "  <tbody>\n",
       "    <tr>\n",
       "      <th>0</th>\n",
       "      <td>4</td>\n",
       "      <td>2400</td>\n",
       "      <td>84</td>\n",
       "      <td>85</td>\n",
       "      <td>NaN</td>\n",
       "      <td>fim_partida</td>\n",
       "      <td>NaN</td>\n",
       "      <td>-1</td>\n",
       "      <td>1</td>\n",
       "    </tr>\n",
       "    <tr>\n",
       "      <th>1</th>\n",
       "      <td>4</td>\n",
       "      <td>2400</td>\n",
       "      <td>84</td>\n",
       "      <td>85</td>\n",
       "      <td>NaN</td>\n",
       "      <td>fim_quarto</td>\n",
       "      <td>NaN</td>\n",
       "      <td>-1</td>\n",
       "      <td>1</td>\n",
       "    </tr>\n",
       "    <tr>\n",
       "      <th>2</th>\n",
       "      <td>4</td>\n",
       "      <td>2399</td>\n",
       "      <td>84</td>\n",
       "      <td>85</td>\n",
       "      <td>MIN</td>\n",
       "      <td>AS</td>\n",
       "      <td>Scott</td>\n",
       "      <td>-1</td>\n",
       "      <td>1</td>\n",
       "    </tr>\n",
       "    <tr>\n",
       "      <th>3</th>\n",
       "      <td>4</td>\n",
       "      <td>2399</td>\n",
       "      <td>84</td>\n",
       "      <td>85</td>\n",
       "      <td>MIN</td>\n",
       "      <td>3_Pts_C</td>\n",
       "      <td>Leandrinho</td>\n",
       "      <td>-1</td>\n",
       "      <td>1</td>\n",
       "    </tr>\n",
       "    <tr>\n",
       "      <th>4</th>\n",
       "      <td>4</td>\n",
       "      <td>2399</td>\n",
       "      <td>81</td>\n",
       "      <td>85</td>\n",
       "      <td>BOT</td>\n",
       "      <td>LL_Pts_C</td>\n",
       "      <td>Lucas</td>\n",
       "      <td>-4</td>\n",
       "      <td>4</td>\n",
       "    </tr>\n",
       "    <tr>\n",
       "      <th>...</th>\n",
       "      <td>...</td>\n",
       "      <td>...</td>\n",
       "      <td>...</td>\n",
       "      <td>...</td>\n",
       "      <td>...</td>\n",
       "      <td>...</td>\n",
       "      <td>...</td>\n",
       "      <td>...</td>\n",
       "      <td>...</td>\n",
       "    </tr>\n",
       "    <tr>\n",
       "      <th>539</th>\n",
       "      <td>1</td>\n",
       "      <td>0</td>\n",
       "      <td>0</td>\n",
       "      <td>0</td>\n",
       "      <td>MIN</td>\n",
       "      <td>substituicao_entra</td>\n",
       "      <td>Alexei</td>\n",
       "      <td>0</td>\n",
       "      <td>0</td>\n",
       "    </tr>\n",
       "    <tr>\n",
       "      <th>540</th>\n",
       "      <td>1</td>\n",
       "      <td>0</td>\n",
       "      <td>0</td>\n",
       "      <td>0</td>\n",
       "      <td>MIN</td>\n",
       "      <td>substituicao_entra</td>\n",
       "      <td>Leandrinho</td>\n",
       "      <td>0</td>\n",
       "      <td>0</td>\n",
       "    </tr>\n",
       "    <tr>\n",
       "      <th>541</th>\n",
       "      <td>1</td>\n",
       "      <td>0</td>\n",
       "      <td>0</td>\n",
       "      <td>0</td>\n",
       "      <td>MIN</td>\n",
       "      <td>substituicao_entra</td>\n",
       "      <td>Alex</td>\n",
       "      <td>0</td>\n",
       "      <td>0</td>\n",
       "    </tr>\n",
       "    <tr>\n",
       "      <th>542</th>\n",
       "      <td>1</td>\n",
       "      <td>0</td>\n",
       "      <td>0</td>\n",
       "      <td>0</td>\n",
       "      <td>MIN</td>\n",
       "      <td>substituicao_entra</td>\n",
       "      <td>Davi</td>\n",
       "      <td>0</td>\n",
       "      <td>0</td>\n",
       "    </tr>\n",
       "    <tr>\n",
       "      <th>543</th>\n",
       "      <td>1</td>\n",
       "      <td>0</td>\n",
       "      <td>0</td>\n",
       "      <td>0</td>\n",
       "      <td>NaN</td>\n",
       "      <td>inicio_partida</td>\n",
       "      <td>NaN</td>\n",
       "      <td>0</td>\n",
       "      <td>0</td>\n",
       "    </tr>\n",
       "  </tbody>\n",
       "</table>\n",
       "<p>544 rows × 9 columns</p>\n",
       "</div>"
      ],
      "text/plain": [
       "     Quarto  Tempo  placar_casa  placar_visitante Time           Indicador  \\\n",
       "0         4   2400           84                85  NaN         fim_partida   \n",
       "1         4   2400           84                85  NaN          fim_quarto   \n",
       "2         4   2399           84                85  MIN                  AS   \n",
       "3         4   2399           84                85  MIN             3_Pts_C   \n",
       "4         4   2399           81                85  BOT            LL_Pts_C   \n",
       "..      ...    ...          ...               ...  ...                 ...   \n",
       "539       1      0            0                 0  MIN  substituicao_entra   \n",
       "540       1      0            0                 0  MIN  substituicao_entra   \n",
       "541       1      0            0                 0  MIN  substituicao_entra   \n",
       "542       1      0            0                 0  MIN  substituicao_entra   \n",
       "543       1      0            0                 0  NaN      inicio_partida   \n",
       "\n",
       "           Nome  diferenca_placar_casa  diferenca_placar_visitante  \n",
       "0           NaN                     -1                           1  \n",
       "1           NaN                     -1                           1  \n",
       "2         Scott                     -1                           1  \n",
       "3    Leandrinho                     -1                           1  \n",
       "4         Lucas                     -4                           4  \n",
       "..          ...                    ...                         ...  \n",
       "539      Alexei                      0                           0  \n",
       "540  Leandrinho                      0                           0  \n",
       "541        Alex                      0                           0  \n",
       "542        Davi                      0                           0  \n",
       "543         NaN                      0                           0  \n",
       "\n",
       "[544 rows x 9 columns]"
      ]
     },
     "execution_count": 21,
     "metadata": {},
     "output_type": "execute_result"
    }
   ],
   "source": [
    "df"
   ]
  },
  {
   "cell_type": "markdown",
   "metadata": {},
   "source": [
    "# Analise da pontuação dos times"
   ]
  },
  {
   "cell_type": "code",
   "execution_count": 22,
   "metadata": {},
   "outputs": [],
   "source": [
    "pontuacao = df[(df['Indicador'] == '3_Pts_C') | \n",
    "               (df['Indicador'] == '2_Pts_C') |\n",
    "               (df['Indicador'] == 'LL_Pts_C')|\n",
    "               (df['Indicador'] == 'fim_partida')]"
   ]
  },
  {
   "cell_type": "code",
   "execution_count": 23,
   "metadata": {},
   "outputs": [
    {
     "data": {
      "text/html": [
       "<div>\n",
       "<style scoped>\n",
       "    .dataframe tbody tr th:only-of-type {\n",
       "        vertical-align: middle;\n",
       "    }\n",
       "\n",
       "    .dataframe tbody tr th {\n",
       "        vertical-align: top;\n",
       "    }\n",
       "\n",
       "    .dataframe thead th {\n",
       "        text-align: right;\n",
       "    }\n",
       "</style>\n",
       "<table border=\"1\" class=\"dataframe\">\n",
       "  <thead>\n",
       "    <tr style=\"text-align: right;\">\n",
       "      <th></th>\n",
       "      <th>Quarto</th>\n",
       "      <th>Tempo</th>\n",
       "      <th>placar_casa</th>\n",
       "      <th>placar_visitante</th>\n",
       "      <th>Time</th>\n",
       "      <th>Indicador</th>\n",
       "      <th>Nome</th>\n",
       "      <th>diferenca_placar_casa</th>\n",
       "      <th>diferenca_placar_visitante</th>\n",
       "    </tr>\n",
       "  </thead>\n",
       "  <tbody>\n",
       "    <tr>\n",
       "      <th>0</th>\n",
       "      <td>4</td>\n",
       "      <td>2400</td>\n",
       "      <td>84</td>\n",
       "      <td>85</td>\n",
       "      <td>NaN</td>\n",
       "      <td>fim_partida</td>\n",
       "      <td>NaN</td>\n",
       "      <td>-1</td>\n",
       "      <td>1</td>\n",
       "    </tr>\n",
       "    <tr>\n",
       "      <th>3</th>\n",
       "      <td>4</td>\n",
       "      <td>2399</td>\n",
       "      <td>84</td>\n",
       "      <td>85</td>\n",
       "      <td>MIN</td>\n",
       "      <td>3_Pts_C</td>\n",
       "      <td>Leandrinho</td>\n",
       "      <td>-1</td>\n",
       "      <td>1</td>\n",
       "    </tr>\n",
       "    <tr>\n",
       "      <th>4</th>\n",
       "      <td>4</td>\n",
       "      <td>2399</td>\n",
       "      <td>81</td>\n",
       "      <td>85</td>\n",
       "      <td>BOT</td>\n",
       "      <td>LL_Pts_C</td>\n",
       "      <td>Lucas</td>\n",
       "      <td>-4</td>\n",
       "      <td>4</td>\n",
       "    </tr>\n",
       "    <tr>\n",
       "      <th>5</th>\n",
       "      <td>4</td>\n",
       "      <td>2399</td>\n",
       "      <td>81</td>\n",
       "      <td>84</td>\n",
       "      <td>BOT</td>\n",
       "      <td>LL_Pts_C</td>\n",
       "      <td>Lucas</td>\n",
       "      <td>-3</td>\n",
       "      <td>3</td>\n",
       "    </tr>\n",
       "    <tr>\n",
       "      <th>11</th>\n",
       "      <td>4</td>\n",
       "      <td>2398</td>\n",
       "      <td>81</td>\n",
       "      <td>83</td>\n",
       "      <td>MIN</td>\n",
       "      <td>3_Pts_C</td>\n",
       "      <td>Alex</td>\n",
       "      <td>-2</td>\n",
       "      <td>2</td>\n",
       "    </tr>\n",
       "    <tr>\n",
       "      <th>14</th>\n",
       "      <td>4</td>\n",
       "      <td>2388</td>\n",
       "      <td>78</td>\n",
       "      <td>83</td>\n",
       "      <td>BOT</td>\n",
       "      <td>LL_Pts_C</td>\n",
       "      <td>Coelho</td>\n",
       "      <td>-5</td>\n",
       "      <td>5</td>\n",
       "    </tr>\n",
       "    <tr>\n",
       "      <th>15</th>\n",
       "      <td>4</td>\n",
       "      <td>2388</td>\n",
       "      <td>78</td>\n",
       "      <td>82</td>\n",
       "      <td>BOT</td>\n",
       "      <td>LL_Pts_C</td>\n",
       "      <td>Coelho</td>\n",
       "      <td>-4</td>\n",
       "      <td>4</td>\n",
       "    </tr>\n",
       "    <tr>\n",
       "      <th>22</th>\n",
       "      <td>4</td>\n",
       "      <td>2386</td>\n",
       "      <td>78</td>\n",
       "      <td>81</td>\n",
       "      <td>MIN</td>\n",
       "      <td>LL_Pts_C</td>\n",
       "      <td>Leandrinho</td>\n",
       "      <td>-3</td>\n",
       "      <td>3</td>\n",
       "    </tr>\n",
       "    <tr>\n",
       "      <th>23</th>\n",
       "      <td>4</td>\n",
       "      <td>2386</td>\n",
       "      <td>77</td>\n",
       "      <td>81</td>\n",
       "      <td>MIN</td>\n",
       "      <td>LL_Pts_C</td>\n",
       "      <td>Leandrinho</td>\n",
       "      <td>-4</td>\n",
       "      <td>4</td>\n",
       "    </tr>\n",
       "    <tr>\n",
       "      <th>26</th>\n",
       "      <td>4</td>\n",
       "      <td>2377</td>\n",
       "      <td>76</td>\n",
       "      <td>81</td>\n",
       "      <td>BOT</td>\n",
       "      <td>LL_Pts_C</td>\n",
       "      <td>Coelho</td>\n",
       "      <td>-5</td>\n",
       "      <td>5</td>\n",
       "    </tr>\n",
       "    <tr>\n",
       "      <th>27</th>\n",
       "      <td>4</td>\n",
       "      <td>2377</td>\n",
       "      <td>76</td>\n",
       "      <td>80</td>\n",
       "      <td>BOT</td>\n",
       "      <td>LL_Pts_C</td>\n",
       "      <td>Coelho</td>\n",
       "      <td>-4</td>\n",
       "      <td>4</td>\n",
       "    </tr>\n",
       "    <tr>\n",
       "      <th>34</th>\n",
       "      <td>4</td>\n",
       "      <td>2375</td>\n",
       "      <td>76</td>\n",
       "      <td>79</td>\n",
       "      <td>MIN</td>\n",
       "      <td>LL_Pts_C</td>\n",
       "      <td>Leandrinho</td>\n",
       "      <td>-3</td>\n",
       "      <td>3</td>\n",
       "    </tr>\n",
       "    <tr>\n",
       "      <th>35</th>\n",
       "      <td>4</td>\n",
       "      <td>2375</td>\n",
       "      <td>75</td>\n",
       "      <td>79</td>\n",
       "      <td>MIN</td>\n",
       "      <td>LL_Pts_C</td>\n",
       "      <td>Leandrinho</td>\n",
       "      <td>-4</td>\n",
       "      <td>4</td>\n",
       "    </tr>\n",
       "    <tr>\n",
       "      <th>38</th>\n",
       "      <td>4</td>\n",
       "      <td>2370</td>\n",
       "      <td>74</td>\n",
       "      <td>79</td>\n",
       "      <td>BOT</td>\n",
       "      <td>LL_Pts_C</td>\n",
       "      <td>Cauê</td>\n",
       "      <td>-5</td>\n",
       "      <td>5</td>\n",
       "    </tr>\n",
       "    <tr>\n",
       "      <th>39</th>\n",
       "      <td>4</td>\n",
       "      <td>2370</td>\n",
       "      <td>74</td>\n",
       "      <td>78</td>\n",
       "      <td>BOT</td>\n",
       "      <td>LL_Pts_C</td>\n",
       "      <td>Cauê</td>\n",
       "      <td>-4</td>\n",
       "      <td>4</td>\n",
       "    </tr>\n",
       "  </tbody>\n",
       "</table>\n",
       "</div>"
      ],
      "text/plain": [
       "    Quarto  Tempo  placar_casa  placar_visitante Time    Indicador  \\\n",
       "0        4   2400           84                85  NaN  fim_partida   \n",
       "3        4   2399           84                85  MIN      3_Pts_C   \n",
       "4        4   2399           81                85  BOT     LL_Pts_C   \n",
       "5        4   2399           81                84  BOT     LL_Pts_C   \n",
       "11       4   2398           81                83  MIN      3_Pts_C   \n",
       "14       4   2388           78                83  BOT     LL_Pts_C   \n",
       "15       4   2388           78                82  BOT     LL_Pts_C   \n",
       "22       4   2386           78                81  MIN     LL_Pts_C   \n",
       "23       4   2386           77                81  MIN     LL_Pts_C   \n",
       "26       4   2377           76                81  BOT     LL_Pts_C   \n",
       "27       4   2377           76                80  BOT     LL_Pts_C   \n",
       "34       4   2375           76                79  MIN     LL_Pts_C   \n",
       "35       4   2375           75                79  MIN     LL_Pts_C   \n",
       "38       4   2370           74                79  BOT     LL_Pts_C   \n",
       "39       4   2370           74                78  BOT     LL_Pts_C   \n",
       "\n",
       "          Nome  diferenca_placar_casa  diferenca_placar_visitante  \n",
       "0          NaN                     -1                           1  \n",
       "3   Leandrinho                     -1                           1  \n",
       "4        Lucas                     -4                           4  \n",
       "5        Lucas                     -3                           3  \n",
       "11        Alex                     -2                           2  \n",
       "14      Coelho                     -5                           5  \n",
       "15      Coelho                     -4                           4  \n",
       "22  Leandrinho                     -3                           3  \n",
       "23  Leandrinho                     -4                           4  \n",
       "26      Coelho                     -5                           5  \n",
       "27      Coelho                     -4                           4  \n",
       "34  Leandrinho                     -3                           3  \n",
       "35  Leandrinho                     -4                           4  \n",
       "38        Cauê                     -5                           5  \n",
       "39        Cauê                     -4                           4  "
      ]
     },
     "execution_count": 23,
     "metadata": {},
     "output_type": "execute_result"
    }
   ],
   "source": [
    "pontuacao.head(15)"
   ]
  },
  {
   "cell_type": "code",
   "execution_count": 24,
   "metadata": {},
   "outputs": [],
   "source": [
    "# estamos invertendo os valores para deixar parecido com o jogo\n",
    "pontuacao = pontuacao[::-1]\n",
    "pontuacao.reset_index(drop=True, inplace=True)\n",
    "quartos = [600, 1200, 1800, 2400]"
   ]
  },
  {
   "cell_type": "code",
   "execution_count": 25,
   "metadata": {},
   "outputs": [
    {
     "data": {
      "text/html": [
       "<div>\n",
       "<style scoped>\n",
       "    .dataframe tbody tr th:only-of-type {\n",
       "        vertical-align: middle;\n",
       "    }\n",
       "\n",
       "    .dataframe tbody tr th {\n",
       "        vertical-align: top;\n",
       "    }\n",
       "\n",
       "    .dataframe thead th {\n",
       "        text-align: right;\n",
       "    }\n",
       "</style>\n",
       "<table border=\"1\" class=\"dataframe\">\n",
       "  <thead>\n",
       "    <tr style=\"text-align: right;\">\n",
       "      <th></th>\n",
       "      <th>Quarto</th>\n",
       "      <th>Tempo</th>\n",
       "      <th>placar_casa</th>\n",
       "      <th>placar_visitante</th>\n",
       "      <th>Time</th>\n",
       "      <th>Indicador</th>\n",
       "      <th>Nome</th>\n",
       "      <th>diferenca_placar_casa</th>\n",
       "      <th>diferenca_placar_visitante</th>\n",
       "    </tr>\n",
       "  </thead>\n",
       "  <tbody>\n",
       "    <tr>\n",
       "      <th>0</th>\n",
       "      <td>1</td>\n",
       "      <td>4</td>\n",
       "      <td>2</td>\n",
       "      <td>0</td>\n",
       "      <td>MIN</td>\n",
       "      <td>2_Pts_C</td>\n",
       "      <td>Leandrinho</td>\n",
       "      <td>2</td>\n",
       "      <td>-2</td>\n",
       "    </tr>\n",
       "    <tr>\n",
       "      <th>1</th>\n",
       "      <td>1</td>\n",
       "      <td>37</td>\n",
       "      <td>4</td>\n",
       "      <td>0</td>\n",
       "      <td>MIN</td>\n",
       "      <td>2_Pts_C</td>\n",
       "      <td>Scott</td>\n",
       "      <td>4</td>\n",
       "      <td>-4</td>\n",
       "    </tr>\n",
       "    <tr>\n",
       "      <th>2</th>\n",
       "      <td>1</td>\n",
       "      <td>37</td>\n",
       "      <td>5</td>\n",
       "      <td>0</td>\n",
       "      <td>MIN</td>\n",
       "      <td>LL_Pts_C</td>\n",
       "      <td>Scott</td>\n",
       "      <td>5</td>\n",
       "      <td>-5</td>\n",
       "    </tr>\n",
       "    <tr>\n",
       "      <th>3</th>\n",
       "      <td>1</td>\n",
       "      <td>62</td>\n",
       "      <td>5</td>\n",
       "      <td>2</td>\n",
       "      <td>BOT</td>\n",
       "      <td>2_Pts_C</td>\n",
       "      <td>Lucas</td>\n",
       "      <td>3</td>\n",
       "      <td>-3</td>\n",
       "    </tr>\n",
       "    <tr>\n",
       "      <th>4</th>\n",
       "      <td>1</td>\n",
       "      <td>103</td>\n",
       "      <td>5</td>\n",
       "      <td>4</td>\n",
       "      <td>BOT</td>\n",
       "      <td>2_Pts_C</td>\n",
       "      <td>Du Sommer</td>\n",
       "      <td>1</td>\n",
       "      <td>-1</td>\n",
       "    </tr>\n",
       "    <tr>\n",
       "      <th>...</th>\n",
       "      <td>...</td>\n",
       "      <td>...</td>\n",
       "      <td>...</td>\n",
       "      <td>...</td>\n",
       "      <td>...</td>\n",
       "      <td>...</td>\n",
       "      <td>...</td>\n",
       "      <td>...</td>\n",
       "      <td>...</td>\n",
       "    </tr>\n",
       "    <tr>\n",
       "      <th>87</th>\n",
       "      <td>4</td>\n",
       "      <td>2398</td>\n",
       "      <td>81</td>\n",
       "      <td>83</td>\n",
       "      <td>MIN</td>\n",
       "      <td>3_Pts_C</td>\n",
       "      <td>Alex</td>\n",
       "      <td>-2</td>\n",
       "      <td>2</td>\n",
       "    </tr>\n",
       "    <tr>\n",
       "      <th>88</th>\n",
       "      <td>4</td>\n",
       "      <td>2399</td>\n",
       "      <td>81</td>\n",
       "      <td>84</td>\n",
       "      <td>BOT</td>\n",
       "      <td>LL_Pts_C</td>\n",
       "      <td>Lucas</td>\n",
       "      <td>-3</td>\n",
       "      <td>3</td>\n",
       "    </tr>\n",
       "    <tr>\n",
       "      <th>89</th>\n",
       "      <td>4</td>\n",
       "      <td>2399</td>\n",
       "      <td>81</td>\n",
       "      <td>85</td>\n",
       "      <td>BOT</td>\n",
       "      <td>LL_Pts_C</td>\n",
       "      <td>Lucas</td>\n",
       "      <td>-4</td>\n",
       "      <td>4</td>\n",
       "    </tr>\n",
       "    <tr>\n",
       "      <th>90</th>\n",
       "      <td>4</td>\n",
       "      <td>2399</td>\n",
       "      <td>84</td>\n",
       "      <td>85</td>\n",
       "      <td>MIN</td>\n",
       "      <td>3_Pts_C</td>\n",
       "      <td>Leandrinho</td>\n",
       "      <td>-1</td>\n",
       "      <td>1</td>\n",
       "    </tr>\n",
       "    <tr>\n",
       "      <th>91</th>\n",
       "      <td>4</td>\n",
       "      <td>2400</td>\n",
       "      <td>84</td>\n",
       "      <td>85</td>\n",
       "      <td>NaN</td>\n",
       "      <td>fim_partida</td>\n",
       "      <td>NaN</td>\n",
       "      <td>-1</td>\n",
       "      <td>1</td>\n",
       "    </tr>\n",
       "  </tbody>\n",
       "</table>\n",
       "<p>92 rows × 9 columns</p>\n",
       "</div>"
      ],
      "text/plain": [
       "    Quarto  Tempo  placar_casa  placar_visitante Time    Indicador  \\\n",
       "0        1      4            2                 0  MIN      2_Pts_C   \n",
       "1        1     37            4                 0  MIN      2_Pts_C   \n",
       "2        1     37            5                 0  MIN     LL_Pts_C   \n",
       "3        1     62            5                 2  BOT      2_Pts_C   \n",
       "4        1    103            5                 4  BOT      2_Pts_C   \n",
       "..     ...    ...          ...               ...  ...          ...   \n",
       "87       4   2398           81                83  MIN      3_Pts_C   \n",
       "88       4   2399           81                84  BOT     LL_Pts_C   \n",
       "89       4   2399           81                85  BOT     LL_Pts_C   \n",
       "90       4   2399           84                85  MIN      3_Pts_C   \n",
       "91       4   2400           84                85  NaN  fim_partida   \n",
       "\n",
       "          Nome  diferenca_placar_casa  diferenca_placar_visitante  \n",
       "0   Leandrinho                      2                          -2  \n",
       "1        Scott                      4                          -4  \n",
       "2        Scott                      5                          -5  \n",
       "3        Lucas                      3                          -3  \n",
       "4    Du Sommer                      1                          -1  \n",
       "..         ...                    ...                         ...  \n",
       "87        Alex                     -2                           2  \n",
       "88       Lucas                     -3                           3  \n",
       "89       Lucas                     -4                           4  \n",
       "90  Leandrinho                     -1                           1  \n",
       "91         NaN                     -1                           1  \n",
       "\n",
       "[92 rows x 9 columns]"
      ]
     },
     "execution_count": 25,
     "metadata": {},
     "output_type": "execute_result"
    }
   ],
   "source": [
    "pontuacao"
   ]
  },
  {
   "cell_type": "code",
   "execution_count": 26,
   "metadata": {},
   "outputs": [
    {
     "data": {
      "text/plain": [
       "<matplotlib.lines.Line2D at 0x29b8ce9dee0>"
      ]
     },
     "execution_count": 26,
     "metadata": {},
     "output_type": "execute_result"
    },
    {
     "data": {
      "image/png": "[encoded data removed]",
      "text/plain": [
       "<Figure size 432x288 with 1 Axes>"
      ]
     },
     "metadata": {
      "needs_background": "light"
     },
     "output_type": "display_data"
    }
   ],
   "source": [
    "fig, ax = plt.subplots()\n",
    "x = pontuacao['Tempo']\n",
    "y = pontuacao[['placar_casa', 'placar_visitante']]\n",
    "ax.plot(x, y)\n",
    "for x in quartos:\n",
    "    plt.axvline(x, color='red', label=pontuacao.index, linestyle='--', alpha=0.5)\n",
    "plt.axhline(0, color='orange', label=pontuacao.index)"
   ]
  },
  {
   "cell_type": "code",
   "execution_count": 27,
   "metadata": {},
   "outputs": [
    {
     "data": {
      "text/plain": [
       "<matplotlib.lines.Line2D at 0x29b8cf54be0>"
      ]
     },
     "execution_count": 27,
     "metadata": {},
     "output_type": "execute_result"
    },
    {
     "data": {
      "image/png": "[encoded data removed]",
      "text/plain": [
       "<Figure size 1080x360 with 1 Axes>"
      ]
     },
     "metadata": {
      "needs_background": "light"
     },
     "output_type": "display_data"
    }
   ],
   "source": [
    "plt.figure(figsize=(15,5))\n",
    "plt.plot(pontuacao['Tempo'], pontuacao['diferenca_placar_visitante'], label = 'Jogo')\n",
    "plt.title('Diferença do Placar Visitante Durante a Partida')\n",
    "plt.xlabel('Tempo de Jogo em Segundos')\n",
    "plt.ylabel('Diferença do Placar')\n",
    "plt.legend(loc='upper left')\n",
    "for x in quartos:\n",
    "    plt.axvline(x, color='red', label=pontuacao.index, linestyle='--', alpha=0.5)\n",
    "plt.axhline(0, color='orange', label=pontuacao.index, alpha=0.5)"
   ]
  },
  {
   "cell_type": "code",
   "execution_count": 28,
   "metadata": {},
   "outputs": [
    {
     "data": {
      "text/plain": [
       "<matplotlib.lines.Line2D at 0x29b8cfd5df0>"
      ]
     },
     "execution_count": 28,
     "metadata": {},
     "output_type": "execute_result"
    },
    {
     "data": {
      "image/png": "[encoded data removed]",
      "text/plain": [
       "<Figure size 1080x360 with 1 Axes>"
      ]
     },
     "metadata": {
      "needs_background": "light"
     },
     "output_type": "display_data"
    }
   ],
   "source": [
    "plt.figure(figsize=(15,5))\n",
    "plt.plot(pontuacao['Tempo'], pontuacao['diferenca_placar_casa'], label = 'Jogo')\n",
    "plt.title('Diferença do Placar Visitante Durante a Partida')\n",
    "plt.xlabel('Tempo de Jogo em Segundos')\n",
    "plt.ylabel('Diferença do Placar')\n",
    "plt.legend(loc='upper left')\n",
    "for x in quartos:\n",
    "    plt.axvline(x, color='red', label=pontuacao.index, linestyle='--', alpha=0.5)\n",
    "plt.axhline(0, color='orange', label=pontuacao.index, alpha=0.5)"
   ]
  },
  {
   "cell_type": "code",
   "execution_count": 29,
   "metadata": {},
   "outputs": [
    {
     "data": {
      "text/html": [
       "<div>\n",
       "<style scoped>\n",
       "    .dataframe tbody tr th:only-of-type {\n",
       "        vertical-align: middle;\n",
       "    }\n",
       "\n",
       "    .dataframe tbody tr th {\n",
       "        vertical-align: top;\n",
       "    }\n",
       "\n",
       "    .dataframe thead th {\n",
       "        text-align: right;\n",
       "    }\n",
       "</style>\n",
       "<table border=\"1\" class=\"dataframe\">\n",
       "  <thead>\n",
       "    <tr style=\"text-align: right;\">\n",
       "      <th></th>\n",
       "      <th>Time</th>\n",
       "      <th>Indicador</th>\n",
       "      <th>diff_pontuacao</th>\n",
       "      <th>Tempo</th>\n",
       "    </tr>\n",
       "  </thead>\n",
       "  <tbody>\n",
       "    <tr>\n",
       "      <th>0</th>\n",
       "      <td>MIN</td>\n",
       "      <td>2_Pts_C</td>\n",
       "      <td>-2</td>\n",
       "      <td>4</td>\n",
       "    </tr>\n",
       "    <tr>\n",
       "      <th>1</th>\n",
       "      <td>MIN</td>\n",
       "      <td>2_Pts_C</td>\n",
       "      <td>-4</td>\n",
       "      <td>37</td>\n",
       "    </tr>\n",
       "    <tr>\n",
       "      <th>2</th>\n",
       "      <td>MIN</td>\n",
       "      <td>LL_Pts_C</td>\n",
       "      <td>-5</td>\n",
       "      <td>37</td>\n",
       "    </tr>\n",
       "    <tr>\n",
       "      <th>3</th>\n",
       "      <td>BOT</td>\n",
       "      <td>2_Pts_C</td>\n",
       "      <td>-3</td>\n",
       "      <td>62</td>\n",
       "    </tr>\n",
       "    <tr>\n",
       "      <th>4</th>\n",
       "      <td>BOT</td>\n",
       "      <td>2_Pts_C</td>\n",
       "      <td>-1</td>\n",
       "      <td>103</td>\n",
       "    </tr>\n",
       "    <tr>\n",
       "      <th>...</th>\n",
       "      <td>...</td>\n",
       "      <td>...</td>\n",
       "      <td>...</td>\n",
       "      <td>...</td>\n",
       "    </tr>\n",
       "    <tr>\n",
       "      <th>87</th>\n",
       "      <td>MIN</td>\n",
       "      <td>3_Pts_C</td>\n",
       "      <td>2</td>\n",
       "      <td>2398</td>\n",
       "    </tr>\n",
       "    <tr>\n",
       "      <th>88</th>\n",
       "      <td>BOT</td>\n",
       "      <td>LL_Pts_C</td>\n",
       "      <td>3</td>\n",
       "      <td>2399</td>\n",
       "    </tr>\n",
       "    <tr>\n",
       "      <th>89</th>\n",
       "      <td>BOT</td>\n",
       "      <td>LL_Pts_C</td>\n",
       "      <td>4</td>\n",
       "      <td>2399</td>\n",
       "    </tr>\n",
       "    <tr>\n",
       "      <th>90</th>\n",
       "      <td>MIN</td>\n",
       "      <td>3_Pts_C</td>\n",
       "      <td>1</td>\n",
       "      <td>2399</td>\n",
       "    </tr>\n",
       "    <tr>\n",
       "      <th>91</th>\n",
       "      <td>NaN</td>\n",
       "      <td>fim_partida</td>\n",
       "      <td>1</td>\n",
       "      <td>2400</td>\n",
       "    </tr>\n",
       "  </tbody>\n",
       "</table>\n",
       "<p>92 rows × 4 columns</p>\n",
       "</div>"
      ],
      "text/plain": [
       "   Time    Indicador  diff_pontuacao  Tempo\n",
       "0   MIN      2_Pts_C              -2      4\n",
       "1   MIN      2_Pts_C              -4     37\n",
       "2   MIN     LL_Pts_C              -5     37\n",
       "3   BOT      2_Pts_C              -3     62\n",
       "4   BOT      2_Pts_C              -1    103\n",
       "..  ...          ...             ...    ...\n",
       "87  MIN      3_Pts_C               2   2398\n",
       "88  BOT     LL_Pts_C               3   2399\n",
       "89  BOT     LL_Pts_C               4   2399\n",
       "90  MIN      3_Pts_C               1   2399\n",
       "91  NaN  fim_partida               1   2400\n",
       "\n",
       "[92 rows x 4 columns]"
      ]
     },
     "execution_count": 29,
     "metadata": {},
     "output_type": "execute_result"
    }
   ],
   "source": [
    "# Criar um novo dataFrame para análisar os períodos positivos dos times\n",
    "data = pd.DataFrame()\n",
    "data['Time'] = pontuacao['Time']\n",
    "data['Indicador'] = pontuacao['Indicador']\n",
    "data['diff_pontuacao'] = pontuacao['diferenca_placar_visitante']\n",
    "data['Tempo'] = pontuacao['Tempo']\n",
    "data"
   ]
  },
  {
   "cell_type": "code",
   "execution_count": 30,
   "metadata": {},
   "outputs": [],
   "source": [
    "# Utilizando a diferença do placar entre casa e visitante, aplicando diff (diferença entre as linhas) \n",
    "# e usando seu valor absoluto (abs())\n",
    "# nós podemos encontrar o valor de cada indicador técnico \n",
    "data[\"pontuacao\"] = data[\"diff_pontuacao\"].diff()\n",
    "data[\"pontuacao\"] = data[\"pontuacao\"].apply(lambda x: abs(x))"
   ]
  },
  {
   "cell_type": "code",
   "execution_count": 31,
   "metadata": {},
   "outputs": [],
   "source": [
    "# como o primeiro valor some quando fazemos a diff e esse primeiro valor é importante pq é o primeiro ponto, nós adicionamos ele\n",
    "novo_valor = data[\"diff_pontuacao\"][0]\n",
    "data.loc[0, 'pontuacao'] = novo_valor"
   ]
  },
  {
   "cell_type": "code",
   "execution_count": 32,
   "metadata": {},
   "outputs": [],
   "source": [
    "data.reset_index(drop=True, inplace=True)"
   ]
  },
  {
   "cell_type": "code",
   "execution_count": 33,
   "metadata": {},
   "outputs": [
    {
     "data": {
      "text/html": [
       "<div>\n",
       "<style scoped>\n",
       "    .dataframe tbody tr th:only-of-type {\n",
       "        vertical-align: middle;\n",
       "    }\n",
       "\n",
       "    .dataframe tbody tr th {\n",
       "        vertical-align: top;\n",
       "    }\n",
       "\n",
       "    .dataframe thead th {\n",
       "        text-align: right;\n",
       "    }\n",
       "</style>\n",
       "<table border=\"1\" class=\"dataframe\">\n",
       "  <thead>\n",
       "    <tr style=\"text-align: right;\">\n",
       "      <th></th>\n",
       "      <th>Time</th>\n",
       "      <th>Indicador</th>\n",
       "      <th>diff_pontuacao</th>\n",
       "      <th>Tempo</th>\n",
       "      <th>pontuacao</th>\n",
       "    </tr>\n",
       "  </thead>\n",
       "  <tbody>\n",
       "    <tr>\n",
       "      <th>0</th>\n",
       "      <td>MIN</td>\n",
       "      <td>2_Pts_C</td>\n",
       "      <td>-2</td>\n",
       "      <td>4</td>\n",
       "      <td>-2.0</td>\n",
       "    </tr>\n",
       "    <tr>\n",
       "      <th>1</th>\n",
       "      <td>MIN</td>\n",
       "      <td>2_Pts_C</td>\n",
       "      <td>-4</td>\n",
       "      <td>37</td>\n",
       "      <td>2.0</td>\n",
       "    </tr>\n",
       "    <tr>\n",
       "      <th>2</th>\n",
       "      <td>MIN</td>\n",
       "      <td>LL_Pts_C</td>\n",
       "      <td>-5</td>\n",
       "      <td>37</td>\n",
       "      <td>1.0</td>\n",
       "    </tr>\n",
       "    <tr>\n",
       "      <th>3</th>\n",
       "      <td>BOT</td>\n",
       "      <td>2_Pts_C</td>\n",
       "      <td>-3</td>\n",
       "      <td>62</td>\n",
       "      <td>2.0</td>\n",
       "    </tr>\n",
       "    <tr>\n",
       "      <th>4</th>\n",
       "      <td>BOT</td>\n",
       "      <td>2_Pts_C</td>\n",
       "      <td>-1</td>\n",
       "      <td>103</td>\n",
       "      <td>2.0</td>\n",
       "    </tr>\n",
       "    <tr>\n",
       "      <th>...</th>\n",
       "      <td>...</td>\n",
       "      <td>...</td>\n",
       "      <td>...</td>\n",
       "      <td>...</td>\n",
       "      <td>...</td>\n",
       "    </tr>\n",
       "    <tr>\n",
       "      <th>87</th>\n",
       "      <td>MIN</td>\n",
       "      <td>3_Pts_C</td>\n",
       "      <td>2</td>\n",
       "      <td>2398</td>\n",
       "      <td>3.0</td>\n",
       "    </tr>\n",
       "    <tr>\n",
       "      <th>88</th>\n",
       "      <td>BOT</td>\n",
       "      <td>LL_Pts_C</td>\n",
       "      <td>3</td>\n",
       "      <td>2399</td>\n",
       "      <td>1.0</td>\n",
       "    </tr>\n",
       "    <tr>\n",
       "      <th>89</th>\n",
       "      <td>BOT</td>\n",
       "      <td>LL_Pts_C</td>\n",
       "      <td>4</td>\n",
       "      <td>2399</td>\n",
       "      <td>1.0</td>\n",
       "    </tr>\n",
       "    <tr>\n",
       "      <th>90</th>\n",
       "      <td>MIN</td>\n",
       "      <td>3_Pts_C</td>\n",
       "      <td>1</td>\n",
       "      <td>2399</td>\n",
       "      <td>3.0</td>\n",
       "    </tr>\n",
       "    <tr>\n",
       "      <th>91</th>\n",
       "      <td>NaN</td>\n",
       "      <td>fim_partida</td>\n",
       "      <td>1</td>\n",
       "      <td>2400</td>\n",
       "      <td>0.0</td>\n",
       "    </tr>\n",
       "  </tbody>\n",
       "</table>\n",
       "<p>92 rows × 5 columns</p>\n",
       "</div>"
      ],
      "text/plain": [
       "   Time    Indicador  diff_pontuacao  Tempo  pontuacao\n",
       "0   MIN      2_Pts_C              -2      4       -2.0\n",
       "1   MIN      2_Pts_C              -4     37        2.0\n",
       "2   MIN     LL_Pts_C              -5     37        1.0\n",
       "3   BOT      2_Pts_C              -3     62        2.0\n",
       "4   BOT      2_Pts_C              -1    103        2.0\n",
       "..  ...          ...             ...    ...        ...\n",
       "87  MIN      3_Pts_C               2   2398        3.0\n",
       "88  BOT     LL_Pts_C               3   2399        1.0\n",
       "89  BOT     LL_Pts_C               4   2399        1.0\n",
       "90  MIN      3_Pts_C               1   2399        3.0\n",
       "91  NaN  fim_partida               1   2400        0.0\n",
       "\n",
       "[92 rows x 5 columns]"
      ]
     },
     "execution_count": 33,
     "metadata": {},
     "output_type": "execute_result"
    }
   ],
   "source": [
    "data"
   ]
  },
  {
   "cell_type": "code",
   "execution_count": 34,
   "metadata": {},
   "outputs": [],
   "source": [
    "# para conseiderarmos quem é o time A e quem é o time B \n",
    "# precisamos identificar de quem é o ultimo time a ter a posse de bola\n",
    "# isso infuencia dos períodos\n",
    "# quando invertemos o tempo de inicio do time a para o time B\n",
    "sigla_time_a = data['Time'][0]\n",
    "for x in data['Time']:\n",
    "    if x == sigla_time_a:\n",
    "        pass\n",
    "    else:\n",
    "        sigla_time_b = x\n",
    "        break"
   ]
  },
  {
   "cell_type": "code",
   "execution_count": 35,
   "metadata": {},
   "outputs": [
    {
     "data": {
      "text/plain": [
       "'MIN'"
      ]
     },
     "execution_count": 35,
     "metadata": {},
     "output_type": "execute_result"
    }
   ],
   "source": [
    "sigla_time_a"
   ]
  },
  {
   "cell_type": "code",
   "execution_count": 36,
   "metadata": {},
   "outputs": [
    {
     "data": {
      "text/plain": [
       "'BOT'"
      ]
     },
     "execution_count": 36,
     "metadata": {},
     "output_type": "execute_result"
    }
   ],
   "source": [
    "sigla_time_b"
   ]
  },
  {
   "cell_type": "code",
   "execution_count": 37,
   "metadata": {},
   "outputs": [],
   "source": [
    "data.to_csv('tempo2.csv')"
   ]
  },
  {
   "cell_type": "code",
   "execution_count": 38,
   "metadata": {},
   "outputs": [],
   "source": [
    "# esse df é usado para retirar alguns argumentos que não fazem diferença \n",
    "# na função abaixo retiramos as listas vazias que o loop gera quando o time se repete \n",
    "def remove_item(my_list,*args):\n",
    "    deletar = list(args)\n",
    "    for item in deletar:\n",
    "        while item in my_list:\n",
    "            my_list.remove(item)\n",
    "    return my_list"
   ]
  },
  {
   "cell_type": "code",
   "execution_count": 39,
   "metadata": {},
   "outputs": [],
   "source": [
    "# Utilizamos uma Flag para diferenciar as paradas entre os tempos iniciais de cada posse\n",
    "flag = -1\n",
    "# valores da ultima linha \n",
    "ultima_linha = []\n",
    "# utilizado para determinar o tempo de início de cada período\n",
    "tempo_a_inicio = []\n",
    "tempo_b_inicio = []\n",
    "# utilizado para agrupar os valores da pontuação dos times\n",
    "time_a = []\n",
    "time_b = []\n",
    "# utilizados para somar os valores agrupados da pontuação \n",
    "soma_a = []\n",
    "soma_b = []\n",
    "# identificar o nome do time\n",
    "nome_time_A = []\n",
    "nome_time_B = []\n",
    "for i in range(len(data)):\n",
    "    # caso corresponda ao nome do time A\n",
    "    if data['Time'][i] == sigla_time_a:\n",
    "        # adiciona o valor da pontuação\n",
    "        time_a.append(data['pontuacao'][i])\n",
    "        ##########################################\n",
    "        # pegam os valores acumulados do time B e as soma\n",
    "        soma_b.append(sum(time_b))\n",
    "        # zera esse valor da pontuação para não interferir na mudaça do for\n",
    "        time_b = []\n",
    "        # remove esses valores zerados\n",
    "        soma_b = remove_item(soma_b, 0)\n",
    "        if flag != 1:\n",
    "            # quando chegamos na flag o pensamento é pegar o primeiro valor que apresenta no Time A\n",
    "            # pega o primeiro valor do tempo de início\n",
    "            tempo_a_inicio.append(data['Tempo'][i])\n",
    "            # pega o primeiro valor do nome do time\n",
    "            nome_time_A.append(data['Time'][i])\n",
    "            flag = 1\n",
    "        else:\n",
    "            pass\n",
    "    # caso corresponda ao nome do time B\n",
    "    elif data['Time'][i] == sigla_time_b:\n",
    "        # adiciona o valor da pontuação\n",
    "        time_b.append(data['pontuacao'][i])\n",
    "        #####################################################\n",
    "        # pegam os valores acumulados do time A e as soma\n",
    "        soma_a.append(sum(time_a))\n",
    "        # zera esse valor da pontuação para não interferir na mudaça do for\n",
    "        time_a = []\n",
    "        # remove esses valores zerados\n",
    "        soma_a = remove_item(soma_a, 0)\n",
    "        if flag != 0:\n",
    "            # quando chegamos na flag o pensamento é pegar o primeiro valor que apresenta no Time B\n",
    "            # pega o primeiro valor do tempo de início\n",
    "            tempo_b_inicio.append(data['Tempo'][i])\n",
    "            # pega o primeiro valor do nome do time\n",
    "            nome_time_B.append(data['Time'][i])\n",
    "            flag = 0\n",
    "        else:\n",
    "            pass\n",
    "    # caso corresponda ao termino da partida\n",
    "    else:\n",
    "        # caso chegue no final da linha os valores são armazenados \n",
    "        ultima_linha = data['Tempo'][i]\n",
    "        # aplicamos as ultimas somas  para cada time\n",
    "        soma_b.append(sum(time_b))\n",
    "        soma_a.append(sum(time_a))\n",
    "        # e removemos os valores que estão zerados \n",
    "        soma_a = remove_item(soma_a, 0)\n",
    "        soma_b = remove_item(soma_b, 0)        "
   ]
  },
  {
   "cell_type": "code",
   "execution_count": 40,
   "metadata": {},
   "outputs": [],
   "source": [
    "# caso o tamanho do inicio esteja variando  por causa dos ultimos lances relacionados ao tempo de partida \n",
    "# a gente alinha dessa forma \n",
    "if len(tempo_a_inicio) < len(tempo_b_inicio):\n",
    "    tempo_a_inicio.append(ultima_linha)\n",
    "    nome_time_A.append(nome_time_A[0])\n",
    "    soma_a.append(np.nan)\n",
    "# e acrescenta no a e agora tb acrescenta no B\n",
    "elif len(tempo_a_inicio) > len(tempo_b_inicio):\n",
    "    tempo_b_inicio.append(ultima_linha)\n",
    "    nome_time_B.append(nome_time_B[0])\n",
    "    soma_b.append(np.nan)"
   ]
  },
  {
   "cell_type": "code",
   "execution_count": 41,
   "metadata": {},
   "outputs": [],
   "source": [
    "posse_de_bola_A = pd.DataFrame()\n",
    "posse_de_bola_A['Time'] = nome_time_A\n",
    "posse_de_bola_A['Tempo_de_Inicio'] = tempo_a_inicio\n",
    "posse_de_bola_A['Tempo_de_Termino'] = tempo_b_inicio\n",
    "posse_de_bola_A['Soma_Pontuacao'] = soma_a"
   ]
  },
  {
   "cell_type": "code",
   "execution_count": 42,
   "metadata": {},
   "outputs": [
    {
     "data": {
      "text/html": [
       "<div>\n",
       "<style scoped>\n",
       "    .dataframe tbody tr th:only-of-type {\n",
       "        vertical-align: middle;\n",
       "    }\n",
       "\n",
       "    .dataframe tbody tr th {\n",
       "        vertical-align: top;\n",
       "    }\n",
       "\n",
       "    .dataframe thead th {\n",
       "        text-align: right;\n",
       "    }\n",
       "</style>\n",
       "<table border=\"1\" class=\"dataframe\">\n",
       "  <thead>\n",
       "    <tr style=\"text-align: right;\">\n",
       "      <th></th>\n",
       "      <th>Time</th>\n",
       "      <th>Tempo_de_Inicio</th>\n",
       "      <th>Tempo_de_Termino</th>\n",
       "      <th>Soma_Pontuacao</th>\n",
       "    </tr>\n",
       "  </thead>\n",
       "  <tbody>\n",
       "    <tr>\n",
       "      <th>0</th>\n",
       "      <td>MIN</td>\n",
       "      <td>4</td>\n",
       "      <td>62</td>\n",
       "      <td>1.0</td>\n",
       "    </tr>\n",
       "    <tr>\n",
       "      <th>1</th>\n",
       "      <td>MIN</td>\n",
       "      <td>113</td>\n",
       "      <td>220</td>\n",
       "      <td>6.0</td>\n",
       "    </tr>\n",
       "    <tr>\n",
       "      <th>2</th>\n",
       "      <td>MIN</td>\n",
       "      <td>279</td>\n",
       "      <td>344</td>\n",
       "      <td>5.0</td>\n",
       "    </tr>\n",
       "    <tr>\n",
       "      <th>3</th>\n",
       "      <td>MIN</td>\n",
       "      <td>357</td>\n",
       "      <td>456</td>\n",
       "      <td>4.0</td>\n",
       "    </tr>\n",
       "    <tr>\n",
       "      <th>4</th>\n",
       "      <td>MIN</td>\n",
       "      <td>476</td>\n",
       "      <td>497</td>\n",
       "      <td>3.0</td>\n",
       "    </tr>\n",
       "  </tbody>\n",
       "</table>\n",
       "</div>"
      ],
      "text/plain": [
       "  Time  Tempo_de_Inicio  Tempo_de_Termino  Soma_Pontuacao\n",
       "0  MIN                4                62             1.0\n",
       "1  MIN              113               220             6.0\n",
       "2  MIN              279               344             5.0\n",
       "3  MIN              357               456             4.0\n",
       "4  MIN              476               497             3.0"
      ]
     },
     "execution_count": 42,
     "metadata": {},
     "output_type": "execute_result"
    }
   ],
   "source": [
    "posse_de_bola_A.head()"
   ]
  },
  {
   "cell_type": "code",
   "execution_count": 43,
   "metadata": {},
   "outputs": [],
   "source": [
    "# o fim do tempo b é o início do tempo A, pq a troca de bola é alternada\n",
    "del(tempo_a_inicio[0])\n",
    "tempo_a_inicio.append(np.nan)"
   ]
  },
  {
   "cell_type": "code",
   "execution_count": 44,
   "metadata": {},
   "outputs": [],
   "source": [
    "posse_de_bola_B = pd.DataFrame()\n",
    "posse_de_bola_B['Time'] = nome_time_B\n",
    "posse_de_bola_B['Tempo_de_Inicio'] = tempo_b_inicio\n",
    "posse_de_bola_B['Tempo_de_Termino'] = tempo_a_inicio\n",
    "posse_de_bola_B['Soma_Pontuacao'] = soma_b"
   ]
  },
  {
   "cell_type": "code",
   "execution_count": 45,
   "metadata": {},
   "outputs": [
    {
     "data": {
      "text/html": [
       "<div>\n",
       "<style scoped>\n",
       "    .dataframe tbody tr th:only-of-type {\n",
       "        vertical-align: middle;\n",
       "    }\n",
       "\n",
       "    .dataframe tbody tr th {\n",
       "        vertical-align: top;\n",
       "    }\n",
       "\n",
       "    .dataframe thead th {\n",
       "        text-align: right;\n",
       "    }\n",
       "</style>\n",
       "<table border=\"1\" class=\"dataframe\">\n",
       "  <thead>\n",
       "    <tr style=\"text-align: right;\">\n",
       "      <th></th>\n",
       "      <th>Time</th>\n",
       "      <th>Tempo_de_Inicio</th>\n",
       "      <th>Tempo_de_Termino</th>\n",
       "      <th>Soma_Pontuacao</th>\n",
       "    </tr>\n",
       "  </thead>\n",
       "  <tbody>\n",
       "    <tr>\n",
       "      <th>0</th>\n",
       "      <td>BOT</td>\n",
       "      <td>62</td>\n",
       "      <td>113.0</td>\n",
       "      <td>4.0</td>\n",
       "    </tr>\n",
       "    <tr>\n",
       "      <th>1</th>\n",
       "      <td>BOT</td>\n",
       "      <td>220</td>\n",
       "      <td>279.0</td>\n",
       "      <td>5.0</td>\n",
       "    </tr>\n",
       "    <tr>\n",
       "      <th>2</th>\n",
       "      <td>BOT</td>\n",
       "      <td>344</td>\n",
       "      <td>357.0</td>\n",
       "      <td>2.0</td>\n",
       "    </tr>\n",
       "    <tr>\n",
       "      <th>3</th>\n",
       "      <td>BOT</td>\n",
       "      <td>456</td>\n",
       "      <td>476.0</td>\n",
       "      <td>1.0</td>\n",
       "    </tr>\n",
       "    <tr>\n",
       "      <th>4</th>\n",
       "      <td>BOT</td>\n",
       "      <td>497</td>\n",
       "      <td>654.0</td>\n",
       "      <td>9.0</td>\n",
       "    </tr>\n",
       "  </tbody>\n",
       "</table>\n",
       "</div>"
      ],
      "text/plain": [
       "  Time  Tempo_de_Inicio  Tempo_de_Termino  Soma_Pontuacao\n",
       "0  BOT               62             113.0             4.0\n",
       "1  BOT              220             279.0             5.0\n",
       "2  BOT              344             357.0             2.0\n",
       "3  BOT              456             476.0             1.0\n",
       "4  BOT              497             654.0             9.0"
      ]
     },
     "execution_count": 45,
     "metadata": {},
     "output_type": "execute_result"
    }
   ],
   "source": [
    "posse_de_bola_B.head()"
   ]
  },
  {
   "cell_type": "code",
   "execution_count": 46,
   "metadata": {
    "scrolled": true
   },
   "outputs": [],
   "source": [
    "jogoooo = pd.concat([posse_de_bola_A, posse_de_bola_B], ignore_index=True)"
   ]
  },
  {
   "cell_type": "code",
   "execution_count": 47,
   "metadata": {},
   "outputs": [],
   "source": [
    "jogoooo.sort_values(by='Tempo_de_Inicio', ignore_index=True, inplace=True)"
   ]
  },
  {
   "cell_type": "code",
   "execution_count": 48,
   "metadata": {},
   "outputs": [
    {
     "ename": "KeyError",
     "evalue": "'Pontuacao'",
     "output_type": "error",
     "traceback": [
      "\u001b[1;31m---------------------------------------------------------------------------\u001b[0m",
      "\u001b[1;31mKeyError\u001b[0m                                  Traceback (most recent call last)",
      "\u001b[1;32mC:\\ProgramData\\Anaconda3\\lib\\site-packages\\pandas\\core\\indexes\\base.py\u001b[0m in \u001b[0;36mget_loc\u001b[1;34m(self, key, method, tolerance)\u001b[0m\n\u001b[0;32m   2645\u001b[0m             \u001b[1;32mtry\u001b[0m\u001b[1;33m:\u001b[0m\u001b[1;33m\u001b[0m\u001b[1;33m\u001b[0m\u001b[0m\n\u001b[1;32m-> 2646\u001b[1;33m                 \u001b[1;32mreturn\u001b[0m \u001b[0mself\u001b[0m\u001b[1;33m.\u001b[0m\u001b[0m_engine\u001b[0m\u001b[1;33m.\u001b[0m\u001b[0mget_loc\u001b[0m\u001b[1;33m(\u001b[0m\u001b[0mkey\u001b[0m\u001b[1;33m)\u001b[0m\u001b[1;33m\u001b[0m\u001b[1;33m\u001b[0m\u001b[0m\n\u001b[0m\u001b[0;32m   2647\u001b[0m             \u001b[1;32mexcept\u001b[0m \u001b[0mKeyError\u001b[0m\u001b[1;33m:\u001b[0m\u001b[1;33m\u001b[0m\u001b[1;33m\u001b[0m\u001b[0m\n",
      "\u001b[1;32mpandas\\_libs\\index.pyx\u001b[0m in \u001b[0;36mpandas._libs.index.IndexEngine.get_loc\u001b[1;34m()\u001b[0m\n",
      "\u001b[1;32mpandas\\_libs\\index.pyx\u001b[0m in \u001b[0;36mpandas._libs.index.IndexEngine.get_loc\u001b[1;34m()\u001b[0m\n",
      "\u001b[1;32mpandas\\_libs\\hashtable_class_helper.pxi\u001b[0m in \u001b[0;36mpandas._libs.hashtable.PyObjectHashTable.get_item\u001b[1;34m()\u001b[0m\n",
      "\u001b[1;32mpandas\\_libs\\hashtable_class_helper.pxi\u001b[0m in \u001b[0;36mpandas._libs.hashtable.PyObjectHashTable.get_item\u001b[1;34m()\u001b[0m\n",
      "\u001b[1;31mKeyError\u001b[0m: 'Pontuacao'",
      "\nDuring handling of the above exception, another exception occurred:\n",
      "\u001b[1;31mKeyError\u001b[0m                                  Traceback (most recent call last)",
      "\u001b[1;32m<ipython-input-48-bea2ad734ef4>\u001b[0m in \u001b[0;36m<module>\u001b[1;34m\u001b[0m\n\u001b[1;32m----> 1\u001b[1;33m \u001b[0mjogoooo\u001b[0m\u001b[1;33m[\u001b[0m\u001b[1;34m\"diff_pontuacao\"\u001b[0m\u001b[1;33m]\u001b[0m \u001b[1;33m=\u001b[0m \u001b[0mjogoooo\u001b[0m\u001b[1;33m[\u001b[0m\u001b[1;34m\"Pontuacao\"\u001b[0m\u001b[1;33m]\u001b[0m\u001b[1;33m.\u001b[0m\u001b[0mdiff\u001b[0m\u001b[1;33m(\u001b[0m\u001b[1;33m)\u001b[0m\u001b[1;33m\u001b[0m\u001b[1;33m\u001b[0m\u001b[0m\n\u001b[0m",
      "\u001b[1;32mC:\\ProgramData\\Anaconda3\\lib\\site-packages\\pandas\\core\\frame.py\u001b[0m in \u001b[0;36m__getitem__\u001b[1;34m(self, key)\u001b[0m\n\u001b[0;32m   2798\u001b[0m             \u001b[1;32mif\u001b[0m \u001b[0mself\u001b[0m\u001b[1;33m.\u001b[0m\u001b[0mcolumns\u001b[0m\u001b[1;33m.\u001b[0m\u001b[0mnlevels\u001b[0m \u001b[1;33m>\u001b[0m \u001b[1;36m1\u001b[0m\u001b[1;33m:\u001b[0m\u001b[1;33m\u001b[0m\u001b[1;33m\u001b[0m\u001b[0m\n\u001b[0;32m   2799\u001b[0m                 \u001b[1;32mreturn\u001b[0m \u001b[0mself\u001b[0m\u001b[1;33m.\u001b[0m\u001b[0m_getitem_multilevel\u001b[0m\u001b[1;33m(\u001b[0m\u001b[0mkey\u001b[0m\u001b[1;33m)\u001b[0m\u001b[1;33m\u001b[0m\u001b[1;33m\u001b[0m\u001b[0m\n\u001b[1;32m-> 2800\u001b[1;33m             \u001b[0mindexer\u001b[0m \u001b[1;33m=\u001b[0m \u001b[0mself\u001b[0m\u001b[1;33m.\u001b[0m\u001b[0mcolumns\u001b[0m\u001b[1;33m.\u001b[0m\u001b[0mget_loc\u001b[0m\u001b[1;33m(\u001b[0m\u001b[0mkey\u001b[0m\u001b[1;33m)\u001b[0m\u001b[1;33m\u001b[0m\u001b[1;33m\u001b[0m\u001b[0m\n\u001b[0m\u001b[0;32m   2801\u001b[0m             \u001b[1;32mif\u001b[0m \u001b[0mis_integer\u001b[0m\u001b[1;33m(\u001b[0m\u001b[0mindexer\u001b[0m\u001b[1;33m)\u001b[0m\u001b[1;33m:\u001b[0m\u001b[1;33m\u001b[0m\u001b[1;33m\u001b[0m\u001b[0m\n\u001b[0;32m   2802\u001b[0m                 \u001b[0mindexer\u001b[0m \u001b[1;33m=\u001b[0m \u001b[1;33m[\u001b[0m\u001b[0mindexer\u001b[0m\u001b[1;33m]\u001b[0m\u001b[1;33m\u001b[0m\u001b[1;33m\u001b[0m\u001b[0m\n",
      "\u001b[1;32mC:\\ProgramData\\Anaconda3\\lib\\site-packages\\pandas\\core\\indexes\\base.py\u001b[0m in \u001b[0;36mget_loc\u001b[1;34m(self, key, method, tolerance)\u001b[0m\n\u001b[0;32m   2646\u001b[0m                 \u001b[1;32mreturn\u001b[0m \u001b[0mself\u001b[0m\u001b[1;33m.\u001b[0m\u001b[0m_engine\u001b[0m\u001b[1;33m.\u001b[0m\u001b[0mget_loc\u001b[0m\u001b[1;33m(\u001b[0m\u001b[0mkey\u001b[0m\u001b[1;33m)\u001b[0m\u001b[1;33m\u001b[0m\u001b[1;33m\u001b[0m\u001b[0m\n\u001b[0;32m   2647\u001b[0m             \u001b[1;32mexcept\u001b[0m \u001b[0mKeyError\u001b[0m\u001b[1;33m:\u001b[0m\u001b[1;33m\u001b[0m\u001b[1;33m\u001b[0m\u001b[0m\n\u001b[1;32m-> 2648\u001b[1;33m                 \u001b[1;32mreturn\u001b[0m \u001b[0mself\u001b[0m\u001b[1;33m.\u001b[0m\u001b[0m_engine\u001b[0m\u001b[1;33m.\u001b[0m\u001b[0mget_loc\u001b[0m\u001b[1;33m(\u001b[0m\u001b[0mself\u001b[0m\u001b[1;33m.\u001b[0m\u001b[0m_maybe_cast_indexer\u001b[0m\u001b[1;33m(\u001b[0m\u001b[0mkey\u001b[0m\u001b[1;33m)\u001b[0m\u001b[1;33m)\u001b[0m\u001b[1;33m\u001b[0m\u001b[1;33m\u001b[0m\u001b[0m\n\u001b[0m\u001b[0;32m   2649\u001b[0m         \u001b[0mindexer\u001b[0m \u001b[1;33m=\u001b[0m \u001b[0mself\u001b[0m\u001b[1;33m.\u001b[0m\u001b[0mget_indexer\u001b[0m\u001b[1;33m(\u001b[0m\u001b[1;33m[\u001b[0m\u001b[0mkey\u001b[0m\u001b[1;33m]\u001b[0m\u001b[1;33m,\u001b[0m \u001b[0mmethod\u001b[0m\u001b[1;33m=\u001b[0m\u001b[0mmethod\u001b[0m\u001b[1;33m,\u001b[0m \u001b[0mtolerance\u001b[0m\u001b[1;33m=\u001b[0m\u001b[0mtolerance\u001b[0m\u001b[1;33m)\u001b[0m\u001b[1;33m\u001b[0m\u001b[1;33m\u001b[0m\u001b[0m\n\u001b[0;32m   2650\u001b[0m         \u001b[1;32mif\u001b[0m \u001b[0mindexer\u001b[0m\u001b[1;33m.\u001b[0m\u001b[0mndim\u001b[0m \u001b[1;33m>\u001b[0m \u001b[1;36m1\u001b[0m \u001b[1;32mor\u001b[0m \u001b[0mindexer\u001b[0m\u001b[1;33m.\u001b[0m\u001b[0msize\u001b[0m \u001b[1;33m>\u001b[0m \u001b[1;36m1\u001b[0m\u001b[1;33m:\u001b[0m\u001b[1;33m\u001b[0m\u001b[1;33m\u001b[0m\u001b[0m\n",
      "\u001b[1;32mpandas\\_libs\\index.pyx\u001b[0m in \u001b[0;36mpandas._libs.index.IndexEngine.get_loc\u001b[1;34m()\u001b[0m\n",
      "\u001b[1;32mpandas\\_libs\\index.pyx\u001b[0m in \u001b[0;36mpandas._libs.index.IndexEngine.get_loc\u001b[1;34m()\u001b[0m\n",
      "\u001b[1;32mpandas\\_libs\\hashtable_class_helper.pxi\u001b[0m in \u001b[0;36mpandas._libs.hashtable.PyObjectHashTable.get_item\u001b[1;34m()\u001b[0m\n",
      "\u001b[1;32mpandas\\_libs\\hashtable_class_helper.pxi\u001b[0m in \u001b[0;36mpandas._libs.hashtable.PyObjectHashTable.get_item\u001b[1;34m()\u001b[0m\n",
      "\u001b[1;31mKeyError\u001b[0m: 'Pontuacao'"
     ]
    }
   ],
   "source": [
    "jogoooo[\"diff_pontuacao\"] = jogoooo[\"Pontuacao\"].diff()"
   ]
  },
  {
   "cell_type": "code",
   "execution_count": null,
   "metadata": {
    "scrolled": true
   },
   "outputs": [],
   "source": [
    "jogoooo.head()"
   ]
  },
  {
   "cell_type": "code",
   "execution_count": null,
   "metadata": {
    "scrolled": true
   },
   "outputs": [],
   "source": [
    "periodos_posteriores = []\n",
    "for i in range(len(jogoooo)):\n",
    "    if jogoooo['Pontuacao'][i] >= 5:\n",
    "        periodo_potencial_a_positivo = 1\n",
    "    else:\n",
    "        if (jogoooo['diff_pontuacao'][i] <= -4) & (jogoooo['Pontuacao'][i] < 3):\n",
    "            periodos_posteriores.append(jogoooo['Tempo_de_Inicio'][i])\n",
    "            if periodo_potencial_a_positivo == 1:\n",
    "                periodo_potencial_a_positivo = 0\n",
    "            elif periodo_potencial_a_positivo != 1:\n",
    "                periodo_potencial_a_positivo = 0"
   ]
  },
  {
   "cell_type": "code",
   "execution_count": null,
   "metadata": {},
   "outputs": [],
   "source": [
    "periodos_posteriores"
   ]
  },
  {
   "cell_type": "code",
   "execution_count": null,
   "metadata": {},
   "outputs": [],
   "source": [
    "novo_jogo = jogoooo[~jogoooo['Tempo_de_Inicio'].isin(periodos_posteriores)]\n",
    "novo_jogo.reset_index(inplace=True, drop=True)"
   ]
  },
  {
   "cell_type": "code",
   "execution_count": null,
   "metadata": {
    "scrolled": true
   },
   "outputs": [],
   "source": [
    "novo_jogo.head()"
   ]
  },
  {
   "cell_type": "code",
   "execution_count": null,
   "metadata": {},
   "outputs": [],
   "source": [
    "flag = -1\n",
    "tempo_a_peridodo_inicial = []\n",
    "tempo_b_peridodo_inicial = []\n",
    "tempo_a_peridodo_final = []\n",
    "tempo_b_peridodo_final = []\n",
    "pontuação_a = []\n",
    "pontuação_b = []\n",
    "nome_time_A = []\n",
    "nome_time_B = []\n",
    "# como o time do flamengo começa, o time de minas não apresenta o primeiro valor\n",
    "# por causa disso é acrescentado um valor 0 que não existe \n",
    "potencial_final_periodo_a = 0\n",
    "potencial_final_periodo_b = 0\n",
    "\n",
    "for i in range(len(novo_jogo)):\n",
    "    if novo_jogo['Time'][i] == sigla_time_a:\n",
    "        if flag != 1:\n",
    "            potencial_final_periodo_a = novo_jogo['Tempo_de_Termino'][i]\n",
    "            tempo_a_peridodo_inicial.append(novo_jogo['Tempo_de_Inicio'][i])\n",
    "            nome_time_A.append(novo_jogo['Time'][i])\n",
    "            pontuação_a.append(novo_jogo['Pontuacao'][i])\n",
    "            ##################################################################\n",
    "            tempo_b_peridodo_final.append(potencial_final_periodo_b)\n",
    "            flag = 1\n",
    "        else:\n",
    "            potencial_final_periodo_a = novo_jogo['Tempo_de_Termino'][i]\n",
    "            flag = 1\n",
    "    else:\n",
    "        if flag != 0:\n",
    "            tempo_a_peridodo_final.append(potencial_final_periodo_a)\n",
    "            ############################################################\n",
    "            potencial_final_periodo_b = novo_jogo['Tempo_de_Termino'][i]\n",
    "            tempo_b_peridodo_inicial.append(novo_jogo['Tempo_de_Inicio'][i])\n",
    "            nome_time_B.append(novo_jogo['Time'][i])\n",
    "            pontuação_b.append(novo_jogo['Pontuacao'][i])\n",
    "            flag = 0\n",
    "        else:\n",
    "            potencial_final_periodo_b = novo_jogo['Tempo_de_Termino'][i]\n",
    "            flag = 0"
   ]
  },
  {
   "cell_type": "code",
   "execution_count": null,
   "metadata": {},
   "outputs": [],
   "source": [
    "periodos_A = pd.DataFrame()\n",
    "periodos_A['Time'] = nome_time_A\n",
    "periodos_A['Tempo_de_Inicio'] = tempo_a_peridodo_inicial\n",
    "periodos_A['Tempo_de_Termino'] = tempo_a_peridodo_final\n",
    "periodos_A['Pontuacao'] = pontuação_a"
   ]
  },
  {
   "cell_type": "code",
   "execution_count": null,
   "metadata": {},
   "outputs": [],
   "source": [
    "periodos_A.head()"
   ]
  },
  {
   "cell_type": "code",
   "execution_count": null,
   "metadata": {},
   "outputs": [],
   "source": [
    "# o fim do tempo b é o início do tempo A, pq a troca de bola é alternada \n",
    "fim_b = tempo_b_peridodo_final\n",
    "del(fim_b[0])\n",
    "fim_b.append(np.nan)"
   ]
  },
  {
   "cell_type": "code",
   "execution_count": null,
   "metadata": {},
   "outputs": [],
   "source": [
    "periodos_B = pd.DataFrame()\n",
    "periodos_B['Time'] = nome_time_B\n",
    "periodos_B['Tempo_de_Inicio'] = tempo_b_peridodo_inicial\n",
    "periodos_B['Tempo_de_Termino'] = tempo_b_peridodo_final\n",
    "periodos_B['Pontuacao'] = pontuação_b"
   ]
  },
  {
   "cell_type": "code",
   "execution_count": null,
   "metadata": {},
   "outputs": [],
   "source": [
    "periodos_B.head()"
   ]
  },
  {
   "cell_type": "code",
   "execution_count": null,
   "metadata": {},
   "outputs": [],
   "source": [
    "periodo = pd.concat([periodos_A, periodos_B], ignore_index=True)"
   ]
  },
  {
   "cell_type": "code",
   "execution_count": null,
   "metadata": {},
   "outputs": [],
   "source": [
    "periodo.sort_values(by='Tempo_de_Inicio', ignore_index=True, inplace=True)"
   ]
  },
  {
   "cell_type": "code",
   "execution_count": null,
   "metadata": {
    "scrolled": true
   },
   "outputs": [],
   "source": [
    "periodo"
   ]
  },
  {
   "cell_type": "code",
   "execution_count": null,
   "metadata": {},
   "outputs": [],
   "source": [
    "final = periodo.loc[(periodo['Pontuacao'] >=5) & (periodo['Time'] == sigla_time_a)]"
   ]
  },
  {
   "cell_type": "code",
   "execution_count": null,
   "metadata": {},
   "outputs": [],
   "source": [
    "final"
   ]
  },
  {
   "cell_type": "code",
   "execution_count": null,
   "metadata": {},
   "outputs": [],
   "source": [
    "final_i = list(final['Tempo_de_Inicio'])\n",
    "final_f = list(final['Tempo_de_Termino'])"
   ]
  },
  {
   "cell_type": "code",
   "execution_count": null,
   "metadata": {},
   "outputs": [],
   "source": [
    "final_i"
   ]
  },
  {
   "cell_type": "code",
   "execution_count": null,
   "metadata": {},
   "outputs": [],
   "source": [
    "plt.figure(figsize=(15,5))\n",
    "plt.plot(pontuacao['Tempo'], pontuacao['dif_visitante'], label = 'Jogo')\n",
    "plt.xlabel('Tempo de Jogo em Segundos')\n",
    "plt.ylabel('Diferença do Placar')\n",
    "plt.legend(loc='upper left')\n",
    "for x in final_i:\n",
    "    plt.axvline(x, color='red', label=pontuacao.index, linestyle='--', alpha=0.5)\n",
    "for x in final_f:\n",
    "    plt.axvline(x, color='green', label=pontuacao.index, linestyle='--', alpha=0.5)"
   ]
  },
  {
   "cell_type": "code",
   "execution_count": null,
   "metadata": {},
   "outputs": [],
   "source": []
  },
  {
   "cell_type": "code",
   "execution_count": null,
   "metadata": {},
   "outputs": [],
   "source": [
    "aaa"
   ]
  },
  {
   "cell_type": "code",
   "execution_count": null,
   "metadata": {},
   "outputs": [],
   "source": []
  },
  {
   "cell_type": "code",
   "execution_count": null,
   "metadata": {},
   "outputs": [],
   "source": []
  },
  {
   "cell_type": "code",
   "execution_count": null,
   "metadata": {},
   "outputs": [],
   "source": []
  },
  {
   "cell_type": "code",
   "execution_count": null,
   "metadata": {},
   "outputs": [],
   "source": [
    "soma_a = []\n",
    "time_a = []\n",
    "time_b = []\n",
    "soma_b = []\n",
    "for i in range(len(data)):\n",
    "    if jogoooo['Time'][i] == 'FLA':\n",
    "        time_a.append(data['pontuacao'][i])\n",
    "        soma_b.append(sum(time_b))\n",
    "        time_b = []\n",
    "        soma_b = remove_item(soma_b, 0)\n",
    "    elif jogoooo['Time'][i] == 'MIN':\n",
    "        time_b.append(data['pontuacao'][i])\n",
    "        soma_a.append(sum(time_a))\n",
    "        time_a = []\n",
    "        soma_a = remove_item(soma_a, 0)\n",
    "    else:\n",
    "        soma_b.append(sum(time_b))\n",
    "        soma_a.append(sum(time_a))\n",
    "        soma_a = remove_item(soma_a, 0)\n",
    "        soma_b = remove_item(soma_b, 0)"
   ]
  },
  {
   "cell_type": "code",
   "execution_count": null,
   "metadata": {},
   "outputs": [],
   "source": []
  },
  {
   "cell_type": "code",
   "execution_count": null,
   "metadata": {},
   "outputs": [],
   "source": []
  },
  {
   "cell_type": "code",
   "execution_count": null,
   "metadata": {},
   "outputs": [],
   "source": []
  },
  {
   "cell_type": "code",
   "execution_count": null,
   "metadata": {},
   "outputs": [],
   "source": []
  },
  {
   "cell_type": "code",
   "execution_count": null,
   "metadata": {},
   "outputs": [],
   "source": []
  },
  {
   "cell_type": "code",
   "execution_count": null,
   "metadata": {},
   "outputs": [],
   "source": []
  },
  {
   "cell_type": "code",
   "execution_count": null,
   "metadata": {},
   "outputs": [],
   "source": [
    "len(soma_a)"
   ]
  },
  {
   "cell_type": "code",
   "execution_count": null,
   "metadata": {},
   "outputs": [],
   "source": [
    "data.to_csv('tempo2.csv')"
   ]
  },
  {
   "cell_type": "code",
   "execution_count": null,
   "metadata": {},
   "outputs": [],
   "source": [
    "# Criar uma função que sinaliza quando tem um período positivo e negativo na diferença do placar"
   ]
  },
  {
   "cell_type": "code",
   "execution_count": null,
   "metadata": {},
   "outputs": [],
   "source": [
    "def positivo_negativo(data):\n",
    "    periodo_positivo = []\n",
    "    periodo_negativo = []\n",
    "    flag = -1\n",
    "    \n",
    "    for i in range(len(data)):\n",
    "        if data['media_movel_3'][i] > data['media_movel_6'][i]:\n",
    "            if flag != 1:\n",
    "                periodo_positivo.append(data['pontuacao'][i])\n",
    "                periodo_negativo.append(np.nan)\n",
    "                flag = 1\n",
    "            else:\n",
    "                periodo_positivo.append(np.nan)\n",
    "                periodo_negativo.append(np.nan)\n",
    "        elif data['media_movel_3'][i] < data['media_movel_6'][i]:\n",
    "            if flag != 0:\n",
    "                periodo_positivo.append(np.nan)\n",
    "                periodo_negativo.append(data['pontuacao'][i])\n",
    "                flag = 0\n",
    "            else:\n",
    "                periodo_positivo.append(np.nan)\n",
    "                periodo_negativo.append(np.nan)\n",
    "        else:\n",
    "            periodo_positivo.append(np.nan)\n",
    "            periodo_negativo.append(np.nan)\n",
    "\n",
    "    return (periodo_positivo, periodo_negativo)            "
   ]
  },
  {
   "cell_type": "code",
   "execution_count": null,
   "metadata": {},
   "outputs": [],
   "source": [
    "positivo_negativo = positivo_negativo(data)\n",
    "data['periodo_positivo'] = positivo_negativo[0]\n",
    "data['periodo_negativo'] = positivo_negativo[1]"
   ]
  },
  {
   "cell_type": "code",
   "execution_count": null,
   "metadata": {},
   "outputs": [],
   "source": [
    "data.head(10)"
   ]
  },
  {
   "cell_type": "code",
   "execution_count": null,
   "metadata": {},
   "outputs": [],
   "source": [
    "plt.figure(figsize=(15,5))\n",
    "plt.plot(data['Tempo'], data['media_movel_3'], label='Jogo_Média_3', alpha=0.35)\n",
    "plt.plot(data['Tempo'], data['media_movel_6'], label='Jogo_Média_6', alpha=0.35)\n",
    "plt.scatter(data['Tempo'], data['periodo_positivo'], label='Positivo', marker='^', color='blue')\n",
    "plt.scatter(data['Tempo'], data['periodo_negativo'], label='Negativo', marker='+', color='red')\n",
    "plt.title('Diferença do Placar Visitante Durante a Partida')\n",
    "plt.xlabel('Tempo de Jogo em Segundos')\n",
    "plt.ylabel('Diferença do Placar')\n",
    "plt.legend(loc='upper left')\n",
    "for x in quartos:\n",
    "    plt.axvline(x, color='red', label=pontuacao.index, linestyle='--', alpha=0.5)\n",
    "plt.axhline(0, color='orange', label=pontuacao.index, alpha=0.5)"
   ]
  },
  {
   "cell_type": "code",
   "execution_count": null,
   "metadata": {},
   "outputs": [],
   "source": [
    "plt.figure(figsize=(15,5))\n",
    "plt.plot(data['Tempo'], data['pontuacao'], label='Jogo', alpha=0.35)\n",
    "#plt.plot(data['Tempo'], data['media_movel_3'], label='Jogo_Média_3', alpha=0.35)\n",
    "#plt.plot(data['Tempo'], data['media_movel_6'], label='Jogo_Média_6', alpha=0.35)\n",
    "#plt.scatter(data['Tempo'], data['periodo_positivo'], label='Positivo', marker='^', color='blue')\n",
    "#plt.scatter(data['Tempo'], data['periodo_negativo'], label='Negativo', marker='+', color='red')\n",
    "plt.title('Diferença do Placar Visitante Durante a Partida')\n",
    "plt.xlabel('Tempo de Jogo em Segundos')\n",
    "plt.ylabel('Diferença do Placar')\n",
    "plt.legend(loc='upper left')\n",
    "for x in quartos:\n",
    "    plt.axvline(x, color='red', label=pontuacao.index, linestyle='--', alpha=0.5)\n",
    "plt.axhline(0, color='orange', label=pontuacao.index, alpha=0.5)"
   ]
  },
  {
   "cell_type": "markdown",
   "metadata": {},
   "source": [
    "mudar a marcação. Deixar o traço com a cor e não um marcador (mais fácil para vizualizar)"
   ]
  },
  {
   "cell_type": "code",
   "execution_count": null,
   "metadata": {},
   "outputs": [],
   "source": [
    "porcentagem_valor_anterior = pd.DataFrame()\n",
    "porcentagem_valor_anterior['porcentagem_da_dif'] = round(pontuacao['dif_visitante'].pct_change(), 2)"
   ]
  },
  {
   "cell_type": "code",
   "execution_count": null,
   "metadata": {},
   "outputs": [],
   "source": [
    "diferenca_linhas = pd.DataFrame()\n",
    "diferenca_linhas['diferenca_linhas'] = pontuacao['dif_visitante'].diff(3)"
   ]
  },
  {
   "cell_type": "code",
   "execution_count": null,
   "metadata": {},
   "outputs": [],
   "source": [
    "data['porcentagem_da_dif'] = porcentagem_valor_anterior['porcentagem_da_dif']\n",
    "data['diferenca_linhas'] = diferenca_linhas['diferenca_linhas']"
   ]
  },
  {
   "cell_type": "code",
   "execution_count": null,
   "metadata": {},
   "outputs": [],
   "source": [
    "data"
   ]
  },
  {
   "cell_type": "code",
   "execution_count": null,
   "metadata": {},
   "outputs": [],
   "source": [
    "a = []"
   ]
  },
  {
   "cell_type": "code",
   "execution_count": null,
   "metadata": {},
   "outputs": [],
   "source": [
    "for x in data['diferenca_linhas']:\n",
    "    if (x >= 3) | (x <= -3):\n",
    "        a.append(x)\n",
    "    else:\n",
    "        a.append(np.nan)"
   ]
  },
  {
   "cell_type": "code",
   "execution_count": null,
   "metadata": {},
   "outputs": [],
   "source": [
    "data['aaa'] = a"
   ]
  },
  {
   "cell_type": "code",
   "execution_count": null,
   "metadata": {},
   "outputs": [],
   "source": [
    "data"
   ]
  },
  {
   "cell_type": "code",
   "execution_count": null,
   "metadata": {},
   "outputs": [],
   "source": [
    "data.to_csv('tempo2.csv')"
   ]
  },
  {
   "cell_type": "code",
   "execution_count": null,
   "metadata": {},
   "outputs": [],
   "source": [
    "plt.figure(figsize=(15,5))\n",
    "plt.plot(data['Tempo'], data['pontuacao'], label='Jogo', alpha=0.35)\n",
    "plt.scatter(data['Tempo'], data['aaa'], label='Positivo', marker='x', color='green')\n",
    "plt.scatter(data['Tempo'], data['periodo_positivo'], label='Positivo', marker='^', color='blue')\n",
    "plt.scatter(data['Tempo'], data['periodo_negativo'], label='Negativo', marker='+', color='red')\n",
    "plt.title('Diferença do Placar Visitante Durante a Partida')\n",
    "plt.xlabel('Tempo de Jogo em Segundos')\n",
    "plt.ylabel('Diferença do Placar')\n",
    "plt.legend(loc='upper left')\n",
    "for x in quartos:\n",
    "    plt.axvline(x, color='red', label=pontuacao.index, linestyle='--', alpha=0.5)\n",
    "plt.axhline(5, color='orange', label=pontuacao.index, alpha=0.5)"
   ]
  },
  {
   "cell_type": "markdown",
   "metadata": {},
   "source": [
    "# Analie da Posse de Bola dos times"
   ]
  },
  {
   "cell_type": "markdown",
   "metadata": {},
   "source": [
    "Estava trabalahndo nela, mas acabei parando "
   ]
  },
  {
   "cell_type": "code",
   "execution_count": null,
   "metadata": {},
   "outputs": [],
   "source": [
    "posse_bola = df[(df['Indicador'] == '3_Pts_C') | (df['Indicador'] == '3_Pts_T') | \n",
    "                (df['Indicador'] == '2_Pts_C') | (df['Indicador'] == '2_Pts_C') |\n",
    "                (df['Indicador'] == 'LL_Pts_C') | (df['Indicador'] == 'LL_Pts_C') |\n",
    "                (df['Indicador'] == 'ER') | (df['Indicador'] == 'fim_quarto') |\n",
    "                (df['Indicador'] == 'inicio_partida') | (df['Indicador'] == 'inicio_quarto') |\n",
    "               "
   ]
  },
  {
   "cell_type": "code",
   "execution_count": null,
   "metadata": {
    "scrolled": true
   },
   "outputs": [],
   "source": [
    "posse_bola[\"diferenca\"] = posse_bola[\"Tempo\"].diff(-1)"
   ]
  },
  {
   "cell_type": "code",
   "execution_count": null,
   "metadata": {},
   "outputs": [],
   "source": [
    "posse_bola.to_csv('tempo2.csv')"
   ]
  },
  {
   "cell_type": "code",
   "execution_count": null,
   "metadata": {},
   "outputs": [],
   "source": [
    "filtro = (posse_bola['diferenca'] >= 1) | (posse_bola['Indicador'] == 'inicio_partida') | (posse_bola['Indicador'] == 'fim_quarto')\n",
    "valor_posse_bola = posse_bola[filtro]"
   ]
  },
  {
   "cell_type": "code",
   "execution_count": null,
   "metadata": {},
   "outputs": [],
   "source": [
    "valor_posse_bola"
   ]
  },
  {
   "cell_type": "code",
   "execution_count": null,
   "metadata": {},
   "outputs": [],
   "source": [
    "valor_posse_bola.to_csv('valor_posse_bola.csv')"
   ]
  },
  {
   "cell_type": "code",
   "execution_count": null,
   "metadata": {},
   "outputs": [],
   "source": []
  },
  {
   "cell_type": "code",
   "execution_count": null,
   "metadata": {},
   "outputs": [],
   "source": []
  },
  {
   "cell_type": "code",
   "execution_count": null,
   "metadata": {},
   "outputs": [],
   "source": [
    "plt.figure(figsize=(15,5))\n",
    "sns.barplot(valor_posse_bola['Tempo'], valor_posse_bola['diferenca'])"
   ]
  },
  {
   "cell_type": "code",
   "execution_count": null,
   "metadata": {},
   "outputs": [],
   "source": [
    "Flamengo = df.query(\"Time == 'FLA'\")"
   ]
  },
  {
   "cell_type": "code",
   "execution_count": null,
   "metadata": {},
   "outputs": [],
   "source": [
    "placar_flamengo = Flamengo[(Flamengo['Indicador'] == '3_Pts_C') | (Flamengo['Indicador'] == '3_Pts_T') | \n",
    "                (Flamengo['Indicador'] == '2_Pts_C') | (Flamengo['Indicador'] == '2_Pts_C') |\n",
    "                (Flamengo['Indicador'] == 'LL_Pts_C') | (Flamengo['Indicador'] == 'LL_Pts_C')]"
   ]
  },
  {
   "cell_type": "code",
   "execution_count": null,
   "metadata": {},
   "outputs": [],
   "source": [
    "placar_flamengo"
   ]
  },
  {
   "cell_type": "code",
   "execution_count": null,
   "metadata": {},
   "outputs": [],
   "source": [
    "plt.figure(figsize=(15,5))\n",
    "sns.lineplot(data=placar_flamengo, x=\"Tempo\", y=\"placar_casa\")"
   ]
  },
  {
   "cell_type": "code",
   "execution_count": null,
   "metadata": {},
   "outputs": [],
   "source": [
    "plt.figure(figsize=(15,5))\n",
    "sns.lineplot(data=placar_flamengo, x=\"Tempo\", y=\"placar_visitante\")"
   ]
  },
  {
   "cell_type": "code",
   "execution_count": null,
   "metadata": {},
   "outputs": [],
   "source": []
  },
  {
   "cell_type": "code",
   "execution_count": null,
   "metadata": {},
   "outputs": [],
   "source": [
    "Flamengo = df.query(\"Time == 'FLA'\").sort_values(by=['Tempo'])"
   ]
  },
  {
   "cell_type": "code",
   "execution_count": null,
   "metadata": {},
   "outputs": [],
   "source": [
    "placar_flamengo = Flamengo[(Flamengo['Indicador'] == '3_Pts_C') | (Flamengo['Indicador'] == '3_Pts_T') | \n",
    "                (Flamengo['Indicador'] == '2_Pts_C') | (Flamengo['Indicador'] == '2_Pts_C') |\n",
    "                (Flamengo['Indicador'] == 'LL_Pts_C') | (Flamengo['Indicador'] == 'LL_Pts_C')]"
   ]
  },
  {
   "cell_type": "code",
   "execution_count": null,
   "metadata": {},
   "outputs": [],
   "source": [
    "placar_flamengo.set_index(\"Tempo\", inplace=True)"
   ]
  },
  {
   "cell_type": "code",
   "execution_count": null,
   "metadata": {},
   "outputs": [],
   "source": [
    "placar_flamengo_valor = placar_flamengo['placar_casa']"
   ]
  },
  {
   "cell_type": "code",
   "execution_count": null,
   "metadata": {},
   "outputs": [],
   "source": [
    "placar_flamengo_valor"
   ]
  },
  {
   "cell_type": "code",
   "execution_count": null,
   "metadata": {},
   "outputs": [],
   "source": [
    "plt.figure(figsize=(15,5))\n",
    "flamengo_media_movel = placar_flamengo_valor.plot()"
   ]
  },
  {
   "cell_type": "code",
   "execution_count": null,
   "metadata": {},
   "outputs": [],
   "source": [
    "flamengo_media_movel = placar_flamengo_valor.rolling(window=10).mean()"
   ]
  },
  {
   "cell_type": "code",
   "execution_count": null,
   "metadata": {},
   "outputs": [],
   "source": [
    "flamengo_media_movel"
   ]
  },
  {
   "cell_type": "code",
   "execution_count": null,
   "metadata": {},
   "outputs": [],
   "source": [
    "flamengo_dev_pad = placar_flamengo_valor.rolling(window=10).std()"
   ]
  },
  {
   "cell_type": "code",
   "execution_count": null,
   "metadata": {},
   "outputs": [],
   "source": [
    "flamengo_dev_pad"
   ]
  },
  {
   "cell_type": "code",
   "execution_count": null,
   "metadata": {},
   "outputs": [],
   "source": [
    "under_line = (flamengo_media_movel-flamengo_dev_pad)\n",
    "over_line = (flamengo_media_movel+flamengo_dev_pad)"
   ]
  },
  {
   "cell_type": "code",
   "execution_count": null,
   "metadata": {},
   "outputs": [],
   "source": [
    "plt.figure(figsize=(15,5))\n",
    "plt.plot(flamengo_media_movel, linewidth=2)\n",
    "plt.fill_between(flamengo_dev_pad, under_line, over_line, color='b', alpha=.1) #std curves."
   ]
  },
  {
   "cell_type": "code",
   "execution_count": null,
   "metadata": {},
   "outputs": [],
   "source": [
    "plt.figure(figsize=(15,5))\n",
    "plt.plot(flamengo_media_movel, linewidth=2) #mean curve.\n",
    "plt.fill_between(flamengo_dev_pad.index, under_line, over_line, color='b', alpha=.1) #std curves."
   ]
  },
  {
   "cell_type": "code",
   "execution_count": null,
   "metadata": {},
   "outputs": [],
   "source": []
  }
 ],
 "metadata": {
  "kernelspec": {
   "display_name": "Python 3",
   "language": "python",
   "name": "python3"
  },
  "language_info": {
   "codemirror_mode": {
    "name": "ipython",
    "version": 3
   },
   "file_extension": ".py",
   "mimetype": "text/x-python",
   "name": "python",
   "nbconvert_exporter": "python",
   "pygments_lexer": "ipython3",
   "version": "3.8.3"
  }
 },
 "nbformat": 4,
 "nbformat_minor": 4
}
