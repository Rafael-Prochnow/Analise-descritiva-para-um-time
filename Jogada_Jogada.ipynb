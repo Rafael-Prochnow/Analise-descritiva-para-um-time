{
 "cells": [
  {
   "cell_type": "markdown",
   "metadata": {},
   "source": [
    "# Projeto: Jogada-Jogada NBB"
   ]
  },
  {
   "cell_type": "markdown",
   "metadata": {
    "heading_collapsed": true
   },
   "source": [
    "## def"
   ]
  },
  {
   "cell_type": "code",
   "execution_count": 1,
   "metadata": {
    "hidden": true
   },
   "outputs": [],
   "source": [
    "def siglas(nome_time):\n",
    "    if nome_time == 'Bauru':\n",
    "        return 'BAU'\n",
    "    elif nome_time == 'Mogi das Cruzes':\n",
    "        return 'MOG'\n",
    "    elif nome_time == 'VipTech CMB':\n",
    "        return 'CMO'\n",
    "    elif nome_time == 'Flamengo':\n",
    "        return 'FLA'\n",
    "    elif nome_time == 'Minas':\n",
    "        return 'MIN'\n",
    "    elif nome_time == 'UNIFACISA':\n",
    "        return 'UFC'\n",
    "    elif nome_time == 'Cerrado Basquete':\n",
    "        return 'CER'\n",
    "    elif nome_time == 'Sesi Franca':\n",
    "        return 'FRA'\n",
    "    elif nome_time == 'Corinthians':\n",
    "        return 'COR'\n",
    "    elif nome_time == 'Pinheiros':\n",
    "        return 'PIN'\n",
    "    elif nome_time == 'KTO Caxias do Sul':\n",
    "        return 'CAX'\n",
    "    elif nome_time == 'Pato Basquete':\n",
    "        return 'PAT'\n",
    "    elif nome_time == 'São Paulo':\n",
    "        return 'SPF'\n",
    "    elif nome_time == 'Rio Claro':\n",
    "        return 'RCB'\n",
    "    elif nome_time == 'São José':\n",
    "        return 'SJO'\n",
    "    elif nome_time == 'Botafogo':\n",
    "        return 'BOT'\n",
    "    elif nome_time == 'Vasco da Gama':\n",
    "        return 'VAS'\n",
    "    elif nome_time == 'Joinville   AABJ ':\n",
    "        return 'JLE'\n",
    "    elif nome_time == 'Palmeiras':\n",
    "        return 'PAL'\n",
    "    elif nome_time == 'Uberlândia':\n",
    "        return 'UBE'\n",
    "    elif nome_time == 'Limeira':\n",
    "        return 'LIM'\n",
    "    elif nome_time == 'Vitória':\n",
    "        return 'VIT'\n",
    "    elif nome_time == 'Liga Sorocabana':\n",
    "        return 'LSB'\n",
    "    elif nome_time == 'Caxias do Sul':\n",
    "        return 'CAX'\n",
    "    elif nome_time == 'Macaé Basquete':\n",
    "        return 'MAC'\n",
    "    elif nome_time == 'Espírito Santo':\n",
    "        return 'ESB'\n",
    "    elif nome_time == 'Goiânia':\n",
    "        return 'GOI'\n",
    "    elif nome_time == 'Brasília':\n",
    "        return 'BRA'\n",
    "    elif nome_time == 'Fortaleza Basquete':\n",
    "        return 'CEA'\n",
    "    elif nome_time == 'Paulistano':\n",
    "        return 'CAP'\n",
    "    elif nome_time == 'Basquete Cearense':\n",
    "        return 'CEA'"
   ]
  },
  {
   "cell_type": "markdown",
   "metadata": {
    "heading_collapsed": true
   },
   "source": [
    "## ..."
   ]
  },
  {
   "cell_type": "markdown",
   "metadata": {
    "hidden": true
   },
   "source": [
    "Para esse projeto estaremos analisando jogos do NBB, principal campeonato brasileiro de basquetebol. Os dados contém os seguintes campos:\n",
    "\n",
    "Colunas:\n",
    "* Quartos\n",
    "* Tempo\n",
    "* placar_casa\n",
    "* placar_visitante\n",
    "* Nome\n",
    "*\n",
    "\n",
    "\n",
    "Coluna Indicadores técnicos:\n",
    "\n",
    "* fim_quarto -> Fim de quarto (qualquer quarto)\n",
    "* inicio_quarto -> Inicio de quarto (qualquer quarto)\n",
    "* fim_partida  -> Fim da Partida\n",
    "* incio partida -> Inicio da Partida\n",
    "* Min        -> Minutos jogados do jogador\n",
    "* Pts_C      -> Pontos Convertidos \n",
    "* Pts_T      -> Pontos Tentados \n",
    "* Pts_3_C    -> Três Pontos Convertidos \n",
    "* Pts_3_T    -> Três Pontos Tentados\n",
    "* Pts_2_C    -> Dois Pontos Convertidos\n",
    "* Pts_2_T    -> Dois Pontos Tentados\n",
    "* LL_Pts_C   -> Lances Livres Convertidos\n",
    "* LL_Pts_T   -> Lances Livres Tentados\n",
    "* RO         -> Rebotes Ofensivos\n",
    "* RD         -> Rebotes Defensivos\n",
    "* RT         -> Rebotes Totais\n",
    "* AS         -> Assistências\n",
    "* BR         -> Bolas Roubadas \n",
    "* TO         -> Tocos\n",
    "* FC         -> Faltas Cometidas\n",
    "* FC_T         -> Faltas Técnica\n",
    "* FC_A         -> Faltas Antidesportiva\n",
    "* FC_O       -> Faltas Ofensiva\n",
    "* FC_D        -> Faltas Desqualificante\n",
    "* Entra       -> Entrada na Substituição \n",
    "* Sai           -> Saida na Substituição \n",
    "* tempo_tecnico -> Tempo Técnico\n",
    "* ER         -> Erros\n",
    "* FR         -> Faltas Recebidas \n",
    "* EN         -> Enterradas\n",
    "* Ar_Pts_C   -> Arremessos dos Pontos Convertidos\n",
    "* Ar_Pts_C   -> Arremessos dos Pontos Tentados \n",
    "* Pos        -> Posse de bola do time "
   ]
  },
  {
   "cell_type": "markdown",
   "metadata": {},
   "source": [
    "## Bibliotecas"
   ]
  },
  {
   "cell_type": "code",
   "execution_count": 2,
   "metadata": {},
   "outputs": [],
   "source": [
    "# !pip install dataframe_image"
   ]
  },
  {
   "cell_type": "code",
   "execution_count": 3,
   "metadata": {},
   "outputs": [],
   "source": [
    "import numpy as np\n",
    "import pandas as pd\n",
    "import datetime as dt\n",
    "from datetime import datetime\n",
    "import re\n",
    "import dataframe_image as dfi\n",
    "import matplotlib.pyplot as plt\n",
    "import seaborn as sns\n",
    "from matplotlib.collections import LineCollection\n",
    "from fpdf import FPDF\n",
    "from funcoes_relatorio_analises1 import *"
   ]
  },
  {
   "cell_type": "markdown",
   "metadata": {},
   "source": [
    "## Jogos"
   ]
  },
  {
   "cell_type": "code",
   "execution_count": 4,
   "metadata": {},
   "outputs": [],
   "source": [
    "# arquivo = \"tabela_1_VipTech CMB_x_Fortaleza B.csv\"\n",
    "# arquivo = \"tabela_2_Flamengo_x_Minas.csv\"\n",
    "# arquivo = \"tabela_3_UNIFACISA_x_VipTech CMB.csv\"\n",
    "# arquivo = \"tabela_6_Minas_x_Pato Basquete.csv\"\n",
    "# arquivo = \"tabela_79_Brasília_x_Flamengo.csv\""
   ]
  },
  {
   "cell_type": "code",
   "execution_count": 5,
   "metadata": {},
   "outputs": [],
   "source": [
    "arquivo = \"Brasília_x_Rio Claro.csv\"\n",
    "# erro 5"
   ]
  },
  {
   "cell_type": "code",
   "execution_count": 6,
   "metadata": {},
   "outputs": [],
   "source": [
    "# df = pd.read_csv(\"tabela_1_VipTech CMB_x_Fortaleza B. C.1.csv\")"
   ]
  },
  {
   "cell_type": "markdown",
   "metadata": {},
   "source": [
    "## Código"
   ]
  },
  {
   "cell_type": "code",
   "execution_count": 7,
   "metadata": {},
   "outputs": [],
   "source": [
    "df = pd.read_csv(arquivo)\n",
    "# Substituir algum nome de time que esteja diferente do padrão\n",
    "df.replace(to_replace='BRB/Brasília', value='Brasília', inplace=True)\n",
    "df.replace(to_replace='Rio Claro/ABDC', value='Rio Claro', inplace=True)"
   ]
  },
  {
   "cell_type": "code",
   "execution_count": 8,
   "metadata": {},
   "outputs": [
    {
     "data": {
      "text/plain": [
       "['Brasília', 'Rio Claro']"
      ]
     },
     "execution_count": 8,
     "metadata": {},
     "output_type": "execute_result"
    }
   ],
   "source": [
    "expressao_regular = re.findall(r'[A-Z].*?[.]', arquivo)\n",
    "expressao_regular = str(expressao_regular).strip(\"['.']\").split('_x_')\n",
    "expressao_regular"
   ]
  },
  {
   "cell_type": "markdown",
   "metadata": {},
   "source": [
    "### criar um df que identifique o Mogi e colocar mogi das cruzes "
   ]
  },
  {
   "cell_type": "code",
   "execution_count": 9,
   "metadata": {},
   "outputs": [
    {
     "data": {
      "text/plain": [
       "'Brasília'"
      ]
     },
     "execution_count": 9,
     "metadata": {},
     "output_type": "execute_result"
    }
   ],
   "source": [
    "nome_time_casa = expressao_regular[0]\n",
    "nome_time_casa"
   ]
  },
  {
   "cell_type": "code",
   "execution_count": 10,
   "metadata": {},
   "outputs": [
    {
     "data": {
      "text/plain": [
       "'Rio Claro'"
      ]
     },
     "execution_count": 10,
     "metadata": {},
     "output_type": "execute_result"
    }
   ],
   "source": [
    "nome_time_fora = expressao_regular[1]\n",
    "nome_time_fora"
   ]
  },
  {
   "cell_type": "markdown",
   "metadata": {},
   "source": [
    "## Precisa colocar algumas informações básicas sobre o jogo para que completar a tabela "
   ]
  },
  {
   "cell_type": "code",
   "execution_count": 11,
   "metadata": {},
   "outputs": [
    {
     "data": {
      "text/html": [
       "<div>\n",
       "<style scoped>\n",
       "    .dataframe tbody tr th:only-of-type {\n",
       "        vertical-align: middle;\n",
       "    }\n",
       "\n",
       "    .dataframe tbody tr th {\n",
       "        vertical-align: top;\n",
       "    }\n",
       "\n",
       "    .dataframe thead th {\n",
       "        text-align: right;\n",
       "    }\n",
       "</style>\n",
       "<table border=\"1\" class=\"dataframe\">\n",
       "  <thead>\n",
       "    <tr style=\"text-align: right;\">\n",
       "      <th></th>\n",
       "      <th>Unnamed: 0</th>\n",
       "      <th>Quarto</th>\n",
       "      <th>Tempo</th>\n",
       "      <th>placar_casa</th>\n",
       "      <th>placar_visitante</th>\n",
       "      <th>Time</th>\n",
       "      <th>Indicador</th>\n",
       "      <th>Nome</th>\n",
       "    </tr>\n",
       "  </thead>\n",
       "  <tbody>\n",
       "    <tr>\n",
       "      <th>0</th>\n",
       "      <td>0</td>\n",
       "      <td>4</td>\n",
       "      <td>00:00</td>\n",
       "      <td>68</td>\n",
       "      <td>63</td>\n",
       "      <td>NaN</td>\n",
       "      <td>fim_partida</td>\n",
       "      <td>NaN</td>\n",
       "    </tr>\n",
       "    <tr>\n",
       "      <th>1</th>\n",
       "      <td>1</td>\n",
       "      <td>4</td>\n",
       "      <td>00:00</td>\n",
       "      <td>68</td>\n",
       "      <td>63</td>\n",
       "      <td>NaN</td>\n",
       "      <td>fim_quarto</td>\n",
       "      <td>NaN</td>\n",
       "    </tr>\n",
       "    <tr>\n",
       "      <th>2</th>\n",
       "      <td>2</td>\n",
       "      <td>4</td>\n",
       "      <td>00:02</td>\n",
       "      <td>68</td>\n",
       "      <td>63</td>\n",
       "      <td>BRA</td>\n",
       "      <td>RD</td>\n",
       "      <td>Suassuna</td>\n",
       "    </tr>\n",
       "    <tr>\n",
       "      <th>3</th>\n",
       "      <td>3</td>\n",
       "      <td>4</td>\n",
       "      <td>00:02</td>\n",
       "      <td>68</td>\n",
       "      <td>63</td>\n",
       "      <td>RCB</td>\n",
       "      <td>2_Pts_T</td>\n",
       "      <td>Augusto</td>\n",
       "    </tr>\n",
       "    <tr>\n",
       "      <th>4</th>\n",
       "      <td>4</td>\n",
       "      <td>4</td>\n",
       "      <td>00:04</td>\n",
       "      <td>68</td>\n",
       "      <td>63</td>\n",
       "      <td>RCB</td>\n",
       "      <td>RO</td>\n",
       "      <td>Augusto</td>\n",
       "    </tr>\n",
       "    <tr>\n",
       "      <th>...</th>\n",
       "      <td>...</td>\n",
       "      <td>...</td>\n",
       "      <td>...</td>\n",
       "      <td>...</td>\n",
       "      <td>...</td>\n",
       "      <td>...</td>\n",
       "      <td>...</td>\n",
       "      <td>...</td>\n",
       "    </tr>\n",
       "    <tr>\n",
       "      <th>591</th>\n",
       "      <td>591</td>\n",
       "      <td>1</td>\n",
       "      <td>10:00</td>\n",
       "      <td>0</td>\n",
       "      <td>0</td>\n",
       "      <td>BRA</td>\n",
       "      <td>substituicao_entra</td>\n",
       "      <td>Felipe</td>\n",
       "    </tr>\n",
       "    <tr>\n",
       "      <th>592</th>\n",
       "      <td>592</td>\n",
       "      <td>1</td>\n",
       "      <td>10:00</td>\n",
       "      <td>0</td>\n",
       "      <td>0</td>\n",
       "      <td>BRA</td>\n",
       "      <td>substituicao_entra</td>\n",
       "      <td>Cadu</td>\n",
       "    </tr>\n",
       "    <tr>\n",
       "      <th>593</th>\n",
       "      <td>593</td>\n",
       "      <td>1</td>\n",
       "      <td>10:00</td>\n",
       "      <td>0</td>\n",
       "      <td>0</td>\n",
       "      <td>BRA</td>\n",
       "      <td>substituicao_entra</td>\n",
       "      <td>Aguiar</td>\n",
       "    </tr>\n",
       "    <tr>\n",
       "      <th>594</th>\n",
       "      <td>594</td>\n",
       "      <td>1</td>\n",
       "      <td>10:00</td>\n",
       "      <td>0</td>\n",
       "      <td>0</td>\n",
       "      <td>BRA</td>\n",
       "      <td>substituicao_entra</td>\n",
       "      <td>Gabriel</td>\n",
       "    </tr>\n",
       "    <tr>\n",
       "      <th>595</th>\n",
       "      <td>595</td>\n",
       "      <td>1</td>\n",
       "      <td>10:00</td>\n",
       "      <td>0</td>\n",
       "      <td>0</td>\n",
       "      <td>NaN</td>\n",
       "      <td>inicio_partida</td>\n",
       "      <td>NaN</td>\n",
       "    </tr>\n",
       "  </tbody>\n",
       "</table>\n",
       "<p>596 rows × 8 columns</p>\n",
       "</div>"
      ],
      "text/plain": [
       "     Unnamed: 0  Quarto  Tempo  placar_casa  placar_visitante Time  \\\n",
       "0             0       4  00:00           68                63  NaN   \n",
       "1             1       4  00:00           68                63  NaN   \n",
       "2             2       4  00:02           68                63  BRA   \n",
       "3             3       4  00:02           68                63  RCB   \n",
       "4             4       4  00:04           68                63  RCB   \n",
       "..          ...     ...    ...          ...               ...  ...   \n",
       "591         591       1  10:00            0                 0  BRA   \n",
       "592         592       1  10:00            0                 0  BRA   \n",
       "593         593       1  10:00            0                 0  BRA   \n",
       "594         594       1  10:00            0                 0  BRA   \n",
       "595         595       1  10:00            0                 0  NaN   \n",
       "\n",
       "              Indicador      Nome  \n",
       "0           fim_partida       NaN  \n",
       "1            fim_quarto       NaN  \n",
       "2                    RD  Suassuna  \n",
       "3               2_Pts_T   Augusto  \n",
       "4                    RO   Augusto  \n",
       "..                  ...       ...  \n",
       "591  substituicao_entra    Felipe  \n",
       "592  substituicao_entra      Cadu  \n",
       "593  substituicao_entra    Aguiar  \n",
       "594  substituicao_entra   Gabriel  \n",
       "595      inicio_partida       NaN  \n",
       "\n",
       "[596 rows x 8 columns]"
      ]
     },
     "execution_count": 11,
     "metadata": {},
     "output_type": "execute_result"
    }
   ],
   "source": [
    "df"
   ]
  },
  {
   "cell_type": "markdown",
   "metadata": {},
   "source": [
    "# Informações básicas sobre o jogo "
   ]
  },
  {
   "cell_type": "code",
   "execution_count": 12,
   "metadata": {},
   "outputs": [],
   "source": [
    "data_hoje = datetime.today().strftime('%d/%m/%Y')\n",
    "dia_do_jogo = '02/01/2021'\n",
    "temporada = 2019\n",
    "sigla_time_a = siglas(nome_time_casa)\n",
    "sigla_time_b = siglas(nome_time_fora)\n",
    "casa = 'casa'\n",
    "fora = 'fora'\n",
    "classificatoria = '1 Turno'"
   ]
  },
  {
   "cell_type": "code",
   "execution_count": 13,
   "metadata": {},
   "outputs": [
    {
     "data": {
      "text/plain": [
       "'BRA'"
      ]
     },
     "execution_count": 13,
     "metadata": {},
     "output_type": "execute_result"
    }
   ],
   "source": [
    "sigla_time_a"
   ]
  },
  {
   "cell_type": "code",
   "execution_count": 14,
   "metadata": {},
   "outputs": [
    {
     "data": {
      "text/plain": [
       "'RCB'"
      ]
     },
     "execution_count": 14,
     "metadata": {},
     "output_type": "execute_result"
    }
   ],
   "source": [
    "sigla_time_b"
   ]
  },
  {
   "cell_type": "code",
   "execution_count": 15,
   "metadata": {},
   "outputs": [],
   "source": [
    "arquivo = 'RELATORIO'\n",
    "arquivo1 = f'informacoes_dos_times/{nome_time_casa}'\n",
    "arquivo2 = f'informacoes_dos_times/{nome_time_fora}'\n",
    "img_casa = f'{arquivo1}/{nome_time_casa}'\n",
    "img_fora = f'{arquivo2}/{nome_time_fora}'"
   ]
  },
  {
   "cell_type": "code",
   "execution_count": 16,
   "metadata": {},
   "outputs": [
    {
     "data": {
      "text/plain": [
       "'02/01/2021'"
      ]
     },
     "execution_count": 16,
     "metadata": {},
     "output_type": "execute_result"
    }
   ],
   "source": [
    "dia_do_jogo"
   ]
  },
  {
   "cell_type": "markdown",
   "metadata": {},
   "source": [
    "# Limpeza dos dados "
   ]
  },
  {
   "cell_type": "markdown",
   "metadata": {},
   "source": [
    "* primeiro evitar NAN (acredite!!! tem isso no site)"
   ]
  },
  {
   "cell_type": "code",
   "execution_count": 17,
   "metadata": {},
   "outputs": [],
   "source": [
    "df.dropna(subset=['Tempo'], inplace=True)"
   ]
  },
  {
   "cell_type": "markdown",
   "metadata": {},
   "source": [
    "* mudança do tempo\n",
    "* colocar todos em segundos para facilitar a vida\n",
    "* tem jogos que o site apresenta numeros inteiros (1, 12, 134, 1000)\n",
    "* para isso localizei o valores errados e concertei"
   ]
  },
  {
   "cell_type": "code",
   "execution_count": 18,
   "metadata": {},
   "outputs": [],
   "source": [
    "mudar_hora = []\n",
    "for x in df['Tempo']:\n",
    "    if re.findall(r'..:..', x):\n",
    "        mudar_hora.append(x)\n",
    "    else:\n",
    "        if re.findall(r'....', x):\n",
    "            x = x[0:2] + ':' + x[2:4]\n",
    "            mudar_hora.append(x)\n",
    "        elif re.findall(r'...', x):\n",
    "            x = '0' + x[0] + ':' + x[1:3]\n",
    "            mudar_hora.append(x)\n",
    "        elif re.findall(r'..', x):\n",
    "            x = '00:' + x\n",
    "            mudar_hora.append(x)\n",
    "        elif re.findall(r'.', x):\n",
    "            x = '00:0' + x\n",
    "            mudar_hora.append(x)\n",
    "\n",
    "df['Tempo_2'] = mudar_hora\n",
    "df.drop('Tempo', axis=1, inplace=True)"
   ]
  },
  {
   "cell_type": "code",
   "execution_count": 19,
   "metadata": {},
   "outputs": [],
   "source": [
    "df['Tempo_2'] = df['Tempo_2'].apply(lambda x: dt.datetime.strptime(x, '%M:%S'))"
   ]
  },
  {
   "cell_type": "code",
   "execution_count": 20,
   "metadata": {},
   "outputs": [],
   "source": [
    "df['Tempo_2'] = df['Tempo_2'].apply(lambda x: dt.time(x.hour, x.minute, x.second))"
   ]
  },
  {
   "cell_type": "code",
   "execution_count": 21,
   "metadata": {},
   "outputs": [],
   "source": [
    "df['Tempo_2'] = df['Tempo_2'].apply(lambda x: (x.hour * 60 + x.minute) * 60 + x.second)"
   ]
  },
  {
   "cell_type": "code",
   "execution_count": 22,
   "metadata": {},
   "outputs": [],
   "source": [
    "# transforma os dados para números inteiros\n",
    "df['Quarto'] = df['Quarto'].apply(lambda l: int(l))"
   ]
  },
  {
   "cell_type": "code",
   "execution_count": 23,
   "metadata": {},
   "outputs": [],
   "source": [
    "# modificar o tempo decrescente para crescente (* -1)\n",
    "# acrescentar o tempo de cada quarto (primeiro quarto termina em 600s, o segundo quarto 2*600 = 1200 ...)\n",
    "tempo_novo = []\n",
    "for x, y in zip(df['Quarto'], df['Tempo_2']):\n",
    "    if x == 1:\n",
    "        a = (y - (600 * 1)) * -1\n",
    "        tempo_novo.append(a)\n",
    "    elif x == 2:\n",
    "        a = (y - (600 * 2)) * -1\n",
    "        tempo_novo.append(a)\n",
    "    elif x == 3:\n",
    "        a = (y - (600 * 3)) * -1\n",
    "        tempo_novo.append(a)\n",
    "    elif x == 4:\n",
    "        a = (y - (600 * 4)) * -1\n",
    "        tempo_novo.append(a)\n",
    "    elif x == 5:\n",
    "        a = (y - (600 * 4.5)) * -1\n",
    "        tempo_novo.append(a)\n",
    "    elif x == 6:\n",
    "        a = (y - (600 * 5)) * -1\n",
    "        tempo_novo.append(a)\n",
    "    elif x == 7:\n",
    "        a = (y - (600 * 5.5)) * -1\n",
    "        tempo_novo.append(a)\n",
    "\n",
    "df['Tempo'] = tempo_novo\n",
    "df.drop('Tempo_2', axis=1, inplace=True)"
   ]
  },
  {
   "cell_type": "code",
   "execution_count": 24,
   "metadata": {},
   "outputs": [],
   "source": [
    "# deixando o DataFrame nessa ordem de colunas\n",
    "df = df[['Quarto', 'Tempo', 'placar_casa', 'placar_visitante', 'Time', 'Indicador', 'Nome']]"
   ]
  },
  {
   "cell_type": "code",
   "execution_count": 25,
   "metadata": {},
   "outputs": [
    {
     "data": {
      "text/html": [
       "<div>\n",
       "<style scoped>\n",
       "    .dataframe tbody tr th:only-of-type {\n",
       "        vertical-align: middle;\n",
       "    }\n",
       "\n",
       "    .dataframe tbody tr th {\n",
       "        vertical-align: top;\n",
       "    }\n",
       "\n",
       "    .dataframe thead th {\n",
       "        text-align: right;\n",
       "    }\n",
       "</style>\n",
       "<table border=\"1\" class=\"dataframe\">\n",
       "  <thead>\n",
       "    <tr style=\"text-align: right;\">\n",
       "      <th></th>\n",
       "      <th>Quarto</th>\n",
       "      <th>Tempo</th>\n",
       "      <th>placar_casa</th>\n",
       "      <th>placar_visitante</th>\n",
       "      <th>Time</th>\n",
       "      <th>Indicador</th>\n",
       "      <th>Nome</th>\n",
       "      <th>diferenca_placar_casa</th>\n",
       "      <th>diferenca_placar_visitante</th>\n",
       "      <th>diferenca_placar_absoluto</th>\n",
       "    </tr>\n",
       "  </thead>\n",
       "  <tbody>\n",
       "    <tr>\n",
       "      <th>0</th>\n",
       "      <td>4</td>\n",
       "      <td>2400</td>\n",
       "      <td>68</td>\n",
       "      <td>63</td>\n",
       "      <td>NaN</td>\n",
       "      <td>fim_partida</td>\n",
       "      <td>NaN</td>\n",
       "      <td>5</td>\n",
       "      <td>-5</td>\n",
       "      <td>5</td>\n",
       "    </tr>\n",
       "    <tr>\n",
       "      <th>1</th>\n",
       "      <td>4</td>\n",
       "      <td>2400</td>\n",
       "      <td>68</td>\n",
       "      <td>63</td>\n",
       "      <td>NaN</td>\n",
       "      <td>fim_quarto</td>\n",
       "      <td>NaN</td>\n",
       "      <td>5</td>\n",
       "      <td>-5</td>\n",
       "      <td>5</td>\n",
       "    </tr>\n",
       "    <tr>\n",
       "      <th>2</th>\n",
       "      <td>4</td>\n",
       "      <td>2398</td>\n",
       "      <td>68</td>\n",
       "      <td>63</td>\n",
       "      <td>BRA</td>\n",
       "      <td>RD</td>\n",
       "      <td>Suassuna</td>\n",
       "      <td>5</td>\n",
       "      <td>-5</td>\n",
       "      <td>5</td>\n",
       "    </tr>\n",
       "    <tr>\n",
       "      <th>3</th>\n",
       "      <td>4</td>\n",
       "      <td>2398</td>\n",
       "      <td>68</td>\n",
       "      <td>63</td>\n",
       "      <td>RCB</td>\n",
       "      <td>2_Pts_T</td>\n",
       "      <td>Augusto</td>\n",
       "      <td>5</td>\n",
       "      <td>-5</td>\n",
       "      <td>5</td>\n",
       "    </tr>\n",
       "    <tr>\n",
       "      <th>4</th>\n",
       "      <td>4</td>\n",
       "      <td>2396</td>\n",
       "      <td>68</td>\n",
       "      <td>63</td>\n",
       "      <td>RCB</td>\n",
       "      <td>RO</td>\n",
       "      <td>Augusto</td>\n",
       "      <td>5</td>\n",
       "      <td>-5</td>\n",
       "      <td>5</td>\n",
       "    </tr>\n",
       "    <tr>\n",
       "      <th>...</th>\n",
       "      <td>...</td>\n",
       "      <td>...</td>\n",
       "      <td>...</td>\n",
       "      <td>...</td>\n",
       "      <td>...</td>\n",
       "      <td>...</td>\n",
       "      <td>...</td>\n",
       "      <td>...</td>\n",
       "      <td>...</td>\n",
       "      <td>...</td>\n",
       "    </tr>\n",
       "    <tr>\n",
       "      <th>591</th>\n",
       "      <td>1</td>\n",
       "      <td>0</td>\n",
       "      <td>0</td>\n",
       "      <td>0</td>\n",
       "      <td>BRA</td>\n",
       "      <td>substituicao_entra</td>\n",
       "      <td>Felipe</td>\n",
       "      <td>0</td>\n",
       "      <td>0</td>\n",
       "      <td>0</td>\n",
       "    </tr>\n",
       "    <tr>\n",
       "      <th>592</th>\n",
       "      <td>1</td>\n",
       "      <td>0</td>\n",
       "      <td>0</td>\n",
       "      <td>0</td>\n",
       "      <td>BRA</td>\n",
       "      <td>substituicao_entra</td>\n",
       "      <td>Cadu</td>\n",
       "      <td>0</td>\n",
       "      <td>0</td>\n",
       "      <td>0</td>\n",
       "    </tr>\n",
       "    <tr>\n",
       "      <th>593</th>\n",
       "      <td>1</td>\n",
       "      <td>0</td>\n",
       "      <td>0</td>\n",
       "      <td>0</td>\n",
       "      <td>BRA</td>\n",
       "      <td>substituicao_entra</td>\n",
       "      <td>Aguiar</td>\n",
       "      <td>0</td>\n",
       "      <td>0</td>\n",
       "      <td>0</td>\n",
       "    </tr>\n",
       "    <tr>\n",
       "      <th>594</th>\n",
       "      <td>1</td>\n",
       "      <td>0</td>\n",
       "      <td>0</td>\n",
       "      <td>0</td>\n",
       "      <td>BRA</td>\n",
       "      <td>substituicao_entra</td>\n",
       "      <td>Gabriel</td>\n",
       "      <td>0</td>\n",
       "      <td>0</td>\n",
       "      <td>0</td>\n",
       "    </tr>\n",
       "    <tr>\n",
       "      <th>595</th>\n",
       "      <td>1</td>\n",
       "      <td>0</td>\n",
       "      <td>0</td>\n",
       "      <td>0</td>\n",
       "      <td>NaN</td>\n",
       "      <td>inicio_partida</td>\n",
       "      <td>NaN</td>\n",
       "      <td>0</td>\n",
       "      <td>0</td>\n",
       "      <td>0</td>\n",
       "    </tr>\n",
       "  </tbody>\n",
       "</table>\n",
       "<p>596 rows × 10 columns</p>\n",
       "</div>"
      ],
      "text/plain": [
       "     Quarto  Tempo  placar_casa  placar_visitante Time           Indicador  \\\n",
       "0         4   2400           68                63  NaN         fim_partida   \n",
       "1         4   2400           68                63  NaN          fim_quarto   \n",
       "2         4   2398           68                63  BRA                  RD   \n",
       "3         4   2398           68                63  RCB             2_Pts_T   \n",
       "4         4   2396           68                63  RCB                  RO   \n",
       "..      ...    ...          ...               ...  ...                 ...   \n",
       "591       1      0            0                 0  BRA  substituicao_entra   \n",
       "592       1      0            0                 0  BRA  substituicao_entra   \n",
       "593       1      0            0                 0  BRA  substituicao_entra   \n",
       "594       1      0            0                 0  BRA  substituicao_entra   \n",
       "595       1      0            0                 0  NaN      inicio_partida   \n",
       "\n",
       "         Nome  diferenca_placar_casa  diferenca_placar_visitante  \\\n",
       "0         NaN                      5                          -5   \n",
       "1         NaN                      5                          -5   \n",
       "2    Suassuna                      5                          -5   \n",
       "3     Augusto                      5                          -5   \n",
       "4     Augusto                      5                          -5   \n",
       "..        ...                    ...                         ...   \n",
       "591    Felipe                      0                           0   \n",
       "592      Cadu                      0                           0   \n",
       "593    Aguiar                      0                           0   \n",
       "594   Gabriel                      0                           0   \n",
       "595       NaN                      0                           0   \n",
       "\n",
       "     diferenca_placar_absoluto  \n",
       "0                            5  \n",
       "1                            5  \n",
       "2                            5  \n",
       "3                            5  \n",
       "4                            5  \n",
       "..                         ...  \n",
       "591                          0  \n",
       "592                          0  \n",
       "593                          0  \n",
       "594                          0  \n",
       "595                          0  \n",
       "\n",
       "[596 rows x 10 columns]"
      ]
     },
     "execution_count": 25,
     "metadata": {},
     "output_type": "execute_result"
    }
   ],
   "source": [
    "# Acrescentado colunas\n",
    "# diferenca_placar_casa\n",
    "# diferenca_placar_visitante\n",
    "df['diferenca_placar_casa'] = df['placar_casa'] - df['placar_visitante']\n",
    "df['diferenca_placar_visitante'] = df['placar_visitante'] - df['placar_casa']\n",
    "df[\"diferenca_placar_absoluto\"] = df.loc[:, \"diferenca_placar_casa\"].abs()\n",
    "df"
   ]
  },
  {
   "cell_type": "markdown",
   "metadata": {},
   "source": [
    "# Análise da pontuação dos times"
   ]
  },
  {
   "cell_type": "code",
   "execution_count": 26,
   "metadata": {},
   "outputs": [
    {
     "data": {
      "text/html": [
       "<div>\n",
       "<style scoped>\n",
       "    .dataframe tbody tr th:only-of-type {\n",
       "        vertical-align: middle;\n",
       "    }\n",
       "\n",
       "    .dataframe tbody tr th {\n",
       "        vertical-align: top;\n",
       "    }\n",
       "\n",
       "    .dataframe thead th {\n",
       "        text-align: right;\n",
       "    }\n",
       "</style>\n",
       "<table border=\"1\" class=\"dataframe\">\n",
       "  <thead>\n",
       "    <tr style=\"text-align: right;\">\n",
       "      <th></th>\n",
       "      <th>Quarto</th>\n",
       "      <th>Tempo</th>\n",
       "      <th>placar_casa</th>\n",
       "      <th>placar_visitante</th>\n",
       "      <th>Time</th>\n",
       "      <th>Indicador</th>\n",
       "      <th>Nome</th>\n",
       "      <th>diferenca_placar_casa</th>\n",
       "      <th>diferenca_placar_visitante</th>\n",
       "      <th>diferenca_placar_absoluto</th>\n",
       "    </tr>\n",
       "  </thead>\n",
       "  <tbody>\n",
       "    <tr>\n",
       "      <th>0</th>\n",
       "      <td>4</td>\n",
       "      <td>2400</td>\n",
       "      <td>68</td>\n",
       "      <td>63</td>\n",
       "      <td>NaN</td>\n",
       "      <td>fim_partida</td>\n",
       "      <td>NaN</td>\n",
       "      <td>5</td>\n",
       "      <td>-5</td>\n",
       "      <td>5</td>\n",
       "    </tr>\n",
       "    <tr>\n",
       "      <th>3</th>\n",
       "      <td>4</td>\n",
       "      <td>2398</td>\n",
       "      <td>68</td>\n",
       "      <td>63</td>\n",
       "      <td>RCB</td>\n",
       "      <td>2_Pts_T</td>\n",
       "      <td>Augusto</td>\n",
       "      <td>5</td>\n",
       "      <td>-5</td>\n",
       "      <td>5</td>\n",
       "    </tr>\n",
       "    <tr>\n",
       "      <th>5</th>\n",
       "      <td>4</td>\n",
       "      <td>2396</td>\n",
       "      <td>68</td>\n",
       "      <td>63</td>\n",
       "      <td>RCB</td>\n",
       "      <td>3_Pts_T</td>\n",
       "      <td>Arthur</td>\n",
       "      <td>5</td>\n",
       "      <td>-5</td>\n",
       "      <td>5</td>\n",
       "    </tr>\n",
       "    <tr>\n",
       "      <th>9</th>\n",
       "      <td>4</td>\n",
       "      <td>2395</td>\n",
       "      <td>68</td>\n",
       "      <td>63</td>\n",
       "      <td>BRA</td>\n",
       "      <td>LL_Pts_C</td>\n",
       "      <td>Breno</td>\n",
       "      <td>5</td>\n",
       "      <td>-5</td>\n",
       "      <td>5</td>\n",
       "    </tr>\n",
       "    <tr>\n",
       "      <th>10</th>\n",
       "      <td>4</td>\n",
       "      <td>2395</td>\n",
       "      <td>67</td>\n",
       "      <td>63</td>\n",
       "      <td>BRA</td>\n",
       "      <td>LL_Pts_C</td>\n",
       "      <td>Breno</td>\n",
       "      <td>4</td>\n",
       "      <td>-4</td>\n",
       "      <td>4</td>\n",
       "    </tr>\n",
       "    <tr>\n",
       "      <th>...</th>\n",
       "      <td>...</td>\n",
       "      <td>...</td>\n",
       "      <td>...</td>\n",
       "      <td>...</td>\n",
       "      <td>...</td>\n",
       "      <td>...</td>\n",
       "      <td>...</td>\n",
       "      <td>...</td>\n",
       "      <td>...</td>\n",
       "      <td>...</td>\n",
       "    </tr>\n",
       "    <tr>\n",
       "      <th>576</th>\n",
       "      <td>1</td>\n",
       "      <td>61</td>\n",
       "      <td>0</td>\n",
       "      <td>0</td>\n",
       "      <td>BRA</td>\n",
       "      <td>2_Pts_T</td>\n",
       "      <td>Gabriel</td>\n",
       "      <td>0</td>\n",
       "      <td>0</td>\n",
       "      <td>0</td>\n",
       "    </tr>\n",
       "    <tr>\n",
       "      <th>578</th>\n",
       "      <td>1</td>\n",
       "      <td>50</td>\n",
       "      <td>0</td>\n",
       "      <td>0</td>\n",
       "      <td>RCB</td>\n",
       "      <td>2_Pts_T</td>\n",
       "      <td>Arthur</td>\n",
       "      <td>0</td>\n",
       "      <td>0</td>\n",
       "      <td>0</td>\n",
       "    </tr>\n",
       "    <tr>\n",
       "      <th>580</th>\n",
       "      <td>1</td>\n",
       "      <td>43</td>\n",
       "      <td>0</td>\n",
       "      <td>0</td>\n",
       "      <td>BRA</td>\n",
       "      <td>3_Pts_T</td>\n",
       "      <td>Breno</td>\n",
       "      <td>0</td>\n",
       "      <td>0</td>\n",
       "      <td>0</td>\n",
       "    </tr>\n",
       "    <tr>\n",
       "      <th>582</th>\n",
       "      <td>1</td>\n",
       "      <td>28</td>\n",
       "      <td>0</td>\n",
       "      <td>0</td>\n",
       "      <td>RCB</td>\n",
       "      <td>2_Pts_T</td>\n",
       "      <td>Eltinho</td>\n",
       "      <td>0</td>\n",
       "      <td>0</td>\n",
       "      <td>0</td>\n",
       "    </tr>\n",
       "    <tr>\n",
       "      <th>584</th>\n",
       "      <td>1</td>\n",
       "      <td>13</td>\n",
       "      <td>0</td>\n",
       "      <td>0</td>\n",
       "      <td>RCB</td>\n",
       "      <td>3_Pts_T</td>\n",
       "      <td>Arthur</td>\n",
       "      <td>0</td>\n",
       "      <td>0</td>\n",
       "      <td>0</td>\n",
       "    </tr>\n",
       "  </tbody>\n",
       "</table>\n",
       "<p>189 rows × 10 columns</p>\n",
       "</div>"
      ],
      "text/plain": [
       "     Quarto  Tempo  placar_casa  placar_visitante Time    Indicador     Nome  \\\n",
       "0         4   2400           68                63  NaN  fim_partida      NaN   \n",
       "3         4   2398           68                63  RCB      2_Pts_T  Augusto   \n",
       "5         4   2396           68                63  RCB      3_Pts_T   Arthur   \n",
       "9         4   2395           68                63  BRA     LL_Pts_C    Breno   \n",
       "10        4   2395           67                63  BRA     LL_Pts_C    Breno   \n",
       "..      ...    ...          ...               ...  ...          ...      ...   \n",
       "576       1     61            0                 0  BRA      2_Pts_T  Gabriel   \n",
       "578       1     50            0                 0  RCB      2_Pts_T   Arthur   \n",
       "580       1     43            0                 0  BRA      3_Pts_T    Breno   \n",
       "582       1     28            0                 0  RCB      2_Pts_T  Eltinho   \n",
       "584       1     13            0                 0  RCB      3_Pts_T   Arthur   \n",
       "\n",
       "     diferenca_placar_casa  diferenca_placar_visitante  \\\n",
       "0                        5                          -5   \n",
       "3                        5                          -5   \n",
       "5                        5                          -5   \n",
       "9                        5                          -5   \n",
       "10                       4                          -4   \n",
       "..                     ...                         ...   \n",
       "576                      0                           0   \n",
       "578                      0                           0   \n",
       "580                      0                           0   \n",
       "582                      0                           0   \n",
       "584                      0                           0   \n",
       "\n",
       "     diferenca_placar_absoluto  \n",
       "0                            5  \n",
       "3                            5  \n",
       "5                            5  \n",
       "9                            5  \n",
       "10                           4  \n",
       "..                         ...  \n",
       "576                          0  \n",
       "578                          0  \n",
       "580                          0  \n",
       "582                          0  \n",
       "584                          0  \n",
       "\n",
       "[189 rows x 10 columns]"
      ]
     },
     "execution_count": 26,
     "metadata": {},
     "output_type": "execute_result"
    }
   ],
   "source": [
    "pontuacao = df[(df['Indicador'] == '3_Pts_C') | (df['Indicador'] == '3_Pts_T') |\n",
    "               (df['Indicador'] == '2_Pts_C') | (df['Indicador'] == '2_Pts_T') |\n",
    "               (df['Indicador'] == 'LL_Pts_C')| (df['Indicador'] == 'LL_Pts_T') |\n",
    "               (df['Indicador'] == 'EN')|\n",
    "               (df['Indicador'] == 'fim_partida')]\n",
    "pontuacao"
   ]
  },
  {
   "cell_type": "code",
   "execution_count": 27,
   "metadata": {},
   "outputs": [
    {
     "data": {
      "text/html": [
       "<div>\n",
       "<style scoped>\n",
       "    .dataframe tbody tr th:only-of-type {\n",
       "        vertical-align: middle;\n",
       "    }\n",
       "\n",
       "    .dataframe tbody tr th {\n",
       "        vertical-align: top;\n",
       "    }\n",
       "\n",
       "    .dataframe thead th {\n",
       "        text-align: right;\n",
       "    }\n",
       "</style>\n",
       "<table border=\"1\" class=\"dataframe\">\n",
       "  <thead>\n",
       "    <tr style=\"text-align: right;\">\n",
       "      <th></th>\n",
       "      <th>Quarto</th>\n",
       "      <th>Tempo</th>\n",
       "      <th>placar_casa</th>\n",
       "      <th>placar_visitante</th>\n",
       "      <th>Time</th>\n",
       "      <th>Indicador</th>\n",
       "      <th>Nome</th>\n",
       "      <th>diferenca_placar_casa</th>\n",
       "      <th>diferenca_placar_visitante</th>\n",
       "      <th>diferenca_placar_absoluto</th>\n",
       "    </tr>\n",
       "  </thead>\n",
       "  <tbody>\n",
       "    <tr>\n",
       "      <th>0</th>\n",
       "      <td>1</td>\n",
       "      <td>13</td>\n",
       "      <td>0</td>\n",
       "      <td>0</td>\n",
       "      <td>RCB</td>\n",
       "      <td>3_Pts_T</td>\n",
       "      <td>Arthur</td>\n",
       "      <td>0</td>\n",
       "      <td>0</td>\n",
       "      <td>0</td>\n",
       "    </tr>\n",
       "    <tr>\n",
       "      <th>1</th>\n",
       "      <td>1</td>\n",
       "      <td>28</td>\n",
       "      <td>0</td>\n",
       "      <td>0</td>\n",
       "      <td>RCB</td>\n",
       "      <td>2_Pts_T</td>\n",
       "      <td>Eltinho</td>\n",
       "      <td>0</td>\n",
       "      <td>0</td>\n",
       "      <td>0</td>\n",
       "    </tr>\n",
       "    <tr>\n",
       "      <th>2</th>\n",
       "      <td>1</td>\n",
       "      <td>43</td>\n",
       "      <td>0</td>\n",
       "      <td>0</td>\n",
       "      <td>BRA</td>\n",
       "      <td>3_Pts_T</td>\n",
       "      <td>Breno</td>\n",
       "      <td>0</td>\n",
       "      <td>0</td>\n",
       "      <td>0</td>\n",
       "    </tr>\n",
       "    <tr>\n",
       "      <th>3</th>\n",
       "      <td>1</td>\n",
       "      <td>50</td>\n",
       "      <td>0</td>\n",
       "      <td>0</td>\n",
       "      <td>RCB</td>\n",
       "      <td>2_Pts_T</td>\n",
       "      <td>Arthur</td>\n",
       "      <td>0</td>\n",
       "      <td>0</td>\n",
       "      <td>0</td>\n",
       "    </tr>\n",
       "    <tr>\n",
       "      <th>4</th>\n",
       "      <td>1</td>\n",
       "      <td>61</td>\n",
       "      <td>0</td>\n",
       "      <td>0</td>\n",
       "      <td>BRA</td>\n",
       "      <td>2_Pts_T</td>\n",
       "      <td>Gabriel</td>\n",
       "      <td>0</td>\n",
       "      <td>0</td>\n",
       "      <td>0</td>\n",
       "    </tr>\n",
       "    <tr>\n",
       "      <th>...</th>\n",
       "      <td>...</td>\n",
       "      <td>...</td>\n",
       "      <td>...</td>\n",
       "      <td>...</td>\n",
       "      <td>...</td>\n",
       "      <td>...</td>\n",
       "      <td>...</td>\n",
       "      <td>...</td>\n",
       "      <td>...</td>\n",
       "      <td>...</td>\n",
       "    </tr>\n",
       "    <tr>\n",
       "      <th>184</th>\n",
       "      <td>4</td>\n",
       "      <td>2395</td>\n",
       "      <td>67</td>\n",
       "      <td>63</td>\n",
       "      <td>BRA</td>\n",
       "      <td>LL_Pts_C</td>\n",
       "      <td>Breno</td>\n",
       "      <td>4</td>\n",
       "      <td>-4</td>\n",
       "      <td>4</td>\n",
       "    </tr>\n",
       "    <tr>\n",
       "      <th>185</th>\n",
       "      <td>4</td>\n",
       "      <td>2395</td>\n",
       "      <td>68</td>\n",
       "      <td>63</td>\n",
       "      <td>BRA</td>\n",
       "      <td>LL_Pts_C</td>\n",
       "      <td>Breno</td>\n",
       "      <td>5</td>\n",
       "      <td>-5</td>\n",
       "      <td>5</td>\n",
       "    </tr>\n",
       "    <tr>\n",
       "      <th>186</th>\n",
       "      <td>4</td>\n",
       "      <td>2396</td>\n",
       "      <td>68</td>\n",
       "      <td>63</td>\n",
       "      <td>RCB</td>\n",
       "      <td>3_Pts_T</td>\n",
       "      <td>Arthur</td>\n",
       "      <td>5</td>\n",
       "      <td>-5</td>\n",
       "      <td>5</td>\n",
       "    </tr>\n",
       "    <tr>\n",
       "      <th>187</th>\n",
       "      <td>4</td>\n",
       "      <td>2398</td>\n",
       "      <td>68</td>\n",
       "      <td>63</td>\n",
       "      <td>RCB</td>\n",
       "      <td>2_Pts_T</td>\n",
       "      <td>Augusto</td>\n",
       "      <td>5</td>\n",
       "      <td>-5</td>\n",
       "      <td>5</td>\n",
       "    </tr>\n",
       "    <tr>\n",
       "      <th>188</th>\n",
       "      <td>4</td>\n",
       "      <td>2400</td>\n",
       "      <td>68</td>\n",
       "      <td>63</td>\n",
       "      <td>NaN</td>\n",
       "      <td>fim_partida</td>\n",
       "      <td>NaN</td>\n",
       "      <td>5</td>\n",
       "      <td>-5</td>\n",
       "      <td>5</td>\n",
       "    </tr>\n",
       "  </tbody>\n",
       "</table>\n",
       "<p>189 rows × 10 columns</p>\n",
       "</div>"
      ],
      "text/plain": [
       "     Quarto  Tempo  placar_casa  placar_visitante Time    Indicador     Nome  \\\n",
       "0         1     13            0                 0  RCB      3_Pts_T   Arthur   \n",
       "1         1     28            0                 0  RCB      2_Pts_T  Eltinho   \n",
       "2         1     43            0                 0  BRA      3_Pts_T    Breno   \n",
       "3         1     50            0                 0  RCB      2_Pts_T   Arthur   \n",
       "4         1     61            0                 0  BRA      2_Pts_T  Gabriel   \n",
       "..      ...    ...          ...               ...  ...          ...      ...   \n",
       "184       4   2395           67                63  BRA     LL_Pts_C    Breno   \n",
       "185       4   2395           68                63  BRA     LL_Pts_C    Breno   \n",
       "186       4   2396           68                63  RCB      3_Pts_T   Arthur   \n",
       "187       4   2398           68                63  RCB      2_Pts_T  Augusto   \n",
       "188       4   2400           68                63  NaN  fim_partida      NaN   \n",
       "\n",
       "     diferenca_placar_casa  diferenca_placar_visitante  \\\n",
       "0                        0                           0   \n",
       "1                        0                           0   \n",
       "2                        0                           0   \n",
       "3                        0                           0   \n",
       "4                        0                           0   \n",
       "..                     ...                         ...   \n",
       "184                      4                          -4   \n",
       "185                      5                          -5   \n",
       "186                      5                          -5   \n",
       "187                      5                          -5   \n",
       "188                      5                          -5   \n",
       "\n",
       "     diferenca_placar_absoluto  \n",
       "0                            0  \n",
       "1                            0  \n",
       "2                            0  \n",
       "3                            0  \n",
       "4                            0  \n",
       "..                         ...  \n",
       "184                          4  \n",
       "185                          5  \n",
       "186                          5  \n",
       "187                          5  \n",
       "188                          5  \n",
       "\n",
       "[189 rows x 10 columns]"
      ]
     },
     "execution_count": 27,
     "metadata": {},
     "output_type": "execute_result"
    }
   ],
   "source": [
    "# estamos invertendo os valores para deixar parecido com o jogo\n",
    "pontuacao = pontuacao[::-1]\n",
    "pontuacao.reset_index(drop=True, inplace=True)\n",
    "pontuacao"
   ]
  },
  {
   "cell_type": "code",
   "execution_count": 28,
   "metadata": {},
   "outputs": [],
   "source": [
    "# colocar a separação dos quartos nos gráficos\n",
    "quartos_duplicados = df['Quarto'].unique()\n",
    "if len(quartos_duplicados) == 4:\n",
    "    quartos = [600, 1200, 1800, 2400]\n",
    "elif len(quartos_duplicados) == 5:\n",
    "    quartos = [600, 1200, 1800, 2400, 2700]\n",
    "elif len(quartos_duplicados) == 6:\n",
    "    quartos = [600, 1200, 1800, 2400, 2700, 3000]\n",
    "elif len(quartos_duplicados) == 7:\n",
    "    quartos = [600, 1200, 1800, 2400, 2700, 3300]"
   ]
  },
  {
   "cell_type": "markdown",
   "metadata": {},
   "source": [
    "# Gráfico"
   ]
  },
  {
   "cell_type": "code",
   "execution_count": 29,
   "metadata": {},
   "outputs": [
    {
     "data": {
      "image/png": "[encoded data removed]",
      "text/plain": [
       "<Figure size 792x432 with 1 Axes>"
      ]
     },
     "metadata": {},
     "output_type": "display_data"
    }
   ],
   "source": [
    "plt.style.use('seaborn')\n",
    "sns.set_style('white')\n",
    "plt.figure(figsize=(11,6))\n",
    "tempo = pontuacao['Tempo']\n",
    "pontuacao1 = pontuacao['placar_casa']\n",
    "pontuacao2 = pontuacao['placar_visitante']\n",
    "plt.plot(tempo, pontuacao1, label='placar_casa')\n",
    "plt.plot(tempo, pontuacao2, label='placar_visitante')\n",
    "plt.legend(loc='upper left', bbox_to_anchor=(1, 1), prop={'size':14})\n",
    "for x in quartos:\n",
    "    plt.axvline(x, color='red', label=pontuacao.index, linestyle='--', alpha=0.4)\n",
    "plt.title('Gráfico do Placar Acumulativo do Jogo', fontsize=18)\n",
    "plt.ylabel('Pontos')\n",
    "plt.xlabel('Segundos')\n",
    "plt.tight_layout()\n",
    "plt.savefig('RELATORIO/teste.jpeg', format='jpg')"
   ]
  },
  {
   "cell_type": "markdown",
   "metadata": {},
   "source": [
    "# Análise da Posse de Bola dos times"
   ]
  },
  {
   "cell_type": "code",
   "execution_count": 30,
   "metadata": {},
   "outputs": [],
   "source": [
    "posse_bola = df[(df['Indicador'] == '3_Pts_C') | (df['Indicador'] == '3_Pts_T') | \n",
    "                (df['Indicador'] == '2_Pts_C') | (df['Indicador'] == '2_Pts_T') |\n",
    "                (df['Indicador'] == 'LL_Pts_C') | (df['Indicador'] == 'LL_Pts_T') |\n",
    "                (df['Indicador'] == 'ER') | (df['Indicador'] == 'FC_O')|                \n",
    "                (df['Indicador'] == 'EN') | (df['Indicador'] == 'fim_partida')]"
   ]
  },
  {
   "cell_type": "code",
   "execution_count": 31,
   "metadata": {},
   "outputs": [
    {
     "data": {
      "text/html": [
       "<div>\n",
       "<style scoped>\n",
       "    .dataframe tbody tr th:only-of-type {\n",
       "        vertical-align: middle;\n",
       "    }\n",
       "\n",
       "    .dataframe tbody tr th {\n",
       "        vertical-align: top;\n",
       "    }\n",
       "\n",
       "    .dataframe thead th {\n",
       "        text-align: right;\n",
       "    }\n",
       "</style>\n",
       "<table border=\"1\" class=\"dataframe\">\n",
       "  <thead>\n",
       "    <tr style=\"text-align: right;\">\n",
       "      <th></th>\n",
       "      <th>Quarto</th>\n",
       "      <th>Tempo</th>\n",
       "      <th>placar_casa</th>\n",
       "      <th>placar_visitante</th>\n",
       "      <th>Time</th>\n",
       "      <th>Indicador</th>\n",
       "      <th>Nome</th>\n",
       "      <th>diferenca_placar_casa</th>\n",
       "      <th>diferenca_placar_visitante</th>\n",
       "      <th>diferenca_placar_absoluto</th>\n",
       "    </tr>\n",
       "  </thead>\n",
       "  <tbody>\n",
       "    <tr>\n",
       "      <th>0</th>\n",
       "      <td>1</td>\n",
       "      <td>13</td>\n",
       "      <td>0</td>\n",
       "      <td>0</td>\n",
       "      <td>RCB</td>\n",
       "      <td>3_Pts_T</td>\n",
       "      <td>Arthur</td>\n",
       "      <td>0</td>\n",
       "      <td>0</td>\n",
       "      <td>0</td>\n",
       "    </tr>\n",
       "    <tr>\n",
       "      <th>1</th>\n",
       "      <td>1</td>\n",
       "      <td>28</td>\n",
       "      <td>0</td>\n",
       "      <td>0</td>\n",
       "      <td>RCB</td>\n",
       "      <td>2_Pts_T</td>\n",
       "      <td>Eltinho</td>\n",
       "      <td>0</td>\n",
       "      <td>0</td>\n",
       "      <td>0</td>\n",
       "    </tr>\n",
       "    <tr>\n",
       "      <th>2</th>\n",
       "      <td>1</td>\n",
       "      <td>43</td>\n",
       "      <td>0</td>\n",
       "      <td>0</td>\n",
       "      <td>BRA</td>\n",
       "      <td>3_Pts_T</td>\n",
       "      <td>Breno</td>\n",
       "      <td>0</td>\n",
       "      <td>0</td>\n",
       "      <td>0</td>\n",
       "    </tr>\n",
       "    <tr>\n",
       "      <th>3</th>\n",
       "      <td>1</td>\n",
       "      <td>50</td>\n",
       "      <td>0</td>\n",
       "      <td>0</td>\n",
       "      <td>RCB</td>\n",
       "      <td>2_Pts_T</td>\n",
       "      <td>Arthur</td>\n",
       "      <td>0</td>\n",
       "      <td>0</td>\n",
       "      <td>0</td>\n",
       "    </tr>\n",
       "    <tr>\n",
       "      <th>4</th>\n",
       "      <td>1</td>\n",
       "      <td>61</td>\n",
       "      <td>0</td>\n",
       "      <td>0</td>\n",
       "      <td>BRA</td>\n",
       "      <td>2_Pts_T</td>\n",
       "      <td>Gabriel</td>\n",
       "      <td>0</td>\n",
       "      <td>0</td>\n",
       "      <td>0</td>\n",
       "    </tr>\n",
       "    <tr>\n",
       "      <th>...</th>\n",
       "      <td>...</td>\n",
       "      <td>...</td>\n",
       "      <td>...</td>\n",
       "      <td>...</td>\n",
       "      <td>...</td>\n",
       "      <td>...</td>\n",
       "      <td>...</td>\n",
       "      <td>...</td>\n",
       "      <td>...</td>\n",
       "      <td>...</td>\n",
       "    </tr>\n",
       "    <tr>\n",
       "      <th>237</th>\n",
       "      <td>4</td>\n",
       "      <td>2395</td>\n",
       "      <td>67</td>\n",
       "      <td>63</td>\n",
       "      <td>BRA</td>\n",
       "      <td>LL_Pts_C</td>\n",
       "      <td>Breno</td>\n",
       "      <td>4</td>\n",
       "      <td>-4</td>\n",
       "      <td>4</td>\n",
       "    </tr>\n",
       "    <tr>\n",
       "      <th>238</th>\n",
       "      <td>4</td>\n",
       "      <td>2395</td>\n",
       "      <td>68</td>\n",
       "      <td>63</td>\n",
       "      <td>BRA</td>\n",
       "      <td>LL_Pts_C</td>\n",
       "      <td>Breno</td>\n",
       "      <td>5</td>\n",
       "      <td>-5</td>\n",
       "      <td>5</td>\n",
       "    </tr>\n",
       "    <tr>\n",
       "      <th>239</th>\n",
       "      <td>4</td>\n",
       "      <td>2396</td>\n",
       "      <td>68</td>\n",
       "      <td>63</td>\n",
       "      <td>RCB</td>\n",
       "      <td>3_Pts_T</td>\n",
       "      <td>Arthur</td>\n",
       "      <td>5</td>\n",
       "      <td>-5</td>\n",
       "      <td>5</td>\n",
       "    </tr>\n",
       "    <tr>\n",
       "      <th>240</th>\n",
       "      <td>4</td>\n",
       "      <td>2398</td>\n",
       "      <td>68</td>\n",
       "      <td>63</td>\n",
       "      <td>RCB</td>\n",
       "      <td>2_Pts_T</td>\n",
       "      <td>Augusto</td>\n",
       "      <td>5</td>\n",
       "      <td>-5</td>\n",
       "      <td>5</td>\n",
       "    </tr>\n",
       "    <tr>\n",
       "      <th>241</th>\n",
       "      <td>4</td>\n",
       "      <td>2400</td>\n",
       "      <td>68</td>\n",
       "      <td>63</td>\n",
       "      <td>NaN</td>\n",
       "      <td>fim_partida</td>\n",
       "      <td>NaN</td>\n",
       "      <td>5</td>\n",
       "      <td>-5</td>\n",
       "      <td>5</td>\n",
       "    </tr>\n",
       "  </tbody>\n",
       "</table>\n",
       "<p>242 rows × 10 columns</p>\n",
       "</div>"
      ],
      "text/plain": [
       "     Quarto  Tempo  placar_casa  placar_visitante Time    Indicador     Nome  \\\n",
       "0         1     13            0                 0  RCB      3_Pts_T   Arthur   \n",
       "1         1     28            0                 0  RCB      2_Pts_T  Eltinho   \n",
       "2         1     43            0                 0  BRA      3_Pts_T    Breno   \n",
       "3         1     50            0                 0  RCB      2_Pts_T   Arthur   \n",
       "4         1     61            0                 0  BRA      2_Pts_T  Gabriel   \n",
       "..      ...    ...          ...               ...  ...          ...      ...   \n",
       "237       4   2395           67                63  BRA     LL_Pts_C    Breno   \n",
       "238       4   2395           68                63  BRA     LL_Pts_C    Breno   \n",
       "239       4   2396           68                63  RCB      3_Pts_T   Arthur   \n",
       "240       4   2398           68                63  RCB      2_Pts_T  Augusto   \n",
       "241       4   2400           68                63  NaN  fim_partida      NaN   \n",
       "\n",
       "     diferenca_placar_casa  diferenca_placar_visitante  \\\n",
       "0                        0                           0   \n",
       "1                        0                           0   \n",
       "2                        0                           0   \n",
       "3                        0                           0   \n",
       "4                        0                           0   \n",
       "..                     ...                         ...   \n",
       "237                      4                          -4   \n",
       "238                      5                          -5   \n",
       "239                      5                          -5   \n",
       "240                      5                          -5   \n",
       "241                      5                          -5   \n",
       "\n",
       "     diferenca_placar_absoluto  \n",
       "0                            0  \n",
       "1                            0  \n",
       "2                            0  \n",
       "3                            0  \n",
       "4                            0  \n",
       "..                         ...  \n",
       "237                          4  \n",
       "238                          5  \n",
       "239                          5  \n",
       "240                          5  \n",
       "241                          5  \n",
       "\n",
       "[242 rows x 10 columns]"
      ]
     },
     "execution_count": 31,
     "metadata": {},
     "output_type": "execute_result"
    }
   ],
   "source": [
    "# estamos invertendo os valores para deixar parecido com o jogo\n",
    "posse_bola = posse_bola[::-1]\n",
    "posse_bola.reset_index(drop=True, inplace=True)\n",
    "posse_bola"
   ]
  },
  {
   "cell_type": "code",
   "execution_count": 32,
   "metadata": {},
   "outputs": [
    {
     "data": {
      "text/plain": [
       "'RCB'"
      ]
     },
     "execution_count": 32,
     "metadata": {},
     "output_type": "execute_result"
    }
   ],
   "source": [
    "sigla_time_b"
   ]
  },
  {
   "cell_type": "code",
   "execution_count": 33,
   "metadata": {},
   "outputs": [
    {
     "data": {
      "text/plain": [
       "'BRA'"
      ]
     },
     "execution_count": 33,
     "metadata": {},
     "output_type": "execute_result"
    }
   ],
   "source": [
    "sigla_time_a"
   ]
  },
  {
   "cell_type": "code",
   "execution_count": 34,
   "metadata": {},
   "outputs": [],
   "source": [
    "lstime_b = [[]]\n",
    "lstime_a = [[]]\n",
    "\n",
    "for a in posse_bola.itertuples():\n",
    "    if a.Time not in [sigla_time_b]:\n",
    "        idx = a.Index - 1\n",
    "        if idx >= 0:\n",
    "            cc = posse_bola.loc[idx]\n",
    "            lss = [\n",
    "                cc.Time,\n",
    "                cc.Tempo,\n",
    "                cc.Indicador,\n",
    "                cc.diferenca_placar_casa,\n",
    "                cc.diferenca_placar_visitante,\n",
    "                cc.diferenca_placar_absoluto\n",
    "            ]\n",
    "            lstime_b.append(lss)\n",
    "        else:\n",
    "            pass\n",
    "\n",
    "    if a.Time not in [sigla_time_a]:\n",
    "        idx = a.Index - 1\n",
    "        if idx >= 0:\n",
    "            cc = posse_bola.loc[idx]\n",
    "            lss = [\n",
    "                cc.Time,\n",
    "                cc.Tempo,\n",
    "                cc.Indicador,\n",
    "                cc.diferenca_placar_casa,\n",
    "                cc.diferenca_placar_visitante,\n",
    "                cc.diferenca_placar_absoluto\n",
    "            ]\n",
    "            lstime_a.append(lss)\n",
    "        else:\n",
    "            pass"
   ]
  },
  {
   "cell_type": "code",
   "execution_count": 35,
   "metadata": {},
   "outputs": [],
   "source": [
    "df_time_b = pd.DataFrame(\n",
    "    lstime_b, columns=[\"Time\", \"Tempo\", \"Indicador\", \"dif_casa\", \"dif_visita\", \"dif_abs\"])"
   ]
  },
  {
   "cell_type": "code",
   "execution_count": 36,
   "metadata": {},
   "outputs": [],
   "source": [
    "df_time_b.dropna(how=\"any\", inplace=True, axis=\"index\")\n",
    "df_time_b = df_time_b[df_time_b.Time.str.contains(sigla_time_b)]"
   ]
  },
  {
   "cell_type": "code",
   "execution_count": 37,
   "metadata": {},
   "outputs": [],
   "source": [
    "df_time_a = pd.DataFrame(\n",
    "    lstime_a, columns=[\"Time\", \"Tempo\", \"Indicador\", \"dif_casa\", \"dif_visita\", \"dif_abs\"])"
   ]
  },
  {
   "cell_type": "code",
   "execution_count": 38,
   "metadata": {},
   "outputs": [],
   "source": [
    "df_time_a.dropna(how=\"any\", inplace=True, axis=\"index\")\n",
    "df_time_a = df_time_a[df_time_a.Time.str.contains(sigla_time_a)]"
   ]
  },
  {
   "cell_type": "code",
   "execution_count": 39,
   "metadata": {},
   "outputs": [],
   "source": [
    "posse_de_bola = pd.concat([df_time_b, df_time_a], ignore_index=True)\n",
    "posse_de_bola.sort_values(by=\"Tempo\", inplace=True)\n",
    "posse_de_bola.reset_index(inplace=True, drop=True)"
   ]
  },
  {
   "cell_type": "code",
   "execution_count": 40,
   "metadata": {},
   "outputs": [
    {
     "data": {
      "text/html": [
       "<div>\n",
       "<style scoped>\n",
       "    .dataframe tbody tr th:only-of-type {\n",
       "        vertical-align: middle;\n",
       "    }\n",
       "\n",
       "    .dataframe tbody tr th {\n",
       "        vertical-align: top;\n",
       "    }\n",
       "\n",
       "    .dataframe thead th {\n",
       "        text-align: right;\n",
       "    }\n",
       "</style>\n",
       "<table border=\"1\" class=\"dataframe\">\n",
       "  <thead>\n",
       "    <tr style=\"text-align: right;\">\n",
       "      <th></th>\n",
       "      <th>Time</th>\n",
       "      <th>Tempo</th>\n",
       "      <th>Indicador</th>\n",
       "      <th>dif_casa</th>\n",
       "      <th>dif_visita</th>\n",
       "      <th>dif_abs</th>\n",
       "      <th>Tempo_Fim</th>\n",
       "    </tr>\n",
       "  </thead>\n",
       "  <tbody>\n",
       "    <tr>\n",
       "      <th>0</th>\n",
       "      <td>RCB</td>\n",
       "      <td>28.0</td>\n",
       "      <td>2_Pts_T</td>\n",
       "      <td>0.0</td>\n",
       "      <td>0.0</td>\n",
       "      <td>0.0</td>\n",
       "      <td>28.0</td>\n",
       "    </tr>\n",
       "    <tr>\n",
       "      <th>1</th>\n",
       "      <td>BRA</td>\n",
       "      <td>15.0</td>\n",
       "      <td>3_Pts_T</td>\n",
       "      <td>0.0</td>\n",
       "      <td>0.0</td>\n",
       "      <td>0.0</td>\n",
       "      <td>43.0</td>\n",
       "    </tr>\n",
       "    <tr>\n",
       "      <th>2</th>\n",
       "      <td>RCB</td>\n",
       "      <td>7.0</td>\n",
       "      <td>2_Pts_T</td>\n",
       "      <td>0.0</td>\n",
       "      <td>0.0</td>\n",
       "      <td>0.0</td>\n",
       "      <td>50.0</td>\n",
       "    </tr>\n",
       "    <tr>\n",
       "      <th>3</th>\n",
       "      <td>BRA</td>\n",
       "      <td>11.0</td>\n",
       "      <td>2_Pts_T</td>\n",
       "      <td>0.0</td>\n",
       "      <td>0.0</td>\n",
       "      <td>0.0</td>\n",
       "      <td>61.0</td>\n",
       "    </tr>\n",
       "    <tr>\n",
       "      <th>4</th>\n",
       "      <td>RCB</td>\n",
       "      <td>18.0</td>\n",
       "      <td>3_Pts_T</td>\n",
       "      <td>0.0</td>\n",
       "      <td>0.0</td>\n",
       "      <td>0.0</td>\n",
       "      <td>79.0</td>\n",
       "    </tr>\n",
       "    <tr>\n",
       "      <th>...</th>\n",
       "      <td>...</td>\n",
       "      <td>...</td>\n",
       "      <td>...</td>\n",
       "      <td>...</td>\n",
       "      <td>...</td>\n",
       "      <td>...</td>\n",
       "      <td>...</td>\n",
       "    </tr>\n",
       "    <tr>\n",
       "      <th>170</th>\n",
       "      <td>RCB</td>\n",
       "      <td>7.0</td>\n",
       "      <td>LL_Pts_C</td>\n",
       "      <td>3.0</td>\n",
       "      <td>-3.0</td>\n",
       "      <td>3.0</td>\n",
       "      <td>2338.0</td>\n",
       "    </tr>\n",
       "    <tr>\n",
       "      <th>171</th>\n",
       "      <td>BRA</td>\n",
       "      <td>25.0</td>\n",
       "      <td>3_Pts_T</td>\n",
       "      <td>3.0</td>\n",
       "      <td>-3.0</td>\n",
       "      <td>3.0</td>\n",
       "      <td>2363.0</td>\n",
       "    </tr>\n",
       "    <tr>\n",
       "      <th>172</th>\n",
       "      <td>RCB</td>\n",
       "      <td>27.0</td>\n",
       "      <td>LL_Pts_T</td>\n",
       "      <td>3.0</td>\n",
       "      <td>-3.0</td>\n",
       "      <td>3.0</td>\n",
       "      <td>2390.0</td>\n",
       "    </tr>\n",
       "    <tr>\n",
       "      <th>173</th>\n",
       "      <td>BRA</td>\n",
       "      <td>5.0</td>\n",
       "      <td>LL_Pts_C</td>\n",
       "      <td>5.0</td>\n",
       "      <td>-5.0</td>\n",
       "      <td>5.0</td>\n",
       "      <td>2395.0</td>\n",
       "    </tr>\n",
       "    <tr>\n",
       "      <th>174</th>\n",
       "      <td>RCB</td>\n",
       "      <td>3.0</td>\n",
       "      <td>2_Pts_T</td>\n",
       "      <td>5.0</td>\n",
       "      <td>-5.0</td>\n",
       "      <td>5.0</td>\n",
       "      <td>2398.0</td>\n",
       "    </tr>\n",
       "  </tbody>\n",
       "</table>\n",
       "<p>175 rows × 7 columns</p>\n",
       "</div>"
      ],
      "text/plain": [
       "    Time  Tempo Indicador  dif_casa  dif_visita  dif_abs  Tempo_Fim\n",
       "0    RCB   28.0   2_Pts_T       0.0         0.0      0.0       28.0\n",
       "1    BRA   15.0   3_Pts_T       0.0         0.0      0.0       43.0\n",
       "2    RCB    7.0   2_Pts_T       0.0         0.0      0.0       50.0\n",
       "3    BRA   11.0   2_Pts_T       0.0         0.0      0.0       61.0\n",
       "4    RCB   18.0   3_Pts_T       0.0         0.0      0.0       79.0\n",
       "..   ...    ...       ...       ...         ...      ...        ...\n",
       "170  RCB    7.0  LL_Pts_C       3.0        -3.0      3.0     2338.0\n",
       "171  BRA   25.0   3_Pts_T       3.0        -3.0      3.0     2363.0\n",
       "172  RCB   27.0  LL_Pts_T       3.0        -3.0      3.0     2390.0\n",
       "173  BRA    5.0  LL_Pts_C       5.0        -5.0      5.0     2395.0\n",
       "174  RCB    3.0   2_Pts_T       5.0        -5.0      5.0     2398.0\n",
       "\n",
       "[175 rows x 7 columns]"
      ]
     },
     "execution_count": 40,
     "metadata": {},
     "output_type": "execute_result"
    }
   ],
   "source": [
    "posse_de_bola[\"Tempo_Fim\"] = posse_de_bola[\"Tempo\"]\n",
    "tempo = posse_de_bola[\"Tempo\"].diff()\n",
    "tempo.loc[0] = posse_de_bola[\"Tempo\"].loc[0]\n",
    "posse_de_bola[\"Tempo\"] = tempo\n",
    "posse_de_bola"
   ]
  },
  {
   "cell_type": "code",
   "execution_count": 41,
   "metadata": {},
   "outputs": [],
   "source": [
    "posse_bola = posse_de_bola.copy()"
   ]
  },
  {
   "cell_type": "code",
   "execution_count": 42,
   "metadata": {},
   "outputs": [],
   "source": [
    "posse_de_bola.to_csv('tempo2.csv')"
   ]
  },
  {
   "cell_type": "markdown",
   "metadata": {},
   "source": [
    "# Análises da posse de bola"
   ]
  },
  {
   "cell_type": "code",
   "execution_count": 43,
   "metadata": {},
   "outputs": [],
   "source": [
    "lu_time_a = posse_de_bola\n",
    "lu_time_a['Time_Novo'] = 0"
   ]
  },
  {
   "cell_type": "code",
   "execution_count": 44,
   "metadata": {},
   "outputs": [],
   "source": [
    "for x in range(len(posse_de_bola)):\n",
    "    if lu_time_a['Time'][x] == sigla_time_a:\n",
    "        lu_time_a.loc[x, 'Time_Novo'] = lu_time_a['Tempo'][x]\n",
    "    else:\n",
    "        pass"
   ]
  },
  {
   "cell_type": "code",
   "execution_count": 45,
   "metadata": {},
   "outputs": [],
   "source": [
    "grafico_posse_time1 = lu_time_a\n",
    "grafico_posse_time1.reset_index(inplace=True)"
   ]
  },
  {
   "cell_type": "code",
   "execution_count": 46,
   "metadata": {},
   "outputs": [],
   "source": [
    "x = grafico_posse_time1['index']\n",
    "my_xticks = x\n",
    "frequency = 10"
   ]
  },
  {
   "cell_type": "markdown",
   "metadata": {},
   "source": [
    "# Gráfico 2"
   ]
  },
  {
   "cell_type": "code",
   "execution_count": 47,
   "metadata": {},
   "outputs": [
    {
     "data": {
      "image/png": "[encoded data removed]",
      "text/plain": [
       "<Figure size 1440x504 with 1 Axes>"
      ]
     },
     "metadata": {},
     "output_type": "display_data"
    }
   ],
   "source": [
    "plt.style.use('seaborn')\n",
    "sns.set_style('white')\n",
    "plt.figure(figsize=(20,7))\n",
    "sns.barplot(x='index', y='Time_Novo', data=grafico_posse_time1, color='black')\n",
    "plt.title(f'Ataques do {nome_time_casa} no jogo', fontsize=30)\n",
    "plt.yticks([10,14,24], fontsize=24)\n",
    "plt.ylabel('Tempo', fontsize=20)\n",
    "plt.xlabel('Ataques', fontsize=20)\n",
    "plt.xticks(x[::frequency], my_xticks[::frequency], fontsize=16)\n",
    "plt.axhline(24, color='red', alpha=0.6, label = '24 segundos')\n",
    "plt.axhline(14, color='red', alpha=0.6, label = '14 segundos')\n",
    "plt.axhline(10, color='red', alpha=0.6, label = '10 segundos')\n",
    "plt.axhline(5, color='red', alpha=0.6, label = '5 segundos')\n",
    "# plt.legend(loc='upper right', bbox_to_anchor=(1.1, 1), prop={'size':14})\n",
    "plt.savefig('RELATORIO/teste3.png', format='png')"
   ]
  },
  {
   "cell_type": "markdown",
   "metadata": {},
   "source": [
    "# Código"
   ]
  },
  {
   "cell_type": "code",
   "execution_count": 48,
   "metadata": {},
   "outputs": [],
   "source": [
    "lu_time_b = posse_de_bola\n",
    "lu_time_b['Time_Novo'] = 0"
   ]
  },
  {
   "cell_type": "code",
   "execution_count": 49,
   "metadata": {},
   "outputs": [],
   "source": [
    "for x in range(len(posse_de_bola)):\n",
    "    if lu_time_b['Time'][x] == sigla_time_b:\n",
    "        lu_time_b.loc[x,'Time_Novo'] = lu_time_b['Tempo'][x]\n",
    "    else:\n",
    "        pass"
   ]
  },
  {
   "cell_type": "code",
   "execution_count": 50,
   "metadata": {},
   "outputs": [
    {
     "data": {
      "text/html": [
       "<div>\n",
       "<style scoped>\n",
       "    .dataframe tbody tr th:only-of-type {\n",
       "        vertical-align: middle;\n",
       "    }\n",
       "\n",
       "    .dataframe tbody tr th {\n",
       "        vertical-align: top;\n",
       "    }\n",
       "\n",
       "    .dataframe thead th {\n",
       "        text-align: right;\n",
       "    }\n",
       "</style>\n",
       "<table border=\"1\" class=\"dataframe\">\n",
       "  <thead>\n",
       "    <tr style=\"text-align: right;\">\n",
       "      <th></th>\n",
       "      <th>index</th>\n",
       "      <th>Time</th>\n",
       "      <th>Tempo</th>\n",
       "      <th>Indicador</th>\n",
       "      <th>dif_casa</th>\n",
       "      <th>dif_visita</th>\n",
       "      <th>dif_abs</th>\n",
       "      <th>Tempo_Fim</th>\n",
       "      <th>Time_Novo</th>\n",
       "    </tr>\n",
       "  </thead>\n",
       "  <tbody>\n",
       "    <tr>\n",
       "      <th>0</th>\n",
       "      <td>0</td>\n",
       "      <td>RCB</td>\n",
       "      <td>28.0</td>\n",
       "      <td>2_Pts_T</td>\n",
       "      <td>0.0</td>\n",
       "      <td>0.0</td>\n",
       "      <td>0.0</td>\n",
       "      <td>28.0</td>\n",
       "      <td>28.0</td>\n",
       "    </tr>\n",
       "    <tr>\n",
       "      <th>1</th>\n",
       "      <td>1</td>\n",
       "      <td>BRA</td>\n",
       "      <td>15.0</td>\n",
       "      <td>3_Pts_T</td>\n",
       "      <td>0.0</td>\n",
       "      <td>0.0</td>\n",
       "      <td>0.0</td>\n",
       "      <td>43.0</td>\n",
       "      <td>0.0</td>\n",
       "    </tr>\n",
       "    <tr>\n",
       "      <th>2</th>\n",
       "      <td>2</td>\n",
       "      <td>RCB</td>\n",
       "      <td>7.0</td>\n",
       "      <td>2_Pts_T</td>\n",
       "      <td>0.0</td>\n",
       "      <td>0.0</td>\n",
       "      <td>0.0</td>\n",
       "      <td>50.0</td>\n",
       "      <td>7.0</td>\n",
       "    </tr>\n",
       "    <tr>\n",
       "      <th>3</th>\n",
       "      <td>3</td>\n",
       "      <td>BRA</td>\n",
       "      <td>11.0</td>\n",
       "      <td>2_Pts_T</td>\n",
       "      <td>0.0</td>\n",
       "      <td>0.0</td>\n",
       "      <td>0.0</td>\n",
       "      <td>61.0</td>\n",
       "      <td>0.0</td>\n",
       "    </tr>\n",
       "    <tr>\n",
       "      <th>4</th>\n",
       "      <td>4</td>\n",
       "      <td>RCB</td>\n",
       "      <td>18.0</td>\n",
       "      <td>3_Pts_T</td>\n",
       "      <td>0.0</td>\n",
       "      <td>0.0</td>\n",
       "      <td>0.0</td>\n",
       "      <td>79.0</td>\n",
       "      <td>18.0</td>\n",
       "    </tr>\n",
       "    <tr>\n",
       "      <th>...</th>\n",
       "      <td>...</td>\n",
       "      <td>...</td>\n",
       "      <td>...</td>\n",
       "      <td>...</td>\n",
       "      <td>...</td>\n",
       "      <td>...</td>\n",
       "      <td>...</td>\n",
       "      <td>...</td>\n",
       "      <td>...</td>\n",
       "    </tr>\n",
       "    <tr>\n",
       "      <th>170</th>\n",
       "      <td>170</td>\n",
       "      <td>RCB</td>\n",
       "      <td>7.0</td>\n",
       "      <td>LL_Pts_C</td>\n",
       "      <td>3.0</td>\n",
       "      <td>-3.0</td>\n",
       "      <td>3.0</td>\n",
       "      <td>2338.0</td>\n",
       "      <td>7.0</td>\n",
       "    </tr>\n",
       "    <tr>\n",
       "      <th>171</th>\n",
       "      <td>171</td>\n",
       "      <td>BRA</td>\n",
       "      <td>25.0</td>\n",
       "      <td>3_Pts_T</td>\n",
       "      <td>3.0</td>\n",
       "      <td>-3.0</td>\n",
       "      <td>3.0</td>\n",
       "      <td>2363.0</td>\n",
       "      <td>0.0</td>\n",
       "    </tr>\n",
       "    <tr>\n",
       "      <th>172</th>\n",
       "      <td>172</td>\n",
       "      <td>RCB</td>\n",
       "      <td>27.0</td>\n",
       "      <td>LL_Pts_T</td>\n",
       "      <td>3.0</td>\n",
       "      <td>-3.0</td>\n",
       "      <td>3.0</td>\n",
       "      <td>2390.0</td>\n",
       "      <td>27.0</td>\n",
       "    </tr>\n",
       "    <tr>\n",
       "      <th>173</th>\n",
       "      <td>173</td>\n",
       "      <td>BRA</td>\n",
       "      <td>5.0</td>\n",
       "      <td>LL_Pts_C</td>\n",
       "      <td>5.0</td>\n",
       "      <td>-5.0</td>\n",
       "      <td>5.0</td>\n",
       "      <td>2395.0</td>\n",
       "      <td>0.0</td>\n",
       "    </tr>\n",
       "    <tr>\n",
       "      <th>174</th>\n",
       "      <td>174</td>\n",
       "      <td>RCB</td>\n",
       "      <td>3.0</td>\n",
       "      <td>2_Pts_T</td>\n",
       "      <td>5.0</td>\n",
       "      <td>-5.0</td>\n",
       "      <td>5.0</td>\n",
       "      <td>2398.0</td>\n",
       "      <td>3.0</td>\n",
       "    </tr>\n",
       "  </tbody>\n",
       "</table>\n",
       "<p>175 rows × 9 columns</p>\n",
       "</div>"
      ],
      "text/plain": [
       "     index Time  Tempo Indicador  dif_casa  dif_visita  dif_abs  Tempo_Fim  \\\n",
       "0        0  RCB   28.0   2_Pts_T       0.0         0.0      0.0       28.0   \n",
       "1        1  BRA   15.0   3_Pts_T       0.0         0.0      0.0       43.0   \n",
       "2        2  RCB    7.0   2_Pts_T       0.0         0.0      0.0       50.0   \n",
       "3        3  BRA   11.0   2_Pts_T       0.0         0.0      0.0       61.0   \n",
       "4        4  RCB   18.0   3_Pts_T       0.0         0.0      0.0       79.0   \n",
       "..     ...  ...    ...       ...       ...         ...      ...        ...   \n",
       "170    170  RCB    7.0  LL_Pts_C       3.0        -3.0      3.0     2338.0   \n",
       "171    171  BRA   25.0   3_Pts_T       3.0        -3.0      3.0     2363.0   \n",
       "172    172  RCB   27.0  LL_Pts_T       3.0        -3.0      3.0     2390.0   \n",
       "173    173  BRA    5.0  LL_Pts_C       5.0        -5.0      5.0     2395.0   \n",
       "174    174  RCB    3.0   2_Pts_T       5.0        -5.0      5.0     2398.0   \n",
       "\n",
       "     Time_Novo  \n",
       "0         28.0  \n",
       "1          0.0  \n",
       "2          7.0  \n",
       "3          0.0  \n",
       "4         18.0  \n",
       "..         ...  \n",
       "170        7.0  \n",
       "171        0.0  \n",
       "172       27.0  \n",
       "173        0.0  \n",
       "174        3.0  \n",
       "\n",
       "[175 rows x 9 columns]"
      ]
     },
     "execution_count": 50,
     "metadata": {},
     "output_type": "execute_result"
    }
   ],
   "source": [
    "lu_time_b"
   ]
  },
  {
   "cell_type": "code",
   "execution_count": 51,
   "metadata": {},
   "outputs": [],
   "source": [
    "grafico_posse_time2 = lu_time_b\n",
    "grafico_posse_time2.reset_index(inplace=True)"
   ]
  },
  {
   "cell_type": "code",
   "execution_count": 52,
   "metadata": {},
   "outputs": [
    {
     "data": {
      "text/html": [
       "<div>\n",
       "<style scoped>\n",
       "    .dataframe tbody tr th:only-of-type {\n",
       "        vertical-align: middle;\n",
       "    }\n",
       "\n",
       "    .dataframe tbody tr th {\n",
       "        vertical-align: top;\n",
       "    }\n",
       "\n",
       "    .dataframe thead th {\n",
       "        text-align: right;\n",
       "    }\n",
       "</style>\n",
       "<table border=\"1\" class=\"dataframe\">\n",
       "  <thead>\n",
       "    <tr style=\"text-align: right;\">\n",
       "      <th></th>\n",
       "      <th>level_0</th>\n",
       "      <th>index</th>\n",
       "      <th>Time</th>\n",
       "      <th>Tempo</th>\n",
       "      <th>Indicador</th>\n",
       "      <th>dif_casa</th>\n",
       "      <th>dif_visita</th>\n",
       "      <th>dif_abs</th>\n",
       "      <th>Tempo_Fim</th>\n",
       "      <th>Time_Novo</th>\n",
       "    </tr>\n",
       "  </thead>\n",
       "  <tbody>\n",
       "    <tr>\n",
       "      <th>0</th>\n",
       "      <td>0</td>\n",
       "      <td>0</td>\n",
       "      <td>RCB</td>\n",
       "      <td>28.0</td>\n",
       "      <td>2_Pts_T</td>\n",
       "      <td>0.0</td>\n",
       "      <td>0.0</td>\n",
       "      <td>0.0</td>\n",
       "      <td>28.0</td>\n",
       "      <td>28.0</td>\n",
       "    </tr>\n",
       "    <tr>\n",
       "      <th>1</th>\n",
       "      <td>1</td>\n",
       "      <td>1</td>\n",
       "      <td>BRA</td>\n",
       "      <td>15.0</td>\n",
       "      <td>3_Pts_T</td>\n",
       "      <td>0.0</td>\n",
       "      <td>0.0</td>\n",
       "      <td>0.0</td>\n",
       "      <td>43.0</td>\n",
       "      <td>0.0</td>\n",
       "    </tr>\n",
       "    <tr>\n",
       "      <th>2</th>\n",
       "      <td>2</td>\n",
       "      <td>2</td>\n",
       "      <td>RCB</td>\n",
       "      <td>7.0</td>\n",
       "      <td>2_Pts_T</td>\n",
       "      <td>0.0</td>\n",
       "      <td>0.0</td>\n",
       "      <td>0.0</td>\n",
       "      <td>50.0</td>\n",
       "      <td>7.0</td>\n",
       "    </tr>\n",
       "    <tr>\n",
       "      <th>3</th>\n",
       "      <td>3</td>\n",
       "      <td>3</td>\n",
       "      <td>BRA</td>\n",
       "      <td>11.0</td>\n",
       "      <td>2_Pts_T</td>\n",
       "      <td>0.0</td>\n",
       "      <td>0.0</td>\n",
       "      <td>0.0</td>\n",
       "      <td>61.0</td>\n",
       "      <td>0.0</td>\n",
       "    </tr>\n",
       "    <tr>\n",
       "      <th>4</th>\n",
       "      <td>4</td>\n",
       "      <td>4</td>\n",
       "      <td>RCB</td>\n",
       "      <td>18.0</td>\n",
       "      <td>3_Pts_T</td>\n",
       "      <td>0.0</td>\n",
       "      <td>0.0</td>\n",
       "      <td>0.0</td>\n",
       "      <td>79.0</td>\n",
       "      <td>18.0</td>\n",
       "    </tr>\n",
       "    <tr>\n",
       "      <th>...</th>\n",
       "      <td>...</td>\n",
       "      <td>...</td>\n",
       "      <td>...</td>\n",
       "      <td>...</td>\n",
       "      <td>...</td>\n",
       "      <td>...</td>\n",
       "      <td>...</td>\n",
       "      <td>...</td>\n",
       "      <td>...</td>\n",
       "      <td>...</td>\n",
       "    </tr>\n",
       "    <tr>\n",
       "      <th>170</th>\n",
       "      <td>170</td>\n",
       "      <td>170</td>\n",
       "      <td>RCB</td>\n",
       "      <td>7.0</td>\n",
       "      <td>LL_Pts_C</td>\n",
       "      <td>3.0</td>\n",
       "      <td>-3.0</td>\n",
       "      <td>3.0</td>\n",
       "      <td>2338.0</td>\n",
       "      <td>7.0</td>\n",
       "    </tr>\n",
       "    <tr>\n",
       "      <th>171</th>\n",
       "      <td>171</td>\n",
       "      <td>171</td>\n",
       "      <td>BRA</td>\n",
       "      <td>25.0</td>\n",
       "      <td>3_Pts_T</td>\n",
       "      <td>3.0</td>\n",
       "      <td>-3.0</td>\n",
       "      <td>3.0</td>\n",
       "      <td>2363.0</td>\n",
       "      <td>0.0</td>\n",
       "    </tr>\n",
       "    <tr>\n",
       "      <th>172</th>\n",
       "      <td>172</td>\n",
       "      <td>172</td>\n",
       "      <td>RCB</td>\n",
       "      <td>27.0</td>\n",
       "      <td>LL_Pts_T</td>\n",
       "      <td>3.0</td>\n",
       "      <td>-3.0</td>\n",
       "      <td>3.0</td>\n",
       "      <td>2390.0</td>\n",
       "      <td>27.0</td>\n",
       "    </tr>\n",
       "    <tr>\n",
       "      <th>173</th>\n",
       "      <td>173</td>\n",
       "      <td>173</td>\n",
       "      <td>BRA</td>\n",
       "      <td>5.0</td>\n",
       "      <td>LL_Pts_C</td>\n",
       "      <td>5.0</td>\n",
       "      <td>-5.0</td>\n",
       "      <td>5.0</td>\n",
       "      <td>2395.0</td>\n",
       "      <td>0.0</td>\n",
       "    </tr>\n",
       "    <tr>\n",
       "      <th>174</th>\n",
       "      <td>174</td>\n",
       "      <td>174</td>\n",
       "      <td>RCB</td>\n",
       "      <td>3.0</td>\n",
       "      <td>2_Pts_T</td>\n",
       "      <td>5.0</td>\n",
       "      <td>-5.0</td>\n",
       "      <td>5.0</td>\n",
       "      <td>2398.0</td>\n",
       "      <td>3.0</td>\n",
       "    </tr>\n",
       "  </tbody>\n",
       "</table>\n",
       "<p>175 rows × 10 columns</p>\n",
       "</div>"
      ],
      "text/plain": [
       "     level_0  index Time  Tempo Indicador  dif_casa  dif_visita  dif_abs  \\\n",
       "0          0      0  RCB   28.0   2_Pts_T       0.0         0.0      0.0   \n",
       "1          1      1  BRA   15.0   3_Pts_T       0.0         0.0      0.0   \n",
       "2          2      2  RCB    7.0   2_Pts_T       0.0         0.0      0.0   \n",
       "3          3      3  BRA   11.0   2_Pts_T       0.0         0.0      0.0   \n",
       "4          4      4  RCB   18.0   3_Pts_T       0.0         0.0      0.0   \n",
       "..       ...    ...  ...    ...       ...       ...         ...      ...   \n",
       "170      170    170  RCB    7.0  LL_Pts_C       3.0        -3.0      3.0   \n",
       "171      171    171  BRA   25.0   3_Pts_T       3.0        -3.0      3.0   \n",
       "172      172    172  RCB   27.0  LL_Pts_T       3.0        -3.0      3.0   \n",
       "173      173    173  BRA    5.0  LL_Pts_C       5.0        -5.0      5.0   \n",
       "174      174    174  RCB    3.0   2_Pts_T       5.0        -5.0      5.0   \n",
       "\n",
       "     Tempo_Fim  Time_Novo  \n",
       "0         28.0       28.0  \n",
       "1         43.0        0.0  \n",
       "2         50.0        7.0  \n",
       "3         61.0        0.0  \n",
       "4         79.0       18.0  \n",
       "..         ...        ...  \n",
       "170     2338.0        7.0  \n",
       "171     2363.0        0.0  \n",
       "172     2390.0       27.0  \n",
       "173     2395.0        0.0  \n",
       "174     2398.0        3.0  \n",
       "\n",
       "[175 rows x 10 columns]"
      ]
     },
     "execution_count": 52,
     "metadata": {},
     "output_type": "execute_result"
    }
   ],
   "source": [
    "grafico_posse_time2"
   ]
  },
  {
   "cell_type": "code",
   "execution_count": 53,
   "metadata": {},
   "outputs": [],
   "source": [
    "x2 = grafico_posse_time2['index']\n",
    "my_xticks2 = x2\n",
    "frequency2 = 10"
   ]
  },
  {
   "cell_type": "markdown",
   "metadata": {},
   "source": [
    "# Gráfico 2"
   ]
  },
  {
   "cell_type": "code",
   "execution_count": 54,
   "metadata": {},
   "outputs": [
    {
     "data": {
      "image/png": "[encoded data removed]",
      "text/plain": [
       "<Figure size 1440x504 with 1 Axes>"
      ]
     },
     "metadata": {},
     "output_type": "display_data"
    }
   ],
   "source": [
    "plt.style.use('seaborn')\n",
    "sns.set_style('white')\n",
    "plt.figure(figsize=(20,7))\n",
    "sns.barplot(x='index', y='Time_Novo', data=grafico_posse_time2, color='black')\n",
    "plt.title(f'Ataques do {nome_time_fora} no jogo', fontsize=30)\n",
    "plt.yticks([10,14,24], fontsize=24)\n",
    "plt.ylabel('Tempo', fontsize=20)\n",
    "plt.xlabel('Ataques', fontsize=20)\n",
    "plt.xticks(x2[::frequency2], my_xticks2[::frequency2], fontsize=16)\n",
    "plt.axhline(24, color='red', alpha=0.6, label = '24 segundos')\n",
    "plt.axhline(14, color='red', alpha=0.6, label = '14 segundos')\n",
    "plt.axhline(10, color='red', alpha=0.6, label = '10 segundos')\n",
    "plt.axhline(5, color='red', alpha=0.6, label = '5 segundos')\n",
    "# plt.legend(loc='upper right', bbox_to_anchor=(1.1, 1), prop={'size':14})\n",
    "plt.savefig('RELATORIO/teste4.png', format='png')"
   ]
  },
  {
   "cell_type": "markdown",
   "metadata": {},
   "source": [
    "# Análises descritiva da posse de bola\n",
    "### Contagem dos indicadores técnicos no final de cada ataque realizado  \n",
    "* Pts_3_C    -> Três Pontos Convertidos \n",
    "* Pts_3_E    -> Três Pontos Errados\n",
    "* Pts_2_C    -> Dois Pontos Convertidos\n",
    "* Pts_2_E    -> Dois Pontos Errados\n",
    "* LL_Pts_C   -> Lances Livres Convertidos\n",
    "* LL_Pts_T   -> Lances Livres Tentados\n",
    "* Tempo_de_posse -> tempo de posse de cada ataque realizado\n",
    "* Ataques/min \n",
    "* posse      -> total de ataques do time   "
   ]
  },
  {
   "cell_type": "markdown",
   "metadata": {},
   "source": [
    "## Código"
   ]
  },
  {
   "cell_type": "code",
   "execution_count": 55,
   "metadata": {},
   "outputs": [],
   "source": [
    "soma_a = df_time_a['Indicador'].value_counts().sum()\n",
    "soma_b = df_time_b['Indicador'].value_counts().sum()"
   ]
  },
  {
   "cell_type": "code",
   "execution_count": 56,
   "metadata": {},
   "outputs": [
    {
     "data": {
      "text/html": [
       "<div>\n",
       "<style scoped>\n",
       "    .dataframe tbody tr th:only-of-type {\n",
       "        vertical-align: middle;\n",
       "    }\n",
       "\n",
       "    .dataframe tbody tr th {\n",
       "        vertical-align: top;\n",
       "    }\n",
       "\n",
       "    .dataframe thead th {\n",
       "        text-align: right;\n",
       "    }\n",
       "</style>\n",
       "<table border=\"1\" class=\"dataframe\">\n",
       "  <thead>\n",
       "    <tr style=\"text-align: right;\">\n",
       "      <th></th>\n",
       "      <th>2_Pts_C</th>\n",
       "      <th>2_Pts_T</th>\n",
       "      <th>3_Pts_C</th>\n",
       "      <th>3_Pts_T</th>\n",
       "      <th>ER</th>\n",
       "      <th>LL_Pts_C</th>\n",
       "      <th>LL_Pts_T</th>\n",
       "    </tr>\n",
       "  </thead>\n",
       "  <tbody>\n",
       "    <tr>\n",
       "      <th>0</th>\n",
       "      <td>14.0</td>\n",
       "      <td>16.0</td>\n",
       "      <td>7.0</td>\n",
       "      <td>8.0</td>\n",
       "      <td>31.0</td>\n",
       "      <td>7.0</td>\n",
       "      <td>4.0</td>\n",
       "    </tr>\n",
       "    <tr>\n",
       "      <th>1</th>\n",
       "      <td>16.0</td>\n",
       "      <td>19.0</td>\n",
       "      <td>4.0</td>\n",
       "      <td>22.0</td>\n",
       "      <td>17.0</td>\n",
       "      <td>7.0</td>\n",
       "      <td>3.0</td>\n",
       "    </tr>\n",
       "  </tbody>\n",
       "</table>\n",
       "</div>"
      ],
      "text/plain": [
       "   2_Pts_C  2_Pts_T  3_Pts_C  3_Pts_T    ER  LL_Pts_C  LL_Pts_T\n",
       "0     14.0     16.0      7.0      8.0  31.0       7.0       4.0\n",
       "1     16.0     19.0      4.0     22.0  17.0       7.0       3.0"
      ]
     },
     "execution_count": 56,
     "metadata": {},
     "output_type": "execute_result"
    }
   ],
   "source": [
    "contagem = pd.DataFrame()\n",
    "contagem = contagem.append(df_time_a['Indicador'].value_counts(), ignore_index=True)\n",
    "contagem = contagem.append(df_time_b['Indicador'].value_counts(), ignore_index=True)\n",
    "contagem"
   ]
  },
  {
   "cell_type": "code",
   "execution_count": 57,
   "metadata": {},
   "outputs": [
    {
     "data": {
      "text/html": [
       "<div>\n",
       "<style scoped>\n",
       "    .dataframe tbody tr th:only-of-type {\n",
       "        vertical-align: middle;\n",
       "    }\n",
       "\n",
       "    .dataframe tbody tr th {\n",
       "        vertical-align: top;\n",
       "    }\n",
       "\n",
       "    .dataframe thead th {\n",
       "        text-align: right;\n",
       "    }\n",
       "</style>\n",
       "<table border=\"1\" class=\"dataframe\">\n",
       "  <thead>\n",
       "    <tr style=\"text-align: right;\">\n",
       "      <th></th>\n",
       "      <th>2_Pts_C</th>\n",
       "      <th>2_Pts_T</th>\n",
       "      <th>3_Pts_C</th>\n",
       "      <th>3_Pts_T</th>\n",
       "      <th>ER</th>\n",
       "      <th>LL_Pts_C</th>\n",
       "      <th>LL_Pts_T</th>\n",
       "      <th>EN</th>\n",
       "    </tr>\n",
       "  </thead>\n",
       "  <tbody>\n",
       "    <tr>\n",
       "      <th>0</th>\n",
       "      <td>14.0</td>\n",
       "      <td>16.0</td>\n",
       "      <td>7.0</td>\n",
       "      <td>8.0</td>\n",
       "      <td>31.0</td>\n",
       "      <td>7.0</td>\n",
       "      <td>4.0</td>\n",
       "      <td>0.0</td>\n",
       "    </tr>\n",
       "    <tr>\n",
       "      <th>1</th>\n",
       "      <td>16.0</td>\n",
       "      <td>19.0</td>\n",
       "      <td>4.0</td>\n",
       "      <td>22.0</td>\n",
       "      <td>17.0</td>\n",
       "      <td>7.0</td>\n",
       "      <td>3.0</td>\n",
       "      <td>0.0</td>\n",
       "    </tr>\n",
       "  </tbody>\n",
       "</table>\n",
       "</div>"
      ],
      "text/plain": [
       "   2_Pts_C  2_Pts_T  3_Pts_C  3_Pts_T    ER  LL_Pts_C  LL_Pts_T   EN\n",
       "0     14.0     16.0      7.0      8.0  31.0       7.0       4.0  0.0\n",
       "1     16.0     19.0      4.0     22.0  17.0       7.0       3.0  0.0"
      ]
     },
     "execution_count": 57,
     "metadata": {},
     "output_type": "execute_result"
    }
   ],
   "source": [
    "# Esses indicadores podem não aparecer no jogo \n",
    "# dessa maneira eu vou criar um if e acrescentar \n",
    "valores_coluna = []\n",
    "for i in contagem:\n",
    "    valores_coluna.append(i)\n",
    "    \n",
    "if 'EN' not in valores_coluna:\n",
    "    contagem['EN'] = [0.0, 0.0]\n",
    "if 'LL_Pts_T' not in valores_coluna:\n",
    "    contagem['LL_Pts_T'] = [0.0, 0.0]\n",
    "if 'LL_Pts_C' not in valores_coluna:\n",
    "    contagem['LL_Pts_C'] = [0.0, 0.0]\n",
    "# substituir os valores NAN por 0(zero)\n",
    "contagem.fillna(0, inplace=True)\n",
    "contagem"
   ]
  },
  {
   "cell_type": "code",
   "execution_count": 58,
   "metadata": {},
   "outputs": [],
   "source": [
    "contagem.loc[0, '2_Pts_C'] = contagem['2_Pts_C'][0] + contagem['EN'][0]\n",
    "contagem.loc[1, '2_Pts_C'] = contagem['2_Pts_C'][1] + contagem['EN'][1]"
   ]
  },
  {
   "cell_type": "code",
   "execution_count": 59,
   "metadata": {},
   "outputs": [
    {
     "data": {
      "text/html": [
       "<div>\n",
       "<style scoped>\n",
       "    .dataframe tbody tr th:only-of-type {\n",
       "        vertical-align: middle;\n",
       "    }\n",
       "\n",
       "    .dataframe tbody tr th {\n",
       "        vertical-align: top;\n",
       "    }\n",
       "\n",
       "    .dataframe thead th {\n",
       "        text-align: right;\n",
       "    }\n",
       "</style>\n",
       "<table border=\"1\" class=\"dataframe\">\n",
       "  <thead>\n",
       "    <tr style=\"text-align: right;\">\n",
       "      <th></th>\n",
       "      <th>2_Pts_C</th>\n",
       "      <th>2_Pts_T</th>\n",
       "      <th>3_Pts_C</th>\n",
       "      <th>3_Pts_T</th>\n",
       "      <th>ER</th>\n",
       "      <th>LL_Pts_C</th>\n",
       "      <th>LL_Pts_T</th>\n",
       "    </tr>\n",
       "  </thead>\n",
       "  <tbody>\n",
       "    <tr>\n",
       "      <th>0</th>\n",
       "      <td>14.0</td>\n",
       "      <td>16.0</td>\n",
       "      <td>7.0</td>\n",
       "      <td>8.0</td>\n",
       "      <td>31.0</td>\n",
       "      <td>7.0</td>\n",
       "      <td>4.0</td>\n",
       "    </tr>\n",
       "    <tr>\n",
       "      <th>1</th>\n",
       "      <td>16.0</td>\n",
       "      <td>19.0</td>\n",
       "      <td>4.0</td>\n",
       "      <td>22.0</td>\n",
       "      <td>17.0</td>\n",
       "      <td>7.0</td>\n",
       "      <td>3.0</td>\n",
       "    </tr>\n",
       "  </tbody>\n",
       "</table>\n",
       "</div>"
      ],
      "text/plain": [
       "   2_Pts_C  2_Pts_T  3_Pts_C  3_Pts_T    ER  LL_Pts_C  LL_Pts_T\n",
       "0     14.0     16.0      7.0      8.0  31.0       7.0       4.0\n",
       "1     16.0     19.0      4.0     22.0  17.0       7.0       3.0"
      ]
     },
     "execution_count": 59,
     "metadata": {},
     "output_type": "execute_result"
    }
   ],
   "source": [
    "contagem.drop('EN', inplace=True, axis=1)\n",
    "contagem"
   ]
  },
  {
   "cell_type": "code",
   "execution_count": 60,
   "metadata": {},
   "outputs": [],
   "source": [
    "contagem.rename(columns={\"2_Pts_T\": \"2_Pts_E\", \"3_Pts_T\": \"3_Pts_E\", \"LL_Pts_T\": \"LL_Pts_E\"}, inplace=True)"
   ]
  },
  {
   "cell_type": "code",
   "execution_count": 61,
   "metadata": {},
   "outputs": [],
   "source": [
    "contagem['2_Pts_T'] = contagem['2_Pts_C'] + contagem['2_Pts_E']\n",
    "contagem['3_Pts_T'] = contagem['3_Pts_C'] + contagem['3_Pts_E']\n",
    "contagem['LL_Pts_T'] = contagem['LL_Pts_C'] + contagem['LL_Pts_E']"
   ]
  },
  {
   "cell_type": "code",
   "execution_count": 62,
   "metadata": {},
   "outputs": [],
   "source": [
    "contagem['Time'] = [sigla_time_a, sigla_time_b]\n",
    "contagem['posse'] = [soma_a, soma_b]\n",
    "contagem['%2_Pts_C'] = [round((contagem['2_Pts_C'][0]/soma_a)*100), round((contagem['2_Pts_C'][1]/soma_b)*100)]\n",
    "contagem['%2_Pts_E'] = [round((contagem['2_Pts_E'][0]/soma_a)*100), round((contagem['2_Pts_E'][1]/soma_b)*100)]\n",
    "contagem['%3_Pts_C'] = [round((contagem['3_Pts_C'][0]/soma_a)*100), round((contagem['3_Pts_C'][1]/soma_b)*100)]\n",
    "contagem['%3_Pts_E'] = [round((contagem['3_Pts_E'][0]/soma_a)*100), round((contagem['3_Pts_E'][1]/soma_b)*100)]\n",
    "contagem['%LL_Pts_C'] = [round((contagem['LL_Pts_C'][0]/soma_a)*100), round((contagem['LL_Pts_C'][1]/soma_b)*100)]\n",
    "contagem['%LL_Pts_E'] = [round((contagem['LL_Pts_E'][0]/soma_a)*100), round((contagem['LL_Pts_E'][1]/soma_b)*100)]\n",
    "contagem['Tempo_de_posse'] = [(round(posse_de_bola.loc[posse_de_bola['Time'] == sigla_time_a].Tempo.sum()/60)),\n",
    "                              (round(posse_de_bola.loc[posse_de_bola['Time'] == sigla_time_b].Tempo.sum()/60))]\n",
    "contagem['Ataques/min'] = [(round(contagem['posse'][0]/contagem['Tempo_de_posse'][0], 2)),\n",
    "                           (round(contagem['posse'][1]/contagem['Tempo_de_posse'][1], 2))]"
   ]
  },
  {
   "cell_type": "code",
   "execution_count": 63,
   "metadata": {},
   "outputs": [
    {
     "data": {
      "text/plain": [
       "4.833333333333333"
      ]
     },
     "execution_count": 63,
     "metadata": {},
     "output_type": "execute_result"
    }
   ],
   "source": [
    "contagem['posse'][0]/contagem['Tempo_de_posse'][0]"
   ]
  },
  {
   "cell_type": "code",
   "execution_count": 64,
   "metadata": {},
   "outputs": [
    {
     "data": {
      "text/html": [
       "<div>\n",
       "<style scoped>\n",
       "    .dataframe tbody tr th:only-of-type {\n",
       "        vertical-align: middle;\n",
       "    }\n",
       "\n",
       "    .dataframe tbody tr th {\n",
       "        vertical-align: top;\n",
       "    }\n",
       "\n",
       "    .dataframe thead th {\n",
       "        text-align: right;\n",
       "    }\n",
       "</style>\n",
       "<table border=\"1\" class=\"dataframe\">\n",
       "  <thead>\n",
       "    <tr style=\"text-align: right;\">\n",
       "      <th></th>\n",
       "      <th>Time</th>\n",
       "      <th>posse</th>\n",
       "      <th>Tempo_de_posse</th>\n",
       "      <th>Ataques/min</th>\n",
       "      <th>2_Pts_C</th>\n",
       "      <th>2_Pts_E</th>\n",
       "      <th>2_Pts_T</th>\n",
       "      <th>3_Pts_C</th>\n",
       "      <th>3_Pts_E</th>\n",
       "      <th>3_Pts_T</th>\n",
       "      <th>LL_Pts_C</th>\n",
       "      <th>LL_Pts_E</th>\n",
       "      <th>LL_Pts_T</th>\n",
       "      <th>%2_Pts_C</th>\n",
       "      <th>%2_Pts_E</th>\n",
       "      <th>%3_Pts_C</th>\n",
       "      <th>%3_Pts_E</th>\n",
       "      <th>%LL_Pts_C</th>\n",
       "      <th>%LL_Pts_E</th>\n",
       "    </tr>\n",
       "  </thead>\n",
       "  <tbody>\n",
       "    <tr>\n",
       "      <th>0</th>\n",
       "      <td>BRA</td>\n",
       "      <td>87</td>\n",
       "      <td>18.0</td>\n",
       "      <td>4.83</td>\n",
       "      <td>14.0</td>\n",
       "      <td>16.0</td>\n",
       "      <td>30.0</td>\n",
       "      <td>7.0</td>\n",
       "      <td>8.0</td>\n",
       "      <td>15.0</td>\n",
       "      <td>7.0</td>\n",
       "      <td>4.0</td>\n",
       "      <td>11.0</td>\n",
       "      <td>16.0</td>\n",
       "      <td>18.0</td>\n",
       "      <td>8.0</td>\n",
       "      <td>9.0</td>\n",
       "      <td>8.0</td>\n",
       "      <td>5.0</td>\n",
       "    </tr>\n",
       "    <tr>\n",
       "      <th>1</th>\n",
       "      <td>RCB</td>\n",
       "      <td>88</td>\n",
       "      <td>22.0</td>\n",
       "      <td>4.00</td>\n",
       "      <td>16.0</td>\n",
       "      <td>19.0</td>\n",
       "      <td>35.0</td>\n",
       "      <td>4.0</td>\n",
       "      <td>22.0</td>\n",
       "      <td>26.0</td>\n",
       "      <td>7.0</td>\n",
       "      <td>3.0</td>\n",
       "      <td>10.0</td>\n",
       "      <td>18.0</td>\n",
       "      <td>22.0</td>\n",
       "      <td>5.0</td>\n",
       "      <td>25.0</td>\n",
       "      <td>8.0</td>\n",
       "      <td>3.0</td>\n",
       "    </tr>\n",
       "  </tbody>\n",
       "</table>\n",
       "</div>"
      ],
      "text/plain": [
       "  Time  posse  Tempo_de_posse  Ataques/min  2_Pts_C  2_Pts_E  2_Pts_T  \\\n",
       "0  BRA     87            18.0         4.83     14.0     16.0     30.0   \n",
       "1  RCB     88            22.0         4.00     16.0     19.0     35.0   \n",
       "\n",
       "   3_Pts_C  3_Pts_E  3_Pts_T  LL_Pts_C  LL_Pts_E  LL_Pts_T  %2_Pts_C  \\\n",
       "0      7.0      8.0     15.0       7.0       4.0      11.0      16.0   \n",
       "1      4.0     22.0     26.0       7.0       3.0      10.0      18.0   \n",
       "\n",
       "   %2_Pts_E  %3_Pts_C  %3_Pts_E  %LL_Pts_C  %LL_Pts_E  \n",
       "0      18.0       8.0       9.0        8.0        5.0  \n",
       "1      22.0       5.0      25.0        8.0        3.0  "
      ]
     },
     "execution_count": 64,
     "metadata": {},
     "output_type": "execute_result"
    }
   ],
   "source": [
    "contagem = contagem[['Time', 'posse', 'Tempo_de_posse', 'Ataques/min',\n",
    "                     '2_Pts_C', '2_Pts_E', '2_Pts_T',\n",
    "                     '3_Pts_C', '3_Pts_E', '3_Pts_T',\n",
    "                     'LL_Pts_C', 'LL_Pts_E', 'LL_Pts_T',\n",
    "                     '%2_Pts_C', '%2_Pts_E', '%3_Pts_C',\n",
    "                     '%3_Pts_E', '%LL_Pts_C', '%LL_Pts_E']]\n",
    "contagem"
   ]
  },
  {
   "cell_type": "code",
   "execution_count": 65,
   "metadata": {},
   "outputs": [
    {
     "data": {
      "text/plain": [
       "{'RCB': (13, 19, 11, 35, 10)}"
      ]
     },
     "execution_count": 65,
     "metadata": {},
     "output_type": "execute_result"
    }
   ],
   "source": [
    "posse_de_bola_b = posse_de_bola[posse_de_bola['Time'] == sigla_time_b]\n",
    "v1 = len(posse_de_bola_b[posse_de_bola_b['Tempo'] <= 5])\n",
    "v2 = len(posse_de_bola_b[(posse_de_bola_b['Tempo'] > 5) & (posse_de_bola_b['Tempo'] <= 10)])\n",
    "v3 = len(posse_de_bola_b[(posse_de_bola_b['Tempo'] > 10) & (posse_de_bola_b['Tempo'] <= 14)])\n",
    "v4 = len(posse_de_bola_b[(posse_de_bola_b['Tempo'] > 14) & (posse_de_bola_b['Tempo'] <= 24)])\n",
    "v5 = len(posse_de_bola_b[posse_de_bola_b['Tempo'] > 24])\n",
    "valores_b = {f'{sigla_time_b}':(v1, v2, v3, v4, v5)}\n",
    "valores_b"
   ]
  },
  {
   "cell_type": "code",
   "execution_count": 66,
   "metadata": {},
   "outputs": [
    {
     "data": {
      "text/plain": [
       "{'BRA': (8, 24, 29, 23, 3)}"
      ]
     },
     "execution_count": 66,
     "metadata": {},
     "output_type": "execute_result"
    }
   ],
   "source": [
    "posse_de_bola_a = posse_de_bola[posse_de_bola['Time'] == sigla_time_a]\n",
    "v1 = len(posse_de_bola_a[posse_de_bola_a['Tempo'] <= 5])\n",
    "v2 = len(posse_de_bola_a[(posse_de_bola_a['Tempo'] > 5) & (posse_de_bola_a['Tempo'] <= 10)])\n",
    "v3 = len(posse_de_bola_a[(posse_de_bola_a['Tempo'] > 10) & (posse_de_bola_a['Tempo'] <= 14)])\n",
    "v4 = len(posse_de_bola_a[(posse_de_bola_a['Tempo'] > 14) & (posse_de_bola_a['Tempo'] <= 24)])\n",
    "v5 = len(posse_de_bola_a[posse_de_bola_a['Tempo'] > 24])\n",
    "valores_a = {f'{sigla_time_a}':(v1, v2, v3, v4, v5)}\n",
    "valores_a"
   ]
  },
  {
   "cell_type": "code",
   "execution_count": 67,
   "metadata": {},
   "outputs": [],
   "source": [
    "# tempo de ataque separado por cada ataque \n",
    "# juntar valores de A e valores de B\n",
    "valores_a.update(valores_b)\n",
    "tempos = ('<=5', '>5<=10', '>10<=14', '>14<=24', '>24')\n",
    "ataques = pd.DataFrame(data=valores_a, index=tempos)"
   ]
  },
  {
   "cell_type": "code",
   "execution_count": 68,
   "metadata": {},
   "outputs": [
    {
     "data": {
      "text/html": [
       "<div>\n",
       "<style scoped>\n",
       "    .dataframe tbody tr th:only-of-type {\n",
       "        vertical-align: middle;\n",
       "    }\n",
       "\n",
       "    .dataframe tbody tr th {\n",
       "        vertical-align: top;\n",
       "    }\n",
       "\n",
       "    .dataframe thead th {\n",
       "        text-align: right;\n",
       "    }\n",
       "</style>\n",
       "<table border=\"1\" class=\"dataframe\">\n",
       "  <thead>\n",
       "    <tr style=\"text-align: right;\">\n",
       "      <th></th>\n",
       "      <th>BRA</th>\n",
       "      <th>RCB</th>\n",
       "    </tr>\n",
       "  </thead>\n",
       "  <tbody>\n",
       "    <tr>\n",
       "      <th>&lt;=5</th>\n",
       "      <td>8</td>\n",
       "      <td>13</td>\n",
       "    </tr>\n",
       "    <tr>\n",
       "      <th>&gt;5&lt;=10</th>\n",
       "      <td>24</td>\n",
       "      <td>19</td>\n",
       "    </tr>\n",
       "    <tr>\n",
       "      <th>&gt;10&lt;=14</th>\n",
       "      <td>29</td>\n",
       "      <td>11</td>\n",
       "    </tr>\n",
       "    <tr>\n",
       "      <th>&gt;14&lt;=24</th>\n",
       "      <td>23</td>\n",
       "      <td>35</td>\n",
       "    </tr>\n",
       "    <tr>\n",
       "      <th>&gt;24</th>\n",
       "      <td>3</td>\n",
       "      <td>10</td>\n",
       "    </tr>\n",
       "  </tbody>\n",
       "</table>\n",
       "</div>"
      ],
      "text/plain": [
       "         BRA  RCB\n",
       "<=5        8   13\n",
       ">5<=10    24   19\n",
       ">10<=14   29   11\n",
       ">14<=24   23   35\n",
       ">24        3   10"
      ]
     },
     "execution_count": 68,
     "metadata": {},
     "output_type": "execute_result"
    }
   ],
   "source": [
    "# Contra-Ataque\n",
    "# Ataque Rápido \n",
    "# Ataque Moderado\n",
    "# Ataque Controlado\n",
    "# Ataque Prolongado\n",
    "ataques"
   ]
  },
  {
   "cell_type": "markdown",
   "metadata": {},
   "source": [
    "#  Gráfico da diferença da placar"
   ]
  },
  {
   "cell_type": "code",
   "execution_count": 69,
   "metadata": {},
   "outputs": [
    {
     "data": {
      "text/plain": [
       "<matplotlib.lines.Line2D at 0x1e49a5d6f40>"
      ]
     },
     "execution_count": 69,
     "metadata": {},
     "output_type": "execute_result"
    },
    {
     "data": {
      "image/png": "[encoded data removed]",
      "text/plain": [
       "<Figure size 1080x360 with 1 Axes>"
      ]
     },
     "metadata": {},
     "output_type": "display_data"
    }
   ],
   "source": [
    "plt.style.use('seaborn')\n",
    "sns.set_style('white')\n",
    "plt.figure(figsize=(15,5))\n",
    "plt.plot(posse_bola['Tempo_Fim'], posse_bola['dif_casa'], color='black')\n",
    "plt.title('Diferença do Placar Casa Durante a Partida', fontsize=18)\n",
    "plt.ylabel('Diferença do Placar', fontsize=16)\n",
    "plt.xlabel('Tempo de Jogo em Segundos', fontsize=16)\n",
    "plt.yticks(fontsize= 16)\n",
    "plt.xticks(fontsize= 16)\n",
    "# plt.legend(loc='upper left', bbox_to_anchor=(1, 1), prop={'size':14})\n",
    "for x in quartos:\n",
    "    plt.axvline(x, color='red', label=posse_bola.index, linestyle='--', alpha=0.4)\n",
    "plt.axhline(0, color='orange', label=posse_bola.index, alpha=0.5)"
   ]
  },
  {
   "cell_type": "markdown",
   "metadata": {},
   "source": [
    "# Analisar os períodos positivos dos times"
   ]
  },
  {
   "cell_type": "code",
   "execution_count": 70,
   "metadata": {},
   "outputs": [],
   "source": [
    "# Utilizando a diferença do placar entre casa e visitante, aplicando diff (diferença entre as linhas) \n",
    "# e usando seu valor absoluto (abs())\n",
    "# nós podemos encontrar o valor de cada indicador técnico \n",
    "posse_bola[\"pontuacao\"] = posse_bola[\"dif_casa\"].diff()\n",
    "posse_bola[\"pontuacao\"] = posse_bola[\"pontuacao\"].apply(lambda x: abs(x))"
   ]
  },
  {
   "cell_type": "code",
   "execution_count": 71,
   "metadata": {},
   "outputs": [],
   "source": [
    "# como o primeiro valor some quando fazemos a diff e esse primeiro valor é importante pq é o primeiro ponto, nós adicionamos ele\n",
    "novo_valor = posse_bola[\"dif_casa\"][0]\n",
    "posse_bola.loc[0, 'pontuacao'] = abs(novo_valor)"
   ]
  },
  {
   "cell_type": "code",
   "execution_count": 72,
   "metadata": {},
   "outputs": [],
   "source": [
    "# questão de precaução \n",
    "posse_bola.reset_index(inplace=True, drop=True)"
   ]
  },
  {
   "cell_type": "markdown",
   "metadata": {},
   "source": [
    "# Dois Tipos de Posse\n",
    "## Primeira"
   ]
  },
  {
   "cell_type": "code",
   "execution_count": 73,
   "metadata": {},
   "outputs": [],
   "source": [
    "# dois tipos de posse de bola \n",
    "# 1 o time que teve a primeira posse de bola\n",
    "posse_bola_um = posse_bola.copy()"
   ]
  },
  {
   "cell_type": "code",
   "execution_count": 74,
   "metadata": {},
   "outputs": [
    {
     "data": {
      "text/plain": [
       "'BRA'"
      ]
     },
     "execution_count": 74,
     "metadata": {},
     "output_type": "execute_result"
    }
   ],
   "source": [
    "# avaliar quem é o primeiro a ter a posse de bola para poder se encaixar com a função das posses\n",
    "segunda_posse = posse_bola.Time[1]\n",
    "segunda_posse"
   ]
  },
  {
   "cell_type": "code",
   "execution_count": 75,
   "metadata": {},
   "outputs": [],
   "source": [
    "# Perguntar para o thomaz pq está errado\n",
    "for i in range(len(posse_bola_um)):\n",
    "    if posse_bola_um.Time[i] == segunda_posse:\n",
    "        posse_bola_um.loc[i, 'pontuacao'] = posse_bola_um.pontuacao[i] * -1\n",
    "    else:\n",
    "        pass"
   ]
  },
  {
   "cell_type": "code",
   "execution_count": 76,
   "metadata": {},
   "outputs": [
    {
     "data": {
      "text/html": [
       "<div>\n",
       "<style scoped>\n",
       "    .dataframe tbody tr th:only-of-type {\n",
       "        vertical-align: middle;\n",
       "    }\n",
       "\n",
       "    .dataframe tbody tr th {\n",
       "        vertical-align: top;\n",
       "    }\n",
       "\n",
       "    .dataframe thead th {\n",
       "        text-align: right;\n",
       "    }\n",
       "</style>\n",
       "<table border=\"1\" class=\"dataframe\">\n",
       "  <thead>\n",
       "    <tr style=\"text-align: right;\">\n",
       "      <th></th>\n",
       "      <th>Time</th>\n",
       "      <th>Tempo</th>\n",
       "      <th>Indicador</th>\n",
       "      <th>dif_casa</th>\n",
       "      <th>dif_visita</th>\n",
       "      <th>dif_abs</th>\n",
       "      <th>Tempo_Fim</th>\n",
       "      <th>pontuacao</th>\n",
       "    </tr>\n",
       "  </thead>\n",
       "  <tbody>\n",
       "    <tr>\n",
       "      <th>0</th>\n",
       "      <td>RCB</td>\n",
       "      <td>28.0</td>\n",
       "      <td>2_Pts_T</td>\n",
       "      <td>0.0</td>\n",
       "      <td>0.0</td>\n",
       "      <td>0.0</td>\n",
       "      <td>28.0</td>\n",
       "      <td>0.0</td>\n",
       "    </tr>\n",
       "    <tr>\n",
       "      <th>1</th>\n",
       "      <td>BRA</td>\n",
       "      <td>15.0</td>\n",
       "      <td>3_Pts_T</td>\n",
       "      <td>0.0</td>\n",
       "      <td>0.0</td>\n",
       "      <td>0.0</td>\n",
       "      <td>43.0</td>\n",
       "      <td>-0.0</td>\n",
       "    </tr>\n",
       "    <tr>\n",
       "      <th>2</th>\n",
       "      <td>RCB</td>\n",
       "      <td>7.0</td>\n",
       "      <td>2_Pts_T</td>\n",
       "      <td>0.0</td>\n",
       "      <td>0.0</td>\n",
       "      <td>0.0</td>\n",
       "      <td>50.0</td>\n",
       "      <td>0.0</td>\n",
       "    </tr>\n",
       "    <tr>\n",
       "      <th>3</th>\n",
       "      <td>BRA</td>\n",
       "      <td>11.0</td>\n",
       "      <td>2_Pts_T</td>\n",
       "      <td>0.0</td>\n",
       "      <td>0.0</td>\n",
       "      <td>0.0</td>\n",
       "      <td>61.0</td>\n",
       "      <td>-0.0</td>\n",
       "    </tr>\n",
       "    <tr>\n",
       "      <th>4</th>\n",
       "      <td>RCB</td>\n",
       "      <td>18.0</td>\n",
       "      <td>3_Pts_T</td>\n",
       "      <td>0.0</td>\n",
       "      <td>0.0</td>\n",
       "      <td>0.0</td>\n",
       "      <td>79.0</td>\n",
       "      <td>0.0</td>\n",
       "    </tr>\n",
       "    <tr>\n",
       "      <th>...</th>\n",
       "      <td>...</td>\n",
       "      <td>...</td>\n",
       "      <td>...</td>\n",
       "      <td>...</td>\n",
       "      <td>...</td>\n",
       "      <td>...</td>\n",
       "      <td>...</td>\n",
       "      <td>...</td>\n",
       "    </tr>\n",
       "    <tr>\n",
       "      <th>170</th>\n",
       "      <td>RCB</td>\n",
       "      <td>7.0</td>\n",
       "      <td>LL_Pts_C</td>\n",
       "      <td>3.0</td>\n",
       "      <td>-3.0</td>\n",
       "      <td>3.0</td>\n",
       "      <td>2338.0</td>\n",
       "      <td>2.0</td>\n",
       "    </tr>\n",
       "    <tr>\n",
       "      <th>171</th>\n",
       "      <td>BRA</td>\n",
       "      <td>25.0</td>\n",
       "      <td>3_Pts_T</td>\n",
       "      <td>3.0</td>\n",
       "      <td>-3.0</td>\n",
       "      <td>3.0</td>\n",
       "      <td>2363.0</td>\n",
       "      <td>-0.0</td>\n",
       "    </tr>\n",
       "    <tr>\n",
       "      <th>172</th>\n",
       "      <td>RCB</td>\n",
       "      <td>27.0</td>\n",
       "      <td>LL_Pts_T</td>\n",
       "      <td>3.0</td>\n",
       "      <td>-3.0</td>\n",
       "      <td>3.0</td>\n",
       "      <td>2390.0</td>\n",
       "      <td>0.0</td>\n",
       "    </tr>\n",
       "    <tr>\n",
       "      <th>173</th>\n",
       "      <td>BRA</td>\n",
       "      <td>5.0</td>\n",
       "      <td>LL_Pts_C</td>\n",
       "      <td>5.0</td>\n",
       "      <td>-5.0</td>\n",
       "      <td>5.0</td>\n",
       "      <td>2395.0</td>\n",
       "      <td>-2.0</td>\n",
       "    </tr>\n",
       "    <tr>\n",
       "      <th>174</th>\n",
       "      <td>RCB</td>\n",
       "      <td>3.0</td>\n",
       "      <td>2_Pts_T</td>\n",
       "      <td>5.0</td>\n",
       "      <td>-5.0</td>\n",
       "      <td>5.0</td>\n",
       "      <td>2398.0</td>\n",
       "      <td>0.0</td>\n",
       "    </tr>\n",
       "  </tbody>\n",
       "</table>\n",
       "<p>175 rows × 8 columns</p>\n",
       "</div>"
      ],
      "text/plain": [
       "    Time  Tempo Indicador  dif_casa  dif_visita  dif_abs  Tempo_Fim  pontuacao\n",
       "0    RCB   28.0   2_Pts_T       0.0         0.0      0.0       28.0        0.0\n",
       "1    BRA   15.0   3_Pts_T       0.0         0.0      0.0       43.0       -0.0\n",
       "2    RCB    7.0   2_Pts_T       0.0         0.0      0.0       50.0        0.0\n",
       "3    BRA   11.0   2_Pts_T       0.0         0.0      0.0       61.0       -0.0\n",
       "4    RCB   18.0   3_Pts_T       0.0         0.0      0.0       79.0        0.0\n",
       "..   ...    ...       ...       ...         ...      ...        ...        ...\n",
       "170  RCB    7.0  LL_Pts_C       3.0        -3.0      3.0     2338.0        2.0\n",
       "171  BRA   25.0   3_Pts_T       3.0        -3.0      3.0     2363.0       -0.0\n",
       "172  RCB   27.0  LL_Pts_T       3.0        -3.0      3.0     2390.0        0.0\n",
       "173  BRA    5.0  LL_Pts_C       5.0        -5.0      5.0     2395.0       -2.0\n",
       "174  RCB    3.0   2_Pts_T       5.0        -5.0      5.0     2398.0        0.0\n",
       "\n",
       "[175 rows x 8 columns]"
      ]
     },
     "execution_count": 76,
     "metadata": {},
     "output_type": "execute_result"
    }
   ],
   "source": [
    "# posse_bola.to_csv('tempo2.csv')\n",
    "posse_bola_um"
   ]
  },
  {
   "cell_type": "code",
   "execution_count": 77,
   "metadata": {},
   "outputs": [
    {
     "data": {
      "text/plain": [
       "175"
      ]
     },
     "execution_count": 77,
     "metadata": {},
     "output_type": "execute_result"
    }
   ],
   "source": [
    "len(posse_bola_um)"
   ]
  },
  {
   "cell_type": "code",
   "execution_count": 78,
   "metadata": {},
   "outputs": [],
   "source": [
    "def par_impar(posse_bola):\n",
    "    # precisamos fazer dois estilos de DataFrame \n",
    "    # par = não influência no time que teve a primeira posse de bola\n",
    "    # par = influência no time que teve a segunda posse de bola\n",
    "    # inpar = não influência no time que teve a segunda posse de bola\n",
    "    # inpar = influência no time que teve a primeira posse de bola\n",
    "    if len(posse_bola) % 2 == 0:\n",
    "        print(f\"Par: {len(posse_bola)}\")\n",
    "        return posse_bola\n",
    "    else:\n",
    "        print(f\"Impar: {len(posse_bola)}\")\n",
    "        d = {\"Time\": [0], \"Tempo\": [0], \"Indicador\": [0], \"dif_casa\": [0], \"dif_visita\": [0], \"dif_abs\": [0],\n",
    "             \"Tempo_Fim\": [0], \"pontuacao\": [0]}\n",
    "        a = pd.DataFrame(data=d)\n",
    "        a.pontuacao = a.pontuacao.astype('float64')\n",
    "        posse_bola = pd.concat([posse_bola, a], ignore_index=True)\n",
    "    return posse_bola"
   ]
  },
  {
   "cell_type": "code",
   "execution_count": 79,
   "metadata": {},
   "outputs": [
    {
     "name": "stdout",
     "output_type": "stream",
     "text": [
      "Impar: 175\n"
     ]
    },
    {
     "data": {
      "text/html": [
       "<div>\n",
       "<style scoped>\n",
       "    .dataframe tbody tr th:only-of-type {\n",
       "        vertical-align: middle;\n",
       "    }\n",
       "\n",
       "    .dataframe tbody tr th {\n",
       "        vertical-align: top;\n",
       "    }\n",
       "\n",
       "    .dataframe thead th {\n",
       "        text-align: right;\n",
       "    }\n",
       "</style>\n",
       "<table border=\"1\" class=\"dataframe\">\n",
       "  <thead>\n",
       "    <tr style=\"text-align: right;\">\n",
       "      <th></th>\n",
       "      <th>Time</th>\n",
       "      <th>Tempo</th>\n",
       "      <th>Indicador</th>\n",
       "      <th>dif_casa</th>\n",
       "      <th>dif_visita</th>\n",
       "      <th>dif_abs</th>\n",
       "      <th>Tempo_Fim</th>\n",
       "      <th>pontuacao</th>\n",
       "    </tr>\n",
       "  </thead>\n",
       "  <tbody>\n",
       "    <tr>\n",
       "      <th>0</th>\n",
       "      <td>RCB</td>\n",
       "      <td>28.0</td>\n",
       "      <td>2_Pts_T</td>\n",
       "      <td>0.0</td>\n",
       "      <td>0.0</td>\n",
       "      <td>0.0</td>\n",
       "      <td>28.0</td>\n",
       "      <td>0.0</td>\n",
       "    </tr>\n",
       "    <tr>\n",
       "      <th>1</th>\n",
       "      <td>BRA</td>\n",
       "      <td>15.0</td>\n",
       "      <td>3_Pts_T</td>\n",
       "      <td>0.0</td>\n",
       "      <td>0.0</td>\n",
       "      <td>0.0</td>\n",
       "      <td>43.0</td>\n",
       "      <td>-0.0</td>\n",
       "    </tr>\n",
       "    <tr>\n",
       "      <th>2</th>\n",
       "      <td>RCB</td>\n",
       "      <td>7.0</td>\n",
       "      <td>2_Pts_T</td>\n",
       "      <td>0.0</td>\n",
       "      <td>0.0</td>\n",
       "      <td>0.0</td>\n",
       "      <td>50.0</td>\n",
       "      <td>0.0</td>\n",
       "    </tr>\n",
       "    <tr>\n",
       "      <th>3</th>\n",
       "      <td>BRA</td>\n",
       "      <td>11.0</td>\n",
       "      <td>2_Pts_T</td>\n",
       "      <td>0.0</td>\n",
       "      <td>0.0</td>\n",
       "      <td>0.0</td>\n",
       "      <td>61.0</td>\n",
       "      <td>-0.0</td>\n",
       "    </tr>\n",
       "    <tr>\n",
       "      <th>4</th>\n",
       "      <td>RCB</td>\n",
       "      <td>18.0</td>\n",
       "      <td>3_Pts_T</td>\n",
       "      <td>0.0</td>\n",
       "      <td>0.0</td>\n",
       "      <td>0.0</td>\n",
       "      <td>79.0</td>\n",
       "      <td>0.0</td>\n",
       "    </tr>\n",
       "    <tr>\n",
       "      <th>...</th>\n",
       "      <td>...</td>\n",
       "      <td>...</td>\n",
       "      <td>...</td>\n",
       "      <td>...</td>\n",
       "      <td>...</td>\n",
       "      <td>...</td>\n",
       "      <td>...</td>\n",
       "      <td>...</td>\n",
       "    </tr>\n",
       "    <tr>\n",
       "      <th>171</th>\n",
       "      <td>BRA</td>\n",
       "      <td>25.0</td>\n",
       "      <td>3_Pts_T</td>\n",
       "      <td>3.0</td>\n",
       "      <td>-3.0</td>\n",
       "      <td>3.0</td>\n",
       "      <td>2363.0</td>\n",
       "      <td>-0.0</td>\n",
       "    </tr>\n",
       "    <tr>\n",
       "      <th>172</th>\n",
       "      <td>RCB</td>\n",
       "      <td>27.0</td>\n",
       "      <td>LL_Pts_T</td>\n",
       "      <td>3.0</td>\n",
       "      <td>-3.0</td>\n",
       "      <td>3.0</td>\n",
       "      <td>2390.0</td>\n",
       "      <td>0.0</td>\n",
       "    </tr>\n",
       "    <tr>\n",
       "      <th>173</th>\n",
       "      <td>BRA</td>\n",
       "      <td>5.0</td>\n",
       "      <td>LL_Pts_C</td>\n",
       "      <td>5.0</td>\n",
       "      <td>-5.0</td>\n",
       "      <td>5.0</td>\n",
       "      <td>2395.0</td>\n",
       "      <td>-2.0</td>\n",
       "    </tr>\n",
       "    <tr>\n",
       "      <th>174</th>\n",
       "      <td>RCB</td>\n",
       "      <td>3.0</td>\n",
       "      <td>2_Pts_T</td>\n",
       "      <td>5.0</td>\n",
       "      <td>-5.0</td>\n",
       "      <td>5.0</td>\n",
       "      <td>2398.0</td>\n",
       "      <td>0.0</td>\n",
       "    </tr>\n",
       "    <tr>\n",
       "      <th>175</th>\n",
       "      <td>0</td>\n",
       "      <td>0.0</td>\n",
       "      <td>0</td>\n",
       "      <td>0.0</td>\n",
       "      <td>0.0</td>\n",
       "      <td>0.0</td>\n",
       "      <td>0.0</td>\n",
       "      <td>0.0</td>\n",
       "    </tr>\n",
       "  </tbody>\n",
       "</table>\n",
       "<p>176 rows × 8 columns</p>\n",
       "</div>"
      ],
      "text/plain": [
       "    Time  Tempo Indicador  dif_casa  dif_visita  dif_abs  Tempo_Fim  pontuacao\n",
       "0    RCB   28.0   2_Pts_T       0.0         0.0      0.0       28.0        0.0\n",
       "1    BRA   15.0   3_Pts_T       0.0         0.0      0.0       43.0       -0.0\n",
       "2    RCB    7.0   2_Pts_T       0.0         0.0      0.0       50.0        0.0\n",
       "3    BRA   11.0   2_Pts_T       0.0         0.0      0.0       61.0       -0.0\n",
       "4    RCB   18.0   3_Pts_T       0.0         0.0      0.0       79.0        0.0\n",
       "..   ...    ...       ...       ...         ...      ...        ...        ...\n",
       "171  BRA   25.0   3_Pts_T       3.0        -3.0      3.0     2363.0       -0.0\n",
       "172  RCB   27.0  LL_Pts_T       3.0        -3.0      3.0     2390.0        0.0\n",
       "173  BRA    5.0  LL_Pts_C       5.0        -5.0      5.0     2395.0       -2.0\n",
       "174  RCB    3.0   2_Pts_T       5.0        -5.0      5.0     2398.0        0.0\n",
       "175    0    0.0         0       0.0         0.0      0.0        0.0        0.0\n",
       "\n",
       "[176 rows x 8 columns]"
      ]
     },
     "execution_count": 79,
     "metadata": {},
     "output_type": "execute_result"
    }
   ],
   "source": [
    "posse_bola_um = par_impar(posse_bola_um)\n",
    "posse_bola_um"
   ]
  },
  {
   "cell_type": "code",
   "execution_count": 80,
   "metadata": {},
   "outputs": [],
   "source": [
    "# Verificação das posses de bola pulando dois em dois\n",
    "def periodo_potencial(posse_bola):\n",
    "    indx_potencial_periodo = []\n",
    "    for i in range(0, len(posse_bola), 2):\n",
    "        # ache onde teve vantagem na pontuação\n",
    "        # Time A fez ponto, mas o time B não fez\n",
    "        if (posse_bola.pontuacao[i] >= 2) & (posse_bola.pontuacao[i+1] >= -1):\n",
    "            indx_potencial_periodo.append(i)\n",
    "        # ache onde teve pontuação dos dois times\n",
    "        # Time A fez ponto e o time B fez ponto\n",
    "        # Elimina a primeira posse de bola com essa condição\n",
    "        elif i > 2:\n",
    "            if (posse_bola.pontuacao[i] >= 2) & (posse_bola.pontuacao[i+1] <= -1):\n",
    "                # Caso encontre uma troca de pontuação, nós precisamos avaliar outro critério\n",
    "                # Caso apareça no ataque anterior uma vantagem na pontuação. PEGUE!\n",
    "                # Come essa função está avaliando o primeiro time que atacou,\n",
    "                # o time ao realizar um ponto estará na frente do placar anterior\n",
    "                if (posse_bola.pontuacao[i-2] >= 2) & (posse_bola.pontuacao[i-1] >= -1):\n",
    "                    indx_potencial_periodo.append(i)\n",
    "                else:\n",
    "                    pass\n",
    "        else:\n",
    "            pass\n",
    "    # para ajudar no passo de verificação na separação dos períodos positivos eu criei um break \n",
    "    # o break consiste em acrescentando o valor zero (0) no final da lista\n",
    "    indx_potencial_periodo.append(0)\n",
    "    return indx_potencial_periodo"
   ]
  },
  {
   "cell_type": "code",
   "execution_count": 81,
   "metadata": {},
   "outputs": [],
   "source": [
    "indx_potencial_periodo = periodo_potencial(posse_bola_um)"
   ]
  },
  {
   "cell_type": "markdown",
   "metadata": {},
   "source": [
    "primeira coisa que precisamos analisar é \n",
    "- Identificar sequencia da pontuação. Precisa no minimo uma dupla de ataques (2, 2)\n",
    "- Se essa sequencia apresenta uma pontuação de mais de 4 pontos"
   ]
  },
  {
   "cell_type": "code",
   "execution_count": 82,
   "metadata": {},
   "outputs": [],
   "source": [
    "def identificardor_periodo_positivo(indx_potencial_periodo, posse_bola):\n",
    "    # Primeiro passo é fazer a diferença entre cada periodo identificado\n",
    "    dif = np.diff(indx_potencial_periodo)\n",
    "    resultado = []\n",
    "    periodo = []\n",
    "    # Depois precisamos encontra quais apresentão ataques consecutivos (2)\n",
    "    # localizados os ataques, vamos agrupar os indxs e geramos periodos\n",
    "    for i, j in zip(dif, range(len(dif))):\n",
    "        if i == 2:\n",
    "            resultado.append(indx_potencial_periodo[j])\n",
    "            resultado.append(indx_potencial_periodo[j+1])\n",
    "        else:\n",
    "            periodo.append(sorted(set(resultado)))\n",
    "            resultado = []\n",
    "    periodo_positivo = []\n",
    "    # depois de agrupa-los, nós identificamos quem apresenta valores nos períodos \n",
    "    for i in periodo:\n",
    "        if any(i):\n",
    "            # para que sejam considerados periodos positivos utilizamos uma pontuação maior que 4 pontos no período \n",
    "            if sum(posse_bola.loc[i, 'pontuacao']) >= 4:\n",
    "                periodo_positivo.append(i)\n",
    "            else:\n",
    "                pass\n",
    "        else:\n",
    "            pass\n",
    "    # retorna os períodos positivos do time\n",
    "    return periodo_positivo"
   ]
  },
  {
   "cell_type": "code",
   "execution_count": 83,
   "metadata": {},
   "outputs": [
    {
     "data": {
      "text/plain": [
       "[[124, 126, 128], [134, 136, 138], [142, 144], [162, 164]]"
      ]
     },
     "execution_count": 83,
     "metadata": {},
     "output_type": "execute_result"
    }
   ],
   "source": [
    "periodo_positivo = identificardor_periodo_positivo(indx_potencial_periodo, posse_bola_um)\n",
    "periodo_positivo"
   ]
  },
  {
   "cell_type": "code",
   "execution_count": 84,
   "metadata": {},
   "outputs": [
    {
     "data": {
      "text/plain": [
       "'BRA'"
      ]
     },
     "execution_count": 84,
     "metadata": {},
     "output_type": "execute_result"
    }
   ],
   "source": [
    "segunda_posse"
   ]
  },
  {
   "cell_type": "code",
   "execution_count": 85,
   "metadata": {},
   "outputs": [
    {
     "data": {
      "text/plain": [
       "'BRA'"
      ]
     },
     "execution_count": 85,
     "metadata": {},
     "output_type": "execute_result"
    }
   ],
   "source": [
    "sigla_time_a"
   ]
  },
  {
   "cell_type": "code",
   "execution_count": 86,
   "metadata": {},
   "outputs": [],
   "source": [
    "# Colocar nos gráficos os periodos\n",
    "# time A\n",
    "segmento = [[]]\n",
    "# Time B\n",
    "segmento_dois = [[]]"
   ]
  },
  {
   "cell_type": "code",
   "execution_count": 87,
   "metadata": {},
   "outputs": [
    {
     "name": "stdout",
     "output_type": "stream",
     "text": [
      "Time B\n",
      "[1678.0, 1813.0, 1931.0, 2240.0]\n",
      "[1749.0, 1886.0, 1958.0, 2273.0]\n"
     ]
    }
   ],
   "source": [
    "# localizar o tempo de inicio e tempo final do periodo\n",
    "# No caso precisamos pegar o primeiro indx e subtrair por 1 (indx-1), assim podemos ter a posse completa\n",
    "# até a realização do ponto \n",
    "# Localizar o último indx que representa o final do período positivo\n",
    "if segunda_posse == sigla_time_a:\n",
    "    positivo_inicio_time_b = []\n",
    "    positivo_fim_time_b = []\n",
    "    for i in periodo_positivo:\n",
    "        if i[0] == 0:\n",
    "            positivo_inicio_time_b.append(posse_bola_um.loc[i[0], 'Tempo_Fim'])\n",
    "            positivo_fim_time_b.append(posse_bola_um.loc[i[len(i)-1], 'Tempo_Fim'])\n",
    "            segmento_dois.append([posse_bola_um.loc[i[0], 'Tempo_Fim'],posse_bola_um.loc[i[len(i)-1], 'Tempo_Fim']])\n",
    "        else:\n",
    "            positivo_inicio_time_b.append(posse_bola_um.loc[i[0]-1, 'Tempo_Fim'])\n",
    "            positivo_fim_time_b.append(posse_bola_um.loc[i[len(i)-1], 'Tempo_Fim'])\n",
    "            segmento_dois.append([posse_bola_um.loc[i[0]-1, 'Tempo_Fim'],posse_bola_um.loc[i[len(i)-1], 'Tempo_Fim']])\n",
    "    print('Time B')\n",
    "    print(positivo_inicio_time_b)\n",
    "    print(positivo_fim_time_b)\n",
    "else:\n",
    "    positivo_inicio_time_a = []\n",
    "    positivo_fim_time_a =  []\n",
    "    for i in periodo_positivo:\n",
    "        if i[0] == 0:\n",
    "            positivo_inicio_time_a.append(posse_bola_um.loc[i[0], 'Tempo_Fim'])\n",
    "            positivo_fim_time_a.append(posse_bola_um.loc[i[len(i)-1], 'Tempo_Fim'])\n",
    "            segmento.append([posse_bola_um.loc[i[0], 'Tempo_Fim'],posse_bola_um.loc[i[len(i)-1], 'Tempo_Fim']])\n",
    "        else:\n",
    "            positivo_inicio_time_a.append(posse_bola_um.loc[i[0]-1, 'Tempo_Fim'])\n",
    "            positivo_fim_time_a.append(posse_bola_um.loc[i[len(i)-1], 'Tempo_Fim'])\n",
    "            segmento.append([posse_bola_um.loc[i[0]-1, 'Tempo_Fim'],posse_bola_um.loc[i[len(i)-1], 'Tempo_Fim']])\n",
    "    print('Time A')\n",
    "    print(positivo_inicio_time_a)\n",
    "    print(positivo_fim_time_a)"
   ]
  },
  {
   "cell_type": "markdown",
   "metadata": {},
   "source": [
    "### Segundo Time"
   ]
  },
  {
   "cell_type": "code",
   "execution_count": 88,
   "metadata": {},
   "outputs": [],
   "source": [
    "# 2 o time que teve a segunda posse de bola\n",
    "posse_bola_dois = posse_bola.copy()\n",
    "posse_bola_dois.drop([0], inplace=True)\n",
    "posse_bola_dois.reset_index(drop=True, inplace=True)"
   ]
  },
  {
   "cell_type": "code",
   "execution_count": 89,
   "metadata": {},
   "outputs": [
    {
     "data": {
      "text/plain": [
       "'RCB'"
      ]
     },
     "execution_count": 89,
     "metadata": {},
     "output_type": "execute_result"
    }
   ],
   "source": [
    "# avaliar quem é o primeiro a ter a posse de bola para poder se encaixar com a função das posses\n",
    "segunda_posse_dois = posse_bola_dois.Time[1]\n",
    "segunda_posse_dois"
   ]
  },
  {
   "cell_type": "code",
   "execution_count": 90,
   "metadata": {},
   "outputs": [],
   "source": [
    "# Perguntar para o thomaz pq está errado\n",
    "for i in range(len(posse_bola_dois)):\n",
    "    if posse_bola_dois.Time[i] == segunda_posse_dois:\n",
    "        posse_bola_dois.loc[i, 'pontuacao'] = posse_bola_dois.pontuacao[i] * -1\n",
    "    else:\n",
    "        pass"
   ]
  },
  {
   "cell_type": "code",
   "execution_count": 91,
   "metadata": {},
   "outputs": [
    {
     "data": {
      "text/html": [
       "<div>\n",
       "<style scoped>\n",
       "    .dataframe tbody tr th:only-of-type {\n",
       "        vertical-align: middle;\n",
       "    }\n",
       "\n",
       "    .dataframe tbody tr th {\n",
       "        vertical-align: top;\n",
       "    }\n",
       "\n",
       "    .dataframe thead th {\n",
       "        text-align: right;\n",
       "    }\n",
       "</style>\n",
       "<table border=\"1\" class=\"dataframe\">\n",
       "  <thead>\n",
       "    <tr style=\"text-align: right;\">\n",
       "      <th></th>\n",
       "      <th>Time</th>\n",
       "      <th>Tempo</th>\n",
       "      <th>Indicador</th>\n",
       "      <th>dif_casa</th>\n",
       "      <th>dif_visita</th>\n",
       "      <th>dif_abs</th>\n",
       "      <th>Tempo_Fim</th>\n",
       "      <th>pontuacao</th>\n",
       "    </tr>\n",
       "  </thead>\n",
       "  <tbody>\n",
       "    <tr>\n",
       "      <th>0</th>\n",
       "      <td>RCB</td>\n",
       "      <td>28.0</td>\n",
       "      <td>2_Pts_T</td>\n",
       "      <td>0.0</td>\n",
       "      <td>0.0</td>\n",
       "      <td>0.0</td>\n",
       "      <td>28.0</td>\n",
       "      <td>0.0</td>\n",
       "    </tr>\n",
       "    <tr>\n",
       "      <th>1</th>\n",
       "      <td>BRA</td>\n",
       "      <td>15.0</td>\n",
       "      <td>3_Pts_T</td>\n",
       "      <td>0.0</td>\n",
       "      <td>0.0</td>\n",
       "      <td>0.0</td>\n",
       "      <td>43.0</td>\n",
       "      <td>0.0</td>\n",
       "    </tr>\n",
       "    <tr>\n",
       "      <th>2</th>\n",
       "      <td>RCB</td>\n",
       "      <td>7.0</td>\n",
       "      <td>2_Pts_T</td>\n",
       "      <td>0.0</td>\n",
       "      <td>0.0</td>\n",
       "      <td>0.0</td>\n",
       "      <td>50.0</td>\n",
       "      <td>0.0</td>\n",
       "    </tr>\n",
       "    <tr>\n",
       "      <th>3</th>\n",
       "      <td>BRA</td>\n",
       "      <td>11.0</td>\n",
       "      <td>2_Pts_T</td>\n",
       "      <td>0.0</td>\n",
       "      <td>0.0</td>\n",
       "      <td>0.0</td>\n",
       "      <td>61.0</td>\n",
       "      <td>0.0</td>\n",
       "    </tr>\n",
       "    <tr>\n",
       "      <th>4</th>\n",
       "      <td>RCB</td>\n",
       "      <td>18.0</td>\n",
       "      <td>3_Pts_T</td>\n",
       "      <td>0.0</td>\n",
       "      <td>0.0</td>\n",
       "      <td>0.0</td>\n",
       "      <td>79.0</td>\n",
       "      <td>0.0</td>\n",
       "    </tr>\n",
       "    <tr>\n",
       "      <th>...</th>\n",
       "      <td>...</td>\n",
       "      <td>...</td>\n",
       "      <td>...</td>\n",
       "      <td>...</td>\n",
       "      <td>...</td>\n",
       "      <td>...</td>\n",
       "      <td>...</td>\n",
       "      <td>...</td>\n",
       "    </tr>\n",
       "    <tr>\n",
       "      <th>170</th>\n",
       "      <td>RCB</td>\n",
       "      <td>7.0</td>\n",
       "      <td>LL_Pts_C</td>\n",
       "      <td>3.0</td>\n",
       "      <td>-3.0</td>\n",
       "      <td>3.0</td>\n",
       "      <td>2338.0</td>\n",
       "      <td>2.0</td>\n",
       "    </tr>\n",
       "    <tr>\n",
       "      <th>171</th>\n",
       "      <td>BRA</td>\n",
       "      <td>25.0</td>\n",
       "      <td>3_Pts_T</td>\n",
       "      <td>3.0</td>\n",
       "      <td>-3.0</td>\n",
       "      <td>3.0</td>\n",
       "      <td>2363.0</td>\n",
       "      <td>0.0</td>\n",
       "    </tr>\n",
       "    <tr>\n",
       "      <th>172</th>\n",
       "      <td>RCB</td>\n",
       "      <td>27.0</td>\n",
       "      <td>LL_Pts_T</td>\n",
       "      <td>3.0</td>\n",
       "      <td>-3.0</td>\n",
       "      <td>3.0</td>\n",
       "      <td>2390.0</td>\n",
       "      <td>0.0</td>\n",
       "    </tr>\n",
       "    <tr>\n",
       "      <th>173</th>\n",
       "      <td>BRA</td>\n",
       "      <td>5.0</td>\n",
       "      <td>LL_Pts_C</td>\n",
       "      <td>5.0</td>\n",
       "      <td>-5.0</td>\n",
       "      <td>5.0</td>\n",
       "      <td>2395.0</td>\n",
       "      <td>2.0</td>\n",
       "    </tr>\n",
       "    <tr>\n",
       "      <th>174</th>\n",
       "      <td>RCB</td>\n",
       "      <td>3.0</td>\n",
       "      <td>2_Pts_T</td>\n",
       "      <td>5.0</td>\n",
       "      <td>-5.0</td>\n",
       "      <td>5.0</td>\n",
       "      <td>2398.0</td>\n",
       "      <td>0.0</td>\n",
       "    </tr>\n",
       "  </tbody>\n",
       "</table>\n",
       "<p>175 rows × 8 columns</p>\n",
       "</div>"
      ],
      "text/plain": [
       "    Time  Tempo Indicador  dif_casa  dif_visita  dif_abs  Tempo_Fim  pontuacao\n",
       "0    RCB   28.0   2_Pts_T       0.0         0.0      0.0       28.0        0.0\n",
       "1    BRA   15.0   3_Pts_T       0.0         0.0      0.0       43.0        0.0\n",
       "2    RCB    7.0   2_Pts_T       0.0         0.0      0.0       50.0        0.0\n",
       "3    BRA   11.0   2_Pts_T       0.0         0.0      0.0       61.0        0.0\n",
       "4    RCB   18.0   3_Pts_T       0.0         0.0      0.0       79.0        0.0\n",
       "..   ...    ...       ...       ...         ...      ...        ...        ...\n",
       "170  RCB    7.0  LL_Pts_C       3.0        -3.0      3.0     2338.0        2.0\n",
       "171  BRA   25.0   3_Pts_T       3.0        -3.0      3.0     2363.0        0.0\n",
       "172  RCB   27.0  LL_Pts_T       3.0        -3.0      3.0     2390.0        0.0\n",
       "173  BRA    5.0  LL_Pts_C       5.0        -5.0      5.0     2395.0        2.0\n",
       "174  RCB    3.0   2_Pts_T       5.0        -5.0      5.0     2398.0        0.0\n",
       "\n",
       "[175 rows x 8 columns]"
      ]
     },
     "execution_count": 91,
     "metadata": {},
     "output_type": "execute_result"
    }
   ],
   "source": [
    "posse_bola"
   ]
  },
  {
   "cell_type": "code",
   "execution_count": 92,
   "metadata": {},
   "outputs": [
    {
     "data": {
      "text/html": [
       "<div>\n",
       "<style scoped>\n",
       "    .dataframe tbody tr th:only-of-type {\n",
       "        vertical-align: middle;\n",
       "    }\n",
       "\n",
       "    .dataframe tbody tr th {\n",
       "        vertical-align: top;\n",
       "    }\n",
       "\n",
       "    .dataframe thead th {\n",
       "        text-align: right;\n",
       "    }\n",
       "</style>\n",
       "<table border=\"1\" class=\"dataframe\">\n",
       "  <thead>\n",
       "    <tr style=\"text-align: right;\">\n",
       "      <th></th>\n",
       "      <th>Time</th>\n",
       "      <th>Tempo</th>\n",
       "      <th>Indicador</th>\n",
       "      <th>dif_casa</th>\n",
       "      <th>dif_visita</th>\n",
       "      <th>dif_abs</th>\n",
       "      <th>Tempo_Fim</th>\n",
       "      <th>pontuacao</th>\n",
       "    </tr>\n",
       "  </thead>\n",
       "  <tbody>\n",
       "    <tr>\n",
       "      <th>0</th>\n",
       "      <td>BRA</td>\n",
       "      <td>15.0</td>\n",
       "      <td>3_Pts_T</td>\n",
       "      <td>0.0</td>\n",
       "      <td>0.0</td>\n",
       "      <td>0.0</td>\n",
       "      <td>43.0</td>\n",
       "      <td>0.0</td>\n",
       "    </tr>\n",
       "    <tr>\n",
       "      <th>1</th>\n",
       "      <td>RCB</td>\n",
       "      <td>7.0</td>\n",
       "      <td>2_Pts_T</td>\n",
       "      <td>0.0</td>\n",
       "      <td>0.0</td>\n",
       "      <td>0.0</td>\n",
       "      <td>50.0</td>\n",
       "      <td>-0.0</td>\n",
       "    </tr>\n",
       "    <tr>\n",
       "      <th>2</th>\n",
       "      <td>BRA</td>\n",
       "      <td>11.0</td>\n",
       "      <td>2_Pts_T</td>\n",
       "      <td>0.0</td>\n",
       "      <td>0.0</td>\n",
       "      <td>0.0</td>\n",
       "      <td>61.0</td>\n",
       "      <td>0.0</td>\n",
       "    </tr>\n",
       "    <tr>\n",
       "      <th>3</th>\n",
       "      <td>RCB</td>\n",
       "      <td>18.0</td>\n",
       "      <td>3_Pts_T</td>\n",
       "      <td>0.0</td>\n",
       "      <td>0.0</td>\n",
       "      <td>0.0</td>\n",
       "      <td>79.0</td>\n",
       "      <td>-0.0</td>\n",
       "    </tr>\n",
       "    <tr>\n",
       "      <th>4</th>\n",
       "      <td>BRA</td>\n",
       "      <td>23.0</td>\n",
       "      <td>2_Pts_C</td>\n",
       "      <td>2.0</td>\n",
       "      <td>-2.0</td>\n",
       "      <td>2.0</td>\n",
       "      <td>102.0</td>\n",
       "      <td>2.0</td>\n",
       "    </tr>\n",
       "    <tr>\n",
       "      <th>...</th>\n",
       "      <td>...</td>\n",
       "      <td>...</td>\n",
       "      <td>...</td>\n",
       "      <td>...</td>\n",
       "      <td>...</td>\n",
       "      <td>...</td>\n",
       "      <td>...</td>\n",
       "      <td>...</td>\n",
       "    </tr>\n",
       "    <tr>\n",
       "      <th>169</th>\n",
       "      <td>RCB</td>\n",
       "      <td>7.0</td>\n",
       "      <td>LL_Pts_C</td>\n",
       "      <td>3.0</td>\n",
       "      <td>-3.0</td>\n",
       "      <td>3.0</td>\n",
       "      <td>2338.0</td>\n",
       "      <td>-2.0</td>\n",
       "    </tr>\n",
       "    <tr>\n",
       "      <th>170</th>\n",
       "      <td>BRA</td>\n",
       "      <td>25.0</td>\n",
       "      <td>3_Pts_T</td>\n",
       "      <td>3.0</td>\n",
       "      <td>-3.0</td>\n",
       "      <td>3.0</td>\n",
       "      <td>2363.0</td>\n",
       "      <td>0.0</td>\n",
       "    </tr>\n",
       "    <tr>\n",
       "      <th>171</th>\n",
       "      <td>RCB</td>\n",
       "      <td>27.0</td>\n",
       "      <td>LL_Pts_T</td>\n",
       "      <td>3.0</td>\n",
       "      <td>-3.0</td>\n",
       "      <td>3.0</td>\n",
       "      <td>2390.0</td>\n",
       "      <td>-0.0</td>\n",
       "    </tr>\n",
       "    <tr>\n",
       "      <th>172</th>\n",
       "      <td>BRA</td>\n",
       "      <td>5.0</td>\n",
       "      <td>LL_Pts_C</td>\n",
       "      <td>5.0</td>\n",
       "      <td>-5.0</td>\n",
       "      <td>5.0</td>\n",
       "      <td>2395.0</td>\n",
       "      <td>2.0</td>\n",
       "    </tr>\n",
       "    <tr>\n",
       "      <th>173</th>\n",
       "      <td>RCB</td>\n",
       "      <td>3.0</td>\n",
       "      <td>2_Pts_T</td>\n",
       "      <td>5.0</td>\n",
       "      <td>-5.0</td>\n",
       "      <td>5.0</td>\n",
       "      <td>2398.0</td>\n",
       "      <td>-0.0</td>\n",
       "    </tr>\n",
       "  </tbody>\n",
       "</table>\n",
       "<p>174 rows × 8 columns</p>\n",
       "</div>"
      ],
      "text/plain": [
       "    Time  Tempo Indicador  dif_casa  dif_visita  dif_abs  Tempo_Fim  pontuacao\n",
       "0    BRA   15.0   3_Pts_T       0.0         0.0      0.0       43.0        0.0\n",
       "1    RCB    7.0   2_Pts_T       0.0         0.0      0.0       50.0       -0.0\n",
       "2    BRA   11.0   2_Pts_T       0.0         0.0      0.0       61.0        0.0\n",
       "3    RCB   18.0   3_Pts_T       0.0         0.0      0.0       79.0       -0.0\n",
       "4    BRA   23.0   2_Pts_C       2.0        -2.0      2.0      102.0        2.0\n",
       "..   ...    ...       ...       ...         ...      ...        ...        ...\n",
       "169  RCB    7.0  LL_Pts_C       3.0        -3.0      3.0     2338.0       -2.0\n",
       "170  BRA   25.0   3_Pts_T       3.0        -3.0      3.0     2363.0        0.0\n",
       "171  RCB   27.0  LL_Pts_T       3.0        -3.0      3.0     2390.0       -0.0\n",
       "172  BRA    5.0  LL_Pts_C       5.0        -5.0      5.0     2395.0        2.0\n",
       "173  RCB    3.0   2_Pts_T       5.0        -5.0      5.0     2398.0       -0.0\n",
       "\n",
       "[174 rows x 8 columns]"
      ]
     },
     "execution_count": 92,
     "metadata": {},
     "output_type": "execute_result"
    }
   ],
   "source": [
    "posse_bola_dois"
   ]
  },
  {
   "cell_type": "code",
   "execution_count": 93,
   "metadata": {},
   "outputs": [
    {
     "name": "stdout",
     "output_type": "stream",
     "text": [
      "Par: 174\n"
     ]
    },
    {
     "data": {
      "text/html": [
       "<div>\n",
       "<style scoped>\n",
       "    .dataframe tbody tr th:only-of-type {\n",
       "        vertical-align: middle;\n",
       "    }\n",
       "\n",
       "    .dataframe tbody tr th {\n",
       "        vertical-align: top;\n",
       "    }\n",
       "\n",
       "    .dataframe thead th {\n",
       "        text-align: right;\n",
       "    }\n",
       "</style>\n",
       "<table border=\"1\" class=\"dataframe\">\n",
       "  <thead>\n",
       "    <tr style=\"text-align: right;\">\n",
       "      <th></th>\n",
       "      <th>Time</th>\n",
       "      <th>Tempo</th>\n",
       "      <th>Indicador</th>\n",
       "      <th>dif_casa</th>\n",
       "      <th>dif_visita</th>\n",
       "      <th>dif_abs</th>\n",
       "      <th>Tempo_Fim</th>\n",
       "      <th>pontuacao</th>\n",
       "    </tr>\n",
       "  </thead>\n",
       "  <tbody>\n",
       "    <tr>\n",
       "      <th>0</th>\n",
       "      <td>BRA</td>\n",
       "      <td>15.0</td>\n",
       "      <td>3_Pts_T</td>\n",
       "      <td>0.0</td>\n",
       "      <td>0.0</td>\n",
       "      <td>0.0</td>\n",
       "      <td>43.0</td>\n",
       "      <td>0.0</td>\n",
       "    </tr>\n",
       "    <tr>\n",
       "      <th>1</th>\n",
       "      <td>RCB</td>\n",
       "      <td>7.0</td>\n",
       "      <td>2_Pts_T</td>\n",
       "      <td>0.0</td>\n",
       "      <td>0.0</td>\n",
       "      <td>0.0</td>\n",
       "      <td>50.0</td>\n",
       "      <td>-0.0</td>\n",
       "    </tr>\n",
       "    <tr>\n",
       "      <th>2</th>\n",
       "      <td>BRA</td>\n",
       "      <td>11.0</td>\n",
       "      <td>2_Pts_T</td>\n",
       "      <td>0.0</td>\n",
       "      <td>0.0</td>\n",
       "      <td>0.0</td>\n",
       "      <td>61.0</td>\n",
       "      <td>0.0</td>\n",
       "    </tr>\n",
       "    <tr>\n",
       "      <th>3</th>\n",
       "      <td>RCB</td>\n",
       "      <td>18.0</td>\n",
       "      <td>3_Pts_T</td>\n",
       "      <td>0.0</td>\n",
       "      <td>0.0</td>\n",
       "      <td>0.0</td>\n",
       "      <td>79.0</td>\n",
       "      <td>-0.0</td>\n",
       "    </tr>\n",
       "    <tr>\n",
       "      <th>4</th>\n",
       "      <td>BRA</td>\n",
       "      <td>23.0</td>\n",
       "      <td>2_Pts_C</td>\n",
       "      <td>2.0</td>\n",
       "      <td>-2.0</td>\n",
       "      <td>2.0</td>\n",
       "      <td>102.0</td>\n",
       "      <td>2.0</td>\n",
       "    </tr>\n",
       "    <tr>\n",
       "      <th>...</th>\n",
       "      <td>...</td>\n",
       "      <td>...</td>\n",
       "      <td>...</td>\n",
       "      <td>...</td>\n",
       "      <td>...</td>\n",
       "      <td>...</td>\n",
       "      <td>...</td>\n",
       "      <td>...</td>\n",
       "    </tr>\n",
       "    <tr>\n",
       "      <th>169</th>\n",
       "      <td>RCB</td>\n",
       "      <td>7.0</td>\n",
       "      <td>LL_Pts_C</td>\n",
       "      <td>3.0</td>\n",
       "      <td>-3.0</td>\n",
       "      <td>3.0</td>\n",
       "      <td>2338.0</td>\n",
       "      <td>-2.0</td>\n",
       "    </tr>\n",
       "    <tr>\n",
       "      <th>170</th>\n",
       "      <td>BRA</td>\n",
       "      <td>25.0</td>\n",
       "      <td>3_Pts_T</td>\n",
       "      <td>3.0</td>\n",
       "      <td>-3.0</td>\n",
       "      <td>3.0</td>\n",
       "      <td>2363.0</td>\n",
       "      <td>0.0</td>\n",
       "    </tr>\n",
       "    <tr>\n",
       "      <th>171</th>\n",
       "      <td>RCB</td>\n",
       "      <td>27.0</td>\n",
       "      <td>LL_Pts_T</td>\n",
       "      <td>3.0</td>\n",
       "      <td>-3.0</td>\n",
       "      <td>3.0</td>\n",
       "      <td>2390.0</td>\n",
       "      <td>-0.0</td>\n",
       "    </tr>\n",
       "    <tr>\n",
       "      <th>172</th>\n",
       "      <td>BRA</td>\n",
       "      <td>5.0</td>\n",
       "      <td>LL_Pts_C</td>\n",
       "      <td>5.0</td>\n",
       "      <td>-5.0</td>\n",
       "      <td>5.0</td>\n",
       "      <td>2395.0</td>\n",
       "      <td>2.0</td>\n",
       "    </tr>\n",
       "    <tr>\n",
       "      <th>173</th>\n",
       "      <td>RCB</td>\n",
       "      <td>3.0</td>\n",
       "      <td>2_Pts_T</td>\n",
       "      <td>5.0</td>\n",
       "      <td>-5.0</td>\n",
       "      <td>5.0</td>\n",
       "      <td>2398.0</td>\n",
       "      <td>-0.0</td>\n",
       "    </tr>\n",
       "  </tbody>\n",
       "</table>\n",
       "<p>174 rows × 8 columns</p>\n",
       "</div>"
      ],
      "text/plain": [
       "    Time  Tempo Indicador  dif_casa  dif_visita  dif_abs  Tempo_Fim  pontuacao\n",
       "0    BRA   15.0   3_Pts_T       0.0         0.0      0.0       43.0        0.0\n",
       "1    RCB    7.0   2_Pts_T       0.0         0.0      0.0       50.0       -0.0\n",
       "2    BRA   11.0   2_Pts_T       0.0         0.0      0.0       61.0        0.0\n",
       "3    RCB   18.0   3_Pts_T       0.0         0.0      0.0       79.0       -0.0\n",
       "4    BRA   23.0   2_Pts_C       2.0        -2.0      2.0      102.0        2.0\n",
       "..   ...    ...       ...       ...         ...      ...        ...        ...\n",
       "169  RCB    7.0  LL_Pts_C       3.0        -3.0      3.0     2338.0       -2.0\n",
       "170  BRA   25.0   3_Pts_T       3.0        -3.0      3.0     2363.0        0.0\n",
       "171  RCB   27.0  LL_Pts_T       3.0        -3.0      3.0     2390.0       -0.0\n",
       "172  BRA    5.0  LL_Pts_C       5.0        -5.0      5.0     2395.0        2.0\n",
       "173  RCB    3.0   2_Pts_T       5.0        -5.0      5.0     2398.0       -0.0\n",
       "\n",
       "[174 rows x 8 columns]"
      ]
     },
     "execution_count": 93,
     "metadata": {},
     "output_type": "execute_result"
    }
   ],
   "source": [
    "posse_bola_dois = par_impar(posse_bola_dois)\n",
    "posse_bola_dois"
   ]
  },
  {
   "cell_type": "code",
   "execution_count": 94,
   "metadata": {},
   "outputs": [],
   "source": [
    "indx_potencial_periodo_dois = periodo_potencial(posse_bola_dois)"
   ]
  },
  {
   "cell_type": "code",
   "execution_count": 95,
   "metadata": {},
   "outputs": [
    {
     "data": {
      "text/plain": [
       "[[30, 32], [42, 44], [58, 60], [72, 74, 76], [130, 132], [150, 152]]"
      ]
     },
     "execution_count": 95,
     "metadata": {},
     "output_type": "execute_result"
    }
   ],
   "source": [
    "periodo_positivo_dois = identificardor_periodo_positivo(indx_potencial_periodo_dois, posse_bola_dois)\n",
    "periodo_positivo_dois"
   ]
  },
  {
   "cell_type": "code",
   "execution_count": 96,
   "metadata": {},
   "outputs": [
    {
     "name": "stdout",
     "output_type": "stream",
     "text": [
      "Time A\n",
      "[453.0, 599.0, 844.0, 1005.0, 1779.0, 2052.0]\n",
      "[500.0, 640.0, 880.0, 1062.0, 1813.0, 2093.0]\n"
     ]
    }
   ],
   "source": [
    "# localizar o tempo de inicio e tempo final do periodo\n",
    "# No caso precisamos pegar o primeiro indx e subtrair por 1 (indx-1), assim podemos ter a posse completa\n",
    "# até a realização do ponto \n",
    "# Localizar o último indx que representa o final do período positivo\n",
    "if segunda_posse_dois == sigla_time_a:\n",
    "    positivo_inicio_time_b = []\n",
    "    positivo_fim_time_b = []\n",
    "    for i in periodo_positivo_dois:\n",
    "        if i[0] == 0:\n",
    "            positivo_inicio_time_b.append(posse_bola_um.loc[i[0], 'Tempo_Fim'])\n",
    "            positivo_fim_time_b.append(posse_bola_dois.loc[i[len(i)-1], 'Tempo_Fim'])\n",
    "            segmento_dois.append([posse_bola_um.loc[i[0], 'Tempo_Fim'],posse_bola_dois.loc[i[len(i)-1], 'Tempo_Fim']])\n",
    "        else:\n",
    "            positivo_inicio_time_b.append(posse_bola_dois.loc[i[0]-1, 'Tempo_Fim'])\n",
    "            positivo_fim_time_b.append(posse_bola_dois.loc[i[len(i)-1], 'Tempo_Fim'])\n",
    "            segmento_dois.append([posse_bola_dois.loc[i[0]-1, 'Tempo_Fim'],posse_bola_dois.loc[i[len(i)-1], 'Tempo_Fim']])\n",
    "    print('Time B')\n",
    "    print(positivo_inicio_time_b)\n",
    "    print(positivo_fim_time_b)\n",
    "else:\n",
    "    positivo_inicio_time_a = []\n",
    "    positivo_fim_time_a =  []\n",
    "    for i in periodo_positivo_dois:\n",
    "        if i[0] == 0:\n",
    "            positivo_inicio_time_a.append(posse_bola_um.loc[i[0], 'Tempo_Fim'])\n",
    "            positivo_fim_time_a.append(posse_bola_dois.loc[i[len(i)-1], 'Tempo_Fim'])\n",
    "            segmento.append([posse_bola_um.loc[i[0], 'Tempo_Fim'],posse_bola_dois.loc[i[len(i)-1], 'Tempo_Fim']])\n",
    "        else:\n",
    "            positivo_inicio_time_a.append(posse_bola_dois.loc[i[0]-1, 'Tempo_Fim'])\n",
    "            positivo_fim_time_a.append(posse_bola_dois.loc[i[len(i)-1], 'Tempo_Fim'])\n",
    "            segmento.append([posse_bola_dois.loc[i[0]-1, 'Tempo_Fim'],posse_bola_dois.loc[i[len(i)-1], 'Tempo_Fim']])\n",
    "    print('Time A')\n",
    "    print(positivo_inicio_time_a)\n",
    "    print(positivo_fim_time_a)"
   ]
  },
  {
   "cell_type": "markdown",
   "metadata": {},
   "source": [
    "# Gráfico dos períodos positivos"
   ]
  },
  {
   "cell_type": "markdown",
   "metadata": {},
   "source": [
    "### períodos do times A e B"
   ]
  },
  {
   "cell_type": "code",
   "execution_count": 97,
   "metadata": {},
   "outputs": [],
   "source": [
    "# Contra-Ataque\n",
    "# Ataque Rápido \n",
    "# Ataque Moderado\n",
    "# Ataque Controlado\n",
    "# Ataque Prolongado\n",
    "# quantos ataques foras feitos "
   ]
  },
  {
   "cell_type": "code",
   "execution_count": 98,
   "metadata": {},
   "outputs": [
    {
     "data": {
      "text/plain": [
       "[[453.0, 500.0],\n",
       " [599.0, 640.0],\n",
       " [844.0, 880.0],\n",
       " [1005.0, 1062.0],\n",
       " [1779.0, 1813.0],\n",
       " [2052.0, 2093.0]]"
      ]
     },
     "execution_count": 98,
     "metadata": {},
     "output_type": "execute_result"
    }
   ],
   "source": [
    "# Time A\n",
    "del segmento[0]\n",
    "segmento"
   ]
  },
  {
   "cell_type": "code",
   "execution_count": 99,
   "metadata": {},
   "outputs": [],
   "source": [
    "# isso precisa estar junto com o código á cima pois está relacionado com o tipo de posse de bola que foi utilizado e definir\n",
    "# qual o time\n",
    "def definir_conjuntos(segmento, posse_bola_dois):\n",
    "    conjunto_durante = []\n",
    "    conjunto_inicio = []\n",
    "    conjunto_fim = []\n",
    "    for i in range(len(segmento)):\n",
    "        try:\n",
    "            encontrar = posse_bola_dois.loc[(posse_bola_dois['Tempo_Fim']>=segmento[i][0]) &\n",
    "                                            (posse_bola_dois['Tempo_Fim']<=segmento[i][1])]\n",
    "            valor_durante = [encontrar.loc[encontrar.index[0]+1]['Tempo_Fim'], encontrar.values[-1][6]]\n",
    "            conjunto_durante.append(valor_durante)\n",
    "            # juntar informação de início do período\n",
    "            valor_inicio = [posse_bola_dois.loc[encontrar.index[0]]['Tempo_Fim'],\n",
    "                            encontrar.loc[encontrar.index[0]+1]['Tempo_Fim']]\n",
    "            conjunto_inicio.append(valor_inicio)\n",
    "            # juntar informações no fim do período\n",
    "            valor_fim = [posse_bola_dois.loc[encontrar.index[-1]+1]['Tempo_Fim'],\n",
    "                         posse_bola_dois.loc[encontrar.index[-1]+2]['Tempo_Fim']]\n",
    "            conjunto_fim.append(valor_fim)\n",
    "        except:\n",
    "            encontrar = posse_bola_dois.loc[(posse_bola_dois['Tempo_Fim']>=segmento[i][0]) &\n",
    "                                            (posse_bola_dois['Tempo_Fim']<=segmento[i][1])]\n",
    "            valor_durante = [encontrar.loc[encontrar.index[0]+1]['Tempo_Fim'], encontrar.values[-1][6]]\n",
    "            conjunto_durante.append(valor_durante)\n",
    "            # juntar informação de início do período\n",
    "            valor_inicio = [posse_bola_dois.loc[encontrar.index[0]]['Tempo_Fim'],\n",
    "                            encontrar.loc[encontrar.index[0]+1]['Tempo_Fim']]\n",
    "            conjunto_inicio.append(valor_inicio)\n",
    "\n",
    "            # juntar informações no fim do período\n",
    "            conjunto_fim.append([0,0])\n",
    "    return conjunto_durante, conjunto_inicio, conjunto_fim"
   ]
  },
  {
   "cell_type": "code",
   "execution_count": 100,
   "metadata": {},
   "outputs": [],
   "source": [
    "conjunto_durante, conjunto_inicio, conjunto_fim = definir_conjuntos(segmento, posse_bola_dois)"
   ]
  },
  {
   "cell_type": "code",
   "execution_count": 101,
   "metadata": {},
   "outputs": [
    {
     "data": {
      "text/plain": [
       "[[468.0, 500.0],\n",
       " [612.0, 640.0],\n",
       " [854.0, 880.0],\n",
       " [1010.0, 1062.0],\n",
       " [1783.0, 1813.0],\n",
       " [2064.0, 2093.0]]"
      ]
     },
     "execution_count": 101,
     "metadata": {},
     "output_type": "execute_result"
    }
   ],
   "source": [
    "conjunto_durante"
   ]
  },
  {
   "cell_type": "code",
   "execution_count": 102,
   "metadata": {},
   "outputs": [
    {
     "data": {
      "text/plain": [
       "[[453.0, 468.0],\n",
       " [599.0, 612.0],\n",
       " [844.0, 854.0],\n",
       " [1005.0, 1010.0],\n",
       " [1779.0, 1783.0],\n",
       " [2052.0, 2064.0]]"
      ]
     },
     "execution_count": 102,
     "metadata": {},
     "output_type": "execute_result"
    }
   ],
   "source": [
    "conjunto_inicio"
   ]
  },
  {
   "cell_type": "code",
   "execution_count": 103,
   "metadata": {},
   "outputs": [
    {
     "data": {
      "text/plain": [
       "[[515.0, 528.0],\n",
       " [666.0, 675.0],\n",
       " [894.0, 904.0],\n",
       " [1083.0, 1093.0],\n",
       " [1833.0, 1847.0],\n",
       " [2109.0, 2134.0]]"
      ]
     },
     "execution_count": 103,
     "metadata": {},
     "output_type": "execute_result"
    }
   ],
   "source": [
    "conjunto_fim"
   ]
  },
  {
   "cell_type": "code",
   "execution_count": 104,
   "metadata": {},
   "outputs": [],
   "source": [
    "relatorio = df.copy()\n",
    "# estamos invertendo os valores para deixar parecido com o jogo\n",
    "relatorio = relatorio[::-1]\n",
    "relatorio.reset_index(drop=True, inplace=True)\n",
    "# drop valores em que não aparecem o nome do time"
   ]
  },
  {
   "cell_type": "markdown",
   "metadata": {},
   "source": [
    "## Primeira parte "
   ]
  },
  {
   "cell_type": "code",
   "execution_count": 179,
   "metadata": {},
   "outputs": [],
   "source": [
    "def contagem_periodo_inicio(relatorio, conjunto_inicio):\n",
    "    a = []\n",
    "    a1 = []\n",
    "    a2 = []\n",
    "    a3 = []\n",
    "    for i in range(len(conjunto_inicio)):\n",
    "        # localizar no dataframe os períodos\n",
    "        encontrar_dado = relatorio.loc[(relatorio['Tempo']>=conjunto_inicio[i][0]) &\n",
    "                                       (relatorio['Tempo']<=conjunto_inicio[i][1])]\n",
    "        # Separar o time da casa e o time de fora\n",
    "        encontrar_inicio_casa = encontrar_dado[encontrar_dado['Time'] == sigla_time_a]['Indicador']\n",
    "        encontrar_inicio_adv = encontrar_dado[encontrar_dado['Time'] == sigla_time_b]['Indicador']\n",
    "        for x in encontrar_inicio_casa:\n",
    "            if x == 'BR':\n",
    "                a.append(x)\n",
    "        for x in encontrar_inicio_adv:\n",
    "            if (x == '2_Pts_T') | (x == '3_Pts_T') | (x == 'LL_Pts_T'):\n",
    "                a1.append(x)    \n",
    "            if (x == 'ER'):\n",
    "                a2.append(x)    \n",
    "            if (x == '2_Pts_C') | (x == '3_Pts_C') | (x == 'LL_Pts_C'):\n",
    "                a3.append(x)\n",
    "    contagem_inicio = [f'Cesta do adversário: {len(a3)}',\n",
    "                       f'Tentativas do adversário: {len(a1)}',\n",
    "                       f'Roubos de Bola: {len(a)}',\n",
    "                       f'Erros do adversário: {len(a2)}']\n",
    "    return contagem_inicio"
   ]
  },
  {
   "cell_type": "code",
   "execution_count": 181,
   "metadata": {},
   "outputs": [
    {
     "data": {
      "text/plain": [
       "['Cesta do adversário: 2',\n",
       " 'Tentativas do adversário: 2',\n",
       " 'Roubos de Bola: 1',\n",
       " 'Erros do adversário: 2']"
      ]
     },
     "execution_count": 181,
     "metadata": {},
     "output_type": "execute_result"
    }
   ],
   "source": [
    "contagem_inicio = contagem_periodo_inicio(relatorio, conjunto_inicio)\n",
    "contagem_inicio"
   ]
  },
  {
   "cell_type": "markdown",
   "metadata": {},
   "source": [
    "## Segunda parte "
   ]
  },
  {
   "cell_type": "code",
   "execution_count": 108,
   "metadata": {},
   "outputs": [],
   "source": [
    "d = {'col1': ['Erros seguidos: ',\n",
    "              'T. de Três Seguidos: ',\n",
    "              'T. de Dois Seguidos: ',\n",
    "              'T. de Lances Livres Seguidos: ',\n",
    "              'T. de Três e Dois: ',\n",
    "              'T. de Três e Lances Livres: ',\n",
    "              'T. de Dois e Lances Livres: ',\n",
    "              'T. de Arremesso e Erros: '\n",
    "             ],\n",
    "    'col2':[(False, False, False, True),\n",
    "            (True, False, False, False),\n",
    "            (False, True, False, False),\n",
    "            (False, False, True, False),\n",
    "            (True, True, False, False),\n",
    "            (True, False, True, False),\n",
    "            (False, True, True, False),\n",
    "            (True, True, True, True)\n",
    "             ],\n",
    "    'col3': [0, 0, 0, 0, 0, 0, 0, 0]}\n",
    "comparação_adv = pd.DataFrame(data=d)\n",
    "\n",
    "d = {'col1': ['Três Pontos seguidos: ',\n",
    "              'Dois Pontos seguidos: ',\n",
    "              'Lances Livres seguidos: ',\n",
    "              'Três e Dois pontos: ',\n",
    "              'Três e Lances livres: ',\n",
    "              'Dois e Lances livres: ',\n",
    "              'Todos: '\n",
    "             ],\n",
    "    'col2':[(True, False, False),\n",
    "              (False, True, False),\n",
    "              (False, False, True),\n",
    "              (True, True, False),\n",
    "              (True, False, True),\n",
    "              (False, True, True),\n",
    "              (True, True, True)\n",
    "             ],\n",
    "    'col3': [0, 0, 0, 0, 0, 0, 0]}\n",
    "comparação_time = pd.DataFrame(data=d)"
   ]
  },
  {
   "cell_type": "code",
   "execution_count": 105,
   "metadata": {},
   "outputs": [],
   "source": [
    "def periodo_durante_time(encontrar, dado):\n",
    "    # Encontrando os valores da contagem através do index \n",
    "    # dessa forma podemos encontrar se a alção foi consecutiva ou não\n",
    "    resul = tuple(encontrar.index)\n",
    "    a = []\n",
    "    # fazer filtro apenas para os valores de pontuação \n",
    "    for x in resul:\n",
    "        if (x == '2_Pts_C') | (x == '3_Pts_C') | (x == 'LL_Pts_C'):\n",
    "            a.append(x)\n",
    "    # Deixar uma ordem para localizar os valores, caso não esteja presete o valor é colocado como zero\n",
    "    final = []\n",
    "    for i in ('3_Pts_C', '2_Pts_C', 'LL_Pts_C'):\n",
    "        if i not in a:\n",
    "            final.append(0)\n",
    "        else:\n",
    "            final.append(i)\n",
    "    # realização de um generator para definir a classe\n",
    "    for rows in dado.itertuples():\n",
    "        if tuple((_ != 0 for _ in final)) == rows.col2:\n",
    "            dado.loc[rows.Index, ['col3']] +=1"
   ]
  },
  {
   "cell_type": "code",
   "execution_count": 106,
   "metadata": {},
   "outputs": [],
   "source": [
    "def periodo_durante_adv(encontrar, dado):\n",
    "    # Encontrando os valores da contagem através do index \n",
    "    # dessa forma podemos encontrar se a alção foi consecutiva ou não\n",
    "    resul = tuple(encontrar.index)\n",
    "    a = []\n",
    "    # fazer filtro apenas para os valores de pontuação \n",
    "    for x in resul:\n",
    "        if (x == '2_Pts_T') | (x == '3_Pts_T') | (x == 'LL_Pts_T') | (x == 'ER'):\n",
    "            a.append(x)\n",
    "    # Deixar uma ordem para localizar os valores, caso não esteja presete o valor é colocado como zero\n",
    "    final = []\n",
    "    for i in ('3_Pts_T', '2_Pts_T', 'LL_Pts_T', 'ER'):\n",
    "        if i not in a:\n",
    "            final.append(0)\n",
    "        else:\n",
    "            final.append(i)\n",
    "    # realização de um generator para definir a classe\n",
    "    if (tuple((_ != 0 for _ in final)) == (True, False, False, True)) | \\\n",
    "        (tuple((_ != 0 for _ in final)) == (False, True, False, True)) | \\\n",
    "        (tuple((_ != 0 for _ in final)) == (False, False, True, True)) | \\\n",
    "        (tuple((_ != 0 for _ in final)) == (True, False, True, True)) | \\\n",
    "        (tuple((_ != 0 for _ in final)) == (False, True, True, True))| \\\n",
    "        (tuple((_ != 0 for _ in final)) == (True, True, False, True)):\n",
    "        dado.loc[7, ['col3']] +=1\n",
    "    for rows in dado.itertuples():\n",
    "        if tuple((_ != 0 for _ in final)) == rows.col2:\n",
    "            dado.loc[rows.Index, ['col3']] +=1"
   ]
  },
  {
   "cell_type": "code",
   "execution_count": 169,
   "metadata": {},
   "outputs": [],
   "source": [
    "resultado_durante = []\n",
    "resultado_tecnico = []\n",
    "dicty = {}\n",
    "a1 = []\n",
    "a2 = []\n",
    "a3 = []\n",
    "a4 = []\n",
    "a5 = []\n",
    "a6 = []\n",
    "a7 = []\n",
    "for i in range(len(conjunto_durante)):\n",
    "    # localizar no dataframe os períodos\n",
    "    encontrar_dado = relatorio.loc[(relatorio['Tempo']>=conjunto_durante[i][0]) & (relatorio['Tempo']<=conjunto_durante[i][1])]\n",
    "    # Separar o time da casa e o time de fora\n",
    "    encontrar_resultado_casa = encontrar_dado[encontrar_dado['Time'] == sigla_time_a]['Indicador']\n",
    "    encontrar_resultado_adv = encontrar_dado[encontrar_dado['Time'] == sigla_time_b]['Indicador']\n",
    "    # Acrescentar os valores nos dataframes \n",
    "    periodo_durante_time(encontrar=encontrar_resultado_casa.value_counts(), dado=comparação_time)\n",
    "    periodo_durante_adv(encontrar=encontrar_resultado_adv.value_counts(), dado=comparação_adv)\n",
    "    # Acrescentar informações dos treinadores durante o período\n",
    "    acoes_durante = acao_treinador_jogo(resultado_durante, encontrar_resultado_adv, resultado_tecnico)\n",
    "    # somatória final\n",
    "    for x in encontrar_resultado_casa:\n",
    "        if x == '3_Pts_C':\n",
    "            a1.append(x*3)    \n",
    "        if x == '2_Pts_C':\n",
    "            a2.append(x*2)    \n",
    "        if x == 'LL_Pts_C':\n",
    "            a3.append(x)\n",
    "    for x in encontrar_resultado_adv:\n",
    "        if x == 'ER':\n",
    "            a4.append(x)\n",
    "        if x == '3_Pts_T':\n",
    "            a5.append(x*3)    \n",
    "        if x == '2_Pts_T':\n",
    "            a6.append(x*2)    \n",
    "        if x == 'LL_Pts_T':\n",
    "            a7.append(x)\n",
    "contagem_casa_durante = [f'Três Pontos: {len(a1)}',\n",
    "                         f'Dois Pontos: {len(a2)}',\n",
    "                         f'Lances Livres: {len(a3)}'\n",
    "                        ]\n",
    "contagem_adv_durante = [f'Erros: {len(a4)}',\n",
    "                        f'Três Pontos T.: {len(a5)}',\n",
    "                        f'Dois Pontos T.: {len(a6)}',\n",
    "                        f'Lances Livres T.: {len(a7)}'\n",
    "                       ]"
   ]
  },
  {
   "cell_type": "code",
   "execution_count": 170,
   "metadata": {},
   "outputs": [
    {
     "data": {
      "text/plain": [
       "['Três Pontos: 2', 'Dois Pontos: 9', 'Lances Livres: 4']"
      ]
     },
     "execution_count": 170,
     "metadata": {},
     "output_type": "execute_result"
    }
   ],
   "source": [
    "contagem_casa_durante"
   ]
  },
  {
   "cell_type": "code",
   "execution_count": 111,
   "metadata": {},
   "outputs": [
    {
     "data": {
      "text/plain": [
       "['Três Pontos seguidos: 0',\n",
       " 'Dois Pontos seguidos: 3',\n",
       " 'Lances Livres seguidos: 0',\n",
       " 'Três e Dois pontos: 1',\n",
       " 'Três e Lances livres: 1',\n",
       " 'Dois e Lances livres: 1',\n",
       " 'Todos: 0']"
      ]
     },
     "execution_count": 111,
     "metadata": {},
     "output_type": "execute_result"
    }
   ],
   "source": [
    "valores_time1_p = []\n",
    "for i in range(len(comparação_time)):\n",
    "    valores_time1_p.append(comparação_time.col1[i] + f'{comparação_time.col3[i]}')\n",
    "valores_time1_p"
   ]
  },
  {
   "cell_type": "markdown",
   "metadata": {},
   "source": [
    "## Terceira Parte"
   ]
  },
  {
   "cell_type": "code",
   "execution_count": 171,
   "metadata": {},
   "outputs": [
    {
     "data": {
      "text/plain": [
       "['Erros: 3', 'Três Pontos T.: 1', 'Dois Pontos T.: 3', 'Lances Livres T.: 0']"
      ]
     },
     "execution_count": 171,
     "metadata": {},
     "output_type": "execute_result"
    }
   ],
   "source": [
    "contagem_adv_durante"
   ]
  },
  {
   "cell_type": "code",
   "execution_count": 112,
   "metadata": {},
   "outputs": [
    {
     "data": {
      "text/plain": [
       "['Erros seguidos: 2',\n",
       " 'T. de Três Seguidos: 1',\n",
       " 'T. de Dois Seguidos: 3',\n",
       " 'T. de Lances Livres Seguidos: 0',\n",
       " 'T. de Três e Dois: 0',\n",
       " 'T. de Três e Lances Livres: 0',\n",
       " 'T. de Dois e Lances Livres: 0',\n",
       " 'T. de Arremesso e Erros: 0']"
      ]
     },
     "execution_count": 112,
     "metadata": {},
     "output_type": "execute_result"
    }
   ],
   "source": [
    "acoes_adv = []\n",
    "for i in range(len(comparação_adv)):\n",
    "    acoes_adv.append(comparação_adv.col1[i] + f'{comparação_adv.col3[i]}')\n",
    "acoes_adv"
   ]
  },
  {
   "cell_type": "markdown",
   "metadata": {},
   "source": [
    "## Quarta parte"
   ]
  },
  {
   "cell_type": "code",
   "execution_count": 109,
   "metadata": {},
   "outputs": [],
   "source": [
    "def acao_treinador_jogo(resu, encontrar, resu1):\n",
    "    re = tuple(encontrar.value_counts().index)\n",
    "    # fazer filtro apenas para os valores de pontuação \n",
    "    for i in re:\n",
    "        if i == 'substituicao_sai':\n",
    "            resu1.append(i)\n",
    "        s3 = resu1.count('substituicao_sai')\n",
    "    ######################################################\n",
    "    for x in encontrar:\n",
    "        if (x == 'substituicao_sai') | (x == 'tempo_tecnico'):\n",
    "            resu.append(x)\n",
    "    s = resu.count('substituicao_sai')\n",
    "    s1 = resu.count('tempo_tecnico')\n",
    "    acoes_fim = [f'Número de Substituições: {s}',\n",
    "                 f'Tempos técnicos: {s1}',\n",
    "                f'Substituições por período: {s3}']\n",
    "    if sum([s,s1]) == 0:\n",
    "        acoes_fim.insert(0, False)\n",
    "    else:\n",
    "        acoes_fim.insert(0, True)\n",
    "    return acoes_fim"
   ]
  },
  {
   "cell_type": "code",
   "execution_count": 113,
   "metadata": {},
   "outputs": [],
   "source": [
    "resultado_fim = []\n",
    "resultado_tecnico_fim = []\n",
    "for i in range(len(conjunto_fim)):\n",
    "    # localizar no dataframe os períodos\n",
    "    tecnico = relatorio.loc[(relatorio['Tempo']>=conjunto_fim[i][0]) & (relatorio['Tempo']<=conjunto_fim[i][1])]\n",
    "    encontrar_tecnico = tecnico[tecnico['Time'] == sigla_time_b]['Indicador']\n",
    "    # fazer filtro apenas para os valores de pontuação \n",
    "    acoes_fim = acao_treinador_jogo(resultado_fim, encontrar_tecnico, resultado_tecnico_fim)"
   ]
  },
  {
   "cell_type": "code",
   "execution_count": 114,
   "metadata": {},
   "outputs": [
    {
     "data": {
      "text/plain": [
       "[True,\n",
       " 'Número de Substituições: 4',\n",
       " 'Tempos técnicos: 0',\n",
       " 'Substituições por período: 4',\n",
       " True,\n",
       " 'Número de Substituições: 3',\n",
       " 'Tempos técnicos: 1',\n",
       " 'Substituições por período: 2']"
      ]
     },
     "execution_count": 114,
     "metadata": {},
     "output_type": "execute_result"
    }
   ],
   "source": [
    "acoes_tecnicas = acoes_durante + acoes_fim\n",
    "acoes_tecnicas"
   ]
  },
  {
   "cell_type": "code",
   "execution_count": null,
   "metadata": {},
   "outputs": [],
   "source": []
  },
  {
   "cell_type": "code",
   "execution_count": null,
   "metadata": {},
   "outputs": [],
   "source": []
  },
  {
   "cell_type": "code",
   "execution_count": null,
   "metadata": {},
   "outputs": [],
   "source": []
  },
  {
   "cell_type": "code",
   "execution_count": null,
   "metadata": {},
   "outputs": [],
   "source": []
  },
  {
   "cell_type": "code",
   "execution_count": 115,
   "metadata": {},
   "outputs": [
    {
     "ename": "NameError",
     "evalue": "name 'aaaaaaaaaaaaaaa' is not defined",
     "output_type": "error",
     "traceback": [
      "\u001b[1;31m---------------------------------------------------------------------------\u001b[0m",
      "\u001b[1;31mNameError\u001b[0m                                 Traceback (most recent call last)",
      "\u001b[1;32m<ipython-input-115-3699787ccd14>\u001b[0m in \u001b[0;36m<module>\u001b[1;34m\u001b[0m\n\u001b[1;32m----> 1\u001b[1;33m \u001b[0maaaaaaaaaaaaaaa\u001b[0m\u001b[1;33m\u001b[0m\u001b[1;33m\u001b[0m\u001b[0m\n\u001b[0m",
      "\u001b[1;31mNameError\u001b[0m: name 'aaaaaaaaaaaaaaa' is not defined"
     ]
    }
   ],
   "source": [
    "aaaaaaaaaaaaaaa"
   ]
  },
  {
   "cell_type": "code",
   "execution_count": null,
   "metadata": {},
   "outputs": [],
   "source": [
    "conjunto = pd.DataFrame()\n",
    "for i in range(len(segmento)):\n",
    "    encontrar = relatorio.loc[(relatorio['Tempo']>=segmento[i][0]) & (relatorio['Tempo']<=segmento[i][1])]\n",
    "    index = encontrar.index[-1]\n",
    "    print(encontrar.index)\n",
    "    valor = relatorio.loc[pd.Index([index+1, index+2])]\n",
    "    encontrar = encontrar.append(valor)\n",
    "    encontrar = encontrar[['Time', 'Tempo', 'Indicador']]\n",
    "    conjunto = pd.concat([conjunto, encontrar])"
   ]
  },
  {
   "cell_type": "code",
   "execution_count": null,
   "metadata": {},
   "outputs": [],
   "source": [
    "conjunto.to_csv('tempo2.csv')"
   ]
  },
  {
   "cell_type": "code",
   "execution_count": null,
   "metadata": {},
   "outputs": [],
   "source": []
  },
  {
   "cell_type": "code",
   "execution_count": null,
   "metadata": {},
   "outputs": [],
   "source": [
    "aaaaaaaaaaaa"
   ]
  },
  {
   "cell_type": "code",
   "execution_count": null,
   "metadata": {},
   "outputs": [],
   "source": [
    "conjunto[].value_counts()"
   ]
  },
  {
   "cell_type": "markdown",
   "metadata": {},
   "source": [
    "O Período foi iniciado após ......\n",
    "Durante: \n",
    "O Fim do Período foi com ......"
   ]
  },
  {
   "cell_type": "code",
   "execution_count": null,
   "metadata": {},
   "outputs": [],
   "source": [
    "'''\n",
    "        for i in range(len(segmento)):\n",
    "            encontrar = posse_bola_um.loc[(posse_bola_um['Tempo_Fim']>=segmento[i][0]) \n",
    "                                          & (posse_bola_um['Tempo_Fim']<=segmento[i][1])]\n",
    "            index = encontrar.index[-1]\n",
    "            valor = posse_bola_um.loc[pd.Index([index+1, index+2])]\n",
    "            encontrar = encontrar.append(valor)\n",
    "            encontrar = encontrar[['Time', 'Tempo', 'Indicador', 'dif_casa']]\n",
    "            print(encontrar)\n",
    "            # print(f'Antes de Começar o Período do time aconteceu: \\n, {encontrar[0]}')'''"
   ]
  },
  {
   "cell_type": "code",
   "execution_count": null,
   "metadata": {},
   "outputs": [],
   "source": [
    "def procurar_video(segmento_time, nome_time):\n",
    "    apresentacao = []\n",
    "    for i in segmento_time:\n",
    "        ataque = []\n",
    "        p = []\n",
    "        for j in i:\n",
    "            if j <= 600:\n",
    "                valor = dt.timedelta(seconds=abs(600-j))\n",
    "                valor = ':'.join(str(valor).split(':')[1:])\n",
    "                ataque.append(valor)\n",
    "                p.append(1)\n",
    "            elif (j > 600) & (j <= 1200):\n",
    "                valor = dt.timedelta(seconds=abs(1200-j))\n",
    "                valor = ':'.join(str(valor).split(':')[1:])\n",
    "                ataque.append(valor)\n",
    "                p.append(2)\n",
    "            elif (j > 1200) & (j <= 1800):\n",
    "                valor = dt.timedelta(seconds=abs(1800-j))\n",
    "                valor = ':'.join(str(valor).split(':')[1:])\n",
    "                ataque.append(valor)\n",
    "                p.append(3)\n",
    "            elif (j > 1800) & (j <= 2400):\n",
    "                valor = dt.timedelta(seconds=abs(2400-j))\n",
    "                valor = ':'.join(str(valor).split(':')[1:])\n",
    "                ataque.append(valor)\n",
    "                p.append(4)\n",
    "        soma = p[0] - p[1]\n",
    "        if soma != 0:\n",
    "            apresentacao.append(f'{p[0]}° Quarto -> Início {ataque[0]} até {ataque[1]} do {p[1]}° Quarto')\n",
    "        else:\n",
    "            apresentacao.append(f'{p[0]}° Quarto -> Início {ataque[0]} até {ataque[1]}')\n",
    "    print(f'Foram {len(segmento_time)} Períodos Positivos do {nome_time}')\n",
    "    for i in apresentacao:\n",
    "        print(i)\n",
    "    return apresentacao"
   ]
  },
  {
   "cell_type": "code",
   "execution_count": null,
   "metadata": {},
   "outputs": [],
   "source": [
    "tempos_time1 = procurar_video(segmento, nome_time_casa)"
   ]
  },
  {
   "cell_type": "code",
   "execution_count": null,
   "metadata": {},
   "outputs": [],
   "source": [
    "tempos_time1"
   ]
  },
  {
   "cell_type": "code",
   "execution_count": null,
   "metadata": {},
   "outputs": [],
   "source": [
    "plt.style.use('seaborn')\n",
    "sns.set_style('white')\n",
    "plt.figure(figsize=(15,5))\n",
    "plt.plot(posse_bola['Tempo_Fim'], posse_bola['dif_casa'], color='black')\n",
    "plt.title('Diferença do Placar Casa Durante a Partida', fontsize=18)\n",
    "plt.ylabel('Diferença do Placar', fontsize=16)\n",
    "plt.xlabel('Tempo de Jogo em Segundos', fontsize=16)\n",
    "plt.yticks(fontsize= 16)\n",
    "plt.xticks(fontsize= 16)\n",
    "for i in segmento:\n",
    "    selecao = (posse_bola['Tempo_Fim'] >= i[0]) & (posse_bola['Tempo_Fim'] <= i[1])\n",
    "    df_filtado_dif = posse_bola[selecao]['dif_casa']\n",
    "    df_filtado_t = posse_bola[selecao]['Tempo_Fim']\n",
    "    plt.plot(df_filtado_t, df_filtado_dif, color='red')\n",
    "for x in quartos:\n",
    "    plt.axvline(x, color='red', label=posse_bola.index, linestyle='--', alpha=0.4)\n",
    "plt.axhline(0, color='orange', label=posse_bola.index, alpha=0.5)\n",
    "plt.savefig('RELATORIO/teste1.jpeg', format='jpg')"
   ]
  },
  {
   "cell_type": "code",
   "execution_count": null,
   "metadata": {},
   "outputs": [],
   "source": [
    "AAAAAAAAAAAAAA"
   ]
  },
  {
   "cell_type": "code",
   "execution_count": null,
   "metadata": {},
   "outputs": [],
   "source": []
  },
  {
   "cell_type": "code",
   "execution_count": null,
   "metadata": {},
   "outputs": [],
   "source": [
    "# Precisa acrescentar as prorrogações\n",
    "'''elif (j > 1800) & (j <= 2400):\n",
    "            ataque.append(round(10-((j/60)-30),2))\n",
    "            p = 5\n",
    "        elif (j > 1800) & (j <= 2400):\n",
    "            ataque.append(round(10-((j/60)-30),2))\n",
    "            p = 6\n",
    "        elif (j > 1800) & (j <= 2400):\n",
    "            ataque.append(round(10-((j/60)-30),2))\n",
    "            p = 7\n",
    "            \n",
    "        elif p == 2:\n",
    "        tempos_time2['2° Quarto'].append(ataque)\n",
    "    elif p == 2:\n",
    "        tempos_time2['2° Quarto'].append(ataque)\n",
    "    elif p == 2:\n",
    "        tempos_time2['2° Quarto'].append(ataque)\n",
    "'''"
   ]
  },
  {
   "cell_type": "code",
   "execution_count": null,
   "metadata": {},
   "outputs": [],
   "source": [
    "# Time B\n",
    "del segmento_dois[0]\n",
    "segmento_dois"
   ]
  },
  {
   "cell_type": "code",
   "execution_count": null,
   "metadata": {},
   "outputs": [],
   "source": [
    "# quantos ataques foras feitos \n",
    "posse_bola_um.loc[(posse_bola_um['Tempo_Fim']>=segmento[0][0])& (posse_bola_um['Tempo_Fim']<=segmento[0][1])]"
   ]
  },
  {
   "cell_type": "code",
   "execution_count": null,
   "metadata": {},
   "outputs": [],
   "source": [
    "tempos_time2 = procurar_video(segmento_dois, nome_time_fora)"
   ]
  },
  {
   "cell_type": "markdown",
   "metadata": {},
   "source": [
    "# Tabela de dados gerais"
   ]
  },
  {
   "cell_type": "code",
   "execution_count": null,
   "metadata": {
    "scrolled": true
   },
   "outputs": [],
   "source": [
    "plt.style.use('seaborn')\n",
    "sns.set_style('white')\n",
    "plt.figure(figsize=(15,5))\n",
    "plt.plot(posse_bola['Tempo_Fim'], posse_bola['dif_casa'], color='black')\n",
    "plt.title('Diferença do Placar Casa Durante a Partida', fontsize=18)\n",
    "plt.ylabel('Diferença do Placar', fontsize=16)\n",
    "plt.xlabel('Tempo de Jogo em Segundos', fontsize=16)\n",
    "plt.yticks(fontsize= 16)\n",
    "plt.xticks(fontsize= 16)\n",
    "for i in segmento_dois:\n",
    "    selecao_dois = (posse_bola['Tempo_Fim'] >= i[0]) & (posse_bola['Tempo_Fim'] <= i[1])\n",
    "    df_filtado_dif = posse_bola[selecao_dois]['dif_casa']\n",
    "    df_filtado_t = posse_bola[selecao_dois]['Tempo_Fim']\n",
    "    plt.plot(df_filtado_t, df_filtado_dif, label = 'diferença do placar', color='red')\n",
    "for x in quartos:\n",
    "    plt.axvline(x, color='red', label=posse_bola.index, linestyle='--', alpha=0.4)\n",
    "plt.axhline(0, color='orange', label=posse_bola.index, alpha=0.5)\n",
    "plt.savefig('RELATORIO/teste2.jpeg', format='jpg')"
   ]
  },
  {
   "cell_type": "markdown",
   "metadata": {},
   "source": [
    "## Código"
   ]
  },
  {
   "cell_type": "code",
   "execution_count": null,
   "metadata": {},
   "outputs": [],
   "source": [
    "Tabela_Geral = df[['Time','Indicador','Nome']]"
   ]
  },
  {
   "cell_type": "code",
   "execution_count": null,
   "metadata": {},
   "outputs": [],
   "source": [
    "Tabela_Geral_Time1 = Tabela_Geral[Tabela_Geral['Time'] == sigla_time_a]\n",
    "Tabela_Geral_Time2 = Tabela_Geral[Tabela_Geral['Time'] == sigla_time_b]"
   ]
  },
  {
   "cell_type": "code",
   "execution_count": null,
   "metadata": {},
   "outputs": [],
   "source": [
    "tabela_time1 = Tabela_Geral_Time1.groupby(['Nome', 'Indicador']).count()\n",
    "tabela_time2 = Tabela_Geral_Time2.groupby(['Nome', 'Indicador']).count()"
   ]
  },
  {
   "cell_type": "code",
   "execution_count": null,
   "metadata": {},
   "outputs": [],
   "source": [
    "tabela_time1_pivot = tabela_time1.pivot_table(index='Indicador',columns=['Nome'],aggfunc=sum, fill_value=0).T\n",
    "tabela_time2_pivot = tabela_time2.pivot_table(index='Indicador',columns=['Nome'],aggfunc=sum, fill_value=0).T"
   ]
  },
  {
   "cell_type": "code",
   "execution_count": null,
   "metadata": {},
   "outputs": [],
   "source": [
    "valores_coluna_time1 = tabela_time1_pivot.columns.values"
   ]
  },
  {
   "cell_type": "code",
   "execution_count": null,
   "metadata": {},
   "outputs": [],
   "source": [
    "# Esses indicadores podem não aparecer no jogo \n",
    "# dessa maneira eu vou criar um if e acrescentar \n",
    "valores_coluna_time1 = tabela_time1_pivot.columns.values\n",
    "colunas = ['TO', 'FC_O', 'FC_T', 'FC_A', 'EN', 'LL_Pts_C', 'LL_Pts_T', 'BR']\n",
    "tamanho_df_pivot = len(tabela_time1_pivot)\n",
    "for j in colunas:\n",
    "    if j not in valores_coluna_time1:\n",
    "        tabela_time1_pivot[j] = [0 for _ in range(len(tabela_time1_pivot))]\n",
    "    else:\n",
    "        pass\n",
    "\n",
    "nome_time_casa0 = [nome_time_casa for itens in range(tamanho_df_pivot)]\n",
    "tabela_time1_pivot['Time'] = nome_time_casa0\n",
    "\n",
    "nome_time_fora0 = [nome_time_fora for itens in range(tamanho_df_pivot)]\n",
    "tabela_time1_pivot['Oponente'] = nome_time_fora0\n",
    "\n",
    "dia_do_jogo0 = [dia_do_jogo for itens in range(tamanho_df_pivot)]\n",
    "tabela_time1_pivot['Data'] = dia_do_jogo0\n",
    "\n",
    "casa0 = [casa for itens in range(tamanho_df_pivot)]\n",
    "tabela_time1_pivot['Casa/Fora'] = casa0\n",
    "\n",
    "classificatoria0 = [classificatoria for itens in range(tamanho_df_pivot)]\n",
    "tabela_time1_pivot['Classificatoria/Playoffs'] = classificatoria0"
   ]
  },
  {
   "cell_type": "code",
   "execution_count": null,
   "metadata": {},
   "outputs": [],
   "source": [
    "# Esses indicadores podem não aparecer no jogo \n",
    "# dessa maneira eu vou criar um if e acrescentar \n",
    "valores_coluna_time1 = []\n",
    "for i in tabela_time1_pivot:\n",
    "    valores_coluna_time1.append(i)\n",
    "\n",
    "tamanho_df_pivot = len(tabela_time1_pivot)\n",
    "if 'TO' not in valores_coluna_time1:\n",
    "    toco = [0 for itens in range(tamanho_df_pivot)]\n",
    "    tabela_time1_pivot['TO'] = toco\n",
    "if 'FC_O'not in valores_coluna_time1:\n",
    "    fco = [0 for itens in range(tamanho_df_pivot)]\n",
    "    tabela_time1_pivot['FC_O'] = fco  \n",
    "if 'FC_T'not in valores_coluna_time1:\n",
    "    fct = [0 for itens in range(tamanho_df_pivot)]\n",
    "    tabela_time1_pivot['FC_T'] = fct   \n",
    "if 'FC_A'not in valores_coluna_time1:\n",
    "    fca = [0 for itens in range(tamanho_df_pivot)]\n",
    "    tabela_time1_pivot['FC_A'] = fca\n",
    "if 'EN' not in valores_coluna_time1:\n",
    "    en = [0 for itens in range(tamanho_df_pivot)]\n",
    "    tabela_time1_pivot['EN'] = en\n",
    "if 'LL_Pts_C' not in valores_coluna_time1:\n",
    "    llc = [0 for itens in range(tamanho_df_pivot)]\n",
    "    tabela_time1_pivot['LL_Pts_C'] = llc\n",
    "if 'LL_Pts_T' not in valores_coluna_time1:\n",
    "    llt = [0 for itens in range(tamanho_df_pivot)]\n",
    "    tabela_time1_pivot['LL_Pts_T'] = llt\n",
    "if 'BR' not in valores_coluna_time1:\n",
    "    br = [0 for itens in range(tamanho_df_pivot)]\n",
    "    tabela_time1_pivot['LL_Pts_T'] = br\n",
    "\n",
    "nome_time_casa0 = [nome_time_casa for itens in range(tamanho_df_pivot)]\n",
    "tabela_time1_pivot['Time'] = nome_time_casa0\n",
    "\n",
    "nome_time_fora0 = [nome_time_fora for itens in range(tamanho_df_pivot)]\n",
    "tabela_time1_pivot['Oponente'] = nome_time_fora0\n",
    "\n",
    "dia_do_jogo0 = [dia_do_jogo for itens in range(tamanho_df_pivot)]\n",
    "tabela_time1_pivot['Data'] = dia_do_jogo0\n",
    "\n",
    "casa0 = [casa for itens in range(tamanho_df_pivot)]\n",
    "tabela_time1_pivot['Casa/Fora'] = casa0\n",
    "\n",
    "classificatoria0 = [classificatoria for itens in range(tamanho_df_pivot)]\n",
    "tabela_time1_pivot['Classificatoria/Playoffs'] = classificatoria0"
   ]
  },
  {
   "cell_type": "code",
   "execution_count": null,
   "metadata": {},
   "outputs": [],
   "source": [
    "tabela_time1_pivot.columns"
   ]
  },
  {
   "cell_type": "code",
   "execution_count": null,
   "metadata": {},
   "outputs": [],
   "source": [
    "tabela_time1_pivot.reset_index(inplace=True)\n",
    "tabela_time1_pivot.drop(['level_0'], axis=1, inplace=True)\n",
    "tabela_time1_pivot.columns"
   ]
  },
  {
   "cell_type": "code",
   "execution_count": null,
   "metadata": {},
   "outputs": [],
   "source": [
    "# Esses indicadores podem não aparecer no jogo \n",
    "# dessa maneira eu vou criar um if e acrescentar \n",
    "valores_coluna_time2 = []\n",
    "for i in tabela_time2_pivot:\n",
    "    valores_coluna_time2.append(i)\n",
    "\n",
    "tamanho_df_pivot = len(tabela_time2_pivot)\n",
    "if 'TO' not in valores_coluna_time2:\n",
    "    toco = [0 for itens in range(tamanho_df_pivot)]\n",
    "    tabela_time2_pivot['TO'] = toco\n",
    "if 'FC_O'not in valores_coluna_time2:\n",
    "    fco = [0 for itens in range(tamanho_df_pivot)]\n",
    "    tabela_time2_pivot['FC_O'] = fco  \n",
    "if 'FC_T'not in valores_coluna_time2:\n",
    "    fct = [0 for itens in range(tamanho_df_pivot)]\n",
    "    tabela_time2_pivot['FC_T'] = fct   \n",
    "if 'FC_A'not in valores_coluna_time2:\n",
    "    fca = [0 for itens in range(tamanho_df_pivot)]\n",
    "    tabela_time2_pivot['FC_A'] = fca\n",
    "if 'EN'not in valores_coluna_time2:\n",
    "    en = [0 for itens in range(tamanho_df_pivot)]\n",
    "    tabela_time2_pivot['EN'] = en\n",
    "if 'LL_Pts_C' not in valores_coluna_time2:\n",
    "    llc = [0 for itens in range(tamanho_df_pivot)]\n",
    "    tabela_time2_pivot['LL_Pts_C'] = llc\n",
    "if 'LL_Pts_T' not in valores_coluna_time2:\n",
    "    llt = [0 for itens in range(tamanho_df_pivot)]\n",
    "    tabela_time2_pivot['LL_Pts_T'] = llt\n",
    "if 'BR' not in valores_coluna_time2:\n",
    "    br = [0 for itens in range(tamanho_df_pivot)]\n",
    "    tabela_time2_pivot['LL_Pts_T'] = br\n",
    "    \n",
    "nome_time_fora0 = [nome_time_fora for itens in range(tamanho_df_pivot)]\n",
    "tabela_time2_pivot['Time'] = nome_time_fora0\n",
    "\n",
    "nome_time_casa0 = [nome_time_casa for itens in range(tamanho_df_pivot)]\n",
    "tabela_time2_pivot['Oponente'] = nome_time_casa0\n",
    "\n",
    "dia_do_jogo0 = [dia_do_jogo for itens in range(tamanho_df_pivot)]\n",
    "tabela_time2_pivot['Data'] = dia_do_jogo0\n",
    "\n",
    "fora0 = [fora for itens in range(tamanho_df_pivot)]\n",
    "tabela_time2_pivot['Casa/Fora'] = fora0\n",
    "\n",
    "classificatoria0 = [classificatoria for itens in range(tamanho_df_pivot)]\n",
    "tabela_time2_pivot['Classificatoria/Playoffs'] = classificatoria0  "
   ]
  },
  {
   "cell_type": "code",
   "execution_count": null,
   "metadata": {},
   "outputs": [],
   "source": [
    "tabela_time2_pivot.reset_index(inplace=True)\n",
    "tabela_time2_pivot.drop(['level_0'], axis=1, inplace=True)\n",
    "tabela_time2_pivot.columns"
   ]
  },
  {
   "cell_type": "markdown",
   "metadata": {},
   "source": [
    "## criar um novo data frame e agregar a soma"
   ]
  },
  {
   "cell_type": "code",
   "execution_count": null,
   "metadata": {},
   "outputs": [],
   "source": [
    "Time1_Final = pd.DataFrame()"
   ]
  },
  {
   "cell_type": "code",
   "execution_count": null,
   "metadata": {},
   "outputs": [],
   "source": [
    "Time1_Final['Time'] = tabela_time1_pivot['Time']\n",
    "Time1_Final['Oponente'] = tabela_time1_pivot['Oponente']\n",
    "Time1_Final['Data'] = tabela_time1_pivot['Data']\n",
    "Time1_Final['Casa/Fora'] = tabela_time1_pivot['Casa/Fora']\n",
    "Time1_Final['Classificatoria/Playoffs'] = tabela_time1_pivot['Classificatoria/Playoffs']\n",
    "Time1_Final['Nome'] = tabela_time1_pivot['Nome']\n",
    "Time1_Final['Pts_3_C'] = tabela_time1_pivot['3_Pts_C'] * 3\n",
    "Time1_Final['Pts_3_T'] = (tabela_time1_pivot['3_Pts_T'] + tabela_time1_pivot['3_Pts_C']) * 3\n",
    "Time1_Final['Pts_2_C'] = (tabela_time1_pivot['2_Pts_C'] + tabela_time1_pivot['EN']) * 2\n",
    "Time1_Final['Pts_2_T'] = (tabela_time1_pivot['2_Pts_T'] + tabela_time1_pivot['2_Pts_C'] + tabela_time1_pivot['EN']) * 2\n",
    "Time1_Final['LL_C'] = tabela_time1_pivot['LL_Pts_C']\n",
    "Time1_Final['LL_T'] = tabela_time1_pivot['LL_Pts_T'] + tabela_time1_pivot['LL_Pts_C']\n",
    "Time1_Final['RO'] = tabela_time1_pivot['RO']\n",
    "Time1_Final['RD'] = tabela_time1_pivot['RD']\n",
    "Time1_Final['RT'] = tabela_time1_pivot['RO'] + tabela_time1_pivot['RD']\n",
    "Time1_Final['AS'] = tabela_time1_pivot['AS']\n",
    "Time1_Final['BR'] = tabela_time1_pivot['BR']\n",
    "Time1_Final['TO'] = tabela_time1_pivot['TO']\n",
    "Time1_Final['FC'] = tabela_time1_pivot['FC'] + tabela_time1_pivot['FC_T']+tabela_time1_pivot['FC_O']+tabela_time1_pivot['FC_A']\n",
    "Time1_Final['FR'] = tabela_time1_pivot['FR']\n",
    "Time1_Final['ER'] = tabela_time1_pivot['ER']\n",
    "Time1_Final['EN'] = tabela_time1_pivot['EN']\n",
    "Time1_Final['substituicao_entra'] = tabela_time1_pivot['substituicao_entra']\n",
    "Time1_Final['substituicao_sai'] = tabela_time1_pivot['substituicao_sai']"
   ]
  },
  {
   "cell_type": "code",
   "execution_count": null,
   "metadata": {},
   "outputs": [],
   "source": [
    "Time1_Final['Ar_Pts_C'] = (Time1_Final['Pts_3_C']/3) + (Time1_Final['Pts_2_C']/2) - Time1_Final['EN']# por o teste3['Pts_2_C'] contabiliza EN\n",
    "Time1_Final['Ar_Pts_T'] = (Time1_Final['Pts_3_T']/3) + (Time1_Final['Pts_2_T']/2) # NÃO contabiliza EN\n",
    "Time1_Final['Pts_C'] = Time1_Final['Pts_3_C'] + Time1_Final['Pts_2_C'] + Time1_Final['LL_C']\n",
    "Time1_Final['Pts_T'] = Time1_Final['Pts_3_T'] + Time1_Final['Pts_2_T'] + Time1_Final['LL_T']"
   ]
  },
  {
   "cell_type": "code",
   "execution_count": null,
   "metadata": {},
   "outputs": [],
   "source": [
    "Time1_Final['posse_de_bola'] = round(Time1_Final['Ar_Pts_T'] - Time1_Final['RO'] + Time1_Final['ER'] + (0.4 * Time1_Final['LL_T']), 0)\n",
    "Time1_Final"
   ]
  },
  {
   "cell_type": "code",
   "execution_count": null,
   "metadata": {},
   "outputs": [],
   "source": [
    "Time2_Final = pd.DataFrame()"
   ]
  },
  {
   "cell_type": "code",
   "execution_count": null,
   "metadata": {},
   "outputs": [],
   "source": [
    "Time2_Final['Time'] = tabela_time2_pivot['Time']\n",
    "Time2_Final['Oponente'] = tabela_time2_pivot['Oponente']\n",
    "Time2_Final['Data'] = tabela_time2_pivot['Data']\n",
    "Time2_Final['Casa/Fora'] = tabela_time2_pivot['Casa/Fora']\n",
    "Time2_Final['Classificatoria/Playoffs'] = tabela_time2_pivot['Classificatoria/Playoffs']\n",
    "Time2_Final['Nome'] = tabela_time2_pivot['Nome']\n",
    "Time2_Final['Pts_3_C'] = tabela_time2_pivot['3_Pts_C'] * 3\n",
    "Time2_Final['Pts_3_T'] = (tabela_time2_pivot['3_Pts_T'] + tabela_time2_pivot['3_Pts_C']) * 3\n",
    "Time2_Final['Pts_2_C'] = (tabela_time2_pivot['2_Pts_C'] + tabela_time2_pivot['EN']) * 2\n",
    "Time2_Final['Pts_2_T'] = (tabela_time2_pivot['2_Pts_T'] + tabela_time2_pivot['2_Pts_C'] + tabela_time2_pivot['EN']) * 2\n",
    "Time2_Final['LL_C'] = tabela_time2_pivot['LL_Pts_C']\n",
    "Time2_Final['LL_T'] = tabela_time2_pivot['LL_Pts_T'] + tabela_time2_pivot['LL_Pts_C']\n",
    "Time2_Final['RO'] = tabela_time2_pivot['RO']\n",
    "Time2_Final['RD'] = tabela_time2_pivot['RD']\n",
    "Time2_Final['RT'] = tabela_time2_pivot['RO'] + tabela_time2_pivot['RD']\n",
    "Time2_Final['AS'] = tabela_time2_pivot['AS']\n",
    "Time2_Final['BR'] = tabela_time2_pivot['BR']\n",
    "Time2_Final['TO'] = tabela_time2_pivot['TO']\n",
    "Time2_Final['FC'] = tabela_time2_pivot['FC'] + tabela_time2_pivot['FC_T']+tabela_time2_pivot['FC_O']+tabela_time2_pivot['FC_A']\n",
    "Time2_Final['FR'] = tabela_time2_pivot['FR']\n",
    "Time2_Final['ER'] = tabela_time2_pivot['ER']\n",
    "Time2_Final['EN'] = tabela_time2_pivot['EN']\n",
    "Time2_Final['substituicao_entra'] = tabela_time2_pivot['substituicao_entra']\n",
    "Time2_Final['substituicao_sai'] = tabela_time2_pivot['substituicao_sai']"
   ]
  },
  {
   "cell_type": "code",
   "execution_count": null,
   "metadata": {},
   "outputs": [],
   "source": [
    "Time2_Final['Ar_Pts_C'] = (Time2_Final['Pts_3_C']/3) + (Time2_Final['Pts_2_C']/2) - Time2_Final['EN']# por o teste3['Pts_2_C'] contabiliza EN\n",
    "Time2_Final['Ar_Pts_T'] = (Time2_Final['Pts_3_T']/3) + (Time2_Final['Pts_2_T']/2)  # NÃO contabiliza EN\n",
    "Time2_Final['Pts_C'] = Time2_Final['Pts_3_C'] + Time2_Final['Pts_2_C'] + Time2_Final['LL_C']\n",
    "Time2_Final['Pts_T'] = Time2_Final['Pts_3_T'] + Time2_Final['Pts_2_T'] + Time2_Final['LL_T']"
   ]
  },
  {
   "cell_type": "code",
   "execution_count": null,
   "metadata": {},
   "outputs": [],
   "source": [
    "Time2_Final['posse_de_bola'] = round(Time2_Final['Ar_Pts_T'] - Time2_Final['RO'] + Time2_Final['ER'] + (0.4 * Time2_Final['LL_T']), 0)\n",
    "Time2_Final"
   ]
  },
  {
   "cell_type": "markdown",
   "metadata": {},
   "source": [
    "### Somar tudo para ter o resultado da equipe"
   ]
  },
  {
   "cell_type": "code",
   "execution_count": null,
   "metadata": {},
   "outputs": [],
   "source": [
    "Time1_Final.sort_values(by=['Pts_C'], inplace=True, ascending=False)\n",
    "Time2_Final.sort_values(by=['Pts_C'], inplace=True, ascending=False)\n",
    "# tabela_time1_pivot[['Nome','RD', 'RO']]"
   ]
  },
  {
   "cell_type": "code",
   "execution_count": null,
   "metadata": {},
   "outputs": [],
   "source": [
    "resultado_Time1 = Time1_Final.sum()\n",
    "resultado_Time2 = Time2_Final.sum()"
   ]
  },
  {
   "cell_type": "code",
   "execution_count": null,
   "metadata": {},
   "outputs": [],
   "source": [
    "Time1_Final"
   ]
  },
  {
   "cell_type": "code",
   "execution_count": null,
   "metadata": {},
   "outputs": [],
   "source": [
    "for i in range(len(Time1_Final)):\n",
    "    if Time1_Final['Nome'][i] == nome_time_casa:\n",
    "        Time1_Final['Nome'].replace(nome_time_casa, 'Ações Time', inplace=True)\n",
    "        acoes = Time1_Final.loc[i]\n",
    "        Time1_Final.drop(index=i, inplace=True)\n",
    "Time1_Final.reset_index(drop=True, inplace=True)\n",
    "Time1_Final = Time1_Final.append(acoes, ignore_index=True)"
   ]
  },
  {
   "cell_type": "code",
   "execution_count": null,
   "metadata": {},
   "outputs": [],
   "source": [
    "Time1_Final"
   ]
  },
  {
   "cell_type": "code",
   "execution_count": null,
   "metadata": {},
   "outputs": [],
   "source": [
    "Time1_Final"
   ]
  },
  {
   "cell_type": "code",
   "execution_count": null,
   "metadata": {},
   "outputs": [],
   "source": [
    "for i in range(len(Time2_Final)):\n",
    "    if Time2_Final['Nome'][i] == nome_time_fora:\n",
    "        Time2_Final['Nome'].replace(nome_time_casa, 'Ações Time')\n",
    "        acoes = Time2_Final.loc[i]\n",
    "        Time2_Final.drop(index=i, inplace=True)\n",
    "Time2_Final.reset_index(drop=True, inplace=True)\n",
    "Time2_Final = Time2_Final.append(acoes, ignore_index=True)"
   ]
  },
  {
   "cell_type": "code",
   "execution_count": null,
   "metadata": {},
   "outputs": [],
   "source": [
    "# mudar os nomes para ações coletivas\n",
    "# Time1_Final = Time1_Final[(Time1_Final['Nome'] != nome_time_casa)]\n",
    "# mudar os nomes para ações coletivas\n",
    "# Time2_Final = Time2_Final[(Time2_Final['Nome'] != nome_time_fora)]"
   ]
  },
  {
   "cell_type": "code",
   "execution_count": null,
   "metadata": {},
   "outputs": [],
   "source": [
    "resultado_Time1['Nome'] = 'Equipe'\n",
    "resultado_Time2['Nome'] = 'Equipe'\n",
    "resultado_Time1['Time'] = nome_time_casa\n",
    "resultado_Time2['Time'] = nome_time_fora\n",
    "resultado_Time1['Oponente'] = nome_time_fora\n",
    "resultado_Time2['Oponente'] = nome_time_casa\n",
    "resultado_Time1['Data'] = dia_do_jogo\n",
    "resultado_Time2['Data'] = dia_do_jogo\n",
    "resultado_Time1['Casa/Fora'] = casa\n",
    "resultado_Time2['Casa/Fora'] = fora\n",
    "resultado_Time1['Classificatoria/Playoffs'] = classificatoria\n",
    "resultado_Time2['Classificatoria/Playoffs'] = classificatoria"
   ]
  },
  {
   "cell_type": "markdown",
   "metadata": {},
   "source": [
    "# Tabelas"
   ]
  },
  {
   "cell_type": "code",
   "execution_count": null,
   "metadata": {},
   "outputs": [],
   "source": [
    "# agregar no dataframe final\n",
    "Time1_Final = Time1_Final.append(resultado_Time1, ignore_index=True)\n",
    "Time2_Final = Time2_Final.append(resultado_Time2, ignore_index=True)\n",
    "Time1_Final['Ar_Pts_C'] = Time1_Final['Ar_Pts_C'].astype(int)\n",
    "Time1_Final['Ar_Pts_T'] = Time1_Final['Ar_Pts_T'].astype(int)\n",
    "Time2_Final['Ar_Pts_C'] = Time2_Final['Ar_Pts_C'].astype(int)\n",
    "Time2_Final['Ar_Pts_T'] = Time2_Final['Ar_Pts_T'].astype(int)"
   ]
  },
  {
   "cell_type": "code",
   "execution_count": null,
   "metadata": {},
   "outputs": [],
   "source": [
    "Time1_Final"
   ]
  },
  {
   "cell_type": "code",
   "execution_count": null,
   "metadata": {},
   "outputs": [],
   "source": [
    "Time1_Final.to_csv('tempo2.csv')"
   ]
  },
  {
   "cell_type": "code",
   "execution_count": null,
   "metadata": {},
   "outputs": [],
   "source": [
    "Time2_Final"
   ]
  },
  {
   "cell_type": "code",
   "execution_count": null,
   "metadata": {},
   "outputs": [],
   "source": [
    "# esse código é para a criação dos gráficos de comparação\n",
    "tabela_times = pd.concat([Time1_Final[Time1_Final['Nome'] == 'Equipe'], Time2_Final[Time2_Final['Nome'] == 'Equipe']], ignore_index=True)\n",
    "tabela_times"
   ]
  },
  {
   "cell_type": "markdown",
   "metadata": {},
   "source": [
    "# Acrescentar a diferença do placar e vitória derrota"
   ]
  },
  {
   "cell_type": "code",
   "execution_count": null,
   "metadata": {},
   "outputs": [],
   "source": [
    "dif_placar_geral = tabela_times['Pts_C'].diff()"
   ]
  },
  {
   "cell_type": "code",
   "execution_count": null,
   "metadata": {},
   "outputs": [],
   "source": [
    "# acrescenta a diferença do placar do times \n",
    "positivo = []\n",
    "negativo = []\n",
    "resul_dif = []\n",
    "op_1 = ['vitória', 'derrota']\n",
    "op_2 = ['derrota', 'vitória']\n",
    "tamanho_df_pivot = len(Time1_Final)\n",
    "tamanho_df_pivot0 = len(Time2_Final)\n",
    "if dif_placar_geral[1] <= 0:\n",
    "    positivo = abs(dif_placar_geral[1])\n",
    "    negativo = dif_placar_geral[1]\n",
    "    resul_dif = [positivo, negativo]\n",
    "    tabela_times['Diferenca_Placar'] = resul_dif\n",
    "    tabela_times['Vitoria/Derrota'] = op_1\n",
    "    ################################################\n",
    "    vit_der = ['vitória' for itens in range(tamanho_df_pivot)]\n",
    "    Time1_Final['Vitoria/Derrota'] = vit_der\n",
    "    dif = [positivo for itens in range(tamanho_df_pivot)]\n",
    "    Time1_Final['Diferenca_Placar'] = dif\n",
    "    #########################################################\n",
    "    vit_der0 = ['derrota' for itens in range(tamanho_df_pivot0)]\n",
    "    Time2_Final['Vitoria/Derrota'] = vit_der0\n",
    "    dif0 = [negativo for itens in range(tamanho_df_pivot0)]\n",
    "    Time2_Final['Diferenca_Placar'] = dif0\n",
    "else:\n",
    "    positivo = dif_placar_geral[1]\n",
    "    negativo = -(dif_placar_geral[1])\n",
    "    resul_dif = [negativo, positivo]\n",
    "    tabela_times['Diferenca_Placar'] = resul_dif\n",
    "    tabela_times['Vitoria/Derrota'] = op_2\n",
    "    ################################################\n",
    "    vit_der = ['derrota' for itens in range(tamanho_df_pivot)]\n",
    "    Time1_Final['Vitoria/Derrota'] = vit_der\n",
    "    dif = [negativo for itens in range(tamanho_df_pivot)]\n",
    "    Time1_Final['Diferenca_Placar'] = dif\n",
    "    #########################################################\n",
    "    vit_der0 = ['vitória' for itens in range(tamanho_df_pivot0)]\n",
    "    Time2_Final['Vitoria/Derrota'] = vit_der0\n",
    "    dif0 = [positivo for itens in range(tamanho_df_pivot0)]\n",
    "    Time2_Final['Diferenca_Placar'] = dif0"
   ]
  },
  {
   "cell_type": "code",
   "execution_count": null,
   "metadata": {},
   "outputs": [],
   "source": [
    "tabela_times"
   ]
  },
  {
   "cell_type": "code",
   "execution_count": null,
   "metadata": {},
   "outputs": [],
   "source": [
    "Time1_Final.head()"
   ]
  },
  {
   "cell_type": "code",
   "execution_count": null,
   "metadata": {},
   "outputs": [],
   "source": [
    "Time2_Final"
   ]
  },
  {
   "cell_type": "code",
   "execution_count": null,
   "metadata": {},
   "outputs": [],
   "source": [
    "Tabela_Final = pd.concat([Time1_Final,Time2_Final]).reset_index(drop=True, inplace=True)"
   ]
  },
  {
   "cell_type": "code",
   "execution_count": null,
   "metadata": {},
   "outputs": [],
   "source": [
    "Tabela_Final"
   ]
  },
  {
   "cell_type": "markdown",
   "metadata": {},
   "source": [
    "# Análise Avançada"
   ]
  },
  {
   "cell_type": "markdown",
   "metadata": {},
   "source": [
    "As análises avançadas são compostas pelos seguintes indicadores \n",
    "\n",
    "* EF_Pts     -> Eficiência dos pontos totais\n",
    "* FR_3_Pts_C -> Frequência relativa do 3 pontos convertidos\n",
    "* FR_3_Pts_T -> Frequência relativa do 3 pontos tentados\n",
    "* EF_Pts_3   -> Eficiência dos 3 pontos\n",
    "* FR_2_Pts_C -> Frequência relativa do 2 pontos convertidos\n",
    "* FR_2_Pts_T -> Frequência relativa do 2 pontos tentados\n",
    "* EF_Pts_2   -> Eficiência dos 2 pontos\n",
    "* FR_LL_C    -> Frequência relativa dos Lances Livres convertidos\n",
    "* FR_LL_T    -> Frequência relativa dos Lances Livres tentados\n",
    "* EF_LL      -> Eficiência dos Lances Livres\n",
    "* Pace       -> \n",
    "* eFG_%      -> Aproveitamento efetivo dos pontos\n",
    "* TOV_%      -> Fator turnover\n",
    "* FTA/FGA    -> Fator de aproveitamento dos lances livres\n",
    "* ORB%       -> \n",
    "* Posse_de_Bola -> Posse de Bola\n",
    "* Offensive_Rating -> pontos por posse de bola com o ajusto de 100 posses\n",
    "* TS_%       -> Porcentagem dos arremessos\n",
    "* Ass/ER     -> Assistência por erros\n",
    "* AS_Ratio   -> Assistências por posse de bola"
   ]
  },
  {
   "cell_type": "markdown",
   "metadata": {},
   "source": [
    "## Código"
   ]
  },
  {
   "cell_type": "code",
   "execution_count": null,
   "metadata": {},
   "outputs": [],
   "source": [
    "def criando_analise_avancada_geral(Tabela_Final):\n",
    "    Tabela_Final['EF_Pts'] = round(Tabela_Final['Pts_C'] / Tabela_Final['Pts_T'], 3)  # eficiência dos pontos totais\n",
    "    Tabela_Final['EF_Pts_3'] = round(Tabela_Final['Pts_3_C'] / Tabela_Final['Pts_3_T'], 3)  # eficiência dos 3 pontos\n",
    "    Tabela_Final['EF_Pts_2'] = round(Tabela_Final['Pts_2_C'] / Tabela_Final['Pts_2_T'], 3)  # eficiência dos 2 pontos\n",
    "    Tabela_Final['EF_LL'] = round(Tabela_Final['LL_C'] / Tabela_Final['LL_T'], 3)  # eficiência dos Lances Livres\n",
    "    Tabela_Final.fillna(0, inplace=True)"
   ]
  },
  {
   "cell_type": "code",
   "execution_count": null,
   "metadata": {},
   "outputs": [],
   "source": [
    "def criando_analise_avancada_time(Tabela_Final):\n",
    "    # four fectores\n",
    "    Tabela_Final['eFG_%'] = round((Tabela_Final['Ar_Pts_C'] + 0.5 * Tabela_Final['Pts_3_C']) / Tabela_Final['Ar_Pts_T'],\n",
    "                                  3)  # aproveitamento efetivo\n",
    "    Tabela_Final['TOV_%'] = round(\n",
    "        100 * Tabela_Final['ER'] / (Tabela_Final['Ar_Pts_T'] + 0.475 * Tabela_Final['LL_T'] + Tabela_Final['ER']),\n",
    "        1)  # fator turnover\n",
    "    Tabela_Final['FTA/FGA'] = round(Tabela_Final['LL_T'] / Tabela_Final['Ar_Pts_C'],\n",
    "                                    3)  # fator de aproveitamento dos lances livres\n",
    "    # analise['ORB%'] =  # precisa do resultado do time adv\n",
    "    # analise['Pace'] = # precisa do resultado do time adv\n",
    "    Tabela_Final['Offensive_Rating'] = 100 * round(Tabela_Final['Pts_C'] / Tabela_Final['posse_de_bola'],\n",
    "                                                   3)  # pontos por posse de bola com o ajusto de 100 posses\n",
    "\n",
    "    Tabela_Final['TS_%'] = round(\n",
    "        Tabela_Final['Pts_C'] / (2 * (Tabela_Final['Ar_Pts_T'] + 0.475 * Tabela_Final['LL_T'])),\n",
    "        3)  # porcentagem dos arremessos\n",
    "    Tabela_Final['Ass/ER'] = round(Tabela_Final['AS'] / Tabela_Final['ER'], 3)  # assistência por erros\n",
    "    Tabela_Final['AS_Ratio'] = 100 * round((Tabela_Final['AS'] / Tabela_Final['posse_de_bola']),\n",
    "                                           3)  # assistências por posse de bola\n",
    "    Tabela_Final.fillna(0, inplace=True)"
   ]
  },
  {
   "cell_type": "code",
   "execution_count": null,
   "metadata": {},
   "outputs": [],
   "source": [
    "criando_analise_avancada_geral(Time1_Final)\n",
    "criando_analise_avancada_geral(Time2_Final)"
   ]
  },
  {
   "cell_type": "code",
   "execution_count": null,
   "metadata": {},
   "outputs": [],
   "source": [
    "criando_analise_avancada_time(tabela_times)"
   ]
  },
  {
   "cell_type": "code",
   "execution_count": null,
   "metadata": {},
   "outputs": [],
   "source": [
    "indicadores = ['Pts_3_C', 'Pts_3_T', 'Pts_2_C', 'Pts_2_T', 'LL_C', 'LL_T',\n",
    "               'RO', 'RD', 'RT', 'AS', 'BR', 'TO', 'FC', 'FR', 'ER', 'EN',\n",
    "               'Pts_C', 'Pts_T'\n",
    "              ]\n",
    "t = len(Time1_Final)\n",
    "for i in indicadores:\n",
    "    resultado = []\n",
    "    for j in range(t):\n",
    "        if Time1_Final[i][t-1] != 0:\n",
    "            resultado.append(round(Time1_Final[i][j]/Time1_Final[i][t-1], 3))\n",
    "        else:\n",
    "            resultado.append(0)\n",
    "    Time1_Final[f'FR_{i}'] = resultado"
   ]
  },
  {
   "cell_type": "code",
   "execution_count": null,
   "metadata": {},
   "outputs": [],
   "source": [
    "t = len(Time2_Final)\n",
    "for i in indicadores:\n",
    "    resultado = []\n",
    "    for j in range(t):\n",
    "        if Time2_Final[i][t-1] != 0:\n",
    "            resultado.append(round(Time2_Final[i][j]/Time2_Final[i][t-1], 3))\n",
    "        else:\n",
    "            resultado.append(0)\n",
    "    Time2_Final[f'FR_{i}'] = resultado"
   ]
  },
  {
   "cell_type": "code",
   "execution_count": null,
   "metadata": {},
   "outputs": [],
   "source": [
    "Time1_Final"
   ]
  },
  {
   "cell_type": "code",
   "execution_count": null,
   "metadata": {},
   "outputs": [],
   "source": [
    "aaaaaaaaaa"
   ]
  },
  {
   "cell_type": "markdown",
   "metadata": {},
   "source": [
    "# colocar uma tabela geral com análises "
   ]
  },
  {
   "cell_type": "code",
   "execution_count": null,
   "metadata": {},
   "outputs": [],
   "source": [
    "grafico_Time1_Final = Time1_Final[['Time' ,'Nome', 'Pts_C', 'Pts_T','Pts_3_C', 'Pts_3_T', 'Pts_2_C', 'Pts_2_T', 'LL_C', 'LL_T', \n",
    "                                   'RO', 'RD', 'RT', 'AS', 'BR', 'TO', 'FC', 'FR', 'ER', 'EN']]\n",
    "grafico_Time1_Final"
   ]
  },
  {
   "cell_type": "code",
   "execution_count": null,
   "metadata": {},
   "outputs": [],
   "source": [
    "dfi.export(grafico_Time1_Final, 'RELATORIO/teste5.png')"
   ]
  },
  {
   "cell_type": "code",
   "execution_count": null,
   "metadata": {},
   "outputs": [],
   "source": [
    "grafico_Time2_Final = Time2_Final[['Time', 'Nome', 'Pts_C', 'Pts_T','Pts_3_C', 'Pts_3_T', 'Pts_2_C', 'Pts_2_T', 'LL_C', 'LL_T', \n",
    "                                   'RO', 'RD', 'RT', 'AS', 'BR', 'TO', 'FC', 'FR', 'ER', 'EN']]\n",
    "grafico_Time2_Final.head()"
   ]
  },
  {
   "cell_type": "code",
   "execution_count": null,
   "metadata": {},
   "outputs": [],
   "source": [
    "dfi.export(grafico_Time2_Final, 'RELATORIO/teste6.png')"
   ]
  },
  {
   "cell_type": "markdown",
   "metadata": {},
   "source": [
    "# Os Cinco melhores de cada time nos indicadores"
   ]
  },
  {
   "cell_type": "markdown",
   "metadata": {},
   "source": [
    "### Quando for colocar no relatório utilize essas formulas para poder identificar os 5 melhores, mas a principal tabela é 'melhor_jogador_time1'"
   ]
  },
  {
   "cell_type": "markdown",
   "metadata": {},
   "source": [
    "### Time 1"
   ]
  },
  {
   "cell_type": "code",
   "execution_count": null,
   "metadata": {
    "scrolled": true
   },
   "outputs": [],
   "source": [
    "melhor_jogador_time1 = Time1_Final.copy()\n",
    "melhor_jogador_time1 = Time1_Final[(Time1_Final['Nome']!='Equipe') & (Time1_Final['Nome']!='Açõe coletivas')]\n",
    "melhor_jogador_time1"
   ]
  },
  {
   "cell_type": "code",
   "execution_count": null,
   "metadata": {},
   "outputs": [],
   "source": [
    "pontos_c_1 = melhor_jogador_time1.sort_values(by='Pts_C', ascending=False, ignore_index=True)[['Nome','Pts_C']][:5]\n",
    "pontos_c_1"
   ]
  },
  {
   "cell_type": "code",
   "execution_count": null,
   "metadata": {},
   "outputs": [],
   "source": [
    "pontos_t_1 = melhor_jogador_time1.sort_values(by='Pts_T', ascending=False, ignore_index=True)[['Nome','Pts_T']][:5]\n",
    "pontos_t_1"
   ]
  },
  {
   "cell_type": "code",
   "execution_count": null,
   "metadata": {},
   "outputs": [],
   "source": [
    "tres_pontos_c_1 = melhor_jogador_time1.sort_values(by='Pts_3_C', ascending=False, ignore_index=True)[['Nome','Pts_3_C']][:5]\n",
    "tres_pontos_c_1"
   ]
  },
  {
   "cell_type": "code",
   "execution_count": null,
   "metadata": {},
   "outputs": [],
   "source": [
    "tres_pontos_t_1 = melhor_jogador_time1.sort_values(by='Pts_3_T', ascending=False, ignore_index=True)[['Nome','Pts_3_T']][:5]\n",
    "tres_pontos_t_1"
   ]
  },
  {
   "cell_type": "code",
   "execution_count": null,
   "metadata": {},
   "outputs": [],
   "source": [
    "dois_pontos_c_1 = melhor_jogador_time1.sort_values(by='Pts_2_C', ascending=False, ignore_index=True)[['Nome','Pts_2_C']][:5]\n",
    "dois_pontos_c_1"
   ]
  },
  {
   "cell_type": "code",
   "execution_count": null,
   "metadata": {},
   "outputs": [],
   "source": [
    "dois_pontos_t_1 = melhor_jogador_time1.sort_values(by='Pts_2_T', ascending=False, ignore_index=True)[['Nome','Pts_2_T']][:5]\n",
    "dois_pontos_t_1"
   ]
  },
  {
   "cell_type": "code",
   "execution_count": null,
   "metadata": {},
   "outputs": [],
   "source": [
    "ll_c_1 = melhor_jogador_time1.sort_values(by='LL_C', ascending=False, ignore_index=True)[['Nome','LL_C']][:5]\n",
    "ll_c_1"
   ]
  },
  {
   "cell_type": "code",
   "execution_count": null,
   "metadata": {},
   "outputs": [],
   "source": [
    "ll_t_1 = melhor_jogador_time1.sort_values(by='LL_T', ascending=False, ignore_index=True)[['Nome','LL_T']][:5]\n",
    "ll_c_1"
   ]
  },
  {
   "cell_type": "code",
   "execution_count": null,
   "metadata": {},
   "outputs": [],
   "source": [
    "ro_1 = melhor_jogador_time1.sort_values(by='RO', ascending=False, ignore_index=True)[['Nome','RO']][:5]\n",
    "ro_1"
   ]
  },
  {
   "cell_type": "code",
   "execution_count": null,
   "metadata": {},
   "outputs": [],
   "source": [
    "rd_1 = melhor_jogador_time1.sort_values(by='RD', ascending=False, ignore_index=True)[['Nome','RD']][:5]\n",
    "rd_1"
   ]
  },
  {
   "cell_type": "code",
   "execution_count": null,
   "metadata": {},
   "outputs": [],
   "source": [
    "rt_1 = melhor_jogador_time1.sort_values(by='RT', ascending=False, ignore_index=True)[['Nome','RT']][:5]\n",
    "rt_1"
   ]
  },
  {
   "cell_type": "code",
   "execution_count": null,
   "metadata": {},
   "outputs": [],
   "source": [
    "as_1 = melhor_jogador_time1.sort_values(by='AS', ascending=False, ignore_index=True)[['Nome','AS']][:5]\n",
    "as_1"
   ]
  },
  {
   "cell_type": "code",
   "execution_count": null,
   "metadata": {},
   "outputs": [],
   "source": [
    "br_1 = melhor_jogador_time1.sort_values(by='BR', ascending=False, ignore_index=True)[['Nome','BR']][:5]\n",
    "br_1"
   ]
  },
  {
   "cell_type": "code",
   "execution_count": null,
   "metadata": {},
   "outputs": [],
   "source": [
    "fr_1 = melhor_jogador_time1.sort_values(by='FR', ascending=False, ignore_index=True)[['Nome','FR']][:5]\n",
    "fr_1"
   ]
  },
  {
   "cell_type": "code",
   "execution_count": null,
   "metadata": {},
   "outputs": [],
   "source": [
    "er_1 = melhor_jogador_time1.sort_values(by='ER', ascending=False, ignore_index=True)[['Nome','ER']][:5]\n",
    "er_1"
   ]
  },
  {
   "cell_type": "markdown",
   "metadata": {},
   "source": [
    "# Os Cinco melhores de cada time nos indicadores"
   ]
  },
  {
   "cell_type": "markdown",
   "metadata": {},
   "source": [
    "### Quando for colocar no relatório utilize essas formulas para poder identificar os 5 melhores, mas a principal tabela é 'melhor_jogador_time2'"
   ]
  },
  {
   "cell_type": "markdown",
   "metadata": {},
   "source": [
    "### Time 2"
   ]
  },
  {
   "cell_type": "code",
   "execution_count": null,
   "metadata": {},
   "outputs": [],
   "source": [
    "melhor_jogador_time2 = Time2_Final[(Time2_Final['Nome']!='Equipe') & (Time2_Final['Nome']!='Açõe coletivas')]\n",
    "melhor_jogador_time2"
   ]
  },
  {
   "cell_type": "code",
   "execution_count": null,
   "metadata": {},
   "outputs": [],
   "source": [
    "pontos_c_2 = melhor_jogador_time2.sort_values(by='Pts_C', ascending=False, ignore_index=True)[['Nome','Pts_C']][:5]\n",
    "pontos_c_2"
   ]
  },
  {
   "cell_type": "code",
   "execution_count": null,
   "metadata": {},
   "outputs": [],
   "source": [
    "pontos_t_2 = melhor_jogador_time2.sort_values(by='Pts_T', ascending=False, ignore_index=True)[['Nome','Pts_T']][:5]\n",
    "pontos_t_2"
   ]
  },
  {
   "cell_type": "code",
   "execution_count": null,
   "metadata": {},
   "outputs": [],
   "source": [
    "tres_pontos_c_2 = melhor_jogador_time2.sort_values(by='Pts_3_C', ascending=False, ignore_index=True)[['Nome','Pts_3_C']][:5]\n",
    "tres_pontos_c_2"
   ]
  },
  {
   "cell_type": "code",
   "execution_count": null,
   "metadata": {},
   "outputs": [],
   "source": [
    "tres_pontos_t_2 = melhor_jogador_time2.sort_values(by='Pts_3_T', ascending=False, ignore_index=True)[['Nome','Pts_3_T']][:5]\n",
    "tres_pontos_t_2"
   ]
  },
  {
   "cell_type": "code",
   "execution_count": null,
   "metadata": {},
   "outputs": [],
   "source": [
    "dois_pontos_c_2 = melhor_jogador_time2.sort_values(by='Pts_2_C', ascending=False, ignore_index=True)[['Nome','Pts_2_C']][:5]\n",
    "dois_pontos_c_2"
   ]
  },
  {
   "cell_type": "code",
   "execution_count": null,
   "metadata": {},
   "outputs": [],
   "source": [
    "dois_pontos_t_2 = melhor_jogador_time2.sort_values(by='Pts_2_T', ascending=False, ignore_index=True)[['Nome','Pts_2_T']][:5]\n",
    "dois_pontos_t_2"
   ]
  },
  {
   "cell_type": "code",
   "execution_count": null,
   "metadata": {},
   "outputs": [],
   "source": [
    "ll_c_2 = melhor_jogador_time2.sort_values(by='LL_C', ascending=False, ignore_index=True)[['Nome','LL_C']][:5]\n",
    "ll_c_2"
   ]
  },
  {
   "cell_type": "code",
   "execution_count": null,
   "metadata": {},
   "outputs": [],
   "source": [
    "ll_t_2 = melhor_jogador_time2.sort_values(by='LL_T', ascending=False, ignore_index=True)[['Nome','LL_T']][:5]\n",
    "ll_c_2"
   ]
  },
  {
   "cell_type": "code",
   "execution_count": null,
   "metadata": {},
   "outputs": [],
   "source": [
    "ro_2 = melhor_jogador_time2.sort_values(by='RO', ascending=False, ignore_index=True)[['Nome','RO']][:5]\n",
    "ro_2"
   ]
  },
  {
   "cell_type": "code",
   "execution_count": null,
   "metadata": {},
   "outputs": [],
   "source": [
    "rd_2 = melhor_jogador_time2.sort_values(by='RD', ascending=False, ignore_index=True)[['Nome','RD']][:5]\n",
    "rd_2"
   ]
  },
  {
   "cell_type": "code",
   "execution_count": null,
   "metadata": {},
   "outputs": [],
   "source": [
    "rt_2 = melhor_jogador_time2.sort_values(by='RT', ascending=False, ignore_index=True)[['Nome','RT']][:5]\n",
    "rt_2"
   ]
  },
  {
   "cell_type": "code",
   "execution_count": null,
   "metadata": {},
   "outputs": [],
   "source": [
    "as_2 = melhor_jogador_time2.sort_values(by='AS', ascending=False, ignore_index=True)[['Nome','AS']][:5]\n",
    "as_2"
   ]
  },
  {
   "cell_type": "code",
   "execution_count": null,
   "metadata": {},
   "outputs": [],
   "source": [
    "br_2 = melhor_jogador_time2.sort_values(by='BR', ascending=False, ignore_index=True)[['Nome','BR']][:5]\n",
    "br_2"
   ]
  },
  {
   "cell_type": "code",
   "execution_count": null,
   "metadata": {},
   "outputs": [],
   "source": [
    "fr_2 = melhor_jogador_time2.sort_values(by='FR', ascending=False, ignore_index=True)[['Nome','FR']][:5]\n",
    "fr_2"
   ]
  },
  {
   "cell_type": "code",
   "execution_count": null,
   "metadata": {},
   "outputs": [],
   "source": [
    "er_2 = melhor_jogador_time2.sort_values(by='ER', ascending=False, ignore_index=True)[['Nome','ER']][:5]\n",
    "er_2"
   ]
  },
  {
   "cell_type": "markdown",
   "metadata": {},
   "source": [
    "# Gráficos dos Indicadores Técnicos "
   ]
  },
  {
   "cell_type": "code",
   "execution_count": null,
   "metadata": {
    "scrolled": true
   },
   "outputs": [],
   "source": [
    "tabela_times"
   ]
  },
  {
   "cell_type": "code",
   "execution_count": null,
   "metadata": {},
   "outputs": [],
   "source": [
    "tabela_times.to_csv('tabela_times.csv')"
   ]
  },
  {
   "cell_type": "markdown",
   "metadata": {},
   "source": [
    "#### Não sei o pq mas quando ploto a primeira vez o eixo X fica zoado, mas na sugunda funciona "
   ]
  },
  {
   "cell_type": "code",
   "execution_count": null,
   "metadata": {},
   "outputs": [],
   "source": [
    "sns.set_style('white')\n",
    "sns.barplot(x='Pts_T', y='Time', data=tabela_times, hue_order=True)\n",
    "plt.title('PORNTOS TENTADOS', fontsize=18)\n",
    "plt.xlabel('')\n",
    "plt.ylabel('')\n",
    "plt.rcParams['ytick.labelsize'] = 16"
   ]
  },
  {
   "cell_type": "code",
   "execution_count": null,
   "metadata": {},
   "outputs": [],
   "source": [
    "sns.set_style('white')\n",
    "sns.barplot(x='Pts_T', y='Time', data=tabela_times)\n",
    "plt.title('PORNTOS TENTADOS', fontsize=18)\n",
    "plt.xlabel('')\n",
    "plt.ylabel('')\n",
    "plt.rcParams['ytick.labelsize'] = 16\n",
    "plt.savefig('RELATORIO/Pts_T.png', format='png')\n",
    "# colocar f'RELATORIO/{indicador}.png', format='png')\n",
    "# para realizar uma def e no def poder retirar todas essas linhas e apenas apresentar o indicador técnico "
   ]
  },
  {
   "cell_type": "code",
   "execution_count": null,
   "metadata": {},
   "outputs": [],
   "source": [
    "sns.set_style('white')\n",
    "sns.barplot(x='Pts_C', y='Time', data=tabela_times)\n",
    "plt.title('PORNTOS CONVERTIDOS', fontsize=20)\n",
    "plt.xlabel('')\n",
    "plt.ylabel('')\n",
    "plt.rcParams['ytick.labelsize'] = 18\n",
    "plt.savefig('RELATORIO/Pts_C.png', format='png')"
   ]
  },
  {
   "cell_type": "code",
   "execution_count": null,
   "metadata": {},
   "outputs": [],
   "source": [
    "sns.set_style('white')\n",
    "sns.barplot(x='Pts_3_C', y='Time', data=tabela_times)\n",
    "plt.title('TRÊS PONTOS CONVERTIDOS', fontsize=20)\n",
    "plt.xlabel('')\n",
    "plt.ylabel('')\n",
    "plt.rcParams['ytick.labelsize'] = 18\n",
    "plt.savefig('RELATORIO/Pts_3_C.png', format='png')"
   ]
  },
  {
   "cell_type": "code",
   "execution_count": null,
   "metadata": {},
   "outputs": [],
   "source": [
    "sns.set_style('white')\n",
    "sns.barplot(x='Pts_3_T', y='Time', data=tabela_times)\n",
    "plt.title('TRÊS PONTOS TENTADOS', fontsize=20)\n",
    "plt.xlabel('')\n",
    "plt.rcParams['ytick.labelsize'] = 20\n",
    "plt.ylabel('')\n",
    "plt.savefig('RELATORIO/Pts_3_T.png', format='png')"
   ]
  },
  {
   "cell_type": "code",
   "execution_count": null,
   "metadata": {},
   "outputs": [],
   "source": [
    "sns.set_style('white')\n",
    "sns.barplot(x='Pts_2_C', y='Time', data=tabela_times)\n",
    "plt.title('DOIS PONTOS CONVERTIDOS', fontsize=20)\n",
    "plt.xlabel('')\n",
    "plt.rcParams['ytick.labelsize'] = 18\n",
    "plt.ylabel('')\n",
    "plt.savefig('RELATORIO/Pts_2_C.png', format='png')"
   ]
  },
  {
   "cell_type": "code",
   "execution_count": null,
   "metadata": {},
   "outputs": [],
   "source": [
    "sns.set_style('white')\n",
    "sns.barplot(x='Pts_2_T', y='Time', data=tabela_times)\n",
    "plt.title('DOIS PONTOS TENTADOS', fontsize=20)\n",
    "plt.xlabel('')\n",
    "plt.rcParams['ytick.labelsize'] = 18\n",
    "plt.ylabel('')\n",
    "plt.savefig('RELATORIO/Pts_2_T.png', format='png')"
   ]
  },
  {
   "cell_type": "code",
   "execution_count": null,
   "metadata": {},
   "outputs": [],
   "source": [
    "sns.set_style('white')\n",
    "sns.barplot(x='LL_C', y='Time', data=tabela_times)\n",
    "plt.title('LANCES LIVRES CONVERTIDOS', fontsize=20)\n",
    "plt.xlabel('')\n",
    "plt.rcParams['ytick.labelsize'] = 18\n",
    "plt.ylabel('')\n",
    "plt.savefig('RELATORIO/LL_C.png', format='png')"
   ]
  },
  {
   "cell_type": "code",
   "execution_count": null,
   "metadata": {},
   "outputs": [],
   "source": [
    "sns.set_style('white')\n",
    "sns.barplot(x='LL_T', y='Time', data=tabela_times)\n",
    "plt.title('LANCES LIVRES TENTADOS', fontsize=20)\n",
    "plt.xlabel('')\n",
    "plt.rcParams['ytick.labelsize'] = 18\n",
    "plt.ylabel('')\n",
    "plt.savefig('RELATORIO/LL_T.png', format='png')"
   ]
  },
  {
   "cell_type": "code",
   "execution_count": null,
   "metadata": {},
   "outputs": [],
   "source": [
    "sns.set_style('white')\n",
    "sns.barplot(x='RO', y='Time', data=tabela_times)\n",
    "plt.title('REBOTES OFENSIVOS', fontsize=20)\n",
    "plt.xlabel('')\n",
    "plt.rcParams['ytick.labelsize'] = 18\n",
    "plt.ylabel('')\n",
    "plt.savefig('RELATORIO/RO.png', format='png')"
   ]
  },
  {
   "cell_type": "code",
   "execution_count": null,
   "metadata": {},
   "outputs": [],
   "source": [
    "sns.set_style('white')\n",
    "sns.barplot(x='RD', y='Time', data=tabela_times)\n",
    "plt.title('REBOTES DEFENSIVOS', fontsize=20)\n",
    "plt.xlabel('')\n",
    "plt.rcParams['ytick.labelsize'] = 18\n",
    "plt.ylabel('')\n",
    "plt.savefig('RELATORIO/RD.png', format='png')"
   ]
  },
  {
   "cell_type": "code",
   "execution_count": null,
   "metadata": {},
   "outputs": [],
   "source": [
    "sns.set_style('white')\n",
    "sns.barplot(x='RT', y='Time', data=tabela_times)\n",
    "plt.title('REBOTES TOTAIS', fontsize=20)\n",
    "plt.xlabel('')\n",
    "plt.rcParams['ytick.labelsize'] = 18\n",
    "plt.ylabel('')\n",
    "plt.savefig('RELATORIO/RT.png', format='png')"
   ]
  },
  {
   "cell_type": "code",
   "execution_count": null,
   "metadata": {},
   "outputs": [],
   "source": [
    "sns.set_style('white')\n",
    "sns.barplot(x='AS', y='Time', data=tabela_times)\n",
    "plt.title('ASSISTÊNCIAS', fontsize=20)\n",
    "plt.xlabel('')\n",
    "plt.rcParams['ytick.labelsize'] = 18\n",
    "plt.ylabel('')\n",
    "plt.savefig('RELATORIO/AS.png', format='png')"
   ]
  },
  {
   "cell_type": "code",
   "execution_count": null,
   "metadata": {},
   "outputs": [],
   "source": [
    "sns.set_style('white')\n",
    "sns.barplot(x='BR', y='Time', data=tabela_times)\n",
    "plt.title('BOLAS ROUBADAS', fontsize=20)\n",
    "plt.xlabel('')\n",
    "plt.rcParams['ytick.labelsize'] = 18\n",
    "plt.ylabel('')\n",
    "plt.savefig('RELATORIO/BR.png', format='png')"
   ]
  },
  {
   "cell_type": "code",
   "execution_count": null,
   "metadata": {},
   "outputs": [],
   "source": [
    "sns.set_style('white')\n",
    "sns.barplot(x='FC', y='Time', data=tabela_times)\n",
    "plt.title('FALTAS COMETIDAS', fontsize=20)\n",
    "plt.xlabel('')\n",
    "plt.rcParams['ytick.labelsize'] = 18\n",
    "plt.ylabel('')\n",
    "plt.savefig('RELATORIO/FC.png', format='png')"
   ]
  },
  {
   "cell_type": "code",
   "execution_count": null,
   "metadata": {},
   "outputs": [],
   "source": [
    "sns.set_style('white')\n",
    "sns.barplot(x='ER', y='Time', data=tabela_times)\n",
    "plt.title('ERROS', fontsize=20)\n",
    "plt.xlabel('')\n",
    "plt.rcParams['ytick.labelsize'] = 18\n",
    "plt.ylabel('Time', fontsize=20)\n",
    "plt.savefig('RELATORIO/ER.png', format='png')"
   ]
  },
  {
   "cell_type": "markdown",
   "metadata": {},
   "source": [
    "# Gráficos com as análises avançadas "
   ]
  },
  {
   "cell_type": "markdown",
   "metadata": {},
   "source": [
    "Para se comparar os indicadores técnicos precisamos olhar não só do jogo mas tb da liga "
   ]
  },
  {
   "cell_type": "code",
   "execution_count": null,
   "metadata": {},
   "outputs": [],
   "source": [
    "'''para_grafico_time_1 = analise[(analise['Time'] == nome_time_casa) & (analise['Nome'] == 'Equipe')]\n",
    "para_grafico_time_1.reset_index(drop=True, inplace=True)'''"
   ]
  },
  {
   "cell_type": "code",
   "execution_count": null,
   "metadata": {},
   "outputs": [],
   "source": [
    "# para_grafico_time_1.drop(['Oponente', 'Data', 'Casa/Fora', 'Classificatoria/Playoffs', 'Nome'], axis=1, inplace=True)"
   ]
  },
  {
   "cell_type": "markdown",
   "metadata": {},
   "source": [
    "### precisa acrescentar ao data frame os valore que representam a melhor temporda\n",
    "### Comparar com a perfeição "
   ]
  },
  {
   "cell_type": "code",
   "execution_count": null,
   "metadata": {},
   "outputs": [],
   "source": [
    "'''todas_temporadas = pd.DataFrame({'Time':['Melhor'],'EF_Pts':[0.700], 'EF_Pts_3':[0.700], 'EF_LL':[4.000], 'eFG_%':[0.7],\n",
    "                                 'TOV_%':[25.0], 'FTA/FGA':[0.2], 'Posse_de_Bola':[100.0], 'Offensive_Rating':[200.0],\n",
    "                                 'TS_%':[1.000], 'Ass/ER':[3.000], 'AS_Ratio':[30.0]})'''"
   ]
  },
  {
   "cell_type": "code",
   "execution_count": null,
   "metadata": {},
   "outputs": [],
   "source": [
    "# para_grafico_temporadas = pd.concat([para_grafico,todas_temporadas], ignore_index=True)"
   ]
  },
  {
   "cell_type": "code",
   "execution_count": null,
   "metadata": {},
   "outputs": [],
   "source": [
    "'''para_grafico_time_1'''"
   ]
  },
  {
   "cell_type": "code",
   "execution_count": null,
   "metadata": {},
   "outputs": [],
   "source": [
    "'''frequencia_certo = ['FR_3_Pts_C', 'FR_2_Pts_C', 'FR_LL_C']\n",
    "valores = [para_grafico_time_1['FR_3_Pts_C'][0], para_grafico_time_1['FR_2_Pts_C'][0], para_grafico_time_1['FR_LL_C'][0]]\n",
    "sns.set_style('whitegrid')\n",
    "sns.barplot(x=frequencia_certo, y=valores)\n",
    "plt.rcParams['xtick.labelsize'] = 16\n",
    "plt.rcParams['xtick.labelsize'] = 16'''"
   ]
  },
  {
   "cell_type": "code",
   "execution_count": null,
   "metadata": {},
   "outputs": [],
   "source": [
    "'''# Gráfico sobre a frequência relativa do arremessos certos e tentados \n",
    "FR_Pts_C = [para_grafico_time_1['FR_3_Pts_C'][0], para_grafico_time_1['FR_2_Pts_C'][0], para_grafico_time_1['FR_LL_C'][0]]\n",
    "FR_Pts_T = [para_grafico_time_1['FR_3_Pts_T'][0], para_grafico_time_1['FR_2_Pts_T'][0], para_grafico_time_1['FR_LL_T'][0]]\n",
    "\n",
    "\n",
    "# Definir a largura das barras\n",
    "barWidth = 0.25\n",
    "\n",
    "# Aumentar o gráfico\n",
    "plt.figure(figsize=(10,6))\n",
    "\n",
    "# Definir as posições das barras \n",
    "r1 = np.arange(len(FR_Pts_C))\n",
    "r2 = [x + barWidth for x in r1]\n",
    "\n",
    "# Estilo que vamos utilizar na barras\n",
    "sns.set_style('whitegrid')\n",
    "\n",
    "# Criar as barras \n",
    "plt.bar(r1, FR_Pts_C, color='red', width=barWidth, label='FR_Pts_C')\n",
    "plt.bar(r2, FR_Pts_T, color='blue', width=barWidth, label='FR_Pts_T')\n",
    "\n",
    "\n",
    "# Adicionando legendas as barras\n",
    "plt.title('Frequência Relativa do Arremessos Certos e Tentados', fontsize=18)\n",
    "plt.ylabel('Indicador Técnico/ Pontuação Total', fontsize=18)\n",
    "plt.xlabel('')\n",
    "plt.xticks([r + barWidth for r in range(len(FR_Pts_C))], ['FR_3_Pts', 'FR_2_Pts', 'FR_LL'],)\n",
    "\n",
    "# Criar a legenda e exibir o gráfico\n",
    "plt.legend(loc='upper right', bbox_to_anchor=(1.22, 1), prop={'size':14})\n",
    "plt.show()'''"
   ]
  },
  {
   "cell_type": "code",
   "execution_count": null,
   "metadata": {},
   "outputs": [],
   "source": [
    "'''# Gráfico sobre a frequência relativa do arremessos certos e tentados \n",
    "FR_Pts_C = [para_grafico_time_1['FR_3_Pts_C'][0], para_grafico_time_1['FR_2_Pts_C'][0], para_grafico_time_1['FR_LL_C'][0]]\n",
    "FR_Pts_T = [para_grafico_time_1['FR_3_Pts_T'][0], para_grafico_time_1['FR_2_Pts_T'][0], para_grafico_time_1['FR_LL_T'][0]]\n",
    "\n",
    "\n",
    "# Definir a largura das barras\n",
    "barWidth = 0.25\n",
    "\n",
    "# Aumentar o gráfico\n",
    "plt.figure(figsize=(10,6))\n",
    "\n",
    "# Definir as posições das barras \n",
    "r1 = np.arange(len(FR_Pts_C))\n",
    "r2 = [x + barWidth for x in r1]\n",
    "\n",
    "# Estilo que vamos utilizar na barras\n",
    "sns.set_style('whitegrid')\n",
    "\n",
    "# Criar as barras \n",
    "plt.bar(r1, FR_Pts_C, color='red', width=barWidth, label='FR_Pts_C')\n",
    "plt.bar(r2, FR_Pts_T, color='blue', width=barWidth, label='FR_Pts_T')\n",
    "\n",
    "\n",
    "# Adicionando legendas as barras\n",
    "plt.title('Frequência Relativa do Arremessos Certos e Tentados', fontsize=18)\n",
    "plt.ylabel('Indicador Técnico/ Pontuação Total', fontsize=18)\n",
    "plt.xlabel('')\n",
    "plt.xticks([r + barWidth for r in range(len(FR_Pts_C))], ['FR_3_Pts', 'FR_2_Pts', 'FR_LL'],)\n",
    "\n",
    "# Criar a legenda e exibir o gráfico\n",
    "plt.legend(loc='upper right', bbox_to_anchor=(1.22, 1), prop={'size':14})\n",
    "plt.show()'''"
   ]
  },
  {
   "cell_type": "markdown",
   "metadata": {},
   "source": [
    "### Time 2"
   ]
  },
  {
   "cell_type": "code",
   "execution_count": null,
   "metadata": {},
   "outputs": [],
   "source": [
    "'''para_grafico_time_2 = analise[(analise['Time'] == nome_time_fora) & (analise['Nome'] == 'Equipe')]\n",
    "para_grafico_time_2.reset_index(drop=True, inplace=True)'''"
   ]
  },
  {
   "cell_type": "code",
   "execution_count": null,
   "metadata": {},
   "outputs": [],
   "source": [
    "# para_grafico_time_2.drop(['Oponente', 'Data', 'Casa/Fora', 'Classificatoria/Playoffs', 'Nome'], axis=1, inplace=True)"
   ]
  },
  {
   "cell_type": "code",
   "execution_count": null,
   "metadata": {},
   "outputs": [],
   "source": [
    "'''frequencia_certo = ['FR_3_Pts_C', 'FR_2_Pts_C', 'FR_LL_C']\n",
    "valores = [para_grafico_time_2['FR_3_Pts_C'][0], para_grafico_time_2['FR_2_Pts_C'][0], para_grafico_time_2['FR_LL_C'][0]]\n",
    "sns.set_style('whitegrid')\n",
    "sns.barplot(x=frequencia_certo, y=valores)\n",
    "plt.rcParams['xtick.labelsize'] = 16\n",
    "plt.rcParams['xtick.labelsize'] = 16'''"
   ]
  },
  {
   "cell_type": "code",
   "execution_count": null,
   "metadata": {},
   "outputs": [],
   "source": [
    "'''# Gráfico sobre a frequência relativa do arremessos certos e tentados \n",
    "FR_Pts_C = [para_grafico_time_2['FR_3_Pts_C'][0], para_grafico_time_2['FR_2_Pts_C'][0], para_grafico_time_2['FR_LL_C'][0]]\n",
    "FR_Pts_T = [para_grafico_time_2['FR_3_Pts_T'][0], para_grafico_time_2['FR_2_Pts_T'][0], para_grafico_time_2['FR_LL_T'][0]]\n",
    "\n",
    "\n",
    "# Definir a largura das barras\n",
    "barWidth = 0.25\n",
    "\n",
    "# Aumentar o gráfico\n",
    "plt.figure(figsize=(10,6))\n",
    "\n",
    "# Definir as posições das barras \n",
    "r1 = np.arange(len(FR_Pts_C))\n",
    "r2 = [x + barWidth for x in r1]\n",
    "\n",
    "# Estilo que vamos utilizar na barras\n",
    "sns.set_style('whitegrid')\n",
    "\n",
    "# Criar as barras \n",
    "plt.bar(r1, FR_Pts_C, color='red', width=barWidth, label='FR_Pts_C')\n",
    "plt.bar(r2, FR_Pts_T, color='blue', width=barWidth, label='FR_Pts_T')\n",
    "\n",
    "\n",
    "# Adicionando legendas as barras\n",
    "plt.title('Frequência Relativa do Arremessos Certos e Tentados', fontsize=18)\n",
    "plt.ylabel('Indicador Técnico/ Pontuação Total', fontsize=18)\n",
    "plt.xlabel('')\n",
    "plt.xticks([r + barWidth for r in range(len(FR_Pts_C))], ['FR_3_Pts', 'FR_2_Pts', 'FR_LL'],)\n",
    "\n",
    "# Criar a legenda e exibir o gráfico\n",
    "plt.legend(loc='upper right', bbox_to_anchor=(1.22, 1), prop={'size':14})\n",
    "plt.show()'''"
   ]
  },
  {
   "cell_type": "markdown",
   "metadata": {},
   "source": [
    "# :)"
   ]
  },
  {
   "cell_type": "markdown",
   "metadata": {},
   "source": [
    "## jogos antigos podem apresentar erros no placar de cada quarto, pois se termina com fim da partida e não fim de quarto "
   ]
  },
  {
   "cell_type": "code",
   "execution_count": null,
   "metadata": {},
   "outputs": [],
   "source": [
    "ponto_quarto = df[(df['Indicador'] == 'fim_quarto')][::-1]\n",
    "ponto_quarto.reset_index(drop=True, inplace=True)\n",
    "ponto_quarto"
   ]
  },
  {
   "cell_type": "code",
   "execution_count": null,
   "metadata": {},
   "outputs": [],
   "source": [
    "inf_placar_casa = ponto_quarto['placar_casa'].diff()\n",
    "inf_placar_casa[0] = ponto_quarto['placar_casa'][0]\n",
    "inf_placar_casa = inf_placar_casa.astype(int)\n",
    "inf_placar_casa = inf_placar_casa.tolist()\n",
    "inf_placar_casa"
   ]
  },
  {
   "cell_type": "code",
   "execution_count": null,
   "metadata": {},
   "outputs": [],
   "source": [
    "inf_placar_fora = ponto_quarto['placar_visitante'].diff()\n",
    "inf_placar_fora[0] = ponto_quarto['placar_visitante'][0]\n",
    "inf_placar_fora = inf_placar_fora.astype(int)\n",
    "inf_placar_fora = inf_placar_fora.tolist()\n",
    "inf_placar_fora"
   ]
  },
  {
   "cell_type": "code",
   "execution_count": null,
   "metadata": {},
   "outputs": [],
   "source": [
    "placar_casa = sum(inf_placar_casa)"
   ]
  },
  {
   "cell_type": "code",
   "execution_count": null,
   "metadata": {},
   "outputs": [],
   "source": [
    "placar_fora = sum(inf_placar_fora)"
   ]
  },
  {
   "cell_type": "markdown",
   "metadata": {},
   "source": [
    "## mudanças \n",
    "\n",
    "* Colocar mais def na capa por tem jogos com prorrogação\n",
    "* as corres dos times devem sincronizar com os gráficos\n",
    "* acrescentar o valor de Eficiência do jogador\n",
    "* acrescentar os minutos em quadra do time e jogadores (usar 'ultima_linha')\n",
    "* mudar times para Arial\n",
    "* mudar a palheta do tempo de posse de bola para quente (mais tempo de bola), fria (menos tempo de bola)"
   ]
  },
  {
   "cell_type": "code",
   "execution_count": null,
   "metadata": {},
   "outputs": [],
   "source": [
    "pdf = FPDF('P', 'mm', 'A4')\n",
    "# Capa do relatório\n",
    "pdf.add_page()\n",
    "# Cabeçalho e Rodapé\n",
    "cabecalho_rodape(pdf, arquivo)\n",
    "# capa\n",
    "criar_titulo(pdf, data_hoje)\n",
    "fotos_dos_times(pdf, img_casa, nome_time_casa, img_fora, nome_time_fora)\n",
    "informacoes_do_placar(pdf, classificatoria, placar_casa, placar_fora, dia_do_jogo)\n",
    "grafico_quartos_normal(pdf, nome_time_casa, nome_time_fora)\n",
    "placar_do_quarto1(pdf, inf_placar_casa, inf_placar_fora)\n",
    "placar_do_quarto2(pdf, inf_placar_casa, inf_placar_fora)\n",
    "placar_do_quarto3(pdf, inf_placar_casa, inf_placar_fora)\n",
    "placar_do_quarto4(pdf, inf_placar_casa, inf_placar_fora)\n",
    "placar_final(pdf, placar_casa, placar_fora)\n",
    "informacoes_do_relatorio(pdf)\n",
    "\n",
    "\n",
    "# Primeira página de Análises \n",
    "pdf.add_page()\n",
    "# Cabeçalho e Rodapé\n",
    "cabecalho_rodape(pdf, arquivo)\n",
    "# Títulos das Análises\n",
    "comentarios_p1(pdf)\n",
    "# Gráficos das Análises linha 1\n",
    "graficos_analise_descrivita_l1(pdf, tabela_times, arquivo)\n",
    "# Gráficos das Análises linha 2\n",
    "graficos_analise_descrivita_l2(pdf, tabela_times, arquivo)\n",
    "comentarios_p1_1(pdf)\n",
    "# Gráficos das Análises linha 3\n",
    "graficos_analise_descrivita_l3(pdf, tabela_times, arquivo)\n",
    "# Gráficos das Análises linha 4\n",
    "graficos_analise_descrivita_l4(pdf, tabela_times, arquivo)\n",
    "comentarios_p1_2(pdf)\n",
    "\n",
    "# Segunda Página de Análises \n",
    "# pdf.add_page()\n",
    "# Cabeçalho e Rodapé\n",
    "# cabecalho_rodape(pdf, arquivo)\n",
    "# Comentarios das Análises Avançadas\n",
    "# comentarios_p2(pdf)\n",
    "# Gráficos das Análises\n",
    "# graficos_analise_avancadas_c1(pdf, tabela_times, arquivo)\n",
    "# graficos_analise_avancadas_c2(pdf, tabela_times, arquivo)\n",
    "# graficos_analise_avancadas_c3(pdf, tabela_times, arquivo)\n",
    "# considerações finais \n",
    "# comentarios_p2_1(pdf)\n",
    "\n",
    "\n",
    "# Terceira Página de Análises Time da Casa\n",
    "pdf.add_page()\n",
    "# Cabeçalho e Rodapé\n",
    "cabecalho_rodape(pdf, arquivo)\n",
    "# Título/Comentarios das Análises\n",
    "comentarios_p3(pdf, nome_time_casa)\n",
    "# Análise do time da casa\n",
    "melhores_jogadores_l1(pdf)\n",
    "melhores_jogadores_l2(pdf)\n",
    "# foto dos jogadores\n",
    "foto_melhor_pontuador(pdf, arquivo1, pontos_c_1)\n",
    "cinco_melhores_pontuadores(pdf, pontos_c_1)\n",
    "\n",
    "# foto dos melhores  porntuadores de três\n",
    "foto_melhor_pontuador_tres(pdf, arquivo1, tres_pontos_c_1)\n",
    "cinco_melhores_pontuadores_tres(pdf, tres_pontos_c_1)\n",
    "# foto dos melhores  porntuadores de dois\n",
    "foto_melhor_pontuador_dois(pdf, arquivo1, dois_pontos_c_1)\n",
    "cinco_melhores_pontuadores_dois(pdf, dois_pontos_c_1)\n",
    "# foto dos melhores assistentes\n",
    "foto_melhor_assistente(pdf, arquivo1, as_1)\n",
    "cinco_melhores_assistencias(pdf, as_1)\n",
    "# foto dos melhores reboteiros\n",
    "foto_melhor_rebotes(pdf, arquivo1, rt_1)\n",
    "cinco_melhores_reboteiros(pdf, rt_1)\n",
    "# foto dos melhores faltas recebidas\n",
    "foto_melhor_faltas_recebidas(pdf, arquivo1, fr_1)\n",
    "cinco_melhores_faltas_recebidas(pdf, fr_1)\n",
    "# tabela geral\n",
    "tabela_geral_casa(pdf, arquivo)\n",
    "\n",
    "# Quarta Página Períodos Positivos do Time da Casa\n",
    "pdf.add_page()\n",
    "# Cabeçalho e Rodapé\n",
    "cabecalho_rodape(pdf, arquivo)\n",
    "# Título/Comentarios das Positivos do Time da Casa\n",
    "comentarios_p4(pdf, nome_time_casa, tempos_time1)\n",
    "# Gráfico dos Períodos Positos do Time da Casa\n",
    "grafico_periodos_positivos_casa(pdf, arquivo)\n",
    "# Gráfico do tempo de Posse de Bola do Time da Casa \n",
    "grafico_tempo_posse_de_bola_casa(pdf, arquivo)\n",
    "# Comentários\n",
    "comentarios_p4_1(pdf)\n",
    "\n",
    "'''# Quinta Página Períodos Positivos do Time da Casa\n",
    "pdf.add_page()\n",
    "# Cabeçalho e Rodapé\n",
    "cabecalho_rodape(pdf, arquivo)\n",
    "# Título do cinco melores jogadores\n",
    "comentarios_p5(pdf, nome_time_casa)\n",
    "primeiro_quinteto_fotos_casa(pdf)\n",
    "segundo_quinteto_fotos_casa(pdf)\n",
    "terceiro_quinteto_fotos_casa(pdf)\n",
    "# Título das Melhores substituições\n",
    "comentarios_p5_1(pdf)\n",
    "# Jogadores e Comentários\n",
    "substituicao_1_casa(pdf)\n",
    "substituicao_2_casa(pdf)'''\n",
    "\n",
    "# Sexta Página de Análises Time da Casa\n",
    "pdf.add_page()\n",
    "# Cabeçalho e Rodapé\n",
    "cabecalho_rodape(pdf, arquivo)\n",
    "# Título/Comentarios das Análises\n",
    "comentarios_p3(pdf, nome_time_fora)\n",
    "# Análise do time da casa\n",
    "melhores_jogadores_l1(pdf)\n",
    "melhores_jogadores_l2(pdf)\n",
    "# foto dos jogadores\n",
    "foto_melhor_pontuador(pdf, arquivo2, pontos_c_2)\n",
    "cinco_melhores_pontuadores(pdf, pontos_c_2)\n",
    "# foto dos melhores  porntuadores de três\n",
    "foto_melhor_pontuador_tres(pdf, arquivo2, tres_pontos_c_2)\n",
    "cinco_melhores_pontuadores_tres(pdf, tres_pontos_c_2)\n",
    "# foto dos melhores  porntuadores de dois\n",
    "foto_melhor_pontuador_dois(pdf, arquivo2, dois_pontos_c_2)\n",
    "cinco_melhores_pontuadores_dois(pdf, dois_pontos_c_2)\n",
    "# foto dos melhores assistentes\n",
    "foto_melhor_assistente(pdf, arquivo2, as_2)\n",
    "cinco_melhores_assistencias(pdf, as_2)\n",
    "# foto dos melhores reboteiros\n",
    "foto_melhor_rebotes(pdf, arquivo2, rt_2)\n",
    "cinco_melhores_reboteiros(pdf, rt_2)\n",
    "# foto dos melhores faltas recebidas\n",
    "foto_melhor_faltas_recebidas(pdf, arquivo2, fr_2)\n",
    "cinco_melhores_faltas_recebidas(pdf, fr_2)\n",
    "# tabela geral\n",
    "tabela_geral_fora(pdf, arquivo)\n",
    "\n",
    "# Setima Página Períodos Positivos do Time da Fora\n",
    "pdf.add_page()\n",
    "# Cabeçalho e Rodapé\n",
    "cabecalho_rodape(pdf, arquivo)\n",
    "# Título/Comentarios das Positivos do Time da Fora\n",
    "comentarios_p7(pdf, nome_time_fora, tempos_time2)\n",
    "# Gráfico dos Períodos Positos do Time da Fora\n",
    "grafico_periodos_positivos_fora(pdf, arquivo)\n",
    "# Gráfico do tempo de Posse de Bola do Time da Fora \n",
    "grafico_tempo_posse_de_bola_fora(pdf, arquivo)\n",
    "# Comentários\n",
    "comentarios_p7_1(pdf)\n",
    "\n",
    "'''# Oitava Página Períodos Positivos do Time da Casa\n",
    "pdf.add_page()\n",
    "# Cabeçalho e Rodapé\n",
    "cabecalho_rodape(pdf, arquivo)\n",
    "# Título do cinco melores jogadores\n",
    "comentarios_p8(pdf, nome_time_fora)\n",
    "primeiro_quinteto_fotos_fora(pdf)\n",
    "segundo_quinteto_fotos_fora(pdf)\n",
    "terceiro_quinteto_fotos_fora(pdf)\n",
    "# Título das Melhores substituições\n",
    "comentarios_p8_1(pdf)\n",
    "# Jogadores e Comentários\n",
    "substituicao_1_fora(pdf)\n",
    "substituicao_2_fora(pdf)'''\n",
    "\n",
    "pdf.output('teste.pdf', 'F')"
   ]
  },
  {
   "cell_type": "markdown",
   "metadata": {
    "heading_collapsed": true
   },
   "source": [
    "# identificação dos quintetos em quadra "
   ]
  },
  {
   "cell_type": "code",
   "execution_count": null,
   "metadata": {
    "hidden": true
   },
   "outputs": [],
   "source": [
    "'''teste = df.copy()\n",
    "teste = teste[::-1]\n",
    "teste.reset_index(drop=True, inplace=True)\n",
    "# teste = teste[:200]\n",
    "teste'''"
   ]
  },
  {
   "cell_type": "code",
   "execution_count": null,
   "metadata": {
    "hidden": true
   },
   "outputs": [],
   "source": [
    "'''jogadores_time_a = []\n",
    "jogadores_time_b = []\n",
    "for i in range(12):\n",
    "    if teste['Time'][i] == sigla_time_a:\n",
    "        if teste['Indicador'][i] == 'substituicao_entra':\n",
    "            nome = teste['Nome'][i]\n",
    "            jogadores_time_a.append(nome)\n",
    "    else:\n",
    "        if teste['Indicador'][i] == 'substituicao_entra':\n",
    "            nome = teste['Nome'][i]\n",
    "            jogadores_time_b.append(nome)\n",
    "\n",
    "if len(jogadores_time_a) != 5:\n",
    "    print(erroooo)\n",
    "elif len(jogadores_time_b) != 5:\n",
    "    print(erroooo)\n",
    "else:\n",
    "    print('sim')'''"
   ]
  },
  {
   "cell_type": "code",
   "execution_count": null,
   "metadata": {
    "hidden": true
   },
   "outputs": [],
   "source": [
    "'''if teste['Indicador'][0] == 'inicio_partida':\n",
    "    teste = teste[11:]\n",
    "    teste.reset_index(drop=True, inplace=True)\n",
    "    print('sim')\n",
    "else:\n",
    "    teste = teste[10:]\n",
    "    teste.reset_index(drop=True, inplace=True)\n",
    "    print('parte 2')'''"
   ]
  },
  {
   "cell_type": "code",
   "execution_count": null,
   "metadata": {
    "hidden": true
   },
   "outputs": [],
   "source": [
    "'''equipe = []\n",
    "for i in range(len(teste)):\n",
    "    if teste['Time'][i] == sigla_time_b:\n",
    "        b = list(teste.loc[i, :].values)\n",
    "        if teste['Indicador'][i] == 'substituicao_sai':\n",
    "            nome_antigo = teste['Nome'][i]\n",
    "            print(jogadores_time_b)\n",
    "            jogadores_time_b = ['nome_antigo' if x==nome_antigo else x for x in jogadores_time_b]\n",
    "            print(i)\n",
    "            print(nome_antigo)\n",
    "            print(b)\n",
    "            jogadores_time_b.remove('nome_antigo')\n",
    "            equipe.append(jogadores_time_b)\n",
    "        elif teste['Indicador'][i] == 'substituicao_entra':\n",
    "            nome_novo = teste['Nome'][i]\n",
    "            jogadores_time_b.append(nome_novo)\n",
    "            equipe.append(jogadores_time_b)\n",
    "        else:\n",
    "            equipe.extend([jogadores_time_b])'''"
   ]
  },
  {
   "cell_type": "code",
   "execution_count": null,
   "metadata": {
    "hidden": true
   },
   "outputs": [],
   "source": []
  },
  {
   "cell_type": "code",
   "execution_count": null,
   "metadata": {
    "hidden": true
   },
   "outputs": [],
   "source": []
  },
  {
   "cell_type": "markdown",
   "metadata": {},
   "source": [
    "# Tudo Certo?"
   ]
  },
  {
   "cell_type": "code",
   "execution_count": null,
   "metadata": {},
   "outputs": [],
   "source": [
    "print(\"Sim\")"
   ]
  },
  {
   "cell_type": "code",
   "execution_count": null,
   "metadata": {},
   "outputs": [],
   "source": []
  }
 ],
 "metadata": {
  "kernelspec": {
   "display_name": "Python 3",
   "language": "python",
   "name": "python3"
  },
  "language_info": {
   "codemirror_mode": {
    "name": "ipython",
    "version": 3
   },
   "file_extension": ".py",
   "mimetype": "text/x-python",
   "name": "python",
   "nbconvert_exporter": "python",
   "pygments_lexer": "ipython3",
   "version": "3.8.8"
  },
  "toc": {
   "base_numbering": 1,
   "nav_menu": {},
   "number_sections": true,
   "sideBar": true,
   "skip_h1_title": false,
   "title_cell": "Table of Contents",
   "title_sidebar": "Contents",
   "toc_cell": false,
   "toc_position": {},
   "toc_section_display": true,
   "toc_window_display": false
  },
  "varInspector": {
   "cols": {
    "lenName": 16,
    "lenType": 16,
    "lenVar": 40
   },
   "kernels_config": {
    "python": {
     "delete_cmd_postfix": "",
     "delete_cmd_prefix": "del ",
     "library": "var_list.py",
     "varRefreshCmd": "print(var_dic_list())"
    },
    "r": {
     "delete_cmd_postfix": ") ",
     "delete_cmd_prefix": "rm(",
     "library": "var_list.r",
     "varRefreshCmd": "cat(var_dic_list()) "
    }
   },
   "types_to_exclude": [
    "module",
    "function",
    "builtin_function_or_method",
    "instance",
    "_Feature"
   ],
   "window_display": false
  }
 },
 "nbformat": 4,
 "nbformat_minor": 4
}
